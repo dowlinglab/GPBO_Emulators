{
 "cells": [
  {
   "cell_type": "code",
   "execution_count": 1,
   "id": "c95d200a",
   "metadata": {},
   "outputs": [
    {
     "name": "stderr",
     "output_type": "stream",
     "text": [
      "/afs/crc.nd.edu/user/m/mcarlozo/.conda/envs/Toy_Problem_env/lib/python3.9/site-packages/tqdm/auto.py:21: TqdmWarning: IProgress not found. Please update jupyter and ipywidgets. See https://ipywidgets.readthedocs.io/en/stable/user_install.html\n",
      "  from .autonotebook import tqdm as notebook_tqdm\n",
      "2024-03-11 11:41:36.063557: I external/local_tsl/tsl/cuda/cudart_stub.cc:31] Could not find cuda drivers on your machine, GPU will not be used.\n",
      "2024-03-11 11:41:36.120307: E external/local_xla/xla/stream_executor/cuda/cuda_dnn.cc:9261] Unable to register cuDNN factory: Attempting to register factory for plugin cuDNN when one has already been registered\n",
      "2024-03-11 11:41:36.120358: E external/local_xla/xla/stream_executor/cuda/cuda_fft.cc:607] Unable to register cuFFT factory: Attempting to register factory for plugin cuFFT when one has already been registered\n",
      "2024-03-11 11:41:36.122153: E external/local_xla/xla/stream_executor/cuda/cuda_blas.cc:1515] Unable to register cuBLAS factory: Attempting to register factory for plugin cuBLAS when one has already been registered\n",
      "2024-03-11 11:41:36.134850: I tensorflow/core/platform/cpu_feature_guard.cc:182] This TensorFlow binary is optimized to use available CPU instructions in performance-critical operations.\n",
      "To enable the following instructions: AVX2 FMA, in other operations, rebuild TensorFlow with the appropriate compiler flags.\n",
      "2024-03-11 11:41:38.143087: W tensorflow/compiler/tf2tensorrt/utils/py_utils.cc:38] TF-TRT Warning: Could not find TensorRT\n"
     ]
    },
    {
     "ename": "KeyboardInterrupt",
     "evalue": "",
     "output_type": "error",
     "traceback": [
      "\u001b[0;31m---------------------------------------------------------------------------\u001b[0m",
      "\u001b[0;31mKeyboardInterrupt\u001b[0m                         Traceback (most recent call last)",
      "Input \u001b[0;32mIn [1]\u001b[0m, in \u001b[0;36m<cell line: 13>\u001b[0;34m()\u001b[0m\n\u001b[1;32m     11\u001b[0m \u001b[38;5;28;01mimport\u001b[39;00m \u001b[38;5;21;01mbo_methods_lib\u001b[39;00m\n\u001b[1;32m     12\u001b[0m \u001b[38;5;28;01mfrom\u001b[39;00m \u001b[38;5;21;01mbo_methods_lib\u001b[39;00m\u001b[38;5;21;01m.\u001b[39;00m\u001b[38;5;21;01mbo_methods_lib\u001b[39;00m\u001b[38;5;21;01m.\u001b[39;00m\u001b[38;5;21;01mGPBO_Classes_New\u001b[39;00m \u001b[38;5;28;01mimport\u001b[39;00m \u001b[38;5;241m*\u001b[39m \u001b[38;5;66;03m#Fix this later\u001b[39;00m\n\u001b[0;32m---> 13\u001b[0m \u001b[38;5;28;01mfrom\u001b[39;00m \u001b[38;5;21;01mbo_methods_lib\u001b[39;00m\u001b[38;5;21;01m.\u001b[39;00m\u001b[38;5;21;01mbo_methods_lib\u001b[39;00m\u001b[38;5;21;01m.\u001b[39;00m\u001b[38;5;21;01mGPBO_Class_fxns\u001b[39;00m \u001b[38;5;28;01mimport\u001b[39;00m \u001b[38;5;241m*\u001b[39m \u001b[38;5;66;03m#Fix this later\u001b[39;00m\n\u001b[1;32m     14\u001b[0m \u001b[38;5;28;01mfrom\u001b[39;00m \u001b[38;5;21;01mbo_methods_lib\u001b[39;00m\u001b[38;5;21;01m.\u001b[39;00m\u001b[38;5;21;01mbo_methods_lib\u001b[39;00m\u001b[38;5;21;01m.\u001b[39;00m\u001b[38;5;21;01manalyze_data\u001b[39;00m \u001b[38;5;28;01mimport\u001b[39;00m \u001b[38;5;241m*\u001b[39m \u001b[38;5;66;03m#Fix this later\u001b[39;00m\n\u001b[1;32m     15\u001b[0m \u001b[38;5;28;01mfrom\u001b[39;00m \u001b[38;5;21;01mbo_methods_lib\u001b[39;00m\u001b[38;5;21;01m.\u001b[39;00m\u001b[38;5;21;01mbo_methods_lib\u001b[39;00m\u001b[38;5;21;01m.\u001b[39;00m\u001b[38;5;21;01mGPBO_Classes_plotters\u001b[39;00m \u001b[38;5;28;01mimport\u001b[39;00m \u001b[38;5;241m*\u001b[39m \u001b[38;5;66;03m#Fix this later\u001b[39;00m\n",
      "File \u001b[0;32m/scratch365/mcarlozo/Toy_Problem/bo_methods_lib/bo_methods_lib/GPBO_Class_fxns.py:7\u001b[0m, in \u001b[0;36m<module>\u001b[0;34m\u001b[0m\n\u001b[1;32m      5\u001b[0m \u001b[38;5;28;01mimport\u001b[39;00m \u001b[38;5;21;01mbo_methods_lib\u001b[39;00m\n\u001b[1;32m      6\u001b[0m \u001b[38;5;28;01mfrom\u001b[39;00m \u001b[38;5;21;01m.\u001b[39;00m\u001b[38;5;21;01mGPBO_Classes_New\u001b[39;00m \u001b[38;5;28;01mimport\u001b[39;00m Simulator\n\u001b[0;32m----> 7\u001b[0m \u001b[38;5;28;01mfrom\u001b[39;00m \u001b[38;5;21;01mpyomo\u001b[39;00m\u001b[38;5;21;01m.\u001b[39;00m\u001b[38;5;21;01menviron\u001b[39;00m \u001b[38;5;28;01mimport\u001b[39;00m \u001b[38;5;241m*\u001b[39m\n\u001b[1;32m      9\u001b[0m \u001b[38;5;28;01mdef\u001b[39;00m \u001b[38;5;21msimulator_helper_test_fxns\u001b[39m(cs_num, noise_mean, noise_std, seed):\n\u001b[1;32m     10\u001b[0m     \u001b[38;5;124;03m\"\"\"\u001b[39;00m\n\u001b[1;32m     11\u001b[0m \u001b[38;5;124;03m    Sets the model for calculating y based off of the case study identifier.\u001b[39;00m\n\u001b[1;32m     12\u001b[0m \u001b[38;5;124;03m    Parameters\u001b[39;00m\n\u001b[0;32m   (...)\u001b[0m\n\u001b[1;32m     21\u001b[0m \u001b[38;5;124;03m    Simulator(), Simulator() class object\u001b[39;00m\n\u001b[1;32m     22\u001b[0m \u001b[38;5;124;03m    \"\"\"\u001b[39;00m\n",
      "File \u001b[0;32m~/.conda/envs/Toy_Problem_env/lib/python3.9/site-packages/pyomo/environ/__init__.py:84\u001b[0m, in \u001b[0;36m<module>\u001b[0;34m\u001b[0m\n\u001b[1;32m     80\u001b[0m         pkg \u001b[38;5;241m=\u001b[39m _sys\u001b[38;5;241m.\u001b[39mmodules[pname]\n\u001b[1;32m     81\u001b[0m         pkg\u001b[38;5;241m.\u001b[39mload()\n\u001b[0;32m---> 84\u001b[0m \u001b[43m_import_packages\u001b[49m\u001b[43m(\u001b[49m\u001b[43m)\u001b[49m\n\u001b[1;32m     86\u001b[0m \u001b[38;5;66;03m#\u001b[39;00m\n\u001b[1;32m     87\u001b[0m \u001b[38;5;66;03m# Expose the symbols from pyomo.core\u001b[39;00m\n\u001b[1;32m     88\u001b[0m \u001b[38;5;66;03m#\u001b[39;00m\n\u001b[1;32m     89\u001b[0m \u001b[38;5;28;01mfrom\u001b[39;00m \u001b[38;5;21;01mpyomo\u001b[39;00m\u001b[38;5;21;01m.\u001b[39;00m\u001b[38;5;21;01mdataportal\u001b[39;00m \u001b[38;5;28;01mimport\u001b[39;00m DataPortal\n",
      "File \u001b[0;32m~/.conda/envs/Toy_Problem_env/lib/python3.9/site-packages/pyomo/environ/__init__.py:64\u001b[0m, in \u001b[0;36m_import_packages\u001b[0;34m()\u001b[0m\n\u001b[1;32m     62\u001b[0m pname \u001b[38;5;241m=\u001b[39m _package \u001b[38;5;241m+\u001b[39m \u001b[38;5;124m'\u001b[39m\u001b[38;5;124m.plugins\u001b[39m\u001b[38;5;124m'\u001b[39m\n\u001b[1;32m     63\u001b[0m \u001b[38;5;28;01mtry\u001b[39;00m:\n\u001b[0;32m---> 64\u001b[0m     \u001b[43m_do_import\u001b[49m\u001b[43m(\u001b[49m\u001b[43mpname\u001b[49m\u001b[43m)\u001b[49m\n\u001b[1;32m     65\u001b[0m \u001b[38;5;28;01mexcept\u001b[39;00m \u001b[38;5;167;01mImportError\u001b[39;00m:\n\u001b[1;32m     66\u001b[0m     exctype, err, tb \u001b[38;5;241m=\u001b[39m _sys\u001b[38;5;241m.\u001b[39mexc_info()  \u001b[38;5;66;03m# BUG?\u001b[39;00m\n",
      "File \u001b[0;32m~/.conda/envs/Toy_Problem_env/lib/python3.9/site-packages/pyomo/environ/__init__.py:18\u001b[0m, in \u001b[0;36m_do_import\u001b[0;34m(pkg_name)\u001b[0m\n\u001b[1;32m     17\u001b[0m \u001b[38;5;28;01mdef\u001b[39;00m \u001b[38;5;21m_do_import\u001b[39m(pkg_name):\n\u001b[0;32m---> 18\u001b[0m     \u001b[43mimportlib\u001b[49m\u001b[38;5;241;43m.\u001b[39;49m\u001b[43mimport_module\u001b[49m\u001b[43m(\u001b[49m\u001b[43mpkg_name\u001b[49m\u001b[43m)\u001b[49m\n",
      "File \u001b[0;32m~/.conda/envs/Toy_Problem_env/lib/python3.9/importlib/__init__.py:127\u001b[0m, in \u001b[0;36mimport_module\u001b[0;34m(name, package)\u001b[0m\n\u001b[1;32m    125\u001b[0m             \u001b[38;5;28;01mbreak\u001b[39;00m\n\u001b[1;32m    126\u001b[0m         level \u001b[38;5;241m+\u001b[39m\u001b[38;5;241m=\u001b[39m \u001b[38;5;241m1\u001b[39m\n\u001b[0;32m--> 127\u001b[0m \u001b[38;5;28;01mreturn\u001b[39;00m \u001b[43m_bootstrap\u001b[49m\u001b[38;5;241;43m.\u001b[39;49m\u001b[43m_gcd_import\u001b[49m\u001b[43m(\u001b[49m\u001b[43mname\u001b[49m\u001b[43m[\u001b[49m\u001b[43mlevel\u001b[49m\u001b[43m:\u001b[49m\u001b[43m]\u001b[49m\u001b[43m,\u001b[49m\u001b[43m \u001b[49m\u001b[43mpackage\u001b[49m\u001b[43m,\u001b[49m\u001b[43m \u001b[49m\u001b[43mlevel\u001b[49m\u001b[43m)\u001b[49m\n",
      "File \u001b[0;32m~/.conda/envs/Toy_Problem_env/lib/python3.9/site-packages/pyomo/core/__init__.py:12\u001b[0m, in \u001b[0;36m<module>\u001b[0;34m\u001b[0m\n\u001b[1;32m      1\u001b[0m \u001b[38;5;66;03m#  ___________________________________________________________________________\u001b[39;00m\n\u001b[1;32m      2\u001b[0m \u001b[38;5;66;03m#\u001b[39;00m\n\u001b[1;32m      3\u001b[0m \u001b[38;5;66;03m#  Pyomo: Python Optimization Modeling Objects\u001b[39;00m\n\u001b[0;32m   (...)\u001b[0m\n\u001b[1;32m      9\u001b[0m \u001b[38;5;66;03m#  This software is distributed under the 3-clause BSD License.\u001b[39;00m\n\u001b[1;32m     10\u001b[0m \u001b[38;5;66;03m#  ___________________________________________________________________________\u001b[39;00m\n\u001b[0;32m---> 12\u001b[0m \u001b[38;5;28;01mfrom\u001b[39;00m \u001b[38;5;21;01mpyomo\u001b[39;00m\u001b[38;5;21;01m.\u001b[39;00m\u001b[38;5;21;01mcore\u001b[39;00m\u001b[38;5;21;01m.\u001b[39;00m\u001b[38;5;21;01mexpr\u001b[39;00m\u001b[38;5;21;01m.\u001b[39;00m\u001b[38;5;21;01mnumvalue\u001b[39;00m \u001b[38;5;28;01mimport\u001b[39;00m (\n\u001b[1;32m     13\u001b[0m     value,\n\u001b[1;32m     14\u001b[0m     is_constant,\n\u001b[1;32m     15\u001b[0m     is_fixed,\n\u001b[1;32m     16\u001b[0m     is_variable_type,\n\u001b[1;32m     17\u001b[0m     is_potentially_variable,\n\u001b[1;32m     18\u001b[0m     NumericValue,\n\u001b[1;32m     19\u001b[0m     ZeroConstant,\n\u001b[1;32m     20\u001b[0m     native_numeric_types,\n\u001b[1;32m     21\u001b[0m     native_types,\n\u001b[1;32m     22\u001b[0m     polynomial_degree,\n\u001b[1;32m     23\u001b[0m )\n\u001b[1;32m     25\u001b[0m \u001b[38;5;28;01mfrom\u001b[39;00m \u001b[38;5;21;01mpyomo\u001b[39;00m\u001b[38;5;21;01m.\u001b[39;00m\u001b[38;5;21;01mcore\u001b[39;00m\u001b[38;5;21;01m.\u001b[39;00m\u001b[38;5;21;01mexpr\u001b[39;00m\u001b[38;5;21;01m.\u001b[39;00m\u001b[38;5;21;01mboolean_value\u001b[39;00m \u001b[38;5;28;01mimport\u001b[39;00m BooleanValue\n\u001b[1;32m     27\u001b[0m \u001b[38;5;28;01mfrom\u001b[39;00m \u001b[38;5;21;01mpyomo\u001b[39;00m\u001b[38;5;21;01m.\u001b[39;00m\u001b[38;5;21;01mcore\u001b[39;00m\u001b[38;5;21;01m.\u001b[39;00m\u001b[38;5;21;01mexpr\u001b[39;00m \u001b[38;5;28;01mimport\u001b[39;00m (\n\u001b[1;32m     28\u001b[0m     linear_expression,\n\u001b[1;32m     29\u001b[0m     nonlinear_expression,\n\u001b[0;32m   (...)\u001b[0m\n\u001b[1;32m     58\u001b[0m     Expr_if,\n\u001b[1;32m     59\u001b[0m )\n",
      "File \u001b[0;32m~/.conda/envs/Toy_Problem_env/lib/python3.9/site-packages/pyomo/core/expr/__init__.py:20\u001b[0m, in \u001b[0;36m<module>\u001b[0;34m\u001b[0m\n\u001b[1;32m      1\u001b[0m \u001b[38;5;66;03m#  ___________________________________________________________________________\u001b[39;00m\n\u001b[1;32m      2\u001b[0m \u001b[38;5;66;03m#\u001b[39;00m\n\u001b[1;32m      3\u001b[0m \u001b[38;5;66;03m#  Pyomo: Python Optimization Modeling Objects\u001b[39;00m\n\u001b[0;32m   (...)\u001b[0m\n\u001b[1;32m     17\u001b[0m \u001b[38;5;66;03m# symbols that are used by developers.\u001b[39;00m\n\u001b[1;32m     18\u001b[0m \u001b[38;5;66;03m#\u001b[39;00m\n\u001b[0;32m---> 20\u001b[0m \u001b[38;5;28;01mfrom\u001b[39;00m \u001b[38;5;21;01m.\u001b[39;00m \u001b[38;5;28;01mimport\u001b[39;00m (\n\u001b[1;32m     21\u001b[0m     numvalue,\n\u001b[1;32m     22\u001b[0m     visitor,\n\u001b[1;32m     23\u001b[0m     numeric_expr,\n\u001b[1;32m     24\u001b[0m     boolean_value,\n\u001b[1;32m     25\u001b[0m     logical_expr,\n\u001b[1;32m     26\u001b[0m     relational_expr,\n\u001b[1;32m     27\u001b[0m )\n\u001b[1;32m     29\u001b[0m \u001b[38;5;66;03m#\u001b[39;00m\n\u001b[1;32m     30\u001b[0m \u001b[38;5;66;03m# FIXME: remove circular dependencies between relational_expr and numeric_expr\u001b[39;00m\n\u001b[1;32m     31\u001b[0m \u001b[38;5;66;03m#\u001b[39;00m\n\u001b[1;32m     32\u001b[0m \n\u001b[1;32m     33\u001b[0m \u001b[38;5;66;03m# Initialize relational expression functions\u001b[39;00m\n\u001b[1;32m     34\u001b[0m numeric_expr\u001b[38;5;241m.\u001b[39m_generate_relational_expression \u001b[38;5;241m=\u001b[39m (\n\u001b[1;32m     35\u001b[0m     relational_expr\u001b[38;5;241m.\u001b[39m_generate_relational_expression\n\u001b[1;32m     36\u001b[0m )\n",
      "File \u001b[0;32m<frozen importlib._bootstrap>:1007\u001b[0m, in \u001b[0;36m_find_and_load\u001b[0;34m(name, import_)\u001b[0m\n",
      "File \u001b[0;32m<frozen importlib._bootstrap>:982\u001b[0m, in \u001b[0;36m_find_and_load_unlocked\u001b[0;34m(name, import_)\u001b[0m\n",
      "File \u001b[0;32m<frozen importlib._bootstrap>:925\u001b[0m, in \u001b[0;36m_find_spec\u001b[0;34m(name, path, target)\u001b[0m\n",
      "File \u001b[0;32m<frozen importlib._bootstrap_external>:1423\u001b[0m, in \u001b[0;36mfind_spec\u001b[0;34m(cls, fullname, path, target)\u001b[0m\n",
      "File \u001b[0;32m<frozen importlib._bootstrap_external>:1395\u001b[0m, in \u001b[0;36m_get_spec\u001b[0;34m(cls, fullname, path, target)\u001b[0m\n",
      "File \u001b[0;32m<frozen importlib._bootstrap_external>:1526\u001b[0m, in \u001b[0;36mfind_spec\u001b[0;34m(self, fullname, target)\u001b[0m\n",
      "File \u001b[0;32m<frozen importlib._bootstrap_external>:1569\u001b[0m, in \u001b[0;36m_fill_cache\u001b[0;34m(self)\u001b[0m\n",
      "\u001b[0;31mKeyboardInterrupt\u001b[0m: "
     ]
    }
   ],
   "source": [
    "import sys\n",
    "import gpytorch\n",
    "import numpy as np\n",
    "import pandas as pd\n",
    "import torch\n",
    "from datetime import datetime\n",
    "from scipy.stats import qmc\n",
    "import itertools\n",
    "from itertools import combinations_with_replacement, combinations, permutations\n",
    "\n",
    "import bo_methods_lib\n",
    "from bo_methods_lib.bo_methods_lib.GPBO_Classes_New import * #Fix this later\n",
    "from bo_methods_lib.bo_methods_lib.GPBO_Class_fxns import * #Fix this later\n",
    "from bo_methods_lib.bo_methods_lib.analyze_data import * #Fix this later\n",
    "from bo_methods_lib.bo_methods_lib.GPBO_Classes_plotters import * #Fix this later\n",
    "import pympler\n",
    "import pickle\n",
    "import signac\n",
    "\n",
    "from pympler import asizeof\n",
    "\n",
    "from matplotlib import pyplot as plt\n",
    "\n",
    "import matplotlib as mpl\n",
    "mpl.rcParams['figure.dpi'] = 200\n",
    "\n",
    "#Ignore inconcistent version warning\n",
    "import warnings\n",
    "# from sklearn.exceptions import InconsistentVersionWarning\n",
    "# warnings.filterwarnings(action='ignore', category=InconsistentVersionWarning)"
   ]
  },
  {
   "cell_type": "code",
   "execution_count": null,
   "id": "77eadf95",
   "metadata": {},
   "outputs": [],
   "source": [
    "#From signac\n",
    "import signac\n",
    "meth_name_val_list = [1, 2, 3, 4, 5, 6]\n",
    "\n",
    "criteria_dict = {\"cs_name_val\" : 1,\n",
    "                 \"ep_enum_val\": {\"$gte\": 1},\n",
    "                 \"meth_name_val\": {\"$in\": meth_name_val_list}}\n",
    "\n",
    "criteria_dict = {\"cs_name_val\" : 1,\n",
    "                 \"ep_enum_val\": 1,\n",
    "                 \"meth_name_val\": {\"$in\": meth_name_val_list}}\n",
    "\n",
    "criteria_dict = {\"cs_name_val\" : 15,\n",
    "                 \"gp_package\":{\"$exists\": True},\n",
    "                 \"meth_name_val\": {\"$in\": [1,2,3,4,5,6]}}\n",
    "# \"param_name_str\":{\"$exists\": False}\n",
    "project = signac.get_project()\n",
    "save_csv = False\n",
    "save_figs = False\n",
    "analyzer = General_Analysis(criteria_dict, project, save_csv)\n",
    "plotters = Plotters(analyzer, save_figs)"
   ]
  },
  {
   "cell_type": "code",
   "execution_count": null,
   "id": "f169d99c",
   "metadata": {},
   "outputs": [],
   "source": [
    "plotters.plot_one_obj_all_methods(\"min_sse\")"
   ]
  },
  {
   "cell_type": "code",
   "execution_count": null,
   "id": "d917f9a2",
   "metadata": {},
   "outputs": [],
   "source": [
    "plotters.make_parity_plots()"
   ]
  },
  {
   "cell_type": "code",
   "execution_count": null,
   "id": "9e66449f",
   "metadata": {},
   "outputs": [],
   "source": [
    "# df_all_jobs, job_list, theta_true = analyzer.get_df_all_jobs()\n",
    "df_best, job_list_best = analyzer.get_best_data()\n",
    "\n",
    "for i in range(len(job_list_best)): \n",
    "    print(job_list_best[i].id)\n",
    "    \n",
    "df_best"
   ]
  },
  {
   "cell_type": "code",
   "execution_count": null,
   "id": "63a16381",
   "metadata": {},
   "outputs": [],
   "source": [
    "criteria_dict = {\"cs_name_val\" : 17,\n",
    "                 \"meth_name_val\": 1}\n",
    "tot_runs = 1000\n",
    "ls_analyzer = LS_Analysis(criteria_dict, project, save_csv)\n",
    "ls_analyzer.num_x = 10\n",
    "local_mins = ls_analyzer.categ_min(tot_runs)\n",
    "local_mins"
   ]
  },
  {
   "cell_type": "code",
   "execution_count": null,
   "id": "6b0c8f5f",
   "metadata": {},
   "outputs": [],
   "source": [
    "ls_analyzer = LS_Analysis(criteria_dict, project, save_csv)\n",
    "ls_results = ls_analyzer.least_squares_analysis()\n",
    "ls_results_sort = ls_results.sort_values(by=['Min Obj Cum.', 'Iter'], ascending=True)\n",
    "ls_runs = ls_results_sort.drop_duplicates(subset=\"Run\", keep='first')\n",
    "ls_runs\n",
    "# ls_results\n",
    "# ls_results[ls_results[\"Run\"] == 1]"
   ]
  },
  {
   "cell_type": "code",
   "execution_count": null,
   "id": "f7e6a916",
   "metadata": {},
   "outputs": [],
   "source": [
    "print(local_mins[\"Theta Min Obj Cum.\"].values)"
   ]
  },
  {
   "cell_type": "code",
   "execution_count": null,
   "id": "b25d817d",
   "metadata": {},
   "outputs": [],
   "source": [
    "plotters.plot_hypers(job_list_best[1], title = None)"
   ]
  },
  {
   "cell_type": "code",
   "execution_count": null,
   "id": "97079033",
   "metadata": {},
   "outputs": [],
   "source": [
    "plotters.plot_objs_all_methods([\"min_sse\", \"sse\"])"
   ]
  },
  {
   "cell_type": "code",
   "execution_count": null,
   "id": "2a91b50e",
   "metadata": {},
   "outputs": [],
   "source": [
    "plotters.plot_thetas(job_list_best[0], \"min_sse\", title = None)"
   ]
  },
  {
   "cell_type": "code",
   "execution_count": null,
   "id": "0ab01617",
   "metadata": {},
   "outputs": [],
   "source": [
    "# title = \"Heat Map Pair \" + z_choice\n",
    "levels = [100, 100, 100, 100, 100, 100]\n",
    "pair = 0\n",
    "z_choice = \"sse_mean\"\n",
    "plotters.plot_hms_all_methods(pair, z_choice, levels, log_data = False, title = None)"
   ]
  },
  {
   "cell_type": "code",
   "execution_count": null,
   "id": "ae5d5027",
   "metadata": {},
   "outputs": [],
   "source": [
    "levels = [100, 100, 100, 100]\n",
    "pair = 0\n",
    "z_choice = [\"sse_sim\", \"sse_mean\", \"sse_var\", \"ei\"]\n",
    "plotters.plot_hms_gp_compare(job_list_best[0], df_best[\"Run Number\"].iloc[0], df_best[\"BO Iter\"].iloc[0], \n",
    "                             pair, z_choice, levels, log_data = False, title = None)"
   ]
  },
  {
   "cell_type": "code",
   "execution_count": null,
   "id": "97b6e55e",
   "metadata": {
    "scrolled": false
   },
   "outputs": [],
   "source": [
    "#Make Heat maps for all pairs\n",
    "z_choices = [\"sse_sim\", \"sse_mean\", \"sse_var\", \"ei\"]\n",
    "levels = [100,100,100,100]\n",
    "\n",
    "#Loop over best jobs\n",
    "for i in range(len(job_list_best)):   \n",
    "    #Get jobs, runs, and iters to examine\n",
    "    job = job_list_best[i]\n",
    "    run_num = df_best[\"Run Number\"].iloc[i]\n",
    "    bo_iter = df_best[\"BO Iter\"].iloc[i]\n",
    "    \n",
    "    #Back out number of parameters\n",
    "    string_val = df_best[\"Theta Min Obj\"].iloc[0]\n",
    "    try:\n",
    "        numbers = [float(num) for num in string_val.replace('[', '').replace(']', '').split()]\n",
    "    except:\n",
    "        numbers = [float(num) for num in string_val]\n",
    "        \n",
    "    #Create list of parameter pair combinations\n",
    "    dim_theta = len(np.array(numbers).reshape(-1, 1))\n",
    "    dim_list = np.linspace(0, dim_theta-1, dim_theta)\n",
    "    pairs = len((list(combinations(dim_list, 2))))\n",
    "    \n",
    "    #Loop over parameter pairs\n",
    "    for pair in range(pairs):\n",
    "        plotters.plot_hms_gp_compare(job, run_num, bo_iter, pair, z_choices, levels)"
   ]
  },
  {
   "cell_type": "code",
   "execution_count": null,
   "id": "53098d57",
   "metadata": {},
   "outputs": [],
   "source": []
  }
 ],
 "metadata": {
  "kernelspec": {
   "display_name": "Python 3 (ipykernel)",
   "language": "python",
   "name": "python3"
  },
  "language_info": {
   "codemirror_mode": {
    "name": "ipython",
    "version": 3
   },
   "file_extension": ".py",
   "mimetype": "text/x-python",
   "name": "python",
   "nbconvert_exporter": "python",
   "pygments_lexer": "ipython3",
   "version": "3.9.12"
  }
 },
 "nbformat": 4,
 "nbformat_minor": 5
}
