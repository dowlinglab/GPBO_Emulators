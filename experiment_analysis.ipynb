{
 "cells": [
  {
   "cell_type": "code",
   "execution_count": null,
   "id": "c95d200a",
   "metadata": {},
   "outputs": [],
   "source": [
    "import sys\n",
    "import gpytorch\n",
    "import numpy as np\n",
    "import pandas as pd\n",
    "import torch\n",
    "from datetime import datetime\n",
    "from scipy.stats import qmc\n",
    "import itertools\n",
    "from itertools import combinations_with_replacement, combinations, permutations\n",
    "\n",
    "import bo_methods_lib\n",
    "from bo_methods_lib.bo_methods_lib.GPBO_Classes_New import * #Fix this later\n",
    "from bo_methods_lib.bo_methods_lib.GPBO_Class_fxns import * #Fix this later\n",
    "from bo_methods_lib.bo_methods_lib.analyze_data import * #Fix this later\n",
    "from bo_methods_lib.bo_methods_lib.GPBO_Classes_plotters import * #Fix this later\n",
    "import pympler\n",
    "import pickle\n",
    "import signac\n",
    "\n",
    "from pympler import asizeof\n",
    "\n",
    "from matplotlib import pyplot as plt\n",
    "\n",
    "import matplotlib as mpl\n",
    "mpl.rcParams['figure.dpi'] = 200\n",
    "\n",
    "#Ignore inconcistent version warning\n",
    "import warnings\n",
    "# from sklearn.exceptions import InconsistentVersionWarning\n",
    "# warnings.filterwarnings(action='ignore', category=InconsistentVersionWarning)"
   ]
  },
  {
   "cell_type": "code",
   "execution_count": null,
   "id": "77eadf95",
   "metadata": {},
   "outputs": [],
   "source": [
    "#From signac\n",
    "import signac\n",
    "meth_name_val_list = [1, 2, 3, 4, 5, 6, 7]\n",
    "\n",
    "criteria_dict = {\"cs_name_val\" : 1,\n",
    "                 \"ep_enum_val\": {\"$gte\": 1},\n",
    "                 \"meth_name_val\": {\"$in\": meth_name_val_list}}\n",
    "\n",
    "criteria_dict = {\"cs_name_val\" : 1,\n",
    "                 \"ep_enum_val\": 1,\n",
    "                 \"meth_name_val\": {\"$in\": meth_name_val_list}}\n",
    "\n",
    "criteria_dict = {\"cs_name_val\" : 1,\n",
    "                 \"gp_package\":\"gpflow\",\n",
    "                 \"meth_name_val\": {\"$in\": [1,2,3,4,5,6,7]}}\n",
    "# \"param_name_str\":{\"$exists\": False}\n",
    "project = signac.get_project()\n",
    "save_csv = False\n",
    "save_figs = False\n",
    "analyzer = General_Analysis(criteria_dict, project, save_csv)\n",
    "plotters = Plotters(analyzer, save_figs)"
   ]
  },
  {
   "cell_type": "code",
   "execution_count": null,
   "id": "9e66449f",
   "metadata": {},
   "outputs": [],
   "source": [
    "# df_all_jobs, job_list, theta_true = analyzer.get_df_all_jobs(save_csv)\n",
    "df_best, job_list_best = analyzer.get_best_data()\n",
    "\n",
    "for i in range(len(job_list_best)): \n",
    "    print(job_list_best[i].id)\n",
    "    \n",
    "df_best"
   ]
  },
  {
   "cell_type": "code",
   "execution_count": null,
   "id": "2a91b50e",
   "metadata": {},
   "outputs": [],
   "source": [
    "plotters.plot_thetas(job_list_best[0], \"min_sse\", title = None)"
   ]
  },
  {
   "cell_type": "code",
   "execution_count": null,
   "id": "5dd377f1",
   "metadata": {},
   "outputs": [],
   "source": [
    "print(df_best[\"Theta Min Obj\"].values)"
   ]
  },
  {
   "cell_type": "code",
   "execution_count": null,
   "id": "f169d99c",
   "metadata": {},
   "outputs": [],
   "source": [
    "plotters.plot_one_obj_all_methods(\"acq\")"
   ]
  },
  {
   "cell_type": "code",
   "execution_count": null,
   "id": "d917f9a2",
   "metadata": {},
   "outputs": [],
   "source": [
    "plotters.make_parity_plots()"
   ]
  },
  {
   "cell_type": "code",
   "execution_count": null,
   "id": "63a16381",
   "metadata": {},
   "outputs": [],
   "source": [
    "tot_runs = 1000\n",
    "ls_analyzer = LS_Analysis(criteria_dict, project, save_csv)\n",
    "ls_analyzer.num_x = 5\n",
    "local_mins = ls_analyzer.categ_min(tot_runs)\n",
    "local_mins"
   ]
  },
  {
   "cell_type": "code",
   "execution_count": null,
   "id": "f7e6a916",
   "metadata": {},
   "outputs": [],
   "source": [
    "print(local_mins[\"Theta Min Obj Cum.\"].values)"
   ]
  },
  {
   "cell_type": "code",
   "execution_count": null,
   "id": "6b0c8f5f",
   "metadata": {},
   "outputs": [],
   "source": [
    "ls_analyzer = LS_Analysis(criteria_dict, project, save_csv)\n",
    "ls_results = ls_analyzer.least_squares_analysis()\n",
    "ls_results_sort = ls_results.sort_values(by=['Min Obj Cum.', 'Iter'], ascending=True)\n",
    "ls_runs = ls_results_sort.drop_duplicates(subset=\"Run\", keep='first')\n",
    "ls_runs\n",
    "# ls_results\n",
    "# ls_results[ls_results[\"Run\"] == 1]"
   ]
  },
  {
   "cell_type": "code",
   "execution_count": null,
   "id": "b25d817d",
   "metadata": {},
   "outputs": [],
   "source": [
    "plotters.plot_hypers(job_list_best[1], title = None)"
   ]
  },
  {
   "cell_type": "code",
   "execution_count": null,
   "id": "97079033",
   "metadata": {},
   "outputs": [],
   "source": [
    "plotters.plot_objs_all_methods([\"min_sse\", \"sse\", \"acq\"])"
   ]
  },
  {
   "cell_type": "code",
   "execution_count": null,
   "id": "0ab01617",
   "metadata": {},
   "outputs": [],
   "source": [
    "# title = \"Heat Map Pair \" + z_choice\n",
    "levels = [100, 100, 100, 100, 100, 100, 100]\n",
    "pair = 0\n",
    "z_choice = \"sse_mean\"\n",
    "plotters.plot_hms_all_methods(pair, z_choice, levels, log_data = False, title = None)"
   ]
  },
  {
   "cell_type": "code",
   "execution_count": null,
   "id": "ae5d5027",
   "metadata": {},
   "outputs": [],
   "source": [
    "levels = [100, 100, 100, 100]\n",
    "pair = 0\n",
    "z_choice = [\"sse_sim\", \"sse_mean\", \"sse_var\", \"acq\"]\n",
    "plotters.plot_hms_gp_compare(job_list_best[0], df_best[\"Run Number\"].iloc[0], df_best[\"BO Iter\"].iloc[0], \n",
    "                             pair, z_choice, levels, log_data = False, title = None)"
   ]
  },
  {
   "cell_type": "code",
   "execution_count": null,
   "id": "97b6e55e",
   "metadata": {
    "scrolled": false
   },
   "outputs": [],
   "source": [
    "#Make Heat maps for all pairs\n",
    "z_choices = [\"sse_sim\", \"sse_mean\", \"sse_var\", \"acq\"]\n",
    "levels = [100,100,100,100]\n",
    "\n",
    "#Loop over best jobs\n",
    "for i in range(len(job_list_best)):   \n",
    "    #Get jobs, runs, and iters to examine\n",
    "    job = job_list_best[i]\n",
    "    run_num = df_best[\"Run Number\"].iloc[i]\n",
    "    bo_iter = df_best[\"BO Iter\"].iloc[i]\n",
    "    \n",
    "    #Back out number of parameters\n",
    "    string_val = df_best[\"Theta Min Obj\"].iloc[0]\n",
    "    try:\n",
    "        numbers = [float(num) for num in string_val.replace('[', '').replace(']', '').split()]\n",
    "    except:\n",
    "        numbers = [float(num) for num in string_val]\n",
    "        \n",
    "    #Create list of parameter pair combinations\n",
    "    dim_theta = len(np.array(numbers).reshape(-1, 1))\n",
    "    dim_list = np.linspace(0, dim_theta-1, dim_theta)\n",
    "    pairs = len((list(combinations(dim_list, 2))))\n",
    "    \n",
    "    #Loop over parameter pairs\n",
    "    for pair in range(pairs):\n",
    "        plotters.plot_hms_gp_compare(job, run_num, bo_iter, pair, z_choices, levels)"
   ]
  },
  {
   "cell_type": "code",
   "execution_count": null,
   "id": "53098d57",
   "metadata": {},
   "outputs": [],
   "source": []
  }
 ],
 "metadata": {
  "kernelspec": {
   "display_name": "Python 3 (ipykernel)",
   "language": "python",
   "name": "python3"
  },
  "language_info": {
   "codemirror_mode": {
    "name": "ipython",
    "version": 3
   },
   "file_extension": ".py",
   "mimetype": "text/x-python",
   "name": "python",
   "nbconvert_exporter": "python",
   "pygments_lexer": "ipython3",
   "version": "3.9.12"
  }
 },
 "nbformat": 4,
 "nbformat_minor": 5
}
