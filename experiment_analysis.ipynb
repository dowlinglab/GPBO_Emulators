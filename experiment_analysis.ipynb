{
 "cells": [
  {
   "cell_type": "code",
   "execution_count": null,
   "id": "c95d200a",
   "metadata": {},
   "outputs": [],
   "source": [
    "import sys\n",
    "import gpytorch\n",
    "import numpy as np\n",
    "import pandas as pd\n",
    "import torch\n",
    "from datetime import datetime\n",
    "from scipy.stats import qmc\n",
    "import itertools\n",
    "from itertools import combinations_with_replacement, combinations, permutations\n",
    "\n",
    "import bo_methods_lib\n",
    "from bo_methods_lib.bo_methods_lib.GPBO_Classes_New import * #Fix this later\n",
    "from bo_methods_lib.bo_methods_lib.GPBO_Class_fxns import * #Fix this later\n",
    "from bo_methods_lib.bo_methods_lib.analyze_data import * #Fix this later\n",
    "from bo_methods_lib.bo_methods_lib.GPBO_Classes_plotters import * #Fix this later\n",
    "import pympler\n",
    "import pickle\n",
    "import signac\n",
    "\n",
    "from pympler import asizeof\n",
    "\n",
    "from matplotlib import pyplot as plt\n",
    "\n",
    "import matplotlib as mpl\n",
    "mpl.rcParams['figure.dpi'] = 200\n",
    "\n",
    "#Ignore inconcistent version warning\n",
    "import warnings\n",
    "# from sklearn.exceptions import InconsistentVersionWarning\n",
    "# warnings.filterwarnings(action='ignore', category=InconsistentVersionWarning)"
   ]
  },
  {
   "cell_type": "code",
   "execution_count": null,
   "id": "77eadf95",
   "metadata": {},
   "outputs": [],
   "source": [
    "#From signac\n",
    "import signac\n",
    "meth_name_val_list = [1, 2, 3, 4, 5, 6]\n",
    "save_csv = False\n",
    "\n",
    "criteria_dict = {\"cs_name_val\" : 1,\n",
    "                 \"ep_enum_val\": {\"$gte\": 1},\n",
    "                 \"meth_name_val\": {\"$in\": meth_name_val_list}}\n",
    "\n",
    "criteria_dict = {\"cs_name_val\" : 1,\n",
    "                 \"ep_enum_val\": 1,\n",
    "                 \"meth_name_val\": {\"$in\": meth_name_val_list}}\n"
   ]
  },
  {
   "cell_type": "code",
   "execution_count": null,
   "id": "9e66449f",
   "metadata": {},
   "outputs": [],
   "source": [
    "project = signac.get_project()\n",
    "save_csv = False\n",
    "save_figs = False\n",
    "analyzer = General_Analysis(criteria_dict, project, save_csv)\n",
    "plotters = Plotters(analyzer, save_figs)\n",
    "# df_all_jobs, job_list, theta_true = analyzer.get_df_all_jobs()\n",
    "df_best, job_list_best = analyzer.get_best_data()\n",
    "\n",
    "# for i in range(len(job_list_best)): \n",
    "#     print(job_list_best[i].id)\n",
    "df_best"
   ]
  },
  {
   "cell_type": "code",
   "execution_count": null,
   "id": "97b6e55e",
   "metadata": {
    "scrolled": false
   },
   "outputs": [],
   "source": [
    "#Make Heat maps for all pairs\n",
    "z_choices = [\"sse_sim\", \"sse_mean\", \"sse_var\", \"ei\"]\n",
    "levels = [100,100,100,100]\n",
    "\n",
    "#Loop over best jobs\n",
    "for i in range(len(job_list_best)):   \n",
    "    #Get jobs, runs, and iters to examine\n",
    "    job = job_list_best[i]\n",
    "    run_num = df_best[\"Run Number\"].iloc[i]\n",
    "    bo_iter = df_best[\"BO Iter\"].iloc[i]\n",
    "    \n",
    "    #Back out number of parameters\n",
    "    string_val = df_best[\"Theta Min Obj\"].iloc[0]\n",
    "    try:\n",
    "        numbers = [float(num) for num in string_val.replace('[', '').replace(']', '').split()]\n",
    "    except:\n",
    "        numbers = [float(num) for num in string_val]\n",
    "        \n",
    "    #Create list of parameter pair combinations\n",
    "    dim_theta = len(np.array(numbers).reshape(-1, 1))\n",
    "    dim_list = np.linspace(0, dim_theta-1, dim_theta)\n",
    "    pairs = len((list(combinations(dim_list, 2))))\n",
    "    \n",
    "    #Loop over parameter pairs\n",
    "    for pair in range(pairs):\n",
    "        plotters.plot_hms_gp_compare(job, run_num, bo_iter, pair, z_choices, levels)"
   ]
  },
  {
   "cell_type": "code",
   "execution_count": null,
   "id": "ae5d5027",
   "metadata": {},
   "outputs": [],
   "source": [
    "levels = [100, 100, 100, 100]\n",
    "pair = 0\n",
    "z_choice = [\"sse_sim\", \"sse_mean\", \"sse_var\", \"ei\"]\n",
    "plotters.plot_hms_gp_compare(job_list_best[0], df_best[\"Run Number\"].iloc[0], df_best[\"BO Iter\"].iloc[0], \n",
    "                             pair, z_choice, levels, log_data = False, title = None)"
   ]
  },
  {
   "cell_type": "code",
   "execution_count": null,
   "id": "0ab01617",
   "metadata": {},
   "outputs": [],
   "source": [
    "# title = \"Heat Map Pair \" + z_choice\n",
    "levels = [100, 100, 100, 100, 100, 100]\n",
    "pair = 0\n",
    "z_choice = \"sse_mean\"\n",
    "plotters.plot_hms_all_methods(pair, z_choice, levels, log_data = False, title = None)"
   ]
  },
  {
   "cell_type": "code",
   "execution_count": null,
   "id": "97079033",
   "metadata": {},
   "outputs": [],
   "source": [
    "plotters.plot_objs_all_methods([\"min_sse\", \"sse\"])"
   ]
  },
  {
   "cell_type": "code",
   "execution_count": null,
   "id": "b25d817d",
   "metadata": {},
   "outputs": [],
   "source": [
    "plotters.plot_hypers(job_list_best[0], title = None)"
   ]
  },
  {
   "cell_type": "code",
   "execution_count": null,
   "id": "f169d99c",
   "metadata": {},
   "outputs": [],
   "source": [
    "plotters.plot_one_obj_all_methods(\"min_sse\")"
   ]
  },
  {
   "cell_type": "code",
   "execution_count": null,
   "id": "2a91b50e",
   "metadata": {},
   "outputs": [],
   "source": [
    "plotters.plot_thetas(job_list_best[0], \"min_sse\", title = None)"
   ]
  },
  {
   "cell_type": "raw",
   "id": "60797906",
   "metadata": {},
   "source": [
    "#Visualize training data\n",
    "file_path = \"2023/08/28/Data_Files/CS1_meth_A2_sep_fact_1.0.pickle\"\n",
    "file_path = \"2023/09/05/Data_Files/CS2_BO_method_C2_ep_method_BOYLE.pickle\"\n",
    "file_path = \"2023/09/05/Data_Files/CS2_BO_method_B1_ep_method_CONSTANT.pickle\"\n",
    "file_path = \"workspace/811c3b5e401ba0adcedd67a67dbf2457/BO_Results.gz\"\n",
    "run_num = 1\n",
    "bo_iter = 1\n",
    "\n",
    "title_fontsize = 24\n",
    "other_fontsize = 20\n",
    "xbins = 5\n",
    "ybins = 5\n",
    "zbins = 5\n",
    "save_path = None\n",
    "\n",
    "idcs_to_plot = [0,1,2]\n",
    "\n",
    "title = \"Data Run 1 BO Iter 1\"\n",
    "train_data, test_data, val_data, x_exp, data_names, data_true = analyze_train_test(file_path, run_num, bo_iter)\n",
    "\n",
    "plot_train_test_val_data(train_data, test_data, None, data_names, idcs_to_plot, x_exp, xbins, ybins, zbins, \n",
    "                         title, title_fontsize, other_fontsize, save_path)"
   ]
  },
  {
   "cell_type": "raw",
   "id": "162e3933",
   "metadata": {},
   "source": [
    "#Plot xy data\n",
    "file_path = \"2023/08/28/Data_Files/CS1_meth_A2_sep_fact_1.0.pickle\"\n",
    "# file_path = \"2023/09/05/Data_Files/CS2_BO_method_C2_ep_method_BOYLE.pickle\"\n",
    "file_path = \"workspace/811c3b5e401ba0adcedd67a67dbf2457/BO_Results.gz\"\n",
    "\n",
    "run_num = 1\n",
    "bo_iter = 1\n",
    "x_lin_pts = 50\n",
    "\n",
    "title_fontsize = 24\n",
    "other_fontsize = 20\n",
    "save_path = None\n",
    "\n",
    "xbins = 5\n",
    "ybins = 5\n",
    "title = \"CS1 Data Comparison\"\n",
    "x_label = \"X Value\"\n",
    "y_label = \"y Value\"\n",
    "\n",
    "theta_opt_data, exp_data, train_data, test_data = analyze_xy_plot(file_path, run_num, bo_iter, x_lin_pts)\n",
    "plot_x_vs_y_given_theta(theta_opt_data, exp_data, train_data, test_data, xbins, ybins, title, x_label, y_label, \n",
    "                        title_fontsize, other_fontsize, save_path)"
   ]
  },
  {
   "cell_type": "raw",
   "id": "c4224a85",
   "metadata": {},
   "source": [
    "#Param snesitivity analysis\n",
    "file_path = \"2023/08/28/Data_Files/CS1_meth_A2_sep_fact_0.1.pickle\"\n",
    "file_path = \"2023/09/05/Data_Files/CS2_BO_method_C2_ep_method_BOYLE.pickle\"\n",
    "# file_path = \"2023/09/05/Data_Files/CS2_BO_method_B1_ep_method_CONSTANT.pickle\"\n",
    "file_path = \"workspace/811c3b5e401ba0adcedd67a67dbf2457/BO_Results.gz\"\n",
    "\n",
    "run_num = 1\n",
    "bo_iter = 1\n",
    "n_points = 100\n",
    "param_id = 0\n",
    "\n",
    "title_fontsize = 24\n",
    "other_fontsize = 20\n",
    "xbins = 5\n",
    "ybins = 5\n",
    "save_path = None\n",
    "\n",
    "list_of_data = analyze_param_sens(file_path, run_num, bo_iter, param_id, n_points)\n",
    "param_data, param_idx, param_name, data_name, exp_data, train_data, test_data = list_of_data\n",
    "\n",
    "title = \"Param Sensitivity Analysis\"\n",
    "x_label = param_name\n",
    "y_label = \"Y Value\"\n",
    "\n",
    "data = [param_data]\n",
    "data_names = [param_name]\n",
    "\n",
    "plot_theta_vs_y_given_x(data, param_idx, data_names, exp_data, train_data, test_data, xbins, ybins, title, \n",
    "                        x_label, y_label, title_fontsize, other_fontsize, save_path)"
   ]
  },
  {
   "cell_type": "raw",
   "id": "ef9e6d55",
   "metadata": {},
   "source": [
    "#Show parity plots\n",
    "file_path = \"No_Date/Data_Files/CS1_BO_method_B2_sep_fact_0.9.gz\"\n",
    "\n",
    "run_num = 1\n",
    "bo_iter = 1\n",
    "\n",
    "title_fontsize = 24\n",
    "other_fontsize = 20\n",
    "xbins = 5\n",
    "ybins = 5\n",
    "save_path = None\n",
    "log_data = True\n",
    "\n",
    "title = \"Parity Plots\"\n",
    "x_label = \"Sim Value\"\n",
    "y_label = \"Data Value\"\n",
    "\n",
    "test_data, test_data_sse_data, sse_data, method = analyze_parity_plot_data(file_path, run_num, bo_iter)\n",
    "parity_plot(test_data, test_data_sse_data, sse_data, method, log_data, xbins, ybins, x_label, y_label, \n",
    "            title, title_fontsize, other_fontsize, save_path)"
   ]
  }
 ],
 "metadata": {
  "kernelspec": {
   "display_name": "Python 3 (ipykernel)",
   "language": "python",
   "name": "python3"
  },
  "language_info": {
   "codemirror_mode": {
    "name": "ipython",
    "version": 3
   },
   "file_extension": ".py",
   "mimetype": "text/x-python",
   "name": "python",
   "nbconvert_exporter": "python",
   "pygments_lexer": "ipython3",
   "version": "3.9.12"
  }
 },
 "nbformat": 4,
 "nbformat_minor": 5
}
