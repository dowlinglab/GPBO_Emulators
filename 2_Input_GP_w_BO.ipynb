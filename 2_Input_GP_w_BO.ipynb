{
 "cells": [
  {
   "cell_type": "code",
   "execution_count": 1,
   "id": "faa1bbe1",
   "metadata": {},
   "outputs": [],
   "source": [
    "import torch\n",
    "import gpytorch\n",
    "import numpy as np\n",
    "import pandas as pd\n",
    "\n",
    "from bo_functions import calc_y_exp\n",
    "from bo_functions import ExactGPModel\n",
    "from bo_functions import train_GP_model\n",
    "from bo_functions import calc_GP_outputs\n",
    "from bo_functions import calc_ei_basic\n",
    "from bo_functions import eval_GP_basic_tot\n",
    "from bo_functions import create_sse_data\n",
    "\n",
    "from bo_plotters import plot_hyperparams\n",
    "from bo_plotters import y_plotter\n",
    "from bo_plotters import stdev_plotter\n",
    "from bo_plotters import ei_plotter"
   ]
  },
  {
   "cell_type": "code",
   "execution_count": 2,
   "id": "36cb54d6",
   "metadata": {},
   "outputs": [],
   "source": [
    "#Pull x data from CSV\n",
    "Theta_True = np.array([1,-1])\n",
    "noise_std = 0.1**2\n",
    "q = 2\n",
    "\n",
    "exp_data_doc = \"exp_data.csv\"\n",
    "exp_data = np.array(pd.read_csv(exp_data_doc, header=0,sep=\",\"))\n",
    "Xexp = exp_data[:,1]\n",
    "Yexp = exp_data[:,2]\n",
    "n = len(Xexp)\n",
    "# print(x)"
   ]
  },
  {
   "cell_type": "code",
   "execution_count": 3,
   "id": "afaf0120",
   "metadata": {},
   "outputs": [],
   "source": [
    "#Pull training data from CSV\n",
    "train_data_doc = \"train_2_in_data.csv\"\n",
    "train_data = np.array(pd.read_csv(train_data_doc, header=0,sep=\",\"))\n",
    "train_T = torch.tensor(train_data[:,1:3])\n",
    "train_sse = torch.tensor(train_data[:,3])\n",
    "# print(train_sse)"
   ]
  },
  {
   "cell_type": "code",
   "execution_count": 4,
   "id": "c7fcaa6b",
   "metadata": {},
   "outputs": [],
   "source": [
    "#Reduce Number of Training Points\n",
    "t =len(train_T) #Desired number of training points\n",
    "# t = 10 #Set t=5 to show changing EI\n",
    "train_T = train_T[0:t]\n",
    "train_sse = train_sse[0:t]"
   ]
  },
  {
   "cell_type": "code",
   "execution_count": null,
   "id": "f4bdff16",
   "metadata": {},
   "outputs": [],
   "source": []
  },
  {
   "cell_type": "code",
   "execution_count": 5,
   "id": "8aae45e2",
   "metadata": {},
   "outputs": [],
   "source": [
    "#Define GP Testing space\n",
    "#Define Testing Space\n",
    "p=10\n",
    "Theta1 =  np.linspace(-2,2,p) #1x10\n",
    "Theta2 =  np.linspace(-2,2,p) #1x10\n",
    "theta_mesh = np.array(np.meshgrid(Theta1, Theta2)) #2 Uniform 5x5 arrays\n",
    "theta1_mesh = theta_mesh[0]\n",
    "theta2_mesh = theta_mesh[1]\n",
    "# print(theta_mesh)"
   ]
  },
  {
   "cell_type": "code",
   "execution_count": 6,
   "id": "9b4bbb50",
   "metadata": {},
   "outputs": [
    {
     "name": "stdout",
     "output_type": "stream",
     "text": [
      "The GP estimates the highest EI is at Theta =  [ 1.11111111 -1.11111111]\n"
     ]
    },
    {
     "ename": "AssertionError",
     "evalue": "p_true, p_GP_opt, and p_GP_best must be 2x1 for a 2 input GP",
     "output_type": "error",
     "traceback": [
      "\u001b[1;31m---------------------------------------------------------------------------\u001b[0m",
      "\u001b[1;31mAssertionError\u001b[0m                            Traceback (most recent call last)",
      "\u001b[1;32m~\\AppData\\Local\\Temp/ipykernel_62236/2479194179.py\u001b[0m in \u001b[0;36m<module>\u001b[1;34m\u001b[0m\n\u001b[0;32m     77\u001b[0m         \u001b[1;31m#Make Plots\u001b[0m\u001b[1;33m\u001b[0m\u001b[1;33m\u001b[0m\u001b[0m\n\u001b[0;32m     78\u001b[0m         \u001b[0msse_title\u001b[0m \u001b[1;33m=\u001b[0m \u001b[1;34m\"SSE\"\u001b[0m\u001b[1;33m\u001b[0m\u001b[1;33m\u001b[0m\u001b[0m\n\u001b[1;32m---> 79\u001b[1;33m         \u001b[0my_plotter\u001b[0m\u001b[1;33m(\u001b[0m\u001b[0mtheta_mesh\u001b[0m\u001b[1;33m,\u001b[0m \u001b[0msse\u001b[0m\u001b[1;33m,\u001b[0m \u001b[0mTheta_True\u001b[0m\u001b[1;33m,\u001b[0m \u001b[0mTheta_Opt_GP\u001b[0m\u001b[1;33m,\u001b[0m \u001b[0mtrain_T\u001b[0m\u001b[1;33m,\u001b[0m\u001b[0msse_title\u001b[0m\u001b[1;33m,\u001b[0m\u001b[0mplot_train\u001b[0m\u001b[1;33m=\u001b[0m\u001b[1;32mTrue\u001b[0m\u001b[1;33m)\u001b[0m\u001b[1;33m\u001b[0m\u001b[1;33m\u001b[0m\u001b[0m\n\u001b[0m\u001b[0;32m     80\u001b[0m         \u001b[0mstdev_plotter\u001b[0m\u001b[1;33m(\u001b[0m\u001b[0mtheta_mesh\u001b[0m\u001b[1;33m,\u001b[0m \u001b[0mstdev\u001b[0m\u001b[1;33m,\u001b[0m\u001b[0mTheta_True\u001b[0m\u001b[1;33m,\u001b[0m \u001b[0mTheta_Opt_GP\u001b[0m\u001b[1;33m,\u001b[0m\u001b[0mtrain_T\u001b[0m\u001b[1;33m,\u001b[0m\u001b[0mplot_train\u001b[0m\u001b[1;33m=\u001b[0m\u001b[1;32mTrue\u001b[0m\u001b[1;33m)\u001b[0m\u001b[1;33m\u001b[0m\u001b[1;33m\u001b[0m\u001b[0m\n\u001b[0;32m     81\u001b[0m         \u001b[0mei_plotter\u001b[0m\u001b[1;33m(\u001b[0m\u001b[0mtheta_mesh\u001b[0m\u001b[1;33m,\u001b[0m \u001b[0mei\u001b[0m\u001b[1;33m,\u001b[0m \u001b[0mTheta_True\u001b[0m\u001b[1;33m,\u001b[0m \u001b[0mTheta_Opt_GP\u001b[0m\u001b[1;33m,\u001b[0m\u001b[0mtrain_T\u001b[0m\u001b[1;33m,\u001b[0m\u001b[0mplot_train\u001b[0m\u001b[1;33m=\u001b[0m\u001b[1;32mTrue\u001b[0m\u001b[1;33m)\u001b[0m\u001b[1;33m\u001b[0m\u001b[1;33m\u001b[0m\u001b[0m\n",
      "\u001b[1;32m~\\Documents\\GitHub\\Toy_Problem\\bo_plotters.py\u001b[0m in \u001b[0;36my_plotter\u001b[1;34m(test_mesh, z, p_true, p_GP_opt, p_GP_best, train_p, title, plot_train)\u001b[0m\n\u001b[0;32m    150\u001b[0m         \u001b[0mplt\u001b[0m\u001b[1;33m.\u001b[0m\u001b[0mshow\u001b[0m\u001b[1;33m(\u001b[0m\u001b[1;33m)\u001b[0m\u001b[1;33m,\u001b[0m \u001b[0mA\u001b[0m \u001b[0mheat\u001b[0m \u001b[0mmap\u001b[0m \u001b[0mof\u001b[0m \u001b[0mtest_mesh\u001b[0m \u001b[1;32mand\u001b[0m \u001b[0mz\u001b[0m \u001b[1;33m(\u001b[0m\u001b[0my\u001b[0m \u001b[0mvalues\u001b[0m\u001b[1;33m)\u001b[0m\u001b[1;33m\u001b[0m\u001b[1;33m\u001b[0m\u001b[0m\n\u001b[0;32m    151\u001b[0m     '''\n\u001b[1;32m--> 152\u001b[1;33m     \u001b[1;32mreturn\u001b[0m \u001b[0mvalue_plotter\u001b[0m\u001b[1;33m(\u001b[0m\u001b[0mtest_mesh\u001b[0m\u001b[1;33m,\u001b[0m \u001b[0mz\u001b[0m\u001b[1;33m,\u001b[0m \u001b[0mp_true\u001b[0m\u001b[1;33m,\u001b[0m \u001b[0mp_GP_opt\u001b[0m\u001b[1;33m,\u001b[0m \u001b[0mp_GP_best\u001b[0m\u001b[1;33m,\u001b[0m \u001b[0mtitle\u001b[0m\u001b[1;33m,\u001b[0m\u001b[0mtrain_p\u001b[0m\u001b[1;33m,\u001b[0m\u001b[0mplot_train\u001b[0m\u001b[1;33m=\u001b[0m\u001b[1;32mTrue\u001b[0m\u001b[1;33m)\u001b[0m\u001b[1;33m\u001b[0m\u001b[1;33m\u001b[0m\u001b[0m\n\u001b[0m\u001b[0;32m    153\u001b[0m \u001b[1;33m\u001b[0m\u001b[0m\n\u001b[0;32m    154\u001b[0m \u001b[1;33m\u001b[0m\u001b[0m\n",
      "\u001b[1;32m~\\Documents\\GitHub\\Toy_Problem\\bo_plotters.py\u001b[0m in \u001b[0;36mvalue_plotter\u001b[1;34m(test_mesh, z, p_true, p_GP_opt, p_GP_best, title, train_p, plot_train)\u001b[0m\n\u001b[0;32m     86\u001b[0m     \u001b[1;32massert\u001b[0m \u001b[0mxx\u001b[0m\u001b[1;33m.\u001b[0m\u001b[0mshape\u001b[0m\u001b[1;33m==\u001b[0m\u001b[0myy\u001b[0m\u001b[1;33m.\u001b[0m\u001b[0mshape\u001b[0m\u001b[1;33m,\u001b[0m \u001b[1;34m\"Test_mesh must be 2 NxN arrays\"\u001b[0m\u001b[1;33m\u001b[0m\u001b[1;33m\u001b[0m\u001b[0m\n\u001b[0;32m     87\u001b[0m     \u001b[1;32massert\u001b[0m \u001b[0mz\u001b[0m\u001b[1;33m.\u001b[0m\u001b[0mshape\u001b[0m\u001b[1;33m==\u001b[0m\u001b[0mxx\u001b[0m\u001b[1;33m.\u001b[0m\u001b[0mshape\u001b[0m\u001b[1;33m,\u001b[0m \u001b[1;34m\"Array z must be NxN\"\u001b[0m\u001b[1;33m\u001b[0m\u001b[1;33m\u001b[0m\u001b[0m\n\u001b[1;32m---> 88\u001b[1;33m     \u001b[1;32massert\u001b[0m \u001b[0mlen\u001b[0m\u001b[1;33m(\u001b[0m\u001b[0mp_true\u001b[0m\u001b[1;33m)\u001b[0m \u001b[1;33m==\u001b[0m\u001b[0mlen\u001b[0m\u001b[1;33m(\u001b[0m\u001b[0mp_GP_opt\u001b[0m\u001b[1;33m)\u001b[0m\u001b[1;33m==\u001b[0m\u001b[0mlen\u001b[0m\u001b[1;33m(\u001b[0m\u001b[0mp_GP_best\u001b[0m\u001b[1;33m)\u001b[0m\u001b[1;33m==\u001b[0m\u001b[1;36m2\u001b[0m\u001b[1;33m,\u001b[0m \u001b[1;34m\"p_true, p_GP_opt, and p_GP_best must be 2x1 for a 2 input GP\"\u001b[0m\u001b[1;33m\u001b[0m\u001b[1;33m\u001b[0m\u001b[0m\n\u001b[0m\u001b[0;32m     89\u001b[0m     \u001b[1;32massert\u001b[0m \u001b[0misinstance\u001b[0m\u001b[1;33m(\u001b[0m\u001b[0mtitle\u001b[0m\u001b[1;33m,\u001b[0m \u001b[0mstr\u001b[0m\u001b[1;33m)\u001b[0m\u001b[1;33m==\u001b[0m\u001b[1;32mTrue\u001b[0m\u001b[1;33m,\u001b[0m \u001b[1;34m\"Title must be a string\"\u001b[0m\u001b[1;33m\u001b[0m\u001b[1;33m\u001b[0m\u001b[0m\n\u001b[0;32m     90\u001b[0m     \u001b[1;32massert\u001b[0m \u001b[0mlen\u001b[0m\u001b[1;33m(\u001b[0m\u001b[0mtrain_p\u001b[0m\u001b[1;33m.\u001b[0m\u001b[0mT\u001b[0m\u001b[1;33m)\u001b[0m \u001b[1;33m>=\u001b[0m \u001b[1;36m2\u001b[0m\u001b[1;33m,\u001b[0m \u001b[1;34m\"Train_p must have at least 2 columns\"\u001b[0m\u001b[1;33m\u001b[0m\u001b[1;33m\u001b[0m\u001b[0m\n",
      "\u001b[1;31mAssertionError\u001b[0m: p_true, p_GP_opt, and p_GP_best must be 2x1 for a 2 input GP"
     ]
    }
   ],
   "source": [
    "#Training the GP Model\n",
    "iterations = 300\n",
    "BO_iter = 10\n",
    "for i in range(BO_iter):\n",
    "    if torch.is_tensor(train_T) != True:\n",
    "        train_T = torch.from_numpy(train_T)\n",
    "    if torch.is_tensor(train_sse) != True:\n",
    "        train_sse = torch.from_numpy(train_sse)\n",
    "    # initialize likelihood and model\n",
    "    ##Assumes a homoskedastic noise model p(y | f) = f + noise\n",
    "    likelihood = gpytorch.likelihoods.GaussianLikelihood()\n",
    "\n",
    "    # We will use the simplest form of GP model, exact inference\n",
    "    #Defines our model in terms of the class parameters in bo_functions\n",
    "    model = ExactGPModel(train_T, train_sse, likelihood)\n",
    "    train_GP = train_GP_model(model, likelihood, train_T, train_sse, iterations, verbose = False)\n",
    "    \n",
    "\n",
    "    \n",
    "#     #Plot hyperparameters vs iteration\n",
    "#     noise_title = \"Noise Hyperparameter\"\n",
    "#     lengthscale_title = \"Lengthscale Hyperparameter\"\n",
    "#     outputscale_title = \"Outputscale Hyperparameter\"\n",
    "    \n",
    "#     noise_list = train_GP[0]\n",
    "#     lengthscale_list = train_GP[1]\n",
    "#     outputscale_list = train_GP[2]\n",
    "    \n",
    "#     plot_hyperparams(iterations, noise_list,noise_title)\n",
    "#     plot_hyperparams(iterations, lengthscale_list,lengthscale_title)\n",
    "#     plot_hyperparams(iterations, outputscale_list,outputscale_title)\n",
    "    \n",
    "    ##Set Hyperparameters to 1\n",
    "    outputscale = torch.tensor([1])\n",
    "    lengthscale = torch.tensor([1])\n",
    "    noise = torch.tensor([0.1])\n",
    "\n",
    "    model.likelihood.noise = noise\n",
    "    model.covar_module.base_kernel.lengthscale =lengthscale\n",
    "    model.covar_module.outputscale = outputscale\n",
    "\n",
    "#     print(\"Noise Hyperparameter: \", float(model.likelihood.noise))\n",
    "#     print(\"Lengthscale Hyperparameter: \", float(model.covar_module.base_kernel.lengthscale))\n",
    "#     print(\"Outputscale Hyperparameter: \", float(model.covar_module.outputscale))\n",
    "\n",
    "    \n",
    "    model.eval()\n",
    "    #Puts likelihood in evaluation mode\n",
    "    likelihood.eval()\n",
    "\n",
    "    #Same point keeps being selected, should I remove that point by force?\n",
    "    ei_components = eval_GP_basic_tot(p,theta_mesh, train_sse, model, likelihood)\n",
    "    ei = ei_components[0]\n",
    "    sse = ei_components[1]\n",
    "    var = ei_components[2]\n",
    "    stdev = ei_components[3]\n",
    "#     print(sse)\n",
    "\n",
    "    #Finds the index where sse is the smallest and finds which Theta combination corresponds to that value\n",
    "    argmin = np.array(np.where(np.isclose(sse, np.amin(sse),atol=1e-10)==True))\n",
    "    Theta_1_Opt = float(theta1_mesh[argmin[0],argmin[1]])\n",
    "    Theta_2_Opt = float(theta2_mesh[argmin[0],argmin[1]])\n",
    "    Theta_Opt_GP = np.array((Theta_1_Opt,Theta_2_Opt))\n",
    "#     print(Theta_Opt_GP)\n",
    "    #calculates best theta value\n",
    "    argmax = np.array(np.where(np.isclose(ei, np.amax(ei),atol=1e-10)==True))\n",
    "#     print(argmax)\n",
    "    if len(argmax[0]) != 1:\n",
    "        argmax = np.array([[argmax[0,1]],[argmax[1,1]]])\n",
    "#         print(argmax)\n",
    "    Theta_1_Best = float(theta1_mesh[argmax[0],argmax[1]])\n",
    "    Theta_2_Best = float(theta2_mesh[argmax[0],argmax[1]])\n",
    "    Theta_Best = np.array((Theta_1_Best,Theta_2_Best))    \n",
    "\n",
    "    Converge = np.allclose(Theta_Best, train_T[-1],atol=1e-10)\n",
    "    if Converge == True or i==BO_iter-1:\n",
    "        #Make Plots\n",
    "        sse_title = \"SSE\"\n",
    "        y_plotter(theta_mesh, sse, Theta_True, Theta_Opt_GP, train_T,sse_title,plot_train=True)\n",
    "        stdev_plotter(theta_mesh, stdev,Theta_True, Theta_Opt_GP,train_T,plot_train=True)\n",
    "        ei_plotter(theta_mesh, ei, Theta_True, Theta_Opt_GP,train_T,plot_train=True)\n",
    "        print(\"Number of iterations: \", i+1)\n",
    "        print(\"The SSE at the GP mean is lowest at Theta =\",Theta_Opt_GP)\n",
    "        print(\"The GP estimates the highest EI is at Theta = \",Theta_Best)        \n",
    "#         break\n",
    "\n",
    "#     print(len(Theta_Best),len(Theta_True),len(Theta_Opt_GP))\n",
    "#     sse_title = \"SSE\"\n",
    "#     y_plotter(theta_mesh, sse, Theta_True, Theta_Opt_GP, Theta_Best, train_T,sse_title,plot_train=True)\n",
    "#     stdev_plotter(theta_mesh, stdev,Theta_True, Theta_Opt_GP, Theta_Best, train_T,plot_train=True)\n",
    "#     ei_plotter(theta_mesh, ei, Theta_True, Theta_Opt_GP, Theta_Best,train_T,plot_train=True)\n",
    "#     print(\"The SSE at the GP mean is lowest at Theta =\",Theta_Opt_GP)\n",
    "    print(\"The GP estimates the highest EI is at Theta = \",Theta_Best)\n",
    "    \n",
    "    ##Append best values to training data \n",
    "    #Convert training data to numpy arrays to allow concatenation to work\n",
    "    train_T = train_T.numpy() #(q x t)\n",
    "    train_sse = train_sse.numpy() #(1 x t)\n",
    "\n",
    "    #Call the expensive function and evaluate at Theta_Best\n",
    "    sse_Best = create_sse_data(q,Theta_Best, Xexp, Yexp) #(1 x 1)\n",
    "  \n",
    "    #Add Theta_Best to train_p and y_best to train_y\n",
    "    train_T = np.concatenate((train_T, [Theta_Best]), axis=0) #(q x t)\n",
    "    train_sse = np.concatenate((train_sse, [sse_Best]),axis=0) #(1 x t)"
   ]
  },
  {
   "cell_type": "code",
   "execution_count": null,
   "id": "a54bef5c",
   "metadata": {},
   "outputs": [],
   "source": [
    "# print(Theta_Best)\n",
    "# print(train_T)"
   ]
  },
  {
   "cell_type": "code",
   "execution_count": null,
   "id": "0250b4d3",
   "metadata": {},
   "outputs": [],
   "source": []
  },
  {
   "cell_type": "code",
   "execution_count": null,
   "id": "fa4b6d54",
   "metadata": {},
   "outputs": [],
   "source": []
  }
 ],
 "metadata": {
  "kernelspec": {
   "display_name": "Python 3 (ipykernel)",
   "language": "python",
   "name": "python3"
  },
  "language_info": {
   "codemirror_mode": {
    "name": "ipython",
    "version": 3
   },
   "file_extension": ".py",
   "mimetype": "text/x-python",
   "name": "python",
   "nbconvert_exporter": "python",
   "pygments_lexer": "ipython3",
   "version": "3.9.7"
  }
 },
 "nbformat": 4,
 "nbformat_minor": 5
}
