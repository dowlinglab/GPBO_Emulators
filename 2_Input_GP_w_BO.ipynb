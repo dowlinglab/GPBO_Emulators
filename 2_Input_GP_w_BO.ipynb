{
 "cells": [
  {
   "cell_type": "code",
   "execution_count": 1,
   "id": "faa1bbe1",
   "metadata": {},
   "outputs": [
    {
     "ename": "SyntaxError",
     "evalue": "'return' outside function (bo_functions.py, line 767)",
     "output_type": "error",
     "traceback": [
      "Traceback \u001b[1;36m(most recent call last)\u001b[0m:\n",
      "  File \u001b[0;32m\"C:\\Users\\mcarl\\anaconda3\\lib\\site-packages\\IPython\\core\\interactiveshell.py\"\u001b[0m, line \u001b[0;32m3444\u001b[0m, in \u001b[0;35mrun_code\u001b[0m\n    exec(code_obj, self.user_global_ns, self.user_ns)\n",
      "\u001b[1;36m  File \u001b[1;32m\"C:\\Users\\mcarl\\AppData\\Local\\Temp/ipykernel_57144/1622285032.py\"\u001b[1;36m, line \u001b[1;32m6\u001b[1;36m, in \u001b[1;35m<module>\u001b[1;36m\u001b[0m\n\u001b[1;33m    from bo_functions import calc_ei_basic\u001b[0m\n",
      "\u001b[1;36m  File \u001b[1;32m\"C:\\Users\\mcarl\\Documents\\GitHub\\Toy_Problem\\bo_functions.py\"\u001b[1;36m, line \u001b[1;32m767\u001b[0m\n\u001b[1;33m    return ei, sse, var, stdev\u001b[0m\n\u001b[1;37m    ^\u001b[0m\n\u001b[1;31mSyntaxError\u001b[0m\u001b[1;31m:\u001b[0m 'return' outside function\n"
     ]
    }
   ],
   "source": [
    "import torch\n",
    "import gpytorch\n",
    "import numpy as np\n",
    "import pandas as pd\n",
    "\n",
    "from bo_functions import calc_ei_basic\n",
    "from bo_functions import ExactGPModel\n",
    "from bo_functions import calc_GP_outputs\n",
    "from bo_functions import train_GP_model\n",
    "from bo_functions import create_sse_point_data\n",
    "from bo_functions import calc_y_exp\n",
    "\n",
    "from bo_plotters import plot_hyperparams\n",
    "from bo_plotters import y_plotter_basic\n",
    "from bo_plotters import stdev_plotter_basic\n",
    "from bo_plotters import ei_plotter_basic"
   ]
  },
  {
   "cell_type": "code",
   "execution_count": null,
   "id": "36cb54d6",
   "metadata": {},
   "outputs": [],
   "source": [
    "#Pull x data from CSV\n",
    "Theta_True = np.array([1,-1])\n",
    "noise_std = 0.1**2\n",
    "\n",
    "exp_data_doc = \"exp_data.csv\"\n",
    "exp_data = np.array(pd.read_csv(exp_data_doc, header=0,sep=\",\"))\n",
    "Xexp = exp_data[:,1]\n",
    "Yexp = exp_data[:,2]\n",
    "# print(x)"
   ]
  },
  {
   "cell_type": "code",
   "execution_count": null,
   "id": "afaf0120",
   "metadata": {},
   "outputs": [],
   "source": [
    "#Pull training data from CSV\n",
    "train_data_doc = \"train_2_in_data.csv\"\n",
    "train_data = np.array(pd.read_csv(train_data_doc, header=0,sep=\",\"))\n",
    "train_T = torch.tensor(train_data[:,1:3])\n",
    "train_sse = torch.tensor(train_data[:,3])\n",
    "print(train_sse)"
   ]
  },
  {
   "cell_type": "code",
   "execution_count": null,
   "id": "8aae45e2",
   "metadata": {},
   "outputs": [],
   "source": [
    "#Define GP Testing space\n",
    "#Define Testing Space\n",
    "p=10\n",
    "Theta1 =  np.linspace(-2,2,p) #1x10\n",
    "Theta2 =  np.linspace(-2,2,p) #1x10\n",
    "theta_mesh = np.array(np.meshgrid(Theta1, Theta2)) #2 Uniform 5x5 arrays\n",
    "theta_space = torch.tensor(theta_mesh.T.reshape(-1, 2)) #25 x 2\n",
    "# print(test_T)"
   ]
  },
  {
   "cell_type": "code",
   "execution_count": null,
   "id": "9b4bbb50",
   "metadata": {},
   "outputs": [],
   "source": [
    "#Training the GP Model\n",
    "iterations = 300\n",
    "BO_iter =3\n",
    "for i in range(BO_iter):\n",
    "    if torch.is_tensor(train_T) != True:\n",
    "        train_T = torch.from_numpy(train_T)\n",
    "    if torch.is_tensor(train_sse) != True:\n",
    "        train_sse = torch.from_numpy(train_sse)\n",
    "    # initialize likelihood and model\n",
    "    ##Assumes a homoskedastic noise model p(y | f) = f + noise\n",
    "    likelihood = gpytorch.likelihoods.GaussianLikelihood()\n",
    "\n",
    "    # We will use the simplest form of GP model, exact inference\n",
    "    #Defines our model in terms of the class parameters in bo_functions\n",
    "    model = ExactGPModel(train_T, train_sse, likelihood)\n",
    "    train_GP = train_GP_model(model, likelihood, train_T, train_sse, iterations, verbose = False)\n",
    "    \n",
    "    noise_list = train_GP[0]\n",
    "    lengthscale_list = train_GP[1]\n",
    "    outputscale_list = train_GP[2]\n",
    "    \n",
    "    #Plot hyperparameters vs iteration\n",
    "    noise_title = \"Noise Hyperparameter\"\n",
    "    lengthscale_title = \"Lengthscale Hyperparameter\"\n",
    "    outputscale_title = \"Outputscale Hyperparameter\"\n",
    "#     plot_hyperparams(iterations, noise_list,noise_title)\n",
    "#     plot_hyperparams(iterations, lengthscale_list,lengthscale_title)\n",
    "#     plot_hyperparams(iterations, outputscale_list,outputscale_title)\n",
    "    \n",
    "    model.eval()\n",
    "    #Puts likelihood in evaluation mode\n",
    "    likelihood.eval()\n",
    "\n",
    "   \n",
    "    \n",
    "    #Make Plots\n",
    "    sse_title = \"SSE\"\n",
    "    Theta_True = np.array([1,-1])\n",
    "    y_plotter_basic(theta_mesh, sse_map, Theta_True, Theta_Opt_GP, train_T,sse_title,plot_train=True)\n",
    "    \n",
    "    stdev_plotter_basic(theta_mesh, stdev_map,Theta_True, Theta_Opt_GP,train_T,plot_train=True)\n",
    "    ei_plotter_basic(theta_mesh, ei_map, Theta_True, Theta_Opt_GP,train_T,plot_train=True)\n",
    "    \n",
    "#     print(Theta_Best_Ei)\n",
    "    #Add Best values to training data   \n",
    "    train_T = train_T.numpy()\n",
    "    \n",
    "    #NEED TO FIND sse VALUE ASSOCIATED WITH BEST THETA\n",
    "    train_sse = train_sse.numpy()\n",
    "    y_exp_new = calc_y_exp(Theta_True, Xexp, noise_std, noise_mean=0)\n",
    "    append_sse = create_sse_point_data(Theta_Best_Ei, Xexp, Yexp)\n",
    "\n",
    "#     #If I remove the value forcibly the code breaks so I'm not sure what to do from here\n",
    "#     index = 0\n",
    "#     for i in range(len(theta_space)):\n",
    "#         if np.array_equiv(theta_space[i], Theta_Best_Ei) ==True:\n",
    "#             index = i\n",
    "    \n",
    "#     theta_space = np.delete(theta_space, i, axis=0)       \n",
    "    train_T = np.concatenate((train_T, [Theta_Best_Ei]), axis=0)\n",
    "    train_sse = np.concatenate((train_sse,[append_sse]),axis=0)\n",
    "#     print(theta_space)\n",
    "#     print(train_T)\n",
    "#         train_sse = torch.tensor(train_sse)"
   ]
  },
  {
   "cell_type": "code",
   "execution_count": null,
   "id": "0250b4d3",
   "metadata": {},
   "outputs": [],
   "source": []
  }
 ],
 "metadata": {
  "kernelspec": {
   "display_name": "Python 3 (ipykernel)",
   "language": "python",
   "name": "python3"
  },
  "language_info": {
   "codemirror_mode": {
    "name": "ipython",
    "version": 3
   },
   "file_extension": ".py",
   "mimetype": "text/x-python",
   "name": "python",
   "nbconvert_exporter": "python",
   "pygments_lexer": "ipython3",
   "version": "3.9.7"
  }
 },
 "nbformat": 4,
 "nbformat_minor": 5
}
