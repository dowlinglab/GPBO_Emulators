{
 "cells": [
  {
   "cell_type": "code",
   "execution_count": 1,
   "id": "bc88a957",
   "metadata": {},
   "outputs": [],
   "source": [
    "from bo_functions import LHS_Design\n",
    "from bo_functions import create_y_data\n",
    "from bo_functions import calc_y_exp\n",
    "from bo_functions import test_train_split\n",
    "from bo_functions import create_sse_data\n",
    "from scipy.stats import qmc\n",
    "import numpy as np\n",
    "import pandas as pd"
   ]
  },
  {
   "cell_type": "raw",
   "id": "12121812",
   "metadata": {},
   "source": [
    "#LHS Design in python - May switch code to use this instead for conciseness\n",
    "sampler = qmc.LatinHypercube(d=3)\n",
    "sample = sampler.random(n=25)\n",
    "l_bounds =  [-2, -2,-2]\n",
    "u_bounds =  [2, 2,2]\n",
    "LHS = qmc.scale(sample, l_bounds, u_bounds)"
   ]
  },
  {
   "cell_type": "code",
   "execution_count": 2,
   "id": "fb95b690",
   "metadata": {},
   "outputs": [],
   "source": [
    "#Creates Experimental data and saves to a csv\n",
    "Theta_True = np.array([1,-1])\n",
    "Xexp = np.array([-2,-1,0,1,2])\n",
    "noise_std = 0.1**2\n",
    "q_2 = 2\n",
    "q_3 = 3\n",
    "\n",
    "Yexp = calc_y_exp(Theta_True, Xexp, noise_std)\n",
    "\n",
    "Exp_data = np.column_stack((Xexp,Yexp))\n",
    "df = pd.DataFrame(Exp_data, columns = [\"Xexp\",\"Yexp\"])\n",
    "df.to_csv('exp_data.csv')"
   ]
  },
  {
   "cell_type": "code",
   "execution_count": 3,
   "id": "988797bc",
   "metadata": {},
   "outputs": [],
   "source": [
    "#Create Training Data and Testing Data\n",
    "#Set noise parameters and load csv file to generate training data\n",
    "all_p = LHS_Design(\"LHS_Toy_3_Input.csv\")\n",
    "all_2_in_y = create_sse_data(q_2,all_p,Xexp,Yexp)\n",
    "all_2_in_y_ln_obj = create_sse_data(q_2,all_p,Xexp,Yexp, obj = \"LN_obj\")\n",
    "all_3_in_y = create_y_data(q_3,all_p)\n",
    "\n",
    "all_2_data = np.column_stack((all_p, all_2_in_y))\n",
    "all_2_data_ln_obj = np.column_stack((all_p, all_2_in_y_ln_obj))\n",
    "all_3_data = np.column_stack((all_p, all_3_in_y))\n",
    "\n",
    "sep_fact = 0.8\n",
    "seed = 6\n",
    "\n",
    "#Separate training and testing data, uses default of an 80%/20% split\n",
    "\n",
    "titles_all = np.array(['all_2_data.csv','all_2_ln_obj_data.csv','all_3_data.csv'])\n",
    "all_array = np.array([all_2_data,all_2_data_ln_obj,all_3_data])\n",
    "\n",
    "\n",
    "#Save Train Data/Test Data\n",
    "for i in range(len(titles_all)):\n",
    "    df_all = pd.DataFrame(all_array[i], columns = [\"Theta_1\",\"Theta_2\",\"X Coord\",\"y-value\"])\n",
    "    df_all.to_csv(titles_all[i])\n",
    "\n",
    "# #Separate training and testing data, uses default of an 80%/20% split\n",
    "# train_2, test_2 = test_train_split(all_2_data, shuffle_seed = seed)\n",
    "# train_2_ln_obj, test_2_ln_obj = test_train_split(all_2_data_ln_obj, shuffle_seed = seed)\n",
    "# train_3, test_3 = test_train_split(all_3_data, shuffle_seed = seed)\n",
    "\n",
    "# titles_train = np.array(['train_2_data.csv','train_2_ln_obj_data.csv','train_3_data.csv'])\n",
    "# titles_test = np.array(['test_2_data.csv','test_2_ln_obj_data.csv','test_3_data.csv'])\n",
    "\n",
    "# train_array = np.array([train_2,train_2_ln_obj,train_3])\n",
    "# test_array = np.array([test_2,test_2_ln_obj,test_3])\n",
    "\n",
    "# #Save Train Data/Test Data\n",
    "# for i in range(len(titles_train)):\n",
    "#     df_train = pd.DataFrame(train_array[i], columns = [\"Theta_1\",\"Theta_2\",\"X Coord\",\"y-value\"])\n",
    "#     df_test = pd.DataFrame(test_array[i], columns = [\"Theta_1\",\"Theta_2\",\"X Coord\",\"y-value\"])\n",
    "#     df_train.to_csv(titles_train[i])\n",
    "#     df_test.to_csv(titles_test[i])"
   ]
  },
  {
   "cell_type": "code",
   "execution_count": null,
   "id": "37454c00",
   "metadata": {},
   "outputs": [],
   "source": []
  },
  {
   "cell_type": "code",
   "execution_count": null,
   "id": "3de894a0",
   "metadata": {},
   "outputs": [],
   "source": []
  },
  {
   "cell_type": "code",
   "execution_count": null,
   "id": "1623ad93",
   "metadata": {},
   "outputs": [],
   "source": []
  }
 ],
 "metadata": {
  "kernelspec": {
   "display_name": "Python 3 (ipykernel)",
   "language": "python",
   "name": "python3"
  },
  "language_info": {
   "codemirror_mode": {
    "name": "ipython",
    "version": 3
   },
   "file_extension": ".py",
   "mimetype": "text/x-python",
   "name": "python",
   "nbconvert_exporter": "python",
   "pygments_lexer": "ipython3",
   "version": "3.9.12"
  }
 },
 "nbformat": 4,
 "nbformat_minor": 5
}
