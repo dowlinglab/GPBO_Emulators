{
 "cells": [
  {
   "cell_type": "code",
   "execution_count": 1,
   "id": "faa1bbe1",
   "metadata": {},
   "outputs": [],
   "source": [
    "import math\n",
    "import torch\n",
    "import gpytorch\n",
    "import numpy as np\n",
    "from matplotlib import pyplot as plt"
   ]
  },
  {
   "cell_type": "code",
   "execution_count": 2,
   "id": "36cb54d6",
   "metadata": {},
   "outputs": [],
   "source": [
    "# Training data is 10^2 points in [-2,2] inclusive regularly spaced\n",
    "Theta1 = np.linspace(-2,2,10)\n",
    "Theta2 = np.linspace(-2,2,10)\n",
    "mesh = np.array(np.meshgrid(Theta1, Theta2))\n",
    "x = torch.tensor(np.linspace(-2,2,5))\n",
    "\n",
    "train_T = torch.tensor(mesh.T.reshape(-1, 2))\n",
    "\n",
    "noise_mean = 0\n",
    "noise_std = 0.1**2\n",
    "Theta_True = torch.tensor([1,-1])\n",
    "noise = torch.tensor(np.random.normal(size=len(x),loc = noise_mean, scale = noise_std))\n",
    "\n",
    "# True function is y=T1*x + T2*x^2 + x^3 with Gaussian noise\n",
    "y_true =  Theta_True[0]*x + Theta_True[1]*x**2 +x**3 + noise\n",
    "\n",
    "train_y = torch.tensor(np.zeros(len(train_T)))\n",
    "for i in range(len(train_T)):\n",
    "    theta_1 = train_T[i,0]\n",
    "    theta_2 = train_T[i,1]\n",
    "    y_exp = theta_1*x + theta_2*x**2 +x**3 + noise\n",
    "    train_y[i] = sum((y_true - y_exp)**2)\n"
   ]
  },
  {
   "cell_type": "code",
   "execution_count": 3,
   "id": "d5ff1a53",
   "metadata": {},
   "outputs": [],
   "source": [
    "# We will use the simplest form of GP model, exact inference\n",
    "class ExactGPModel(gpytorch.models.ExactGP): #Exaxt GP does not add noise\n",
    "    def __init__(self, train_T, train_y, likelihood):\n",
    "        super(ExactGPModel, self).__init__(train_T, train_y, likelihood)\n",
    "        self.mean_module = gpytorch.means.ConstantMean() #What are the prior model mean & covar matrix? How do I choose?\n",
    "        self.covar_module = gpytorch.kernels.ScaleKernel(gpytorch.kernels.RBFKernel())\n",
    "\n",
    "    def forward(self, x):\n",
    "        mean_x = self.mean_module(x)\n",
    "        covar_x = self.covar_module(x)\n",
    "        return gpytorch.distributions.MultivariateNormal(mean_x, covar_x)\n",
    "\n",
    "# initialize likelihood and model\n",
    "likelihood = gpytorch.likelihoods.GaussianLikelihood()\n",
    "model = ExactGPModel(train_T, train_y, likelihood)"
   ]
  },
  {
   "cell_type": "code",
   "execution_count": 4,
   "id": "9b4bbb50",
   "metadata": {},
   "outputs": [],
   "source": [
    "# Find optimal model hyperparameters\n",
    "training_iter = 300\n",
    "\n",
    "model.train()\n",
    "likelihood.train()\n",
    "\n",
    "# Use the adam optimizer\n",
    "optimizer = torch.optim.Adam(model.parameters(), lr=0.1)  # Includes GaussianLikelihood parameters \n",
    "#Should I change lr? How do I know what would be best? Research this\n",
    "\n",
    "# \"Loss\" for GPs - the marginal log likelihood\n",
    "mll = gpytorch.mlls.ExactMarginalLogLikelihood(likelihood, model)\n",
    "\n",
    "for i in range(training_iter):\n",
    "    # Zero gradients from previous iteration\n",
    "    optimizer.zero_grad()\n",
    "    # Output from model\n",
    "    output = model(train_T)\n",
    "    # Calc loss and backprop gradients\n",
    "    loss = -mll(output, train_y)\n",
    "    loss.backward()\n",
    "#     print('Iter %d/%d - Loss: %.3f   lengthscale: %.3f   noise: %.3f' % (\n",
    "#         i + 1, training_iter, loss.item(),\n",
    "#         model.covar_module.base_kernel.lengthscale.item(),\n",
    "#          model.likelihood.noise.item()\n",
    "#     ))\n",
    "    optimizer.step()"
   ]
  },
  {
   "cell_type": "code",
   "execution_count": 5,
   "id": "c599e981",
   "metadata": {},
   "outputs": [],
   "source": [
    "# How do I print the best hyperparameters?"
   ]
  },
  {
   "cell_type": "code",
   "execution_count": 6,
   "id": "f2bbba48",
   "metadata": {},
   "outputs": [],
   "source": [
    "# Get into evaluation (predictive posterior) mode\n",
    "model.eval()\n",
    "likelihood.eval()\n",
    "\n",
    "#Define Testing Data\n",
    "test_Theta1 =  np.linspace(-2,2,5)\n",
    "test_Theta2 =  np.linspace(-2,2,5)\n",
    "mesh = np.array(np.meshgrid(test_Theta1, test_Theta2))"
   ]
  },
  {
   "cell_type": "code",
   "execution_count": 7,
   "id": "74def01e",
   "metadata": {},
   "outputs": [],
   "source": [
    "def sse_func(mesh):\n",
    "    '''\n",
    "    Function to define define sum of squared error function for heat map\n",
    "    #How should I actually say this?\n",
    "    Arguments:\n",
    "        mesh: Theta # of Theta by x array of all values of Theta1 and Theta2.\n",
    "    Returns:\n",
    "        sse: x by x sum of squared error matrix of all combination of mesh[0] and mesh[1]\n",
    "    '''\n",
    "   \n",
    "    with torch.no_grad(), gpytorch.settings.fast_pred_var():\n",
    "        test_T = torch.tensor(mesh.T.reshape(-1, 2))\n",
    "        observed_pred = likelihood(model(test_T))\n",
    "    sse = observed_pred.loc.reshape(len(test_Theta1),-1)\n",
    "    \n",
    "    return sse.T #Must traspose zz. Why?"
   ]
  },
  {
   "cell_type": "code",
   "execution_count": 8,
   "id": "d6bf72ac",
   "metadata": {
    "scrolled": true
   },
   "outputs": [
    {
     "data": {
      "image/png": "[encoded data removed]",
      "text/plain": [
       "<Figure size 432x288 with 2 Axes>"
      ]
     },
     "metadata": {
      "needs_background": "light"
     },
     "output_type": "display_data"
    }
   ],
   "source": [
    "# plot fheatmap\n",
    "xx , yy = mesh  \n",
    "\n",
    "zz = sse_func(mesh)\n",
    "\n",
    "plt.contourf(xx,yy,zz)\n",
    "plt.colorbar()\n",
    "plt.scatter(Theta_True[0],Theta_True[1], color=\"red\", label = \"True Optimal\")\n",
    "plt.axis('scaled')\n",
    "plt.grid()\n",
    "plt.legend(loc = 'best')\n",
    "plt.xlabel('Theta 1',weight='bold')\n",
    "plt.ylabel('Theta 2',weight='bold')\n",
    "plt.title('Heat Map of SSE', weight='bold',fontsize = 16)\n",
    "plt.show()"
   ]
  }
 ],
 "metadata": {
  "kernelspec": {
   "display_name": "Python 3 (ipykernel)",
   "language": "python",
   "name": "python3"
  },
  "language_info": {
   "codemirror_mode": {
    "name": "ipython",
    "version": 3
   },
   "file_extension": ".py",
   "mimetype": "text/x-python",
   "name": "python",
   "nbconvert_exporter": "python",
   "pygments_lexer": "ipython3",
   "version": "3.9.7"
  }
 },
 "nbformat": 4,
 "nbformat_minor": 5
}
