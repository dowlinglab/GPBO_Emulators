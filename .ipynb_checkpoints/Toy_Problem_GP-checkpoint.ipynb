{
 "cells": [
  {
   "cell_type": "code",
   "execution_count": 73,
   "id": "faa1bbe1",
   "metadata": {},
   "outputs": [],
   "source": [
    "import math\n",
    "import torch\n",
    "import gpytorch\n",
    "import numpy as np\n",
    "from matplotlib import pyplot as plt"
   ]
  },
  {
   "cell_type": "code",
   "execution_count": 74,
   "id": "36cb54d6",
   "metadata": {},
   "outputs": [],
   "source": [
    "# Training data is 10^2 points in [-2,2] inclusive regularly spaced\n",
    "Theta1 = np.linspace(-2,2,10) #1x10\n",
    "Theta2 = np.linspace(-2,2,10) #1x10\n",
    "train_mesh = np.array(np.meshgrid(Theta1, Theta2)) #2 Uniform Arrays 10x10 (.T turns this into 10 10x2 arrays) (Why?)\n",
    "x = torch.tensor(np.linspace(-2,2,5)) #1x5\n",
    "\n",
    "#Gives every combination of \n",
    "train_T = torch.tensor(train_mesh.T.reshape(-1, 2))#100x2\n",
    "\n",
    "noise_mean = 0\n",
    "noise_std = 0.1**2\n",
    "Theta_True = torch.tensor([1,-1]) #1x2\n",
    "\n",
    "#Creates noise values with a certain stdev and mean from a normal distribution\n",
    "noise = torch.tensor(np.random.normal(size=len(x),loc = noise_mean, scale = noise_std)) #1x5\n",
    "\n",
    "# True function is y=T1*x + T2*x^2 + x^3 with Gaussian noise\n",
    "y_true =  Theta_True[0]*x + Theta_True[1]*x**2 +x**3 + noise #1x5\n",
    "\n",
    "train_y = torch.tensor(np.zeros(len(train_T))) #1 x 100\n",
    "\n",
    "#Iterates over evey combination of theta to find the SSE for each combination\n",
    "for i in range(len(train_T)):\n",
    "    theta_1 = train_T[i,0] #100x1 \n",
    "    theta_2 = train_T[i,1] #100x1\n",
    "    y_exp = theta_1*x + theta_2*x**2 +x**3 + noise #100 x5\n",
    "    train_y[i] = sum((y_true - y_exp)**2) # A number"
   ]
  },
  {
   "cell_type": "code",
   "execution_count": 97,
   "id": "d5ff1a53",
   "metadata": {},
   "outputs": [
    {
     "ename": "IndentationError",
     "evalue": "unexpected indent (Temp/ipykernel_5436/3524091515.py, line 38)",
     "output_type": "error",
     "traceback": [
      "\u001b[1;36m  File \u001b[1;32m\"C:\\Users\\mcarl\\AppData\\Local\\Temp/ipykernel_5436/3524091515.py\"\u001b[1;36m, line \u001b[1;32m38\u001b[0m\n\u001b[1;33m    print(covar_x)\u001b[0m\n\u001b[1;37m    ^\u001b[0m\n\u001b[1;31mIndentationError\u001b[0m\u001b[1;31m:\u001b[0m unexpected indent\n"
     ]
    }
   ],
   "source": [
    "# We will use the simplest form of GP model, exact inference\n",
    "#This class is the Exact GP model\n",
    "class ExactGPModel(gpytorch.models.ExactGP): #Exact GP does not add noise\n",
    "    r\"\"\"\n",
    "    The base class for any Gaussian process latent function to be used in conjunction\n",
    "    with exact inference.\n",
    "\n",
    "    :param torch.Tensor train_inputs: (size n x d) The training features :math:`\\mathbf X`.\n",
    "    :param torch.Tensor train_targets: (size n) The training targets :math:`\\mathbf y`.\n",
    "    :param ~gpytorch.likelihoods.GaussianLikelihood likelihood: The Gaussian likelihood that defines\n",
    "        the observational distribution. Since we're using exact inference, the likelihood must be Gaussian.\n",
    "\n",
    "    The :meth:`forward` function should describe how to compute the prior latent distribution\n",
    "    on a given input. Typically, this will involve a mean and kernel function.\n",
    "    The result must be a :obj:`~gpytorch.distributions.MultivariateNormal`.\n",
    "\n",
    "    Calling this model will return the posterior of the latent Gaussian process when conditioned\n",
    "    on the training data. The output will be a :obj:`~gpytorch.distributions.MultivariateNormal`.\"\"\"\n",
    "\n",
    "    def __init__(self, train_T, train_y, likelihood):\n",
    "        #Initializes the GP model with train_Y, train_y, and the likelihood\n",
    "        ##What is super and what does it do?\n",
    "        super(ExactGPModel, self).__init__(train_T, train_y, likelihood)\n",
    "        #Sets a constant mean on the model\n",
    "        self.mean_module = gpytorch.means.ConstantMean()\n",
    "        #Sets covariance matrix to a scaled RFB Kernel\n",
    "        self.covar_module = gpytorch.kernels.ScaleKernel(gpytorch.kernels.RBFKernel()) \n",
    "        print(self.covar_module)\n",
    "    #What is x here?\n",
    "    def forward(self, x):\n",
    "        \"\"\"\n",
    "        Args: \n",
    "        self: A class. The model itself. In this case, gpytorch.models.ExactGP\n",
    "        x: train_T\n",
    "        \"\"\"\n",
    "        mean_x = self.mean_module(x) #1x100\n",
    "        covar_x = self.covar_module(x) #1x100\n",
    "         print(covar_x)\n",
    "        return gpytorch.distributions.MultivariateNormal(mean_x, covar_x)\n",
    "\n",
    "# initialize likelihood and model\n",
    "##Assumes a homoskedastic noise model p(y | f) = f + noise\n",
    "likelihood = gpytorch.likelihoods.GaussianLikelihood()\n",
    "model = ExactGPModel(train_T, train_y, likelihood)"
   ]
  },
  {
   "cell_type": "code",
   "execution_count": 98,
   "id": "9b4bbb50",
   "metadata": {},
   "outputs": [
    {
     "name": "stdout",
     "output_type": "stream",
     "text": [
      "tensor([0.2975, 0.2975, 0.2975, 0.2975, 0.2975, 0.2975, 0.2975, 0.2975, 0.2975,\n",
      "        0.2975, 0.2975, 0.2975, 0.2975, 0.2975, 0.2975, 0.2975, 0.2975, 0.2975,\n",
      "        0.2975, 0.2975, 0.2975, 0.2975, 0.2975, 0.2975, 0.2975, 0.2975, 0.2975,\n",
      "        0.2975, 0.2975, 0.2975, 0.2975, 0.2975, 0.2975, 0.2975, 0.2975, 0.2975,\n",
      "        0.2975, 0.2975, 0.2975, 0.2975, 0.2975, 0.2975, 0.2975, 0.2975, 0.2975,\n",
      "        0.2975, 0.2975, 0.2975, 0.2975, 0.2975, 0.2975, 0.2975, 0.2975, 0.2975,\n",
      "        0.2975, 0.2975, 0.2975, 0.2975, 0.2975, 0.2975, 0.2975, 0.2975, 0.2975,\n",
      "        0.2975, 0.2975, 0.2975, 0.2975, 0.2975, 0.2975, 0.2975, 0.2975, 0.2975,\n",
      "        0.2975, 0.2975, 0.2975, 0.2975, 0.2975, 0.2975, 0.2975, 0.2975, 0.2975,\n",
      "        0.2975, 0.2975, 0.2975, 0.2975, 0.2975, 0.2975, 0.2975, 0.2975, 0.2975,\n",
      "        0.2975, 0.2975, 0.2975, 0.2975, 0.2975, 0.2975, 0.2975, 0.2975, 0.2975,\n",
      "        0.2975], grad_fn=<ExpandBackward0>)\n",
      "tensor([0.3975, 0.3975, 0.3975, 0.3975, 0.3975, 0.3975, 0.3975, 0.3975, 0.3975,\n",
      "        0.3975, 0.3975, 0.3975, 0.3975, 0.3975, 0.3975, 0.3975, 0.3975, 0.3975,\n",
      "        0.3975, 0.3975, 0.3975, 0.3975, 0.3975, 0.3975, 0.3975, 0.3975, 0.3975,\n",
      "        0.3975, 0.3975, 0.3975, 0.3975, 0.3975, 0.3975, 0.3975, 0.3975, 0.3975,\n",
      "        0.3975, 0.3975, 0.3975, 0.3975, 0.3975, 0.3975, 0.3975, 0.3975, 0.3975,\n",
      "        0.3975, 0.3975, 0.3975, 0.3975, 0.3975, 0.3975, 0.3975, 0.3975, 0.3975,\n",
      "        0.3975, 0.3975, 0.3975, 0.3975, 0.3975, 0.3975, 0.3975, 0.3975, 0.3975,\n",
      "        0.3975, 0.3975, 0.3975, 0.3975, 0.3975, 0.3975, 0.3975, 0.3975, 0.3975,\n",
      "        0.3975, 0.3975, 0.3975, 0.3975, 0.3975, 0.3975, 0.3975, 0.3975, 0.3975,\n",
      "        0.3975, 0.3975, 0.3975, 0.3975, 0.3975, 0.3975, 0.3975, 0.3975, 0.3975,\n",
      "        0.3975, 0.3975, 0.3975, 0.3975, 0.3975, 0.3975, 0.3975, 0.3975, 0.3975,\n",
      "        0.3975], grad_fn=<ExpandBackward0>)\n",
      "tensor([0.4970, 0.4970, 0.4970, 0.4970, 0.4970, 0.4970, 0.4970, 0.4970, 0.4970,\n",
      "        0.4970, 0.4970, 0.4970, 0.4970, 0.4970, 0.4970, 0.4970, 0.4970, 0.4970,\n",
      "        0.4970, 0.4970, 0.4970, 0.4970, 0.4970, 0.4970, 0.4970, 0.4970, 0.4970,\n",
      "        0.4970, 0.4970, 0.4970, 0.4970, 0.4970, 0.4970, 0.4970, 0.4970, 0.4970,\n",
      "        0.4970, 0.4970, 0.4970, 0.4970, 0.4970, 0.4970, 0.4970, 0.4970, 0.4970,\n",
      "        0.4970, 0.4970, 0.4970, 0.4970, 0.4970, 0.4970, 0.4970, 0.4970, 0.4970,\n",
      "        0.4970, 0.4970, 0.4970, 0.4970, 0.4970, 0.4970, 0.4970, 0.4970, 0.4970,\n",
      "        0.4970, 0.4970, 0.4970, 0.4970, 0.4970, 0.4970, 0.4970, 0.4970, 0.4970,\n",
      "        0.4970, 0.4970, 0.4970, 0.4970, 0.4970, 0.4970, 0.4970, 0.4970, 0.4970,\n",
      "        0.4970, 0.4970, 0.4970, 0.4970, 0.4970, 0.4970, 0.4970, 0.4970, 0.4970,\n",
      "        0.4970, 0.4970, 0.4970, 0.4970, 0.4970, 0.4970, 0.4970, 0.4970, 0.4970,\n",
      "        0.4970], grad_fn=<ExpandBackward0>)\n"
     ]
    }
   ],
   "source": [
    "# Find optimal model hyperparameters\n",
    "training_iter = 3\n",
    "\n",
    "model.train()\n",
    "likelihood.train()\n",
    "\n",
    "# Use the adam optimizer\n",
    "optimizer = torch.optim.Adam(model.parameters(), lr=0.1)  # Includes GaussianLikelihood parameters \n",
    "#Should I change lr? How do I know what would be best? Research this\n",
    "\n",
    "# \"Loss\" for GPs - the marginal log likelihood\n",
    "mll = gpytorch.mlls.ExactMarginalLogLikelihood(likelihood, model)\n",
    "\n",
    "for i in range(training_iter):\n",
    "    # Zero gradients from previous iteration\n",
    "    optimizer.zero_grad()\n",
    "    # Output from model\n",
    "    output = model(train_T)\n",
    "    # Calc loss and backprop gradients\n",
    "    loss = -mll(output, train_y)\n",
    "    loss.backward()\n",
    "#     print('Iter %d/%d - Loss: %.3f   lengthscale: %.3f   noise: %.3f' % (\n",
    "#         i + 1, training_iter, loss.item(),\n",
    "#         model.covar_module.base_kernel.lengthscale.item(),\n",
    "#          model.likelihood.noise.item()\n",
    "#     ))\n",
    "    optimizer.step()"
   ]
  },
  {
   "cell_type": "code",
   "execution_count": 78,
   "id": "f2bbba48",
   "metadata": {},
   "outputs": [],
   "source": [
    "# Get into evaluation (predictive posterior) mode\n",
    "model.eval()\n",
    "likelihood.eval()\n",
    "\n",
    "#Define Testing Data\n",
    "test_Theta1 =  np.linspace(-2,2,5) #1x5\n",
    "test_Theta2 =  np.linspace(-2,2,5) #1x5\n",
    "test_mesh = np.array(np.meshgrid(test_Theta1, test_Theta2)) #2 Uniform 5x5 arrays"
   ]
  },
  {
   "cell_type": "code",
   "execution_count": 79,
   "id": "74def01e",
   "metadata": {},
   "outputs": [],
   "source": [
    "def sse_func(mesh):\n",
    "    '''\n",
    "    Function to define define sum of squared error function for heat map\n",
    "    Arguments:\n",
    "        mesh: Uniform array of all x values for each theta\n",
    "    Returns:\n",
    "        sse: x by x sum of squared error matrix of all combinations of the mesh\n",
    "    '''\n",
    "   \n",
    "    with torch.no_grad(), gpytorch.settings.fast_pred_var():\n",
    "        test_T = torch.tensor(mesh.T.reshape(-1, 2))\n",
    "        observed_pred = likelihood(model(test_T))\n",
    "    sse = observed_pred.loc.reshape(len(test_Theta1),-1)\n",
    "    \n",
    "    return sse #Must traspose zz. Why?"
   ]
  },
  {
   "cell_type": "code",
   "execution_count": 80,
   "id": "d6bf72ac",
   "metadata": {
    "scrolled": true
   },
   "outputs": [
    {
     "name": "stdout",
     "output_type": "stream",
     "text": [
      "tensor([11.9043, 11.9043, 11.9043, 11.9043, 11.9043, 11.9043, 11.9043, 11.9043,\n",
      "        11.9043, 11.9043, 11.9043, 11.9043, 11.9043, 11.9043, 11.9043, 11.9043,\n",
      "        11.9043, 11.9043, 11.9043, 11.9043, 11.9043, 11.9043, 11.9043, 11.9043,\n",
      "        11.9043, 11.9043, 11.9043, 11.9043, 11.9043, 11.9043, 11.9043, 11.9043,\n",
      "        11.9043, 11.9043, 11.9043, 11.9043, 11.9043, 11.9043, 11.9043, 11.9043,\n",
      "        11.9043, 11.9043, 11.9043, 11.9043, 11.9043, 11.9043, 11.9043, 11.9043,\n",
      "        11.9043, 11.9043, 11.9043, 11.9043, 11.9043, 11.9043, 11.9043, 11.9043,\n",
      "        11.9043, 11.9043, 11.9043, 11.9043, 11.9043, 11.9043, 11.9043, 11.9043,\n",
      "        11.9043, 11.9043, 11.9043, 11.9043, 11.9043, 11.9043, 11.9043, 11.9043,\n",
      "        11.9043, 11.9043, 11.9043, 11.9043, 11.9043, 11.9043, 11.9043, 11.9043,\n",
      "        11.9043, 11.9043, 11.9043, 11.9043, 11.9043, 11.9043, 11.9043, 11.9043,\n",
      "        11.9043, 11.9043, 11.9043, 11.9043, 11.9043, 11.9043, 11.9043, 11.9043,\n",
      "        11.9043, 11.9043, 11.9043, 11.9043], requires_grad=True)\n",
      "<gpytorch.lazy.lazy_evaluated_kernel_tensor.LazyEvaluatedKernelTensor object at 0x00000288C4CBF5E0>\n",
      "tensor([11.9043, 11.9043, 11.9043, 11.9043, 11.9043, 11.9043, 11.9043, 11.9043,\n",
      "        11.9043, 11.9043, 11.9043, 11.9043, 11.9043, 11.9043, 11.9043, 11.9043,\n",
      "        11.9043, 11.9043, 11.9043, 11.9043, 11.9043, 11.9043, 11.9043, 11.9043,\n",
      "        11.9043, 11.9043, 11.9043, 11.9043, 11.9043, 11.9043, 11.9043, 11.9043,\n",
      "        11.9043, 11.9043, 11.9043, 11.9043, 11.9043, 11.9043, 11.9043, 11.9043,\n",
      "        11.9043, 11.9043, 11.9043, 11.9043, 11.9043, 11.9043, 11.9043, 11.9043,\n",
      "        11.9043, 11.9043, 11.9043, 11.9043, 11.9043, 11.9043, 11.9043, 11.9043,\n",
      "        11.9043, 11.9043, 11.9043, 11.9043, 11.9043, 11.9043, 11.9043, 11.9043,\n",
      "        11.9043, 11.9043, 11.9043, 11.9043, 11.9043, 11.9043, 11.9043, 11.9043,\n",
      "        11.9043, 11.9043, 11.9043, 11.9043, 11.9043, 11.9043, 11.9043, 11.9043,\n",
      "        11.9043, 11.9043, 11.9043, 11.9043, 11.9043, 11.9043, 11.9043, 11.9043,\n",
      "        11.9043, 11.9043, 11.9043, 11.9043, 11.9043, 11.9043, 11.9043, 11.9043,\n",
      "        11.9043, 11.9043, 11.9043, 11.9043, 11.9043, 11.9043, 11.9043, 11.9043,\n",
      "        11.9043, 11.9043, 11.9043, 11.9043, 11.9043, 11.9043, 11.9043, 11.9043,\n",
      "        11.9043, 11.9043, 11.9043, 11.9043, 11.9043, 11.9043, 11.9043, 11.9043,\n",
      "        11.9043, 11.9043, 11.9043, 11.9043, 11.9043], requires_grad=True)\n",
      "<gpytorch.lazy.lazy_evaluated_kernel_tensor.LazyEvaluatedKernelTensor object at 0x00000288C4CBF8E0>\n",
      "The GP predicts that Theta1 = 1.0 and Theta2 = -1.0\n"
     ]
    },
    {
     "data": {
      "image/png": "[encoded data removed]",
      "text/plain": [
       "<Figure size 432x288 with 2 Axes>"
      ]
     },
     "metadata": {
      "needs_background": "light"
     },
     "output_type": "display_data"
    }
   ],
   "source": [
    "# plot fheatmap\n",
    "xx , yy = test_mesh #2 Uniform 5x5 arrays\n",
    "test_T = torch.tensor(test_mesh.T.reshape(-1, 2)) #25 x 2\n",
    "\n",
    "zz = sse_func(test_mesh) #5 x 5\n",
    "Theta_GP = test_T[np.argmin(zz)].numpy() #1x2\n",
    "print(\"The GP predicts that Theta1 =\",Theta_GP[0],\"and Theta2 =\", Theta_GP[1])\n",
    "\n",
    "plt.contourf(xx,yy,zz.T)\n",
    "plt.colorbar()\n",
    "plt.scatter(Theta_True[0],Theta_True[1], color=\"red\", label = \"True\", s=50)\n",
    "plt.scatter(Theta_GP[0],Theta_GP[1], color=\"orange\", label = \"GP\")\n",
    "plt.axis('scaled')\n",
    "plt.grid()\n",
    "plt.legend(loc = 'best')\n",
    "plt.xlabel('Theta 1',weight='bold')\n",
    "plt.ylabel('Theta 2',weight='bold')\n",
    "plt.title('Heat Map of SSE', weight='bold',fontsize = 16)\n",
    "plt.show()"
   ]
  },
  {
   "cell_type": "code",
   "execution_count": null,
   "id": "18100b97",
   "metadata": {},
   "outputs": [],
   "source": []
  }
 ],
 "metadata": {
  "kernelspec": {
   "display_name": "Python 3 (ipykernel)",
   "language": "python",
   "name": "python3"
  },
  "language_info": {
   "codemirror_mode": {
    "name": "ipython",
    "version": 3
   },
   "file_extension": ".py",
   "mimetype": "text/x-python",
   "name": "python",
   "nbconvert_exporter": "python",
   "pygments_lexer": "ipython3",
   "version": "3.9.7"
  }
 },
 "nbformat": 4,
 "nbformat_minor": 5
}
