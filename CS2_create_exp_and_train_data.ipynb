{
 "cells": [
  {
   "cell_type": "code",
   "execution_count": 1,
   "id": "bc88a957",
   "metadata": {},
   "outputs": [
    {
     "name": "stderr",
     "output_type": "stream",
     "text": [
      "/afs/crc.nd.edu/user/m/mcarlozo/.conda/envs/Toy_Problem_env/lib/python3.9/site-packages/tqdm/auto.py:22: TqdmWarning: IProgress not found. Please update jupyter and ipywidgets. See https://ipywidgets.readthedocs.io/en/stable/user_install.html\n",
      "  from .autonotebook import tqdm as notebook_tqdm\n"
     ]
    }
   ],
   "source": [
    "from CS2_bo_functions import LHS_Design\n",
    "from CS2_bo_functions import create_y_data\n",
    "from CS2_bo_functions import calc_y_exp\n",
    "from CS2_bo_functions import test_train_split\n",
    "from CS2_bo_functions import create_sse_data\n",
    "from scipy.stats import qmc\n",
    "import numpy as np\n",
    "import pandas as pd\n",
    "import os"
   ]
  },
  {
   "cell_type": "code",
   "execution_count": 11,
   "id": "2b3fd987",
   "metadata": {},
   "outputs": [
    {
     "name": "stdout",
     "output_type": "stream",
     "text": [
      "[[-1.68702492e+00 -8.28681721e-01 -4.30157408e+00  8.44493183e-01]\n",
      " [-9.71607463e-01 -1.99153801e+00 -6.93019682e+00 -9.83647526e-01]\n",
      " [-2.65877345e-03 -1.44372480e+00 -1.74247216e+00 -4.13030839e-01]\n",
      " [-6.00562605e-01 -1.83062144e-01 -3.49165112e+00  1.24307803e+00]\n",
      " [-1.93156035e+00 -1.77053337e+00 -5.14959054e+00  1.45185030e+00]\n",
      " [-1.12797472e+00 -1.87825909e+00 -8.99387037e+00 -7.97247710e-01]\n",
      " [-4.88286257e-01 -3.91281005e-01 -7.85410346e+00  4.89100625e-01]\n",
      " [-1.79232382e+00 -2.08973078e-01 -5.68506577e+00  7.88122113e-02]\n",
      " [-5.47772990e-01 -1.07928579e+00 -8.09754320e+00  3.87549301e-01]\n",
      " [-1.01265184e+00 -6.96278158e-01 -1.06638727e+00 -1.64521967e+00]\n",
      " [-2.37705637e-01 -1.16234216e+00 -9.39104807e+00  7.84270221e-01]\n",
      " [-1.49312375e+00 -4.76279172e-01 -1.60482059e-01 -1.83786640e+00]\n",
      " [-1.55959529e+00 -1.65946892e+00 -2.63373418e+00  1.76612144e+00]\n",
      " [-1.37664673e+00 -9.67267525e-01 -6.40012468e+00  1.15608466e+00]\n",
      " [-8.72320853e-01 -1.30746047e+00 -5.03668997e-01 -1.43588691e+00]\n",
      " [-1.27820427e+00 -1.25400695e+00 -2.30835250e+00 -1.11850525e+00]\n",
      " [-1.86358831e+00 -1.53229058e+00 -4.86030167e+00 -1.20293330e+00]\n",
      " [-7.37721980e-01 -5.46639007e-03 -9.56291129e+00 -3.80917554e-01]\n",
      " [-3.60254503e-01 -7.79093095e-01 -7.30285985e+00  1.88562182e+00]\n",
      " [-1.79496587e-01 -5.62314998e-01 -3.75515730e+00 -1.11308578e-01]]\n"
     ]
    }
   ],
   "source": [
    "#LHS Design in python - May switch code to use this instead for conciseness\n",
    "emulator = True\n",
    "seed = 9\n",
    "LHS_Points =20\n",
    "d = 4\n",
    "sampler = qmc.LatinHypercube(d=d, seed = seed)\n",
    "sample = sampler.random(n=LHS_Points)\n",
    "l_bounds =  [-2, -2, -10 ,-2]\n",
    "u_bounds =  [0, 0 , 0, 2 ]\n",
    "LHS = qmc.scale(sample, l_bounds, u_bounds)\n",
    "# print(LHS)"
   ]
  },
  {
   "cell_type": "code",
   "execution_count": 5,
   "id": "fb95b690",
   "metadata": {},
   "outputs": [],
   "source": [
    "#Creates Experimental data and saves to a csv\n",
    "Constants = np.array([[-200,-100,-170,15],\n",
    "                      [-1,-1,-6.5,0.7],\n",
    "                      [0,0,11,0.6],\n",
    "                      [-10,-10,-6.5,0.7],\n",
    "                      [1,0,-0.5,-1],\n",
    "                      [0,0.5,1.5,1]])\n",
    "\n",
    "Xexp = np.array([[-0.558,-0.050,0.623,-0.82, 0.22],\n",
    "                 [1.442,0.467,0.028,0.62,0.30]])\n",
    "\n",
    "n = Xexp.shape[1]\n",
    "noise_std = 0.01\n",
    "Yexp = calc_y_exp(Constants, Xexp, noise_std)\n",
    "\n",
    "df = pd.DataFrame({'X1exp': Xexp[0, :], 'X2exp': Xexp[1, :], 'Yexp':Yexp[:]})\n",
    "\n",
    "path = 'Input_CSVs/Exp_Data'\n",
    "if not os.path.exists(path):\n",
    "    os.makedirs(path)\n",
    "df.to_csv(os.path.join(path,'n='+str(n)+'.csv'))"
   ]
  },
  {
   "cell_type": "code",
   "execution_count": 36,
   "id": "b6e89f9d",
   "metadata": {},
   "outputs": [
    {
     "name": "stdout",
     "output_type": "stream",
     "text": [
      "          a1        a2        a3        a4  X1exp  X2exp\n",
      "0  -1.687025 -0.828682 -4.301574  0.844493 -0.558  1.442\n",
      "1  -1.687025 -0.828682 -4.301574  0.844493 -0.050  0.467\n",
      "2  -1.687025 -0.828682 -4.301574  0.844493  0.623  0.028\n",
      "3  -1.687025 -0.828682 -4.301574  0.844493 -0.820  0.620\n",
      "4  -1.687025 -0.828682 -4.301574  0.844493  0.220  0.300\n",
      "..       ...       ...       ...       ...    ...    ...\n",
      "95 -0.179497 -0.562315 -3.755157 -0.111309 -0.558  1.442\n",
      "96 -0.179497 -0.562315 -3.755157 -0.111309 -0.050  0.467\n",
      "97 -0.179497 -0.562315 -3.755157 -0.111309  0.623  0.028\n",
      "98 -0.179497 -0.562315 -3.755157 -0.111309 -0.820  0.620\n",
      "99 -0.179497 -0.562315 -3.755157 -0.111309  0.220  0.300\n",
      "\n",
      "[100 rows x 6 columns]\n"
     ]
    }
   ],
   "source": [
    "#Array for Standard Approach\n",
    "all_p_standard = pd.DataFrame(LHS, columns = [\"a1\", \"a2\", \"a3\", \"a4\"])\n",
    "\n",
    "\n",
    "#Array for Emulator approach\n",
    "df = all_p_standard.iloc[np.repeat(np.arange(len(all_p_standard)), n)]\n",
    "df = df.reset_index(drop = True)\n",
    "Xexp_repeat = np.repeat(Xexp, LHS_Points, axis = 0).reshape(Xexp.shape[0],-1)\n",
    "# print(Xexp_repeat)\n",
    "#Add Xexp \n",
    "for i in range(Xexp.shape[0]):\n",
    "    df['X'+str(i+1)+'exp'] = Xexp_repeat[i]\n",
    "all_p_emulator = df\n",
    "print(all_p_emulator)"
   ]
  },
  {
   "cell_type": "code",
   "execution_count": 5,
   "id": "988797bc",
   "metadata": {},
   "outputs": [
    {
     "ename": "ValueError",
     "evalue": "all the input array dimensions for the concatenation axis must match exactly, but along dimension 0, the array at index 0 has size 40 and the array at index 1 has size 3",
     "output_type": "error",
     "traceback": [
      "\u001b[0;31m---------------------------------------------------------------------------\u001b[0m",
      "\u001b[0;31mValueError\u001b[0m                                Traceback (most recent call last)",
      "Input \u001b[0;32mIn [5]\u001b[0m, in \u001b[0;36m<cell line: 6>\u001b[0;34m()\u001b[0m\n\u001b[1;32m     14\u001b[0m \u001b[38;5;28;01melse\u001b[39;00m:\n\u001b[1;32m     15\u001b[0m     all_3_in_y \u001b[38;5;241m=\u001b[39m create_y_data(all_p)\n\u001b[0;32m---> 16\u001b[0m     all_3_data \u001b[38;5;241m=\u001b[39m \u001b[43mnp\u001b[49m\u001b[38;5;241;43m.\u001b[39;49m\u001b[43mcolumn_stack\u001b[49m\u001b[43m(\u001b[49m\u001b[43m(\u001b[49m\u001b[43mall_p\u001b[49m\u001b[43m,\u001b[49m\u001b[43m \u001b[49m\u001b[43mall_3_in_y\u001b[49m\u001b[43m)\u001b[49m\u001b[43m)\u001b[49m\n\u001b[1;32m     17\u001b[0m     titles_all \u001b[38;5;241m=\u001b[39m np\u001b[38;5;241m.\u001b[39marray([\u001b[38;5;124m'\u001b[39m\u001b[38;5;124mall_3_data\u001b[39m\u001b[38;5;124m'\u001b[39m])\n\u001b[1;32m     18\u001b[0m     all_array \u001b[38;5;241m=\u001b[39m np\u001b[38;5;241m.\u001b[39marray([all_3_data])\n",
      "File \u001b[0;32m<__array_function__ internals>:5\u001b[0m, in \u001b[0;36mcolumn_stack\u001b[0;34m(*args, **kwargs)\u001b[0m\n",
      "File \u001b[0;32m~/.conda/envs/Toy_Problem_env/lib/python3.9/site-packages/numpy/lib/shape_base.py:656\u001b[0m, in \u001b[0;36mcolumn_stack\u001b[0;34m(tup)\u001b[0m\n\u001b[1;32m    654\u001b[0m         arr \u001b[38;5;241m=\u001b[39m array(arr, copy\u001b[38;5;241m=\u001b[39m\u001b[38;5;28;01mFalse\u001b[39;00m, subok\u001b[38;5;241m=\u001b[39m\u001b[38;5;28;01mTrue\u001b[39;00m, ndmin\u001b[38;5;241m=\u001b[39m\u001b[38;5;241m2\u001b[39m)\u001b[38;5;241m.\u001b[39mT\n\u001b[1;32m    655\u001b[0m     arrays\u001b[38;5;241m.\u001b[39mappend(arr)\n\u001b[0;32m--> 656\u001b[0m \u001b[38;5;28;01mreturn\u001b[39;00m \u001b[43m_nx\u001b[49m\u001b[38;5;241;43m.\u001b[39;49m\u001b[43mconcatenate\u001b[49m\u001b[43m(\u001b[49m\u001b[43marrays\u001b[49m\u001b[43m,\u001b[49m\u001b[43m \u001b[49m\u001b[38;5;241;43m1\u001b[39;49m\u001b[43m)\u001b[49m\n",
      "File \u001b[0;32m<__array_function__ internals>:5\u001b[0m, in \u001b[0;36mconcatenate\u001b[0;34m(*args, **kwargs)\u001b[0m\n",
      "\u001b[0;31mValueError\u001b[0m: all the input array dimensions for the concatenation axis must match exactly, but along dimension 0, the array at index 0 has size 40 and the array at index 1 has size 3"
     ]
    }
   ],
   "source": [
    "#Create Training Data and Testing Data\n",
    "#Set noise parameters and load csv file to generate training data\n",
    "# all_p = LHS_Design(\"LHS_Toy_3_Input.csv\")\n",
    "t = str(len(all_p))\n",
    "\n",
    "#Create y or SSE data\n",
    "#Save data\n",
    "if emulator == False:\n",
    "    all_2_in_y = create_sse_data(q,all_p,Xexp,Yexp)\n",
    "    all_2_in_y_ln_obj = create_sse_data(q,all_p,Xexp,Yexp, obj = \"LN_obj\")\n",
    "    all_2_data = np.column_stack((all_p, all_2_in_y))\n",
    "    all_2_data_ln_obj = np.column_stack((all_p, all_2_in_y_ln_obj))\n",
    "    titles_all = np.array(['all_2_data','all_2_ln_obj_data'])\n",
    "    all_array = np.array([all_2_data,all_2_data_ln_obj])\n",
    "\n",
    "else:\n",
    "    all_3_in_y = create_y_data(all_p)\n",
    "    all_3_data = np.column_stack((all_p, all_3_in_y))\n",
    "    titles_all = np.array(['all_3_data'])\n",
    "    all_array = np.array([all_3_data])\n",
    "\n",
    "#Save Train Data/Test Data\n",
    "for i in range(len(titles_all)):\n",
    "    df_all = pd.DataFrame(all_array[i], columns = [\"Theta_1\",\"Theta_2\",\"X Coord\",\"y-value\"])\n",
    "    path = 'Input_CSVs/Train_Data/'+titles_all[i]+\"/\"\n",
    "    if not os.path.exists(path):\n",
    "        os.makedirs(path)\n",
    "    df_all.to_csv(os.path.join(path,'t='+t)+'.csv')"
   ]
  },
  {
   "cell_type": "code",
   "execution_count": null,
   "id": "3de894a0",
   "metadata": {},
   "outputs": [],
   "source": []
  },
  {
   "cell_type": "code",
   "execution_count": null,
   "id": "1623ad93",
   "metadata": {},
   "outputs": [],
   "source": [
    "\n"
   ]
  }
 ],
 "metadata": {
  "kernelspec": {
   "display_name": "Python 3 (ipykernel)",
   "language": "python",
   "name": "python3"
  },
  "language_info": {
   "codemirror_mode": {
    "name": "ipython",
    "version": 3
   },
   "file_extension": ".py",
   "mimetype": "text/x-python",
   "name": "python",
   "nbconvert_exporter": "python",
   "pygments_lexer": "ipython3",
   "version": "3.9.12"
  }
 },
 "nbformat": 4,
 "nbformat_minor": 5
}
