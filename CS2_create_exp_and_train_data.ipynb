{
 "cells": [
  {
   "cell_type": "code",
   "execution_count": 2,
   "id": "bc88a957",
   "metadata": {},
   "outputs": [],
   "source": [
    "from CS2_bo_functions import LHS_Design\n",
    "from CS2_bo_functions import test_train_split\n",
    "# from CS2_bo_functions import create_y_data\n",
    "# from CS2_bo_functions import calc_y_exp\n",
    "# from CS2_bo_functions import create_sse_data\n",
    "from bo_functions_generic import create_y_data\n",
    "from bo_functions_generic import calc_y_exp\n",
    "from bo_functions_generic import create_sse_data\n",
    "from bo_functions_generic import clean_1D_arrays, calc_muller\n",
    "from scipy.stats import qmc\n",
    "import torch\n",
    "import numpy as np\n",
    "import pandas as pd\n",
    "import os"
   ]
  },
  {
   "cell_type": "code",
   "execution_count": 3,
   "id": "6ad873e2",
   "metadata": {},
   "outputs": [
    {
     "name": "stdout",
     "output_type": "stream",
     "text": [
      "[[1]\n",
      " [1]]\n"
     ]
    },
    {
     "ename": "ValueError",
     "evalue": "not enough values to unpack (expected 2, got 1)",
     "output_type": "error",
     "traceback": [
      "\u001b[0;31m---------------------------------------------------------------------------\u001b[0m",
      "\u001b[0;31mValueError\u001b[0m                                Traceback (most recent call last)",
      "Input \u001b[0;32mIn [3]\u001b[0m, in \u001b[0;36m<cell line: 4>\u001b[0;34m()\u001b[0m\n\u001b[1;32m      1\u001b[0m X \u001b[38;5;241m=\u001b[39m np\u001b[38;5;241m.\u001b[39marray([[\u001b[38;5;241m1\u001b[39m,\u001b[38;5;241m1\u001b[39m]])\n\u001b[1;32m      2\u001b[0m \u001b[38;5;28mprint\u001b[39m(X\u001b[38;5;241m.\u001b[39mreshape(\u001b[38;5;241m-\u001b[39m\u001b[38;5;241m1\u001b[39m,\u001b[38;5;241m1\u001b[39m))\n\u001b[0;32m----> 4\u001b[0m x,y \u001b[38;5;241m=\u001b[39m X\n\u001b[1;32m      5\u001b[0m \u001b[38;5;28mprint\u001b[39m(x)\n",
      "\u001b[0;31mValueError\u001b[0m: not enough values to unpack (expected 2, got 1)"
     ]
    }
   ],
   "source": [
    "X = np.array([[1,1]])\n",
    "print(X.reshape(-1,1))\n",
    "\n",
    "x,y = X\n",
    "print(x)"
   ]
  },
  {
   "cell_type": "code",
   "execution_count": 4,
   "id": "2b3fd987",
   "metadata": {},
   "outputs": [],
   "source": [
    "#LHS Design in python - May switch code to use this instead for conciseness\n",
    "emulator = False\n",
    "seed = 9\n",
    "LHS_Points =20\n",
    "d = 8\n",
    "# d = 2\n",
    "sampler = qmc.LatinHypercube(d=d, seed = seed)\n",
    "sample = sampler.random(n=LHS_Points)\n",
    "\n",
    "#Only going to regress \"a and b\" parameters\n",
    "skip_param_types = 1 #(Skiiping A)\n",
    "l_bounds =  [-2, -2, -10, -2, -2, -2,  5, -2]\n",
    "u_bounds =  [ 2,  2,   0,  2,  2,  2, 15,  2]\n",
    "\n",
    "# l_bounds =  [-2, -2]\n",
    "# u_bounds =  [2, 2 ]\n",
    "LHS = qmc.scale(sample, l_bounds, u_bounds)"
   ]
  },
  {
   "cell_type": "code",
   "execution_count": 6,
   "id": "b3e16b72",
   "metadata": {},
   "outputs": [
    {
     "name": "stdout",
     "output_type": "stream",
     "text": [
      "[[-0.2175623   0.9282957 ]\n",
      " [-1.15078704 -0.44438352]\n",
      " [-1.42901866  0.27115497]\n",
      " [-0.96509841  1.77044059]\n",
      " [ 0.74335307  0.640688  ]\n",
      " [ 0.87876392  1.73371145]\n",
      " [-0.50140651  0.04234464]\n",
      " [ 0.00417444  1.05384754]\n",
      " [ 0.42109913 -0.17633343]\n",
      " [-0.32479527  1.31481288]]\n"
     ]
    }
   ],
   "source": [
    "#LHS for experimental data points\n",
    "exp_LHS_Points = 10 #0 , 10, 15, 20, or 25 for 4, 8, 12, 16, and 24 params\n",
    "exp_d = 2\n",
    "exp_sampler = qmc.LatinHypercube(d=exp_d, seed = seed)\n",
    "exp_sample = exp_sampler.random(n=exp_LHS_Points)\n",
    "\n",
    "exp_l_bounds =  [-1.5, -0.5]\n",
    "exp_u_bounds =  [1 , 2]\n",
    "exp_LHS = qmc.scale(exp_sample, exp_l_bounds, exp_u_bounds)\n",
    "print(exp_LHS)"
   ]
  },
  {
   "cell_type": "code",
   "execution_count": 7,
   "id": "fb95b690",
   "metadata": {},
   "outputs": [
    {
     "name": "stdout",
     "output_type": "stream",
     "text": [
      "[-0.2175623  0.9282957]\n",
      "(15, 2)\n",
      "15\n",
      "[   5.05474681   74.53890398   12.24428821   16.62324988   44.33836208\n",
      "  591.55992898   -4.72307241   26.04219455  -46.1040296   -52.96709878\n",
      " -146.69947812  -80.76773816 -108.16663897  -40.67072465  -72.22508357]\n"
     ]
    }
   ],
   "source": [
    "#Creates Experimental data and saves to a csv\n",
    "# Constants = np.array([-200,-100,-170,15,   #A\n",
    "#                       -1,-1,-6.5,0.7,    #a\n",
    "#                       0,0,11,0.6,        #b\n",
    "#                       -10,-10,-6.5,0.7,  #c\n",
    "#                       1,0,-0.5,-1,      #x0\n",
    "#                       0,0.5,1.5,1])     #yo\n",
    "\n",
    "Constants = np.array([[-200,-100,-170,15],\n",
    "                      [-1,-1,-6.5,0.7],\n",
    "                      [0,0,11,0.6],\n",
    "                      [-10,-10,-6.5,0.7],\n",
    "                      [1,0,-0.5,-1],\n",
    "                      [0,0.5,1.5,1]])\n",
    "\n",
    "# Theta_True = np.array([-2,2])\n",
    "# Xexp = np.array([-2,-1,0,1,2])\n",
    "\n",
    "Xexp = np.array([[-0.558,-0.050,0.623,-0.82, 0.22],\n",
    "                 [1.442,0.467,0.028,0.62,0.30]])\n",
    "\n",
    "Xexp = np.vstack((exp_LHS, Xexp.T))\n",
    "print(Xexp[0])\n",
    "print(Xexp.shape)\n",
    "\n",
    "n = Xexp.shape[0]\n",
    "print(n)\n",
    "noise_std = 0.01\n",
    "Yexp = calc_y_exp(Constants, Xexp, noise_std)\n",
    "print(Yexp)"
   ]
  },
  {
   "cell_type": "code",
   "execution_count": 5,
   "id": "07a35aca",
   "metadata": {},
   "outputs": [
    {
     "name": "stdout",
     "output_type": "stream",
     "text": [
      "15\n",
      "[   5.05474681   74.53890398   12.24428821   16.62324988   44.33836208\n",
      "  591.55992898   -4.72307241   26.04219455  -46.1040296   -52.96709878\n",
      " -146.69947812  -80.76773816 -108.16663897  -40.67072465  -72.22508357]\n",
      "       X1exp     X2exp        Yexp\n",
      "0  -0.217562  0.928296    5.054747\n",
      "1  -1.150787 -0.444384   74.538904\n",
      "2  -1.429019  0.271155   12.244288\n",
      "3  -0.965098  1.770441   16.623250\n",
      "4   0.743353  0.640688   44.338362\n",
      "5   0.878764  1.733711  591.559929\n",
      "6  -0.501407  0.042345   -4.723072\n",
      "7   0.004174  1.053848   26.042195\n",
      "8   0.421099 -0.176333  -46.104030\n",
      "9  -0.324795  1.314813  -52.967099\n",
      "10 -0.558000  1.442000 -146.699478\n",
      "11 -0.050000  0.467000  -80.767738\n",
      "12  0.623000  0.028000 -108.166639\n",
      "13 -0.820000  0.620000  -40.670725\n",
      "14  0.220000  0.300000  -72.225084\n"
     ]
    }
   ],
   "source": [
    "df = pd.DataFrame({'X1exp': Xexp[:, 0], 'X2exp': Xexp[:, 1], 'Yexp':Yexp})\n",
    "# df = pd.DataFrame({'Xexp': Xexp, 'Yexp':Yexp})\n",
    "print(df)\n",
    "\n",
    "path = 'Input_CSVs/Exp_Data/d='+str(exp_d)\n",
    "if not os.path.exists(path):\n",
    "    os.makedirs(path)\n",
    "df.to_csv(os.path.join(path,'n='+str(n)+'.csv'))"
   ]
  },
  {
   "cell_type": "code",
   "execution_count": 8,
   "id": "b6e89f9d",
   "metadata": {},
   "outputs": [
    {
     "name": "stdout",
     "output_type": "stream",
     "text": [
      "          a1        a2        a3        a4        b1        b2         b3  \\\n",
      "0  -1.174050 -1.657363 -9.801574 -1.555507  0.656785  0.016924  14.569803   \n",
      "1   0.794682  1.912550 -5.742472 -1.213031  1.198875 -1.966124   8.008349   \n",
      "2  -0.663121 -0.341067 -4.649591  1.451850 -0.455949  1.643482  13.506130   \n",
      "3   0.823427  0.417438 -7.354103  0.889101  1.615352  0.582054  10.314934   \n",
      "4  -0.095546  0.841428 -3.097543 -0.212451 -1.825304 -0.992556   8.933613   \n",
      "5  -0.475411  1.075316 -2.391048  1.984270  1.213753 -1.752558  11.339518   \n",
      "6   1.880809 -0.718938 -9.133734  1.166121  0.446707 -0.734535   9.599875   \n",
      "7  -1.344642 -1.214921 -4.003669  0.764113 -0.156409 -0.108014  10.691647   \n",
      "8  -0.327177 -0.064581 -7.860302 -0.802933 -0.675444 -1.010933  12.437089   \n",
      "9   0.479491 -0.558186 -6.802860 -1.714378 -0.958993  0.675370  12.744843   \n",
      "10 -1.513783  1.531595 -8.333879 -0.481373 -0.330903 -0.296955   5.125783   \n",
      "11  1.592111  1.243569 -5.448344 -0.066206  0.853414 -0.569059  11.750596   \n",
      "12  0.053708 -1.167738 -0.655767  0.556289  1.846668  1.896765   5.992490   \n",
      "13 -1.843468  0.683676 -1.279516 -1.903411 -1.268210  1.321522   6.749799   \n",
      "14  1.686993 -1.943090 -0.497089  0.250235 -1.498110  1.004597   7.937448   \n",
      "15 -0.900184  0.303322 -3.924545 -0.721760 -1.764320 -1.273785  13.223191   \n",
      "16  1.352751  1.647233 -1.577754 -1.026634  0.346086 -1.561985   6.262241   \n",
      "17 -1.639552  0.087294 -6.030439  1.736782  0.157696  1.462097   7.427475   \n",
      "18  1.110112 -1.580290 -2.702003  0.172802 -1.084306  0.325707   9.216158   \n",
      "19  0.315537 -0.930811 -8.705056  1.210747  1.527262  0.825411  14.333357   \n",
      "\n",
      "          b4  \n",
      "0  -0.183648  \n",
      "1  -1.556922  \n",
      "2   0.602752  \n",
      "3  -1.921188  \n",
      "4   0.154780  \n",
      "5   1.762134  \n",
      "6   0.956085  \n",
      "7   1.281495  \n",
      "8  -0.380918  \n",
      "9  -0.911309  \n",
      "10 -1.138612  \n",
      "11  1.174183  \n",
      "12  1.560872  \n",
      "13 -0.513771  \n",
      "14 -0.790537  \n",
      "15  0.270233  \n",
      "16  0.592996  \n",
      "17 -1.274081  \n",
      "18 -1.625000  \n",
      "19  1.920041  \n"
     ]
    }
   ],
   "source": [
    "#Array for Standard Approach\n",
    "all_p_standard = pd.DataFrame(LHS, columns = [\"a1\", \"a2\", \"a3\", \"a4\", \"b1\", \"b2\", \"b3\", \"b4\"])\n",
    "# all_p_standard = pd.DataFrame(LHS, columns = [\"a1\", \"a2\", \"a3\", \"a4\"])\n",
    "# all_p_standard = pd.DataFrame(LHS, columns = [\"theta1\", \"theta2\"])\n",
    "\n",
    "\n",
    "#Array for Emulator approach\n",
    "df = all_p_standard.iloc[np.repeat(np.arange(len(all_p_standard)), n)]\n",
    "df = df.reset_index(drop = True)\n",
    "Xexp_repeat = np.repeat(Xexp, LHS_Points, axis = 0).reshape(Xexp.shape[1],-1)\n",
    "# print(Xexp_repeat)\n",
    "#Add Xexp \n",
    "for i in range(Xexp.shape[1]):\n",
    "    df['X'+str(i+1)+'exp'] = Xexp_repeat[i]    \n",
    "all_p_emulator = df\n",
    "# print(all_p_emulator)\n",
    "print(all_p_standard)\n"
   ]
  },
  {
   "cell_type": "code",
   "execution_count": 10,
   "id": "fd2aad24",
   "metadata": {},
   "outputs": [
    {
     "name": "stdout",
     "output_type": "stream",
     "text": [
      "(20, 8)\n",
      "(8,) (1, 2)\n",
      "[-29.51994019  -1.0829347  -29.51994019  -1.0829347  -29.51994019]\n",
      "[7.36830441e+219]\n"
     ]
    }
   ],
   "source": [
    "print(all_p_standard.shape)\n",
    "y_data = create_y_data(all_p_emulator, Constants, Xexp, skip_param_types)\n",
    "theta_b = np.array([-1.03533496, -1.74325843, -0.47707726,  1.95306714, -1.05726904, -0.07808274,\n",
    " 14.92232653, 1.8301121])\n",
    "Xexp2 = np.array([[-0.2175623, 0.9282957]]).reshape((1,-1))\n",
    "print(theta_b.shape, Xexp2.shape)\n",
    "# y_data2 = create_y_data(all_p_emulator2, Constants, Xexp2, skip_param_types = 1)\n",
    "\n",
    "y_data2 = create_y_data(theta_b, Constants, Xexp2.reshape((1,-1)), skip_param_types, noise_std)\n",
    "# all_p_standard = np.array([-1,-1,-6.5,0.7,\n",
    "#                            0,0,11,0.6])\n",
    "sse_data = create_sse_data(all_p_standard, Xexp, Yexp, Constants, obj = \"obj\", skip_param_types = skip_param_types)\n",
    "print(y_data[0:5])\n",
    "print(y_data2)\n",
    "# print(sse_data)"
   ]
  },
  {
   "cell_type": "code",
   "execution_count": 8,
   "id": "6d25c4f5",
   "metadata": {},
   "outputs": [],
   "source": [
    "## Create Training Data and Testing Data\n",
    "#Set noise parameters and load csv file to generate training data\n",
    "# all_p = LHS_Design(\"LHS_Toy_3_Input.csv\")\n",
    "\n",
    "#Create y or SSE data\n",
    "#Save data\n",
    "if emulator == False:\n",
    "    all_2_data = all_p_standard.copy()\n",
    "    all_2_in_y = create_sse_data(all_p_standard, Xexp, Yexp, Constants, obj = \"obj\", skip_param_types=skip_param_types)\n",
    "    all_2_data['Yexp'] = all_2_in_y\n",
    "    \n",
    "    all_2_data_ln_obj = all_p_standard.copy()\n",
    "    all_2_in_y_ln_obj = create_sse_data(all_p_standard, Xexp, Yexp, Constants, obj = \"LN_obj\", skip_param_types=skip_param_types)\n",
    "    all_2_data_ln_obj['Yexp'] = all_2_in_y_ln_obj\n",
    "    \n",
    "    titles_all = np.array(['all_st_data','all_st_ln_obj_data'])\n",
    "    len_data = str(len(all_2_data))\n",
    "    all_array = [all_2_data,all_2_data_ln_obj]\n",
    "\n",
    "else:\n",
    "    all_3_data = all_p_emulator.copy()\n",
    "    all_3_in_y = create_y_data(all_p_emulator, Constants, Xexp, skip_param_types=skip_param_types)\n",
    "    all_3_data['Yexp'] = all_3_in_y\n",
    "    \n",
    "    titles_all = np.array(['all_emul_data'])\n",
    "    len_data = str(len(all_3_data))\n",
    "    all_array = [all_3_data]\n",
    "    \n",
    "# print(all_array)\n",
    "\n",
    "# Save Train Data/Test Data\n",
    "for i in range(len(titles_all)):\n",
    "    path = 'Input_CSVs/Train_Data/d=' + str(d) +\"/\"+ titles_all[i]+\"/\"\n",
    "    if not os.path.exists(path):\n",
    "        os.makedirs(path)\n",
    "    all_array[i].to_csv(os.path.join(path,'t='+len_data)+'.csv')"
   ]
  }
 ],
 "metadata": {
  "kernelspec": {
   "display_name": "Python 3 (ipykernel)",
   "language": "python",
   "name": "python3"
  },
  "language_info": {
   "codemirror_mode": {
    "name": "ipython",
    "version": 3
   },
   "file_extension": ".py",
   "mimetype": "text/x-python",
   "name": "python",
   "nbconvert_exporter": "python",
   "pygments_lexer": "ipython3",
   "version": "3.9.12"
  }
 },
 "nbformat": 4,
 "nbformat_minor": 5
}
