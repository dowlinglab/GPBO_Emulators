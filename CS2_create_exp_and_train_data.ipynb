{
 "cells": [
  {
   "cell_type": "code",
   "execution_count": 1,
   "id": "bc88a957",
   "metadata": {},
   "outputs": [
    {
     "name": "stderr",
     "output_type": "stream",
     "text": [
      "/afs/crc.nd.edu/user/m/mcarlozo/.conda/envs/Toy_Problem_env/lib/python3.9/site-packages/tqdm/auto.py:22: TqdmWarning: IProgress not found. Please update jupyter and ipywidgets. See https://ipywidgets.readthedocs.io/en/stable/user_install.html\n",
      "  from .autonotebook import tqdm as notebook_tqdm\n"
     ]
    }
   ],
   "source": [
    "from CS2_bo_functions import LHS_Design\n",
    "from CS2_bo_functions import test_train_split\n",
    "from CS2_bo_functions import create_y_data\n",
    "from CS2_bo_functions import calc_y_exp\n",
    "from CS2_bo_functions import create_sse_data\n",
    "# from bo_functions_generic import create_y_data\n",
    "# from bo_functions_generic import calc_y_exp\n",
    "# from bo_functions_generic import create_sse_data\n",
    "from scipy.stats import qmc\n",
    "import torch\n",
    "import numpy as np\n",
    "import pandas as pd\n",
    "import os"
   ]
  },
  {
   "cell_type": "code",
   "execution_count": 2,
   "id": "2b3fd987",
   "metadata": {},
   "outputs": [],
   "source": [
    "#LHS Design in python - May switch code to use this instead for conciseness\n",
    "emulator = False\n",
    "seed = 9\n",
    "LHS_Points =20\n",
    "d = 4\n",
    "# d = 2\n",
    "sampler = qmc.LatinHypercube(d=d, seed = seed)\n",
    "sample = sampler.random(n=LHS_Points)\n",
    "\n",
    "#Only going to regress \"a\" parameters\n",
    "l_bounds =  [-2, -2, -10 ,-2]\n",
    "u_bounds =  [2, 2 , 0, 2 ]\n",
    "\n",
    "# l_bounds =  [-2, -2]\n",
    "# u_bounds =  [2, 2 ]\n",
    "LHS = qmc.scale(sample, l_bounds, u_bounds)"
   ]
  },
  {
   "cell_type": "code",
   "execution_count": 3,
   "id": "b3e16b72",
   "metadata": {},
   "outputs": [
    {
     "name": "stdout",
     "output_type": "stream",
     "text": [
      "[]\n"
     ]
    }
   ],
   "source": [
    "#LHS for experimental data points\n",
    "exp_LHS_Points = 0 #0 , 10, 15, 20, or 25 for 4, 8, 12, 16, and 24 params\n",
    "exp_d = 2\n",
    "exp_sampler = qmc.LatinHypercube(d=exp_d, seed = seed)\n",
    "exp_sample = exp_sampler.random(n=exp_LHS_Points)\n",
    "\n",
    "exp_l_bounds =  [-1.5, -0.5]\n",
    "exp_u_bounds =  [1 , 2]\n",
    "exp_LHS = qmc.scale(exp_sample, exp_l_bounds, exp_u_bounds)\n",
    "print(exp_LHS)"
   ]
  },
  {
   "cell_type": "code",
   "execution_count": 4,
   "id": "fb95b690",
   "metadata": {},
   "outputs": [
    {
     "name": "stdout",
     "output_type": "stream",
     "text": [
      "[-0.558  1.442]\n",
      "(5, 2)\n"
     ]
    }
   ],
   "source": [
    "#Creates Experimental data and saves to a csv\n",
    "Constants = np.array([[-200,-100,-170,15],\n",
    "                      [-1,-1,-6.5,0.7],\n",
    "                      [0,0,11,0.6],\n",
    "                      [-10,-10,-6.5,0.7],\n",
    "                      [1,0,-0.5,-1],\n",
    "                      [0,0.5,1.5,1]])\n",
    "\n",
    "Theta_True = np.array([-2,2])\n",
    "# Xexp = np.array([-2,-1,0,1,2])\n",
    "\n",
    "Xexp = np.array([[-0.558,-0.050,0.623,-0.82, 0.22],\n",
    "                 [1.442,0.467,0.028,0.62,0.30]])\n",
    "\n",
    "Xexp = np.vstack((exp_LHS, Xexp.T))\n",
    "print(Xexp[0])\n",
    "print(Xexp.shape)\n"
   ]
  },
  {
   "cell_type": "code",
   "execution_count": 5,
   "id": "07a35aca",
   "metadata": {},
   "outputs": [
    {
     "name": "stdout",
     "output_type": "stream",
     "text": [
      "5\n",
      "[-146.69947812  -80.76773816 -108.16663897  -40.67072465  -72.22508357]\n",
      "   X1exp  X2exp        Yexp\n",
      "0 -0.558  1.442 -146.699478\n",
      "1 -0.050  0.467  -80.767738\n",
      "2  0.623  0.028 -108.166639\n",
      "3 -0.820  0.620  -40.670725\n",
      "4  0.220  0.300  -72.225084\n"
     ]
    }
   ],
   "source": [
    "n = Xexp.shape[0]\n",
    "print(n)\n",
    "noise_std = 0.01\n",
    "Yexp = calc_y_exp(Constants, Xexp, noise_std)\n",
    "# Yexp = calc_y_exp(Theta_True, Xexp, noise_std)\n",
    "print(Yexp)\n",
    "\n",
    "df = pd.DataFrame({'X1exp': Xexp[:, 0], 'X2exp': Xexp[:, 1], 'Yexp':Yexp})\n",
    "# df = pd.DataFrame({'Xexp': Xexp, 'Yexp':Yexp})\n",
    "print(df)\n",
    "\n",
    "path = 'Input_CSVs/Exp_Data/d='+str(d)\n",
    "if not os.path.exists(path):\n",
    "    os.makedirs(path)\n",
    "df.to_csv(os.path.join(path,'n='+str(n)+'.csv'))"
   ]
  },
  {
   "cell_type": "code",
   "execution_count": 6,
   "id": "b6e89f9d",
   "metadata": {},
   "outputs": [],
   "source": [
    "#Array for Standard Approach\n",
    "all_p_standard = pd.DataFrame(LHS, columns = [\"a1\", \"a2\", \"a3\", \"a4\"])\n",
    "# all_p_standard = pd.DataFrame(LHS, columns = [\"theta1\", \"theta2\"])\n",
    "\n",
    "\n",
    "#Array for Emulator approach\n",
    "df = all_p_standard.iloc[np.repeat(np.arange(len(all_p_standard)), n)]\n",
    "df = df.reset_index(drop = True)\n",
    "Xexp_repeat = np.repeat(Xexp, LHS_Points, axis = 0).reshape(Xexp.shape[1],-1)\n",
    "# print(Xexp_repeat)\n",
    "#Add Xexp \n",
    "for i in range(Xexp.shape[1]):\n",
    "    df['X'+str(i+1)+'exp'] = Xexp_repeat[i]    \n",
    "all_p_emulator = df\n",
    "# print(all_p_emulator)\n",
    "# print(all_p_standard)\n"
   ]
  },
  {
   "cell_type": "code",
   "execution_count": 7,
   "id": "fd2aad24",
   "metadata": {},
   "outputs": [],
   "source": [
    "y_data = create_y_data(all_p_emulator, Constants)\n",
    "sse_data = create_sse_data(all_p_standard, Xexp, Yexp, Constants, obj = \"obj\")\n",
    "# print(y_data)\n",
    "# print(sse_data)"
   ]
  },
  {
   "cell_type": "code",
   "execution_count": 8,
   "id": "988797bc",
   "metadata": {},
   "outputs": [],
   "source": [
    "#Create Training Data and Testing Data\n",
    "#Set noise parameters and load csv file to generate training data\n",
    "# all_p = LHS_Design(\"LHS_Toy_3_Input.csv\")\n",
    "\n",
    "#Create y or SSE data\n",
    "#Save data\n",
    "if emulator == False:\n",
    "    all_2_data = all_p_standard.copy()\n",
    "    all_2_in_y = create_sse_data(all_p_standard, Xexp, Yexp, Constants, obj = \"obj\")\n",
    "    all_2_data['Yexp'] = all_2_in_y\n",
    "    \n",
    "    all_2_data_ln_obj = all_p_standard.copy()\n",
    "    all_2_in_y_ln_obj = create_sse_data(all_p_standard, Xexp, Yexp, Constants, obj = \"LN_obj\")\n",
    "    all_2_data_ln_obj['Yexp'] = all_2_in_y_ln_obj\n",
    "    \n",
    "    titles_all = np.array(['all_st_data','all_st_ln_obj_data'])\n",
    "    len_data = str(len(all_2_data))\n",
    "    all_array = [all_2_data,all_2_data_ln_obj]\n",
    "\n",
    "else:\n",
    "    all_3_data = all_p_emulator.copy()\n",
    "    all_3_in_y = create_y_data(all_p_emulator, Constants)\n",
    "    all_3_data['Yexp'] = all_3_in_y\n",
    "    \n",
    "    titles_all = np.array(['all_emul_data'])\n",
    "    len_data = str(len(all_3_data))\n",
    "    all_array = [all_3_data]\n",
    "    \n",
    "# print(all_array)\n",
    "\n",
    "# Save Train Data/Test Data\n",
    "for i in range(len(titles_all)):\n",
    "    path = 'Input_CSVs/Train_Data/d=' + str(d) +\"/\"+ titles_all[i]+\"/\"\n",
    "    if not os.path.exists(path):\n",
    "        os.makedirs(path)\n",
    "    all_array[i].to_csv(os.path.join(path,'t='+len_data)+'.csv')"
   ]
  },
  {
   "cell_type": "code",
   "execution_count": null,
   "id": "6d25c4f5",
   "metadata": {},
   "outputs": [],
   "source": []
  }
 ],
 "metadata": {
  "kernelspec": {
   "display_name": "Python 3 (ipykernel)",
   "language": "python",
   "name": "python3"
  },
  "language_info": {
   "codemirror_mode": {
    "name": "ipython",
    "version": 3
   },
   "file_extension": ".py",
   "mimetype": "text/x-python",
   "name": "python",
   "nbconvert_exporter": "python",
   "pygments_lexer": "ipython3",
   "version": "3.9.12"
  }
 },
 "nbformat": 4,
 "nbformat_minor": 5
}
