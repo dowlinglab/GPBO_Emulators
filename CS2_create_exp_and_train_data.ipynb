{
 "cells": [
  {
   "cell_type": "code",
   "execution_count": 1,
   "id": "bc88a957",
   "metadata": {},
   "outputs": [
    {
     "name": "stderr",
     "output_type": "stream",
     "text": [
      "/afs/crc.nd.edu/user/m/mcarlozo/.conda/envs/Toy_Problem_env/lib/python3.9/site-packages/tqdm/auto.py:22: TqdmWarning: IProgress not found. Please update jupyter and ipywidgets. See https://ipywidgets.readthedocs.io/en/stable/user_install.html\n",
      "  from .autonotebook import tqdm as notebook_tqdm\n"
     ]
    }
   ],
   "source": [
    "from CS2_bo_functions import LHS_Design\n",
    "from CS2_bo_functions import create_y_data\n",
    "from CS2_bo_functions import calc_y_exp\n",
    "from CS2_bo_functions import test_train_split\n",
    "from CS2_bo_functions import create_sse_data\n",
    "from scipy.stats import qmc\n",
    "import numpy as np\n",
    "import pandas as pd\n",
    "import os"
   ]
  },
  {
   "cell_type": "code",
   "execution_count": 2,
   "id": "2b3fd987",
   "metadata": {},
   "outputs": [],
   "source": [
    "#LHS Design in python - May switch code to use this instead for conciseness\n",
    "emulator = True\n",
    "seed = 9\n",
    "LHS_Points =20\n",
    "d = 4\n",
    "sampler = qmc.LatinHypercube(d=d, seed = seed)\n",
    "sample = sampler.random(n=LHS_Points)\n",
    "l_bounds =  [-2, -2, -10 ,-2]\n",
    "u_bounds =  [0, 0 , 0, 2 ]\n",
    "LHS = qmc.scale(sample, l_bounds, u_bounds)\n",
    "# print(LHS)"
   ]
  },
  {
   "cell_type": "code",
   "execution_count": 3,
   "id": "fb95b690",
   "metadata": {},
   "outputs": [],
   "source": [
    "#Creates Experimental data and saves to a csv\n",
    "Constants = np.array([[-200,-100,-170,15],\n",
    "                      [-1,-1,-6.5,0.7],\n",
    "                      [0,0,11,0.6],\n",
    "                      [-10,-10,-6.5,0.7],\n",
    "                      [1,0,-0.5,-1],\n",
    "                      [0,0.5,1.5,1]])\n",
    "\n",
    "Xexp = np.array([[-0.558,-0.050,0.623,-0.82, 0.22],\n",
    "                 [1.442,0.467,0.028,0.62,0.30]])\n",
    "\n",
    "n = Xexp.shape[1]\n",
    "noise_std = 0.01\n",
    "Yexp = calc_y_exp(Constants, Xexp, noise_std)\n",
    "\n",
    "df = pd.DataFrame({'X1exp': Xexp[0, :], 'X2exp': Xexp[1, :], 'Yexp':Yexp[:]})\n",
    "\n",
    "path = 'Input_CSVs/Exp_Data'\n",
    "if not os.path.exists(path):\n",
    "    os.makedirs(path)\n",
    "df.to_csv(os.path.join(path,'n='+str(n)+'.csv'))"
   ]
  },
  {
   "cell_type": "code",
   "execution_count": 4,
   "id": "b6e89f9d",
   "metadata": {},
   "outputs": [],
   "source": [
    "#Array for Standard Approach\n",
    "all_p_standard = pd.DataFrame(LHS, columns = [\"a1\", \"a2\", \"a3\", \"a4\"])\n",
    "\n",
    "\n",
    "#Array for Emulator approach\n",
    "df = all_p_standard.iloc[np.repeat(np.arange(len(all_p_standard)), n)]\n",
    "df = df.reset_index(drop = True)\n",
    "Xexp_repeat = np.repeat(Xexp, LHS_Points, axis = 0).reshape(Xexp.shape[0],-1)\n",
    "# print(Xexp_repeat)\n",
    "#Add Xexp \n",
    "for i in range(Xexp.shape[0]):\n",
    "    df['X'+str(i+1)+'exp'] = Xexp_repeat[i]\n",
    "all_p_emulator = df\n",
    "# print(all_p_emulator)"
   ]
  },
  {
   "cell_type": "code",
   "execution_count": 5,
   "id": "fd2aad24",
   "metadata": {},
   "outputs": [],
   "source": [
    "y_data = create_y_data(all_p_emulator, Constants)\n",
    "sse_data = create_sse_data(all_p_standard, Xexp, Yexp, Constants, obj = \"obj\")\n",
    "# print(y_data)\n",
    "# print(sse_data)"
   ]
  },
  {
   "cell_type": "code",
   "execution_count": 6,
   "id": "988797bc",
   "metadata": {},
   "outputs": [],
   "source": [
    "#Create Training Data and Testing Data\n",
    "#Set noise parameters and load csv file to generate training data\n",
    "# all_p = LHS_Design(\"LHS_Toy_3_Input.csv\")\n",
    "\n",
    "#Create y or SSE data\n",
    "#Save data\n",
    "if emulator == False:\n",
    "    all_2_data = all_p_standard.copy()\n",
    "    all_2_in_y = create_sse_data(all_p_standard, Xexp, Yexp, Constants, obj = \"obj\")\n",
    "    all_2_data['Yexp'] = all_2_in_y\n",
    "    \n",
    "    all_2_data_ln_obj = all_p_standard.copy()\n",
    "    all_2_in_y_ln_obj = create_sse_data(all_p_standard, Xexp, Yexp, Constants, obj = \"LN_obj\")\n",
    "    all_2_data_ln_obj['Yexp'] = all_2_in_y_ln_obj\n",
    "    \n",
    "    titles_all = np.array(['all_st_data','all_st_ln_obj_data'])\n",
    "    len_data = str(len(all_2_data))\n",
    "    all_array = [all_2_data,all_2_data_ln_obj]\n",
    "\n",
    "else:\n",
    "    all_3_data = all_p_emulator.copy()\n",
    "    all_3_in_y = create_y_data(all_p_emulator, Constants)\n",
    "    all_3_data['Yexp'] = all_3_in_y\n",
    "    \n",
    "    titles_all = np.array(['all_emul_data'])\n",
    "    len_data = str(len(all_3_data))\n",
    "    all_array = [all_3_data]\n",
    "    \n",
    "# print(all_array)\n",
    "\n",
    "# Save Train Data/Test Data\n",
    "for i in range(len(titles_all)):\n",
    "    path = 'Input_CSVs/Train_Data/'+titles_all[i]+\"/\"\n",
    "    if not os.path.exists(path):\n",
    "        os.makedirs(path)\n",
    "    all_array[i].to_csv(os.path.join(path,'len_data='+len_data)+'.csv')"
   ]
  }
 ],
 "metadata": {
  "kernelspec": {
   "display_name": "Python 3 (ipykernel)",
   "language": "python",
   "name": "python3"
  },
  "language_info": {
   "codemirror_mode": {
    "name": "ipython",
    "version": 3
   },
   "file_extension": ".py",
   "mimetype": "text/x-python",
   "name": "python",
   "nbconvert_exporter": "python",
   "pygments_lexer": "ipython3",
   "version": "3.9.12"
  }
 },
 "nbformat": 4,
 "nbformat_minor": 5
}
