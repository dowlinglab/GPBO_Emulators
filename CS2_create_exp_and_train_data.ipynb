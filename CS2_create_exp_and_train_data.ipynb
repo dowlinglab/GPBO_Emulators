{
 "cells": [
  {
   "cell_type": "code",
   "execution_count": 1,
   "id": "bc88a957",
   "metadata": {},
   "outputs": [
    {
     "name": "stderr",
     "output_type": "stream",
     "text": [
      "/afs/crc.nd.edu/user/m/mcarlozo/.conda/envs/Toy_Problem_env/lib/python3.9/site-packages/tqdm/auto.py:22: TqdmWarning: IProgress not found. Please update jupyter and ipywidgets. See https://ipywidgets.readthedocs.io/en/stable/user_install.html\n",
      "  from .autonotebook import tqdm as notebook_tqdm\n"
     ]
    }
   ],
   "source": [
    "import bo_methods_lib\n",
    "from bo_methods_lib.CS2_bo_functions_multi_dim import LHS_Design, test_train_split\n",
    "from bo_methods_lib.CS2_create_data import create_y_data, calc_y_exp, create_sse_data, calc_muller\n",
    "from bo_methods_lib.bo_functions_generic import clean_1D_arrays\n",
    "\n",
    "from scipy.stats import qmc\n",
    "import torch\n",
    "import numpy as np\n",
    "import pandas as pd\n",
    "import os"
   ]
  },
  {
   "cell_type": "code",
   "execution_count": null,
   "id": "6ad873e2",
   "metadata": {},
   "outputs": [],
   "source": []
  },
  {
   "cell_type": "code",
   "execution_count": 2,
   "id": "2b3fd987",
   "metadata": {},
   "outputs": [],
   "source": [
    "#LHS Design in python - May switch code to use this instead for conciseness\n",
    "emulator = True\n",
    "# emulator = False\n",
    "seed = 9\n",
    "# LHS_Points = 100\n",
    "LHS_Points =20\n",
    "d = 8\n",
    "Bound_Cut = True\n",
    "\n",
    "if Bound_Cut == True:\n",
    "    cut_bounds = '_cut_bounds'\n",
    "else:\n",
    "    cut_bounds = \"\"\n",
    "        \n",
    "# d = 2\n",
    "sampler = qmc.LatinHypercube(d=d, seed = seed)\n",
    "sample = sampler.random(n=LHS_Points)\n",
    "\n",
    "#Only going to regress \"a and b\" parameters\n",
    "skip_param_types = 1 #(Skiiping A)\n",
    "l_bounds =  [-2, -2, -10, -2, -2, -2,  5, -2]\n",
    "u_bounds =  [ 2,  2,   0,  2,  2,  2, 15,  2]\n",
    "\n",
    "# l_bounds =  [-2, -2, -10, -2]\n",
    "# u_bounds =  [ 2,  2,   0,  2]\n",
    "\n",
    "# l_bounds =  [-2, -2]\n",
    "# u_bounds =  [2, 2 ]\n",
    "LHS = qmc.scale(sample, l_bounds, u_bounds)"
   ]
  },
  {
   "cell_type": "code",
   "execution_count": 3,
   "id": "b3e16b72",
   "metadata": {},
   "outputs": [
    {
     "name": "stdout",
     "output_type": "stream",
     "text": [
      "[[-0.84026869  0.12848871]\n",
      " [ 0.37976389  0.01668494]\n",
      " [-0.4537056   0.90634649]\n",
      " [ 0.13547048  1.28113218]\n",
      " [-0.85199408  1.0922064 ]\n",
      " [ 0.31362918  0.52011344]\n",
      " [-0.32542195  0.68770339]\n",
      " [-0.17374767  1.21615426]\n",
      " [-0.19867026  0.39709997]\n",
      " [-0.72243858  0.76944386]\n",
      " [-0.04598104  0.31630568]\n",
      " [-0.69908056  0.60103211]\n",
      " [-0.99121469  0.83153925]\n",
      " [-0.60311552  1.00841273]\n",
      " [ 0.43075713  0.29327019]\n",
      " [-0.50275987  1.37955458]\n",
      " [ 0.01417026  1.14053566]\n",
      " [ 0.26036852  1.49533099]\n",
      " [-0.25948888  0.15279138]\n",
      " [ 0.11504191  0.58304263]]\n"
     ]
    }
   ],
   "source": [
    "#LHS for experimental data points\n",
    "exp_LHS_Points = 20 #0 , 10, 15, 20, or 25 for 4, 8, 12, 16, and 24 params\n",
    "exp_d = 2\n",
    "exp_sampler = qmc.LatinHypercube(d=exp_d, seed = seed)\n",
    "exp_sample = exp_sampler.random(n=exp_LHS_Points)\n",
    "exp_sample_corner = exp_sampler.random(n=exp_LHS_Points)\n",
    "\n",
    "if Bound_Cut == True:\n",
    "    exp_l_bounds =  [-1.0, 0.0]\n",
    "    exp_u_bounds =  [0.5 , 1.5]\n",
    "else:\n",
    "    exp_l_bounds =  [-1.5, -0.5]\n",
    "    exp_u_bounds =  [1 , 2]\n",
    "\n",
    "exp_l_bounds_corner =  [0, 1]\n",
    "exp_u_bounds_corner =  [1 , 2]\n",
    "\n",
    "exp_LHS = qmc.scale(exp_sample, exp_l_bounds, exp_u_bounds)\n",
    "exp_LHS_corner = qmc.scale(exp_sample_corner, exp_l_bounds_corner, exp_u_bounds_corner)\n",
    "#Add Extra experimental data from corner LHS\n",
    "# exp_LHS = np.concatenate((exp_LHS, exp_LHS_corner))\n",
    "\n",
    "# print(exp_LHS)\n",
    "# print(exp_LHS_corner)\n",
    "\n",
    "print(exp_LHS)"
   ]
  },
  {
   "cell_type": "code",
   "execution_count": 4,
   "id": "fb95b690",
   "metadata": {},
   "outputs": [
    {
     "name": "stdout",
     "output_type": "stream",
     "text": [
      "[-0.84026869  0.12848871]\n",
      "(25, 2)\n",
      "25\n",
      "[   5.68740912  -94.55260334  -10.12209502   45.16919934 -111.02282502\n",
      "  -58.2091376   -44.48559388    9.04355908  -73.60027422  -35.85895871\n",
      "  -69.23110898  -43.98915909  -69.05884868  -46.05774234  -66.7652291\n",
      " -133.20342173   30.65841012   74.93721233  -35.43946006  -64.55771756\n",
      " -146.69947812  -80.76773816 -108.16663897  -40.67072465  -72.22508357]\n"
     ]
    }
   ],
   "source": [
    "#Creates Experimental data and saves to a csv\n",
    "# Constants = np.array([-200,-100,-170,15,   #A\n",
    "#                       -1,-1,-6.5,0.7,    #a\n",
    "#                       0,0,11,0.6,        #b\n",
    "#                       -10,-10,-6.5,0.7,  #c\n",
    "#                       1,0,-0.5,-1,      #x0\n",
    "#                       0,0.5,1.5,1])     #yo\n",
    "\n",
    "Constants = np.array([[-200,-100,-170,15],\n",
    "                      [-1,-1,-6.5,0.7],\n",
    "                      [0,0,11,0.6],\n",
    "                      [-10,-10,-6.5,0.7],\n",
    "                      [1,0,-0.5,-1],\n",
    "                      [0,0.5,1.5,1]])\n",
    "\n",
    "# Theta_True = np.array([-2,2])\n",
    "# Xexp = np.array([-2,-1,0,1,2])\n",
    "# Xexp = np.array([[-0.558,-0.050,0.623,-0.82, 0.22],\n",
    "#                  [1.442,0.467,0.028,0.62,0.30]]) #This one doesn't have corner points\n",
    "Xexp = np.array([[-0.558,-0.050,0.623,-0.82, 0.22],\n",
    "                 [1.442,0.467,0.028,0.62,0.30]])\n",
    "\n",
    "Xexp = np.vstack((exp_LHS, Xexp.T))\n",
    "print(Xexp[0])\n",
    "print(Xexp.shape)\n",
    "\n",
    "n = Xexp.shape[0]\n",
    "print(n)\n",
    "noise_std = 0.01\n",
    "# noise_std = 0\n",
    "Yexp = calc_y_exp(Constants, Xexp, noise_std)\n",
    "print(Yexp)"
   ]
  },
  {
   "cell_type": "code",
   "execution_count": 5,
   "id": "07a35aca",
   "metadata": {},
   "outputs": [
    {
     "name": "stdout",
     "output_type": "stream",
     "text": [
      "       X1exp     X2exp        Yexp\n",
      "0  -0.840269  0.128489    5.687409\n",
      "1   0.379764  0.016685  -94.552603\n",
      "2  -0.453706  0.906346  -10.122095\n",
      "3   0.135470  1.281132   45.169199\n",
      "4  -0.851994  1.092206 -111.022825\n",
      "5   0.313629  0.520113  -58.209138\n",
      "6  -0.325422  0.687703  -44.485594\n",
      "7  -0.173748  1.216154    9.043559\n",
      "8  -0.198670  0.397100  -73.600274\n",
      "9  -0.722439  0.769444  -35.858959\n",
      "10 -0.045981  0.316306  -69.231109\n",
      "11 -0.699081  0.601032  -43.989159\n",
      "12 -0.991215  0.831539  -69.058849\n",
      "13 -0.603116  1.008413  -46.057742\n",
      "14  0.430757  0.293270  -66.765229\n",
      "15 -0.502760  1.379555 -133.203422\n",
      "16  0.014170  1.140536   30.658410\n",
      "17  0.260369  1.495331   74.937212\n",
      "18 -0.259489  0.152791  -35.439460\n",
      "19  0.115042  0.583043  -64.557718\n",
      "20 -0.558000  1.442000 -146.699478\n",
      "21 -0.050000  0.467000  -80.767738\n",
      "22  0.623000  0.028000 -108.166639\n",
      "23 -0.820000  0.620000  -40.670725\n",
      "24  0.220000  0.300000  -72.225084\n"
     ]
    }
   ],
   "source": [
    "df = pd.DataFrame({'X1exp': Xexp[:, 0], 'X2exp': Xexp[:, 1], 'Yexp':Yexp})\n",
    "# df = pd.DataFrame({'Xexp': Xexp, 'Yexp':Yexp})\n",
    "print(df)\n",
    "\n",
    "path = 'Input_CSVs/Exp_Data/d='+str(exp_d)\n",
    "if not os.path.exists(path):\n",
    "    os.makedirs(path)\n",
    "df.to_csv(os.path.join(path,'n='+str(n)+cut_bounds+'.csv'))\n",
    "# df.to_csv(os.path.join(path,'n='+str(n)+'_no_noise.csv'))"
   ]
  },
  {
   "cell_type": "code",
   "execution_count": 6,
   "id": "b6e89f9d",
   "metadata": {},
   "outputs": [
    {
     "name": "stdout",
     "output_type": "stream",
     "text": [
      "[[-0.84026869  0.12848871]\n",
      " [ 0.37976389  0.01668494]\n",
      " [-0.4537056   0.90634649]\n",
      " [ 0.13547048  1.28113218]\n",
      " [-0.85199408  1.0922064 ]\n",
      " [ 0.31362918  0.52011344]\n",
      " [-0.32542195  0.68770339]\n",
      " [-0.17374767  1.21615426]\n",
      " [-0.19867026  0.39709997]\n",
      " [-0.72243858  0.76944386]\n",
      " [-0.04598104  0.31630568]\n",
      " [-0.69908056  0.60103211]\n",
      " [-0.99121469  0.83153925]\n",
      " [-0.60311552  1.00841273]\n",
      " [ 0.43075713  0.29327019]\n",
      " [-0.50275987  1.37955458]\n",
      " [ 0.01417026  1.14053566]\n",
      " [ 0.26036852  1.49533099]\n",
      " [-0.25948888  0.15279138]\n",
      " [ 0.11504191  0.58304263]\n",
      " [-0.558       1.442     ]\n",
      " [-0.05        0.467     ]\n",
      " [ 0.623       0.028     ]\n",
      " [-0.82        0.62      ]\n",
      " [ 0.22        0.3       ]] (25, 2)\n"
     ]
    }
   ],
   "source": [
    "#Array for Standard Approach\n",
    "all_p_standard = pd.DataFrame(LHS, columns = [\"a1\", \"a2\", \"a3\", \"a4\", \"b1\", \"b2\", \"b3\", \"b4\"])\n",
    "# all_p_standard = pd.DataFrame(LHS, columns = [\"a1\", \"a2\", \"a3\", \"a4\"])\n",
    "# all_p_standard = pd.DataFrame(LHS, columns = [\"theta1\", \"theta2\"])\n",
    "\n",
    "print(Xexp,Xexp.shape)\n",
    "#Array for Emulator approach\n",
    "df = all_p_standard.iloc[np.repeat(np.arange(len(all_p_standard)), n)]\n",
    "df = df.reset_index(drop = True)\n",
    "# Xexp_repeat = np.repeat(Xexp, LHS_Points, axis = 1).reshape(Xexp.shape[1],-1)\n",
    "# print(Xexp_repeat.reshape(300,2))\n",
    "Xexp_repeat = np.tile(Xexp, (len(all_p_standard),1))\n",
    "#Add Xexp \n",
    "for i in range(Xexp.shape[1]):\n",
    "    df['X'+str(i+1)+'exp'] = Xexp_repeat[:,i]    \n",
    "all_p_emulator = df\n",
    "\n",
    "# print(all_p_emulator)\n",
    "# print(all_p_standard)\n"
   ]
  },
  {
   "cell_type": "code",
   "execution_count": null,
   "id": "fd2aad24",
   "metadata": {},
   "outputs": [],
   "source": []
  },
  {
   "cell_type": "code",
   "execution_count": 7,
   "id": "6d25c4f5",
   "metadata": {},
   "outputs": [],
   "source": [
    "## Create Training Data and Testing Data\n",
    "#Set noise parameters and load csv file to generate training data\n",
    "# all_p = LHS_Design(\"LHS_Toy_3_Input.csv\")\n",
    "\n",
    "#Create y or SSE data\n",
    "#Save data\n",
    "if emulator == False:\n",
    "    all_2_data = all_p_standard.copy()\n",
    "    all_2_in_y = create_sse_data(all_p_standard, Xexp, Yexp, Constants, obj = \"obj\", skip_param_types=skip_param_types)\n",
    "    all_2_data['Yexp'] = all_2_in_y\n",
    "#     \n",
    "    all_2_data_ln_obj = all_p_standard.copy()\n",
    "    all_2_in_y_ln_obj = create_sse_data(all_p_standard, Xexp, Yexp, Constants, obj = \"LN_obj\", skip_param_types=skip_param_types)\n",
    "    all_2_data_ln_obj['Yexp'] = all_2_in_y_ln_obj\n",
    "    \n",
    "    titles_all = np.array(['all_st_data','all_st_ln_obj_data'])\n",
    "    len_data = str(len(all_2_data))\n",
    "    all_array = [all_2_data,all_2_data_ln_obj]\n",
    "\n",
    "else:\n",
    "    all_3_data = all_p_emulator.copy()\n",
    "    all_3_in_y = create_y_data(all_p_emulator, Constants, Xexp, skip_param_types=skip_param_types)\n",
    "    all_3_data['Yexp'] = all_3_in_y\n",
    "    \n",
    "    titles_all = np.array(['all_emul_data'])\n",
    "    len_data = str(len(all_3_data))\n",
    "    all_array = [all_3_data]\n",
    "    \n",
    "# print(all_array)\n",
    "\n",
    "# Save Train Data/Test Data\n",
    "for i in range(len(titles_all)):\n",
    "    path = 'Input_CSVs/Train_Data/d=' + str(d) +\"/\"+ titles_all[i]+\"/\"\n",
    "    if not os.path.exists(path):\n",
    "        os.makedirs(path)\n",
    "    all_array[i].to_csv(os.path.join(path,'t='+len_data + cut_bounds)+'.csv')"
   ]
  },
  {
   "cell_type": "code",
   "execution_count": null,
   "id": "a85181cd",
   "metadata": {},
   "outputs": [],
   "source": []
  }
 ],
 "metadata": {
  "kernelspec": {
   "display_name": "Python 3 (ipykernel)",
   "language": "python",
   "name": "python3"
  },
  "language_info": {
   "codemirror_mode": {
    "name": "ipython",
    "version": 3
   },
   "file_extension": ".py",
   "mimetype": "text/x-python",
   "name": "python",
   "nbconvert_exporter": "python",
   "pygments_lexer": "ipython3",
   "version": "3.9.12"
  }
 },
 "nbformat": 4,
 "nbformat_minor": 5
}
