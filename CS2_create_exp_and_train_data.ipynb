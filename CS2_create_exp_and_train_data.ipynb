{
 "cells": [
  {
   "cell_type": "code",
   "execution_count": 7,
   "id": "bc88a957",
   "metadata": {},
   "outputs": [],
   "source": [
    "import bo_methods_lib\n",
    "from bo_methods_lib.CS2_bo_functions_multi_dim import LHS_Design, test_train_split\n",
    "from bo_methods_lib.CS2_create_data import create_y_data, calc_y_exp, create_sse_data, calc_muller\n",
    "from bo_methods_lib.bo_functions_generic import clean_1D_arrays\n",
    "\n",
    "from scipy.stats import qmc\n",
    "import torch\n",
    "import numpy as np\n",
    "import pandas as pd\n",
    "import os"
   ]
  },
  {
   "cell_type": "code",
   "execution_count": null,
   "id": "6ad873e2",
   "metadata": {},
   "outputs": [],
   "source": []
  },
  {
   "cell_type": "code",
   "execution_count": 8,
   "id": "2b3fd987",
   "metadata": {},
   "outputs": [],
   "source": [
    "#LHS Design in python - May switch code to use this instead for conciseness\n",
    "# emulator = True\n",
    "emulator = False\n",
    "seed = 9\n",
    "# LHS_Points = 100\n",
    "LHS_Points =20\n",
    "d = 8\n",
    "# d = 2\n",
    "sampler = qmc.LatinHypercube(d=d, seed = seed)\n",
    "sample = sampler.random(n=LHS_Points)\n",
    "\n",
    "#Only going to regress \"a and b\" parameters\n",
    "skip_param_types = 1 #(Skiiping A)\n",
    "l_bounds =  [-2, -2, -10, -2, -2, -2,  5, -2]\n",
    "u_bounds =  [ 2,  2,   0,  2,  2,  2, 15,  2]\n",
    "\n",
    "# l_bounds =  [-2, -2, -10, -2]\n",
    "# u_bounds =  [ 2,  2,   0,  2]\n",
    "\n",
    "# l_bounds =  [-2, -2]\n",
    "# u_bounds =  [2, 2 ]\n",
    "LHS = qmc.scale(sample, l_bounds, u_bounds)"
   ]
  },
  {
   "cell_type": "code",
   "execution_count": 9,
   "id": "b3e16b72",
   "metadata": {},
   "outputs": [
    {
     "name": "stdout",
     "output_type": "stream",
     "text": [
      "[[-0.2175623   0.9282957 ]\n",
      " [-1.15078704 -0.44438352]\n",
      " [-1.42901866  0.27115497]\n",
      " [-0.96509841  1.77044059]\n",
      " [ 0.74335307  0.640688  ]\n",
      " [ 0.87876392  1.73371145]\n",
      " [-0.50140651  0.04234464]\n",
      " [ 0.00417444  1.05384754]\n",
      " [ 0.42109913 -0.17633343]\n",
      " [-0.32479527  1.31481288]]\n"
     ]
    }
   ],
   "source": [
    "#LHS for experimental data points\n",
    "exp_LHS_Points = 10 #0 , 10, 15, 20, or 25 for 4, 8, 12, 16, and 24 params\n",
    "exp_d = 2\n",
    "exp_sampler = qmc.LatinHypercube(d=exp_d, seed = seed)\n",
    "exp_sample = exp_sampler.random(n=exp_LHS_Points)\n",
    "exp_sample_corner = exp_sampler.random(n=exp_LHS_Points)\n",
    "\n",
    "exp_l_bounds =  [-1.5, -0.5]\n",
    "exp_u_bounds =  [1 , 2]\n",
    "\n",
    "exp_l_bounds_corner =  [0, 1]\n",
    "exp_u_bounds_corner =  [1 , 2]\n",
    "\n",
    "exp_LHS = qmc.scale(exp_sample, exp_l_bounds, exp_u_bounds)\n",
    "exp_LHS_corner = qmc.scale(exp_sample_corner, exp_l_bounds_corner, exp_u_bounds_corner)\n",
    "#Add Extra experimental data from corner LHS\n",
    "# exp_LHS = np.concatenate((exp_LHS, exp_LHS_corner))\n",
    "\n",
    "# print(exp_LHS)\n",
    "# print(exp_LHS_corner)\n",
    "\n",
    "print(exp_LHS)"
   ]
  },
  {
   "cell_type": "code",
   "execution_count": 11,
   "id": "fb95b690",
   "metadata": {},
   "outputs": [
    {
     "name": "stdout",
     "output_type": "stream",
     "text": [
      "[-0.2175623  0.9282957]\n",
      "(17, 2)\n",
      "17\n",
      "[   5.05474681   74.53890398   12.24428821   16.62324988   44.33836208\n",
      "  591.55992898   -4.72307241   26.04219455  -46.1040296   -52.96709878\n",
      " -146.69947812  -80.76773816 -108.16663897  -40.67072465  -72.22508357\n",
      " 1649.15056921  923.3052528 ]\n"
     ]
    }
   ],
   "source": [
    "#Creates Experimental data and saves to a csv\n",
    "# Constants = np.array([-200,-100,-170,15,   #A\n",
    "#                       -1,-1,-6.5,0.7,    #a\n",
    "#                       0,0,11,0.6,        #b\n",
    "#                       -10,-10,-6.5,0.7,  #c\n",
    "#                       1,0,-0.5,-1,      #x0\n",
    "#                       0,0.5,1.5,1])     #yo\n",
    "\n",
    "Constants = np.array([[-200,-100,-170,15],\n",
    "                      [-1,-1,-6.5,0.7],\n",
    "                      [0,0,11,0.6],\n",
    "                      [-10,-10,-6.5,0.7],\n",
    "                      [1,0,-0.5,-1],\n",
    "                      [0,0.5,1.5,1]])\n",
    "\n",
    "# Theta_True = np.array([-2,2])\n",
    "# Xexp = np.array([-2,-1,0,1,2])\n",
    "# Xexp = np.array([[-0.558,-0.050,0.623,-0.82, 0.22],\n",
    "#                  [1.442,0.467,0.028,0.62,0.30]]) #This one doesn't have corner points\n",
    "Xexp = np.array([[-0.558,-0.050,0.623,-0.82, 0.22, 1.0, 0.9],\n",
    "                 [1.442,0.467,0.028,0.62,0.30, 2.0, 1.9]])\n",
    "\n",
    "Xexp = np.vstack((exp_LHS, Xexp.T))\n",
    "print(Xexp[0])\n",
    "print(Xexp.shape)\n",
    "\n",
    "n = Xexp.shape[0]\n",
    "print(n)\n",
    "noise_std = 0.01\n",
    "# noise_std = 0\n",
    "Yexp = calc_y_exp(Constants, Xexp, noise_std)\n",
    "print(Yexp)"
   ]
  },
  {
   "cell_type": "code",
   "execution_count": 6,
   "id": "07a35aca",
   "metadata": {},
   "outputs": [
    {
     "name": "stdout",
     "output_type": "stream",
     "text": [
      "       X1exp     X2exp        Yexp\n",
      "0  -0.217562  0.928296    5.054736\n",
      "1  -1.150787 -0.444384   74.538893\n",
      "2  -1.429019  0.271155   12.244277\n",
      "3  -0.965098  1.770441   16.623239\n",
      "4   0.743353  0.640688   44.338351\n",
      "5   0.878764  1.733711  591.559918\n",
      "6  -0.501407  0.042345   -4.723083\n",
      "7   0.004174  1.053848   26.042183\n",
      "8   0.421099 -0.176333  -46.104041\n",
      "9  -0.324795  1.314813  -52.967110\n",
      "10 -0.558000  1.442000 -146.699489\n",
      "11 -0.050000  0.467000  -80.767749\n",
      "12  0.623000  0.028000 -108.166650\n",
      "13 -0.820000  0.620000  -40.670736\n",
      "14  0.220000  0.300000  -72.225095\n"
     ]
    }
   ],
   "source": [
    "df = pd.DataFrame({'X1exp': Xexp[:, 0], 'X2exp': Xexp[:, 1], 'Yexp':Yexp})\n",
    "# df = pd.DataFrame({'Xexp': Xexp, 'Yexp':Yexp})\n",
    "print(df)\n",
    "\n",
    "path = 'Input_CSVs/Exp_Data/d='+str(exp_d)\n",
    "if not os.path.exists(path):\n",
    "    os.makedirs(path)\n",
    "df.to_csv(os.path.join(path,'n='+str(n)+'.csv'))\n",
    "# df.to_csv(os.path.join(path,'n='+str(n)+'_no_noise.csv'))"
   ]
  },
  {
   "cell_type": "code",
   "execution_count": 6,
   "id": "b6e89f9d",
   "metadata": {},
   "outputs": [
    {
     "name": "stdout",
     "output_type": "stream",
     "text": [
      "[[-0.2175623   0.9282957 ]\n",
      " [-1.15078704 -0.44438352]\n",
      " [-1.42901866  0.27115497]\n",
      " [-0.96509841  1.77044059]\n",
      " [ 0.74335307  0.640688  ]\n",
      " [ 0.87876392  1.73371145]\n",
      " [-0.50140651  0.04234464]\n",
      " [ 0.00417444  1.05384754]\n",
      " [ 0.42109913 -0.17633343]\n",
      " [-0.32479527  1.31481288]\n",
      " [ 0.36298685  1.13940611]\n",
      " [ 0.75222701  1.92071421]\n",
      " [ 0.58049136  1.79377465]\n",
      " [ 0.88734816  1.40372184]\n",
      " [ 0.68672255  1.07739017]\n",
      " [ 0.26229436  1.83765784]\n",
      " [ 0.42179039  1.59213511]\n",
      " [ 0.10687625  1.62372083]\n",
      " [ 0.96790359  1.3810668 ]\n",
      " [ 0.04040471  1.24053108]\n",
      " [-0.558       1.442     ]\n",
      " [-0.05        0.467     ]\n",
      " [ 0.623       0.028     ]\n",
      " [-0.82        0.62      ]\n",
      " [ 0.22        0.3       ]\n",
      " [ 1.          2.        ]\n",
      " [ 0.9         1.9       ]] (27, 2)\n"
     ]
    }
   ],
   "source": [
    "#Array for Standard Approach\n",
    "all_p_standard = pd.DataFrame(LHS, columns = [\"a1\", \"a2\", \"a3\", \"a4\", \"b1\", \"b2\", \"b3\", \"b4\"])\n",
    "# all_p_standard = pd.DataFrame(LHS, columns = [\"a1\", \"a2\", \"a3\", \"a4\"])\n",
    "# all_p_standard = pd.DataFrame(LHS, columns = [\"theta1\", \"theta2\"])\n",
    "\n",
    "print(Xexp,Xexp.shape)\n",
    "#Array for Emulator approach\n",
    "df = all_p_standard.iloc[np.repeat(np.arange(len(all_p_standard)), n)]\n",
    "df = df.reset_index(drop = True)\n",
    "# Xexp_repeat = np.repeat(Xexp, LHS_Points, axis = 1).reshape(Xexp.shape[1],-1)\n",
    "# print(Xexp_repeat.reshape(300,2))\n",
    "Xexp_repeat = np.tile(Xexp, (len(all_p_standard),1))\n",
    "#Add Xexp \n",
    "for i in range(Xexp.shape[1]):\n",
    "    df['X'+str(i+1)+'exp'] = Xexp_repeat[:,i]    \n",
    "all_p_emulator = df\n",
    "\n",
    "# print(all_p_emulator)\n",
    "# print(all_p_standard)\n"
   ]
  },
  {
   "cell_type": "code",
   "execution_count": null,
   "id": "fd2aad24",
   "metadata": {},
   "outputs": [],
   "source": []
  },
  {
   "cell_type": "code",
   "execution_count": 7,
   "id": "6d25c4f5",
   "metadata": {},
   "outputs": [],
   "source": [
    "## Create Training Data and Testing Data\n",
    "#Set noise parameters and load csv file to generate training data\n",
    "# all_p = LHS_Design(\"LHS_Toy_3_Input.csv\")\n",
    "\n",
    "#Create y or SSE data\n",
    "#Save data\n",
    "if emulator == False:\n",
    "    all_2_data = all_p_standard.copy()\n",
    "    all_2_in_y = create_sse_data(all_p_standard, Xexp, Yexp, Constants, obj = \"obj\", skip_param_types=skip_param_types)\n",
    "    all_2_data['Yexp'] = all_2_in_y\n",
    "#     \n",
    "    all_2_data_ln_obj = all_p_standard.copy()\n",
    "    all_2_in_y_ln_obj = create_sse_data(all_p_standard, Xexp, Yexp, Constants, obj = \"LN_obj\", skip_param_types=skip_param_types)\n",
    "    all_2_data_ln_obj['Yexp'] = all_2_in_y_ln_obj\n",
    "    \n",
    "    titles_all = np.array(['all_st_data','all_st_ln_obj_data'])\n",
    "    len_data = str(len(all_2_data))\n",
    "    all_array = [all_2_data,all_2_data_ln_obj]\n",
    "\n",
    "else:\n",
    "    all_3_data = all_p_emulator.copy()\n",
    "    all_3_in_y = create_y_data(all_p_emulator, Constants, Xexp, skip_param_types=skip_param_types)\n",
    "    all_3_data['Yexp'] = all_3_in_y\n",
    "    \n",
    "    titles_all = np.array(['all_emul_data'])\n",
    "    len_data = str(len(all_3_data))\n",
    "    all_array = [all_3_data]\n",
    "    \n",
    "# print(all_array)\n",
    "\n",
    "# Save Train Data/Test Data\n",
    "for i in range(len(titles_all)):\n",
    "    path = 'Input_CSVs/Train_Data/d=' + str(d) +\"/\"+ titles_all[i]+\"/\"\n",
    "    if not os.path.exists(path):\n",
    "        os.makedirs(path)\n",
    "    all_array[i].to_csv(os.path.join(path,'t='+len_data)+'.csv')"
   ]
  },
  {
   "cell_type": "code",
   "execution_count": null,
   "id": "a85181cd",
   "metadata": {},
   "outputs": [],
   "source": []
  }
 ],
 "metadata": {
  "kernelspec": {
   "display_name": "Python 3 (ipykernel)",
   "language": "python",
   "name": "python3"
  },
  "language_info": {
   "codemirror_mode": {
    "name": "ipython",
    "version": 3
   },
   "file_extension": ".py",
   "mimetype": "text/x-python",
   "name": "python",
   "nbconvert_exporter": "python",
   "pygments_lexer": "ipython3",
   "version": "3.9.12"
  }
 },
 "nbformat": 4,
 "nbformat_minor": 5
}
