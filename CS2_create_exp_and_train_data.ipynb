{
 "cells": [
  {
   "cell_type": "code",
   "execution_count": 1,
   "id": "bc88a957",
   "metadata": {},
   "outputs": [
    {
     "name": "stderr",
     "output_type": "stream",
     "text": [
      "/afs/crc.nd.edu/user/m/mcarlozo/.conda/envs/Toy_Problem_env/lib/python3.9/site-packages/tqdm/auto.py:22: TqdmWarning: IProgress not found. Please update jupyter and ipywidgets. See https://ipywidgets.readthedocs.io/en/stable/user_install.html\n",
      "  from .autonotebook import tqdm as notebook_tqdm\n"
     ]
    }
   ],
   "source": [
    "from CS2_bo_functions import LHS_Design\n",
    "from CS2_bo_functions import create_y_data\n",
    "from CS2_bo_functions import calc_y_exp\n",
    "from CS2_bo_functions import test_train_split\n",
    "from CS2_bo_functions import create_sse_data\n",
    "from scipy.stats import qmc\n",
    "import torch\n",
    "import numpy as np\n",
    "import pandas as pd\n",
    "import os"
   ]
  },
  {
   "cell_type": "code",
   "execution_count": 2,
   "id": "2b3fd987",
   "metadata": {},
   "outputs": [],
   "source": [
    "#LHS Design in python - May switch code to use this instead for conciseness\n",
    "emulator = True\n",
    "seed = 9\n",
    "LHS_Points =20\n",
    "d = 4\n",
    "sampler = qmc.LatinHypercube(d=d, seed = seed)\n",
    "sample = sampler.random(n=LHS_Points)\n",
    "l_bounds =  [-2, -2, -10 ,-2]\n",
    "u_bounds =  [0, 0 , 0, 2 ]\n",
    "LHS = qmc.scale(sample, l_bounds, u_bounds)"
   ]
  },
  {
   "cell_type": "code",
   "execution_count": 3,
   "id": "b3e16b72",
   "metadata": {},
   "outputs": [
    {
     "name": "stdout",
     "output_type": "stream",
     "text": [
      "[[ 0.51297508  1.97131828]\n",
      " [-1.46031482  0.92224659]\n",
      " [-0.27160746  1.70846199]\n",
      " [ 0.21396064  0.70817624]\n",
      " [-0.00265877  0.0562752 ]\n",
      " [-0.84849443  0.69348458]\n",
      " [ 0.79943739  1.61693786]\n",
      " [ 0.60166978 -0.37846099]\n",
      " [-0.93156035  0.52946663]\n",
      " [-0.42991811  1.02592515]\n",
      " [-1.02797472  1.42174091]\n",
      " [-0.69877407  1.30137615]\n",
      " [-0.38828626  1.80871899]\n",
      " [ 0.82917931  0.84455031]\n",
      " [-1.19232382  0.39102692]\n",
      " [ 0.36298685  1.13940611]\n",
      " [ 0.05222701  0.42071421]\n",
      " [ 0.48049136  0.29377465]\n",
      " [-1.21265184 -0.29627816]\n",
      " [-0.71327745  1.57739017]\n",
      " [-1.33770564 -0.16234216]\n",
      " [ 0.92179039  1.29213511]\n",
      " [-0.59312375  0.12372083]\n",
      " [-0.13209641 -0.4189332 ]\n",
      " [ 0.14040471 -0.05946892]]\n"
     ]
    }
   ],
   "source": [
    "#LHS for experimental data points\n",
    "exp_LHS_Points = 25 #0 , 10, 15, 20, or 25 for 4, 8, 12, 16, and 24 params\n",
    "exp_d = 2\n",
    "exp_sampler = qmc.LatinHypercube(d=exp_d, seed = seed)\n",
    "exp_sample = exp_sampler.random(n=exp_LHS_Points)\n",
    "\n",
    "exp_l_bounds =  [-1.5, -0.5]\n",
    "exp_u_bounds =  [1 , 2]\n",
    "exp_LHS = qmc.scale(exp_sample, exp_l_bounds, exp_u_bounds)\n",
    "print(exp_LHS)"
   ]
  },
  {
   "cell_type": "code",
   "execution_count": 4,
   "id": "fb95b690",
   "metadata": {},
   "outputs": [
    {
     "name": "stdout",
     "output_type": "stream",
     "text": [
      "[0.51297508 1.97131828]\n",
      "(30, 2)\n"
     ]
    }
   ],
   "source": [
    "#Creates Experimental data and saves to a csv\n",
    "Constants = np.array([[-200,-100,-170,15],\n",
    "                      [-1,-1,-6.5,0.7],\n",
    "                      [0,0,11,0.6],\n",
    "                      [-10,-10,-6.5,0.7],\n",
    "                      [1,0,-0.5,-1],\n",
    "                      [0,0.5,1.5,1]])\n",
    "\n",
    "Xexp = np.array([[-0.558,-0.050,0.623,-0.82, 0.22],\n",
    "                 [1.442,0.467,0.028,0.62,0.30]])\n",
    "\n",
    "Xexp = np.vstack((exp_LHS, Xexp.T))\n",
    "print(Xexp[0])\n",
    "print(Xexp.shape)\n"
   ]
  },
  {
   "cell_type": "code",
   "execution_count": 5,
   "id": "07a35aca",
   "metadata": {},
   "outputs": [
    {
     "name": "stdout",
     "output_type": "stream",
     "text": [
      "30\n",
      "[ 338.41622638   -5.7885826  -112.04546332  -26.53201777  -52.95078054\n",
      "  -42.47984572  367.64098133   50.07326647  -35.81198952  -12.73285152\n",
      "  -25.16684798 -139.20600027  -81.83556608  118.32331828  -12.22012788\n",
      "   61.06790996  -78.95875122  -63.62694608   58.55587756  -79.29791827\n",
      "   51.95382584  295.79490431   -7.35912456   40.06959465  -56.8790201\n",
      " -146.69947812  -80.76773816 -108.16663897  -40.67072465  -72.22508357]\n",
      "       X1exp     X2exp        Yexp\n",
      "0   0.512975  1.971318  338.416226\n",
      "1  -1.460315  0.922247   -5.788583\n",
      "2  -0.271607  1.708462 -112.045463\n",
      "3   0.213961  0.708176  -26.532018\n",
      "4  -0.002659  0.056275  -52.950781\n",
      "5  -0.848494  0.693485  -42.479846\n",
      "6   0.799437  1.616938  367.640981\n",
      "7   0.601670 -0.378461   50.073266\n",
      "8  -0.931560  0.529467  -35.811990\n",
      "9  -0.429918  1.025925  -12.732852\n",
      "10 -1.027975  1.421741  -25.166848\n",
      "11 -0.698774  1.301376 -139.206000\n",
      "12 -0.388286  1.808719  -81.835566\n",
      "13  0.829179  0.844550  118.323318\n",
      "14 -1.192324  0.391027  -12.220128\n",
      "15  0.362987  1.139406   61.067910\n",
      "16  0.052227  0.420714  -78.958751\n",
      "17  0.480491  0.293775  -63.626946\n",
      "18 -1.212652 -0.296278   58.555878\n",
      "19 -0.713277  1.577390  -79.297918\n",
      "20 -1.337706 -0.162342   51.953826\n",
      "21  0.921790  1.292135  295.794904\n",
      "22 -0.593124  0.123721   -7.359125\n",
      "23 -0.132096 -0.418933   40.069595\n",
      "24  0.140405 -0.059469  -56.879020\n",
      "25 -0.558000  1.442000 -146.699478\n",
      "26 -0.050000  0.467000  -80.767738\n",
      "27  0.623000  0.028000 -108.166639\n",
      "28 -0.820000  0.620000  -40.670725\n",
      "29  0.220000  0.300000  -72.225084\n"
     ]
    }
   ],
   "source": [
    "n = Xexp.shape[0]\n",
    "print(n)\n",
    "noise_std = 0.01\n",
    "Yexp = calc_y_exp(Constants, Xexp, noise_std)\n",
    "print(Yexp)\n",
    "\n",
    "df = pd.DataFrame({'X1exp': Xexp[:, 0], 'X2exp': Xexp[:, 1], 'Yexp':Yexp})\n",
    "print(df)\n",
    "\n",
    "path = 'Input_CSVs/Exp_Data'\n",
    "if not os.path.exists(path):\n",
    "    os.makedirs(path)\n",
    "df.to_csv(os.path.join(path,'n='+str(n)+'.csv'))"
   ]
  },
  {
   "cell_type": "code",
   "execution_count": 6,
   "id": "b6e89f9d",
   "metadata": {},
   "outputs": [],
   "source": [
    "#Array for Standard Approach\n",
    "all_p_standard = pd.DataFrame(LHS, columns = [\"a1\", \"a2\", \"a3\", \"a4\"])\n",
    "\n",
    "\n",
    "#Array for Emulator approach\n",
    "df = all_p_standard.iloc[np.repeat(np.arange(len(all_p_standard)), n)]\n",
    "df = df.reset_index(drop = True)\n",
    "Xexp_repeat = np.repeat(Xexp, LHS_Points, axis = 0).reshape(Xexp.shape[1],-1)\n",
    "# print(Xexp_repeat)\n",
    "#Add Xexp \n",
    "for i in range(Xexp.shape[1]):\n",
    "    df['X'+str(i+1)+'exp'] = Xexp_repeat[i]    \n",
    "all_p_emulator = df\n",
    "# print(all_p_emulator)\n",
    "# print(all_p_standard)\n"
   ]
  },
  {
   "cell_type": "code",
   "execution_count": 7,
   "id": "fd2aad24",
   "metadata": {},
   "outputs": [],
   "source": [
    "y_data = create_y_data(all_p_emulator, Constants)\n",
    "sse_data = create_sse_data(all_p_standard, Xexp, Yexp, Constants, obj = \"obj\")\n",
    "# print(y_data)\n",
    "# print(sse_data)"
   ]
  },
  {
   "cell_type": "code",
   "execution_count": 8,
   "id": "988797bc",
   "metadata": {},
   "outputs": [],
   "source": [
    "#Create Training Data and Testing Data\n",
    "#Set noise parameters and load csv file to generate training data\n",
    "# all_p = LHS_Design(\"LHS_Toy_3_Input.csv\")\n",
    "\n",
    "#Create y or SSE data\n",
    "#Save data\n",
    "if emulator == False:\n",
    "    all_2_data = all_p_standard.copy()\n",
    "    all_2_in_y = create_sse_data(all_p_standard, Xexp, Yexp, Constants, obj = \"obj\")\n",
    "    all_2_data['Yexp'] = all_2_in_y\n",
    "    \n",
    "    all_2_data_ln_obj = all_p_standard.copy()\n",
    "    all_2_in_y_ln_obj = create_sse_data(all_p_standard, Xexp, Yexp, Constants, obj = \"LN_obj\")\n",
    "    all_2_data_ln_obj['Yexp'] = all_2_in_y_ln_obj\n",
    "    \n",
    "    titles_all = np.array(['all_st_data','all_st_ln_obj_data'])\n",
    "    len_data = str(len(all_2_data))\n",
    "    all_array = [all_2_data,all_2_data_ln_obj]\n",
    "\n",
    "else:\n",
    "    all_3_data = all_p_emulator.copy()\n",
    "    all_3_in_y = create_y_data(all_p_emulator, Constants)\n",
    "    all_3_data['Yexp'] = all_3_in_y\n",
    "    \n",
    "    titles_all = np.array(['all_emul_data'])\n",
    "    len_data = str(len(all_3_data))\n",
    "    all_array = [all_3_data]\n",
    "    \n",
    "# print(all_array)\n",
    "\n",
    "# Save Train Data/Test Data\n",
    "for i in range(len(titles_all)):\n",
    "    path = 'Input_CSVs/Train_Data/'+titles_all[i]+\"/\"\n",
    "    if not os.path.exists(path):\n",
    "        os.makedirs(path)\n",
    "    all_array[i].to_csv(os.path.join(path,'len_data='+len_data)+'.csv')"
   ]
  },
  {
   "cell_type": "code",
   "execution_count": null,
   "id": "6d25c4f5",
   "metadata": {},
   "outputs": [],
   "source": []
  }
 ],
 "metadata": {
  "kernelspec": {
   "display_name": "Python 3 (ipykernel)",
   "language": "python",
   "name": "python3"
  },
  "language_info": {
   "codemirror_mode": {
    "name": "ipython",
    "version": 3
   },
   "file_extension": ".py",
   "mimetype": "text/x-python",
   "name": "python",
   "nbconvert_exporter": "python",
   "pygments_lexer": "ipython3",
   "version": "3.9.12"
  }
 },
 "nbformat": 4,
 "nbformat_minor": 5
}
