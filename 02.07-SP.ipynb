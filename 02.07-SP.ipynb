{
 "cells": [
  {
   "cell_type": "markdown",
   "metadata": {},
   "source": [
    "<!--NOTEBOOK_HEADER-->\n",
    "*This notebook contains material from [CBE60499](https://ndcbe.github.io/CBE60499);\n",
    "content is available [on Github](git@github.com:ndcbe/CBE60499.git).*\n"
   ]
  },
  {
   "cell_type": "markdown",
   "metadata": {},
   "source": [
    "<!--NAVIGATION-->\n",
    "< [2.6 Dynamic Optimization with Pyomo.DAE](https://ndcbe.github.io/CBE60499/02.06-Pyomo-DAE.html) | [Contents](toc.html) | [Tag Index](tag_index.html) | [2.8 Pyomo Homework 1](https://ndcbe.github.io/CBE60499/02.08-Pyomo1.html) ><p><a href=\"https://colab.research.google.com/github/ndcbe/CBE60499/blob/master/docs/02.07-SP.ipynb\"> <img align=\"left\" src=\"https://colab.research.google.com/assets/colab-badge.svg\" alt=\"Open in Colab\" title=\"Open in Google Colaboratory\"></a><p><a href=\"https://ndcbe.github.io/CBE60499/02.07-SP.ipynb\"> <img align=\"left\" src=\"https://img.shields.io/badge/Github-Download-blue.svg\" alt=\"Download\" title=\"Download Notebook\"></a>"
   ]
  },
  {
   "cell_type": "markdown",
   "metadata": {
    "nbpages": {
     "level": 1,
     "link": "[2.7 Stochastic Programming](https://ndcbe.github.io/CBE60499/02.07-SP.html#2.7-Stochastic-Programming)",
     "section": "2.7 Stochastic Programming"
    }
   },
   "source": [
    "# 2.7 Stochastic Programming\n",
    "\n",
    "Stochastic programming optimizes when some parameters are uncertain, but defined with a probability distribution. It is opposed to deterministic programming where all parameters are known.\n",
    "\n",
    "$\\Xi$: random variable, results of an 'experiment'\n",
    "\n",
    "$\\xi$: a realization, i.e., outcome of a simple experiment\n",
    "\n",
    "Each realization has an associated probability $p(\\xi)$. $\\Theta$ is the set of all possible realizations, $\\xi \\in \\Theta$. \n",
    "\n",
    "Let $x$ be stage 1 decision varialbes, $y$ be stage 2 decision variables, a deterministic optimization problem is formed as: \n",
    "\n",
    "$\\min f(x,y,w)$\n",
    "\n",
    "$\\ \\ \\ \\ \\ \\  g(x,y,w) \\leq 0$\n",
    "\n",
    "$\\ \\ \\ \\ \\ \\  u(x,y,w) = 0$\n",
    "\n",
    "When the parameters $w$ are uncertain, the corresponding stochastic optimization problem is formed as: \n",
    "\n",
    "$\\min E[f(x,y,\\Xi)]$\n",
    "\n",
    "$\\ \\ \\ \\ \\ \\  g(x,y,\\Xi) \\leq 0$\n",
    "\n",
    "$\\ \\ \\ \\ \\ \\  u(x,y,\\Xi) = 0$"
   ]
  },
  {
   "cell_type": "markdown",
   "metadata": {
    "nbpages": {
     "level": 2,
     "link": "[2.7.1 Key Concepts](https://ndcbe.github.io/CBE60499/02.07-SP.html#2.7.1-Key-Concepts)",
     "section": "2.7.1 Key Concepts"
    }
   },
   "source": [
    "## 2.7.1 Key Concepts"
   ]
  },
  {
   "cell_type": "markdown",
   "metadata": {
    "nbpages": {
     "level": 3,
     "link": "[2.7.1.1 Infinite Dimensional Formulation](https://ndcbe.github.io/CBE60499/02.07-SP.html#2.7.1.1-Infinite-Dimensional-Formulation)",
     "section": "2.7.1.1 Infinite Dimensional Formulation"
    }
   },
   "source": [
    "### 2.7.1.1 Infinite Dimensional Formulation\n",
    "\n",
    "Continuous random variables have the key property: \n",
    "\n",
    "$0 \\leq p(\\xi) \\leq 1$ for all $\\xi \\in \\Theta$\n",
    "\n",
    "$\\int p(\\xi) d\\xi = 1$\n",
    "\n",
    "The expectation is formed as:\n",
    "\n",
    "$E_{\\Xi} = \\int_{\\Xi} f(\\xi) P_{\\Xi}(\\xi) d\\xi$"
   ]
  },
  {
   "cell_type": "markdown",
   "metadata": {
    "nbpages": {
     "level": 3,
     "link": "[2.7.1.2 Discrete (Finite Dimensional) Approximations](https://ndcbe.github.io/CBE60499/02.07-SP.html#2.7.1.2-Discrete-(Finite-Dimensional)-Approximations)",
     "section": "2.7.1.2 Discrete (Finite Dimensional) Approximations"
    }
   },
   "source": [
    "### 2.7.1.2 Discrete (Finite Dimensional) Approximations\n",
    "\n",
    "Discrete random variables have the key property: \n",
    "\n",
    "$0 \\leq p(\\xi) \\leq 1$ for all $\\xi \\in \\Theta$\n",
    "\n",
    "$\\sum p(\\xi) = 1$\n",
    "\n",
    "The expectation of it: \n",
    "\n",
    "$E_{\\Xi} = \\sum_{\\Xi} f(\\xi) w(\\xi)$"
   ]
  },
  {
   "cell_type": "markdown",
   "metadata": {
    "nbpages": {
     "level": 3,
     "link": "[2.7.1.3 Sample Average Approximation](https://ndcbe.github.io/CBE60499/02.07-SP.html#2.7.1.3-Sample-Average-Approximation)",
     "section": "2.7.1.3 Sample Average Approximation"
    }
   },
   "source": [
    "### 2.7.1.3 Sample Average Approximation\n",
    "\n",
    "Sample average approximation (SAA) method is an approach for solving stochastic optimization problems by Monte Carlo simulation. It approximates the expected objective function of the stochastic problem by a sample average estimate derived from a random sample. The resulting sample average approximation problem is then solved by deterministic optimization techniques. \n",
    "\n",
    "Consider a stochastic program in the following form: \n",
    "\n",
    "$z = \\inf \\int_{\\Xi} g(x,\\xi) P(d\\xi)$\n",
    "\n",
    "The optimal solution $x^*$ will have optimal value $z^*$. SAA consider a sample ${\\xi^i}$ of independent observations of $\\xi$:\n",
    "\n",
    "$z^{\\nu} = \\inf \\frac{1}{\\nu} \\sum_{i=1}^{\\nu} g(x,\\xi^i)$\n",
    "\n",
    "Where $x^{\\nu}$ is the random vector of solutions with independent random samples, $\\xi^i$, $i=1,...,\\nu$. "
   ]
  },
  {
   "cell_type": "markdown",
   "metadata": {
    "nbpages": {
     "level": 3,
     "link": "[2.7.1.4 Sparse Grids (Worst Case)](https://ndcbe.github.io/CBE60499/02.07-SP.html#2.7.1.4-Sparse-Grids-(Worst-Case))",
     "section": "2.7.1.4 Sparse Grids (Worst Case)"
    }
   },
   "source": [
    "### 2.7.1.4 Sparse Grids (Worst Case)\n",
    "\n",
    "Instead of Monte carlo sampling, sparse grids can be used to obtain efficient characterizations of the integrals in stochastic programs. Many computational problems are solved on full grids. While this is feasible if the dimentionality $d$ of the problem is low, 2 or 3, full grids become very expensive when facing a higher dimentional problem $d>4$. This is due to the curse of dimensionality, which states that the complexity of full grids grows exponentially with $d$. \n",
    "\n",
    "Sparse grids defeat the curse of dimentionality and allow the solution of the problems with much smaller effort. It is constructed by extending one-dimensional quadrature rules to higher dimensions. Gaussian quadrature rule is one of these rules to approximate the definite integral of a function. It is usually a weighted sum of function values at specified points within the domain of integration, stated as: \n",
    "\n",
    "$\\int f(x)dx \\approx \\sum_{i=1}^{n} \\omega_i f(x_i) $\n",
    "\n",
    "Comparison between 2-point Gaussian and trapezoidal quadrature. For the polynomial: \n",
    "\n",
    "$y(x) = 7x^3-8x^2-3x+3$\n",
    "\n",
    "whose integral in [-1,1] is $\\frac{2}{3}$. \n",
    "\n",
    "The trapezoidal rule returns the integral of the orange dashed line: \n",
    "\n",
    "$y(-1)+y(1) = -10$\n",
    "\n",
    "The 2-point Gaussian quadrature returns the integral of the black dashed curve, equal to:\n",
    "\n",
    "$y(-\\sqrt{\\frac{1}{3}}) + y(\\sqrt{\\frac{1}{3}}) = \\frac{2}{3}$\n",
    "\n",
    "\n",
    "![sg1](fig/sg-2.png)\n",
    "Figure from [1]"
   ]
  },
  {
   "cell_type": "code",
   "execution_count": 5,
   "metadata": {},
   "outputs": [],
   "source": [
    "import Tasmanian\n",
    "import numpy as np\n",
    "import matplotlib.pyplot as plt\n",
    "\n",
    "# # define bounds for integration\n",
    "# UB = 1\n",
    "# LB = -1\n",
    "\n",
    "# # function\n",
    "# y = lambda x: 7*x**3-8*x**2-3*x+3\n",
    "\n",
    "# # integrated function \n",
    "# int_y = lambda x: 1.75*x**4-8/3*x**3-1.5*x**2+3*x\n",
    "\n",
    "# # real area \n",
    "# real_S = int_y(UB) - int_y(LB)\n",
    "# print('The area:', real_S)\n",
    "\n",
    "# # area calculated by trapezoidal rule\n",
    "# trap_S = (y(UB)+y(LB))*(UB-LB)/2\n",
    "# print('The area calculated by trapezoidal rule:', trap_S)\n",
    "\n",
    "# # generate sparse grids\n",
    "# range_p = np.array([[LB,UB]])\n",
    "# grid_p = Tasmanian.SparseGrid()\n",
    "# grid_p.makeGlobalGrid(1,0,1,'level','gauss-legendre')\n",
    "# grid_p.setDomainTransform(range_p)\n",
    "# points_p = grid_p.getPoints()\n",
    "# weights_p = grid_p.getQuadratureWeights()\n",
    "# # area calculated by sparse grids\n",
    "# gauss_S = sum(y(point)*weights_p[i] for i, point in enumerate(points_p))\n",
    "# print('The area calculated by Gauss rule:', gauss_S)"
   ]
  },
  {
   "cell_type": "markdown",
   "metadata": {},
   "source": [
    "How to choose quadrature rules for sparse grids depends on how the problem is formed. A guidance on how to choose the one dimensional quadrature rule can be found in:\n",
    "https://tasmanian.ornl.gov/documentation/group__SGEnumerates.html#ga145e27d5ae92acdd5f74149c6d4f2ca2\n",
    "\n",
    "The following example shows several example quadrature rules:"
   ]
  },
  {
   "cell_type": "code",
   "execution_count": 14,
   "metadata": {},
   "outputs": [
    {
     "name": "stdout",
     "output_type": "stream",
     "text": [
      "[-4096.   512.   512.   512.   512.   512.   512.   512.   512.   512.\n",
      "   512.]\n"
     ]
    },
    {
     "data": {
      "image/png": "[encoded data removed]",
      "text/plain": [
       "<Figure size 432x288 with 1 Axes>"
      ]
     },
     "metadata": {
      "needs_background": "light"
     },
     "output_type": "display_data"
    },
    {
     "name": "stdout",
     "output_type": "stream",
     "text": [
      "[-12.36971473   1.54621434   1.54621434   1.54621434   1.54621434\n",
      "   1.54621434   1.54621434   1.54621434   1.54621434   1.54621434\n",
      "   1.54621434]\n"
     ]
    },
    {
     "data": {
      "image/png": "[encoded data removed]",
      "text/plain": [
       "<Figure size 432x288 with 1 Axes>"
      ]
     },
     "metadata": {
      "needs_background": "light"
     },
     "output_type": "display_data"
    }
   ],
   "source": [
    "def show_sparse_grids(range_p,dim=5,output=0,depth=1, rule='gauss-legendre'):\n",
    "    '''\n",
    "    This function shows the sparse grids generated with different rules\n",
    "    Arguments:\n",
    "        range_p: dimension ranges \n",
    "        dim: sparse grids dimension\n",
    "        output: output level\n",
    "        depth: depth level\n",
    "        rule: quadrature rules\n",
    "    Return: \n",
    "        None\n",
    "    Other:\n",
    "        A figure shows 2D sparse grids\n",
    "    '''\n",
    "    grid_p = Tasmanian.SparseGrid()\n",
    "    grid_p.makeGlobalGrid(dim,output,depth,'level',rule)\n",
    "    grid_p.setDomainTransform(range_p)\n",
    "    points_p = grid_p.getPoints()\n",
    "#     print(points_p)\n",
    "    weights_p = grid_p.getQuadratureWeights()\n",
    "    print(weights_p)\n",
    "    for i in range(len(points_p)):\n",
    "        plt.scatter(points_p[i,0], points_p[i,1])\n",
    "        plt.title('Sparse girds of '+rule)\n",
    "    plt.show()\n",
    "    \n",
    "# range_fix = np.array([[50,220],[300,600]])\n",
    "range_fix = np.array([[-2,2],[-2,2],[-2,2],[-2,2],[-2,2]])\n",
    "# range_fix = np.array([[-2,2],[-2,2]])\n",
    "show_sparse_grids(range_fix)\n",
    "show_sparse_grids(range_fix, rule='gauss-hermite')\n",
    "# show_sparse_grids(range_fix, rule='chebyshev')"
   ]
  },
  {
   "cell_type": "markdown",
   "metadata": {},
   "source": [
    "The following figure shows sparse grid on the top, and Monte Carlo samples on the bottom. Left graphs contain 441 scenarios, and the right graphs contain 1073 scenarios. Sparse grids can efficiently cover the domain and lead to higher convergence rates. \n",
    "\n",
    "![sg1](fig/sg-1.png)\n",
    "Figure from [2]"
   ]
  },
  {
   "cell_type": "markdown",
   "metadata": {
    "nbpages": {
     "level": 2,
     "link": "[2.7.2 Farmers Example](https://ndcbe.github.io/CBE60499/02.07-SP.html#2.7.2-Farmers-Example)",
     "section": "2.7.2 Farmers Example"
    }
   },
   "source": [
    "## 2.7.2 Farmers Example"
   ]
  },
  {
   "cell_type": "markdown",
   "metadata": {},
   "source": [
    "![ex1](fig/farmer1.png)\n",
    "![ex1.1](fig/farmer2.png)\n",
    "![ex1.2](fig/farmer3.png)"
   ]
  },
  {
   "cell_type": "code",
   "execution_count": 5,
   "metadata": {},
   "outputs": [],
   "source": [
    "from pyomo.environ import *\n",
    "\n",
    "### Solve the perfect information optimization problem\n",
    "\n",
    "def build_model(yields):\n",
    "    '''\n",
    "    Code adapted from https://mpi-sppy.readthedocs.io/en/latest/examples.html#examples\n",
    "    \n",
    "    Arguments:\n",
    "        yields: Yield information as a list, following the rank [wheat, corn, beets]\n",
    "        \n",
    "    Return: \n",
    "        model: farmer problem model \n",
    "    '''\n",
    "    model = ConcreteModel()\n",
    "    \n",
    "    # Define sets\n",
    "    all_crops = [\"WHEAT\", \"CORN\", \"BEETS\"]\n",
    "    purchase_crops = [\"WHEAT\", \"CORN\"]\n",
    "    sell_crops = [\"WHEAT\", \"CORN\", \"BEETS_FAVORABLE\", \"BEETS_UNFAVORABLE\"]\n",
    "    \n",
    "    # Crops field allocation\n",
    "    model.X = Var(all_crops, within=NonNegativeReals)\n",
    "    # How many tons of crops to purchase\n",
    "    model.Y = Var(purchase_crops, within=NonNegativeReals)\n",
    "    # How many tons of crops to sell\n",
    "    model.W = Var(sell_crops,within=NonNegativeReals)\n",
    "\n",
    "    # Objective function\n",
    "    model.PLANTING_COST = 150 * model.X[\"WHEAT\"] + 230 * model.X[\"CORN\"] + 260 * model.X[\"BEETS\"]\n",
    "    model.PURCHASE_COST = 238 * model.Y[\"WHEAT\"] + 210 * model.Y[\"CORN\"]\n",
    "    model.SALES_REVENUE = (\n",
    "        170 * model.W[\"WHEAT\"] + 150 * model.W[\"CORN\"]\n",
    "        + 36 * model.W[\"BEETS_FAVORABLE\"] + 10 * model.W[\"BEETS_UNFAVORABLE\"]\n",
    "    )\n",
    "    # Maximize the Obj is to minimize the negative of the Obj\n",
    "    model.OBJ = Objective(\n",
    "        expr=model.PLANTING_COST + model.PURCHASE_COST - model.SALES_REVENUE,\n",
    "        sense=minimize\n",
    "    )\n",
    "\n",
    "    # Constraints\n",
    "    model.CONSTR= ConstraintList()\n",
    "\n",
    "    model.CONSTR.add(summation(model.X) <= 500)\n",
    "    model.CONSTR.add(\n",
    "        yields[0] * model.X[\"WHEAT\"] + model.Y[\"WHEAT\"] - model.W[\"WHEAT\"] >= 200\n",
    "    )\n",
    "    model.CONSTR.add(\n",
    "        yields[1] * model.X[\"CORN\"] + model.Y[\"CORN\"] - model.W[\"CORN\"] >= 240\n",
    "    )\n",
    "    model.CONSTR.add(\n",
    "        yields[2] * model.X[\"BEETS\"] - model.W[\"BEETS_FAVORABLE\"] - model.W[\"BEETS_UNFAVORABLE\"] >= 0\n",
    "    )\n",
    "    model.W[\"BEETS_FAVORABLE\"].setub(6000)\n",
    "\n",
    "    return model"
   ]
  },
  {
   "cell_type": "markdown",
   "metadata": {},
   "source": [
    "### 2.7.2.1 Perfect information \n",
    "\n",
    "With the 'perfect' information shown in the table above, the optimization problem is formed as: \n",
    "\n",
    "![ex1.2](fig/farmer2-0.png)"
   ]
  },
  {
   "cell_type": "code",
   "execution_count": 6,
   "metadata": {},
   "outputs": [
    {
     "name": "stdout",
     "output_type": "stream",
     "text": [
      "===Optimal solutions based on perfect information===\n",
      "Culture.         |  Wheat | Corn  | Sugar Beets |\n",
      "Surface (acres)  |  120.0 | 80.0  | 300.0  |\n",
      "Yield (T)        |  300.0 | 240.0 | 6000.0 |\n",
      "Sales (T)        |  100.0 | 0.0   | 6000.0 |\n",
      "Purchases (T)    |  0.0   | 0.0   | -      |\n",
      "Overall profit: $ 118600.0\n"
     ]
    }
   ],
   "source": [
    "# Perfect yields \n",
    "yields_perfect = [2.5, 3, 20]\n",
    "model = build_model(yields_perfect)\n",
    "solver = SolverFactory(\"ipopt\")\n",
    "solver.solve(model)\n",
    "\n",
    "# The Obj is a negative number for minimizing \n",
    "profit_perfect = -value(model.OBJ)\n",
    "\n",
    "print(\"===Optimal solutions based on perfect information===\")\n",
    "\n",
    "print('Culture.         | ', 'Wheat |', 'Corn  |', 'Sugar Beets |')\n",
    "print('Surface (acres)  | ', f'{value(model.X[\"WHEAT\"]):.1f}', '|', \n",
    "      f'{value(model.X[\"CORN\"]):.1f}', ' |',\n",
    "       f'{value(model.X[\"BEETS\"]):.1f}',' |')\n",
    "print('Yield (T)        | ', f'{value(model.X[\"WHEAT\"])*yields_perfect[0]:.1f}', '|', \n",
    "      f'{value(model.X[\"CORN\"])*yields_perfect[1]:.1f}', '|',\n",
    "       f'{value(model.X[\"BEETS\"])*yields_perfect[2]:.1f}','|')\n",
    "print('Sales (T)        | ', f'{value(model.W[\"WHEAT\"]):.1f}', '|', \n",
    "      f'{value(model.W[\"CORN\"]):.1f}', '  |',\n",
    "       f'{value(model.W[\"BEETS_FAVORABLE\"]) + value(model.W[\"BEETS_UNFAVORABLE\"]):.1f}','|')\n",
    "print('Purchases (T)    | ', f'{value(model.Y[\"WHEAT\"]):.1f}', '  |', \n",
    "      f'{value(model.Y[\"CORN\"]):.1f}', '  |',\n",
    "       '-','     |')\n",
    "print('Overall profit: $',f\"{profit_perfect:.1f}\")"
   ]
  },
  {
   "cell_type": "markdown",
   "metadata": {},
   "source": [
    "The optimal solution based on perfect information is: \n",
    "\n",
    "![ex1.2](fig/farmer2-1.png)\n",
    "\n",
    "This solution is easy to understand:\n",
    "- The farmer devotes enough land to sugar beets to reach the quota of 6000 T\n",
    "- Devote enough land to wheat and corn production to meet the feeding requirement\n",
    "- Plant wheat in the rest of the land\n",
    "\n",
    "However, there are often some 'real world' constraints that break the perfect information heuristic: \n",
    "- Market prices change \n",
    "- Yield is uncertain\n",
    "- Planting cost materials, water, labor...\n",
    "- Crop rotation \n",
    "\n",
    "A representation of the uncertainty would be to assume that years are good, fair, or bad for all crops, resulting in above average, average, or below average yields for all crops. Three scenarios are defined as:\n",
    "- Above average yield (+20%)\n",
    "- Average yield (base case)\n",
    "- Below average yield (-20%)\n",
    "\n"
   ]
  },
  {
   "cell_type": "code",
   "execution_count": 7,
   "metadata": {},
   "outputs": [
    {
     "name": "stdout",
     "output_type": "stream",
     "text": [
      "===Optimal solutions based on above average yields (-20%)===\n",
      "Culture.         |  Wheat | Corn  | Sugar Beets |\n",
      "Surface (acres)  |  183.3 | 66.7  | 250.0  |\n",
      "Yield (T)        |  550.0 | 240.0 | 6000.0 |\n",
      "Sales (T)        |  350.0 | 0.0   | 6000.0 |\n",
      "Purchases (T)    |  0.0   | 0.0   | -      |\n",
      "Overall profit: $ 167666.7\n"
     ]
    }
   ],
   "source": [
    "### Run Above average case\n",
    "yields_above = [2.5*1.2, 3*1.2, 20*1.2]\n",
    "model = build_model(yields_above)\n",
    "solver = SolverFactory(\"ipopt\")\n",
    "solver.solve(model)\n",
    "\n",
    "profit_above = -value(model.OBJ)\n",
    "\n",
    "\n",
    "print(\"===Optimal solutions based on above average yields (-20%)===\")\n",
    "print('Culture.         | ', 'Wheat |', 'Corn  |', 'Sugar Beets |')\n",
    "print('Surface (acres)  | ', f'{value(model.X[\"WHEAT\"]):.1f}', '|', \n",
    "      f'{value(model.X[\"CORN\"]):.1f}', ' |',\n",
    "       f'{value(model.X[\"BEETS\"]):.1f}',' |')\n",
    "print('Yield (T)        | ', f'{value(model.X[\"WHEAT\"])*yields_above[0]:.1f}', '|', \n",
    "      f'{value(model.X[\"CORN\"])*yields_above[1]:.1f}', '|',\n",
    "       f'{value(model.X[\"BEETS\"])*yields_above[2]:.1f}','|')\n",
    "print('Sales (T)        | ', f'{value(model.W[\"WHEAT\"]):.1f}', '|', \n",
    "      f'{value(model.W[\"CORN\"]):.1f}', '  |',\n",
    "       f'{value(model.W[\"BEETS_FAVORABLE\"]) + value(model.W[\"BEETS_UNFAVORABLE\"]):.1f}','|')\n",
    "print('Purchases (T)    | ', f'{value(model.Y[\"WHEAT\"]):.1f}', '  |', \n",
    "      f'{value(model.Y[\"CORN\"]):.1f}', '  |',\n",
    "       '-','     |')\n",
    "print('Overall profit: $',f\"{profit_above:.1f}\")"
   ]
  },
  {
   "cell_type": "code",
   "execution_count": 8,
   "metadata": {},
   "outputs": [
    {
     "name": "stdout",
     "output_type": "stream",
     "text": [
      "===Optimal solutions based on below average yields (-20%)===\n",
      "Culture.         |  Wheat | Corn  | Sugar Beets |\n",
      "Surface (acres)  |  100.0 | 25.0  | 375.0  |\n",
      "Yield (T)        |  200.0 | 60.0 | 6000.0 |\n",
      "Sales (T)        |  0.0 | 0.0   | 6000.0 |\n",
      "Purchases (T)    |  0.0   | 180.0   | -      |\n",
      "Overall profit: $ 59950.0\n"
     ]
    }
   ],
   "source": [
    "### Run Below average case\n",
    "yields_below = [2.5*0.8, 3*0.8, 20*0.8]\n",
    "model = build_model(yields_below)\n",
    "solver = SolverFactory(\"ipopt\")\n",
    "solver.solve(model)\n",
    "\n",
    "profit_below = -value(model.OBJ)\n",
    "\n",
    "\n",
    "print(\"===Optimal solutions based on below average yields (-20%)===\")\n",
    "print('Culture.         | ', 'Wheat |', 'Corn  |', 'Sugar Beets |')\n",
    "print('Surface (acres)  | ', f'{value(model.X[\"WHEAT\"]):.1f}', '|', \n",
    "      f'{value(model.X[\"CORN\"]):.1f}', ' |',\n",
    "       f'{value(model.X[\"BEETS\"]):.1f}',' |')\n",
    "print('Yield (T)        | ', f'{value(model.X[\"WHEAT\"])*yields_below[0]:.1f}', '|', \n",
    "      f'{value(model.X[\"CORN\"])*yields_below[1]:.1f}', '|',\n",
    "       f'{value(model.X[\"BEETS\"])*yields_below[2]:.1f}','|')\n",
    "print('Sales (T)        | ', f'{value(model.W[\"WHEAT\"]):.1f}', '|', \n",
    "      f'{value(model.W[\"CORN\"]):.1f}', '  |',\n",
    "       f'{value(model.W[\"BEETS_FAVORABLE\"]) + value(model.W[\"BEETS_UNFAVORABLE\"]):.1f}','|')\n",
    "print('Purchases (T)    | ', f'{value(model.Y[\"WHEAT\"]):.1f}', '  |', \n",
    "      f'{value(model.Y[\"CORN\"]):.1f}', '  |',\n",
    "       '-','     |')\n",
    "print('Overall profit: $',f\"{profit_below:.1f}\")"
   ]
  },
  {
   "cell_type": "markdown",
   "metadata": {},
   "source": [
    "Running the optimization problem based on above average and below average yields gives optimal solutions: \n",
    "\n",
    "![ex1.2](fig/farmer2-2.png)\n",
    "\n",
    "\n",
    "The solutions again seem natural. When yields are high, smaller surfaces are needed to raise the minimum requirements in wheat and corn and the sugar beet quota. The remaining land is devoted to wheat, whose extra production is sold. When yields are low, larger surfaces are needed to raise the minimum requirements and the sugar beet quota. \n",
    "\n",
    "Unfortunately, weather conditions cannot be accurately predicted six months ahead. The farmer must make up his mind without perfect information on yields! "
   ]
  },
  {
   "cell_type": "markdown",
   "metadata": {},
   "source": [
    "### 2.7.2.2 Include uncertainty in the two-stage stochastic program\n",
    "\n",
    "Now the farmer wants to assess the benefits and losses of each decision in each situation. \n",
    "\n",
    "Decisions on land assignment ($x_1$, $x_2$, $x_3$) have to be taken now, but sales and purchases ($w_i, i=1,...,4$, $y_j, j=1,2$) depend on the yields. This forms the two-stage stochastic program: \n",
    "\n",
    "1. Stage 1 decisions: land assignments ($x_1$, $x_2$, $x_3$)\n",
    "2. Uncertainty is realized \n",
    "3. Stage 2 decisions: wait-and-see (sales and purchases)\n",
    "\n",
    "It is useful to index those decisions by a scenario index $s=1,2,3$ according to above average, average or below average yields, respectively. This creates a new set of variables $w_{is}, i=1,2,3,4, s=1,2,3$ and $y_{js}, j=1,2, s=1,2,3.$ For e.g., $w_{32}$ represents the amount of sugar beets sold at the favorable price if yields are average. \n",
    "\n",
    "It the three scenarios have an equal probability of 1/3, the farmer's problem is formed as: \n",
    "\n",
    "![ex1.2](fig/farmer3-1.png)\n",
    "\n"
   ]
  },
  {
   "cell_type": "code",
   "execution_count": 9,
   "metadata": {},
   "outputs": [],
   "source": [
    "def build_sp_model(yields):\n",
    "    '''\n",
    "    Code adapted from https://mpi-sppy.readthedocs.io/en/latest/examples.html#examples\n",
    "    It specifies the extensive form of the two-stage stochastic programming\n",
    "    \n",
    "    Arguments:\n",
    "        yields: Yield information as a list, following the rank [wheat, corn, beets]\n",
    "        \n",
    "    Return: \n",
    "        model: farmer problem model \n",
    "    '''\n",
    "    model = ConcreteModel()\n",
    "    \n",
    "    all_crops = [\"WHEAT\", \"CORN\", \"BEETS\"]\n",
    "    purchase_crops = [\"WHEAT\", \"CORN\"]\n",
    "    sell_crops = [\"WHEAT\", \"CORN\", \"BEETS_FAVORABLE\", \"BEETS_UNFAVORABLE\"]\n",
    "    scenarios = [\"ABOVE\",\"AVERAGE\",\"BELOW\"]\n",
    "    \n",
    "    # Fields allocation\n",
    "    model.X = Var(all_crops, within=NonNegativeReals)\n",
    "    # How many tons of crops to purchase in each scenario\n",
    "    model.Y = Var(purchase_crops, scenarios, within=NonNegativeReals)\n",
    "    # How many tons of crops to sell in each scenario\n",
    "    model.W = Var(sell_crops, scenarios, within=NonNegativeReals)\n",
    "\n",
    "    # Objective function\n",
    "    model.PLANTING_COST = 150 * model.X[\"WHEAT\"] + 230 * model.X[\"CORN\"] + 260 * model.X[\"BEETS\"]\n",
    "    model.PURCHASE_COST_ABOVE = 238 * model.Y[\"WHEAT\", \"ABOVE\"] + 210 * model.Y[\"CORN\",\"ABOVE\"]\n",
    "    model.SALES_REVENUE_ABOVE = (\n",
    "        170 * model.W[\"WHEAT\", \"ABOVE\"] + 150 * model.W[\"CORN\",\"ABOVE\"]\n",
    "        + 36 * model.W[\"BEETS_FAVORABLE\",\"ABOVE\"] + 10 * model.W[\"BEETS_UNFAVORABLE\",\"ABOVE\"])\n",
    "    \n",
    "    model.PURCHASE_COST_AVE = 238 * model.Y[\"WHEAT\", \"AVERAGE\"] + 210 * model.Y[\"CORN\",\"AVERAGE\"]\n",
    "    model.SALES_REVENUE_AVE = (\n",
    "        170 * model.W[\"WHEAT\", \"AVERAGE\"] + 150 * model.W[\"CORN\",\"AVERAGE\"]\n",
    "        + 36 * model.W[\"BEETS_FAVORABLE\",\"AVERAGE\"] + 10 * model.W[\"BEETS_UNFAVORABLE\",\"AVERAGE\"])\n",
    "    \n",
    "    model.PURCHASE_COST_BELOW = 238 * model.Y[\"WHEAT\", \"BELOW\"] + 210 * model.Y[\"CORN\",\"BELOW\"]\n",
    "    model.SALES_REVENUE_BELOW = (\n",
    "        170 * model.W[\"WHEAT\", \"BELOW\"] + 150 * model.W[\"CORN\",\"BELOW\"]\n",
    "        + 36 * model.W[\"BEETS_FAVORABLE\",\"BELOW\"] + 10 * model.W[\"BEETS_UNFAVORABLE\",\"BELOW\"])\n",
    "    \n",
    "    model.OBJ = Objective(\n",
    "        expr=model.PLANTING_COST + 1/3*(model.PURCHASE_COST_ABOVE + model.PURCHASE_COST_AVE + model.PURCHASE_COST_BELOW)\n",
    "        - 1/3*(model.SALES_REVENUE_ABOVE + model.SALES_REVENUE_AVE + model.SALES_REVENUE_BELOW),\n",
    "        sense=minimize\n",
    "    )\n",
    "\n",
    "    # Constraints\n",
    "    model.CONSTR= ConstraintList()\n",
    "\n",
    "    model.CONSTR.add(summation(model.X) <= 500)\n",
    "    model.CONSTR.add(yields[0] * model.X[\"WHEAT\"] + model.Y[\"WHEAT\",\"AVERAGE\"] - model.W[\"WHEAT\",\"AVERAGE\"] >= 200)\n",
    "    model.CONSTR.add(yields[0]*1.2 * model.X[\"WHEAT\"] + model.Y[\"WHEAT\",\"ABOVE\"] - model.W[\"WHEAT\",\"ABOVE\"] >= 200)\n",
    "    model.CONSTR.add(yields[0]*0.8 * model.X[\"WHEAT\"] + model.Y[\"WHEAT\",\"BELOW\"] - model.W[\"WHEAT\",\"BELOW\"] >= 200)\n",
    "    \n",
    "    model.CONSTR.add(yields[1] * model.X[\"CORN\"] + model.Y[\"CORN\",\"AVERAGE\"] - model.W[\"CORN\",\"AVERAGE\"] >= 240)\n",
    "    model.CONSTR.add(yields[1]*1.2 * model.X[\"CORN\"] + model.Y[\"CORN\",\"ABOVE\"] - model.W[\"CORN\",\"ABOVE\"] >= 240)\n",
    "    model.CONSTR.add(yields[1]*0.8 * model.X[\"CORN\"] + model.Y[\"CORN\",\"BELOW\"] - model.W[\"CORN\",\"BELOW\"] >= 240)\n",
    "    \n",
    "    model.CONSTR.add(\n",
    "        yields[2] * model.X[\"BEETS\"] - model.W[\"BEETS_FAVORABLE\",\"AVERAGE\"] - model.W[\"BEETS_UNFAVORABLE\",\"AVERAGE\"] >= 0\n",
    "    )\n",
    "    model.CONSTR.add(\n",
    "        yields[2]*1.2 * model.X[\"BEETS\"] - model.W[\"BEETS_FAVORABLE\",\"ABOVE\"] - model.W[\"BEETS_UNFAVORABLE\",\"ABOVE\"] >= 0\n",
    "    )\n",
    "    model.CONSTR.add(\n",
    "        yields[2]*0.8 * model.X[\"BEETS\"] - model.W[\"BEETS_FAVORABLE\",\"BELOW\"] - model.W[\"BEETS_UNFAVORABLE\",\"BELOW\"] >= 0\n",
    "    )\n",
    "    \n",
    "    \n",
    "    model.W[\"BEETS_FAVORABLE\",\"AVERAGE\"].setub(6000)\n",
    "    model.W[\"BEETS_FAVORABLE\",\"ABOVE\"].setub(6000)\n",
    "    model.W[\"BEETS_FAVORABLE\",\"BELOW\"].setub(6000)\n",
    "\n",
    "    return model"
   ]
  },
  {
   "cell_type": "code",
   "execution_count": 10,
   "metadata": {},
   "outputs": [
    {
     "name": "stdout",
     "output_type": "stream",
     "text": [
      "===Optimal solutions of two-stage stochastic problem===\n",
      "Culture.         |  Wheat | Corn  | Sugar Beets |\n",
      "Surface (acres)  |  170.0 | 80.0  | 250.0  |\n",
      "First stage: s=1 (Above average)\n",
      "Culture.         |  Wheat | Corn  | Sugar Beets |\n",
      "Yield (T)        |  510.0 | 288.0 | 6000.0 |\n",
      "Sales (T)        |  310.0 | 48.0   | 6000.0 |\n",
      "Purchases (T)    |  0.0   | 0.0   | -      |\n",
      "First stage: s=2 (Average average)\n",
      "Culture.         |  Wheat | Corn  | Sugar Beets |\n",
      "Yield (T)        |  425.0 | 240.0 | 5000.0 |\n",
      "Sales (T)        |  225.0 | 0.0   | 5000.0 |\n",
      "Purchases (T)    |  0.0   | 0.0   | -      |\n",
      "First stage: s=3 (Below average)\n",
      "Culture.         |  Wheat | Corn  | Sugar Beets |\n",
      "Yield (T)        |  340.0 | 192.0 | 4000.0 |\n",
      "Sales (T)        |  140.0 | 0.0   | 4000.0 |\n",
      "Purchases (T)    |  0.0   | 48.0   | -      |\n",
      "Overall profit: $ 108390.0\n"
     ]
    }
   ],
   "source": [
    "### calculate two-stage stochastic problem\n",
    "yields_perfect = [2.5, 3, 20]\n",
    "model = build_sp_model(yields_perfect)\n",
    "solver = SolverFactory(\"ipopt\")\n",
    "solver.solve(model)\n",
    "\n",
    "profit_2stage = -value(model.OBJ)\n",
    "\n",
    "print(\"===Optimal solutions of two-stage stochastic problem===\")\n",
    "print('Culture.         | ', 'Wheat |', 'Corn  |', 'Sugar Beets |')\n",
    "print('Surface (acres)  | ', f'{value(model.X[\"WHEAT\"]):.1f}', '|', \n",
    "      f'{value(model.X[\"CORN\"]):.1f}', ' |',\n",
    "       f'{value(model.X[\"BEETS\"]):.1f}',' |')\n",
    "print('First stage: s=1 (Above average)')\n",
    "print('Culture.         | ', 'Wheat |', 'Corn  |', 'Sugar Beets |')\n",
    "print('Yield (T)        | ', f'{value(model.X[\"WHEAT\"])*yields_perfect[0]*1.2:.1f}', '|', \n",
    "      f'{value(model.X[\"CORN\"])*yields_perfect[1]*1.2:.1f}', '|',\n",
    "       f'{value(model.X[\"BEETS\"])*yields_perfect[2]*1.2:.1f}','|')\n",
    "print('Sales (T)        | ', f'{value(model.W[\"WHEAT\",\"ABOVE\"]):.1f}', '|', \n",
    "      f'{value(model.W[\"CORN\",\"ABOVE\"]):.1f}', '  |',\n",
    "       f'{value(model.W[\"BEETS_FAVORABLE\",\"ABOVE\"]) + value(model.W[\"BEETS_UNFAVORABLE\",\"ABOVE\"]):.1f}','|')\n",
    "print('Purchases (T)    | ', f'{value(model.Y[\"WHEAT\",\"ABOVE\"]):.1f}', '  |', \n",
    "      f'{value(model.Y[\"CORN\",\"ABOVE\"]):.1f}', '  |',\n",
    "       '-','     |')\n",
    "\n",
    "print('First stage: s=2 (Average average)')\n",
    "print('Culture.         | ', 'Wheat |', 'Corn  |', 'Sugar Beets |')\n",
    "print('Yield (T)        | ', f'{value(model.X[\"WHEAT\"])*yields_perfect[0]:.1f}', '|', \n",
    "      f'{value(model.X[\"CORN\"])*yields_perfect[1]:.1f}', '|',\n",
    "       f'{value(model.X[\"BEETS\"])*yields_perfect[2]:.1f}','|')\n",
    "print('Sales (T)        | ', f'{value(model.W[\"WHEAT\",\"AVERAGE\"]):.1f}', '|', \n",
    "      f'{value(model.W[\"CORN\",\"AVERAGE\"]):.1f}', '  |',\n",
    "       f'{value(model.W[\"BEETS_FAVORABLE\",\"AVERAGE\"]) + value(model.W[\"BEETS_UNFAVORABLE\",\"AVERAGE\"]):.1f}','|')\n",
    "print('Purchases (T)    | ', f'{value(model.Y[\"WHEAT\",\"AVERAGE\"]):.1f}', '  |', \n",
    "      f'{value(model.Y[\"CORN\",\"AVERAGE\"]):.1f}', '  |',\n",
    "       '-','     |')\n",
    "\n",
    "print('First stage: s=3 (Below average)')\n",
    "print('Culture.         | ', 'Wheat |', 'Corn  |', 'Sugar Beets |')\n",
    "print('Yield (T)        | ', f'{value(model.X[\"WHEAT\"])*yields_perfect[0]*0.8:.1f}', '|', \n",
    "      f'{value(model.X[\"CORN\"])*yields_perfect[1]*0.8:.1f}', '|',\n",
    "       f'{value(model.X[\"BEETS\"])*yields_perfect[2]*0.8:.1f}','|')\n",
    "print('Sales (T)        | ', f'{value(model.W[\"WHEAT\",\"BELOW\"]):.1f}', '|', \n",
    "      f'{value(model.W[\"CORN\",\"BELOW\"]):.1f}', '  |',\n",
    "       f'{value(model.W[\"BEETS_FAVORABLE\",\"BELOW\"]) + value(model.W[\"BEETS_UNFAVORABLE\",\"BELOW\"]):.1f}','|')\n",
    "print('Purchases (T)    | ', f'{value(model.Y[\"WHEAT\",\"BELOW\"]):.1f}', '  |', \n",
    "      f'{value(model.Y[\"CORN\",\"BELOW\"]):.1f}', '  |',\n",
    "       '-','     |')\n",
    "print('Overall profit: $',f\"{profit_2stage:.1f}\")"
   ]
  },
  {
   "cell_type": "markdown",
   "metadata": {},
   "source": [
    "![ex1.2](fig/farmer2-4.png)\n",
    "Such a model of a stochastic decision program is known as the $extensive$ $form$ of the stochastic program because it explicitly describes the second-stage decision variables for all scenarios. \n",
    "\n",
    "This solution illustrates that it is impossible to find a solution that is ideal under all circumstances under uncertainty."
   ]
  },
  {
   "cell_type": "markdown",
   "metadata": {},
   "source": [
    "### 2.7.2.3 EVPI and VSS\n",
    "\n",
    "Suppose yields vary over years but are cyclical. A year with above average yields is always followed by a year with average yields and then a year with below average yields. The farmer would take optimal solutions as given in perfect information chapter repectively. The mean profit in the long run will be the mean of the three figures, namely \\$115,406 per year.\n",
    "\n",
    "Now assume again the yields vary over years but on a random basis. The farmer does not get prior information on the yields. So, the best he can do in the long run is to take the solution as given in the two-stage stochastic program. The difference between this figure and the value in the case of perfect information is $the$ $expected$ $value$ $of$ $perfect$ $information$ (EVPI). It represents the loss of profit due to the presence of uncertainty. \n",
    "\n",
    "\n",
    "Another approach is to assume expected yields and always to allocate the optimal planting surface according to these yields, which represents the $expected$ $value$ $solution$. The loss by not considering the random variation is the difference between this and the stochastic model profit, which is called the $value$ $of$ $the$ $stochastic$ $solution$ (VSS).\n",
    "\n",
    "\n"
   ]
  },
  {
   "cell_type": "code",
   "execution_count": 13,
   "metadata": {},
   "outputs": [
    {
     "name": "stdout",
     "output_type": "stream",
     "text": [
      "Expectation: 107240.00084222008\n",
      "EVPI: 7015.554283317964\n",
      "VSS: 1150.0010277524998\n"
     ]
    }
   ],
   "source": [
    "# calculated EVPI\n",
    "EVPI = (profit_perfect+profit_above+profit_below)/3 - profit_2stage \n",
    "\n",
    "# calculate expectation value\n",
    "expected = build_sp_model(yields_perfect)\n",
    "# fix variables with solutions\n",
    "expected.X[\"WHEAT\"].fix(120)\n",
    "expected.X[\"CORN\"].fix(80)\n",
    "expected.X[\"BEETS\"].fix(300)\n",
    "# solve the model\n",
    "solver = SolverFactory(\"ipopt\")\n",
    "solver.solve(expected)\n",
    "# calculate expected value\n",
    "profit_expect = -value(expected.OBJ)\n",
    "print('Expectation:', profit_expect)\n",
    "\n",
    "VSS = (profit_2stage - profit_expect)\n",
    "\n",
    "print('EVPI:', EVPI)\n",
    "print('VSS:', VSS)"
   ]
  },
  {
   "cell_type": "markdown",
   "metadata": {},
   "source": [
    "$EVPI$ measures the value of knowing the future with certainty, while $VSS$ assesses the value of knowing and using distributions on future outcomes. "
   ]
  },
  {
   "cell_type": "markdown",
   "metadata": {
    "nbpages": {
     "level": 2,
     "link": "[2.7.2 Farmers Example](https://ndcbe.github.io/CBE60499/02.07-SP.html#2.7.2-Farmers-Example)",
     "section": "2.7.2 Farmers Example"
    }
   },
   "source": [
    "### Reference \n",
    "\n",
    "Biegler, L.T., 2010. Nonlinear programming: concepts, algorithms, and applications to chemical processes. Society for Industrial and Applied Mathematics.\n",
    "\n",
    "Birge, J.R. and Louveaux, F., 2011. Introduction to stochastic programming. Springer Science & Business Media.\n",
    "\n",
    "Code partly adapted from: \n",
    "\n",
    "https://mpi-sppy.readthedocs.io/en/latest/quick_start.html\n",
    "\n",
    "https://mpi-sppy.readthedocs.io/en/latest/examples.html#examples\n",
    "\n",
    "Figures from:\n",
    "\n",
    "[1]By Paolostar - Own work, CC BY-SA 4.0, https://commons.wikimedia.org/w/index.php?curid=46820806\n",
    "\n",
    "[2]Renteria, J.A., Cao, Y., Dowling, A.W. and Zavala, V.M., 2018. Optimal pid controller tuning using stochastic programming techniques. AIChE Journal, 64(8), pp.2997-3010."
   ]
  },
  {
   "cell_type": "markdown",
   "metadata": {},
   "source": [
    "<!--NAVIGATION-->\n",
    "< [2.6 Dynamic Optimization with Pyomo.DAE](https://ndcbe.github.io/CBE60499/02.06-Pyomo-DAE.html) | [Contents](toc.html) | [Tag Index](tag_index.html) | [2.8 Pyomo Homework 1](https://ndcbe.github.io/CBE60499/02.08-Pyomo1.html) ><p><a href=\"https://colab.research.google.com/github/ndcbe/CBE60499/blob/master/docs/02.07-SP.ipynb\"> <img align=\"left\" src=\"https://colab.research.google.com/assets/colab-badge.svg\" alt=\"Open in Colab\" title=\"Open in Google Colaboratory\"></a><p><a href=\"https://ndcbe.github.io/CBE60499/02.07-SP.ipynb\"> <img align=\"left\" src=\"https://img.shields.io/badge/Github-Download-blue.svg\" alt=\"Download\" title=\"Download Notebook\"></a>"
   ]
  }
 ],
 "metadata": {
  "kernelspec": {
   "display_name": "Python 3 (ipykernel)",
   "language": "python",
   "name": "python3"
  },
  "language_info": {
   "codemirror_mode": {
    "name": "ipython",
    "version": 3
   },
   "file_extension": ".py",
   "mimetype": "text/x-python",
   "name": "python",
   "nbconvert_exporter": "python",
   "pygments_lexer": "ipython3",
   "version": "3.9.12"
  }
 },
 "nbformat": 4,
 "nbformat_minor": 2
}
