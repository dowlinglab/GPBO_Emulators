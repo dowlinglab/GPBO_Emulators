{
 "cells": [
  {
   "cell_type": "code",
   "execution_count": 1,
   "id": "bdc37f39",
   "metadata": {},
   "outputs": [
    {
     "name": "stderr",
     "output_type": "stream",
     "text": [
      "/afs/crc.nd.edu/user/m/mcarlozo/.conda/envs/Toy_Problem_env/lib/python3.9/site-packages/tqdm/auto.py:22: TqdmWarning: IProgress not found. Please update jupyter and ipywidgets. See https://ipywidgets.readthedocs.io/en/stable/user_install.html\n",
      "  from .autonotebook import tqdm as notebook_tqdm\n"
     ]
    }
   ],
   "source": [
    "import gpytorch\n",
    "import numpy as np\n",
    "import pandas as pd\n",
    "import torch\n",
    "from datetime import datetime\n",
    "from matplotlib import pyplot as plt\n",
    "import sys\n",
    "\n",
    "import matplotlib as mpl\n",
    "mpl.rcParams['figure.dpi'] = 300\n",
    "\n",
    "import bo_methods_lib\n",
    "from bo_methods_lib.bo_functions_generic import gen_theta_set\n",
    "\n",
    "from bo_methods_lib.CS2_bo_plotters import plot_obj_abs_min, value_plotter, plot_obj, plot_Theta, plot_Theta_min,path_name, plot_org_train, save_fig, plot_EI_abs_max\n",
    "\n",
    "from bo_methods_lib.CS2_bo_functions_multi_dim import set_ep"
   ]
  },
  {
   "cell_type": "code",
   "execution_count": 2,
   "id": "c06801f1",
   "metadata": {},
   "outputs": [],
   "source": [
    "#https://numpy.org/doc/stable/reference/generated/numpy.loadtxt.html\n",
    "\n",
    "def csv_to_array(csv_path):\n",
    "    \"\"\"\n",
    "    Turn a csv file into a numpy array so that it can be used with bo_plotters\n",
    "    \n",
    "    Parameters:\n",
    "    -----------\n",
    "        csv_path: str, path of csv you want to turn into an array\n",
    "    Returns:\n",
    "    --------\n",
    "        csv_array: np.ndarray, array on values in the CSV file\n",
    "    \"\"\"\n",
    "    \n",
    "    csv_pd = pd.read_csv(csv_path, index_col = False)\n",
    "    csv_pd.drop(columns=csv_pd.columns[0], \n",
    "        axis=1, \n",
    "        inplace=True)\n",
    "    csv_array = csv_pd.to_numpy()\n",
    "    \n",
    "    return csv_array"
   ]
  },
  {
   "cell_type": "code",
   "execution_count": 3,
   "id": "5f4be772",
   "metadata": {},
   "outputs": [
    {
     "name": "stdout",
     "output_type": "stream",
     "text": [
      "149 150 72\n",
      "8 150 7\n",
      "1 150 0\n",
      "4 150 0\n",
      "93 150 150\n"
     ]
    }
   ],
   "source": [
    "df = pd.read_csv(\"CS1_results_by_iter.csv\", header = 0, index_col = 0)\n",
    "# print(df.columns)\n",
    "# print(df.head())\n",
    "\n",
    "# sort the dataframe\n",
    "# df.sort_values(by=['Method'], axis=1, inplace=True)\n",
    "\n",
    "# set the index to be this and don't drop\n",
    "df.set_index(keys=['Method'], drop=False,inplace=True)\n",
    "\n",
    "# get a list of names\n",
    "names=df['Method'].unique().tolist()\n",
    "\n",
    "# now we can perform a lookup on a 'view' of the dataframe\n",
    "\n",
    "df_list = []\n",
    "for name in names:\n",
    "    df_item = df.loc[df.Method==str(name)]\n",
    "    df_item.pop(df.columns[0])\n",
    "    df_list.append(df_item)\n",
    "\n",
    "Early_Term = []\n",
    "Bad_Pred = []\n",
    "for df in df_list:\n",
    "    early_term_count = 0\n",
    "    Last_iter_count = 0\n",
    "    bad_pred_count = 0\n",
    "    for i in range(len(df)):\n",
    "        if df[\"Iteration\"][i] == df[\"Max Eval\"][i]:\n",
    "            Last_iter_count +=1\n",
    "            if df[\"Minimum SSE\"][i] > 1e-2:\n",
    "#                 print(df[\"SSE\"][i])\n",
    "                bad_pred_count += 1\n",
    "            if df[\"Max Eval\"][i] != 100:\n",
    "                early_term_count += 1\n",
    "    \n",
    "    print(bad_pred_count, Last_iter_count, early_term_count)\n",
    "    if Last_iter_count != 0:\n",
    "        bad_percent = bad_pred_count/Last_iter_count\n",
    "        Bad_Pred.append(bad_percent)\n",
    "    else:\n",
    "        Bad_Pred.append(0)\n",
    "\n",
    "    Early_Term.append(early_term_count/Last_iter_count)\n",
    "    \n",
    "        \n",
    "    "
   ]
  },
  {
   "cell_type": "code",
   "execution_count": 4,
   "id": "d0da710a",
   "metadata": {},
   "outputs": [
    {
     "name": "stdout",
     "output_type": "stream",
     "text": [
      "[99.33333333  5.33333333  0.66666667  2.66666667 62.        ]\n",
      "[ 48.           4.66666667   0.           0.         100.        ]\n"
     ]
    }
   ],
   "source": [
    "print(np.array(Bad_Pred)*100)\n",
    "print(np.array(Early_Term)*100)"
   ]
  },
  {
   "cell_type": "code",
   "execution_count": 6,
   "id": "8dee85e1",
   "metadata": {},
   "outputs": [
    {
     "name": "stdout",
     "output_type": "stream",
     "text": [
      "        Separation Factor  Iteration        SSE  Max Eval  Minimum SSE  \\\n",
      "Method                                                                   \n",
      "1A                    1.0         34  11.301864       100    11.301864   \n",
      "1B                    0.1         69   0.005777       100     0.000855   \n",
      "2A                    0.5         26   0.003013       100     0.000771   \n",
      "2B                    0.3         39   0.002895       100     0.002710   \n",
      "2C                    0.5          5   0.198062         8     0.198062   \n",
      "\n",
      "         Theta 1   Theta 2  Total Run Time  \n",
      "Method                                      \n",
      "1A      1.042161 -1.579298            5.47  \n",
      "1B      1.005438 -1.014776           10.00  \n",
      "2A      0.993380 -0.993982           39.20  \n",
      "2B      0.993693 -0.994164          436.00  \n",
      "2C      0.865306 -0.972494            4.92  \n"
     ]
    }
   ],
   "source": [
    "df_median = pd.DataFrame()\n",
    "\n",
    "for df in df_list:\n",
    "    df_median = pd.concat([df_median,df[df['SSE']==df['SSE'].quantile(interpolation='nearest')]])\n",
    "df_median = df_median.drop([\"Run\", \"Time/Iter (Minutes)\", \"Min Theta 1\", \"Min Theta 2\"], axis =1)\n",
    "\n",
    "print(df_median)"
   ]
  },
  {
   "cell_type": "code",
   "execution_count": 7,
   "id": "33b9cf50",
   "metadata": {},
   "outputs": [],
   "source": [
    "df_median.to_csv(\"CS1_results_median.csv\")"
   ]
  },
  {
   "cell_type": "code",
   "execution_count": null,
   "id": "e219e6f4",
   "metadata": {},
   "outputs": [],
   "source": []
  }
 ],
 "metadata": {
  "kernelspec": {
   "display_name": "Python 3 (ipykernel)",
   "language": "python",
   "name": "python3"
  },
  "language_info": {
   "codemirror_mode": {
    "name": "ipython",
    "version": 3
   },
   "file_extension": ".py",
   "mimetype": "text/x-python",
   "name": "python",
   "nbconvert_exporter": "python",
   "pygments_lexer": "ipython3",
   "version": "3.9.12"
  }
 },
 "nbformat": 4,
 "nbformat_minor": 5
}
