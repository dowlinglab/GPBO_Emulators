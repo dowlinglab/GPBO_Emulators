{
 "cells": [
  {
   "cell_type": "code",
   "execution_count": 1,
   "id": "4ba9b6af",
   "metadata": {},
   "outputs": [
    {
     "name": "stderr",
     "output_type": "stream",
     "text": [
      "/afs/crc.nd.edu/user/m/mcarlozo/.conda/envs/Toy_Problem_env/lib/python3.9/site-packages/tqdm/auto.py:22: TqdmWarning: IProgress not found. Please update jupyter and ipywidgets. See https://ipywidgets.readthedocs.io/en/stable/user_install.html\n",
      "  from .autonotebook import tqdm as notebook_tqdm\n"
     ]
    }
   ],
   "source": [
    "import numpy as np\n",
    "import math\n",
    "from scipy.stats import norm\n",
    "from scipy import integrate\n",
    "import torch\n",
    "import csv\n",
    "import gpytorch\n",
    "import scipy.optimize as optimize\n",
    "import itertools\n",
    "from itertools import combinations_with_replacement\n",
    "from itertools import combinations\n",
    "from itertools import permutations\n",
    "from sklearn.preprocessing import MinMaxScaler\n",
    "import pandas as pd\n",
    "import os\n",
    "import time\n",
    "import Tasmanian\n",
    "from matplotlib import pyplot as plt\n",
    "import bo_methods_lib\n",
    "from bo_methods_lib.GP_Validation import path_name_gp_val"
   ]
  },
  {
   "cell_type": "code",
   "execution_count": 2,
   "id": "db84ef93",
   "metadata": {},
   "outputs": [],
   "source": [
    "DateTime = \"../2022/11/29/11-15\"\n",
    "emulator = True\n",
    "set_lengthscale = None\n",
    "t = 300\n",
    "obj = \"obj\"\n",
    "Case_Study = 2.2\n",
    "fxn = \"LOO_Plots_2_Input\"\n",
    "log_sse_model = np.load(path_name_gp_val(emulator, fxn, set_lengthscale, t, obj, Case_Study, DateTime, \n",
    "                 is_figure = False, csv_end = \"/log_sse_model.npy\"))\n",
    "log_sse_sim = np.load(path_name_gp_val(emulator, fxn, set_lengthscale, t, obj, Case_Study, DateTime, \n",
    "                 is_figure = False, csv_end = \"/log_sse_sim.npy\"))\n",
    "iters = np.load(path_name_gp_val(emulator, fxn, set_lengthscale, t, obj, Case_Study, DateTime, \n",
    "                 is_figure = False, csv_end = \"/iter_space.npy\"))"
   ]
  },
  {
   "cell_type": "code",
   "execution_count": 3,
   "id": "238321ce",
   "metadata": {},
   "outputs": [
    {
     "data": {
      "text/plain": [
       "[<matplotlib.lines.Line2D at 0x7f23579c1280>]"
      ]
     },
     "execution_count": 3,
     "metadata": {},
     "output_type": "execute_result"
    },
    {
     "data": {
      "image/png": "[encoded data removed]",
      "text/plain": [
       "<Figure size 432x288 with 1 Axes>"
      ]
     },
     "metadata": {
      "needs_background": "light"
     },
     "output_type": "display_data"
    }
   ],
   "source": [
    "# print(log_sse_model)\n",
    "# print(log_sse_sim)\n",
    "\n",
    "plt.plot(iters, log_sse_model)\n",
    "plt.plot(iters, log_sse_sim)"
   ]
  },
  {
   "cell_type": "code",
   "execution_count": 4,
   "id": "214e9df9",
   "metadata": {},
   "outputs": [
    {
     "name": "stdout",
     "output_type": "stream",
     "text": [
      "(300, 1)\n"
     ]
    }
   ],
   "source": [
    "DateTime = \"../2022/11/29/11-15\"\n",
    "emulator = True\n",
    "set_lengthscale = None\n",
    "t = 300\n",
    "obj = \"obj\"\n",
    "Case_Study = 2.2\n",
    "fxn = \"LOO_Plots_3_Input\"\n",
    "y_model = np.load(path_name_gp_val(emulator, fxn, set_lengthscale, t, obj, Case_Study, DateTime, \n",
    "                 is_figure = False, csv_end = \"/y_model.npy\"))\n",
    "y_sim = np.load(path_name_gp_val(emulator, fxn, set_lengthscale, t, obj, Case_Study, DateTime, \n",
    "                 is_figure = False, csv_end = \"/y_sim.npy\"))\n",
    "iters = np.load(path_name_gp_val(emulator, fxn, set_lengthscale, t, obj, Case_Study, DateTime, \n",
    "                 is_figure = False, csv_end = \"/iter_space.npy\"))\n",
    "\n",
    "print(y_model.shape)"
   ]
  },
  {
   "cell_type": "code",
   "execution_count": 5,
   "id": "b1959c1d",
   "metadata": {},
   "outputs": [
    {
     "name": "stdout",
     "output_type": "stream",
     "text": [
      "[-28.95335378  -2.03840908 -28.95335388  -2.03840908 -28.95335388]\n"
     ]
    },
    {
     "data": {
      "image/png": "[encoded data removed]",
      "text/plain": [
       "<Figure size 460.8x288 with 1 Axes>"
      ]
     },
     "metadata": {
      "needs_background": "light"
     },
     "output_type": "display_data"
    }
   ],
   "source": [
    "y_sim = y_sim.flatten()\n",
    "GP_mean = y_model.flatten()\n",
    "print(GP_mean[0:5])\n",
    "# GP_stdev = GP_stdev.flatten()\n",
    "\n",
    "#Define function (fxn), length of GP mean predictions (p), and number of tests (t), and obj (\"obj\")\n",
    "fxn = \"LOO_parity_plot_emul\"\n",
    "emulator = True\n",
    "p = GP_mean.shape[0]\n",
    "obj = \"obj\"\n",
    "\n",
    "#Create figure\n",
    "plt.figure(figsize = (6.4,4))\n",
    "# Compare the GP Mean to the true model (simulated model ysim)\n",
    "    #For sse calc lower and upper bound separately \n",
    "plt.scatter(y_sim,GP_mean, label = \"$y_{model}$\", zorder=2 )\n",
    "plt.plot(y_sim, y_sim, label = \"$y_{sim}$\" , zorder=1, color = \"black\")\n",
    "\n",
    "#Set plot details        \n",
    "#     plt.legend(loc = \"best\")\n",
    "plt.legend(bbox_to_anchor=(1.04, 1), borderaxespad=0, loc = \"upper left\")\n",
    "plt.tight_layout()\n",
    "#     plt.legend(fontsize=10,bbox_to_anchor=(1.02, 0.3),borderaxespad=0)\n",
    "plt.xlabel(r'$\\mathbf{y_{sim}}$', fontsize=16, fontweight='bold')\n",
    "plt.ylabel(\"y value\", fontsize=16, fontweight='bold')\n",
    "\n",
    "plt.xticks(fontsize=16)\n",
    "plt.yticks(fontsize=16)\n",
    "plt.tick_params(direction=\"in\",top=True, right=True)\n",
    "plt.locator_params(axis='y', nbins=5)\n",
    "plt.locator_params(axis='x', nbins=5)\n",
    "plt.minorticks_on() # turn on minor ticks\n",
    "plt.tick_params(which=\"minor\",direction=\"in\",top=True, right=True)\n"
   ]
  },
  {
   "cell_type": "code",
   "execution_count": 43,
   "id": "c30ed082",
   "metadata": {},
   "outputs": [],
   "source": [
    "DateTime = \"../2022/12/08/14-43\"\n",
    "emulator = True\n",
    "set_lengthscale = None\n",
    "t = 300\n",
    "obj = \"obj\"\n",
    "Case_Study = 2.2\n",
    "fxn = \"LOO_parity_plot_emul\"\n",
    "y_model_0_1 = np.load(path_name_gp_val(emulator, fxn, set_lengthscale, t, obj, Case_Study, DateTime, \n",
    "                 is_figure = False, csv_end = \"/y_model.npy\", plot_axis = 0, plot_num = 1))\n",
    "y_sim_0_1 = np.load(path_name_gp_val(emulator, fxn, set_lengthscale, t, obj, Case_Study, DateTime, \n",
    "                 is_figure = False, csv_end = \"/y_sim.npy\",  plot_axis = 0, plot_num = 1))\n",
    "y_model_0_14 = np.load(path_name_gp_val(emulator, fxn, set_lengthscale, t, obj, Case_Study, DateTime, \n",
    "                 is_figure = False, csv_end = \"/y_model.npy\", plot_axis = 0, plot_num = 14))\n",
    "y_sim_0_14 = np.load(path_name_gp_val(emulator, fxn, set_lengthscale, t, obj, Case_Study, DateTime, \n",
    "                 is_figure = False, csv_end = \"/y_sim.npy\",  plot_axis = 0, plot_num = 14))\n",
    "\n",
    "y_model_1_14 = np.load(path_name_gp_val(emulator, fxn, set_lengthscale, t, obj, Case_Study, DateTime, \n",
    "                 is_figure = False, csv_end = \"/y_model.npy\", plot_axis = 1, plot_num = 14))\n",
    "y_sim_1_14 = np.load(path_name_gp_val(emulator, fxn, set_lengthscale, t, obj, Case_Study, DateTime, \n",
    "                 is_figure = False, csv_end = \"/y_sim.npy\",  plot_axis = 1, plot_num = 14))\n",
    "\n",
    "y_model_1_1 = np.load(path_name_gp_val(emulator, fxn, set_lengthscale, t, obj, Case_Study, DateTime, \n",
    "                 is_figure = False, csv_end = \"/y_model.npy\", plot_axis = 1, plot_num = 1))\n",
    "y_sim_1_1 = np.load(path_name_gp_val(emulator, fxn, set_lengthscale, t, obj, Case_Study, DateTime, \n",
    "                 is_figure = False, csv_end = \"/y_sim.npy\",  plot_axis = 1, plot_num = 1))\n",
    "# iters = np.load(path_name_gp_val(emulator, fxn, set_lengthscale, t, obj, Case_Study, DateTime, \n",
    "#                  is_figure = False, csv_end = \"/iter_space.npy\"))\n",
    "\n",
    "# y_model_1_1 = y_model_1_1.reshape(-1,20)[0]\n",
    "# y_sim_1_1 = y_sim_1_1.reshape(-1,20)[0]"
   ]
  },
  {
   "cell_type": "code",
   "execution_count": 45,
   "id": "65bbd7e7",
   "metadata": {},
   "outputs": [
    {
     "name": "stdout",
     "output_type": "stream",
     "text": [
      "(300,)\n",
      "[-65.03978994 -65.04408578 -65.04408791 -65.0440761  -65.0340634 ]\n"
     ]
    },
    {
     "data": {
      "image/png": "[encoded data removed]",
      "text/plain": [
       "<Figure size 460.8x288 with 1 Axes>"
      ]
     },
     "metadata": {
      "needs_background": "light"
     },
     "output_type": "display_data"
    }
   ],
   "source": [
    "y_sim = y_sim_1_14.flatten()\n",
    "GP_mean = y_model_1_14.flatten()\n",
    "print(GP_mean.shape)\n",
    "print(GP_mean[0:5])\n",
    "# GP_stdev = GP_stdev.flatten()\n",
    "\n",
    "#Define function (fxn), length of GP mean predictions (p), and number of tests (t), and obj (\"obj\")\n",
    "fxn = \"LOO_parity_plot_emul\"\n",
    "emulator = True\n",
    "p = GP_mean.shape[0]\n",
    "obj = \"obj\"\n",
    "\n",
    "#Create figure\n",
    "plt.figure(figsize = (6.4,4))\n",
    "# Compare the GP Mean to the true model (simulated model ysim)\n",
    "    #For sse calc lower and upper bound separately \n",
    "plt.scatter(y_sim,GP_mean, label = \"$y_{model}$\", zorder=2 )\n",
    "plt.plot(y_sim, y_sim, label = \"$y_{sim}$\" , zorder=1, color = \"black\")\n",
    "\n",
    "#Set plot details        \n",
    "#     plt.legend(loc = \"best\")\n",
    "plt.legend(bbox_to_anchor=(1.04, 1), borderaxespad=0, loc = \"upper left\", fontsize=16)\n",
    "plt.tight_layout()\n",
    "#     plt.legend(fontsize=10,bbox_to_anchor=(1.02, 0.3),borderaxespad=0)\n",
    "plt.xlabel(r'$\\mathbf{y_{sim}}$', fontsize=16, fontweight='bold')\n",
    "plt.ylabel(\"y value\", fontsize=16, fontweight='bold')\n",
    "\n",
    "plt.xticks(fontsize=16)\n",
    "plt.yticks(fontsize=16)\n",
    "plt.tick_params(direction=\"in\",top=True, right=True)\n",
    "plt.locator_params(axis='y', nbins=5)\n",
    "plt.locator_params(axis='x', nbins=5)\n",
    "plt.minorticks_on() # turn on minor ticks\n",
    "plt.tick_params(which=\"minor\",direction=\"in\",top=True, right=True)"
   ]
  },
  {
   "cell_type": "code",
   "execution_count": null,
   "id": "995b8aeb",
   "metadata": {},
   "outputs": [],
   "source": []
  }
 ],
 "metadata": {
  "kernelspec": {
   "display_name": "Python 3 (ipykernel)",
   "language": "python",
   "name": "python3"
  },
  "language_info": {
   "codemirror_mode": {
    "name": "ipython",
    "version": 3
   },
   "file_extension": ".py",
   "mimetype": "text/x-python",
   "name": "python",
   "nbconvert_exporter": "python",
   "pygments_lexer": "ipython3",
   "version": "3.9.12"
  }
 },
 "nbformat": 4,
 "nbformat_minor": 5
}
