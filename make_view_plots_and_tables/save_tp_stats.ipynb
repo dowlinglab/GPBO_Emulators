{
 "cells": [
  {
   "cell_type": "code",
   "execution_count": 1,
   "id": "7bf92a0d",
   "metadata": {},
   "outputs": [
    {
     "name": "stderr",
     "output_type": "stream",
     "text": [
      "/afs/crc.nd.edu/user/m/mcarlozo/.conda/envs/Toy_Problem_env/lib/python3.9/site-packages/tqdm/auto.py:22: TqdmWarning: IProgress not found. Please update jupyter and ipywidgets. See https://ipywidgets.readthedocs.io/en/stable/user_install.html\n",
      "  from .autonotebook import tqdm as notebook_tqdm\n"
     ]
    }
   ],
   "source": [
    "import numpy as np\n",
    "import pandas as pd\n",
    "import torch\n",
    "\n",
    "import bo_methods_lib\n",
    "from bo_methods_lib.bo_functions_generic import find_train_doc_path, test_train_split\n",
    "from bo_methods_lib.CS2_bo_plotters import save_csv\n",
    "import random\n",
    "\n",
    "# import matplotlib as mpl\n",
    "# mpl.rcParams['figure.dpi'] = 300"
   ]
  },
  {
   "cell_type": "code",
   "execution_count": 2,
   "id": "9ffe361b",
   "metadata": {},
   "outputs": [
    {
     "name": "stdout",
     "output_type": "stream",
     "text": [
      "          Theta 1     Theta 2        Xexp   Obj Value\n",
      "count  100.000000  100.000000  100.000000  100.000000\n",
      "mean    -0.002491   -0.024375    0.000000   -0.048750\n",
      "std      1.162189    1.156825    1.421338    6.166969\n",
      "min     -1.976573   -1.955507   -2.000000  -19.180768\n",
      "25%     -1.005618   -0.994930   -1.000000   -2.116313\n",
      "50%      0.055788   -0.057137    0.000000    0.000000\n",
      "75%      0.987064    0.944770    1.000000    1.583727\n",
      "max      1.815352    1.987549    2.000000   18.672163\n",
      "         Theta 1    Theta 2   Obj Value\n",
      "count  20.000000  20.000000   20.000000\n",
      "mean   -0.002491  -0.024375  100.932282\n",
      "std     1.186404   1.180928   91.766412\n",
      "min    -1.976573  -1.955507    2.822507\n",
      "25%    -1.005618  -0.994930   19.294443\n",
      "50%     0.055788  -0.057137   84.574353\n",
      "75%     0.987064   0.944770  151.704033\n",
      "max     1.815352   1.987549  305.491371\n",
      "         Theta 1    Theta 2  Obj Value\n",
      "count  20.000000  20.000000  20.000000\n",
      "mean   -0.002491  -0.024375   3.962640\n",
      "std     1.186404   1.180928   1.402007\n",
      "min    -1.976573  -1.955507   1.037626\n",
      "25%    -1.005618  -0.994930   2.914974\n",
      "50%     0.055788  -0.057137   4.436465\n",
      "75%     0.987064   0.944770   5.017316\n",
      "max     1.815352   1.987549   5.721922\n"
     ]
    }
   ],
   "source": [
    "p_train = 20\n",
    "n = 5\n",
    "d = 2\n",
    "obj = np.array([\"obj\",\"LN_obj\"])\n",
    "emulator = np.array([True, False])\n",
    "\n",
    "for emul in emulator: \n",
    "    if emul == True: #Change this based on number of TP for each test\n",
    "        obj_use =  np.array([\"obj\"])\n",
    "        t = p_train*n\n",
    "    else:\n",
    "        t = p_train\n",
    "        obj_use =  obj \n",
    "        \n",
    "    for obj_func in obj_use: \n",
    "        all_data_doc = \"../\" + find_train_doc_path(emul, obj_func, d, t)\n",
    "        all_data = np.array(pd.read_csv(all_data_doc, header=0,sep=\",\")) \n",
    "        train_data, test_data = test_train_split(all_data, sep_fact = 1.0, shuffle_seed=9)\n",
    "        train_pd = pd.DataFrame(data = train_data)\n",
    "        train_pd.pop(train_pd.columns[0])\n",
    "        train_pd = train_pd.rename(columns={1: \"Theta 1\", 2: \"Theta 2\", 3: \"Xexp\", 4: \"Obj Value\"})\n",
    "        if train_pd[\"Xexp\"].std() == 0:\n",
    "            train_pd = train_pd.drop([\"Xexp\"], axis=1)\n",
    "        desc = train_pd.describe()\n",
    "        print(desc)\n",
    "        path = \"TP_stats/\"+ str(emul) + \"_\" +str(obj_func)\n",
    "        save_csv(desc, path, ext = 'csv', verbose=False)"
   ]
  },
  {
   "cell_type": "code",
   "execution_count": null,
   "id": "28bca5ca",
   "metadata": {},
   "outputs": [],
   "source": []
  }
 ],
 "metadata": {
  "kernelspec": {
   "display_name": "Python 3 (ipykernel)",
   "language": "python",
   "name": "python3"
  },
  "language_info": {
   "codemirror_mode": {
    "name": "ipython",
    "version": 3
   },
   "file_extension": ".py",
   "mimetype": "text/x-python",
   "name": "python",
   "nbconvert_exporter": "python",
   "pygments_lexer": "ipython3",
   "version": "3.9.12"
  }
 },
 "nbformat": 4,
 "nbformat_minor": 5
}
