{
 "cells": [
  {
   "cell_type": "code",
   "execution_count": 1,
   "id": "bc88a957",
   "metadata": {},
   "outputs": [
    {
     "name": "stderr",
     "output_type": "stream",
     "text": [
      "/afs/crc.nd.edu/user/m/mcarlozo/.conda/envs/Toy_Problem_env/lib/python3.9/site-packages/tqdm/auto.py:22: TqdmWarning: IProgress not found. Please update jupyter and ipywidgets. See https://ipywidgets.readthedocs.io/en/stable/user_install.html\n",
      "  from .autonotebook import tqdm as notebook_tqdm\n"
     ]
    }
   ],
   "source": [
    "import bo_methods_lib\n",
    "# from bo_methods_lib.CS2_bo_functions_multi_dim import LHS_Design, test_train_split\n",
    "from bo_methods_lib.CS1_create_data import create_y_data, calc_y_exp, create_sse_data\n",
    "from bo_methods_lib.bo_functions_generic import clean_1D_arrays, LHS_Design, test_train_split\n",
    "from scipy.stats import qmc\n",
    "import numpy as np\n",
    "import pandas as pd\n",
    "import os"
   ]
  },
  {
   "cell_type": "code",
   "execution_count": 2,
   "id": "2b3fd987",
   "metadata": {},
   "outputs": [
    {
     "name": "stdout",
     "output_type": "stream",
     "text": [
      "(300, 2)\n"
     ]
    }
   ],
   "source": [
    "#LHS Design in python - May switch code to use this instead for conciseness\n",
    "# emulator = True\n",
    "emulator = False\n",
    "seed = 9\n",
    "LHS_Points =300\n",
    "d = 2\n",
    "same_LHS_pts = 5\n",
    "\n",
    "sampler = qmc.LatinHypercube(d=2, seed = seed)\n",
    "sample = sampler.random(n=LHS_Points - same_LHS_pts)\n",
    "l_bounds =  [-2, -2]\n",
    "u_bounds =  [2, 2]\n",
    "LHS = qmc.scale(sample, l_bounds, u_bounds)\n",
    "# print(LHS)\n",
    "\n",
    "sampler_xtra = qmc.LatinHypercube(d=d, seed = seed + 1)\n",
    "sample_xtra = sampler_xtra.random(n=same_LHS_pts)\n",
    "LHS_xtra = qmc.scale(sample_xtra, l_bounds, u_bounds)\n",
    "LHS_xtra = np.round(LHS_xtra, 6)\n",
    "\n",
    "LHS = np.vstack((LHS, LHS_xtra))\n",
    "print(LHS.shape)\n",
    "\n",
    "Bound_Cut = False\n",
    "denseX = False\n",
    "\n",
    "if Bound_Cut == True:\n",
    "    cut_bounds = '_cut_bounds'\n",
    "else:\n",
    "    cut_bounds = \"\"\n",
    "    \n",
    "if denseX == True:\n",
    "    dense = \"_dense\"\n",
    "else:\n",
    "    dense = \"\""
   ]
  },
  {
   "cell_type": "code",
   "execution_count": 3,
   "id": "fb95b690",
   "metadata": {},
   "outputs": [],
   "source": [
    "#Creates Experimental data and saves to a csv\n",
    "Theta_True = np.array([1,-1])\n",
    "Xexp = np.array([-2,-1,0,1,2]).reshape(-1,1)\n",
    "n = len(Xexp)\n",
    "exp_d = 1\n",
    "noise_std = 0.1**2\n",
    "d = 2\n",
    "Yexp = calc_y_exp(Theta_True, Xexp, noise_std)\n",
    "\n",
    "Exp_data = np.column_stack((Xexp,Yexp))\n",
    "\n",
    "df = pd.DataFrame(Exp_data, columns = [\"Xexp\",\"Yexp\"])\n",
    "\n",
    "path = '../Input_CSVs/Exp_Data/d='+str(exp_d)\n",
    "if not os.path.exists(path):\n",
    "    os.makedirs(path)\n",
    "df.to_csv(os.path.join(path,'n='+str(n)+'.csv'))"
   ]
  },
  {
   "cell_type": "code",
   "execution_count": 4,
   "id": "ef776e6c",
   "metadata": {},
   "outputs": [
    {
     "name": "stdout",
     "output_type": "stream",
     "text": [
      "[[-2]\n",
      " [-1]\n",
      " [ 0]\n",
      " [ 1]\n",
      " [ 2]] (5, 1)\n"
     ]
    }
   ],
   "source": [
    "#Array for Standard Approach\n",
    "all_p_standard = pd.DataFrame(LHS, columns = [\"theta1\", \"theta2\"])\n",
    "\n",
    "print(Xexp,Xexp.shape)\n",
    "#Array for Emulator approach\n",
    "df = all_p_standard.iloc[np.repeat(np.arange(len(all_p_standard)), n)]\n",
    "df = df.reset_index(drop = True)\n",
    "# Xexp_repeat = np.repeat(Xexp, LHS_Points, axis = 1).reshape(Xexp.shape[1],-1)\n",
    "# print(Xexp_repeat.reshape(300,2))\n",
    "Xexp_repeat = np.tile(Xexp, (len(all_p_standard),1))\n",
    "#Add Xexp \n",
    "for i in range(Xexp.shape[1]):\n",
    "    df['X'+str(i+1)+'exp'] = Xexp_repeat[:,i]    \n",
    "all_p_emulator = df\n",
    "\n",
    "# print(all_p_emulator.shape)\n",
    "# print(all_p_standard)\n",
    "# print(all_p_emulator)"
   ]
  },
  {
   "cell_type": "code",
   "execution_count": 5,
   "id": "3de894a0",
   "metadata": {},
   "outputs": [
    {
     "name": "stdout",
     "output_type": "stream",
     "text": [
      "(300, 2)\n",
      "(300, 3)\n"
     ]
    }
   ],
   "source": [
    "#Create y or SSE data\n",
    "#Save data\n",
    "if emulator == False:\n",
    "    all_2_data = all_p_standard.copy()\n",
    "    print(all_2_data.shape)\n",
    "    all_2_in_y = create_sse_data(d,np.array(all_2_data),Xexp,Yexp)\n",
    "    all_2_data['Yexp'] = all_2_in_y\n",
    "#     \n",
    "    all_2_data_ln_obj = all_p_standard.copy()\n",
    "    print(all_2_data.shape)\n",
    "    all_2_in_y_ln_obj = create_sse_data(d,np.array(all_2_data_ln_obj),Xexp,Yexp, obj = \"LN_obj\")\n",
    "    all_2_data_ln_obj['Yexp'] = all_2_in_y_ln_obj\n",
    "    \n",
    "    titles_all = np.array(['all_st_data','all_st_ln_obj_data'])\n",
    "    len_data = str(len(all_2_data))\n",
    "    all_array = [all_2_data,all_2_data_ln_obj]\n",
    "\n",
    "else:\n",
    "    all_3_data = all_p_emulator.copy()\n",
    "    all_3_in_y = create_y_data(all_3_data)\n",
    "    all_3_data['Yexp'] = all_3_in_y\n",
    "    \n",
    "    titles_all = np.array(['all_emul_data'])\n",
    "    len_data = str(len(all_3_data))\n",
    "    all_array = [all_3_data]\n",
    "    \n",
    "# print(all_array)\n",
    "\n",
    "# Save Train Data/Test Data\n",
    "for i in range(len(titles_all)):\n",
    "    path = 'Input_CSVs/Train_Data/d=' + str(d) +\"/\"+ titles_all[i]+\"/\"\n",
    "    if not os.path.exists(path):\n",
    "        os.makedirs(path)\n",
    "    all_array[i].to_csv(os.path.join(path,'t='+len_data + cut_bounds+dense)+ '.csv')"
   ]
  }
 ],
 "metadata": {
  "kernelspec": {
   "display_name": "Python 3 (ipykernel)",
   "language": "python",
   "name": "python3"
  },
  "language_info": {
   "codemirror_mode": {
    "name": "ipython",
    "version": 3
   },
   "file_extension": ".py",
   "mimetype": "text/x-python",
   "name": "python",
   "nbconvert_exporter": "python",
   "pygments_lexer": "ipython3",
   "version": "3.9.12"
  }
 },
 "nbformat": 4,
 "nbformat_minor": 5
}
