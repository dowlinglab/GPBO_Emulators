{
 "cells": [
  {
   "cell_type": "code",
   "execution_count": 1,
   "id": "faa1bbe1",
   "metadata": {},
   "outputs": [],
   "source": [
    "import math\n",
    "import torch\n",
    "import gpytorch\n",
    "import numpy as np\n",
    "from scipy.stats import norm\n",
    "import csv\n",
    "from matplotlib import pyplot as plt\n",
    "\n",
    "from bo_functions import calc_ei_basic\n",
    "from bo_functions import best_error_advanced\n",
    "from bo_functions import calc_ei_advanced\n",
    "\n",
    "from bo_plotters import y_plotter_adv\n",
    "# from bo_plotters import stdev_plotter_adv\n",
    "# from bo_plotters import ei_plotter_adv"
   ]
  },
  {
   "cell_type": "code",
   "execution_count": 2,
   "id": "d4467e3d",
   "metadata": {},
   "outputs": [],
   "source": [
    "reader = csv.reader(open(\"LHS_Toy_3_Input.csv\"), delimiter=\",\") #Reads CSV\n",
    "lhs_design = list(reader) #Creates list from CSV\n",
    "all_p = np.array(lhs_design).astype(\"float\") #Turns design into a useable python array (1 x 25)"
   ]
  },
  {
   "cell_type": "code",
   "execution_count": 3,
   "id": "36cb54d6",
   "metadata": {},
   "outputs": [],
   "source": [
    "# Training data is 25 points in [-2,2], inclusive regularly spaced\n",
    "\n",
    "#Set noise parameters and true value of Theta to generate training data\n",
    "noise_mean = 0\n",
    "noise_std = 0.1**2\n",
    "\n",
    "#Creates noise values with a certain stdev and mean from a normal distribution\n",
    "noise = np.random.normal(size=1,loc = noise_mean, scale = noise_std) #Number\n",
    "\n",
    "# True function is y=T1*x + T2*x^2 + x^3 with Gaussian noise, not used in this model\n",
    "# Theta_True = np.array([1,-1]) #1x2\n",
    "# def y_true_func(p_x):\n",
    "#     y_true = Theta_True[0]*p_x + Theta_True[1]*p_x**2 +p_x**3 + noise #1x25\n",
    "#     return y_true\n",
    "\n",
    "#Creates an array for train_y that will be filled with the for loop\n",
    "all_y = np.zeros(len(all_p)) #1 x 100\n",
    "\n",
    "#Iterates over evey combination of theta to find the SSE for each combination\n",
    "for i in range(len(all_p)):\n",
    "    theta_1 = all_p[i,0] #25x1 \n",
    "    theta_2 = all_p[i,1] #25x1\n",
    "    x = all_p[i,2] #25x1\n",
    "    y_exp = theta_1*x + theta_2*x**2 +x**3 + noise #A Number\n",
    "    all_y[i] = y_exp #A number\n",
    "\n",
    "#Separate training and testing data\n",
    "separation_factor = 0.8 #80% will be training data\n",
    "train_split = int(np.round(len(all_y))*separation_factor)-1 #Creates the index on which to split data\n",
    "\n",
    "train_y =torch.tensor(all_y[:train_split]) #1x19\n",
    "test_y = torch.tensor(all_y[train_split:]) #1x6\n",
    "train_p = torch.tensor(all_p[:train_split,:]) #1x19\n",
    "test_p = torch.tensor(all_p[train_split:,:]) #1x6"
   ]
  },
  {
   "cell_type": "code",
   "execution_count": 4,
   "id": "d5ff1a53",
   "metadata": {},
   "outputs": [],
   "source": [
    "# We will use the simplest form of GP model, exact inference\n",
    "#This class is the Exact GP model and we are defining the class as ExactGPModel\n",
    "class ExactGPModel(gpytorch.models.ExactGP): #Exact GP does not add noise\n",
    "    \"\"\"\n",
    "    The base class for any Gaussian process latent function to be used in conjunction\n",
    "    with exact inference.\n",
    "\n",
    "    Parameters\n",
    "    ----------\n",
    "    torch.Tensor train_inputs: (size n x d) The training features :math:`\\mathbf X`.\n",
    "    \n",
    "    torch.Tensor train_targets: (size n) The training targets :math:`\\mathbf y`.\n",
    "    \n",
    "    ~gpytorch.likelihoods.GaussianLikelihood likelihood: The Gaussian likelihood that defines\n",
    "        the observational distribution. Since we're using exact inference, the likelihood must be Gaussian.\n",
    "    \n",
    "    Methods\n",
    "    -------\n",
    "    The :meth:`__init__` function takes training data and a likelihood and computes the objects of mean and covariance \n",
    "    for the forward method\n",
    "\n",
    "    The :meth:`forward` function should describe how to compute the prior latent distribution\n",
    "    on a given input. Typically, this will involve a mean and kernel function.\n",
    "    The result must be a :obj:`~gpytorch.distributions.MultivariateNormal`.\n",
    "    \n",
    "    Returns\n",
    "    -------\n",
    "    Calling this model will return the posterior of the latent Gaussian process when conditioned\n",
    "    on the training data. The output will be a :obj:`~gpytorch.distributions.MultivariateNormal`.\n",
    "    \"\"\"\n",
    "\n",
    "    def __init__(self, train_p, train_y, likelihood):\n",
    "        \"\"\"\n",
    "        Initializes the model\n",
    "        \n",
    "        Parameters\n",
    "        ----------\n",
    "        self : A class,The model itself. In this case, gpytorch.models.ExactGP\n",
    "        train_T : tensor, The inputs of the training data\n",
    "        train_y : tensor, the output of the training data\n",
    "        likelihood : bound method, the lieklihood of the model. In this case, it must be Gaussian\n",
    "        \n",
    "        \"\"\"\n",
    "        #Initializes the GP model with train_Y, train_y, and the likelihood\n",
    "        ##Calls the __init__ method of parent class\n",
    "        super(ExactGPModel, self).__init__(train_p, train_y, likelihood)\n",
    "        #Defines a constant prior mean on the GP. Used in the forward method\n",
    "        self.mean_module = gpytorch.means.ConstantMean()\n",
    "        #Defines prior covariance matrix of GP to a scaled RFB Kernel. Used in the forward method\n",
    "        self.covar_module = gpytorch.kernels.ScaleKernel(gpytorch.kernels.RBFKernel()) \n",
    "\n",
    "    def forward(self, x):\n",
    "        \"\"\"\n",
    "        A forward method that takes in some (n×d) data, x, and returns a MultivariateNormal with the prior mean and \n",
    "        covariance evaluated at x. In other words, we return the vector μ(x) and the n×n matrix Kxx representing the \n",
    "        prior mean and covariance matrix of the GP.\n",
    "        \n",
    "        Parameters\n",
    "        ----------\n",
    "        self : A class,The model itself. In this case, gpytorch.models.ExactGP\n",
    "        x : tensor, first input when class is called\n",
    "        \n",
    "        Returns:\n",
    "        Vector μ(x)\n",
    "        \n",
    "        \"\"\"\n",
    "        #Defines the mean of the GP based off of x\n",
    "        mean_x = self.mean_module(x) #1x19\n",
    "        #Defines the covariance matrix based off of x\n",
    "        covar_x = self.covar_module(x) #19 x 19 covariance matrix\n",
    "        #Constructs a multivariate normal random variable, based on mean and covariance. \n",
    "            #Can be multivariate, or a batch of multivariate normals\n",
    "            #Returns multivariate normal distibution gives the mean and covariance of the GP        \n",
    "        return gpytorch.distributions.MultivariateNormal(mean_x, covar_x) #Multivariate dist based on 1x19^2 tensor\n",
    "\n",
    "# initialize likelihood and model\n",
    "##Assumes a homoskedastic noise model p(y | f) = f + noise\n",
    "likelihood = gpytorch.likelihoods.GaussianLikelihood()\n",
    "\n",
    "#Defines our model in terms of the class parameters above\n",
    "model = ExactGPModel(train_p, train_y, likelihood)"
   ]
  },
  {
   "cell_type": "code",
   "execution_count": 5,
   "id": "9b4bbb50",
   "metadata": {},
   "outputs": [],
   "source": [
    "# Find optimal model hyperparameters\n",
    "training_iter = 300\n",
    "\n",
    "#Puts the model in training mode\n",
    "model.train()\n",
    "\n",
    "#Puts the likelihood in training mode\n",
    "likelihood.train()\n",
    "\n",
    "# Use the adam optimizer\n",
    "    #algorithm for first-order gradient-based optimization of stochastic objective functions\n",
    "    # The method is also appropriate for non-stationary objectives and problems with very noisy and/or sparse gradients. \n",
    "    #The hyper-parameters have intuitive interpretations and typically require little tuning.\n",
    "optimizer = torch.optim.Adam(model.parameters(), lr=0.1)  #Needs GaussianLikelihood parameters, and a learning rate\n",
    "    #lr default is 0.001\n",
    "\n",
    "# Calculate\"Loss\" for GPs\n",
    "\n",
    "#The marginal log likelihood (the evidence: quantifies joint probability of the data under the prior)\n",
    "#returns an exact MLL for an exact Gaussian process with Gaussian likelihood\n",
    "mll = gpytorch.mlls.ExactMarginalLogLikelihood(likelihood, model) #Takes a Gaussian likelihood and a model, a bound Method\n",
    "#iterates a give number of times\n",
    "for i in range(training_iter): #0-299\n",
    "    # Zero gradients from previous iteration - Prevents past gradients from influencing the next iteration\n",
    "    optimizer.zero_grad() \n",
    "    # Output from model\n",
    "    output = model(train_p) # A multivariate norm of a 1 x 19^2 tensor\n",
    "    # Calc loss and backprop gradients\n",
    "    #Minimizing -logMLL lets us fit hyperparameters\n",
    "    loss = -mll(output, train_y) #A number (tensor)\n",
    "    #computes dloss/dx for every parameter x which has requires_grad=True. \n",
    "    #These are accumulated into x.grad for every parameter x\n",
    "    loss.backward()\n",
    "#     print('Iter %d/%d - Loss: %.3f   lengthscale: %.3f   noise: %.3f' % (\n",
    "#         i + 1, training_iter, loss.item(),\n",
    "#         model.covar_module.base_kernel.lengthscale.item(),\n",
    "#          model.likelihood.noise.item()\n",
    "#     ))\n",
    "    #optimizer.step updates the value of x using the gradient x.grad. For example, the SGD optimizer performs:\n",
    "    #x += -lr * x.grad\n",
    "    optimizer.step()"
   ]
  },
  {
   "cell_type": "code",
   "execution_count": 6,
   "id": "3f5c9ddc",
   "metadata": {},
   "outputs": [
    {
     "data": {
      "text/plain": [
       "GaussianLikelihood(\n",
       "  (noise_covar): HomoskedasticNoise(\n",
       "    (raw_noise_constraint): GreaterThan(1.000E-04)\n",
       "  )\n",
       ")"
      ]
     },
     "execution_count": 6,
     "metadata": {},
     "output_type": "execute_result"
    }
   ],
   "source": [
    "# Get into evaluation (predictive posterior) mode\n",
    "#Puts model in evaluation mode\n",
    "model.eval()\n",
    "#Puts likelihood in evaluation mode\n",
    "likelihood.eval()"
   ]
  },
  {
   "cell_type": "code",
   "execution_count": 7,
   "id": "41599894",
   "metadata": {},
   "outputs": [],
   "source": [
    "#Code for EI\n",
    "\n",
    "with gpytorch.settings.fast_pred_var(), torch.no_grad():\n",
    "#torch.no_grad() \n",
    "    #Disabling gradient calculation is useful for inference, \n",
    "    #when you are sure that you will not call Tensor.backward(). It will reduce memory consumption\n",
    "    #Note: Can't use np operations on tensors where requires_grad = True\n",
    "#gpytorch.settings.fast_pred_var() \n",
    "    #Use this for improved performance when computing predictive variances. \n",
    "    #Good up to 10,000 data points\n",
    "#Predicts data points for model (sse) by sending the model through the likelihood\n",
    "    observed_pred = likelihood(model(test_p)) #1 x 6\n",
    "    \n",
    "#Calculates model mean  \n",
    "model_mean = observed_pred.mean #1x6\n",
    "#Calculates the variance of each data point\n",
    "model_variance = observed_pred.variance #1x6\n",
    "#Calculates the standard deviation of each data point\n",
    "model_stdev = np.sqrt(observed_pred.variance)\n",
    "y_model = observed_pred.loc.numpy() #1 x 6\n",
    "\n",
    "#Separates parameters for use\n",
    "test_p_1 = test_p[:,0].numpy() #Theta1 #1 x 6\n",
    "test_p_2 = test_p[:,1].numpy() #Theta 2 #1 x 6\n",
    "test_p_3 = test_p[:,2].numpy() #x #1 x 6\n",
    "\n",
    "#Calculates expected y for each parameter space parameter\n",
    "y_exp = test_p_1*test_p_3 + test_p_2*test_p_3**2 +test_p_3**3 + noise #1 x6"
   ]
  },
  {
   "cell_type": "code",
   "execution_count": 8,
   "id": "28f122f8",
   "metadata": {},
   "outputs": [
    {
     "name": "stdout",
     "output_type": "stream",
     "text": [
      "[ 0.54564655  0.42115599  0.55739614  0.74862323 -1.04120123 -2.16652083]\n"
     ]
    }
   ],
   "source": [
    "#Calculates best_error and expected improvement\n",
    "best_error = best_error_advanced(test_p, y_model, y_exp)[0] #A number\n",
    "best_x = best_error_advanced(test_p, y_model, y_exp)[1] #1x3\n",
    "ei = calc_ei_advanced(best_error,model_mean,model_variance, y_exp) #1x6\n",
    "print(ei)"
   ]
  },
  {
   "cell_type": "code",
   "execution_count": 9,
   "id": "6bd219f9",
   "metadata": {},
   "outputs": [
    {
     "name": "stdout",
     "output_type": "stream",
     "text": [
      "[-0.45583089]\n"
     ]
    }
   ],
   "source": [
    "#Test calc_ei_adv (to compare with hand calcs)\n",
    "f_best = 1\n",
    "mu = torch.tensor([3])\n",
    "y_exp = np.array([4])\n",
    "pred_var = torch.tensor([1])\n",
    "print(calc_ei_advanced(f_best,mu,pred_var,y_exp))"
   ]
  },
  {
   "cell_type": "code",
   "execution_count": 10,
   "id": "07f4a293",
   "metadata": {},
   "outputs": [
    {
     "data": {
      "image/png": "[encoded data removed]",
      "text/plain": [
       "<Figure size 432x288 with 1 Axes>"
      ]
     },
     "metadata": {
      "needs_background": "light"
     },
     "output_type": "display_data"
    },
    {
     "data": {
      "image/png": "[encoded data removed]",
      "text/plain": [
       "<Figure size 432x288 with 1 Axes>"
      ]
     },
     "metadata": {
      "needs_background": "light"
     },
     "output_type": "display_data"
    },
    {
     "name": "stdout",
     "output_type": "stream",
     "text": [
      "\n"
     ]
    }
   ],
   "source": [
    "y_plotter_adv(test_p, y_model)"
   ]
  },
  {
   "cell_type": "code",
   "execution_count": null,
   "id": "39b02939",
   "metadata": {},
   "outputs": [],
   "source": []
  },
  {
   "cell_type": "code",
   "execution_count": 11,
   "id": "18100b97",
   "metadata": {},
   "outputs": [],
   "source": [
    "#stdev_plotter(test_mesh, stdev_model_map)"
   ]
  },
  {
   "cell_type": "code",
   "execution_count": 12,
   "id": "4aecc2c0",
   "metadata": {},
   "outputs": [],
   "source": [
    "#ei_plotter(test_mesh, ei_map, Theta_True, Theta_Opt_GP)"
   ]
  }
 ],
 "metadata": {
  "kernelspec": {
   "display_name": "Python 3 (ipykernel)",
   "language": "python",
   "name": "python3"
  },
  "language_info": {
   "codemirror_mode": {
    "name": "ipython",
    "version": 3
   },
   "file_extension": ".py",
   "mimetype": "text/x-python",
   "name": "python",
   "nbconvert_exporter": "python",
   "pygments_lexer": "ipython3",
   "version": "3.9.7"
  }
 },
 "nbformat": 4,
 "nbformat_minor": 5
}
