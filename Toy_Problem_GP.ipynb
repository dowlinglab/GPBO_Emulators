{
 "cells": [
  {
   "cell_type": "code",
   "execution_count": 1,
   "id": "faa1bbe1",
   "metadata": {},
   "outputs": [
    {
     "ename": "SyntaxError",
     "evalue": "invalid syntax (bo_plotters.py, line 104)",
     "output_type": "error",
     "traceback": [
      "Traceback \u001b[1;36m(most recent call last)\u001b[0m:\n",
      "  File \u001b[0;32m\"C:\\Users\\mcarl\\anaconda3\\lib\\site-packages\\IPython\\core\\interactiveshell.py\"\u001b[0m, line \u001b[0;32m3444\u001b[0m, in \u001b[0;35mrun_code\u001b[0m\n    exec(code_obj, self.user_global_ns, self.user_ns)\n",
      "\u001b[1;36m  File \u001b[1;32m\"C:\\Users\\mcarl\\AppData\\Local\\Temp/ipykernel_24448/422343133.py\"\u001b[1;36m, line \u001b[1;32m13\u001b[1;36m, in \u001b[1;35m<module>\u001b[1;36m\u001b[0m\n\u001b[1;33m    from bo_plotters import plotter_adv\u001b[0m\n",
      "\u001b[1;36m  File \u001b[1;32m\"C:\\Users\\mcarl\\Documents\\GitHub\\Toy_Problem\\bo_plotters.py\"\u001b[1;36m, line \u001b[1;32m104\u001b[0m\n\u001b[1;33m    def improvement_test(parameter_space, z)\u001b[0m\n\u001b[1;37m                                            ^\u001b[0m\n\u001b[1;31mSyntaxError\u001b[0m\u001b[1;31m:\u001b[0m invalid syntax\n"
     ]
    }
   ],
   "source": [
    "import gpytorch\n",
    "\n",
    "from bo_functions import best_error_advanced\n",
    "from bo_functions import calc_ei_advanced\n",
    "from bo_functions import LHS_Design\n",
    "from bo_functions import create_y_data\n",
    "from bo_functions import test_train_split\n",
    "from bo_functions import ExactGPModel\n",
    "from bo_functions import train_GP_model\n",
    "from bo_functions import calc_GP_outputs\n",
    "from bo_functions import calc_y_expected\n",
    "\n",
    "from bo_plotters import plotter_adv\n",
    "from bo_plotters import y_plotter_adv\n",
    "from bo_plotters import stdev_plotter_adv\n",
    "from bo_plotters import ei_plotter_adv\n",
    "from bo_plotters import improvement_test"
   ]
  },
  {
   "cell_type": "code",
   "execution_count": null,
   "id": "36cb54d6",
   "metadata": {},
   "outputs": [],
   "source": [
    "#Set noise parameters and load csv file to generate training data\n",
    "noise_std = 0.1**2\n",
    "all_p = LHS_Design(\"LHS_Toy_3_Input.csv\")\n",
    "all_y = create_y_data(all_p, noise_std)\n",
    "\n",
    "#Separate training and testing data, uses default of an 80%/20% split\n",
    "train_test_data = test_train_split(all_p,all_y)\n",
    "\n",
    "train_p = train_test_data[0] #1x19\n",
    "train_y = train_test_data[1] #1x19\n",
    "test_p = train_test_data[2] #1x19\n",
    "test_y = train_test_data[3] #1x19"
   ]
  },
  {
   "cell_type": "code",
   "execution_count": null,
   "id": "d5ff1a53",
   "metadata": {},
   "outputs": [],
   "source": [
    "# initialize likelihood and model\n",
    "##Assumes a homoskedastic noise model p(y | f) = f + noise\n",
    "likelihood = gpytorch.likelihoods.GaussianLikelihood()\n",
    "\n",
    "# We will use the simplest form of GP model, exact inference\n",
    "#Defines our model in terms of the class parameters in bo_functions\n",
    "model = ExactGPModel(train_p, train_y, likelihood)"
   ]
  },
  {
   "cell_type": "code",
   "execution_count": null,
   "id": "9b4bbb50",
   "metadata": {},
   "outputs": [],
   "source": [
    "#Set number of training iterations and train GP\n",
    "iterations = 500\n",
    "train_GP_model(model,likelihood, train_p, train_y, iterations)"
   ]
  },
  {
   "cell_type": "code",
   "execution_count": null,
   "id": "3f5c9ddc",
   "metadata": {},
   "outputs": [],
   "source": [
    "# Get into evaluation (predictive posterior) mode\n",
    "#Puts model in evaluation mode\n",
    "model.eval()\n",
    "#Puts likelihood in evaluation mode\n",
    "likelihood.eval();"
   ]
  },
  {
   "cell_type": "code",
   "execution_count": null,
   "id": "41599894",
   "metadata": {},
   "outputs": [],
   "source": [
    "#Calculates GP outputs for mean, variance, standard devaition, and y output\n",
    "GP_Outputs = calc_GP_outputs(model,likelihood,test_p)\n",
    "\n",
    "model_mean = GP_Outputs[0] #1x6\n",
    "model_variance= GP_Outputs[1] #1x6\n",
    "model_stdev = GP_Outputs[2] #1x6\n",
    "model_y = GP_Outputs[3] #1x6\n",
    "\n",
    "#Calculates expected y\n",
    "y_exp = calc_y_expected(test_p, noise_std) #1x6"
   ]
  },
  {
   "cell_type": "code",
   "execution_count": null,
   "id": "28f122f8",
   "metadata": {},
   "outputs": [],
   "source": [
    "#Calculates best_error and expected improvement\n",
    "best_error = best_error_advanced(model_y, y_exp)[0] #Scaler\n",
    "best_x = best_error_advanced(model_y, y_exp)[1] #1x3\n",
    "ei = calc_ei_advanced(best_error,model_mean,model_variance, y_exp) #1x6\n",
    "print(ei)"
   ]
  },
  {
   "cell_type": "code",
   "execution_count": null,
   "id": "6bd219f9",
   "metadata": {},
   "outputs": [],
   "source": [
    "#Test calc_ei_adv (to compare with hand calcs)\n",
    "import numpy as np\n",
    "import torch\n",
    "f_best = 1.0\n",
    "mu = torch.tensor([3])\n",
    "y_exp = np.array([4])\n",
    "pred_var = torch.tensor([1])\n",
    "print(calc_ei_advanced(f_best,mu,pred_var,y_exp))"
   ]
  },
  {
   "cell_type": "code",
   "execution_count": null,
   "id": "2112352b",
   "metadata": {},
   "outputs": [],
   "source": [
    "y_title = \"Model y Value\"\n",
    "print(y_plotter_adv(test_p, model_y, y_title))"
   ]
  },
  {
   "cell_type": "code",
   "execution_count": null,
   "id": "07f4a293",
   "metadata": {},
   "outputs": [],
   "source": [
    "print(stdev_plotter_adv(test_p, model_stdev))"
   ]
  },
  {
   "cell_type": "code",
   "execution_count": null,
   "id": "44c81019",
   "metadata": {},
   "outputs": [],
   "source": [
    "print(ei_plotter_adv(test_p, ei))"
   ]
  }
 ],
 "metadata": {
  "kernelspec": {
   "display_name": "Python 3 (ipykernel)",
   "language": "python",
   "name": "python3"
  },
  "language_info": {
   "codemirror_mode": {
    "name": "ipython",
    "version": 3
   },
   "file_extension": ".py",
   "mimetype": "text/x-python",
   "name": "python",
   "nbconvert_exporter": "python",
   "pygments_lexer": "ipython3",
   "version": "3.9.7"
  }
 },
 "nbformat": 4,
 "nbformat_minor": 5
}
