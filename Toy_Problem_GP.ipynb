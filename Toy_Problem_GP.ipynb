{
 "cells": [
  {
   "cell_type": "code",
   "execution_count": 1,
   "id": "faa1bbe1",
   "metadata": {},
   "outputs": [],
   "source": [
    "import torch\n",
    "import gpytorch\n",
    "import numpy as np\n",
    "\n",
    "from bo_functions import calc_ei_basic\n",
    "from bo_functions import create_y_data_basic\n",
    "from bo_functions import ExactGPModel\n",
    "from bo_functions import calc_GP_parameters_basic\n",
    "from bo_functions import train_GP_basic\n",
    "\n",
    "from bo_plotters import y_plotter_basic\n",
    "from bo_plotters import stdev_plotter_basic\n",
    "from bo_plotters import ei_plotter_basic"
   ]
  },
  {
   "cell_type": "code",
   "execution_count": 2,
   "id": "36cb54d6",
   "metadata": {},
   "outputs": [
    {
     "name": "stdout",
     "output_type": "stream",
     "text": [
      "tensor([[-2.0000, -2.0000],\n",
      "        [-2.0000, -1.5556],\n",
      "        [-2.0000, -1.1111],\n",
      "        [-2.0000, -0.6667],\n",
      "        [-2.0000, -0.2222],\n",
      "        [-2.0000,  0.2222],\n",
      "        [-2.0000,  0.6667],\n",
      "        [-2.0000,  1.1111],\n",
      "        [-2.0000,  1.5556],\n",
      "        [-2.0000,  2.0000],\n",
      "        [-1.5556, -2.0000],\n",
      "        [-1.5556, -1.5556],\n",
      "        [-1.5556, -1.1111],\n",
      "        [-1.5556, -0.6667],\n",
      "        [-1.5556, -0.2222],\n",
      "        [-1.5556,  0.2222],\n",
      "        [-1.5556,  0.6667],\n",
      "        [-1.5556,  1.1111],\n",
      "        [-1.5556,  1.5556],\n",
      "        [-1.5556,  2.0000],\n",
      "        [-1.1111, -2.0000],\n",
      "        [-1.1111, -1.5556],\n",
      "        [-1.1111, -1.1111],\n",
      "        [-1.1111, -0.6667],\n",
      "        [-1.1111, -0.2222],\n",
      "        [-1.1111,  0.2222],\n",
      "        [-1.1111,  0.6667],\n",
      "        [-1.1111,  1.1111],\n",
      "        [-1.1111,  1.5556],\n",
      "        [-1.1111,  2.0000],\n",
      "        [-0.6667, -2.0000],\n",
      "        [-0.6667, -1.5556],\n",
      "        [-0.6667, -1.1111],\n",
      "        [-0.6667, -0.6667],\n",
      "        [-0.6667, -0.2222],\n",
      "        [-0.6667,  0.2222],\n",
      "        [-0.6667,  0.6667],\n",
      "        [-0.6667,  1.1111],\n",
      "        [-0.6667,  1.5556],\n",
      "        [-0.6667,  2.0000],\n",
      "        [-0.2222, -2.0000],\n",
      "        [-0.2222, -1.5556],\n",
      "        [-0.2222, -1.1111],\n",
      "        [-0.2222, -0.6667],\n",
      "        [-0.2222, -0.2222],\n",
      "        [-0.2222,  0.2222],\n",
      "        [-0.2222,  0.6667],\n",
      "        [-0.2222,  1.1111],\n",
      "        [-0.2222,  1.5556],\n",
      "        [-0.2222,  2.0000],\n",
      "        [ 0.2222, -2.0000],\n",
      "        [ 0.2222, -1.5556],\n",
      "        [ 0.2222, -1.1111],\n",
      "        [ 0.2222, -0.6667],\n",
      "        [ 0.2222, -0.2222],\n",
      "        [ 0.2222,  0.2222],\n",
      "        [ 0.2222,  0.6667],\n",
      "        [ 0.2222,  1.1111],\n",
      "        [ 0.2222,  1.5556],\n",
      "        [ 0.2222,  2.0000],\n",
      "        [ 0.6667, -2.0000],\n",
      "        [ 0.6667, -1.5556],\n",
      "        [ 0.6667, -1.1111],\n",
      "        [ 0.6667, -0.6667],\n",
      "        [ 0.6667, -0.2222],\n",
      "        [ 0.6667,  0.2222],\n",
      "        [ 0.6667,  0.6667],\n",
      "        [ 0.6667,  1.1111],\n",
      "        [ 0.6667,  1.5556],\n",
      "        [ 0.6667,  2.0000],\n",
      "        [ 1.1111, -2.0000],\n",
      "        [ 1.1111, -1.5556],\n",
      "        [ 1.1111, -1.1111],\n",
      "        [ 1.1111, -0.6667],\n",
      "        [ 1.1111, -0.2222],\n",
      "        [ 1.1111,  0.2222],\n",
      "        [ 1.1111,  0.6667],\n",
      "        [ 1.1111,  1.1111],\n",
      "        [ 1.1111,  1.5556],\n",
      "        [ 1.1111,  2.0000],\n",
      "        [ 1.5556, -2.0000],\n",
      "        [ 1.5556, -1.5556],\n",
      "        [ 1.5556, -1.1111],\n",
      "        [ 1.5556, -0.6667],\n",
      "        [ 1.5556, -0.2222],\n",
      "        [ 1.5556,  0.2222],\n",
      "        [ 1.5556,  0.6667],\n",
      "        [ 1.5556,  1.1111],\n",
      "        [ 1.5556,  1.5556],\n",
      "        [ 1.5556,  2.0000],\n",
      "        [ 2.0000, -2.0000],\n",
      "        [ 2.0000, -1.5556],\n",
      "        [ 2.0000, -1.1111],\n",
      "        [ 2.0000, -0.6667],\n",
      "        [ 2.0000, -0.2222],\n",
      "        [ 2.0000,  0.2222],\n",
      "        [ 2.0000,  0.6667],\n",
      "        [ 2.0000,  1.1111],\n",
      "        [ 2.0000,  1.5556],\n",
      "        [ 2.0000,  2.0000]], dtype=torch.float64)\n",
      "tensor([124.0000, 100.4938,  90.4198,  93.7778, 110.5679, 140.7901, 184.4444,\n",
      "        241.5309, 312.0494, 396.0000,  99.3086,  75.8025,  65.7284,  69.0864,\n",
      "         85.8765, 116.0988, 159.7531, 216.8395, 287.3580, 371.3086,  78.5679,\n",
      "         55.0617,  44.9877,  48.3457,  65.1358,  95.3580, 139.0123, 196.0988,\n",
      "        266.6173, 350.5679,  61.7778,  38.2716,  28.1975,  31.5556,  48.3457,\n",
      "         78.5679, 122.2222, 179.3086, 249.8272, 333.7778,  48.9383,  25.4321,\n",
      "         15.3580,  18.7160,  35.5062,  65.7284, 109.3827, 166.4691, 236.9877,\n",
      "        320.9383,  40.0494,  16.5432,   6.4691,   9.8272,  26.6173,  56.8395,\n",
      "        100.4938, 157.5802, 228.0988, 312.0494,  35.1111,  11.6049,   1.5309,\n",
      "          4.8889,  21.6790,  51.9012,  95.5556, 152.6420, 223.1605, 307.1111,\n",
      "         34.1235,  10.6173,   0.5432,   3.9012,  20.6914,  50.9136,  94.5679,\n",
      "        151.6543, 222.1728, 306.1235,  37.0864,  13.5802,   3.5062,   6.8642,\n",
      "         23.6543,  53.8765,  97.5309, 154.6173, 225.1358, 309.0864,  44.0000,\n",
      "         20.4938,  10.4198,  13.7778,  30.5679,  60.7901, 104.4444, 161.5309,\n",
      "        232.0494, 316.0000], dtype=torch.float64)\n"
     ]
    }
   ],
   "source": [
    "# Training data is 10^2 points in [-2,2] inclusive regularly spaced\n",
    "Theta1 = np.linspace(-2,2,10) #1x10\n",
    "Theta2 = np.linspace(-2,2,10) #1x10\n",
    "x = torch.tensor(np.linspace(-2,2,5)) #1x5\n",
    "\n",
    "#Creates a mesh for training data\n",
    "train_mesh = np.array(np.meshgrid(Theta1, Theta2)) #2 Uniform Arrays 10x10 (.T turns this into 10 10x2 arrays)\n",
    "\n",
    "#Lists every combination of training Theta1 and Theta2\n",
    "train_T = torch.tensor(train_mesh.T.reshape(-1, 2))#100x2\n",
    "print(train_T)\n",
    "\n",
    "#Set noise parameters and true value of Theta to generate training y data\n",
    "noise_std = 0.1**2\n",
    "Theta_True = torch.tensor([1,-1]) #1x2\n",
    "train_sse = create_y_data_basic(Theta_True, train_T, x, noise_std)\n",
    "print(train_sse)"
   ]
  },
  {
   "cell_type": "code",
   "execution_count": 3,
   "id": "d5ff1a53",
   "metadata": {},
   "outputs": [],
   "source": [
    "# initialize likelihood and model\n",
    "##Assumes a homoskedastic noise model p(y | f) = f + noise\n",
    "likelihood = gpytorch.likelihoods.GaussianLikelihood()\n",
    "\n",
    "# We will use the simplest form of GP model, exact inference\n",
    "#Defines our model in terms of the class parameters in bo_functions\n",
    "model = ExactGPModel(train_T, train_sse, likelihood)"
   ]
  },
  {
   "cell_type": "code",
   "execution_count": 4,
   "id": "9b4bbb50",
   "metadata": {},
   "outputs": [],
   "source": [
    "#Training the GP Model\n",
    "train_GP_basic(model, likelihood, train_T, train_sse)"
   ]
  },
  {
   "cell_type": "code",
   "execution_count": 5,
   "id": "3f5c9ddc",
   "metadata": {},
   "outputs": [],
   "source": [
    "# Get into evaluation (predictive posterior) mode\n",
    "#Puts model in evaluation mode\n",
    "model.eval()\n",
    "#Puts likelihood in evaluation mode\n",
    "likelihood.eval()\n",
    "\n",
    "#Define Testing Data\n",
    "test_Theta1 =  np.linspace(-2,2,9) #1x5\n",
    "test_Theta2 =  np.linspace(-2,2,9) #1x5\n",
    "test_mesh = np.array(np.meshgrid(test_Theta1, test_Theta2)) #2 Uniform 5x5 arrays\n",
    "test_T = torch.tensor(test_mesh.T.reshape(-1, 2)) #25 x 2"
   ]
  },
  {
   "cell_type": "code",
   "execution_count": 6,
   "id": "41599894",
   "metadata": {},
   "outputs": [
    {
     "name": "stdout",
     "output_type": "stream",
     "text": [
      "The GP predicts that Theta1 = 1.0 and Theta2 = -1.0\n"
     ]
    }
   ],
   "source": [
    "GP_Output = calc_GP_parameters_basic(model, likelihood, test_T)\n",
    "\n",
    "model_mean = GP_Output[0]\n",
    "model_variance = GP_Output[1]\n",
    "model_stdev = GP_Output[2]\n",
    "model_sse = GP_Output[3]\n",
    "\n",
    "#Finds the index where sse is the smallest and finds which Theta combination corresponds to that value\n",
    "Theta_Opt_GP = test_T[np.argmin(model_sse)].numpy() #1x2\n",
    "print(\"The GP predicts that Theta1 =\",Theta_Opt_GP[0],\"and Theta2 =\", Theta_Opt_GP[1])\n",
    "\n",
    "#calculates best_error and expected improvement\n",
    "best_error = np.argmax(model_sse)\n",
    "ei = calc_ei_basic(best_error,model_mean,model_variance)\n",
    "\n",
    "#Formats ei points into a suitable graphing form    \n",
    "ei_map = ei.reshape(len(test_Theta1),-1) # 5x5\n",
    "#Formats sse data points into a suitable graphing form    \n",
    "sse_map = model_sse.reshape(len(test_Theta1),-1) #5 x 5\n",
    "#Formats stdev data points into suitable graphing form\n",
    "stdev_map = model_stdev.reshape(len(test_Theta1),-1) #5 x 5"
   ]
  },
  {
   "cell_type": "code",
   "execution_count": 7,
   "id": "4382840e",
   "metadata": {},
   "outputs": [
    {
     "data": {
      "image/png": "[encoded data removed]",
      "text/plain": [
       "<Figure size 432x288 with 2 Axes>"
      ]
     },
     "metadata": {
      "needs_background": "light"
     },
     "output_type": "display_data"
    }
   ],
   "source": [
    "title = \"SSE\"\n",
    "y_plotter_basic(test_mesh, sse_map, Theta_True, Theta_Opt_GP, title)"
   ]
  },
  {
   "cell_type": "markdown",
   "id": "ef0c788f",
   "metadata": {},
   "source": [
    "## Analysis of SSE\n",
    " - The GP predicts the optimal value excatly\n",
    " - The sum of squared error is closest to zero in the region closest to the actual optimal value of vector $\\bar{\\theta}$. This signifies that the GP is accurately predicting $\\bar{\\theta}$\n",
    " - The sum of squared error is greatest in the region as $\\theta_1$ and $\\theta_2$ deviate from their optimal values. This is further evidence that the GP is accurately predicting $\\bar{\\theta}$"
   ]
  },
  {
   "cell_type": "code",
   "execution_count": 8,
   "id": "18100b97",
   "metadata": {},
   "outputs": [
    {
     "data": {
      "image/png": "[encoded data removed]",
      "text/plain": [
       "<Figure size 432x288 with 2 Axes>"
      ]
     },
     "metadata": {
      "needs_background": "light"
     },
     "output_type": "display_data"
    }
   ],
   "source": [
    "stdev_plotter_basic(test_mesh, stdev_map,Theta_True, Theta_Opt_GP)"
   ]
  },
  {
   "cell_type": "markdown",
   "id": "6e01bb38",
   "metadata": {},
   "source": [
    "## Analysis of Standard Deviation\n",
    " - The GP predicts the standard deviation is smallest when $\\bar{\\theta} = [0,0]$\n",
    " - The standard  deviation increases as $\\bar{\\theta}$ deviates further from zero\n",
    " - My guess is that this graph is cenetered at zero because the sse is independent of $\\bar{\\theta}$ at $\\bar{\\theta}=0$"
   ]
  },
  {
   "cell_type": "code",
   "execution_count": 9,
   "id": "4aecc2c0",
   "metadata": {},
   "outputs": [
    {
     "data": {
      "image/png": "[encoded data removed]",
      "text/plain": [
       "<Figure size 432x288 with 2 Axes>"
      ]
     },
     "metadata": {
      "needs_background": "light"
     },
     "output_type": "display_data"
    }
   ],
   "source": [
    "ei_plotter_basic(test_mesh, ei_map, Theta_True, Theta_Opt_GP)"
   ]
  },
  {
   "cell_type": "markdown",
   "id": "36c7be2b",
   "metadata": {},
   "source": [
    "## Analysis of Expected Improvement\n",
    " - The GP predicts the expected improvement is largest away from the optimal value. This is reasonable because the output of the GP is the SSE, which is largest away from the optimal point\n",
    " - The expected improvement is smallest in the area closest to $\\bar{\\theta}_{true}$ which makes sense because the error should be largest far away from the optimal point."
   ]
  },
  {
   "cell_type": "code",
   "execution_count": null,
   "id": "7879e92a",
   "metadata": {},
   "outputs": [],
   "source": []
  }
 ],
 "metadata": {
  "kernelspec": {
   "display_name": "Python 3 (ipykernel)",
   "language": "python",
   "name": "python3"
  },
  "language_info": {
   "codemirror_mode": {
    "name": "ipython",
    "version": 3
   },
   "file_extension": ".py",
   "mimetype": "text/x-python",
   "name": "python",
   "nbconvert_exporter": "python",
   "pygments_lexer": "ipython3",
   "version": "3.9.7"
  }
 },
 "nbformat": 4,
 "nbformat_minor": 5
}
