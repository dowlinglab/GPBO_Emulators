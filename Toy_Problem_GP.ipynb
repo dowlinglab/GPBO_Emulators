{
 "cells": [
  {
   "cell_type": "code",
   "execution_count": 1,
   "id": "faa1bbe1",
   "metadata": {},
   "outputs": [],
   "source": [
    "import math\n",
    "import torch\n",
    "import gpytorch\n",
    "import numpy as np\n",
    "from matplotlib import pyplot as plt"
   ]
  },
  {
   "cell_type": "code",
   "execution_count": 2,
   "id": "36cb54d6",
   "metadata": {},
   "outputs": [],
   "source": [
    "# Training data is 10^2 points in [-2,2] inclusive regularly spaced\n",
    "Theta1 = np.linspace(-2,2,10) #1x10\n",
    "Theta2 = np.linspace(-2,2,10) #1x10\n",
    "train_mesh = np.array(np.meshgrid(Theta1, Theta2)) #2 Uniform Arrays 10x10 (.T turns this into 10 10x2 arrays) (Why?)\n",
    "x = torch.tensor(np.linspace(-2,2,5)) #1x5\n",
    "\n",
    "#Gives every combination of \n",
    "train_T = torch.tensor(train_mesh.T.reshape(-1, 2))#100x2\n",
    "\n",
    "noise_mean = 0\n",
    "noise_std = 0.1**2\n",
    "Theta_True = torch.tensor([1,-1]) #1x2\n",
    "\n",
    "#Creates noise values with a certain stdev and mean from a normal distribution\n",
    "noise = torch.tensor(np.random.normal(size=len(x),loc = noise_mean, scale = noise_std)) #1x5\n",
    "\n",
    "# True function is y=T1*x + T2*x^2 + x^3 with Gaussian noise\n",
    "y_true =  Theta_True[0]*x + Theta_True[1]*x**2 +x**3 + noise #1x5\n",
    "\n",
    "train_y = torch.tensor(np.zeros(len(train_T))) #1 x 100\n",
    "\n",
    "#Iterates over evey combination of theta to find the SSE for each combination\n",
    "for i in range(len(train_T)):\n",
    "    theta_1 = train_T[i,0] #100x1 \n",
    "    theta_2 = train_T[i,1] #100x1\n",
    "    y_exp = theta_1*x + theta_2*x**2 +x**3 + noise #100 x5\n",
    "    train_y[i] = sum((y_true - y_exp)**2) # A number"
   ]
  },
  {
   "cell_type": "code",
   "execution_count": 3,
   "id": "d5ff1a53",
   "metadata": {},
   "outputs": [],
   "source": [
    "# We will use the simplest form of GP model, exact inference\n",
    "#This class is the Exact GP model\n",
    "class ExactGPModel(gpytorch.models.ExactGP): #Exact GP does not add noise\n",
    "    r\"\"\"\n",
    "    The base class for any Gaussian process latent function to be used in conjunction\n",
    "    with exact inference.\n",
    "\n",
    "    :param torch.Tensor train_inputs: (size n x d) The training features :math:`\\mathbf X`.\n",
    "    :param torch.Tensor train_targets: (size n) The training targets :math:`\\mathbf y`.\n",
    "    :param ~gpytorch.likelihoods.GaussianLikelihood likelihood: The Gaussian likelihood that defines\n",
    "        the observational distribution. Since we're using exact inference, the likelihood must be Gaussian.\n",
    "        \n",
    "    The :meth:`__init__` function takes training data and a likelihood and computes the objects of mean and covariance \n",
    "    for the forward method\n",
    "\n",
    "    The :meth:`forward` function should describe how to compute the prior latent distribution\n",
    "    on a given input. Typically, this will involve a mean and kernel function.\n",
    "    The result must be a :obj:`~gpytorch.distributions.MultivariateNormal`.\n",
    "\n",
    "    Calling this model will return the posterior of the latent Gaussian process when conditioned\n",
    "    on the training data. The output will be a :obj:`~gpytorch.distributions.MultivariateNormal`.\"\"\"\n",
    "\n",
    "    def __init__(self, train_T, train_y, likelihood):\n",
    "        #Initializes the GP model with train_Y, train_y, and the likelihood\n",
    "        ##What is super and what does it do?\n",
    "        super(ExactGPModel, self).__init__(train_T, train_y, likelihood)\n",
    "        #Defines a constant prior mean on the GP\n",
    "        self.mean_module = gpytorch.means.ConstantMean()\n",
    "        #Defines prior covariance matrix of GP to a scaled RFB Kernel\n",
    "        self.covar_module = gpytorch.kernels.ScaleKernel(gpytorch.kernels.RBFKernel()) \n",
    "\n",
    "    def forward(self, x):\n",
    "        \"\"\"\n",
    "        A forward method that takes in some (n×d) data, x, and returns a MultivariateNormal with the prior mean and \n",
    "        covariance evaluated at x. In other words, we return the vector μ(x) and the n×n matrix Kxx representing the \n",
    "        prior mean and covariance matrix of the GP.\n",
    "        \n",
    "        Args: \n",
    "        self: A class. The model itself. In this case, gpytorch.models.ExactGP\n",
    "        x: train_T  #What is x here actually? How does this code recognize that x is train_T?\n",
    "        \n",
    "        Returns:\n",
    "        Vector μ(x)\n",
    "        \n",
    "        \"\"\"\n",
    "        #Defines the new mean based off of x. Is this actually what's happening?\n",
    "        mean_x = self.mean_module(x) #1x100\n",
    "        #Defines new covariance matrix based off of x\n",
    "        covar_x = self.covar_module(x) #What is this?\n",
    "        #Constructs a multivariate normal random variable, based on mean and covariance. \n",
    "        #Can be multivariate, or a batch of multivariate normals\n",
    "        #What does this actually do? Get the distribution?\n",
    "        return gpytorch.distributions.MultivariateNormal(mean_x, covar_x) #1x100\n",
    "\n",
    "# initialize likelihood and model\n",
    "##Assumes a homoskedastic noise model p(y | f) = f + noise\n",
    "likelihood = gpytorch.likelihoods.GaussianLikelihood()\n",
    "\n",
    "#Defines our model in terms of the class parameters above\n",
    "model = ExactGPModel(train_T, train_y, likelihood)"
   ]
  },
  {
   "cell_type": "code",
   "execution_count": 4,
   "id": "9b4bbb50",
   "metadata": {},
   "outputs": [],
   "source": [
    "# Find optimal model hyperparameters\n",
    "training_iter = 100\n",
    "\n",
    "#Puts the model in training mode (How does this actually work?)\n",
    "model.train()\n",
    "\n",
    "#Puts the likelihood in training mode (How does this actually work?)\n",
    "likelihood.train()\n",
    "\n",
    "# Use the adam optimizer\n",
    "#algorithm for first-order gradient-based optimization of stochastic objective functions\n",
    "# The method is also appropriate for non-stationary objectives and problems with very noisy and/or sparse gradients. \n",
    "#The hyper-parameters have intuitive interpretations and typically require little tuning.\n",
    "optimizer = torch.optim.Adam(model.parameters(), lr=0.1)  #Needs GaussianLikelihood parameters, and a learning rate\n",
    "#lr default is 0.001\n",
    "\n",
    "# \"Loss\" for GPs - the marginal log likelihood (the evidence: quantifies joing probability of the data under the prior)\n",
    "#returns an exact MML for an exact Gaussian process with Gaussian likelihood\n",
    "#What exactly is an MML?\n",
    "mll = gpytorch.mlls.ExactMarginalLogLikelihood(likelihood, model) #Takes a likelihood and a model\n",
    "\n",
    "#iterates a give number of times\n",
    "for i in range(training_iter): #0-299\n",
    "    # Zero gradients from previous iteration - Prevents past gradients from influencing the next iteration\n",
    "    optimizer.zero_grad() \n",
    "    # Output from model\n",
    "    #What exactly is the output of the model?\n",
    "    output = model(train_T) #1 x 100\n",
    "    # Calc loss and backprop gradients\n",
    "    #What exactly is the loss?\n",
    "    loss = -mll(output, train_y) #A number (tensor)\n",
    "    #computes dloss/dx for every parameter x which has requires_grad=True. \n",
    "    #These are accumulated into x.grad for every parameter x\n",
    "    #Which parameter here has this attribute?\n",
    "    loss.backward()\n",
    "#     print('Iter %d/%d - Loss: %.3f   lengthscale: %.3f   noise: %.3f' % (\n",
    "#         i + 1, training_iter, loss.item(),\n",
    "#         model.covar_module.base_kernel.lengthscale.item(),\n",
    "#          model.likelihood.noise.item()\n",
    "#     ))\n",
    "    #optimizer.step updates the value of x using the gradient x.grad. For example, the SGD optimizer performs:\n",
    "    #x += -lr * x.grad\n",
    "    optimizer.step()"
   ]
  },
  {
   "cell_type": "code",
   "execution_count": 5,
   "id": "f2bbba48",
   "metadata": {},
   "outputs": [],
   "source": [
    "# Get into evaluation (predictive posterior) mode\n",
    "#Puts model in evaluation mode\n",
    "model.eval()\n",
    "#Puts likelihood in evaluation mode\n",
    "likelihood.eval()\n",
    "\n",
    "#Define Testing Data\n",
    "test_Theta1 =  np.linspace(-2,2,5) #1x5\n",
    "test_Theta2 =  np.linspace(-2,2,5) #1x5\n",
    "test_mesh = np.array(np.meshgrid(test_Theta1, test_Theta2)) #2 Uniform 5x5 arrays\n",
    "test_T = torch.tensor(test_mesh.T.reshape(-1, 2))"
   ]
  },
  {
   "cell_type": "code",
   "execution_count": 6,
   "id": "74def01e",
   "metadata": {},
   "outputs": [],
   "source": [
    "def sse_func(test_Theta):\n",
    "    '''\n",
    "    Function to define define sum of squared error function for heat map\n",
    "    Arguments:\n",
    "        test_Theta: Theta_Combinations x 2 array of all theta values to be tested\n",
    "    Returns:\n",
    "        sse: x by x sum of squared error matrix of all combinations of the mesh\n",
    "    '''\n",
    "   #STOPPED COMMENTING HERE\n",
    "    with torch.no_grad(), gpytorch.settings.fast_pred_var():\n",
    "        observed_pred = likelihood(model(test_Theta))\n",
    "    sse = observed_pred.loc.reshape(len(test_Theta1),-1)\n",
    "    return sse #Must traspose zz. Why?"
   ]
  },
  {
   "cell_type": "code",
   "execution_count": 7,
   "id": "d6bf72ac",
   "metadata": {
    "scrolled": true
   },
   "outputs": [
    {
     "name": "stdout",
     "output_type": "stream",
     "text": [
      "The GP predicts that Theta1 = 1.0 and Theta2 = -1.0\n"
     ]
    },
    {
     "data": {
      "image/png": "[encoded data removed]",
      "text/plain": [
       "<Figure size 432x288 with 2 Axes>"
      ]
     },
     "metadata": {
      "needs_background": "light"
     },
     "output_type": "display_data"
    }
   ],
   "source": [
    "# plot fheatmap\n",
    "xx , yy = test_mesh #2 Uniform 5x5 arrays\n",
    "\n",
    "zz = sse_func(test_T) #5 x 5\n",
    "Theta_GP = test_T[np.argmin(zz)].numpy() #1x2\n",
    "print(\"The GP predicts that Theta1 =\",Theta_GP[0],\"and Theta2 =\", Theta_GP[1])\n",
    "\n",
    "plt.contourf(xx,yy,zz.T)\n",
    "plt.colorbar()\n",
    "plt.scatter(Theta_True[0],Theta_True[1], color=\"red\", label = \"True\", s=50)\n",
    "plt.scatter(Theta_GP[0],Theta_GP[1], color=\"orange\", label = \"GP\")\n",
    "plt.axis('scaled')\n",
    "plt.grid()\n",
    "plt.legend(loc = 'best')\n",
    "plt.xlabel('Theta 1',weight='bold')\n",
    "plt.ylabel('Theta 2',weight='bold')\n",
    "plt.title('Heat Map of SSE', weight='bold',fontsize = 16)\n",
    "plt.show()"
   ]
  },
  {
   "cell_type": "code",
   "execution_count": null,
   "id": "18100b97",
   "metadata": {},
   "outputs": [],
   "source": []
  }
 ],
 "metadata": {
  "kernelspec": {
   "display_name": "Python 3 (ipykernel)",
   "language": "python",
   "name": "python3"
  },
  "language_info": {
   "codemirror_mode": {
    "name": "ipython",
    "version": 3
   },
   "file_extension": ".py",
   "mimetype": "text/x-python",
   "name": "python",
   "nbconvert_exporter": "python",
   "pygments_lexer": "ipython3",
   "version": "3.9.7"
  }
 },
 "nbformat": 4,
 "nbformat_minor": 5
}
