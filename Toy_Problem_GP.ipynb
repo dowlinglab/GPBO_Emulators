{
 "cells": [
  {
   "cell_type": "code",
   "execution_count": 1,
   "id": "faa1bbe1",
   "metadata": {},
   "outputs": [],
   "source": [
    "import gpytorch\n",
    "import numpy as np\n",
    "\n",
    "from bo_functions import best_error_advanced\n",
    "from bo_functions import calc_ei_advanced\n",
    "from bo_functions import LHS_Design\n",
    "from bo_functions import create_y_data\n",
    "from bo_functions import test_train_split\n",
    "from bo_functions import ExactGPModel\n",
    "from bo_functions import train_GP_model\n",
    "from bo_functions import calc_GP_outputs\n",
    "from bo_functions import calc_y_expected\n",
    "from bo_functions import improvement_integral\n",
    "from bo_functions import improvement_int_terms\n",
    "\n",
    "from bo_plotters import plotter_adv\n",
    "from bo_plotters import y_plotter_adv\n",
    "from bo_plotters import stdev_plotter_adv\n",
    "from bo_plotters import error_plotter_adv\n",
    "from bo_plotters import ei_plotter_adv\n",
    "from bo_plotters import improvement_integral_plot\n",
    "from bo_plotters import improvement_int_terms_plot"
   ]
  },
  {
   "cell_type": "code",
   "execution_count": 2,
   "id": "36cb54d6",
   "metadata": {},
   "outputs": [
    {
     "name": "stdout",
     "output_type": "stream",
     "text": [
      "tensor([[ 1.6023, -0.3062,  1.9780],\n",
      "        [ 1.3769, -0.4788, -1.4939],\n",
      "        [ 0.2180, -1.6312, -1.0622],\n",
      "        [ 1.7776, -1.8356, -1.6141],\n",
      "        [ 0.4116, -1.0924,  0.0214],\n",
      "        [-0.8668,  1.2260, -1.0091]], dtype=torch.float64)\n"
     ]
    }
   ],
   "source": [
    "#Set noise parameters and load csv file to generate training data\n",
    "noise_std = 0.1**2\n",
    "all_p = LHS_Design(\"LHS_Toy_3_Input.csv\")\n",
    "all_y = create_y_data(all_p, noise_std)\n",
    "\n",
    "#Separate training and testing data, uses default of an 80%/20% split\n",
    "train_test_data = test_train_split(all_p,all_y)\n",
    "\n",
    "train_p = train_test_data[0] #1x19\n",
    "train_y = train_test_data[1] #1x19\n",
    "test_p = train_test_data[2] #1x19\n",
    "test_y = train_test_data[3] #1x19\n",
    "print(test_p)"
   ]
  },
  {
   "cell_type": "code",
   "execution_count": 3,
   "id": "d5ff1a53",
   "metadata": {},
   "outputs": [],
   "source": [
    "# initialize likelihood and model\n",
    "##Assumes a homoskedastic noise model p(y | f) = f + noise\n",
    "likelihood = gpytorch.likelihoods.GaussianLikelihood()\n",
    "\n",
    "# We will use the simplest form of GP model, exact inference\n",
    "#Defines our model in terms of the class parameters in bo_functions\n",
    "model = ExactGPModel(train_p, train_y, likelihood)"
   ]
  },
  {
   "cell_type": "code",
   "execution_count": 4,
   "id": "9b4bbb50",
   "metadata": {},
   "outputs": [],
   "source": [
    "#Set number of training iterations and train GP\n",
    "iterations = 500\n",
    "train_GP_model(model,likelihood, train_p, train_y, iterations)"
   ]
  },
  {
   "cell_type": "code",
   "execution_count": 5,
   "id": "3f5c9ddc",
   "metadata": {},
   "outputs": [],
   "source": [
    "# Get into evaluation (predictive posterior) mode\n",
    "#Puts model in evaluation mode\n",
    "model.eval()\n",
    "#Puts likelihood in evaluation mode\n",
    "likelihood.eval();"
   ]
  },
  {
   "cell_type": "code",
   "execution_count": 6,
   "id": "71daa68c",
   "metadata": {},
   "outputs": [],
   "source": [
    "#Create Meshgrid\n",
    "\n",
    "test_p1 = np.linspace(-2,2,5) #Theta 1\n",
    "test_p2 = np.linspace(-2,2,5) #Theta 2\n",
    "test_p3 = np.linspace(-2,2,5) #Theta 3\n",
    "\n",
    "test_p_mesh = np.array(np.meshgrid(test_p1,test_p2,test_p3))\n",
    "\n",
    "test_p_mesh_plot = test_p_mesh.T.reshape(-1,3)"
   ]
  },
  {
   "cell_type": "code",
   "execution_count": 9,
   "id": "41599894",
   "metadata": {},
   "outputs": [
    {
     "name": "stdout",
     "output_type": "stream",
     "text": [
      "Model Mean \n",
      " tensor([-1.6575, -1.2703, -0.8330, -0.6817, -0.8430, -3.4124, -3.0468, -2.1987,\n",
      "        -1.4608, -1.1515, -5.8189, -5.5732, -4.2055, -2.6154, -1.5661, -7.6039,\n",
      "        -7.4931, -5.7485, -3.4791, -1.8189, -7.6159, -7.5799, -5.8526, -3.5120,\n",
      "        -1.7516, -1.1685, -0.5556, -0.0319, -0.0187, -0.4657, -2.5342, -1.8669,\n",
      "        -0.9559, -0.4661, -0.5794, -4.5517, -3.9286, -2.5079, -1.2469, -0.7309,\n",
      "        -6.1470, -5.6112, -3.7907, -1.8535, -0.7580, -6.2856, -5.8409, -4.0034,\n",
      "        -1.9204, -0.6533, -0.7127,  0.1308,  0.8088,  0.7897,  0.1261, -1.3915,\n",
      "        -0.3891,  0.6106,  0.8702,  0.3131, -2.5275, -1.4428, -0.0245,  0.7567,\n",
      "         0.5523, -3.5064, -2.4162, -0.6545,  0.6397,  0.8315, -3.6869, -2.6964,\n",
      "        -0.9133,  0.5486,  0.9409, -0.4597,  0.5654,  1.4442,  1.5330,  0.8026,\n",
      "        -0.5158,  0.7628,  1.9071,  2.0994,  1.2712, -0.7652,  0.7097,  2.1551,\n",
      "         2.5887,  1.8194, -1.0608,  0.4953,  2.1721,  2.8850,  2.2847, -1.2050,\n",
      "         0.2326,  1.8855,  2.7215,  2.3069, -0.3930,  0.6683,  1.6423,  1.8581,\n",
      "         1.1992, -0.1097,  1.2440,  2.4414,  2.6632,  1.8022,  0.1601,  1.7515,\n",
      "         3.1446,  3.4118,  2.4290,  0.2839,  1.9711,  3.4754,  3.8301,  2.8600,\n",
      "         0.1806,  1.7243,  3.1429,  3.5518,  2.7344], dtype=torch.float64)\n",
      "Model Variance \n",
      " tensor([10.4183,  9.3034,  8.3274,  8.3024,  9.4354,  9.3096,  7.8770,  6.8848,\n",
      "         7.0098,  8.4330,  8.2325,  6.8687,  6.3681,  6.5216,  7.6662,  7.6685,\n",
      "         6.6259,  6.7289,  6.7492,  7.2803,  8.5482,  7.8554,  8.1471,  8.0583,\n",
      "         8.1894,  8.4907,  7.4158,  6.6128,  6.5197,  7.6359,  7.4136,  6.1309,\n",
      "         5.4822,  5.6198,  6.8563,  7.2009,  5.8594,  5.4626,  5.5502,  6.5092,\n",
      "         7.5762,  6.3283,  6.0515,  5.7751,  6.2713,  8.8387,  7.8651,  7.5706,\n",
      "         7.0967,  7.3191,  6.9957,  6.3631,  6.0512,  5.8078,  6.5599,  6.1055,\n",
      "         5.3378,  5.2248,  5.2229,  5.9610,  6.7698,  5.5637,  5.2639,  5.3464,\n",
      "         6.1663,  8.0187,  6.4487,  5.6979,  5.5243,  6.4297,  9.5439,  8.0962,\n",
      "         7.0630,  6.6220,  7.4720,  7.1354,  6.5416,  6.2661,  5.9525,  6.6911,\n",
      "         6.2244,  5.4496,  5.4116,  5.4154,  6.1498,  6.9095,  5.4918,  5.1422,\n",
      "         5.4698,  6.5723,  8.2897,  6.3337,  5.3397,  5.6065,  7.1398,  9.8729,\n",
      "         8.0193,  6.5785,  6.4538,  7.9916,  8.7373,  7.8034,  7.1437,  6.8983,\n",
      "         7.9053,  7.7920,  6.6235,  6.2737,  6.4787,  7.5748,  8.0323,  6.3989,\n",
      "         5.9502,  6.5753,  7.9881,  9.0656,  7.1506,  6.2430,  6.8068,  8.5008,\n",
      "        10.4069,  8.7206,  7.4401,  7.5271,  9.0832], dtype=torch.float64)\n",
      "Model Standard Deviation \n",
      " tensor([3.2277, 3.0501, 2.8857, 2.8814, 3.0717, 3.0512, 2.8066, 2.6239, 2.6476,\n",
      "        2.9040, 2.8692, 2.6208, 2.5235, 2.5537, 2.7688, 2.7692, 2.5741, 2.5940,\n",
      "        2.5979, 2.6982, 2.9237, 2.8027, 2.8543, 2.8387, 2.8617, 2.9139, 2.7232,\n",
      "        2.5715, 2.5534, 2.7633, 2.7228, 2.4761, 2.3414, 2.3706, 2.6184, 2.6835,\n",
      "        2.4206, 2.3372, 2.3559, 2.5513, 2.7525, 2.5156, 2.4600, 2.4031, 2.5042,\n",
      "        2.9730, 2.8045, 2.7515, 2.6640, 2.7054, 2.6449, 2.5225, 2.4599, 2.4099,\n",
      "        2.5612, 2.4709, 2.3104, 2.2858, 2.2854, 2.4415, 2.6019, 2.3588, 2.2943,\n",
      "        2.3122, 2.4832, 2.8317, 2.5394, 2.3870, 2.3504, 2.5357, 3.0893, 2.8454,\n",
      "        2.6576, 2.5733, 2.7335, 2.6712, 2.5576, 2.5032, 2.4398, 2.5867, 2.4949,\n",
      "        2.3344, 2.3263, 2.3271, 2.4799, 2.6286, 2.3435, 2.2677, 2.3388, 2.5636,\n",
      "        2.8792, 2.5167, 2.3108, 2.3678, 2.6720, 3.1421, 2.8318, 2.5649, 2.5404,\n",
      "        2.8269, 2.9559, 2.7935, 2.6728, 2.6265, 2.8116, 2.7914, 2.5736, 2.5047,\n",
      "        2.5453, 2.7522, 2.8341, 2.5296, 2.4393, 2.5642, 2.8263, 3.0109, 2.6741,\n",
      "        2.4986, 2.6090, 2.9156, 3.2260, 2.9531, 2.7277, 2.7436, 3.0138],\n",
      "       dtype=torch.float64)\n",
      "Model y \n",
      " tensor([-1.6575, -1.2703, -0.8330, -0.6817, -0.8430, -3.4124, -3.0468, -2.1987,\n",
      "        -1.4608, -1.1515, -5.8189, -5.5732, -4.2055, -2.6154, -1.5661, -7.6039,\n",
      "        -7.4931, -5.7485, -3.4791, -1.8189, -7.6159, -7.5799, -5.8526, -3.5120,\n",
      "        -1.7516, -1.1685, -0.5556, -0.0319, -0.0187, -0.4657, -2.5342, -1.8669,\n",
      "        -0.9559, -0.4661, -0.5794, -4.5517, -3.9286, -2.5079, -1.2469, -0.7309,\n",
      "        -6.1470, -5.6112, -3.7907, -1.8535, -0.7580, -6.2856, -5.8409, -4.0034,\n",
      "        -1.9204, -0.6533, -0.7127,  0.1308,  0.8088,  0.7897,  0.1261, -1.3915,\n",
      "        -0.3891,  0.6106,  0.8702,  0.3131, -2.5275, -1.4428, -0.0245,  0.7567,\n",
      "         0.5523, -3.5064, -2.4162, -0.6545,  0.6397,  0.8315, -3.6869, -2.6964,\n",
      "        -0.9133,  0.5486,  0.9409, -0.4597,  0.5654,  1.4442,  1.5330,  0.8026,\n",
      "        -0.5158,  0.7628,  1.9071,  2.0994,  1.2712, -0.7652,  0.7097,  2.1551,\n",
      "         2.5887,  1.8194, -1.0608,  0.4953,  2.1721,  2.8850,  2.2847, -1.2050,\n",
      "         0.2326,  1.8855,  2.7215,  2.3069, -0.3930,  0.6683,  1.6423,  1.8581,\n",
      "         1.1992, -0.1097,  1.2440,  2.4414,  2.6632,  1.8022,  0.1601,  1.7515,\n",
      "         3.1446,  3.4118,  2.4290,  0.2839,  1.9711,  3.4754,  3.8301,  2.8600,\n",
      "         0.1806,  1.7243,  3.1429,  3.5518,  2.7344], dtype=torch.float64)\n",
      "Y Value Expected \n",
      " [-1.19887452e+01 -7.98874519e+00 -3.98874519e+00  1.12548119e-02\n",
      "  4.01125481e+00 -1.39887452e+01 -9.98874519e+00 -5.98874519e+00\n",
      " -1.98874519e+00  2.01125481e+00 -1.59887452e+01 -1.19887452e+01\n",
      " -7.98874519e+00 -3.98874519e+00  1.12548119e-02 -1.79887452e+01\n",
      " -1.39887452e+01 -9.98874519e+00 -5.98874519e+00 -1.98874519e+00\n",
      " -1.99887452e+01 -1.59887452e+01 -1.19887452e+01 -7.98874519e+00\n",
      " -3.98874519e+00 -9.88745188e-01  1.12548119e-02  1.01125481e+00\n",
      "  2.01125481e+00  3.01125481e+00 -1.98874519e+00 -9.88745188e-01\n",
      "  1.12548119e-02  1.01125481e+00  2.01125481e+00 -2.98874519e+00\n",
      " -1.98874519e+00 -9.88745188e-01  1.12548119e-02  1.01125481e+00\n",
      " -3.98874519e+00 -2.98874519e+00 -1.98874519e+00 -9.88745188e-01\n",
      "  1.12548119e-02 -4.98874519e+00 -3.98874519e+00 -2.98874519e+00\n",
      " -1.98874519e+00 -9.88745188e-01  1.12548119e-02  1.12548119e-02\n",
      "  1.12548119e-02  1.12548119e-02  1.12548119e-02  1.12548119e-02\n",
      "  1.12548119e-02  1.12548119e-02  1.12548119e-02  1.12548119e-02\n",
      "  1.12548119e-02  1.12548119e-02  1.12548119e-02  1.12548119e-02\n",
      "  1.12548119e-02  1.12548119e-02  1.12548119e-02  1.12548119e-02\n",
      "  1.12548119e-02  1.12548119e-02  1.12548119e-02  1.12548119e-02\n",
      "  1.12548119e-02  1.12548119e-02  1.12548119e-02 -2.98874519e+00\n",
      " -1.98874519e+00 -9.88745188e-01  1.12548119e-02  1.01125481e+00\n",
      " -1.98874519e+00 -9.88745188e-01  1.12548119e-02  1.01125481e+00\n",
      "  2.01125481e+00 -9.88745188e-01  1.12548119e-02  1.01125481e+00\n",
      "  2.01125481e+00  3.01125481e+00  1.12548119e-02  1.01125481e+00\n",
      "  2.01125481e+00  3.01125481e+00  4.01125481e+00  1.01125481e+00\n",
      "  2.01125481e+00  3.01125481e+00  4.01125481e+00  5.01125481e+00\n",
      " -3.98874519e+00  1.12548119e-02  4.01125481e+00  8.01125481e+00\n",
      "  1.20112548e+01 -1.98874519e+00  2.01125481e+00  6.01125481e+00\n",
      "  1.00112548e+01  1.40112548e+01  1.12548119e-02  4.01125481e+00\n",
      "  8.01125481e+00  1.20112548e+01  1.60112548e+01  2.01125481e+00\n",
      "  6.01125481e+00  1.00112548e+01  1.40112548e+01  1.80112548e+01\n",
      "  4.01125481e+00  8.01125481e+00  1.20112548e+01  1.60112548e+01\n",
      "  2.00112548e+01]\n"
     ]
    }
   ],
   "source": [
    "#Calculates GP outputs for mean, variance, standard devaition, and y output\n",
    "GP_Outputs = calc_GP_outputs(model,likelihood,test_p_mesh_plot)\n",
    "\n",
    "model_mean = GP_Outputs[0] #1x6\n",
    "model_variance= GP_Outputs[1] #1x6\n",
    "model_stdev = GP_Outputs[2] #1x6\n",
    "model_y = GP_Outputs[3] #1x6\n",
    "\n",
    "#Calculates expected y\n",
    "y_exp = calc_y_expected(test_p_mesh_plot, noise_std) #1x6\n",
    "\n",
    "print(\"Model Mean \\n\", model_mean)\n",
    "print(\"Model Variance \\n\", model_variance)\n",
    "print(\"Model Standard Deviation \\n\", model_stdev)\n",
    "print(\"Model y \\n\", model_y)\n",
    "print(\"Y Value Expected \\n\", y_exp)"
   ]
  },
  {
   "cell_type": "code",
   "execution_count": 13,
   "id": "28f122f8",
   "metadata": {
    "scrolled": true
   },
   "outputs": [
    {
     "name": "stdout",
     "output_type": "stream",
     "text": [
      "Best Error is:  0.0012780247116320543\n",
      "EI: [4.48892332e-08 7.04418059e-07 4.63149134e-06 8.19390164e-06\n",
      " 2.26979562e-06 1.95939985e-08 4.06471019e-07 3.26326502e-06\n",
      " 8.99835141e-06 4.62484893e-06 1.58469168e-08 4.63480365e-07\n",
      " 3.13041324e-06 8.23511842e-06 7.46253366e-06 7.75442056e-09\n",
      " 3.91096812e-07 2.46306610e-06 5.86675250e-06 8.98910008e-06\n",
      " 1.07388827e-09 9.62718520e-08 8.44529432e-07 2.46888807e-06\n",
      " 6.25643458e-06 8.32440159e-06 8.73296336e-06 8.70405712e-06\n",
      " 6.93904148e-06 3.98511659e-06 8.74821672e-06 9.21674905e-06\n",
      " 9.53068472e-06 8.44218445e-06 5.68929011e-06 7.64353734e-06\n",
      " 7.28238564e-06 8.41813096e-06 8.94472297e-06 7.54456395e-06\n",
      " 6.49254244e-06 5.61097563e-06 7.55454863e-06 9.47870868e-06\n",
      " 9.25729867e-06 7.43256320e-06 6.96771920e-06 8.25190534e-06\n",
      " 9.11966742e-06 8.91422331e-06 8.85046678e-06 9.62334121e-06\n",
      " 9.37349703e-06 9.57171946e-06 9.47902393e-06 8.37156961e-06\n",
      " 1.03620526e-05 1.02726476e-05 9.90878645e-06 9.87802986e-06\n",
      " 5.80264304e-06 8.52024788e-06 1.05910738e-05 9.97812607e-06\n",
      " 9.55717832e-06 3.96762798e-06 6.06038852e-06 9.79261850e-06\n",
      " 9.97669281e-06 9.09564607e-06 3.84259509e-06 5.43098148e-06\n",
      " 8.60750624e-06 9.24026478e-06 8.39101183e-06 5.81167295e-06\n",
      " 5.77120805e-06 6.05382290e-06 8.20018088e-06 9.36456872e-06\n",
      " 8.18300765e-06 7.85638317e-06 7.49499411e-06 9.36172485e-06\n",
      " 9.37299475e-06 9.21205989e-06 9.91975318e-06 9.43674076e-06\n",
      " 1.00791824e-05 8.50859056e-06 7.87546342e-06 9.45569199e-06\n",
      " 1.04914744e-05 1.02491073e-05 7.38150004e-06 6.03116366e-06\n",
      " 7.04559139e-06 8.60503854e-06 8.40957287e-06 5.44024988e-06\n",
      " 3.92318887e-06 8.46243955e-06 6.13915344e-06 5.94982166e-07\n",
      " 5.31751805e-09 6.94114501e-06 9.03245593e-06 3.51409053e-06\n",
      " 1.48000844e-07 4.70925844e-10 8.56312553e-06 6.44640108e-06\n",
      " 1.36170733e-06 3.42425851e-08 8.31295060e-11 6.84675533e-06\n",
      " 2.90271306e-06 3.17829522e-07 4.59736222e-09 1.14190738e-11\n",
      " 3.72239530e-06 8.53458631e-07 4.51387093e-08 2.94470211e-10\n",
      " 6.04431129e-13]\n",
      "argmax is 62\n",
      "The test parameter set that gives the highest expected imrovement is \n",
      "Theta1, Theta2, x = \n",
      "\n",
      "[0. 0. 0.]\n"
     ]
    }
   ],
   "source": [
    "#Calculates best_error and expected improvement\n",
    "best_error = best_error_advanced(model_y, y_exp)[0] #Scaler\n",
    "best_x = best_error_advanced(model_y, y_exp)[1] #1x3\n",
    "# print(\"best x\",best_x)\n",
    "# print(test_p[1])\n",
    "ei = calc_ei_advanced(best_error,model_mean,model_variance, y_exp) #1x6\n",
    "print(\"Best Error is: \",best_error)\n",
    "print(\"EI:\",ei)\n",
    "argmax_ei = np.argmax(ei)\n",
    "print(\"argmax is\", argmax_ei)\n",
    "print(\"The test parameter set that gives the highest expected imrovement is \\nTheta1, Theta2, x = \\n\")\n",
    "print(test_p_mesh_plot[argmax_ei])"
   ]
  },
  {
   "cell_type": "code",
   "execution_count": null,
   "id": "b23df364",
   "metadata": {},
   "outputs": [],
   "source": [
    "y_title = \"Model y Value\"\n",
    "print(y_plotter_adv(test_p, model_y, y_title,yval = True))"
   ]
  },
  {
   "cell_type": "code",
   "execution_count": null,
   "id": "e4f68bc2",
   "metadata": {},
   "outputs": [],
   "source": [
    "print(stdev_plotter_adv(test_p, model_stdev))"
   ]
  },
  {
   "cell_type": "code",
   "execution_count": null,
   "id": "9c7bc5cc",
   "metadata": {},
   "outputs": [],
   "source": [
    "print(ei_plotter_adv(test_p, ei))"
   ]
  },
  {
   "cell_type": "code",
   "execution_count": null,
   "id": "615d73f7",
   "metadata": {},
   "outputs": [],
   "source": [
    "print(error_plotter_adv(test_p, model_y, y_exp))"
   ]
  },
  {
   "cell_type": "raw",
   "id": "41a91929",
   "metadata": {},
   "source": [
    "Integrand_values = improvement_integral(best_error,model_mean,model_variance,y_exp)\n",
    "print(\"Lower Improvement Integrand is \\n\",Integrand_values[0] )\n",
    "print(\"Upper Improvement Integrand is \\n\",Integrand_values[1] )\n",
    "print(improvement_integral_plot(test_p,Integrand_values))"
   ]
  },
  {
   "cell_type": "raw",
   "id": "4ed7a10b",
   "metadata": {},
   "source": [
    "steps = 100\n",
    "term_num = 3\n",
    "index_num = 5\n",
    "\n",
    "I_terms = improvement_int_terms(best_error,model_mean,model_variance,y_exp,steps)\n",
    "\n",
    "improvement_int_terms_plot(I_terms,term_num, index_num)"
   ]
  }
 ],
 "metadata": {
  "kernelspec": {
   "display_name": "Python 3 (ipykernel)",
   "language": "python",
   "name": "python3"
  },
  "language_info": {
   "codemirror_mode": {
    "name": "ipython",
    "version": 3
   },
   "file_extension": ".py",
   "mimetype": "text/x-python",
   "name": "python",
   "nbconvert_exporter": "python",
   "pygments_lexer": "ipython3",
   "version": "3.9.7"
  }
 },
 "nbformat": 4,
 "nbformat_minor": 5
}
