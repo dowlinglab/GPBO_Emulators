{
 "cells": [
  {
   "cell_type": "markdown",
   "id": "172cb7dc",
   "metadata": {},
   "source": [
    "## Import Dependencies"
   ]
  },
  {
   "cell_type": "code",
   "execution_count": 1,
   "id": "5738fd89",
   "metadata": {},
   "outputs": [
    {
     "name": "stdout",
     "output_type": "stream",
     "text": [
      "CPU times: total: 3.95 s\n",
      "Wall time: 4.77 s\n"
     ]
    }
   ],
   "source": [
    "%%time\n",
    "\n",
    "import sys\n",
    "import gpytorch\n",
    "import numpy as np\n",
    "import pandas as pd\n",
    "import torch\n",
    "from datetime import datetime\n",
    "from scipy.stats import qmc\n",
    "import itertools\n",
    "from itertools import combinations_with_replacement, combinations, permutations\n",
    "import copy\n",
    "import Tasmanian\n",
    "\n",
    "import bo_methods_lib\n",
    "from bo_methods_lib.bo_methods_lib.GPBO_Classes_New import * #Fix this later\n",
    "from bo_methods_lib.bo_methods_lib.GPBO_Class_fxns import * #Fix this later\n",
    "from bo_methods_lib.bo_methods_lib.GPBO_Classes_plotters import * #Fix this later\n",
    "import pickle\n",
    "import gzip\n",
    "\n",
    "warnings.simplefilter(\"ignore\", category=RuntimeWarning)\n",
    "import warnings\n",
    "from sklearn.exceptions import ConvergenceWarning\n",
    "warnings.filterwarnings(\"ignore\", category=ConvergenceWarning)"
   ]
  },
  {
   "cell_type": "markdown",
   "id": "e005c837",
   "metadata": {},
   "source": [
    "## Define Method and DateTime"
   ]
  },
  {
   "cell_type": "code",
   "execution_count": 2,
   "id": "2387d98a",
   "metadata": {},
   "outputs": [
    {
     "name": "stdout",
     "output_type": "stream",
     "text": [
      "Method Name:  B2\n",
      "Emulator?:  True\n",
      "Obj Func:  LN_OBJ\n",
      "Sparse Grid?:  False\n"
     ]
    }
   ],
   "source": [
    "#Generate Method (except last part)\n",
    "meth_name = Method_name_enum(4)\n",
    "method = GPBO_Methods(meth_name)\n",
    "\n",
    "print(\"Method Name: \", method.method_name.name)\n",
    "print(\"Emulator?: \", method.emulator)\n",
    "print(\"Obj Func: \", method.obj.name)\n",
    "print(\"Sparse Grid?: \", method.sparse_grid)\n",
    "\n",
    "#Set Date and Time\n",
    "dateTimeObj = datetime.now()\n",
    "timestampStr = dateTimeObj.strftime(\"%d-%b-%Y (%H:%M:%S)\")\n",
    "# print(\"Date and Time: \", timestampStr)\n",
    "# DateTime = dateTimeObj.strftime(\"%Y/%m/%d/%H-%M-%S%p\")\n",
    "DateTime = dateTimeObj.strftime(\"%Y/%m/%d/%H-%M\")\n",
    "DateTime = None ##For Testing"
   ]
  },
  {
   "cell_type": "markdown",
   "id": "06e36759",
   "metadata": {},
   "source": [
    "# Case Study GPBO Driver Test"
   ]
  },
  {
   "cell_type": "code",
   "execution_count": 3,
   "id": "5ec1b524",
   "metadata": {},
   "outputs": [
    {
     "name": "stdout",
     "output_type": "stream",
     "text": [
      "CS Name:  CS1\n",
      "t1t2\n",
      "2\n"
     ]
    }
   ],
   "source": [
    "cs_name_val = 1\n",
    "CS_name  = CS_name_enum(cs_name_val)\n",
    "print(\"CS Name: \", CS_name.name)\n",
    "\n",
    "param_name_str = set_param_str(cs_name_val)\n",
    "print(param_name_str)\n",
    "indecies_to_consider = set_idcs_to_consider(cs_name_val, param_name_str)\n",
    "print(len(indecies_to_consider))\n",
    "\n",
    "ep0 = 1\n",
    "ep_enum = Ep_enum(1)\n",
    "sep_fact = 1.0\n",
    "normalize = False\n",
    "noise_mean = 0\n",
    "noise_std = 0.01\n",
    "# noise_std = 0.0\n",
    "kernel = Kernel_enum(1)\n",
    "lenscl = None\n",
    "outputscl = None #outpulscl tuning is critical for log scaled obj fxns not to terminate early w/ regret (stdv affected)\n",
    "retrain_GP = 25\n",
    "reoptimize_obj = 10\n",
    "bo_iter_tot = 10\n",
    "bo_run_tot = 1\n",
    "save_data = False\n",
    "seed = 1\n",
    "ei_tol = 1e-6\n",
    "obj_tol = 1e-6\n",
    "\n",
    "num_x_data = 5\n",
    "gen_meth_x = Gen_meth_enum(2) #Note: Has to be the same for validation and sim data\n",
    "num_theta_data = 10*len(indecies_to_consider)\n",
    "gen_meth_theta = Gen_meth_enum(1)"
   ]
  },
  {
   "cell_type": "code",
   "execution_count": 4,
   "id": "8caf2f1d",
   "metadata": {},
   "outputs": [],
   "source": [
    "simulator = simulator_helper_test_fxns(CS_name, indecies_to_consider, noise_mean, noise_std, normalize, seed)\n",
    "\n",
    "#Generate Exp Data\n",
    "exp_data = simulator.gen_exp_data(num_x_data, gen_meth_x)\n",
    "\n",
    "#Generate Sim Data\n",
    "sim_data = simulator.gen_sim_data(num_theta_data, num_x_data, gen_meth_theta, gen_meth_x, sep_fact, False)\n",
    "sim_sse_data = simulator.sim_data_to_sse_sim_data(method, sim_data, exp_data, sep_fact, False)\n",
    "\n",
    "#Generate Validation Data (for small case studies only)\n",
    "if cs_name_val <= 2:\n",
    "    gen_heat_map_data = True\n",
    "    num_theta_data_val = 20\n",
    "    gen_meth_theta_val = Gen_meth_enum(2)\n",
    "    val_data = simulator.gen_sim_data(num_theta_data_val, num_x_data, gen_meth_theta_val, gen_meth_x, sep_fact, True)\n",
    "    val_sse_data = simulator.sim_data_to_sse_sim_data(method, val_data, exp_data, sep_fact, True)\n",
    "    \n",
    "else:\n",
    "    num_theta_data_val = 0\n",
    "    gen_meth_theta_val = None\n",
    "    val_data = None\n",
    "    val_sse_data = None\n",
    "    gen_heat_map_data = False\n",
    "\n",
    "#Set Ep_Bias\n",
    "if ep_enum.value == 1:\n",
    "    ep_bias = Exploration_Bias(ep0, None, ep_enum, None, None, None, None, None, None, None)\n",
    "elif ep_enum.value == 2:\n",
    "    ep_bias = Exploration_Bias(ep0, None, ep_enum, None, bo_iter_tot, None, 0.5, None, None, None)\n",
    "elif ep_enum.value == 3:\n",
    "    ep_bias = Exploration_Bias(ep0, None, ep_enum, None, None, 1.5, None, None, None, None)\n",
    "else:\n",
    "    ep_bias = Exploration_Bias(None, None, ep_enum, None, None, None, None, None, None, None)\n",
    "    \n",
    "#Set Cs_params and Simulator\n",
    "cs_name = CS_name.name + \"_BO_method_\" + meth_name.name + \"_sep_fact_\" + str(round(sep_fact,2))\n",
    "cs_params = CaseStudyParameters(cs_name, ep0, sep_fact, normalize, kernel, lenscl, outputscl, retrain_GP, \n",
    "                                reoptimize_obj, gen_heat_map_data, bo_iter_tot, bo_run_tot, save_data, DateTime, \n",
    "                                seed, ei_tol, obj_tol)\n",
    "\n",
    "#Initialize Driver\n",
    "driver = GPBO_Driver(cs_params, method, simulator, exp_data, sim_data, sim_sse_data, val_data, val_sse_data, None, \n",
    "                     ep_bias, gen_meth_theta)"
   ]
  },
  {
   "cell_type": "code",
   "execution_count": 5,
   "id": "4c54cd42",
   "metadata": {},
   "outputs": [],
   "source": [
    "#Run Bo iterations/restarts\n",
    "restart_bo_results = driver.run_bo_restarts()"
   ]
  },
  {
   "cell_type": "code",
   "execution_count": 6,
   "id": "4a523aa9",
   "metadata": {},
   "outputs": [
    {
     "name": "stdout",
     "output_type": "stream",
     "text": [
      "\n",
      "{'DateTime String': None, 'Method Name Enum Value': 4, 'Case Study Name': 'CS1_BO_method_B2_sep_fact_1.0', 'Number of Parameters': 2, 'Exploration Bias Method Value': 1, 'Separation Factor': 1.0, 'Normalize': False, 'Initial Kernel': <Kernel_enum.MAT_52: 1>, 'Initial Lengthscale': None, 'Initial Outputscale': None, 'Retrain GP': 25, 'Reoptimize Obj': 10, 'Heat Map Points Generated': True, 'Max BO Iters': 10, 'Number of Workflow Restarts': 1, 'Seed': 1, 'EI Tolerance': 1e-06, 'Obj Improvement Tolerance': 1e-06, 'Theta Generation Enum Value': 1}\n",
      "max_budget\n",
      "   index  Best Error  Exploration Bias     Max EI  \\\n",
      "0      0    1.675753               1.0  36.246873   \n",
      "1      1   -8.292926               1.0   0.589472   \n",
      "2      2   -8.576242               1.0   0.129007   \n",
      "3      3   -8.576242               1.0  22.879516   \n",
      "4      4   -9.259893               1.0   0.190864   \n",
      "5      5   -9.259893               1.0  23.254844   \n",
      "6      6  -10.403458               1.0   0.075390   \n",
      "7      7  -10.403458               1.0  25.941033   \n",
      "8      8  -10.403458               1.0   0.066269   \n",
      "9      9  -10.403458               1.0  24.797922   \n",
      "\n",
      "                                  Theta Max EI    Min Obj  Min Obj Act  \\\n",
      "0    [0.9980336055422213, -0.9975052170892876]  -8.226290    -8.393289   \n",
      "1    [0.9982972068779329, -0.9978338351245608]  -8.590915    -8.760572   \n",
      "2  [-0.0700858728750496, -0.46282860653342556]  -8.897847    -9.070272   \n",
      "3    [0.9970814907447444, -0.9994579855084692]  -9.038227    -9.206642   \n",
      "4  [-0.11765610972487504, -1.5560592052129594]  -9.298154    -9.476942   \n",
      "5    [0.9997015428943714, -0.9990695246095948]  -9.489355    -9.670013   \n",
      "6  [-0.7488146812834009, -0.12364266780360382]  -9.705291    -9.886897   \n",
      "7    [0.9977274025666455, -0.9994542811453361]  -9.724139    -9.907334   \n",
      "8    [0.2603843149657432, -1.7409225706319762]  -9.918668   -10.103797   \n",
      "9     [0.998806281956016, -0.9988761231297001] -10.057456   -10.241610   \n",
      "\n",
      "                               Theta Min Obj Min Obj Cum.  \\\n",
      "0   [0.9982223689728964, -0.997606493378509]    -8.393289   \n",
      "1  [0.9985464178270624, -0.9980024585823482]    -8.760572   \n",
      "2   [0.998769056918346, -0.9982860172640576]    -9.070272   \n",
      "3  [0.9988522902166225, -0.9983985473306753]    -9.206642   \n",
      "4  [0.9990090803309547, -0.9985985449334965]    -9.476942   \n",
      "5  [0.9991075675836888, -0.9987259991058213]    -9.670013   \n",
      "6  [0.9992094702870623, -0.9988548429781013]    -9.886897   \n",
      "7  [0.9992126620680346, -0.9988674722187252]    -9.907334   \n",
      "8  [0.9992917406855534, -0.9989723302271738]   -10.103797   \n",
      "9  [0.9993429027851706, -0.9990399506778836]    -10.24161   \n",
      "\n",
      "                          Theta Min Obj Cum.     Regret     Speed   Time/Iter  \n",
      "0   [0.9982223689728964, -0.997606493378509]        inf       inf  343.784594  \n",
      "1  [0.9985464178270624, -0.9980024585823482]   5.118520  0.344474  232.925135  \n",
      "2   [0.998769056918346, -0.9982860172640576]   5.857806  0.068900   22.653831  \n",
      "3  [0.9988522902166225, -0.9983985473306753]   6.492245  0.318760  148.547852  \n",
      "4  [0.9990090803309547, -0.9985985449334965]   7.123913  0.088811   39.145490  \n",
      "5  [0.9991075675836888, -0.9987259991058213]   8.015224  0.457768  301.550911  \n",
      "6  [0.9992094702870623, -0.9988548429781013]   8.388607  0.115227   43.573592  \n",
      "7  [0.9992126620680346, -0.9988674722187252]   8.968642  0.454812  204.672268  \n",
      "8  [0.9992917406855534, -0.9989723302271738]   9.411285  0.124255   21.767956  \n",
      "9  [0.9993429027851706, -0.9990399506778836]  10.462930  0.609077  260.273923  \n",
      "Empty DataFrame\n",
      "Columns: []\n",
      "Index: []\n",
      "[ 0.9993429  -0.99903995]\n",
      "[ 1. -1.]\n",
      "[array([576.65751582, 257.80139868,   2.967469  ]), 0.0001, 10000.00000000001]\n"
     ]
    }
   ],
   "source": [
    "#Define the run number and bo iter in question and pull the max bo iters and runs\n",
    "run_num = -1\n",
    "bo_iter = -1\n",
    "runs = restart_bo_results[run_num].configuration[\"Number of Workflow Restarts\"]\n",
    "num_sets = restart_bo_results[run_num].configuration[\"Max BO Iters\"]\n",
    "\n",
    "#Print Results\n",
    "print(\"\")\n",
    "print(restart_bo_results[run_num].configuration)\n",
    "# print(loaded_results[run_num].list_gp_emulator_class[bo_iter])\n",
    "# print(len(loaded_results[run_num].list_heat_map_data))\n",
    "print(restart_bo_results[run_num].why_term)\n",
    "print(restart_bo_results[run_num].results_df)\n",
    "print(restart_bo_results[run_num].max_ei_details_df)\n",
    "print(restart_bo_results[run_num].results_df[\"Theta Min Obj Cum.\"].iloc[-1])\n",
    "print(restart_bo_results[run_num].simulator_class.theta_true)\n",
    "print(restart_bo_results[run_num].list_gp_emulator_class[bo_iter].trained_hyperparams)"
   ]
  },
  {
   "cell_type": "code",
   "execution_count": 7,
   "id": "59d76efb",
   "metadata": {},
   "outputs": [],
   "source": [
    "# restart_bo_results[run_num].max_ei_details_df.to_csv('test_sparse_grid_data.csv', index=False, header = True)"
   ]
  },
  {
   "cell_type": "code",
   "execution_count": null,
   "id": "8f31913c",
   "metadata": {},
   "outputs": [],
   "source": []
  }
 ],
 "metadata": {
  "kernelspec": {
   "display_name": "Python 3 (ipykernel)",
   "language": "python",
   "name": "python3"
  },
  "language_info": {
   "codemirror_mode": {
    "name": "ipython",
    "version": 3
   },
   "file_extension": ".py",
   "mimetype": "text/x-python",
   "name": "python",
   "nbconvert_exporter": "python",
   "pygments_lexer": "ipython3",
   "version": "3.11.5"
  }
 },
 "nbformat": 4,
 "nbformat_minor": 5
}
