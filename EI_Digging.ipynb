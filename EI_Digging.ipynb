{
 "cells": [
  {
   "cell_type": "markdown",
   "id": "172cb7dc",
   "metadata": {},
   "source": [
    "## Import Dependencies"
   ]
  },
  {
   "cell_type": "code",
   "execution_count": 1,
   "id": "5738fd89",
   "metadata": {},
   "outputs": [
    {
     "name": "stderr",
     "output_type": "stream",
     "text": [
      "/afs/crc.nd.edu/user/m/mcarlozo/.conda/envs/Toy_Problem_env/lib/python3.9/site-packages/tqdm/auto.py:21: TqdmWarning: IProgress not found. Please update jupyter and ipywidgets. See https://ipywidgets.readthedocs.io/en/stable/user_install.html\n",
      "  from .autonotebook import tqdm as notebook_tqdm\n"
     ]
    },
    {
     "name": "stdout",
     "output_type": "stream",
     "text": [
      "CPU times: user 2.31 s, sys: 392 ms, total: 2.7 s\n",
      "Wall time: 2.73 s\n"
     ]
    }
   ],
   "source": [
    "%%time\n",
    "\n",
    "import sys\n",
    "import gpytorch\n",
    "import numpy as np\n",
    "import pandas as pd\n",
    "import torch\n",
    "from datetime import datetime\n",
    "from scipy.stats import qmc\n",
    "import itertools\n",
    "from itertools import combinations_with_replacement, combinations, permutations\n",
    "import copy\n",
    "import Tasmanian\n",
    "\n",
    "import bo_methods_lib\n",
    "from bo_methods_lib.bo_methods_lib.GPBO_Classes_New import * #Fix this later\n",
    "from bo_methods_lib.bo_methods_lib.GPBO_Class_fxns import * #Fix this later\n",
    "from bo_methods_lib.bo_methods_lib.GPBO_Classes_plotters import * #Fix this later\n",
    "import pickle\n",
    "import gzip\n",
    "\n",
    "warnings.simplefilter(\"ignore\", category=RuntimeWarning)\n",
    "import warnings\n",
    "from sklearn.exceptions import ConvergenceWarning\n",
    "warnings.filterwarnings(\"ignore\", category=ConvergenceWarning)"
   ]
  },
  {
   "cell_type": "markdown",
   "id": "e005c837",
   "metadata": {},
   "source": [
    "## Define Method and DateTime"
   ]
  },
  {
   "cell_type": "code",
   "execution_count": 2,
   "id": "2387d98a",
   "metadata": {},
   "outputs": [
    {
     "name": "stdout",
     "output_type": "stream",
     "text": [
      "Method Name:  D2\n",
      "Emulator?:  True\n",
      "Obj Func:  OBJ\n",
      "Sparse Grid?:  False\n"
     ]
    }
   ],
   "source": [
    "#Generate Method (except last part)\n",
    "meth_name = Method_name_enum(6)\n",
    "method = GPBO_Methods(meth_name)\n",
    "\n",
    "print(\"Method Name: \", method.method_name.name)\n",
    "print(\"Emulator?: \", method.emulator)\n",
    "print(\"Obj Func: \", method.obj.name)\n",
    "print(\"Sparse Grid?: \", method.sparse_grid)\n",
    "\n",
    "#Set Date and Time\n",
    "dateTimeObj = datetime.now()\n",
    "timestampStr = dateTimeObj.strftime(\"%d-%b-%Y (%H:%M:%S)\")\n",
    "# print(\"Date and Time: \", timestampStr)\n",
    "# DateTime = dateTimeObj.strftime(\"%Y/%m/%d/%H-%M-%S%p\")\n",
    "DateTime = dateTimeObj.strftime(\"%Y/%m/%d/%H-%M\")\n",
    "DateTime = None ##For Testing"
   ]
  },
  {
   "cell_type": "markdown",
   "id": "06e36759",
   "metadata": {},
   "source": [
    "# Case Study GPBO Driver Test"
   ]
  },
  {
   "cell_type": "code",
   "execution_count": 3,
   "id": "5ec1b524",
   "metadata": {},
   "outputs": [
    {
     "name": "stdout",
     "output_type": "stream",
     "text": [
      "CS Name:  CS1\n",
      "t1t2\n",
      "2\n"
     ]
    }
   ],
   "source": [
    "cs_name_val = 1\n",
    "CS_name  = CS_name_enum(cs_name_val)\n",
    "print(\"CS Name: \", CS_name.name)\n",
    "\n",
    "param_name_str = set_param_str(cs_name_val)\n",
    "print(param_name_str)\n",
    "indecies_to_consider = set_idcs_to_consider(cs_name_val, param_name_str)\n",
    "print(len(indecies_to_consider))\n",
    "\n",
    "ep0 = 1\n",
    "ep_enum = Ep_enum(1)\n",
    "sep_fact = 1.0\n",
    "normalize = False\n",
    "noise_mean = 0\n",
    "noise_std = 0.01\n",
    "# noise_std = 0.0\n",
    "kernel = Kernel_enum(1)\n",
    "lenscl = None\n",
    "outputscl = None #outpulscl tuning is critical for log scaled obj fxns not to terminate early w/ regret (stdv affected)\n",
    "retrain_GP = 5\n",
    "reoptimize_obj = 5\n",
    "bo_iter_tot = 40\n",
    "bo_run_tot = 1\n",
    "save_data = False\n",
    "seed = 1\n",
    "ei_tol = 1e-6\n",
    "obj_tol = 1e-6\n",
    "\n",
    "num_x_data = 5\n",
    "gen_meth_x = Gen_meth_enum(2) #Note: Has to be the same for validation and sim data\n",
    "num_theta_data = 10*len(indecies_to_consider)\n",
    "gen_meth_theta = Gen_meth_enum(1)"
   ]
  },
  {
   "cell_type": "code",
   "execution_count": 4,
   "id": "8caf2f1d",
   "metadata": {},
   "outputs": [],
   "source": [
    "simulator = simulator_helper_test_fxns(CS_name, indecies_to_consider, noise_mean, noise_std, normalize, seed)\n",
    "\n",
    "#Generate Exp Data\n",
    "exp_data = simulator.gen_exp_data(num_x_data, gen_meth_x)\n",
    "\n",
    "#Generate Sim Data\n",
    "sim_data = simulator.gen_sim_data(num_theta_data, num_x_data, gen_meth_theta, gen_meth_x, sep_fact, False)\n",
    "sim_sse_data = simulator.sim_data_to_sse_sim_data(method, sim_data, exp_data, sep_fact, False)\n",
    "\n",
    "#Generate Validation Data (for small case studies only)\n",
    "if cs_name_val <= 2:\n",
    "    gen_heat_map_data = True\n",
    "    num_theta_data_val = 20\n",
    "    gen_meth_theta_val = Gen_meth_enum(2)\n",
    "    val_data = simulator.gen_sim_data(num_theta_data_val, num_x_data, gen_meth_theta_val, gen_meth_x, sep_fact, True)\n",
    "    val_sse_data = simulator.sim_data_to_sse_sim_data(method, val_data, exp_data, sep_fact, True)\n",
    "    \n",
    "else:\n",
    "    num_theta_data_val = 0\n",
    "    gen_meth_theta_val = None\n",
    "    val_data = None\n",
    "    val_sse_data = None\n",
    "    gen_heat_map_data = False\n",
    "\n",
    "#Set Ep_Bias\n",
    "if ep_enum.value == 1:\n",
    "    ep_bias = Exploration_Bias(ep0, None, ep_enum, None, None, None, None, None, None, None)\n",
    "elif ep_enum.value == 2:\n",
    "    ep_bias = Exploration_Bias(ep0, None, ep_enum, None, bo_iter_tot, None, 0.5, None, None, None)\n",
    "elif ep_enum.value == 3:\n",
    "    ep_bias = Exploration_Bias(ep0, None, ep_enum, None, None, 1.5, None, None, None, None)\n",
    "else:\n",
    "    ep_bias = Exploration_Bias(None, None, ep_enum, None, None, None, None, None, None, None)\n",
    "    \n",
    "#Set Cs_params and Simulator\n",
    "cs_name = CS_name.name + \"_BO_method_\" + meth_name.name + \"_sep_fact_\" + str(round(sep_fact,2))\n",
    "cs_params = CaseStudyParameters(cs_name, ep0, sep_fact, normalize, kernel, lenscl, outputscl, retrain_GP, \n",
    "                                reoptimize_obj, gen_heat_map_data, bo_iter_tot, bo_run_tot, save_data, DateTime, \n",
    "                                seed, ei_tol, obj_tol)\n",
    "\n",
    "#Initialize Driver\n",
    "driver = GPBO_Driver(cs_params, method, simulator, exp_data, sim_data, sim_sse_data, val_data, val_sse_data, None, \n",
    "                     ep_bias, gen_meth_theta)"
   ]
  },
  {
   "cell_type": "code",
   "execution_count": 5,
   "id": "4c54cd42",
   "metadata": {},
   "outputs": [],
   "source": [
    "#Run Bo iterations/restarts\n",
    "restart_bo_results = driver.run_bo_restarts()"
   ]
  },
  {
   "cell_type": "code",
   "execution_count": 6,
   "id": "4a523aa9",
   "metadata": {},
   "outputs": [
    {
     "name": "stdout",
     "output_type": "stream",
     "text": [
      "\n",
      "{'DateTime String': None, 'Method Name Enum Value': 6, 'Case Study Name': 'CS1_BO_method_D2_sep_fact_1.0', 'Number of Parameters': 2, 'Exploration Bias Method Value': 1, 'Separation Factor': 1.0, 'Normalize': False, 'Initial Kernel': <Kernel_enum.MAT_52: 1>, 'Initial Lengthscale': None, 'Initial Outputscale': None, 'Retrain GP': 5, 'Reoptimize Obj': 5, 'Heat Map Points Generated': True, 'Max BO Iters': 40, 'Number of Workflow Restarts': 1, 'Seed': 1, 'EI Tolerance': 1e-06, 'Obj Improvement Tolerance': 1e-06, 'Theta Generation Enum Value': 1}\n",
      "ei-regret\n",
      "   index  Best Error  Exploration Bias    Max EI  \\\n",
      "0      0    5.342819               1.0  0.000000   \n",
      "1      1    5.342819               1.0  0.009448   \n",
      "2      2    0.000363               1.0  0.000000   \n",
      "3      3    0.000363               1.0  0.000000   \n",
      "4      4    0.000363               1.0  0.000000   \n",
      "\n",
      "                                Theta Max EI   Min Obj  Min Obj Act  \\\n",
      "0  [0.3157894736842106, -0.3157894736842106]  0.000374     0.000081   \n",
      "1  [0.9940537602252772, -0.9994850839540518]  0.000282     0.000357   \n",
      "2  [1.3684210526315788, -0.3157894736842106]  0.000172     0.000743   \n",
      "3                 [1.1578947368421053, -2.0]  0.000179     0.001514   \n",
      "4    [1.789473684210526, 1.5789473684210522]  0.000157     0.001521   \n",
      "\n",
      "                               Theta Min Obj Min Obj Cum.  \\\n",
      "0  [0.9972752105333251, -1.0004377758514982]     0.000081   \n",
      "1  [0.9940789697596286, -0.9995630798700266]     0.000081   \n",
      "2  [0.9932009955899509, -0.9971290269307878]     0.000081   \n",
      "3  [0.9906243126346574, -0.9956773188641039]     0.000081   \n",
      "4  [0.9902064465737702, -0.9959355247555408]     0.000081   \n",
      "\n",
      "                          Theta Min Obj Cum.    Regret     Speed  Time/Iter  \n",
      "0  [0.9972752105333251, -1.0004377758514982]       inf       inf   4.240583  \n",
      "1  [0.9972752105333251, -1.0004377758514982]  0.000770  0.027366   4.223889  \n",
      "2  [0.9972752105333251, -1.0004377758514982]  0.000157  0.029615   3.927077  \n",
      "3  [0.9972752105333251, -1.0004377758514982]  0.000095  0.004910   4.037309  \n",
      "4  [0.9972752105333251, -1.0004377758514982]  0.000348  0.009228   4.116107  \n",
      "Empty DataFrame\n",
      "Columns: []\n",
      "Index: []\n",
      "[ 0.99727521 -1.00043778]\n",
      "[ 1. -1.]\n",
      "[array([67.33197222, 76.12431198,  3.24215611]), 0.0001, 885.6968903117677]\n"
     ]
    }
   ],
   "source": [
    "#Define the run number and bo iter in question and pull the max bo iters and runs\n",
    "run_num = -1\n",
    "bo_iter = -1\n",
    "runs = restart_bo_results[run_num].configuration[\"Number of Workflow Restarts\"]\n",
    "num_sets = restart_bo_results[run_num].configuration[\"Max BO Iters\"]\n",
    "\n",
    "#Print Results\n",
    "print(\"\")\n",
    "print(restart_bo_results[run_num].configuration)\n",
    "# print(loaded_results[run_num].list_gp_emulator_class[bo_iter])\n",
    "# print(len(loaded_results[run_num].list_heat_map_data))\n",
    "print(restart_bo_results[run_num].why_term)\n",
    "print(restart_bo_results[run_num].results_df)\n",
    "print(restart_bo_results[run_num].max_ei_details_df)\n",
    "print(restart_bo_results[run_num].results_df[\"Theta Min Obj Cum.\"].iloc[-1])\n",
    "print(restart_bo_results[run_num].simulator_class.theta_true)\n",
    "print(restart_bo_results[run_num].list_gp_emulator_class[bo_iter].trained_hyperparams)"
   ]
  },
  {
   "cell_type": "code",
   "execution_count": 7,
   "id": "59d76efb",
   "metadata": {},
   "outputs": [],
   "source": [
    "# restart_bo_results[run_num].max_ei_details_df.to_csv('test_sparse_grid_data.csv', index=False, header = True)"
   ]
  },
  {
   "cell_type": "code",
   "execution_count": null,
   "id": "8f31913c",
   "metadata": {},
   "outputs": [],
   "source": []
  }
 ],
 "metadata": {
  "kernelspec": {
   "display_name": "Python 3 (ipykernel)",
   "language": "python",
   "name": "python3"
  },
  "language_info": {
   "codemirror_mode": {
    "name": "ipython",
    "version": 3
   },
   "file_extension": ".py",
   "mimetype": "text/x-python",
   "name": "python",
   "nbconvert_exporter": "python",
   "pygments_lexer": "ipython3",
   "version": "3.9.12"
  }
 },
 "nbformat": 4,
 "nbformat_minor": 5
}
