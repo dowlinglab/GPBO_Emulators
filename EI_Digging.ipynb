{
 "cells": [
  {
   "cell_type": "markdown",
   "id": "172cb7dc",
   "metadata": {},
   "source": [
    "## Import Dependencies"
   ]
  },
  {
   "cell_type": "code",
   "execution_count": 1,
   "id": "5738fd89",
   "metadata": {},
   "outputs": [
    {
     "name": "stderr",
     "output_type": "stream",
     "text": [
      "/afs/crc.nd.edu/user/m/mcarlozo/.conda/envs/Toy_Problem_env/lib/python3.9/site-packages/tqdm/auto.py:21: TqdmWarning: IProgress not found. Please update jupyter and ipywidgets. See https://ipywidgets.readthedocs.io/en/stable/user_install.html\n",
      "  from .autonotebook import tqdm as notebook_tqdm\n"
     ]
    },
    {
     "name": "stdout",
     "output_type": "stream",
     "text": [
      "CPU times: user 2.52 s, sys: 310 ms, total: 2.83 s\n",
      "Wall time: 3.22 s\n"
     ]
    }
   ],
   "source": [
    "%%time\n",
    "\n",
    "import sys\n",
    "import gpytorch\n",
    "import numpy as np\n",
    "import pandas as pd\n",
    "import torch\n",
    "from datetime import datetime\n",
    "from scipy.stats import qmc\n",
    "import itertools\n",
    "from itertools import combinations_with_replacement, combinations, permutations\n",
    "import copy\n",
    "import Tasmanian\n",
    "\n",
    "import bo_methods_lib\n",
    "from bo_methods_lib.bo_methods_lib.GPBO_Classes_New import * #Fix this later\n",
    "from bo_methods_lib.bo_methods_lib.GPBO_Class_fxns import * #Fix this later\n",
    "from bo_methods_lib.bo_methods_lib.GPBO_Classes_plotters import * #Fix this later\n",
    "import pickle\n",
    "import gzip\n",
    "\n",
    "warnings.simplefilter(\"ignore\", category=RuntimeWarning)\n",
    "import warnings\n",
    "from sklearn.exceptions import ConvergenceWarning\n",
    "warnings.filterwarnings(\"ignore\", category=ConvergenceWarning)"
   ]
  },
  {
   "cell_type": "markdown",
   "id": "e005c837",
   "metadata": {},
   "source": [
    "## Define Method and DateTime"
   ]
  },
  {
   "cell_type": "code",
   "execution_count": 2,
   "id": "2387d98a",
   "metadata": {},
   "outputs": [
    {
     "name": "stdout",
     "output_type": "stream",
     "text": [
      "Method Name:  A2\n",
      "Emulator?:  True\n",
      "Obj Func:  OBJ\n",
      "Sparse Grid?:  False\n"
     ]
    }
   ],
   "source": [
    "#Generate Method (except last part)\n",
    "meth_name = Method_name_enum(3)\n",
    "method = GPBO_Methods(meth_name)\n",
    "\n",
    "print(\"Method Name: \", method.method_name.name)\n",
    "print(\"Emulator?: \", method.emulator)\n",
    "print(\"Obj Func: \", method.obj.name)\n",
    "print(\"Sparse Grid?: \", method.sparse_grid)\n",
    "\n",
    "#Set Date and Time\n",
    "dateTimeObj = datetime.now()\n",
    "timestampStr = dateTimeObj.strftime(\"%d-%b-%Y (%H:%M:%S)\")\n",
    "# print(\"Date and Time: \", timestampStr)\n",
    "# DateTime = dateTimeObj.strftime(\"%Y/%m/%d/%H-%M-%S%p\")\n",
    "DateTime = dateTimeObj.strftime(\"%Y/%m/%d/%H-%M\")\n",
    "DateTime = None ##For Testing"
   ]
  },
  {
   "cell_type": "markdown",
   "id": "06e36759",
   "metadata": {},
   "source": [
    "# Case Study GPBO Driver Test"
   ]
  },
  {
   "cell_type": "code",
   "execution_count": 3,
   "id": "5ec1b524",
   "metadata": {},
   "outputs": [
    {
     "name": "stdout",
     "output_type": "stream",
     "text": [
      "CS Name:  CS1\n",
      "t1t2\n",
      "2\n"
     ]
    }
   ],
   "source": [
    "cs_name_val = 1\n",
    "CS_name  = CS_name_enum(cs_name_val)\n",
    "print(\"CS Name: \", CS_name.name)\n",
    "\n",
    "param_name_str = set_param_str(cs_name_val)\n",
    "print(param_name_str)\n",
    "indecies_to_consider = set_idcs_to_consider(cs_name_val, param_name_str)\n",
    "print(len(indecies_to_consider))\n",
    "\n",
    "ep0 = 1\n",
    "ep_enum = Ep_enum(1)\n",
    "sep_fact = 1.0\n",
    "normalize = False\n",
    "noise_mean = 0\n",
    "noise_std = 0.01\n",
    "# noise_std = 0.0\n",
    "kernel = Kernel_enum(1)\n",
    "lenscl = None\n",
    "outputscl = None #outpulscl tuning is critical for log scaled obj fxns not to terminate early w/ regret (stdv affected)\n",
    "retrain_GP = 5\n",
    "reoptimize_obj = 5\n",
    "bo_iter_tot = 20\n",
    "bo_run_tot = 1\n",
    "save_data = False\n",
    "seed = 1\n",
    "ei_tol = 1e-6\n",
    "obj_tol = 1e-6\n",
    "\n",
    "num_x_data = 5\n",
    "gen_meth_x = Gen_meth_enum(2) #Note: Has to be the same for validation and sim data\n",
    "num_theta_data = 10*len(indecies_to_consider)\n",
    "gen_meth_theta = Gen_meth_enum(1)"
   ]
  },
  {
   "cell_type": "code",
   "execution_count": 4,
   "id": "8caf2f1d",
   "metadata": {},
   "outputs": [],
   "source": [
    "simulator = simulator_helper_test_fxns(CS_name, indecies_to_consider, noise_mean, noise_std, normalize, seed)\n",
    "\n",
    "#Generate Exp Data\n",
    "exp_data = simulator.gen_exp_data(num_x_data, gen_meth_x)\n",
    "\n",
    "#Generate Sim Data\n",
    "sim_data = simulator.gen_sim_data(num_theta_data, num_x_data, gen_meth_theta, gen_meth_x, sep_fact, False)\n",
    "sim_sse_data = simulator.sim_data_to_sse_sim_data(method, sim_data, exp_data, sep_fact, False)\n",
    "\n",
    "#Generate Validation Data (for small case studies only)\n",
    "if cs_name_val <= 2:\n",
    "    gen_heat_map_data = True\n",
    "    num_theta_data_val = 20\n",
    "    gen_meth_theta_val = Gen_meth_enum(2)\n",
    "    val_data = simulator.gen_sim_data(num_theta_data_val, num_x_data, gen_meth_theta_val, gen_meth_x, sep_fact, True)\n",
    "    val_sse_data = simulator.sim_data_to_sse_sim_data(method, val_data, exp_data, sep_fact, True)\n",
    "    \n",
    "else:\n",
    "    num_theta_data_val = 0\n",
    "    gen_meth_theta_val = None\n",
    "    val_data = None\n",
    "    val_sse_data = None\n",
    "    gen_heat_map_data = False\n",
    "\n",
    "#Set Ep_Bias\n",
    "if ep_enum.value == 1:\n",
    "    ep_bias = Exploration_Bias(ep0, None, ep_enum, None, None, None, None, None, None, None)\n",
    "elif ep_enum.value == 2:\n",
    "    ep_bias = Exploration_Bias(ep0, None, ep_enum, None, bo_iter_tot, None, 0.5, None, None, None)\n",
    "elif ep_enum.value == 3:\n",
    "    ep_bias = Exploration_Bias(ep0, None, ep_enum, None, None, 1.5, None, None, None, None)\n",
    "else:\n",
    "    ep_bias = Exploration_Bias(None, None, ep_enum, None, None, None, None, None, None, None)\n",
    "    \n",
    "#Set Cs_params and Simulator\n",
    "cs_name = CS_name.name + \"_BO_method_\" + meth_name.name + \"_sep_fact_\" + str(round(sep_fact,2))\n",
    "cs_params = CaseStudyParameters(cs_name, ep0, sep_fact, normalize, kernel, lenscl, outputscl, retrain_GP, \n",
    "                                reoptimize_obj, gen_heat_map_data, bo_iter_tot, bo_run_tot, save_data, DateTime, \n",
    "                                seed, ei_tol, obj_tol)\n",
    "\n",
    "#Initialize Driver\n",
    "driver = GPBO_Driver(cs_params, method, simulator, exp_data, sim_data, sim_sse_data, val_data, val_sse_data, None, \n",
    "                     ep_bias, gen_meth_theta)"
   ]
  },
  {
   "cell_type": "code",
   "execution_count": 5,
   "id": "4c54cd42",
   "metadata": {},
   "outputs": [],
   "source": [
    "#Run Bo iterations/restarts\n",
    "restart_bo_results = driver.run_bo_restarts()"
   ]
  },
  {
   "cell_type": "code",
   "execution_count": 6,
   "id": "4a523aa9",
   "metadata": {},
   "outputs": [
    {
     "name": "stdout",
     "output_type": "stream",
     "text": [
      "\n",
      "{'DateTime String': None, 'Method Name Enum Value': 3, 'Case Study Name': 'CS1_BO_method_A2_sep_fact_1.0', 'Number of Parameters': 2, 'Exploration Bias Method Value': 1, 'Separation Factor': 1.0, 'Normalize': False, 'Initial Kernel': <Kernel_enum.MAT_52: 1>, 'Initial Lengthscale': None, 'Initial Outputscale': None, 'Retrain GP': 5, 'Reoptimize Obj': 5, 'Heat Map Points Generated': True, 'Max BO Iters': 20, 'Number of Workflow Restarts': 1, 'Seed': 1, 'EI Tolerance': 1e-06, 'Obj Improvement Tolerance': 1e-06, 'Theta Generation Enum Value': 1}\n",
      "regret\n",
      "   index  Best Error  Exploration Bias        Max EI  \\\n",
      "0      0    5.342819               1.0  9.491481e+01   \n",
      "1      1    0.000227               1.0  7.175135e-20   \n",
      "2      2    0.000227               1.0  5.511101e+00   \n",
      "3      3    0.000163               1.0  1.061255e-07   \n",
      "4      4    0.000163               1.0  2.917982e+01   \n",
      "\n",
      "                                 Theta Max EI   Min Obj  Min Obj Act  \\\n",
      "0   [0.9984065072131757, -0.9975653695791514]  0.000268     0.000226   \n",
      "1   [0.3157894736842106, -1.1578947368421053]  0.000186     0.000159   \n",
      "2   [0.9984325504557162, -0.9979850101192448]  0.000143     0.000120   \n",
      "3  [0.10526315789473673, -1.7894736842105263]  0.000108     0.000092   \n",
      "4   [0.9988910565321496, -0.9983778490893288]  0.000090     0.000075   \n",
      "\n",
      "                               Theta Min Obj Min Obj Cum.  \\\n",
      "0  [0.9982232526500792, -0.9976098518186347]     0.000226   \n",
      "1    [0.998536794685594, -0.997990693604924]     0.000159   \n",
      "2   [0.9987295615785876, -0.998254406266771]      0.00012   \n",
      "3  [0.9989371801025607, -0.9984613715572588]     0.000092   \n",
      "4  [0.9990138015155268, -0.9986158418160147]     0.000075   \n",
      "\n",
      "                          Theta Min Obj Cum.    Regret     Speed  Time/Iter  \n",
      "0  [0.9982232526500792, -0.9976098518186347]       inf       inf   4.232589  \n",
      "1    [0.998536794685594, -0.997990693604924]  0.001154  0.088266   1.325651  \n",
      "2   [0.9987295615785876, -0.998254406266771]  0.002056  0.062017   3.564718  \n",
      "3  [0.9989371801025607, -0.9984613715572588]  0.000873  0.084914   1.635764  \n",
      "4  [0.9990138015155268, -0.9986158418160147]  0.016290  0.069301   3.075594  \n",
      "       bound_l     bound_u     cdf_l     cdf_u     eta_l     eta_u     psi_l  \\\n",
      "0   -31.089969   31.159409       0.0       1.0      -0.0      -0.0      -0.5   \n",
      "1   -27.899107    27.62232       0.0       1.0      -0.0      -0.0      -0.5   \n",
      "2    -0.159697   -0.004141   0.43656  0.498348 -0.393887 -0.398939 -0.000537   \n",
      "3    -51.60886   51.264941       0.0       1.0      -0.0      -0.0      -0.5   \n",
      "4  -126.986373  127.062055       0.0       1.0      -0.0      -0.0      -0.5   \n",
      "5   -11.190344  -10.797383       0.0       0.0      -0.0      -0.0      -0.5   \n",
      "6    -8.142896   -8.020356       0.0       0.0      -0.0      -0.0      -0.5   \n",
      "7    -0.072835   -0.072835  0.470969  0.470969 -0.397885 -0.397885 -0.000051   \n",
      "8    12.654989   12.680577       1.0       1.0      -0.0      -0.0       0.5   \n",
      "9    30.421312   30.620491       1.0       1.0      -0.0      -0.0       0.5   \n",
      "10  -11.024695   11.021508       0.0       1.0      -0.0      -0.0      -0.5   \n",
      "11   -7.994932    7.769083       0.0       1.0      -0.0      -0.0      -0.5   \n",
      "12    -0.05908    -0.05908  0.476444  0.476444 -0.398247 -0.398247 -0.000027   \n",
      "13  -12.736722   12.485702       0.0       1.0      -0.0      -0.0      -0.5   \n",
      "14  -29.892133   29.947559       0.0       1.0      -0.0      -0.0      -0.5   \n",
      "15   19.433112   19.751629       1.0       1.0      -0.0      -0.0       0.5   \n",
      "16   -1.595312   -1.492928  0.055321  0.067728 -0.111755 -0.130896 -0.266395   \n",
      "17   -0.046417   -0.046417  0.481489  0.481489 -0.398513 -0.398513 -0.000013   \n",
      "18   23.970534   23.983325       1.0       1.0      -0.0      -0.0       0.5   \n",
      "19   70.385037   70.525165       1.0       1.0      -0.0      -0.0       0.5   \n",
      "20  -20.607534   20.609321       0.0       1.0      -0.0      -0.0      -0.5   \n",
      "21   -1.675624    1.497138  0.046906  0.932821 -0.097999 -0.130074 -0.288884   \n",
      "22    -0.04623    -0.04623  0.481563  0.481563 -0.398516 -0.398516 -0.000013   \n",
      "23  -25.484446   25.279744       0.0       1.0      -0.0      -0.0      -0.5   \n",
      "24  -74.489985   74.524797       0.0       1.0      -0.0      -0.0      -0.5   \n",
      "\n",
      "       psi_u   ei_term1  ei_term2  ei_term3         ei      ei_total  \n",
      "0        0.5   4.484272       0.0 -0.004629   4.479643  9.491481e+01  \n",
      "1        0.5   3.555078       0.0 -0.004613   3.550465  9.491481e+01  \n",
      "2       -0.0       -0.0  0.000004 -0.000002   0.000001  9.491481e+01  \n",
      "3        0.5  12.205156      -0.0 -0.004613  12.200543  9.491481e+01  \n",
      "4        0.5  74.688791       0.0 -0.004629  74.684162  9.491481e+01  \n",
      "5       -0.5       -0.0       0.0      -0.0        0.0  7.175135e-20  \n",
      "6       -0.5       -0.0       0.0      -0.0        0.0  7.175135e-20  \n",
      "7  -0.000051       -0.0      -0.0      -0.0       -0.0  7.175135e-20  \n",
      "8        0.5       -0.0       0.0      -0.0        0.0  7.175135e-20  \n",
      "9        0.5       -0.0       0.0      -0.0        0.0  7.175135e-20  \n",
      "10       0.5   0.542936       0.0 -0.004468   0.538468  5.511101e+00  \n",
      "11       0.5   0.276951       0.0 -0.004459   0.272493  5.511101e+00  \n",
      "12 -0.000027       -0.0      -0.0      -0.0       -0.0  5.511101e+00  \n",
      "13       0.5   0.709071       0.0 -0.004459   0.704612  5.511101e+00  \n",
      "14       0.5   3.999997       0.0 -0.004468   3.995528  5.511101e+00  \n",
      "15       0.5       -0.0       0.0      -0.0        0.0  1.061255e-07  \n",
      "16 -0.236854  -0.000145  0.000289 -0.000145        0.0  1.061255e-07  \n",
      "17 -0.000013       -0.0      -0.0      -0.0       -0.0  1.061255e-07  \n",
      "18       0.5       -0.0       0.0      -0.0        0.0  1.061255e-07  \n",
      "19       0.5       -0.0       0.0      -0.0        0.0  1.061255e-07  \n",
      "20       0.5   1.872576       0.0 -0.004409   1.868167  2.917982e+01  \n",
      "21  0.238082   0.009785  0.000025  -0.00232    0.00749  2.917982e+01  \n",
      "22 -0.000013       -0.0      -0.0      -0.0       -0.0  2.917982e+01  \n",
      "23       0.5   2.836519       0.0 -0.004403   2.832116  2.917982e+01  \n",
      "24       0.5  24.476453       0.0 -0.004409  24.472044  2.917982e+01  \n",
      "[ 0.9990138  -0.99861584]\n",
      "[ 1. -1.]\n",
      "[array([545.42666441, 237.52920044,   3.0547681 ]), 0.0001, 10000.00000000001]\n"
     ]
    }
   ],
   "source": [
    "#Define the run number and bo iter in question and pull the max bo iters and runs\n",
    "run_num = -1\n",
    "bo_iter = -1\n",
    "runs = restart_bo_results[run_num].configuration[\"Number of Workflow Restarts\"]\n",
    "num_sets = restart_bo_results[run_num].configuration[\"Max BO Iters\"]\n",
    "\n",
    "#Print Results\n",
    "print(\"\")\n",
    "print(restart_bo_results[run_num].configuration)\n",
    "# print(loaded_results[run_num].list_gp_emulator_class[bo_iter])\n",
    "# print(len(loaded_results[run_num].list_heat_map_data))\n",
    "print(restart_bo_results[run_num].why_term)\n",
    "print(restart_bo_results[run_num].results_df)\n",
    "print(restart_bo_results[run_num].max_ei_details_df)\n",
    "print(restart_bo_results[run_num].results_df[\"Theta Min Obj Cum.\"].iloc[-1])\n",
    "print(restart_bo_results[run_num].simulator_class.theta_true)\n",
    "print(restart_bo_results[run_num].list_gp_emulator_class[bo_iter].trained_hyperparams)"
   ]
  },
  {
   "cell_type": "code",
   "execution_count": 7,
   "id": "59d76efb",
   "metadata": {},
   "outputs": [],
   "source": [
    "# restart_bo_results[run_num].max_ei_details_df.to_csv('test_sparse_grid_data.csv', index=False, header = True)"
   ]
  },
  {
   "cell_type": "code",
   "execution_count": null,
   "id": "8f31913c",
   "metadata": {},
   "outputs": [],
   "source": []
  }
 ],
 "metadata": {
  "kernelspec": {
   "display_name": "Python 3 (ipykernel)",
   "language": "python",
   "name": "python3"
  },
  "language_info": {
   "codemirror_mode": {
    "name": "ipython",
    "version": 3
   },
   "file_extension": ".py",
   "mimetype": "text/x-python",
   "name": "python",
   "nbconvert_exporter": "python",
   "pygments_lexer": "ipython3",
   "version": "3.9.12"
  }
 },
 "nbformat": 4,
 "nbformat_minor": 5
}
