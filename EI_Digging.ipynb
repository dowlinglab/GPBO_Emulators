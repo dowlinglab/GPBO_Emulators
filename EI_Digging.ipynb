{
 "cells": [
  {
   "cell_type": "markdown",
   "id": "172cb7dc",
   "metadata": {},
   "source": [
    "## Import Dependencies"
   ]
  },
  {
   "cell_type": "code",
   "execution_count": 1,
   "id": "5738fd89",
   "metadata": {},
   "outputs": [
    {
     "name": "stdout",
     "output_type": "stream",
     "text": [
      "CPU times: total: 3.64 s\n",
      "Wall time: 4.01 s\n"
     ]
    }
   ],
   "source": [
    "%%time\n",
    "\n",
    "import sys\n",
    "import gpytorch\n",
    "import numpy as np\n",
    "import pandas as pd\n",
    "import torch\n",
    "from datetime import datetime\n",
    "from scipy.stats import qmc\n",
    "import itertools\n",
    "from itertools import combinations_with_replacement, combinations, permutations\n",
    "import copy\n",
    "\n",
    "import bo_methods_lib\n",
    "from bo_methods_lib.bo_methods_lib.GPBO_Classes_New import * #Fix this later\n",
    "from bo_methods_lib.bo_methods_lib.GPBO_Class_fxns import * #Fix this later\n",
    "from bo_methods_lib.bo_methods_lib.GPBO_Classes_plotters import * #Fix this later\n",
    "import pickle\n",
    "import gzip\n",
    "\n",
    "warnings.simplefilter(\"ignore\", category=RuntimeWarning)"
   ]
  },
  {
   "cell_type": "markdown",
   "id": "e005c837",
   "metadata": {},
   "source": [
    "## Define Method and DateTime"
   ]
  },
  {
   "cell_type": "code",
   "execution_count": 2,
   "id": "2387d98a",
   "metadata": {},
   "outputs": [
    {
     "name": "stdout",
     "output_type": "stream",
     "text": [
      "Method Name:  A2\n",
      "Emulator?:  True\n",
      "Obj Func:  OBJ\n",
      "Sparse Grid?:  False\n"
     ]
    }
   ],
   "source": [
    "#Generate Method (except last part)\n",
    "meth_name = Method_name_enum(3)\n",
    "method = GPBO_Methods(meth_name)\n",
    "\n",
    "print(\"Method Name: \", method.method_name.name)\n",
    "print(\"Emulator?: \", method.emulator)\n",
    "print(\"Obj Func: \", method.obj.name)\n",
    "print(\"Sparse Grid?: \", method.sparse_grid)\n",
    "\n",
    "#Set Date and Time\n",
    "dateTimeObj = datetime.now()\n",
    "timestampStr = dateTimeObj.strftime(\"%d-%b-%Y (%H:%M:%S)\")\n",
    "# print(\"Date and Time: \", timestampStr)\n",
    "# DateTime = dateTimeObj.strftime(\"%Y/%m/%d/%H-%M-%S%p\")\n",
    "DateTime = dateTimeObj.strftime(\"%Y/%m/%d/%H-%M\")\n",
    "DateTime = None ##For Testing"
   ]
  },
  {
   "cell_type": "markdown",
   "id": "06e36759",
   "metadata": {},
   "source": [
    "# Case Study GPBO Driver Test"
   ]
  },
  {
   "cell_type": "code",
   "execution_count": 3,
   "id": "5ec1b524",
   "metadata": {},
   "outputs": [
    {
     "name": "stdout",
     "output_type": "stream",
     "text": [
      "CS Name:  CS1\n",
      "t1t2\n",
      "2\n"
     ]
    }
   ],
   "source": [
    "cs_name_val = 1\n",
    "CS_name  = CS_name_enum(cs_name_val)\n",
    "print(\"CS Name: \", CS_name.name)\n",
    "\n",
    "param_name_str = set_param_str(cs_name_val)\n",
    "print(param_name_str)\n",
    "indecies_to_consider = set_idcs_to_consider(cs_name_val, param_name_str)\n",
    "print(len(indecies_to_consider))\n",
    "\n",
    "ep0 = 1\n",
    "ep_enum = Ep_enum(1)\n",
    "sep_fact = 1.0\n",
    "normalize = False\n",
    "noise_mean = 0\n",
    "noise_std = 0.01\n",
    "# noise_std = 0.0\n",
    "kernel = Kernel_enum(1)\n",
    "lenscl = None\n",
    "outputscl = 1\n",
    "retrain_GP = 2\n",
    "reoptimize_obj = 5\n",
    "bo_iter_tot = 10\n",
    "bo_run_tot = 1\n",
    "save_data = False\n",
    "seed = 1\n",
    "ei_tol = 1e-6\n",
    "obj_tol = 1e-4\n",
    "\n",
    "num_x_data = 5\n",
    "gen_meth_x = Gen_meth_enum(2) #Note: Has to be the same for validation and sim data\n",
    "num_theta_data = 10*len(indecies_to_consider)\n",
    "gen_meth_theta = Gen_meth_enum(1)"
   ]
  },
  {
   "cell_type": "code",
   "execution_count": 4,
   "id": "8caf2f1d",
   "metadata": {},
   "outputs": [],
   "source": [
    "simulator = simulator_helper_test_fxns(CS_name, indecies_to_consider, noise_mean, noise_std, normalize, seed)\n",
    "\n",
    "#Generate Exp Data\n",
    "exp_data = simulator.gen_exp_data(num_x_data, gen_meth_x)\n",
    "\n",
    "#Generate Sim Data\n",
    "sim_data = simulator.gen_sim_data(num_theta_data, num_x_data, gen_meth_theta, gen_meth_x, sep_fact, False)\n",
    "sim_sse_data = simulator.sim_data_to_sse_sim_data(method, sim_data, exp_data, sep_fact, False)\n",
    "\n",
    "#Generate Validation Data (for small case studies only)\n",
    "if cs_name_val <= 2:\n",
    "    gen_heat_map_data = True\n",
    "    num_theta_data_val = 20\n",
    "    gen_meth_theta_val = Gen_meth_enum(2)\n",
    "    val_data = simulator.gen_sim_data(num_theta_data_val, num_x_data, gen_meth_theta_val, gen_meth_x, sep_fact, True)\n",
    "    val_sse_data = simulator.sim_data_to_sse_sim_data(method, val_data, exp_data, sep_fact, True)\n",
    "    \n",
    "else:\n",
    "    num_theta_data_val = 0\n",
    "    gen_meth_theta_val = None\n",
    "    val_data = None\n",
    "    val_sse_data = None\n",
    "    gen_heat_map_data = False\n",
    "\n",
    "#Set Ep_Bias\n",
    "if ep_enum.value == 1:\n",
    "    ep_bias = Exploration_Bias(ep0, None, ep_enum, None, None, None, None, None, None, None)\n",
    "elif ep_enum.value == 2:\n",
    "    ep_bias = Exploration_Bias(ep0, None, ep_enum, None, bo_iter_tot, None, 0.5, None, None, None)\n",
    "elif ep_enum.value == 3:\n",
    "    ep_bias = Exploration_Bias(ep0, None, ep_enum, None, None, 1.5, None, None, None, None)\n",
    "else:\n",
    "    ep_bias = Exploration_Bias(None, None, ep_enum, None, None, None, None, None, None, None)\n",
    "    \n",
    "#Set Cs_params and Simulator\n",
    "cs_name = CS_name.name + \"_BO_method_\" + meth_name.name + \"_sep_fact_\" + str(round(sep_fact,2))\n",
    "cs_params = CaseStudyParameters(cs_name, ep0, sep_fact, normalize, kernel, lenscl, outputscl, retrain_GP, \n",
    "                                reoptimize_obj, gen_heat_map_data, bo_iter_tot, bo_run_tot, save_data, DateTime, \n",
    "                                seed, ei_tol, obj_tol)\n",
    "\n",
    "#Initialize Driver\n",
    "driver = GPBO_Driver(cs_params, method, simulator, exp_data, sim_data, sim_sse_data, val_data, val_sse_data, None, \n",
    "                     ep_bias, gen_meth_theta)"
   ]
  },
  {
   "cell_type": "code",
   "execution_count": 5,
   "id": "4c54cd42",
   "metadata": {},
   "outputs": [
    {
     "name": "stdout",
     "output_type": "stream",
     "text": [
      "      bound_l     bound_u cdf_l cdf_u eta_l eta_u psi_l psi_u  ei_term1  \\\n",
      "0 -146.499132  -82.716386   0.0   0.0  -0.0  -0.0  -0.5  -0.5      -0.0   \n",
      "1  -56.666112     7.12023   0.0   1.0  -0.0  -0.0  -0.5   0.5    2.1193   \n",
      "2  -31.956586   31.829825   0.0   1.0  -0.0  -0.0  -0.5   0.5  5.342798   \n",
      "3  -72.731048   -8.944706   0.0   0.0  -0.0  -0.0  -0.5  -0.5      -0.0   \n",
      "4  -178.69575 -114.913005   0.0   0.0  -0.0  -0.0  -0.5  -0.5      -0.0   \n",
      "\n",
      "  ei_term2  ei_term3        ei  ei_total  \n",
      "0     -0.0      -0.0      -0.0  7.451593  \n",
      "1      0.0 -0.005253  2.114048  7.451593  \n",
      "2      0.0 -0.005253  5.337545  7.451593  \n",
      "3      0.0      -0.0       0.0  7.451593  \n",
      "4     -0.0      -0.0      -0.0  7.451593  \n"
     ]
    },
    {
     "name": "stdout",
     "output_type": "stream",
     "text": [
      "     bound_l    bound_u cdf_l cdf_u eta_l eta_u psi_l psi_u  ei_term1  \\\n",
      "0 -90.873706 -25.087005   0.0   0.0  -0.0  -0.0  -0.5  -0.5      -0.0   \n",
      "1  -52.42001  13.372885   0.0   1.0  -0.0  -0.0  -0.5   0.5  3.460945   \n",
      "2 -32.976251  32.816736   0.0   1.0  -0.0  -0.0  -0.5   0.5  5.342787   \n",
      "3 -33.086821  32.706074   0.0   1.0  -0.0  -0.0  -0.5   0.5   5.34264   \n",
      "4 -52.283917  13.502784   0.0   1.0  -0.0  -0.0  -0.5   0.5  3.486147   \n",
      "\n",
      "  ei_term2  ei_term3        ei  ei_total  \n",
      "0      0.0      -0.0       0.0  17.61277  \n",
      "1      0.0 -0.004937  3.456008  17.61277  \n",
      "2      0.0 -0.004937   5.33785  17.61277  \n",
      "3      0.0 -0.004937  5.337703  17.61277  \n",
      "4      0.0 -0.004938  3.481209  17.61277  \n",
      "      bound_l     bound_u cdf_l cdf_u eta_l eta_u psi_l psi_u  ei_term1  \\\n",
      "0  -208.15088 -145.073607   0.0   0.0  -0.0  -0.0  -0.5  -0.5      -0.0   \n",
      "1  -87.678137  -24.598328   0.0   0.0  -0.0  -0.0  -0.5  -0.5      -0.0   \n",
      "2  -31.604396   31.475472   0.0   1.0  -0.0  -0.0  -0.5   0.5  5.342797   \n",
      "3  -40.282626   22.797184   0.0   1.0  -0.0  -0.0  -0.5   0.5  4.932291   \n",
      "4 -113.379972  -50.302699   0.0   0.0  -0.0  -0.0  -0.5  -0.5      -0.0   \n",
      "\n",
      "  ei_term2  ei_term3        ei   ei_total  \n",
      "0     -0.0      -0.0      -0.0  10.264345  \n",
      "1      0.0      -0.0       0.0  10.264345  \n",
      "2      0.0 -0.005371  5.337426  10.264345  \n",
      "3      0.0 -0.005371   4.92692  10.264345  \n",
      "4     -0.0      -0.0      -0.0  10.264345  \n",
      "     bound_l    bound_u cdf_l     cdf_u eta_l     eta_u psi_l     psi_u  \\\n",
      "0 -53.353321   3.912366   0.0  0.999954  -0.0 -0.000189  -0.5  0.499214   \n",
      "1 -30.037613  27.240912   0.0       1.0  -0.0      -0.0  -0.5       0.5   \n",
      "2 -28.705082  28.573796   0.0       1.0  -0.0      -0.0  -0.5       0.5   \n",
      "3 -49.620769   7.657756   0.0       1.0  -0.0      -0.0  -0.5       0.5   \n",
      "4 -92.249311 -34.983624   0.0       0.0  -0.0      -0.0  -0.5      -0.5   \n",
      "\n",
      "   ei_term1  ei_term2  ei_term3        ei   ei_total  \n",
      "0  1.360262  0.000061 -0.006512  1.353811  14.482351  \n",
      "1  5.330082       0.0 -0.006514  5.323568  14.482351  \n",
      "2  5.342791       0.0 -0.006514  5.336277  14.482351  \n",
      "3  2.475209       0.0 -0.006514  2.468695  14.482351  \n",
      "4      -0.0       0.0      -0.0       0.0  14.482351  \n",
      "      bound_l     bound_u cdf_l cdf_u eta_l eta_u psi_l psi_u  ei_term1  \\\n",
      "0 -198.932138 -143.088496   0.0   0.0  -0.0  -0.0  -0.5  -0.5      -0.0   \n",
      "1  -82.621264  -26.753644   0.0   0.0  -0.0  -0.0  -0.5  -0.5      -0.0   \n",
      "2  -28.013338   27.854899   0.0   1.0  -0.0  -0.0  -0.5   0.5  5.342776   \n",
      "3  -35.774742   20.092877   0.0   1.0  -0.0  -0.0  -0.5   0.5  4.921854   \n",
      "4 -105.244249  -49.400607   0.0   0.0  -0.0  -0.0  -0.5  -0.5      -0.0   \n",
      "\n",
      "  ei_term2  ei_term3        ei   ei_total  \n",
      "0     -0.0      -0.0      -0.0  10.250936  \n",
      "1      0.0      -0.0       0.0  10.250936  \n",
      "2      0.0 -0.006847  5.335929  10.250936  \n",
      "3      0.0 -0.006847  4.915007  10.250936  \n",
      "4     -0.0      -0.0      -0.0  10.250936  \n",
      "     bound_l    bound_u     cdf_l cdf_u     eta_l eta_u     psi_l psi_u  \\\n",
      "0   2.391124  46.617994  0.991602   1.0 -0.022876  -0.0  0.436903   0.5   \n",
      "1 -15.209762  29.061419       0.0   1.0      -0.0  -0.0      -0.5   0.5   \n",
      "2 -22.163869  22.108613       0.0   1.0      -0.0  -0.0      -0.5   0.5   \n",
      "3 -18.145663  26.125517       0.0   1.0      -0.0  -0.0      -0.5   0.5   \n",
      "4  -2.950969    41.2759  0.001584   1.0 -0.005128  -0.0 -0.483284   0.5   \n",
      "\n",
      "   ei_term1  ei_term2  ei_term3        ei   ei_total  \n",
      "0 -0.010229  0.012249 -0.000689  0.001331  16.620561  \n",
      "1  4.819783       0.0 -0.010904  4.808879  16.620561  \n",
      "2  5.342811       0.0 -0.010903  5.331907  16.620561  \n",
      "3  5.169232       0.0 -0.010904  5.158327  16.620561  \n",
      "4  1.328712  0.002147 -0.010743  1.320116  16.620561  \n"
     ]
    },
    {
     "ename": "ValueError",
     "evalue": "'a' cannot be empty unless no samples are taken",
     "output_type": "error",
     "traceback": [
      "\u001b[1;31m---------------------------------------------------------------------------\u001b[0m",
      "\u001b[1;31mValueError\u001b[0m                                Traceback (most recent call last)",
      "\u001b[1;32mc:\\Users\\mcarlozo\\Documents\\Repos\\Toy_Problem\\EI_Digging.ipynb Cell 8\u001b[0m line \u001b[0;36m2\n\u001b[0;32m      <a href='vscode-notebook-cell:/c%3A/Users/mcarlozo/Documents/Repos/Toy_Problem/EI_Digging.ipynb#X10sZmlsZQ%3D%3D?line=0'>1</a>\u001b[0m \u001b[39m#Run Bo iterations/restarts\u001b[39;00m\n\u001b[1;32m----> <a href='vscode-notebook-cell:/c%3A/Users/mcarlozo/Documents/Repos/Toy_Problem/EI_Digging.ipynb#X10sZmlsZQ%3D%3D?line=1'>2</a>\u001b[0m restart_bo_results \u001b[39m=\u001b[39m driver\u001b[39m.\u001b[39mrun_bo_restarts()\n",
      "File \u001b[1;32mc:\\Users\\mcarlozo\\Documents\\Repos\\Toy_Problem\\bo_methods_lib\\bo_methods_lib\\GPBO_Classes_New.py:3617\u001b[0m, in \u001b[0;36mGPBO_Driver.run_bo_restarts\u001b[1;34m(self)\u001b[0m\n\u001b[0;32m   3596\u001b[0m configuration \u001b[39m=\u001b[39m {\u001b[39m\"\u001b[39m\u001b[39mDateTime String\u001b[39m\u001b[39m\"\u001b[39m : \u001b[39mself\u001b[39m\u001b[39m.\u001b[39mcs_params\u001b[39m.\u001b[39mDateTime,\n\u001b[0;32m   3597\u001b[0m                  \u001b[39m\"\u001b[39m\u001b[39mMethod Name Enum Value\u001b[39m\u001b[39m\"\u001b[39m : \u001b[39mself\u001b[39m\u001b[39m.\u001b[39mmethod\u001b[39m.\u001b[39mmethod_name\u001b[39m.\u001b[39mvalue,\n\u001b[0;32m   3598\u001b[0m                  \u001b[39m\"\u001b[39m\u001b[39mCase Study Name\u001b[39m\u001b[39m\"\u001b[39m : \u001b[39mself\u001b[39m\u001b[39m.\u001b[39mcs_params\u001b[39m.\u001b[39mcs_name,\n\u001b[1;32m   (...)\u001b[0m\n\u001b[0;32m   3613\u001b[0m                  \u001b[39m\"\u001b[39m\u001b[39mObj Improvement Tolerance\u001b[39m\u001b[39m\"\u001b[39m : \u001b[39mself\u001b[39m\u001b[39m.\u001b[39mcs_params\u001b[39m.\u001b[39mobj_tol,\n\u001b[0;32m   3614\u001b[0m                  \u001b[39m\"\u001b[39m\u001b[39mTheta Generation Enum Value\u001b[39m\u001b[39m\"\u001b[39m: \u001b[39mself\u001b[39m\u001b[39m.\u001b[39mgen_meth_theta\u001b[39m.\u001b[39mvalue}\n\u001b[0;32m   3616\u001b[0m \u001b[39mfor\u001b[39;00m i \u001b[39min\u001b[39;00m \u001b[39mrange\u001b[39m(\u001b[39mself\u001b[39m\u001b[39m.\u001b[39mcs_params\u001b[39m.\u001b[39mbo_run_tot):\n\u001b[1;32m-> 3617\u001b[0m     bo_results \u001b[39m=\u001b[39m \u001b[39mself\u001b[39m\u001b[39m.\u001b[39m__run_bo_workflow()\n\u001b[0;32m   3618\u001b[0m     \u001b[39m#Update the seed in configuration\u001b[39;00m\n\u001b[0;32m   3619\u001b[0m     configuration[\u001b[39m\"\u001b[39m\u001b[39mSeed\u001b[39m\u001b[39m\"\u001b[39m] \u001b[39m=\u001b[39m \u001b[39mself\u001b[39m\u001b[39m.\u001b[39mcs_params\u001b[39m.\u001b[39mseed\n",
      "File \u001b[1;32mc:\\Users\\mcarlozo\\Documents\\Repos\\Toy_Problem\\bo_methods_lib\\bo_methods_lib\\GPBO_Classes_New.py:3577\u001b[0m, in \u001b[0;36mGPBO_Driver.__run_bo_workflow\u001b[1;34m(self)\u001b[0m\n\u001b[0;32m   3574\u001b[0m \u001b[39mself\u001b[39m\u001b[39m.\u001b[39mep_bias\u001b[39m.\u001b[39mep_curr \u001b[39m=\u001b[39m \u001b[39mNone\u001b[39;00m\n\u001b[0;32m   3576\u001b[0m \u001b[39m##Call bo_iter\u001b[39;00m\n\u001b[1;32m-> 3577\u001b[0m results_df, max_ei_details_df, list_gp_emulator_class, why_term \u001b[39m=\u001b[39m \u001b[39mself\u001b[39m\u001b[39m.\u001b[39m__run_bo_to_term(gp_model)\n\u001b[0;32m   3579\u001b[0m \u001b[39m#Set results\u001b[39;00m\n\u001b[0;32m   3580\u001b[0m bo_results \u001b[39m=\u001b[39m BO_Results(\u001b[39mNone\u001b[39;00m, \u001b[39mNone\u001b[39;00m, \u001b[39mself\u001b[39m\u001b[39m.\u001b[39mexp_data, list_gp_emulator_class, results_df, \n\u001b[0;32m   3581\u001b[0m                         max_ei_details_df, why_term, \u001b[39mNone\u001b[39;00m)\n",
      "File \u001b[1;32mc:\\Users\\mcarlozo\\Documents\\Repos\\Toy_Problem\\bo_methods_lib\\bo_methods_lib\\GPBO_Classes_New.py:3490\u001b[0m, in \u001b[0;36mGPBO_Driver.__run_bo_to_term\u001b[1;34m(self, gp_model)\u001b[0m\n\u001b[0;32m   3487\u001b[0m \u001b[39m#Loop over number of max bo iters\u001b[39;00m\n\u001b[0;32m   3488\u001b[0m \u001b[39mfor\u001b[39;00m i \u001b[39min\u001b[39;00m \u001b[39mrange\u001b[39m(\u001b[39mself\u001b[39m\u001b[39m.\u001b[39mcs_params\u001b[39m.\u001b[39mbo_iter_tot):\n\u001b[0;32m   3489\u001b[0m     \u001b[39m#Output results of 1 bo iter and the emulator used to get the results\u001b[39;00m\n\u001b[1;32m-> 3490\u001b[0m     iter_df, iter_max_ei_terms, gp_emulator_class \u001b[39m=\u001b[39m \u001b[39mself\u001b[39m\u001b[39m.\u001b[39m__run_bo_iter(gp_model, i) \u001b[39m#Change me later\u001b[39;00m\n\u001b[0;32m   3491\u001b[0m     \u001b[39m#Add results to dataframe\u001b[39;00m\n\u001b[0;32m   3492\u001b[0m     results_df \u001b[39m=\u001b[39m pd\u001b[39m.\u001b[39mconcat([results_df\u001b[39m.\u001b[39mastype(iter_df\u001b[39m.\u001b[39mdtypes), iter_df], ignore_index\u001b[39m=\u001b[39m\u001b[39mTrue\u001b[39;00m)\n",
      "File \u001b[1;32mc:\\Users\\mcarlozo\\Documents\\Repos\\Toy_Problem\\bo_methods_lib\\bo_methods_lib\\GPBO_Classes_New.py:3392\u001b[0m, in \u001b[0;36mGPBO_Driver.__run_bo_iter\u001b[1;34m(self, gp_model, iteration)\u001b[0m\n\u001b[0;32m   3389\u001b[0m \u001b[39mself\u001b[39m\u001b[39m.\u001b[39mep_bias\u001b[39m.\u001b[39mset_ep()\n\u001b[0;32m   3391\u001b[0m \u001b[39m#Call optimize acquistion fxn\u001b[39;00m\n\u001b[1;32m-> 3392\u001b[0m max_ei, max_ei_theta \u001b[39m=\u001b[39m \u001b[39mself\u001b[39m\u001b[39m.\u001b[39m__opt_with_scipy(\u001b[39mTrue\u001b[39;00m)\n\u001b[0;32m   3394\u001b[0m \u001b[39m#Create data class instance for max_ei_theta\u001b[39;00m\n\u001b[0;32m   3395\u001b[0m max_ei_theta_data \u001b[39m=\u001b[39m \u001b[39mself\u001b[39m\u001b[39m.\u001b[39mcreate_data_instance_from_theta(max_ei_theta)\n",
      "File \u001b[1;32mc:\\Users\\mcarlozo\\Documents\\Repos\\Toy_Problem\\bo_methods_lib\\bo_methods_lib\\GPBO_Classes_New.py:3129\u001b[0m, in \u001b[0;36mGPBO_Driver.__opt_with_scipy\u001b[1;34m(self, neg_ei)\u001b[0m\n\u001b[0;32m   3127\u001b[0m min_value \u001b[39m=\u001b[39m np\u001b[39m.\u001b[39mnanmin(best_vals) \u001b[39m#Find lowest value\u001b[39;00m\n\u001b[0;32m   3128\u001b[0m min_indices \u001b[39m=\u001b[39m np\u001b[39m.\u001b[39mwhere( np\u001b[39m.\u001b[39misclose(best_vals, min_value, rtol\u001b[39m=\u001b[39m\u001b[39m1e-7\u001b[39m) )[\u001b[39m0\u001b[39m] \u001b[39m#Find all indeces where there may be a tie\u001b[39;00m\n\u001b[1;32m-> 3129\u001b[0m rand_min_idx \u001b[39m=\u001b[39m np\u001b[39m.\u001b[39mrandom\u001b[39m.\u001b[39mchoice(min_indices) \u001b[39m#Choose one at random as the next step\u001b[39;00m\n\u001b[0;32m   3131\u001b[0m best_val \u001b[39m=\u001b[39m best_vals[rand_min_idx]\n\u001b[0;32m   3132\u001b[0m best_theta \u001b[39m=\u001b[39m best_thetas[rand_min_idx]\n",
      "File \u001b[1;32mnumpy\\\\random\\\\mtrand.pyx:950\u001b[0m, in \u001b[0;36mnumpy.random.mtrand.RandomState.choice\u001b[1;34m()\u001b[0m\n",
      "\u001b[1;31mValueError\u001b[0m: 'a' cannot be empty unless no samples are taken"
     ]
    }
   ],
   "source": [
    "#Run Bo iterations/restarts\n",
    "restart_bo_results = driver.run_bo_restarts()"
   ]
  },
  {
   "cell_type": "code",
   "execution_count": null,
   "id": "4a523aa9",
   "metadata": {},
   "outputs": [
    {
     "name": "stdout",
     "output_type": "stream",
     "text": [
      "\n",
      "{'DateTime String': None, 'Method Name Enum Value': 1, 'Case Study Name': 'CS1_BO_method_A1_sep_fact_1.0', 'Number of Parameters': 2, 'Exploration Bias Method Value': 1, 'Separation Factor': 1.0, 'Normalize': False, 'Initial Kernel': <Kernel_enum.MAT_52: 1>, 'Initial Lengthscale': None, 'Initial Outputscale': 1, 'Retrain GP': 2, 'Reoptimize Obj': 5, 'Heat Map Points Generated': True, 'Max BO Iters': 10, 'Number of Workflow Restarts': 1, 'Seed': 1, 'EI Tolerance': 0.0001, 'Obj Improvement Tolerance': 1e-06, 'Theta Generation Enum Value': 1}\n",
      "obj\n",
      "   index  Best Error  Exploration Bias        Max EI  \\\n",
      "0      0    5.342819               1.0  5.032233e+00   \n",
      "1      1    0.010824               1.0  0.000000e+00   \n",
      "2      2    0.010824               1.0  7.367663e-01   \n",
      "3      3    0.010824               1.0  4.300361e-01   \n",
      "4      4    0.010824               1.0  1.826134e-07   \n",
      "5      5    0.010824               1.0  4.119043e-01   \n",
      "\n",
      "                                Theta Max EI   Min Obj  Min Obj Act  \\\n",
      "0   [1.0306728293856389, -1.006451828143813]  0.448648     0.012965   \n",
      "1  [0.10526315789473673, 1.3684210526315788]  0.031074     0.001293   \n",
      "2                 [2.0, -1.4188365801321683]  0.031895     0.000820   \n",
      "3  [0.9465712680463915, -0.9791257560765136]  0.071478     0.043209   \n",
      "4   [1.5789473684210522, -1.368421052631579]  0.059794     0.044303   \n",
      "5  [0.9685972910105886, -1.0016672938863316]  0.006786     0.010959   \n",
      "\n",
      "                               Theta Min Obj Min Obj Cum.  \\\n",
      "0  [0.9767849124213074, -0.9850728771842858]     0.012965   \n",
      "1  [1.0113476562940054, -0.9996145571313564]     0.001293   \n",
      "2  [1.0088227278212112, -1.0011028162972433]      0.00082   \n",
      "3  [0.9478764957445467, -0.9782794005850528]      0.00082   \n",
      "4  [0.9470852247723403, -0.9781023940538762]      0.00082   \n",
      "5  [0.9669054204800567, -0.9995529668647566]      0.00082   \n",
      "\n",
      "                          Theta Min Obj Cum.  Time/Iter  \n",
      "0  [0.9767849124213074, -0.9850728771842858]   0.316011  \n",
      "1  [1.0113476562940054, -0.9996145571313564]   0.224985  \n",
      "2  [1.0088227278212112, -1.0011028162972433]   0.364137  \n",
      "3  [1.0088227278212112, -1.0011028162972433]   0.232070  \n",
      "4  [1.0088227278212112, -1.0011028162972433]   0.162520  \n",
      "5  [1.0088227278212112, -1.0011028162972433]   0.266034  \n",
      "   best_error          z           cdf       pdf  ei_term_1  ei_term_2  \\\n",
      "0    5.342819   1.291855  9.017964e-01  0.173187   4.380961   0.651272   \n",
      "1    0.010824 -64.699847  0.000000e+00  0.000000  -0.000000   0.000000   \n",
      "2    0.010824  -1.029885  1.515320e-01  0.234742  -1.461345   2.198111   \n",
      "3    0.010824  -0.052671  4.789970e-01  0.398389  -0.029075   0.459111   \n",
      "4    0.010824  -4.884251  5.191143e-07  0.000003  -0.000005   0.000005   \n",
      "5    0.010824   0.003752  5.014970e-01  0.398939   0.001934   0.409970   \n",
      "\n",
      "             ei  \n",
      "0  5.032233e+00  \n",
      "1  0.000000e+00  \n",
      "2  7.367663e-01  \n",
      "3  4.300361e-01  \n",
      "4  1.826134e-07  \n",
      "5  4.119043e-01  \n",
      "[ 1.00882273 -1.00110282]\n",
      "[ 1. -1.]\n",
      "[array([4.78819992, 2.28194682]), 0.0001, 1]\n"
     ]
    }
   ],
   "source": [
    "#Define the run number and bo iter in question and pull the max bo iters and runs\n",
    "run_num = -1\n",
    "bo_iter = -1\n",
    "runs = restart_bo_results[run_num].configuration[\"Number of Workflow Restarts\"]\n",
    "num_sets = restart_bo_results[run_num].configuration[\"Max BO Iters\"]\n",
    "\n",
    "#Print Results\n",
    "print(\"\")\n",
    "print(restart_bo_results[run_num].configuration)\n",
    "# print(loaded_results[run_num].list_gp_emulator_class[bo_iter])\n",
    "# print(len(loaded_results[run_num].list_heat_map_data))\n",
    "print(restart_bo_results[run_num].why_term)\n",
    "print(restart_bo_results[run_num].results_df)\n",
    "print(restart_bo_results[run_num].max_ei_details_df)\n",
    "print(restart_bo_results[run_num].results_df[\"Theta Min Obj Cum.\"].iloc[-1])\n",
    "print(restart_bo_results[run_num].simulator_class.theta_true)\n",
    "print(restart_bo_results[run_num].list_gp_emulator_class[bo_iter].trained_hyperparams)"
   ]
  },
  {
   "cell_type": "code",
   "execution_count": null,
   "id": "a35a810e",
   "metadata": {},
   "outputs": [],
   "source": []
  }
 ],
 "metadata": {
  "kernelspec": {
   "display_name": "Python 3 (ipykernel)",
   "language": "python",
   "name": "python3"
  },
  "language_info": {
   "codemirror_mode": {
    "name": "ipython",
    "version": 3
   },
   "file_extension": ".py",
   "mimetype": "text/x-python",
   "name": "python",
   "nbconvert_exporter": "python",
   "pygments_lexer": "ipython3",
   "version": "3.11.5"
  }
 },
 "nbformat": 4,
 "nbformat_minor": 5
}
