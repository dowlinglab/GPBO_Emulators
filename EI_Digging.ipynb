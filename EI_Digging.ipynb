{
 "cells": [
  {
   "cell_type": "markdown",
   "id": "172cb7dc",
   "metadata": {},
   "source": [
    "## Import Dependencies"
   ]
  },
  {
   "cell_type": "code",
   "execution_count": 1,
   "id": "5738fd89",
   "metadata": {},
   "outputs": [
    {
     "name": "stderr",
     "output_type": "stream",
     "text": [
      "/afs/crc.nd.edu/user/m/mcarlozo/.conda/envs/Toy_Problem_env/lib/python3.9/site-packages/tqdm/auto.py:21: TqdmWarning: IProgress not found. Please update jupyter and ipywidgets. See https://ipywidgets.readthedocs.io/en/stable/user_install.html\n",
      "  from .autonotebook import tqdm as notebook_tqdm\n"
     ]
    },
    {
     "name": "stdout",
     "output_type": "stream",
     "text": [
      "CPU times: user 2.46 s, sys: 401 ms, total: 2.86 s\n",
      "Wall time: 3.25 s\n"
     ]
    }
   ],
   "source": [
    "%%time\n",
    "\n",
    "import sys\n",
    "import gpytorch\n",
    "import numpy as np\n",
    "import pandas as pd\n",
    "import torch\n",
    "from datetime import datetime\n",
    "from scipy.stats import qmc\n",
    "import itertools\n",
    "from itertools import combinations_with_replacement, combinations, permutations\n",
    "import copy\n",
    "import Tasmanian\n",
    "\n",
    "import bo_methods_lib\n",
    "from bo_methods_lib.bo_methods_lib.GPBO_Classes_New import * #Fix this later\n",
    "from bo_methods_lib.bo_methods_lib.GPBO_Class_fxns import * #Fix this later\n",
    "from bo_methods_lib.bo_methods_lib.GPBO_Classes_plotters import * #Fix this later\n",
    "import pickle\n",
    "import gzip\n",
    "\n",
    "warnings.simplefilter(\"ignore\", category=RuntimeWarning)"
   ]
  },
  {
   "cell_type": "markdown",
   "id": "e005c837",
   "metadata": {},
   "source": [
    "## Define Method and DateTime"
   ]
  },
  {
   "cell_type": "code",
   "execution_count": 2,
   "id": "2387d98a",
   "metadata": {},
   "outputs": [
    {
     "name": "stdout",
     "output_type": "stream",
     "text": [
      "Method Name:  A2\n",
      "Emulator?:  True\n",
      "Obj Func:  OBJ\n",
      "Sparse Grid?:  False\n"
     ]
    }
   ],
   "source": [
    "#Generate Method (except last part)\n",
    "meth_name = Method_name_enum(3)\n",
    "method = GPBO_Methods(meth_name)\n",
    "\n",
    "print(\"Method Name: \", method.method_name.name)\n",
    "print(\"Emulator?: \", method.emulator)\n",
    "print(\"Obj Func: \", method.obj.name)\n",
    "print(\"Sparse Grid?: \", method.sparse_grid)\n",
    "\n",
    "#Set Date and Time\n",
    "dateTimeObj = datetime.now()\n",
    "timestampStr = dateTimeObj.strftime(\"%d-%b-%Y (%H:%M:%S)\")\n",
    "# print(\"Date and Time: \", timestampStr)\n",
    "# DateTime = dateTimeObj.strftime(\"%Y/%m/%d/%H-%M-%S%p\")\n",
    "DateTime = dateTimeObj.strftime(\"%Y/%m/%d/%H-%M\")\n",
    "DateTime = None ##For Testing"
   ]
  },
  {
   "cell_type": "markdown",
   "id": "06e36759",
   "metadata": {},
   "source": [
    "# Case Study GPBO Driver Test"
   ]
  },
  {
   "cell_type": "code",
   "execution_count": 3,
   "id": "5ec1b524",
   "metadata": {},
   "outputs": [
    {
     "name": "stdout",
     "output_type": "stream",
     "text": [
      "CS Name:  CS1\n",
      "t1t2\n",
      "2\n"
     ]
    }
   ],
   "source": [
    "cs_name_val = 1\n",
    "CS_name  = CS_name_enum(cs_name_val)\n",
    "print(\"CS Name: \", CS_name.name)\n",
    "\n",
    "param_name_str = set_param_str(cs_name_val)\n",
    "print(param_name_str)\n",
    "indecies_to_consider = set_idcs_to_consider(cs_name_val, param_name_str)\n",
    "print(len(indecies_to_consider))\n",
    "\n",
    "ep0 = 1\n",
    "ep_enum = Ep_enum(1)\n",
    "sep_fact = 1.0\n",
    "normalize = False\n",
    "noise_mean = 0\n",
    "noise_std = 0.01\n",
    "# noise_std = 0.0\n",
    "kernel = Kernel_enum(1)\n",
    "lenscl = None\n",
    "outputscl = 1\n",
    "retrain_GP = 1\n",
    "reoptimize_obj = 15\n",
    "bo_iter_tot = 10\n",
    "bo_run_tot = 1\n",
    "save_data = False\n",
    "seed = 1\n",
    "ei_tol = 1e-6\n",
    "obj_tol = 1e-6\n",
    "\n",
    "num_x_data = 5\n",
    "gen_meth_x = Gen_meth_enum(2) #Note: Has to be the same for validation and sim data\n",
    "num_theta_data = 10*len(indecies_to_consider)\n",
    "gen_meth_theta = Gen_meth_enum(1)"
   ]
  },
  {
   "cell_type": "code",
   "execution_count": 4,
   "id": "8caf2f1d",
   "metadata": {},
   "outputs": [],
   "source": [
    "simulator = simulator_helper_test_fxns(CS_name, indecies_to_consider, noise_mean, noise_std, normalize, seed)\n",
    "\n",
    "#Generate Exp Data\n",
    "exp_data = simulator.gen_exp_data(num_x_data, gen_meth_x)\n",
    "\n",
    "#Generate Sim Data\n",
    "sim_data = simulator.gen_sim_data(num_theta_data, num_x_data, gen_meth_theta, gen_meth_x, sep_fact, False)\n",
    "sim_sse_data = simulator.sim_data_to_sse_sim_data(method, sim_data, exp_data, sep_fact, False)\n",
    "\n",
    "#Generate Validation Data (for small case studies only)\n",
    "if cs_name_val <= 2:\n",
    "    gen_heat_map_data = True\n",
    "    num_theta_data_val = 20\n",
    "    gen_meth_theta_val = Gen_meth_enum(2)\n",
    "    val_data = simulator.gen_sim_data(num_theta_data_val, num_x_data, gen_meth_theta_val, gen_meth_x, sep_fact, True)\n",
    "    val_sse_data = simulator.sim_data_to_sse_sim_data(method, val_data, exp_data, sep_fact, True)\n",
    "    \n",
    "else:\n",
    "    num_theta_data_val = 0\n",
    "    gen_meth_theta_val = None\n",
    "    val_data = None\n",
    "    val_sse_data = None\n",
    "    gen_heat_map_data = False\n",
    "\n",
    "#Set Ep_Bias\n",
    "if ep_enum.value == 1:\n",
    "    ep_bias = Exploration_Bias(ep0, None, ep_enum, None, None, None, None, None, None, None)\n",
    "elif ep_enum.value == 2:\n",
    "    ep_bias = Exploration_Bias(ep0, None, ep_enum, None, bo_iter_tot, None, 0.5, None, None, None)\n",
    "elif ep_enum.value == 3:\n",
    "    ep_bias = Exploration_Bias(ep0, None, ep_enum, None, None, 1.5, None, None, None, None)\n",
    "else:\n",
    "    ep_bias = Exploration_Bias(None, None, ep_enum, None, None, None, None, None, None, None)\n",
    "    \n",
    "#Set Cs_params and Simulator\n",
    "cs_name = CS_name.name + \"_BO_method_\" + meth_name.name + \"_sep_fact_\" + str(round(sep_fact,2))\n",
    "cs_params = CaseStudyParameters(cs_name, ep0, sep_fact, normalize, kernel, lenscl, outputscl, retrain_GP, \n",
    "                                reoptimize_obj, gen_heat_map_data, bo_iter_tot, bo_run_tot, save_data, DateTime, \n",
    "                                seed, ei_tol, obj_tol)\n",
    "\n",
    "#Initialize Driver\n",
    "driver = GPBO_Driver(cs_params, method, simulator, exp_data, sim_data, sim_sse_data, val_data, val_sse_data, None, \n",
    "                     ep_bias, gen_meth_theta)"
   ]
  },
  {
   "cell_type": "code",
   "execution_count": null,
   "id": "4c54cd42",
   "metadata": {},
   "outputs": [],
   "source": [
    "#Run Bo iterations/restarts\n",
    "restart_bo_results = driver.run_bo_restarts()"
   ]
  },
  {
   "cell_type": "code",
   "execution_count": null,
   "id": "4a523aa9",
   "metadata": {},
   "outputs": [],
   "source": [
    "#Define the run number and bo iter in question and pull the max bo iters and runs\n",
    "run_num = -1\n",
    "bo_iter = -1\n",
    "runs = restart_bo_results[run_num].configuration[\"Number of Workflow Restarts\"]\n",
    "num_sets = restart_bo_results[run_num].configuration[\"Max BO Iters\"]\n",
    "\n",
    "#Print Results\n",
    "print(\"\")\n",
    "print(restart_bo_results[run_num].configuration)\n",
    "# print(loaded_results[run_num].list_gp_emulator_class[bo_iter])\n",
    "# print(len(loaded_results[run_num].list_heat_map_data))\n",
    "print(restart_bo_results[run_num].why_term)\n",
    "print(restart_bo_results[run_num].results_df)\n",
    "print(restart_bo_results[run_num].max_ei_details_df)\n",
    "print(restart_bo_results[run_num].results_df[\"Theta Min Obj Cum.\"].iloc[-1])\n",
    "print(restart_bo_results[run_num].simulator_class.theta_true)\n",
    "print(restart_bo_results[run_num].list_gp_emulator_class[bo_iter].trained_hyperparams)"
   ]
  }
 ],
 "metadata": {
  "kernelspec": {
   "display_name": "Python 3 (ipykernel)",
   "language": "python",
   "name": "python3"
  },
  "language_info": {
   "codemirror_mode": {
    "name": "ipython",
    "version": 3
   },
   "file_extension": ".py",
   "mimetype": "text/x-python",
   "name": "python",
   "nbconvert_exporter": "python",
   "pygments_lexer": "ipython3",
   "version": "3.9.12"
  }
 },
 "nbformat": 4,
 "nbformat_minor": 5
}
