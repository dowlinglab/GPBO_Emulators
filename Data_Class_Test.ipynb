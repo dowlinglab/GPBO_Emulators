{
 "cells": [
  {
   "cell_type": "code",
   "execution_count": 1,
   "id": "73cebc30",
   "metadata": {},
   "outputs": [
    {
     "name": "stderr",
     "output_type": "stream",
     "text": [
      "/afs/crc.nd.edu/user/m/mcarlozo/.conda/envs/Toy_Problem_env/lib/python3.9/site-packages/tqdm/auto.py:22: TqdmWarning: IProgress not found. Please update jupyter and ipywidgets. See https://ipywidgets.readthedocs.io/en/stable/user_install.html\n",
      "  from .autonotebook import tqdm as notebook_tqdm\n"
     ]
    },
    {
     "name": "stdout",
     "output_type": "stream",
     "text": [
      "CPU times: user 2.36 s, sys: 306 ms, total: 2.67 s\n",
      "Wall time: 2.7 s\n"
     ]
    }
   ],
   "source": [
    "%%time\n",
    "\n",
    "import sys\n",
    "import gpytorch\n",
    "import numpy as np\n",
    "import pandas as pd\n",
    "import torch\n",
    "from datetime import datetime\n",
    "from scipy.stats import qmc\n",
    "import itertools\n",
    "from itertools import combinations_with_replacement, combinations, permutations\n",
    "\n",
    "import bo_methods_lib\n",
    "from bo_methods_lib.bo_functions_generic import gen_theta_set, clean_1D_arrays\n",
    "from bo_methods_lib.GPBO_Classes_New import * #Fix this later\n",
    "from bo_methods_lib.GPBO_Class_fxns import * #Fix this later"
   ]
  },
  {
   "cell_type": "markdown",
   "id": "037b3180",
   "metadata": {},
   "source": [
    "## Define Method and DateTime"
   ]
  },
  {
   "cell_type": "code",
   "execution_count": 2,
   "id": "0f1c1601",
   "metadata": {},
   "outputs": [
    {
     "name": "stdout",
     "output_type": "stream",
     "text": [
      "Method Name:  B1\n",
      "Emulator?:  False\n",
      "Obj Func:  LN_OBJ\n",
      "Sparse Grid?:  False\n"
     ]
    }
   ],
   "source": [
    "#Generate Method (except last part)\n",
    "meth_name = Method_name_enum(2)\n",
    "method = GPBO_Methods(meth_name)\n",
    "\n",
    "print(\"Method Name: \", method.method_name.name)\n",
    "print(\"Emulator?: \", method.emulator)\n",
    "print(\"Obj Func: \", method.obj.name)\n",
    "print(\"Sparse Grid?: \", method.sparse_grid)\n",
    "\n",
    "#Set Date and Time\n",
    "dateTimeObj = datetime.now()\n",
    "timestampStr = dateTimeObj.strftime(\"%d-%b-%Y (%H:%M:%S)\")\n",
    "# print(\"Date and Time: \", timestampStr)\n",
    "# DateTime = dateTimeObj.strftime(\"%Y/%m/%d/%H-%M-%S%p\")\n",
    "DateTime = dateTimeObj.strftime(\"%Y/%m/%d/%H-%M\")\n",
    "DateTime = None ##For Testing"
   ]
  },
  {
   "cell_type": "markdown",
   "id": "782586e9",
   "metadata": {},
   "source": [
    "## Initialize Simulator"
   ]
  },
  {
   "cell_type": "code",
   "execution_count": 3,
   "id": "28ea5725",
   "metadata": {},
   "outputs": [],
   "source": [
    "def simulator_helper_test_fxns(cs_name, indecies_to_consider, noise_mean, noise_std, case_study_parameters):\n",
    "    \"\"\"\n",
    "    Sets the model for calculating y based off of the case study identifier.\n",
    "\n",
    "    Parameters\n",
    "    ----------\n",
    "    cs_name: Class, The name/enumerator associated with the case study being evaluated\n",
    "\n",
    "    Returns\n",
    "    -------\n",
    "    calc_y_fxn: function, the function used for calculation is case study cs_name.name\n",
    "    \"\"\"\n",
    "    #Note: Add your function name from GPBO_Class_fxns.py here\n",
    "    if cs_name.value == 1:      \n",
    "        theta_ref = np.array([1.0, -1.0])\n",
    "        theta_names = ['theta_1', 'theta_2']\n",
    "        bounds_x_l = [-2]\n",
    "        bounds_x_u = [2]\n",
    "        bounds_theta_l = [-2, -2]\n",
    "        bounds_theta_u = [ 2,  2]\n",
    "        calc_y_fxn = calc_cs1_polynomial\n",
    "        \n",
    "    elif cs_name.value == 2:     \n",
    "        theta_ref = np.array([-200,-100,-170,15,-1,-1,-6.5,0.7,0,0,11,0.6,-10,-10,-6.5,0.7,1,0,-0.5,-1,0,0.5,1.5,1])\n",
    "                             \n",
    "        theta_names = ['A_1', 'A_2', 'A_3', 'A_4', 'a_1', 'a_2', 'a_3', 'a_4', 'b_1', 'b_2', 'b_3', 'b_4', 'c_1', \n",
    "                       'c_2', 'c_3', 'c_4', 'x0_1', 'x0_2', 'x0_3', 'x0_4', 'x1_1', 'x1_2', 'x1_3', 'x1_4']\n",
    "        bounds_x_l = [-1.5, -0.5]\n",
    "        bounds_x_u = [1, 2]\n",
    "        bounds_theta_l = [-300,-200,-250, 5,-2,-2,-10, -2, -2,-2,5,-2,-20,-20, -10,-1 ,-2,-2,-2, -2,-2,-2,0,-2]\n",
    "        bounds_theta_u = [-100,  0, -150, 20,2, 2, 0,  2,  2,  2, 15,2, 0,0   , 0,  2, 2,  2, 2, 2 ,2 , 2, 2,2]\n",
    "        calc_y_fxn = calc_muller\n",
    "        \n",
    "    else:\n",
    "        raise ValueError(\"self.CaseStudyParameters.cs_name.value must exist!\")\n",
    "\n",
    "    return Simulator(indecies_to_consider, \n",
    "                     theta_ref,\n",
    "                     theta_names,\n",
    "                     bounds_theta_l, \n",
    "                     bounds_x_l, \n",
    "                     bounds_theta_u, \n",
    "                     bounds_x_u, \n",
    "                     noise_mean,\n",
    "                     noise_std,\n",
    "                     case_study_parameters,\n",
    "                     calc_y_fxn)"
   ]
  },
  {
   "cell_type": "markdown",
   "id": "1295b8e0",
   "metadata": {},
   "source": [
    "## Initialize Case Study and Simulator"
   ]
  },
  {
   "cell_type": "code",
   "execution_count": 4,
   "id": "5ba036fa",
   "metadata": {},
   "outputs": [
    {
     "name": "stdout",
     "output_type": "stream",
     "text": [
      "CS Name:  CS2\n"
     ]
    }
   ],
   "source": [
    "cs_name  = CS_name_enum(2)\n",
    "print(\"CS Name: \", cs_name.name)\n",
    "\n",
    "# indecies_to_consider = list(range(0, 2)) #This is what changes for different subproblems of CS1\n",
    "indecies_to_consider = list(range(4, 12)) #This is what changes for different subproblems of CS1\n",
    "\n",
    "ep0 = 1\n",
    "sep_fact = 0.8\n",
    "normalize = False\n",
    "lhs_gen_theta = True\n",
    "eval_all_pairs = False\n",
    "noise_mean = 0\n",
    "noise_std = 0.01\n",
    "noise_std = 0\n",
    "kernel = Kernel_enum(1)\n",
    "set_lenscl = 1\n",
    "outputscl = False\n",
    "retrain_GP = 2\n",
    "GP_train_iter = 300\n",
    "bo_iter_tot = 3\n",
    "bo_run_tot = 2\n",
    "save_fig = False\n",
    "save_data = False\n",
    "num_data = None\n",
    "seed = 3\n",
    "\n",
    "cs_params = CaseStudyParameters(cs_name, ep0, sep_fact, normalize, eval_all_pairs, bo_iter_tot, bo_run_tot, \n",
    "                         save_fig, save_data, DateTime, seed)\n",
    "\n",
    "simulator = simulator_helper_test_fxns(cs_name, indecies_to_consider, noise_mean, noise_std, cs_params)"
   ]
  },
  {
   "cell_type": "markdown",
   "id": "2e45010f",
   "metadata": {},
   "source": [
    "## Test Data"
   ]
  },
  {
   "cell_type": "code",
   "execution_count": 5,
   "id": "2bd2e3cf",
   "metadata": {},
   "outputs": [],
   "source": [
    "#Generate exp_data\n",
    "num_x_data = 5\n",
    "gen_meth_x = Gen_meth_enum(2)\n",
    "exp_data = simulator.gen_exp_data(num_x_data, gen_meth_x)"
   ]
  },
  {
   "cell_type": "code",
   "execution_count": 6,
   "id": "ee24275f",
   "metadata": {},
   "outputs": [],
   "source": [
    "#Test dimension checkers\n",
    "# assert exp_data.get_num_theta() == 5\n",
    "# assert exp_data.get_dim_theta() == 2\n",
    "# assert exp_data.get_num_x_vals() == 5\n",
    "# assert exp_data.get_dim_x_vals() == 1"
   ]
  },
  {
   "cell_type": "code",
   "execution_count": 7,
   "id": "19eac011",
   "metadata": {},
   "outputs": [],
   "source": [
    "#Test normalize\n",
    "# scaled_exp_data = exp_data.norm_feature_data()\n",
    "# assert np.allclose(np.array([[0.75, 0.25], \n",
    "#                              [0.75, 0.25], \n",
    "#                              [0.75, 0.25], \n",
    "#                              [0.75, 0.25], \n",
    "#                              [0.75, 0.25]]), scaled_exp_data.theta_vals) == True\n",
    "# assert np.allclose(np.array([[0.0], \n",
    "#                              [0.25], \n",
    "#                              [0.5], \n",
    "#                              [0.75], \n",
    "#                              [1]]), scaled_exp_data.x_vals) == True"
   ]
  },
  {
   "cell_type": "code",
   "execution_count": 8,
   "id": "9695a073",
   "metadata": {},
   "outputs": [],
   "source": [
    "#Test unnormalize\n",
    "exp_data = simulator.gen_exp_data(num_x_data, gen_meth_x)\n",
    "scaled_exp_data = exp_data.norm_feature_data()\n",
    "exp_data_reg = scaled_exp_data.unnorm_feature_data()\n",
    "assert np.allclose(exp_data.theta_vals, exp_data_reg.theta_vals)\n",
    "assert np.allclose(exp_data.x_vals, exp_data_reg.x_vals)"
   ]
  },
  {
   "cell_type": "code",
   "execution_count": 9,
   "id": "2e29922c",
   "metadata": {},
   "outputs": [],
   "source": [
    "# test train_test_idx_split\n",
    "train_idx, test_idx = exp_data_reg.train_test_idx_split(cs_params)\n",
    "union_set = set(train_idx).union(test_idx)\n",
    "assert (len(train_idx) + len(test_idx) == exp_data_reg.get_num_theta())\n",
    "assert set(range(exp_data_reg.get_num_theta())).issubset(union_set)"
   ]
  },
  {
   "cell_type": "code",
   "execution_count": null,
   "id": "19f07e97",
   "metadata": {},
   "outputs": [],
   "source": []
  }
 ],
 "metadata": {
  "kernelspec": {
   "display_name": "Python 3 (ipykernel)",
   "language": "python",
   "name": "python3"
  },
  "language_info": {
   "codemirror_mode": {
    "name": "ipython",
    "version": 3
   },
   "file_extension": ".py",
   "mimetype": "text/x-python",
   "name": "python",
   "nbconvert_exporter": "python",
   "pygments_lexer": "ipython3",
   "version": "3.9.12"
  }
 },
 "nbformat": 4,
 "nbformat_minor": 5
}
