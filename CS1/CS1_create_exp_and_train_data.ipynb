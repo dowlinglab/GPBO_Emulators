{
 "cells": [
  {
   "cell_type": "code",
   "execution_count": 1,
   "id": "bc88a957",
   "metadata": {},
   "outputs": [
    {
     "name": "stderr",
     "output_type": "stream",
     "text": [
      "/afs/crc.nd.edu/user/m/mcarlozo/.conda/envs/Toy_Problem_env/lib/python3.9/site-packages/tqdm/auto.py:22: TqdmWarning: IProgress not found. Please update jupyter and ipywidgets. See https://ipywidgets.readthedocs.io/en/stable/user_install.html\n",
      "  from .autonotebook import tqdm as notebook_tqdm\n"
     ]
    }
   ],
   "source": [
    "from bo_functions import LHS_Design\n",
    "from bo_functions import create_y_data\n",
    "from bo_functions import calc_y_exp\n",
    "from bo_functions import test_train_split\n",
    "from bo_functions import create_sse_data\n",
    "from scipy.stats import qmc\n",
    "import numpy as np\n",
    "import pandas as pd\n",
    "import os"
   ]
  },
  {
   "cell_type": "code",
   "execution_count": 2,
   "id": "2b3fd987",
   "metadata": {},
   "outputs": [],
   "source": [
    "#LHS Design in python - May switch code to use this instead for conciseness\n",
    "emulator = False\n",
    "seed = 9\n",
    "LHS_Points =20\n",
    "sampler = qmc.LatinHypercube(d=2, seed = seed)\n",
    "sample = sampler.random(n=LHS_Points)\n",
    "l_bounds =  [-2, -2]\n",
    "u_bounds =  [2, 2]\n",
    "LHS = qmc.scale(sample, l_bounds, u_bounds)\n",
    "# print(LHS)"
   ]
  },
  {
   "cell_type": "code",
   "execution_count": 3,
   "id": "fb95b690",
   "metadata": {},
   "outputs": [],
   "source": [
    "#Creates Experimental data and saves to a csv\n",
    "Theta_True = np.array([1,-1])\n",
    "Xexp = np.array([-2,-1,0,1,2])\n",
    "n = len(Xexp)\n",
    "noise_std = 0.1**2\n",
    "d = 2\n",
    "Yexp = calc_y_exp(Theta_True, Xexp, noise_std)\n",
    "\n",
    "Exp_data = np.column_stack((Xexp,Yexp))\n",
    "\n",
    "df = pd.DataFrame(Exp_data, columns = [\"Xexp\",\"Yexp\"])\n",
    "\n",
    "path = '../Input_CSVs/Exp_Data/d='+str(d)\n",
    "if not os.path.exists(path):\n",
    "    os.makedirs(path)\n",
    "df.to_csv(os.path.join(path,'n='+str(n)+'.csv'))"
   ]
  },
  {
   "cell_type": "code",
   "execution_count": 4,
   "id": "b6e89f9d",
   "metadata": {},
   "outputs": [],
   "source": [
    "all_p = []\n",
    "\n",
    "#Loop over # of Theta Points\n",
    "for i in range(len(LHS)):\n",
    "    #Loop over # of state points\n",
    "    if emulator == True:\n",
    "        for j in Xexp:\n",
    "            #Ensure correct index will be used\n",
    "            index = int(i%LHS_Points + np.floor(i/LHS_Points))\n",
    "            #Append data point to list\n",
    "            all_p.append([LHS[index,0],LHS[index,1],j])\n",
    "    else:\n",
    "        all_p.append([LHS[i,0],LHS[i,1], 0]) #Note, zero is a placeholder and doesn't matter\n",
    "\n",
    "#Turn all_p into an array\n",
    "all_p = np.array([all_p])[0]\n",
    "# print(all_p)\n",
    "# print(all_p[0:5])\n",
    "# print(all_p[5:10])\n",
    "# print(all_p)\n"
   ]
  },
  {
   "cell_type": "code",
   "execution_count": 5,
   "id": "988797bc",
   "metadata": {},
   "outputs": [],
   "source": [
    "#Create Training Data and Testing Data\n",
    "#Set noise parameters and load csv file to generate training data\n",
    "# all_p = LHS_Design(\"LHS_Toy_3_Input.csv\")\n",
    "t = str(len(all_p))\n",
    "\n",
    "if emulator == False:\n",
    "    all_2_in_y = create_sse_data(d,all_p,Xexp,Yexp)\n",
    "    all_2_in_y_ln_obj = create_sse_data(d,all_p,Xexp,Yexp, obj = \"LN_obj\")\n",
    "    all_2_data = np.column_stack((all_p, all_2_in_y))\n",
    "    all_2_data_ln_obj = np.column_stack((all_p, all_2_in_y_ln_obj))\n",
    "    titles_all = np.array(['all_st_data','all_st_ln_obj_data'])\n",
    "    all_array = np.array([all_2_data,all_2_data_ln_obj])\n",
    "\n",
    "else:\n",
    "    all_3_in_y = create_y_data(all_p)\n",
    "    all_3_data = np.column_stack((all_p, all_3_in_y))\n",
    "    titles_all = np.array(['all_emul_data'])\n",
    "    all_array = np.array([all_3_data])\n",
    "\n",
    "#Save Train Data/Test Data\n",
    "for i in range(len(titles_all)):\n",
    "    df_all = pd.DataFrame(all_array[i], columns = [\"Theta_1\",\"Theta_2\",\"X Coord\",\"y-value\"])\n",
    "    path = '../Input_CSVs/Train_Data/d='+str(d)+\"/\"+titles_all[i]+\"/\"\n",
    "    if not os.path.exists(path):\n",
    "        os.makedirs(path)\n",
    "    df_all.to_csv(os.path.join(path,'t='+t)+'.csv')"
   ]
  },
  {
   "cell_type": "code",
   "execution_count": null,
   "id": "3de894a0",
   "metadata": {},
   "outputs": [],
   "source": []
  },
  {
   "cell_type": "code",
   "execution_count": null,
   "id": "1623ad93",
   "metadata": {},
   "outputs": [],
   "source": [
    "\n"
   ]
  }
 ],
 "metadata": {
  "kernelspec": {
   "display_name": "Python 3 (ipykernel)",
   "language": "python",
   "name": "python3"
  },
  "language_info": {
   "codemirror_mode": {
    "name": "ipython",
    "version": 3
   },
   "file_extension": ".py",
   "mimetype": "text/x-python",
   "name": "python",
   "nbconvert_exporter": "python",
   "pygments_lexer": "ipython3",
   "version": "3.9.12"
  }
 },
 "nbformat": 4,
 "nbformat_minor": 5
}
