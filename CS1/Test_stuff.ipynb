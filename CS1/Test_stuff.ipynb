{
 "cells": [
  {
   "cell_type": "code",
   "execution_count": 1,
   "id": "d846a452",
   "metadata": {},
   "outputs": [
    {
     "name": "stderr",
     "output_type": "stream",
     "text": [
      "/afs/crc.nd.edu/user/m/mcarlozo/.conda/envs/Toy_Problem_env/lib/python3.9/site-packages/tqdm/auto.py:22: TqdmWarning: IProgress not found. Please update jupyter and ipywidgets. See https://ipywidgets.readthedocs.io/en/stable/user_install.html\n",
      "  from .autonotebook import tqdm as notebook_tqdm\n"
     ]
    }
   ],
   "source": [
    "import gpytorch\n",
    "import numpy as np\n",
    "import pandas as pd\n",
    "import torch\n",
    "from datetime import datetime\n",
    "\n",
    "from bo_functions import bo_iter_w_runs\n",
    "from bo_functions import find_train_doc_path\n",
    "from bo_functions import set_ep\n",
    "from bo_plotters import save_csv\n",
    "import os\n",
    "\n",
    "import matplotlib as mpl\n",
    "mpl.rcParams['figure.dpi'] = 300"
   ]
  },
  {
   "cell_type": "code",
   "execution_count": 4,
   "id": "f36738c9",
   "metadata": {},
   "outputs": [
    {
     "name": "stdout",
     "output_type": "stream",
     "text": [
      "(5,)\n"
     ]
    }
   ],
   "source": [
    "Array = np.array([[1,2,2],[1,2,3]])\n",
    "Array= np.array([-2,-1,0,1,2])\n",
    "# Array = pd.DataFrame(Array, columns = ['Column_A','Column_B','Column_C'])\n",
    "print(Array.shape)\n",
    "# path = save_csv(Array, \"Test_folder/Test\", ext = \"csv\")"
   ]
  },
  {
   "cell_type": "code",
   "execution_count": null,
   "id": "a2a6a52e",
   "metadata": {},
   "outputs": [],
   "source": [
    "\n",
    "print(path)"
   ]
  },
  {
   "cell_type": "code",
   "execution_count": 3,
   "id": "96e33c8a",
   "metadata": {},
   "outputs": [
    {
     "name": "stdout",
     "output_type": "stream",
     "text": [
      "[[ 1 -1]\n",
      " [ 1 -1]\n",
      " [ 1 -1]\n",
      " [ 1 -1]\n",
      " [ 1 -1]]\n",
      "[[ 1 -1 -2]\n",
      " [ 1 -1 -1]\n",
      " [ 1 -1  0]\n",
      " [ 1 -1  1]\n",
      " [ 1 -1  2]]\n"
     ]
    }
   ],
   "source": [
    "p_true = np.array([1,-1])\n",
    "x_space = np.array([-2,-1,0,1,2])\n",
    "len_x = len(x_space)\n",
    "p_true_3D = np.repeat(p_true,len_x).reshape(-1,len_x).T\n",
    "print(p_true_3D)\n",
    "p_true_3D_full = np.hstack((p_true_3D, x_space.reshape(len_x,-1)))\n",
    "print(p_true_3D_full)"
   ]
  },
  {
   "cell_type": "code",
   "execution_count": 13,
   "id": "8a26382a",
   "metadata": {},
   "outputs": [],
   "source": [
    "argmin = np.random.rand(2,2,3)"
   ]
  },
  {
   "cell_type": "code",
   "execution_count": 14,
   "id": "d575d594",
   "metadata": {},
   "outputs": [
    {
     "name": "stdout",
     "output_type": "stream",
     "text": [
      "[[[0.61495354 0.739281   0.92708458]\n",
      "  [0.3725614  0.93244842 0.50091204]]\n",
      "\n",
      " [[0.47758085 0.03017208 0.71730506]\n",
      "  [0.00192312 0.21299985 0.578655  ]]]\n"
     ]
    }
   ],
   "source": [
    "print(argmin)"
   ]
  },
  {
   "cell_type": "code",
   "execution_count": 15,
   "id": "556af5dc",
   "metadata": {},
   "outputs": [
    {
     "name": "stdout",
     "output_type": "stream",
     "text": [
      "[[[0.3725614  0.93244842 0.50091204]]\n",
      "\n",
      " [[0.00192312 0.21299985 0.578655  ]]]\n"
     ]
    }
   ],
   "source": [
    "if len(argmin[0]) > 1:\n",
    "#         rand_ind = np.random.randint(np.max(argmin[0]))\n",
    "#         argmin = np.array([[argmin[0,rand_ind]],[argmin[1,rand_ind]]])\n",
    "    #argmin.T[0].T\n",
    "    argmin = np.array([[argmin[0,1]],[argmin[1,1]]])\n",
    "print(argmin)"
   ]
  },
  {
   "cell_type": "code",
   "execution_count": null,
   "id": "50a95cba",
   "metadata": {},
   "outputs": [],
   "source": []
  },
  {
   "cell_type": "code",
   "execution_count": null,
   "id": "1fe57976",
   "metadata": {},
   "outputs": [],
   "source": []
  }
 ],
 "metadata": {
  "kernelspec": {
   "display_name": "Python 3 (ipykernel)",
   "language": "python",
   "name": "python3"
  },
  "language_info": {
   "codemirror_mode": {
    "name": "ipython",
    "version": 3
   },
   "file_extension": ".py",
   "mimetype": "text/x-python",
   "name": "python",
   "nbconvert_exporter": "python",
   "pygments_lexer": "ipython3",
   "version": "3.9.12"
  }
 },
 "nbformat": 4,
 "nbformat_minor": 5
}
