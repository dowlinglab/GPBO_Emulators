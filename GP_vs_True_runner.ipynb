{
 "cells": [
  {
   "cell_type": "code",
   "execution_count": 1,
   "id": "6a807dce",
   "metadata": {},
   "outputs": [
    {
     "name": "stderr",
     "output_type": "stream",
     "text": [
      "/afs/crc.nd.edu/user/m/mcarlozo/.conda/envs/Toy_Problem_env/lib/python3.9/site-packages/tqdm/auto.py:22: TqdmWarning: IProgress not found. Please update jupyter and ipywidgets. See https://ipywidgets.readthedocs.io/en/stable/user_install.html\n",
      "  from .autonotebook import tqdm as notebook_tqdm\n"
     ]
    },
    {
     "name": "stdout",
     "output_type": "stream",
     "text": [
      "2023-03-30 14:20:00\n"
     ]
    }
   ],
   "source": [
    "import sys\n",
    "import gpytorch\n",
    "import numpy as np\n",
    "import pandas as pd\n",
    "import torch\n",
    "from datetime import datetime, timedelta\n",
    "from scipy.stats import qmc\n",
    "\n",
    "from bo_methods_lib.GP_Vs_True import Compare_GP_True\n",
    "from bo_methods_lib.GP_Vs_True_Sensitivity import Compare_GP_True_Movie\n",
    "# from bo_methods_lib.GP_Validation import LOO_Analysis\n",
    "from bo_methods_lib.bo_functions_generic import round_time, gen_theta_set,gen_x_set, find_train_doc_path, set_ep, clean_1D_arrays\n",
    "\n",
    "import matplotlib as mpl\n",
    "mpl.rcParams['figure.dpi'] = 300\n",
    "\n",
    "import warnings\n",
    "warnings.simplefilter(\"ignore\", category=RuntimeWarning)"
   ]
  },
  {
   "cell_type": "code",
   "execution_count": 2,
   "id": "e8886b30",
   "metadata": {},
   "outputs": [
    {
     "name": "stdout",
     "output_type": "stream",
     "text": [
      "Date and Time:  30-Mar-2023 (14:20:00)\n",
      "2023/03/30/14-20\n"
     ]
    }
   ],
   "source": [
    "#Set Date and Time\n",
    "dateTimeObj = round_time()\n",
    "timestampStr = dateTimeObj.strftime(\"%d-%b-%Y (%H:%M:%S)\")\n",
    "print(\"Date and Time: \", timestampStr)\n",
    "# DateTime = dateTimeObj.strftime(\"%Y/%m/%d/%H-%M-%S%p\")\n",
    "DateTime = dateTimeObj.strftime(\"%Y/%m/%d/%H-%M\")\n",
    "print(DateTime)\n",
    "# DateTime = \"2022/11/29/09-48\"\n",
    "DateTime = None ##For Testing"
   ]
  },
  {
   "cell_type": "code",
   "execution_count": 3,
   "id": "f4cfc26f",
   "metadata": {},
   "outputs": [],
   "source": [
    "#Set Parameters\n",
    "#Need to run at a and b, need 2 arrays to test that this will work\n",
    "CS = 2.2\n",
    "\n",
    "Bound_Cut = True\n",
    "eval_Train = True\n",
    "\n",
    "Constants = np.array([[-200,-100,-170,15],\n",
    "                      [-1,-1,-6.5,0.7],\n",
    "                      [0,0,11,0.6],\n",
    "                      [-10,-10,-6.5,0.7],\n",
    "                      [1,0,-0.5,-1],\n",
    "                      [0,0.5,1.5,1]])\n",
    "if CS == 2.2:\n",
    "    skip_param_types = 1 #This is what changes for subpoint\n",
    "    true_p = Constants[skip_param_types:skip_param_types+2].flatten()\n",
    "    param_dict = {0 : 'a_1', 1 : 'a_2', 2 : 'a_3', 3 : 'a_4',\n",
    "                  4 : 'b_1', 5 : 'b_2', 6 : 'b_3', 7 : 'b_4'}\n",
    "    exp_d = 2\n",
    "    if Bound_Cut == True:\n",
    "        bounds_x = np.array([[-1.0, 0.0],\n",
    "                            [   0.5, 1.5]])\n",
    "        n = 25 #Number of experimental data points to use\n",
    "    else:    \n",
    "        bounds_x = np.array([[-1.5, -0.5],\n",
    "                     [   1,    2]])\n",
    "        n = 27 #Number of experimental data points to use\n",
    "    bounds_p = np.array([[-2, -2, -10, -2, -2, -2,  5, -2],\n",
    "                   [ 2,  2,   0,  2,  2,  2, 15,  2]])\n",
    "\n",
    "else:\n",
    "    Constants = true_p = np.array([1,-1])\n",
    "    skip_param_types = 0\n",
    "    param_dict = {0 : '\\\\theta_1', 1 : '\\\\theta_2'}\n",
    "    exp_d = 1\n",
    "    n = 5\n",
    "    bounds_x = np.array([[-2], [2]])\n",
    "    bounds_p = np.array([[-2, -2],\n",
    "                         [ 2,  2]])\n",
    "\n",
    "# print(Theta_True)\n",
    "t = 20\n",
    "# percentiles = np.linspace(-1.0,1.0,41)\n",
    "percentiles = np.linspace(0,0,1)\n",
    "d = len(true_p)\n",
    "kernel_func = [\"Mat_52\"]\n",
    "train_iter = 300\n",
    "initialize = 2\n",
    "noise_std = 0.1\n",
    "set_lengthscale = np.linspace(1e-6,1.0,2)\n",
    "set_lengthscale = [None]\n",
    "verbose = False\n",
    "norm = False\n",
    "\n",
    "obj = \"obj\"\n",
    "\n",
    "emulator =  True\n",
    "save_figure = True\n",
    "save_figure = False\n",
    "save_csvs = False\n",
    "\n",
    "if Bound_Cut == True:\n",
    "    cut_bounds = '_cut_bounds'\n",
    "else:\n",
    "    cut_bounds = \"\"\n",
    "\n",
    "#Pull Experimental data from CSV\n",
    "exp_data_doc = 'Input_CSVs/Exp_Data/d='+str(exp_d)+'/n='+str(n)+cut_bounds+'.csv'\n",
    "exp_data = np.array(pd.read_csv(exp_data_doc, header=0,sep=\",\"))\n",
    "Xexp = exp_data[:,1:exp_d+1]\n",
    "Yexp = exp_data[:,-1]\n",
    "\n",
    "Xexp = clean_1D_arrays(Xexp)\n",
    "\n",
    "#Define GP Testing space\n",
    "p=20\n",
    "# print(bounds_x)\n",
    "X_space = gen_x_set(LHS = False, n_points = p, dimensions = exp_d, bounds = bounds_x)\n",
    "# print(X_space[-5:,:])"
   ]
  },
  {
   "cell_type": "code",
   "execution_count": 4,
   "id": "da017483",
   "metadata": {
    "scrolled": true
   },
   "outputs": [
    {
     "name": "stdout",
     "output_type": "stream",
     "text": [
      "Date and Time:  30-Mar-2023 (14:21:43)\n",
      "Date and Time Saved:  None\n",
      "Input_CSVs/Train_Data/d=8/all_emul_data/t=500_cut_bounds.csv\n",
      "CPU times: user 2.95 ms, sys: 990 µs, total: 3.94 ms\n",
      "Wall time: 3.2 ms\n"
     ]
    }
   ],
   "source": [
    "%%time\n",
    "#Set Date and Time\n",
    "dateTimeObj = datetime.now()\n",
    "timestampStr = dateTimeObj.strftime(\"%d-%b-%Y (%H:%M:%S)\")\n",
    "print(\"Date and Time: \", timestampStr)\n",
    "# DateTime = dateTimeObj.strftime(\"%Y/%m/%d/%H-%M-%S%p\")\n",
    "DateTime = dateTimeObj.strftime(\"%Y/%m/%d/%H-%M\")\n",
    "DateTime = None ##For Testing\n",
    "print(\"Date and Time Saved: \", DateTime)\n",
    "save_figure = True\n",
    "save_csvs = True\n",
    "\n",
    "t_use = int(t*n)\n",
    "all_data_doc = find_train_doc_path(emulator, obj, d, t_use, bound_cut = Bound_Cut)\n",
    "print(all_data_doc)\n",
    "all_data = np.array(pd.read_csv(all_data_doc, header=0,sep=\",\"))"
   ]
  },
  {
   "cell_type": "code",
   "execution_count": 5,
   "id": "91ef1ace",
   "metadata": {
    "scrolled": false
   },
   "outputs": [
    {
     "name": "stdout",
     "output_type": "stream",
     "text": [
      "Init. Noise 1.000 \n",
      "Init. Outputscale: 2.000\n",
      "Init. Lengthscale of Best Restart \n",
      " [10.9763 14.3038 12.0553 10.8977  8.4731 12.9179  8.7517 17.8355 19.2733\n",
      "  7.6688]\n",
      "Lengthscale [[3.90700e-01 3.12620e+00 3.63183e+01 2.95040e+00 1.41016e+01 1.66841e+01\n",
      "  8.14390e+00 1.38129e+01 1.10654e+01 2.80000e-03]]\n",
      "Noise for lengthscale 5.2257\n",
      "Outputscale 21.4387\n",
      "Base Theta Train for Movies: tensor([-1.1740, -1.6574, -9.8016, -1.5555,  0.6568,  0.0169, 14.5698, -0.1836])\n"
     ]
    }
   ],
   "source": [
    "# Compare_GP_True(all_data, X_space, Xexp, Yexp, Constants, true_p, obj, CS, \n",
    "#                 skip_param_types, set_lengthscale, train_iter, noise_std, verbose, DateTime, \n",
    "#                 save_figure, eval_Train = eval_Train)\n",
    "for set_lengthscl in set_lengthscale:\n",
    "    for kernel in kernel_func:\n",
    "        Compare_GP_True_Movie(all_data, X_space, Xexp, Yexp, Constants, true_p, CS, bounds_p, percentiles,\n",
    "                skip_param_types, kernel, set_lengthscl, train_iter, initialize, noise_std, verbose, DateTime, \n",
    "                save_csvs, save_figure, eval_Train = eval_Train, CutBounds = Bound_Cut)"
   ]
  }
 ],
 "metadata": {
  "kernelspec": {
   "display_name": "Python 3 (ipykernel)",
   "language": "python",
   "name": "python3"
  },
  "language_info": {
   "codemirror_mode": {
    "name": "ipython",
    "version": 3
   },
   "file_extension": ".py",
   "mimetype": "text/x-python",
   "name": "python",
   "nbconvert_exporter": "python",
   "pygments_lexer": "ipython3",
   "version": "3.9.12"
  }
 },
 "nbformat": 4,
 "nbformat_minor": 5
}
