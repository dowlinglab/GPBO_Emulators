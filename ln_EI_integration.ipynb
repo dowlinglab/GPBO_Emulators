{
 "cells": [
  {
   "cell_type": "code",
   "execution_count": 1,
   "id": "10d5533c",
   "metadata": {},
   "outputs": [
    {
     "name": "stderr",
     "output_type": "stream",
     "text": [
      "/afs/crc.nd.edu/user/m/mcarlozo/.conda/envs/Toy_Problem_env/lib/python3.9/site-packages/tqdm/auto.py:22: TqdmWarning: IProgress not found. Please update jupyter and ipywidgets. See https://ipywidgets.readthedocs.io/en/stable/user_install.html\n",
      "  from .autonotebook import tqdm as notebook_tqdm\n"
     ]
    }
   ],
   "source": [
    "import numpy as np\n",
    "from scipy.stats import norm\n",
    "from scipy import integrate\n",
    "import torch\n",
    "\n",
    "from bo_functions import ei_approx_ln_term\n",
    "from bo_functions import calc_ei_emulator"
   ]
  },
  {
   "cell_type": "code",
   "execution_count": 3,
   "id": "8fb6250e",
   "metadata": {},
   "outputs": [],
   "source": [
    "error_best = 1.0376255530659095\n",
    "pred_mean = np.array([-8.14817608, -1.95393033,  0.00769104701, -2.03767010, -2.11993305])\n",
    "pred_stdev = np.array([1.58153871, 1.52678842, 1.52182998, 1.52678842, 1.58153871])\n",
    "pred_var = np.array([1.58153871, 1.52678842, 1.52182998, 1.52678842, 1.58153871])**2\n",
    "y_target = np.array([-14.0031178, -2.99270996,  0.00217820788,  0.991009082, 5.97513219])\n",
    "explore_bias = torch.tensor([1])"
   ]
  },
  {
   "cell_type": "code",
   "execution_count": 5,
   "id": "da8238da",
   "metadata": {},
   "outputs": [],
   "source": [
    "error_best = 1.0376255530659095\n",
    "pred_mean = np.array([-8.14817608, -1.95393033,  0.00769104701, -2.03767010, -2.11993305])\n",
    "pred_stdev = np.array([1.58153871, 1.52678842, 1.52182998, 1.52678842, 1.58153871])\n",
    "pred_var = np.array([1.58153871, 1.52678842, 1.52182998, 1.52678842, 1.58153871])**2\n",
    "y_target = np.array([-14.0031178, -2.99270996,  0.00217820788,  0.991009082, 5.97513219])\n",
    "explore_bias = torch.tensor([1])"
   ]
  },
  {
   "cell_type": "code",
   "execution_count": 6,
   "id": "e600622a",
   "metadata": {},
   "outputs": [
    {
     "name": "stdout",
     "output_type": "stream",
     "text": [
      "tensor([0.0043], dtype=torch.float64) -0.0006488282026193835\n",
      "tensor([0.6488], dtype=torch.float64) 0.6956272650523775\n",
      "tensor([0.7579], dtype=torch.float64) 0.89634916087324\n",
      "tensor([0.1946], dtype=torch.float64) 0.09623339678034726\n",
      "tensor([2.5877e-05], dtype=torch.float64) -1.1579830923517208e-05\n",
      "tensor([3.2931], dtype=torch.float64)\n",
      "CPU times: user 336 ms, sys: 9.74 ms, total: 345 ms\n",
      "Wall time: 333 ms\n"
     ]
    }
   ],
   "source": [
    "%%time\n",
    "ei = 0\n",
    "\n",
    "for i in range(len(y_target)):\n",
    "    with np.errstate(divide = 'warn'):\n",
    "        bound_a = ((y_target[i] - pred_mean[i]) + np.sqrt(np.exp(error_best*explore_bias)))/pred_stdev[i] #1xn\n",
    "        bound_b = ((y_target[i] - pred_mean[i]) - np.sqrt(np.exp(error_best*explore_bias)))/pred_stdev[i] #1xn\n",
    "        bound_lower = np.min([bound_a,bound_b])\n",
    "        bound_upper = np.max([bound_a,bound_b])\n",
    "#         print(bound_lower,bound_upper)\n",
    "\n",
    "        args = (error_best, pred_mean[i], pred_stdev[i], y_target[i], explore_bias)\n",
    "\n",
    "        ei_term_1 = (error_best*explore_bias)*( norm.cdf(bound_upper)-norm.cdf(bound_lower) )\n",
    "    #         print(ei_term_1)\n",
    "        ei_term_2_out = integrate.quad(ei_approx_ln_term, bound_lower, bound_upper, args = args, full_output = 1)\n",
    "        ei_term_2 = (-1)*ei_term_2_out[0] \n",
    "#         print(ei_term_1, ei_term_2)\n",
    "        term_2_abs_err = ei_term_2_out[1]\n",
    "        EI = ei_term_1 + ei_term_2\n",
    "        ei += EI\n",
    "\n",
    "print(ei)\n",
    "\n",
    "#Note: 1min + 45sec per iteration"
   ]
  },
  {
   "cell_type": "code",
   "execution_count": 4,
   "id": "d2f418d6",
   "metadata": {},
   "outputs": [
    {
     "name": "stderr",
     "output_type": "stream",
     "text": [
      "/afs/crc.nd.edu/user/m/mcarlozo/.conda/envs/Toy_Problem_env/lib/python3.9/site-packages/numpy/core/fromnumeric.py:86: FutureWarning: The input object of type 'Tensor' is an array-like implementing one of the corresponding protocols (`__array__`, `__array_interface__` or `__array_struct__`); but not a sequence (or 0-D). In the future, this object will be coerced as if it was first converted using `np.array(obj)`. To retain the old behaviour, you have to either modify the type 'Tensor', or assign to an empty array created with `np.empty(correct_shape, dtype=object)`.\n",
      "  return ufunc.reduce(obj, axis, dtype, out, **passkwargs)\n",
      "/afs/crc.nd.edu/user/m/mcarlozo/.conda/envs/Toy_Problem_env/lib/python3.9/site-packages/numpy/core/fromnumeric.py:86: VisibleDeprecationWarning: Creating an ndarray from ragged nested sequences (which is a list-or-tuple of lists-or-tuples-or ndarrays with different lengths or shapes) is deprecated. If you meant to do this, you must specify 'dtype=object' when creating the ndarray.\n",
      "  return ufunc.reduce(obj, axis, dtype, out, **passkwargs)\n"
     ]
    },
    {
     "name": "stdout",
     "output_type": "stream",
     "text": [
      "tensor([3.2931], dtype=torch.float64)\n",
      "CPU times: user 316 ms, sys: 8.63 ms, total: 325 ms\n",
      "Wall time: 320 ms\n"
     ]
    }
   ],
   "source": [
    "%%time\n",
    "ei = 0\n",
    "\n",
    "for i in range(len(y_target)):\n",
    "    ei_x = calc_ei_emulator(error_best,pred_mean[i],pred_var[i],y_target[i], explore_bias, obj = \"LN_obj\")\n",
    "    ei += ei_x\n",
    "    \n",
    "print(ei)"
   ]
  },
  {
   "cell_type": "code",
   "execution_count": null,
   "id": "b2670eb7",
   "metadata": {},
   "outputs": [],
   "source": []
  }
 ],
 "metadata": {
  "kernelspec": {
   "display_name": "Python 3 (ipykernel)",
   "language": "python",
   "name": "python3"
  },
  "language_info": {
   "codemirror_mode": {
    "name": "ipython",
    "version": 3
   },
   "file_extension": ".py",
   "mimetype": "text/x-python",
   "name": "python",
   "nbconvert_exporter": "python",
   "pygments_lexer": "ipython3",
   "version": "3.9.12"
  }
 },
 "nbformat": 4,
 "nbformat_minor": 5
}
