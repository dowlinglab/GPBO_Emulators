{
 "cells": [
  {
   "cell_type": "code",
   "execution_count": 1,
   "id": "bc88a957",
   "metadata": {},
   "outputs": [],
   "source": [
    "from bo_functions import LHS_Design\n",
    "from bo_functions import create_y_data\n",
    "from bo_functions import calc_y_exp\n",
    "from bo_functions import test_train_split\n",
    "from bo_functions import create_sse_data\n",
    "from scipy.stats import qmc\n",
    "import numpy as np\n",
    "import pandas as pd"
   ]
  },
  {
   "cell_type": "raw",
   "id": "12121812",
   "metadata": {},
   "source": [
    "#LHS Design in python - May switch code to use this instead for conciseness\n",
    "sampler = qmc.LatinHypercube(d=3)\n",
    "sample = sampler.random(n=25)\n",
    "l_bounds =  [-2, -2,-2]\n",
    "u_bounds =  [2, 2,2]\n",
    "LHS = qmc.scale(sample, l_bounds, u_bounds)"
   ]
  },
  {
   "cell_type": "code",
   "execution_count": 2,
   "id": "fb95b690",
   "metadata": {},
   "outputs": [],
   "source": [
    "#Creates Experimental data and saves to a csv\n",
    "Theta_True = np.array([1,-1])\n",
    "Xexp = np.array([-2,-1,0,1,2])\n",
    "noise_std = 0.1**2\n",
    "q = 3\n",
    "\n",
    "Yexp = calc_y_exp(Theta_True, Xexp, noise_std)\n",
    "\n",
    "Exp_data = np.column_stack((Xexp,Yexp))\n",
    "df = pd.DataFrame(Exp_data, columns = [\"Xexp\",\"Yexp\"])\n",
    "df.to_csv('exp_data.csv')"
   ]
  },
  {
   "cell_type": "code",
   "execution_count": 3,
   "id": "37454c00",
   "metadata": {},
   "outputs": [],
   "source": [
    "#Create Training Data and Testing Data\n",
    "#Set noise parameters and load csv file to generate training data\n",
    "all_p = LHS_Design(\"LHS_Toy_3_Input.csv\")\n",
    "# all_p = LHS\n",
    "all_2_in_y = create_sse_data(q,all_p,Xexp,Yexp)\n",
    "all_2_in_y_ln_obj = create_sse_data(q,all_p,Xexp,Yexp, obj = \"LN_obj\")\n",
    "all_3_in_y = create_y_data(q,all_p)\n",
    "\n",
    "#Separate training and testing data, uses default of an 80%/20% split\n",
    "train_test_data_3_in = test_train_split(all_p,all_3_in_y)\n",
    "train_test_data_2_in = test_train_split(all_p,all_2_in_y)\n",
    "train_test_data_2_in_ln_obj = test_train_split(all_p,all_2_in_y_ln_obj)\n",
    "\n",
    "train_p = train_test_data_3_in[0] #1x19\n",
    "test_p = train_test_data_3_in[2] #1x6\n",
    "\n",
    "train_y_3_in = train_test_data_3_in[1] #1x19\n",
    "test_y_3_in = train_test_data_3_in[3] #1x6\n",
    "\n",
    "train_y_2_in = train_test_data_2_in[1] #1x19\n",
    "test_y_2_in = train_test_data_2_in[3] #1x6\n",
    "\n",
    "train_y_2_in_ln_obj = train_test_data_2_in_ln_obj[1] #1x19\n",
    "test_y_2_in_ln_obj = train_test_data_2_in_ln_obj[3] #1x6\n",
    "\n",
    "#Save Train Data\n",
    "train_3_input = np.column_stack((train_p, train_y_3_in))\n",
    "\n",
    "df = pd.DataFrame(train_3_input, columns = [\"Theta_1\",\"Theta_2\",\"X Coord\",\"y-value\"])\n",
    "df.to_csv('train_3_in_data.csv')\n",
    "\n",
    "train_2_input = np.column_stack((train_p[:,0], train_p[:,1], train_y_2_in))\n",
    "\n",
    "df = pd.DataFrame(train_2_input, columns = [\"Theta_1\",\"Theta_2\",\"y-value\"])\n",
    "df.to_csv('train_2_in_data.csv')\n",
    "\n",
    "train_2_input_ln_obj = np.column_stack((train_p[:,0], train_p[:,1], train_y_2_in_ln_obj))\n",
    "\n",
    "df = pd.DataFrame(train_2_input_ln_obj, columns = [\"Theta_1\",\"Theta_2\",\"y-value\"])\n",
    "df.to_csv('train_2_in_ln_obj_data.csv')\n",
    "\n",
    "\n",
    "#Save Test Data\n",
    "test_3_input = np.column_stack((test_p, test_y_3_in))\n",
    "\n",
    "df = pd.DataFrame(test_3_input, columns = [\"Theta_1\",\"Theta_2\",\"X Coord\",\"y-value\"])\n",
    "df.to_csv('test_3_in_data.csv')\n",
    "\n",
    "test_2_input = np.column_stack((test_p[:,0], test_p[:,1], test_y_2_in))\n",
    "\n",
    "df = pd.DataFrame(test_2_input, columns = [\"Theta_1\",\"Theta_2\",\"y-value\"])\n",
    "df.to_csv('test_2_in_data.csv')\n",
    "\n",
    "test_2_input_ln_obj = np.column_stack((test_p[:,0], test_p[:,1], test_y_2_in_ln_obj))\n",
    "\n",
    "df = pd.DataFrame(test_2_input_ln_obj, columns = [\"Theta_1\",\"Theta_2\",\"y-value\"])\n",
    "df.to_csv('test_2_in_ln_obj_data.csv')"
   ]
  },
  {
   "cell_type": "code",
   "execution_count": null,
   "id": "3de894a0",
   "metadata": {},
   "outputs": [],
   "source": []
  },
  {
   "cell_type": "code",
   "execution_count": null,
   "id": "1623ad93",
   "metadata": {},
   "outputs": [],
   "source": []
  }
 ],
 "metadata": {
  "kernelspec": {
   "display_name": "Python 3 (ipykernel)",
   "language": "python",
   "name": "python3"
  },
  "language_info": {
   "codemirror_mode": {
    "name": "ipython",
    "version": 3
   },
   "file_extension": ".py",
   "mimetype": "text/x-python",
   "name": "python",
   "nbconvert_exporter": "python",
   "pygments_lexer": "ipython3",
   "version": "3.9.12"
  }
 },
 "nbformat": 4,
 "nbformat_minor": 5
}
