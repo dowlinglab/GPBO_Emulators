{
 "cells": [
  {
   "cell_type": "code",
   "execution_count": 1,
   "id": "c95d200a",
   "metadata": {},
   "outputs": [
    {
     "name": "stderr",
     "output_type": "stream",
     "text": [
      "/afs/crc.nd.edu/user/m/mcarlozo/.conda/envs/Toy_Problem_env/lib/python3.9/site-packages/tqdm/auto.py:22: TqdmWarning: IProgress not found. Please update jupyter and ipywidgets. See https://ipywidgets.readthedocs.io/en/stable/user_install.html\n",
      "  from .autonotebook import tqdm as notebook_tqdm\n"
     ]
    }
   ],
   "source": [
    "import sys\n",
    "import gpytorch\n",
    "import numpy as np\n",
    "import pandas as pd\n",
    "import torch\n",
    "from datetime import datetime\n",
    "from scipy.stats import qmc\n",
    "import itertools\n",
    "from itertools import combinations_with_replacement, combinations, permutations\n",
    "\n",
    "import bo_methods_lib\n",
    "from bo_methods_lib.bo_methods_lib.bo_functions_generic import gen_theta_set, clean_1D_arrays\n",
    "from bo_methods_lib.bo_methods_lib.GPBO_Classes_New import * #Fix this later\n",
    "from bo_methods_lib.bo_methods_lib.GPBO_Class_fxns import * #Fix this later\n",
    "import pickle"
   ]
  },
  {
   "cell_type": "code",
   "execution_count": 29,
   "id": "469578f1",
   "metadata": {},
   "outputs": [],
   "source": [
    "#Open Data File\n",
    "DateTime = \"2023/08/28/\"\n",
    "save_csv = False\n",
    "name_cs_str = \"CS1\"\n",
    "theta_dim = 2 #How to get this beforehand?\n",
    "methods = [\"A1\", \"B1\", \"A2\", \"B2\", \"C2\"]\n",
    "ep_methods = [\"CONSTANT\", \"DECAY\", \"BOYLE\", \"JASRASARIA\"]\n",
    "\n",
    "#Initialize overall min params\n",
    "sse_min_all = np.ones(len(methods))*np.inf\n",
    "theta_min_all = np.zeros((len(methods),theta_dim))\n",
    "run_all = np.zeros(len(methods))\n",
    "iter_all = np.zeros(len(methods))\n",
    "best_ep_meth = [\"None\"]*len(methods)\n",
    "    \n",
    "#Loop over methods\n",
    "for i in range(len(methods)):\n",
    "    #Loop over ep_methods\n",
    "    for j in range(len(ep_methods)):\n",
    "        #Pull out file\n",
    "        path = DateTime + \"Data_Files/\" + name_cs_str + \"_BO_method_\" + methods[i] + \"_ep_method_\" + ep_methods[j]\n",
    "        fileObj = open(path\n",
    "               + \".pickle\", 'rb')\n",
    "        results = pickle.load(fileObj)        \n",
    "        param_names = results[0].simulator_class.theta_true_names\n",
    "        tot_runs = results[0].configuration[\"Number of Workflow Restarts\"]\n",
    "        #Loop over runs\n",
    "        for k in range(tot_runs):\n",
    "            run_results = results[k].results_df\n",
    "            #Find lowest sse and corresponding theta\n",
    "            min_sse_index = np.argmin(run_results['Min Obj'])\n",
    "            min_sse = run_results['Min Obj'].iloc[min_sse_index]\n",
    "            min_sse_theta = run_results['Theta Min Obj'].iloc[min_sse_index]\n",
    "            \n",
    "            if min_sse < sse_min_all[i]:\n",
    "                sse_min_all[i] = min_sse\n",
    "                theta_min_all[i,:] = min_sse_theta\n",
    "                iter_all[i] = min_sse_index + 1 #Plus one to start count at 1 and not 0\n",
    "                run_all[i] = k + 1 #Plus one to start count at 1 and not 0\n",
    "                best_ep_meth[i] = ep_methods[j]\n",
    "        #Close file\n",
    "        fileObj.close()\n",
    "    #Pandas dataframe of the lowest sse overall and corresponding theta\n",
    "    column_names = ['BO Method', 'Best EP Method', 'Min SSE'] + [f'{param_names[i]}' for i in range(theta_dim)] + ['BO Restart', 'BO Iter']\n",
    "    data = {'BO Method': methods,\n",
    "        'Best EP Method': best_ep_meth,\n",
    "        'Min SSE': sse_min_all}\n",
    "    for i in range(theta_dim):\n",
    "        data[param_names[i]] = theta_min_all[:, i]\n",
    "    data['BO Restart'] = run_all\n",
    "    data['BO Iter'] = iter_all\n",
    "    EP_Analysis = pd.DataFrame(data, columns=column_names)\n",
    "    #Save CSV Data\n",
    "    \n",
    "if save_csv == True:\n",
    "    path_to_save_df = DateTime + \"Exploration_Bias_Exp.csv\"\n",
    "    EP_Analysis.to_csv(path_to_save_df, index=False)\n",
    "else:\n",
    "    print(EP_Analysis)"
   ]
  },
  {
   "cell_type": "code",
   "execution_count": null,
   "id": "41e8741f",
   "metadata": {},
   "outputs": [],
   "source": []
  }
 ],
 "metadata": {
  "kernelspec": {
   "display_name": "Python 3 (ipykernel)",
   "language": "python",
   "name": "python3"
  },
  "language_info": {
   "codemirror_mode": {
    "name": "ipython",
    "version": 3
   },
   "file_extension": ".py",
   "mimetype": "text/x-python",
   "name": "python",
   "nbconvert_exporter": "python",
   "pygments_lexer": "ipython3",
   "version": "3.9.12"
  }
 },
 "nbformat": 4,
 "nbformat_minor": 5
}
