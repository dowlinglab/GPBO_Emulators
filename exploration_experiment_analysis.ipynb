{
 "cells": [
  {
   "cell_type": "code",
   "execution_count": 1,
   "id": "c95d200a",
   "metadata": {},
   "outputs": [
    {
     "name": "stderr",
     "output_type": "stream",
     "text": [
      "/afs/crc.nd.edu/user/m/mcarlozo/.conda/envs/Toy_Problem_env/lib/python3.9/site-packages/tqdm/auto.py:22: TqdmWarning: IProgress not found. Please update jupyter and ipywidgets. See https://ipywidgets.readthedocs.io/en/stable/user_install.html\n",
      "  from .autonotebook import tqdm as notebook_tqdm\n"
     ]
    }
   ],
   "source": [
    "import sys\n",
    "import gpytorch\n",
    "import numpy as np\n",
    "import pandas as pd\n",
    "import torch\n",
    "from datetime import datetime\n",
    "from scipy.stats import qmc\n",
    "import itertools\n",
    "from itertools import combinations_with_replacement, combinations, permutations\n",
    "\n",
    "import bo_methods_lib\n",
    "from bo_methods_lib.bo_methods_lib.bo_functions_generic import gen_theta_set, clean_1D_arrays\n",
    "from bo_methods_lib.bo_methods_lib.GPBO_Classes_New import * #Fix this later\n",
    "from bo_methods_lib.bo_methods_lib.GPBO_Class_fxns import * #Fix this later\n",
    "import pickle"
   ]
  },
  {
   "cell_type": "code",
   "execution_count": 15,
   "id": "469578f1",
   "metadata": {},
   "outputs": [
    {
     "name": "stdout",
     "output_type": "stream",
     "text": [
      "A1 \n",
      " CONSTANT \n",
      " -12.34333908786287 [ 2.         -1.36504165] 4 1\n",
      "B1 \n",
      " CONSTANT \n",
      " 0.023183805991544206 [ 0.9106293  -1.46383318] 10 31\n",
      "A2 \n",
      " DECAY \n",
      " 2.254331280520984e-07 [ 1.00070633 -1.00005245] 6 6\n",
      "B2 \n",
      " CONSTANT \n",
      " 1.4160430385827246e-09 [ 1.00006104 -1.00000309] 5 32\n",
      "C2 \n",
      " BOYLE \n",
      " 4.9950314280363136e-09 [ 0.99987805 -0.99998925] 10 33\n"
     ]
    }
   ],
   "source": [
    "#Open Data File\n",
    "name_cs_str = \"CS1\"\n",
    "theta_dim = 2 #How to get this beforehand?\n",
    "methods = [\"A1\", \"B1\", \"A2\", \"B2\", \"C2\"]\n",
    "ep_methods = [\"CONSTANT\", \"DECAY\", \"BOYLE\", \"JASRASARIA\"]\n",
    "\n",
    "#Loop over methods\n",
    "for i in range(len(methods)):\n",
    "    #Initialize overall min params\n",
    "    sse_min_all = np.inf\n",
    "    theta_min_all = np.zeros((1,theta_dim))\n",
    "    run_all = 0\n",
    "    iter_all = 0\n",
    "    best_ep_meth = \"None\"\n",
    "    #Loop over ep_methods\n",
    "    for j in range(len(ep_methods)):\n",
    "        #Pull out file\n",
    "        fileObj = open(\"2023/08/28/Data_Files/\" + name_cs_str + \"_BO_method_\" + methods[i] + \"_ep_method_\" + ep_methods[j] \n",
    "               + \".pickle\", 'rb')\n",
    "        results = pickle.load(fileObj)        \n",
    "\n",
    "        tot_runs = results[run_num].configuration[\"Number of Workflow Restarts\"]\n",
    "        #Loop over runs\n",
    "        for k in range(tot_runs):\n",
    "            run_results = results[k].results_df\n",
    "            #Find lowest sse and corresponding theta\n",
    "            min_sse_index = np.argmin(run_results['Min Obj'])\n",
    "            min_sse = run_results['Min Obj'].iloc[min_sse_index]\n",
    "            min_sse_theta = run_results['Theta Min Obj'].iloc[min_sse_index]\n",
    "            \n",
    "            if min_sse < sse_min_all:\n",
    "                sse_min_all = min_sse\n",
    "                theta_min_all = min_sse_theta\n",
    "                iter_all = min_sse_index\n",
    "                run_all = k\n",
    "                best_ep_meth = ep_methods[j]\n",
    "        #Close file\n",
    "        fileObj.close()\n",
    "        #Print the lowest sse overall and corresponding theta\n",
    "    print(methods[i] ,\"\\n\", best_ep_meth ,\"\\n\", sse_min_all, theta_min_all, run_all + 1, iter_all +1)\n",
    "    "
   ]
  },
  {
   "cell_type": "code",
   "execution_count": null,
   "id": "41e8741f",
   "metadata": {},
   "outputs": [],
   "source": []
  }
 ],
 "metadata": {
  "kernelspec": {
   "display_name": "Python 3 (ipykernel)",
   "language": "python",
   "name": "python3"
  },
  "language_info": {
   "codemirror_mode": {
    "name": "ipython",
    "version": 3
   },
   "file_extension": ".py",
   "mimetype": "text/x-python",
   "name": "python",
   "nbconvert_exporter": "python",
   "pygments_lexer": "ipython3",
   "version": "3.9.12"
  }
 },
 "nbformat": 4,
 "nbformat_minor": 5
}
