{
 "cells": [
  {
   "cell_type": "code",
   "execution_count": 2,
   "id": "c95d200a",
   "metadata": {},
   "outputs": [
    {
     "name": "stderr",
     "output_type": "stream",
     "text": [
      "/afs/crc.nd.edu/user/m/mcarlozo/.conda/envs/Toy_Problem_env/lib/python3.9/site-packages/tqdm/auto.py:22: TqdmWarning: IProgress not found. Please update jupyter and ipywidgets. See https://ipywidgets.readthedocs.io/en/stable/user_install.html\n",
      "  from .autonotebook import tqdm as notebook_tqdm\n"
     ]
    }
   ],
   "source": [
    "import sys\n",
    "import gpytorch\n",
    "import numpy as np\n",
    "import pandas as pd\n",
    "import torch\n",
    "from datetime import datetime\n",
    "from scipy.stats import qmc\n",
    "import itertools\n",
    "from itertools import combinations_with_replacement, combinations, permutations\n",
    "\n",
    "import bo_methods_lib\n",
    "from bo_methods_lib.bo_methods_lib.bo_functions_generic import gen_theta_set, clean_1D_arrays\n",
    "from bo_methods_lib.bo_methods_lib.GPBO_Classes_New import * #Fix this later\n",
    "from bo_methods_lib.bo_methods_lib.GPBO_Class_fxns import * #Fix this later\n",
    "import pickle"
   ]
  },
  {
   "cell_type": "code",
   "execution_count": 8,
   "id": "469578f1",
   "metadata": {},
   "outputs": [
    {
     "name": "stdout",
     "output_type": "stream",
     "text": [
      "  BO Method Best EP Method  Min SSE  Min SSE Act         A_1         A_2  \\\n",
      "0        B1       CONSTANT      1.0  9190.807249 -238.461538 -164.102564   \n",
      "\n",
      "          A_3        A_4  BO Restart  BO Iter  \n",
      "0 -216.666667  15.384615         1.0      1.0  \n",
      "[-200. -100. -170.   15.]\n"
     ]
    }
   ],
   "source": [
    "#Open Data File\n",
    "# DateTime = \"2023/09/01/\"\n",
    "DateTime = \"2023/09/04/\"\n",
    "save_csv = False\n",
    "name_cs_str = \"CS1\"      \n",
    "methods = [\"A1\", \"B1\", \"A2\", \"B2\", \"C2\"]\n",
    "ep_methods = [\"CONSTANT\", \"DECAY\", \"BOYLE\", \"JASRASARIA\"]\n",
    "\n",
    "#Get theta dimensions from any file\n",
    "path = DateTime + \"Data_Files/\" + name_cs_str + \"_BO_method_\" + methods[0] + \"_ep_method_\" + ep_methods[0]\n",
    "fileObj = open(path + \".pickle\", 'rb')\n",
    "results = pickle.load(fileObj)        \n",
    "theta_dim = results[0].configuration[\"Number of Parameters\"]\n",
    "fileObj.close()\n",
    "\n",
    "#Initialize overall min params\n",
    "sse_min_all = np.ones(len(methods))*np.inf\n",
    "sse_min_act_all = np.ones(len(methods))*np.inf\n",
    "theta_min_all = np.zeros((len(methods),theta_dim))\n",
    "run_all = np.zeros(len(methods))\n",
    "iter_all = np.zeros(len(methods))\n",
    "best_ep_meth = [\"None\"]*len(methods)\n",
    "    \n",
    "#Loop over methods\n",
    "for i in range(len(methods)):\n",
    "    #Loop over ep_methods\n",
    "    for j in range(len(ep_methods)):\n",
    "        #Pull out file\n",
    "        path = DateTime + \"Data_Files/\" + name_cs_str + \"_BO_method_\" + methods[i] + \"_ep_method_\" + ep_methods[j]\n",
    "        fileObj = open(path + \".pickle\", 'rb')\n",
    "        results = pickle.load(fileObj)        \n",
    "        param_names = results[0].simulator_class.theta_true_names\n",
    "        tot_runs = results[0].configuration[\"Number of Workflow Restarts\"]\n",
    "        #Loop over runs\n",
    "        for k in range(tot_runs):\n",
    "            run_results = results[k].results_df\n",
    "            #Find lowest sse and corresponding theta\n",
    "            min_sse_index = np.argmin(run_results['Min Obj'])\n",
    "            min_sse = run_results['Min Obj'].iloc[min_sse_index]\n",
    "            min_sse_act = run_results['Min Obj Act'].iloc[min_sse_index]\n",
    "            min_sse_theta = run_results['Theta Min Obj'].iloc[min_sse_index]\n",
    "            \n",
    "            if min_sse_act < sse_min_all[i]:\n",
    "                sse_min_all[i] = min_sse\n",
    "                sse_min_act_all[i] = min_sse_act\n",
    "                theta_min_all[i,:] = min_sse_theta\n",
    "                iter_all[i] = min_sse_index + 1 #Plus one to start count at 1 and not 0\n",
    "                run_all[i] = k + 1 #Plus one to start count at 1 and not 0\n",
    "                best_ep_meth[i] = ep_methods[j]\n",
    "        #Close file\n",
    "        fileObj.close()\n",
    "    #Pandas dataframe of the lowest sse overall and corresponding theta\n",
    "    column_names = ['BO Method', 'Best EP Method', 'Min SSE', 'Min SSE Act'] + [f'{param_names[i]}' for i in range(theta_dim)] + ['BO Restart', 'BO Iter']\n",
    "    data = {'BO Method': methods,\n",
    "        'Best EP Method': best_ep_meth,\n",
    "        'Min SSE': sse_min_all,\n",
    "        'Min SSE Act': sse_min_act_all}\n",
    "    for i in range(theta_dim):\n",
    "        data[param_names[i]] = theta_min_all[:, i]\n",
    "    data['BO Restart'] = run_all\n",
    "    data['BO Iter'] = iter_all\n",
    "    EP_Analysis = pd.DataFrame(data, columns=column_names)\n",
    "    #Save CSV Data\n",
    "    \n",
    "if save_csv == True:\n",
    "    path_to_save_df = DateTime + \"Exploration_Bias_Exp.csv\"\n",
    "    EP_Analysis.to_csv(path_to_save_df, index=False)\n",
    "else:\n",
    "    print(EP_Analysis)\n",
    "    print(results[0].simulator_class.theta_true)"
   ]
  },
  {
   "cell_type": "code",
   "execution_count": null,
   "id": "41e8741f",
   "metadata": {},
   "outputs": [],
   "source": []
  }
 ],
 "metadata": {
  "kernelspec": {
   "display_name": "Python 3 (ipykernel)",
   "language": "python",
   "name": "python3"
  },
  "language_info": {
   "codemirror_mode": {
    "name": "ipython",
    "version": 3
   },
   "file_extension": ".py",
   "mimetype": "text/x-python",
   "name": "python",
   "nbconvert_exporter": "python",
   "pygments_lexer": "ipython3",
   "version": "3.9.12"
  }
 },
 "nbformat": 4,
 "nbformat_minor": 5
}
