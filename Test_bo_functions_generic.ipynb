{
 "cells": [
  {
   "cell_type": "code",
   "execution_count": 10,
   "id": "07d9c0f7",
   "metadata": {
    "scrolled": true
   },
   "outputs": [
    {
     "name": "stdout",
     "output_type": "stream",
     "text": [
      "Date and Time:  26-Oct-2022 (15:06:49)\n",
      "Runs: 2\n",
      "BO Iterations: 3\n",
      "%%%%%%%%%%%%%%%%%%%%%%%%%%\n",
      "-------------------\n",
      "Emulator?: True\n",
      "______________________________\n",
      "Sparse Grid?: False\n",
      "Objective Function: LN_obj\n",
      "-  -  -  -  -  -  -  -  -  -  -\n",
      "Separation Factor Train/Test: 0.9\n",
      "Lengthscale Set To: None\n",
      "Explore Bias Multiplier: 1.0\n",
      "The GP predicts the lowest SSE of 1.702e-02 occurs at θ = [ 0.96271847 -0.98879681] during run 1 at BO iteration 3\n",
      "At this point, the highest EI occurs at θ = [ 0.93160275 -1.02075572]\n",
      "\n",
      "\n"
     ]
    }
   ],
   "source": [
    "import sys\n",
    "import gpytorch\n",
    "import numpy as np\n",
    "import pandas as pd\n",
    "import torch\n",
    "from datetime import datetime\n",
    "\n",
    "from bo_functions_generic import gen_theta_set\n",
    "from CS2_bo_functions_multi_dim import bo_iter_w_runs\n",
    "from CS2_bo_functions_multi_dim import find_train_doc_path\n",
    "from CS2_bo_functions_multi_dim import set_ep\n",
    "\n",
    "import matplotlib as mpl\n",
    "mpl.rcParams['figure.dpi'] = 300\n",
    "#----------------------------------------------\n",
    "\n",
    "#Set Date and Time\n",
    "dateTimeObj = datetime.now()\n",
    "timestampStr = dateTimeObj.strftime(\"%d-%b-%Y (%H:%M:%S)\")\n",
    "print(\"Date and Time: \", timestampStr)\n",
    "# DateTime = dateTimeObj.strftime(\"%Y/%m/%d/%H-%M-%S%p\")\n",
    "DateTime = dateTimeObj.strftime(\"%Y/%m/%d/%H-%M\")\n",
    "DateTime = None ##For Testing\n",
    "\n",
    "#Set Parameters\n",
    "Theta_True = np.array([1,-1])\n",
    "d = len(Theta_True)\n",
    "BO_iters = 3\n",
    "runs = 2\n",
    "train_iter = 300\n",
    "noise_std = 0.1\n",
    "shuffle_seed = 9\n",
    "sep_fact = np.linspace(0.9,1,1)\n",
    "set_lengthscale = None\n",
    "\n",
    "obj = np.array([\"LN_obj\"])\n",
    "# obj = np.array([\"obj\",\"LN_obj\"])\n",
    "# emulator = False\n",
    "emulator = np.array([True])\n",
    "sparse_grid = np.array([False])\n",
    "# sparse_grid = np.array([False,True])\n",
    "verbose = False\n",
    "save_fig = True\n",
    "# save_fig = False\n",
    "\n",
    "#Pull Experimental data from CSV\n",
    "exp_data_doc = 'Input_CSVs/Exp_Data/d=2/n=5.csv'\n",
    "exp_data = np.array(pd.read_csv(exp_data_doc, header=0,sep=\",\"))\n",
    "Xexp = exp_data[:,1]\n",
    "Yexp = exp_data[:,2]\n",
    "n = len(Xexp)\n",
    "\n",
    "#Define GP Testing space\n",
    "LHS = False\n",
    "p=20\n",
    "bounds = np.array([[-2,-2],[2,2]])\n",
    "# Theta1 =  np.linspace(-2,2,p) #1x10\n",
    "# Theta2 =  np.linspace(-2,2,p) #1x10\n",
    "# theta_mesh = np.array(np.meshgrid(Theta1, Theta2)) #2 Uniform 5x5 arrays \n",
    "theta_mesh = gen_theta_set(LHS = LHS, n_points = p, dimensions = d, bounds = bounds)\n",
    "\n",
    "\n",
    "print(\"Runs:\", runs)\n",
    "print(\"BO Iterations:\",BO_iters)\n",
    "print(\"%%%%%%%%%%%%%%%%%%%%%%%%%%\")\n",
    "for emul in emulator: \n",
    "    sys.stdout.flush()\n",
    "    obj_use = obj\n",
    "    print(\"-------------------\")\n",
    "    print(\"Emulator?:\", emul)\n",
    "    if emul == True:\n",
    "        t = 100\n",
    "        sparse_grid_use = sparse_grid\n",
    "    else:\n",
    "        t = 20\n",
    "        sparse_grid_use = np.array([sparse_grid[0]]) #Sparse Grid will always be False for 2-Input\n",
    "        \n",
    "    for sparse in sparse_grid_use:\n",
    "#         #Can set ep to 1 for sparse grid if wanted\n",
    "        if sparse == True:\n",
    "            obj_use =  np.array([\"obj\"])\n",
    "        else:\n",
    "            obj_use =  obj\n",
    "#             ep_use = torch.tensor([1]) \n",
    "#         else:\n",
    "#             ep_use = explore_bias\n",
    "        print(\"______________________________\")\n",
    "        print(\"Sparse Grid?:\", sparse)  \n",
    "\n",
    "        for obj_func in obj_use:\n",
    "            all_data_doc = find_train_doc_path(emul, obj_func, d, t)\n",
    "            all_data = np.array(pd.read_csv(all_data_doc, header=0,sep=\",\")) \n",
    "            print(\"Objective Function:\", obj_func)\n",
    "            print(\"-  -  -  -  -  -  -  -  -  -  -\")\n",
    "            for i in range(len(sep_fact)):\n",
    "                explore_bias = set_ep(emul, obj_func, sparse)\n",
    "                ep = torch.tensor([float(explore_bias)])\n",
    "                print(\"Separation Factor Train/Test:\", str(np.round(sep_fact[i],3)))\n",
    "                print(\"Lengthscale Set To:\", set_lengthscale)\n",
    "                print(\"Explore Bias Multiplier:\", str(np.round(float(ep),3)))\n",
    "                results = bo_iter_w_runs(BO_iters,all_data_doc,t,theta_mesh,Theta_True,train_iter,ep, Xexp, Yexp,\n",
    "                                             noise_std, obj_func, runs, sparse, emul, set_lengthscale, verbose, \n",
    "                                             save_fig, shuffle_seed, DateTime, sep_fact = sep_fact[i], LHS = LHS)\n",
    "                print(\"The GP predicts the lowest SSE of\", \"{:.3e}\".format(np.exp(results[3])), \"occurs at \\u03B8 =\", results[2], \n",
    "                          \"during run\", results[1], \"at BO iteration\", results[0])\n",
    "                print(\"At this point, the highest EI occurs at \\u03B8 =\", results[4])\n",
    "                print(\"\\n\")"
   ]
  },
  {
   "cell_type": "code",
   "execution_count": 2,
   "id": "1d031561",
   "metadata": {},
   "outputs": [
    {
     "name": "stdout",
     "output_type": "stream",
     "text": [
      "[[-0.70103865 -1.56881421 -4.5355792 ]\n",
      " [-0.70103866 -1.56881405 -4.27605561]]\n",
      "(2, 3)\n",
      "[[0]\n",
      " [2]]\n"
     ]
    }
   ],
   "source": [
    "SSE_matrix = np.array([[0.04776216, 0.31411546, 0.13075961],\n",
    " [0.04776171, 0.31287431, 0.100031  ]])\n",
    "SSE_matrix = np.array([[-0.70103865, -1.56881421, -4.5355792 ],\n",
    " [-0.70103866, -1.56881405, -4.27605561]])\n",
    "print(SSE_matrix[[0,1]])\n",
    "print(SSE_matrix.shape)\n",
    "argmin = np.array(np.where(np.isclose(SSE_matrix, np.amin(SSE_matrix),rtol=abs(np.amin(SSE_matrix)*1e-6))==True))\n",
    "print(argmin)"
   ]
  },
  {
   "cell_type": "code",
   "execution_count": 3,
   "id": "47dc6454",
   "metadata": {},
   "outputs": [
    {
     "name": "stdout",
     "output_type": "stream",
     "text": [
      "[[0]\n",
      " [2]]\n"
     ]
    },
    {
     "data": {
      "text/plain": [
       "array([0])"
      ]
     },
     "execution_count": 3,
     "metadata": {},
     "output_type": "execute_result"
    }
   ],
   "source": [
    "print(argmin)\n",
    "# print(SSE_matrix[1,0])\n",
    "argmin[0]"
   ]
  },
  {
   "cell_type": "code",
   "execution_count": 4,
   "id": "acd4a0bc",
   "metadata": {},
   "outputs": [],
   "source": [
    "# print(argmin[:,1])"
   ]
  },
  {
   "cell_type": "code",
   "execution_count": 5,
   "id": "fcbc4b9f",
   "metadata": {},
   "outputs": [
    {
     "name": "stdout",
     "output_type": "stream",
     "text": [
      "[0 2]\n"
     ]
    }
   ],
   "source": [
    "if len(argmin) > 1:\n",
    "    rand_ind = np.random.randint(argmin.shape[1]) #Chooses a random point with the minimum value\n",
    "    argmin = argmin[:,rand_ind]\n",
    "    print(argmin)"
   ]
  },
  {
   "cell_type": "code",
   "execution_count": 6,
   "id": "52a5b8a6",
   "metadata": {},
   "outputs": [
    {
     "name": "stdout",
     "output_type": "stream",
     "text": [
      "[0 0 0]\n"
     ]
    }
   ],
   "source": [
    "Theta_Best_matrix = np.random.randint(1, size = (2,3,3))\n",
    "Theta_Best_all = np.array(Theta_Best_matrix[tuple(argmin)+(Ellipsis,)])\n",
    "print(Theta_Best_all)"
   ]
  },
  {
   "cell_type": "code",
   "execution_count": 7,
   "id": "c158b28c",
   "metadata": {},
   "outputs": [
    {
     "name": "stdout",
     "output_type": "stream",
     "text": [
      "0\n"
     ]
    }
   ],
   "source": [
    "w = []\n",
    "print(len(w))"
   ]
  },
  {
   "cell_type": "code",
   "execution_count": null,
   "id": "f341cb73",
   "metadata": {},
   "outputs": [],
   "source": []
  }
 ],
 "metadata": {
  "kernelspec": {
   "display_name": "Python 3 (ipykernel)",
   "language": "python",
   "name": "python3"
  },
  "language_info": {
   "codemirror_mode": {
    "name": "ipython",
    "version": 3
   },
   "file_extension": ".py",
   "mimetype": "text/x-python",
   "name": "python",
   "nbconvert_exporter": "python",
   "pygments_lexer": "ipython3",
   "version": "3.9.12"
  }
 },
 "nbformat": 4,
 "nbformat_minor": 5
}
