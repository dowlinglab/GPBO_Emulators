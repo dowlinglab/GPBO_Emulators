{
 "cells": [
  {
   "cell_type": "code",
   "execution_count": 1,
   "id": "6a807dce",
   "metadata": {},
   "outputs": [
    {
     "name": "stderr",
     "output_type": "stream",
     "text": [
      "/afs/crc.nd.edu/user/m/mcarlozo/.conda/envs/Toy_Problem_env/lib/python3.9/site-packages/tqdm/auto.py:22: TqdmWarning: IProgress not found. Please update jupyter and ipywidgets. See https://ipywidgets.readthedocs.io/en/stable/user_install.html\n",
      "  from .autonotebook import tqdm as notebook_tqdm\n"
     ]
    }
   ],
   "source": [
    "import sys\n",
    "import gpytorch\n",
    "import numpy as np\n",
    "import pandas as pd\n",
    "import torch\n",
    "from datetime import datetime\n",
    "from scipy.stats import qmc\n",
    "\n",
    "from bo_methods_lib.GP_Validation_Norm import LOO_Analysis\n",
    "# from bo_methods_lib.GP_Validation import LOO_Analysis\n",
    "from bo_methods_lib.bo_functions_generic import gen_theta_set, find_train_doc_path, set_ep, clean_1D_arrays\n",
    "\n",
    "import matplotlib as mpl\n",
    "\n",
    "import warnings\n",
    "warnings.simplefilter(\"ignore\", category=RuntimeWarning)"
   ]
  },
  {
   "cell_type": "code",
   "execution_count": 2,
   "id": "e8886b30",
   "metadata": {},
   "outputs": [
    {
     "name": "stdout",
     "output_type": "stream",
     "text": [
      "Date and Time:  16-Dec-2022 (16:11:48)\n"
     ]
    }
   ],
   "source": [
    "#Set Date and Time\n",
    "dateTimeObj = datetime.now()\n",
    "timestampStr = dateTimeObj.strftime(\"%d-%b-%Y (%H:%M:%S)\")\n",
    "print(\"Date and Time: \", timestampStr)\n",
    "# DateTime = dateTimeObj.strftime(\"%Y/%m/%d/%H-%M-%S%p\")\n",
    "DateTime = dateTimeObj.strftime(\"%Y/%m/%d/%H-%M\")\n",
    "# DateTime = \"2022/11/29/09-48\"\n",
    "DateTime = None ##For Testing\n",
    "\n",
    "#Set Parameters\n",
    "#Need to run at a and b, need 2 arrays to test that this will work\n",
    "CS = 1\n",
    "\n",
    "Constants = np.array([[-200,-100,-170,15],\n",
    "                      [-1,-1,-6.5,0.7],\n",
    "                      [0,0,11,0.6],\n",
    "                      [-10,-10,-6.5,0.7],\n",
    "                      [1,0,-0.5,-1],\n",
    "                      [0,0.5,1.5,1]])\n",
    "if CS == 2.2:\n",
    "    skip_param_types = 1 #This is what changes for subpoint\n",
    "    true_p = Constants[skip_param_types:skip_param_types+2].flatten()\n",
    "    param_dict = {0 : 'a_1', 1 : 'a_2', 2 : 'a_3', 3 : 'a_4',\n",
    "                  4 : 'b_1', 5 : 'b_2', 6 : 'b_3', 7 : 'b_4'}\n",
    "    exp_d = 2\n",
    "    n = 15 #Number of experimental data points to use\n",
    "    bounds_x = np.array([[-1.5, -0.5],\n",
    "                     [   1,    2]])\n",
    "    bounds_p = np.array([[-2, -2, -10, -2, -2, -2,  5, -2],\n",
    "                   [ 2,  2,   0,  2,  2,  2, 15,  2]])\n",
    "\n",
    "else:\n",
    "    Constants = true_p = np.array([1,-1])\n",
    "    skip_param_types = 0\n",
    "    param_dict = {0 : '\\\\theta_1', 1 : '\\\\theta_2'}\n",
    "    exp_d = 1\n",
    "    n = 5\n",
    "    bounds_x = np.array([[-2], [2]])\n",
    "    bounds_p = np.array([[-2, -2],\n",
    "                         [ 2,  2]])\n",
    "\n",
    "# print(Theta_True)\n",
    "t = 20\n",
    "d = len(true_p)\n",
    "train_iter = 300\n",
    "noise_std = 0.1\n",
    "sep_fact = np.linspace(1,1,1)\n",
    "set_lengthscale = None\n",
    "explore_bias = 1\n",
    "plot_axis = np.array([1,0])\n",
    "norm = True\n",
    "# norm = False\n",
    "\n",
    "# obj = np.array([\"obj\", \"LN_obj\"])\n",
    "obj = np.array([\"LN_obj\"])\n",
    "\n",
    "# emulator = np.array([False, True])\n",
    "emulator = np.array([True])\n",
    "# emulator =  np.array([False])\n",
    "save_figure = True\n",
    "save_figure = False\n",
    "\n",
    "#Pull Experimental data from CSV\n",
    "exp_data_doc = 'Input_CSVs/Exp_Data/d='+str(exp_d)+'/n='+str(n)+'.csv'\n",
    "exp_data = np.array(pd.read_csv(exp_data_doc, header=0,sep=\",\"))\n",
    "Xexp = exp_data[:,1:exp_d+1]\n",
    "Yexp = exp_data[:,-1]\n",
    "\n",
    "Xexp = clean_1D_arrays(Xexp)"
   ]
  },
  {
   "cell_type": "code",
   "execution_count": 3,
   "id": "da017483",
   "metadata": {
    "scrolled": true
   },
   "outputs": [
    {
     "name": "stdout",
     "output_type": "stream",
     "text": [
      "Emulator = True\n",
      "Objective Function = obj\n"
     ]
    },
    {
     "ename": "KeyboardInterrupt",
     "evalue": "",
     "output_type": "error",
     "traceback": [
      "\u001b[0;31m---------------------------------------------------------------------------\u001b[0m",
      "\u001b[0;31mKeyboardInterrupt\u001b[0m                         Traceback (most recent call last)",
      "File \u001b[0;32m<timed exec>:16\u001b[0m, in \u001b[0;36m<module>\u001b[0;34m\u001b[0m\n",
      "File \u001b[0;32m/scratch365/mcarlozo/Toy_Problem/bo_methods_lib/GP_Validation_Norm.py:133\u001b[0m, in \u001b[0;36mLOO_Analysis\u001b[0;34m(all_data, Xexp, Yexp, true_model_coefficients, true_p, emulator, obj, Case_Study, skip_param_types, set_lengthscale, train_iter, noise_std, verbose, DateTime, save_figure, plot_axis, normalize, bounds_p, bounds_x)\u001b[0m\n\u001b[1;32m    129\u001b[0m         model \u001b[38;5;241m=\u001b[39m ExactGPModel(train_p, train_y, likelihood)\n\u001b[1;32m    131\u001b[0m         \u001b[38;5;66;03m#Train GP\u001b[39;00m\n\u001b[1;32m    132\u001b[0m \u001b[38;5;66;03m#         print(train_p[0:5], theta_set, Xexp, true_model_coefficients)\u001b[39;00m\n\u001b[0;32m--> 133\u001b[0m         train_GP \u001b[38;5;241m=\u001b[39m \u001b[43mtrain_GP_model\u001b[49m\u001b[43m(\u001b[49m\u001b[43mmodel\u001b[49m\u001b[43m,\u001b[49m\u001b[43m \u001b[49m\u001b[43mlikelihood\u001b[49m\u001b[43m,\u001b[49m\u001b[43m \u001b[49m\u001b[43mtrain_p\u001b[49m\u001b[43m,\u001b[49m\u001b[43m \u001b[49m\u001b[43mtrain_y\u001b[49m\u001b[43m,\u001b[49m\u001b[43m \u001b[49m\u001b[43mtrain_iter\u001b[49m\u001b[43m,\u001b[49m\u001b[43m \u001b[49m\u001b[43mverbose\u001b[49m\u001b[38;5;241;43m=\u001b[39;49m\u001b[43mverbose\u001b[49m\u001b[43m)\u001b[49m      \n\u001b[1;32m    135\u001b[0m         eval_components \u001b[38;5;241m=\u001b[39m LOO_eval_GP(theta_set, Xexp, train_y, true_model_coefficients, model, likelihood, verbose, emulator, set_lengthscale, true_p, norm_scalers, Case_Study, train_p \u001b[38;5;241m=\u001b[39m train_p, obj \u001b[38;5;241m=\u001b[39m obj, skip_param_types \u001b[38;5;241m=\u001b[39m skip_param_types, noise_std \u001b[38;5;241m=\u001b[39m noise_std)\n\u001b[1;32m    136\u001b[0m         \u001b[38;5;66;03m#If emulator is false, eval_components is the GP mean, StDev, and variance\u001b[39;00m\n",
      "File \u001b[0;32m/scratch365/mcarlozo/Toy_Problem/bo_methods_lib/bo_functions_generic.py:499\u001b[0m, in \u001b[0;36mtrain_GP_model\u001b[0;34m(model, likelihood, train_param, train_data, iterations, verbose)\u001b[0m\n\u001b[1;32m    497\u001b[0m loss\u001b[38;5;241m.\u001b[39mbackward()\n\u001b[1;32m    498\u001b[0m noise_list[i] \u001b[38;5;241m=\u001b[39m model\u001b[38;5;241m.\u001b[39mlikelihood\u001b[38;5;241m.\u001b[39mnoise\u001b[38;5;241m.\u001b[39mitem()\n\u001b[0;32m--> 499\u001b[0m lengthscale_list[i] \u001b[38;5;241m=\u001b[39m  \u001b[43mmodel\u001b[49m\u001b[38;5;241;43m.\u001b[39;49m\u001b[43mcovar_module\u001b[49m\u001b[38;5;241;43m.\u001b[39;49m\u001b[43mbase_kernel\u001b[49m\u001b[38;5;241;43m.\u001b[39;49m\u001b[43mlengthscale\u001b[49m\u001b[38;5;241m.\u001b[39mitem()\n\u001b[1;32m    500\u001b[0m outputscale_list[i] \u001b[38;5;241m=\u001b[39m model\u001b[38;5;241m.\u001b[39mcovar_module\u001b[38;5;241m.\u001b[39moutputscale\u001b[38;5;241m.\u001b[39mitem()\n\u001b[1;32m    501\u001b[0m \u001b[38;5;28;01mif\u001b[39;00m verbose \u001b[38;5;241m==\u001b[39m \u001b[38;5;28;01mTrue\u001b[39;00m:\n",
      "File \u001b[0;32m~/.conda/envs/Toy_Problem_env/lib/python3.9/site-packages/gpytorch/kernels/kernel.py:248\u001b[0m, in \u001b[0;36mKernel.lengthscale\u001b[0;34m(self)\u001b[0m\n\u001b[1;32m    245\u001b[0m \u001b[38;5;129m@property\u001b[39m\n\u001b[1;32m    246\u001b[0m \u001b[38;5;28;01mdef\u001b[39;00m \u001b[38;5;21mlengthscale\u001b[39m(\u001b[38;5;28mself\u001b[39m):\n\u001b[1;32m    247\u001b[0m     \u001b[38;5;28;01mif\u001b[39;00m \u001b[38;5;28mself\u001b[39m\u001b[38;5;241m.\u001b[39mhas_lengthscale:\n\u001b[0;32m--> 248\u001b[0m         \u001b[38;5;28;01mreturn\u001b[39;00m \u001b[38;5;28;43mself\u001b[39;49m\u001b[38;5;241;43m.\u001b[39;49m\u001b[43mraw_lengthscale_constraint\u001b[49m\u001b[38;5;241;43m.\u001b[39;49m\u001b[43mtransform\u001b[49m\u001b[43m(\u001b[49m\u001b[38;5;28;43mself\u001b[39;49m\u001b[38;5;241;43m.\u001b[39;49m\u001b[43mraw_lengthscale\u001b[49m\u001b[43m)\u001b[49m\n\u001b[1;32m    249\u001b[0m     \u001b[38;5;28;01melse\u001b[39;00m:\n\u001b[1;32m    250\u001b[0m         \u001b[38;5;28;01mreturn\u001b[39;00m \u001b[38;5;28;01mNone\u001b[39;00m\n",
      "File \u001b[0;32m~/.conda/envs/Toy_Problem_env/lib/python3.9/site-packages/gpytorch/constraints/constraints.py:200\u001b[0m, in \u001b[0;36mPositive.transform\u001b[0;34m(self, tensor)\u001b[0m\n\u001b[1;32m    199\u001b[0m \u001b[38;5;28;01mdef\u001b[39;00m \u001b[38;5;21mtransform\u001b[39m(\u001b[38;5;28mself\u001b[39m, tensor):\n\u001b[0;32m--> 200\u001b[0m     transformed_tensor \u001b[38;5;241m=\u001b[39m \u001b[38;5;28;43mself\u001b[39;49m\u001b[38;5;241;43m.\u001b[39;49m\u001b[43m_transform\u001b[49m\u001b[43m(\u001b[49m\u001b[43mtensor\u001b[49m\u001b[43m)\u001b[49m \u001b[38;5;28;01mif\u001b[39;00m \u001b[38;5;28mself\u001b[39m\u001b[38;5;241m.\u001b[39menforced \u001b[38;5;28;01melse\u001b[39;00m tensor\n\u001b[1;32m    201\u001b[0m     \u001b[38;5;28;01mreturn\u001b[39;00m transformed_tensor\n",
      "File \u001b[0;32m~/.conda/envs/Toy_Problem_env/lib/python3.9/site-packages/torch/nn/modules/module.py:1110\u001b[0m, in \u001b[0;36mModule._call_impl\u001b[0;34m(self, *input, **kwargs)\u001b[0m\n\u001b[1;32m   1106\u001b[0m \u001b[38;5;66;03m# If we don't have any hooks, we want to skip the rest of the logic in\u001b[39;00m\n\u001b[1;32m   1107\u001b[0m \u001b[38;5;66;03m# this function, and just call forward.\u001b[39;00m\n\u001b[1;32m   1108\u001b[0m \u001b[38;5;28;01mif\u001b[39;00m \u001b[38;5;129;01mnot\u001b[39;00m (\u001b[38;5;28mself\u001b[39m\u001b[38;5;241m.\u001b[39m_backward_hooks \u001b[38;5;129;01mor\u001b[39;00m \u001b[38;5;28mself\u001b[39m\u001b[38;5;241m.\u001b[39m_forward_hooks \u001b[38;5;129;01mor\u001b[39;00m \u001b[38;5;28mself\u001b[39m\u001b[38;5;241m.\u001b[39m_forward_pre_hooks \u001b[38;5;129;01mor\u001b[39;00m _global_backward_hooks\n\u001b[1;32m   1109\u001b[0m         \u001b[38;5;129;01mor\u001b[39;00m _global_forward_hooks \u001b[38;5;129;01mor\u001b[39;00m _global_forward_pre_hooks):\n\u001b[0;32m-> 1110\u001b[0m     \u001b[38;5;28;01mreturn\u001b[39;00m \u001b[43mforward_call\u001b[49m\u001b[43m(\u001b[49m\u001b[38;5;241;43m*\u001b[39;49m\u001b[38;5;28;43minput\u001b[39;49m\u001b[43m,\u001b[49m\u001b[43m \u001b[49m\u001b[38;5;241;43m*\u001b[39;49m\u001b[38;5;241;43m*\u001b[39;49m\u001b[43mkwargs\u001b[49m\u001b[43m)\u001b[49m\n\u001b[1;32m   1111\u001b[0m \u001b[38;5;66;03m# Do not call functions when jit is used\u001b[39;00m\n\u001b[1;32m   1112\u001b[0m full_backward_hooks, non_full_backward_hooks \u001b[38;5;241m=\u001b[39m [], []\n",
      "File \u001b[0;32m~/.conda/envs/Toy_Problem_env/lib/python3.9/site-packages/torch/nn/modules/activation.py:824\u001b[0m, in \u001b[0;36mSoftplus.forward\u001b[0;34m(self, input)\u001b[0m\n\u001b[1;32m    823\u001b[0m \u001b[38;5;28;01mdef\u001b[39;00m \u001b[38;5;21mforward\u001b[39m(\u001b[38;5;28mself\u001b[39m, \u001b[38;5;28minput\u001b[39m: Tensor) \u001b[38;5;241m-\u001b[39m\u001b[38;5;241m>\u001b[39m Tensor:\n\u001b[0;32m--> 824\u001b[0m     \u001b[38;5;28;01mreturn\u001b[39;00m \u001b[43mF\u001b[49m\u001b[38;5;241;43m.\u001b[39;49m\u001b[43msoftplus\u001b[49m\u001b[43m(\u001b[49m\u001b[38;5;28;43minput\u001b[39;49m\u001b[43m,\u001b[49m\u001b[43m \u001b[49m\u001b[38;5;28;43mself\u001b[39;49m\u001b[38;5;241;43m.\u001b[39;49m\u001b[43mbeta\u001b[49m\u001b[43m,\u001b[49m\u001b[43m \u001b[49m\u001b[38;5;28;43mself\u001b[39;49m\u001b[38;5;241;43m.\u001b[39;49m\u001b[43mthreshold\u001b[49m\u001b[43m)\u001b[49m\n",
      "\u001b[0;31mKeyboardInterrupt\u001b[0m: "
     ]
    }
   ],
   "source": [
    "%%time\n",
    "for emul in emulator:\n",
    "    print(\"Emulator =\", emul)\n",
    "    if emul == False:\n",
    "        t_use = t\n",
    "        obj_use = obj\n",
    "    else:\n",
    "        t_use = t*n\n",
    "        obj_use = np.array([\"obj\"])\n",
    "    for obj_func in obj_use:\n",
    "        print(\"Objective Function =\", obj_func)\n",
    "        all_data_doc = find_train_doc_path(emul, obj_func, d, t_use)\n",
    "        all_data = np.array(pd.read_csv(all_data_doc, header=0,sep=\",\"))\n",
    "#         print(all_data)\n",
    "#         choose_CS(CS)?\n",
    "#         print(all_data)\n",
    "        LOO_Analysis(all_data, Xexp, Yexp, Constants, true_p, emul, obj_func, CS,  \n",
    "                     skip_param_types = skip_param_types, noise_std = noise_std, DateTime = DateTime, \n",
    "                     save_figure= save_figure, plot_axis = plot_axis, normalize = norm, bounds_p = bounds_p, \n",
    "                     bounds_x = bounds_x)        "
   ]
  },
  {
   "cell_type": "code",
   "execution_count": null,
   "id": "20ca0f72",
   "metadata": {},
   "outputs": [],
   "source": []
  }
 ],
 "metadata": {
  "kernelspec": {
   "display_name": "Python 3 (ipykernel)",
   "language": "python",
   "name": "python3"
  },
  "language_info": {
   "codemirror_mode": {
    "name": "ipython",
    "version": 3
   },
   "file_extension": ".py",
   "mimetype": "text/x-python",
   "name": "python",
   "nbconvert_exporter": "python",
   "pygments_lexer": "ipython3",
   "version": "3.9.12"
  }
 },
 "nbformat": 4,
 "nbformat_minor": 5
}
