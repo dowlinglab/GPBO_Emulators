{
 "cells": [
  {
   "cell_type": "code",
   "execution_count": 1,
   "id": "12f23b1d",
   "metadata": {},
   "outputs": [
    {
     "name": "stderr",
     "output_type": "stream",
     "text": [
      "/afs/crc.nd.edu/user/m/mcarlozo/.conda/envs/Toy_Problem_env/lib/python3.9/site-packages/tqdm/auto.py:22: TqdmWarning: IProgress not found. Please update jupyter and ipywidgets. See https://ipywidgets.readthedocs.io/en/stable/user_install.html\n",
      "  from .autonotebook import tqdm as notebook_tqdm\n"
     ]
    }
   ],
   "source": [
    "import sys\n",
    "import gpytorch\n",
    "import numpy as np\n",
    "import pandas as pd\n",
    "import torch\n",
    "from datetime import datetime\n",
    "from scipy.stats import qmc\n",
    "\n",
    "from GP_Validation import LOO_Analysis\n",
    "# from CS2_create_data import calc_y_exp\n",
    "# from CS1_create_data import calc_y_exp\n",
    "from bo_functions_generic import gen_theta_set, find_train_doc_path, set_ep, clean_1D_arrays\n",
    "\n",
    "import matplotlib as mpl"
   ]
  },
  {
   "cell_type": "code",
   "execution_count": 2,
   "id": "2f673db7",
   "metadata": {},
   "outputs": [
    {
     "name": "stdout",
     "output_type": "stream",
     "text": [
      "Date and Time:  14-Nov-2022 (18:28:24)\n"
     ]
    }
   ],
   "source": [
    "#Set Date and Time\n",
    "dateTimeObj = datetime.now()\n",
    "timestampStr = dateTimeObj.strftime(\"%d-%b-%Y (%H:%M:%S)\")\n",
    "print(\"Date and Time: \", timestampStr)\n",
    "# DateTime = dateTimeObj.strftime(\"%Y/%m/%d/%H-%M-%S%p\")\n",
    "DateTime = dateTimeObj.strftime(\"%Y/%m/%d/%H-%M\")\n",
    "DateTime = None ##For Testing\n",
    "\n",
    "#Set Parameters\n",
    "#Need to run at a and b, need 2 arrays to test that this will work\n",
    "# Constants = np.array([[-200,-100,-170,15],\n",
    "#                       [-1,-1,-6.5,0.7],\n",
    "#                       [0,0,11,0.6],\n",
    "#                       [-10,-10,-6.5,0.7],\n",
    "#                       [1,0,-0.5,-1],\n",
    "#                       [0,0.5,1.5,1]])\n",
    "\n",
    "# skip_param_types = 1\n",
    "# true_p = Constants[skip_param_types:skip_param_types+2].flatten()\n",
    "# param_dict = {0 : 'a_1', 1 : 'a_2', 2 : 'a_3', 3 : 'a_4',\n",
    "#               4 : 'b_1', 5 : 'b_2', 6 : 'b_3', 7 : 'b_4'}\n",
    "\n",
    "Constants = true_p = np.array([1,-1])\n",
    "skip_param_types = 0\n",
    "param_dict = {0 : '\\\\theta_1', 1 : '\\\\theta_2'}\n",
    "\n",
    "# print(Theta_True)\n",
    "t = 20\n",
    "d = len(true_p)\n",
    "train_iter = 300\n",
    "noise_std = 0.1\n",
    "sep_fact = np.linspace(1,1,1)\n",
    "set_lengthscale = None\n",
    "explore_bias = 1\n",
    "\n",
    "obj = np.array([\"obj\", \"LN_obj\"])\n",
    "# obj = np.array([\"obj\"])\n",
    "\n",
    "emulator = np.array([True, False])\n",
    "# emulator = np.array([True])\n",
    "emulator =  np.array([False])\n",
    "# save_fig = True\n",
    "# save_fig = False\n",
    "\n",
    "#Pull Experimental data from CSV\n",
    "# exp_d = 2\n",
    "exp_d = 1\n",
    "# n = 15 #Number of experimental data points to use\n",
    "n = 5\n",
    "exp_data_doc = 'Input_CSVs/Exp_Data/d='+str(exp_d)+'/n='+str(n)+'.csv'\n",
    "exp_data = np.array(pd.read_csv(exp_data_doc, header=0,sep=\",\"))\n",
    "Xexp = exp_data[:,1:exp_d+1]\n",
    "Yexp = exp_data[:,-1]\n",
    "\n",
    "Xexp = clean_1D_arrays(Xexp)\n",
    "\n",
    "#Define GP Testing space\n",
    "LHS = False\n",
    "p=20\n",
    "Xexp_bounds = np.array([[-1.5, -0.5],\n",
    "                        [1 , 2]])\n",
    "# X_space = gen_theta_set(LHS = LHS, n_points = p, dimensions = exp_d, bounds = Xexp_bounds)\n",
    "# Y_space = calc_y_exp(Constants, X_space, noise_std)"
   ]
  },
  {
   "cell_type": "code",
   "execution_count": 3,
   "id": "5aeadf87",
   "metadata": {},
   "outputs": [
    {
     "name": "stdout",
     "output_type": "stream",
     "text": [
      "Emulator = False\n",
      "Objective Function = obj\n",
      "Loop\n"
     ]
    },
    {
     "name": "stderr",
     "output_type": "stream",
     "text": [
      "/scratch365/mcarlozo/Toy_Problem/GP_Validation.py:314: RuntimeWarning: invalid value encountered in log\n",
      "  plt.scatter(iter_space,np.log(GP_mean), label = label )\n"
     ]
    },
    {
     "data": {
      "image/png": "[encoded data removed]",
      "text/plain": [
       "<Figure size 460.8x288 with 1 Axes>"
      ]
     },
     "metadata": {
      "needs_background": "light"
     },
     "output_type": "display_data"
    },
    {
     "name": "stdout",
     "output_type": "stream",
     "text": [
      "Objective Function = LN_obj\n",
      "Loop\n"
     ]
    },
    {
     "data": {
      "image/png": "[encoded data removed]",
      "text/plain": [
       "<Figure size 460.8x288 with 1 Axes>"
      ]
     },
     "metadata": {
      "needs_background": "light"
     },
     "output_type": "display_data"
    },
    {
     "name": "stdout",
     "output_type": "stream",
     "text": [
      "CPU times: user 33.1 s, sys: 170 ms, total: 33.3 s\n",
      "Wall time: 33.8 s\n"
     ]
    }
   ],
   "source": [
    "%%time\n",
    "for emul in emulator:\n",
    "    print(\"Emulator =\", emul)\n",
    "    if emul == False:\n",
    "        t_use = t\n",
    "    else:\n",
    "        t_use = t*n\n",
    "        obj = np.array([\"obj\"])\n",
    "    for obj_func in obj:\n",
    "        print(\"Objective Function =\", obj_func)\n",
    "        explore_bias = set_ep(emul, obj_func, sparse = False)\n",
    "        ep = torch.tensor([float(explore_bias)])\n",
    "        all_data_doc = find_train_doc_path(emul, obj_func, d, t_use)\n",
    "        all_data = np.array(pd.read_csv(all_data_doc, header=0,sep=\",\"))\n",
    "#         print(all_data)\n",
    "        LOO_Analysis(all_data, explore_bias, Xexp, Yexp, Constants, true_p, emul, obj_func, \n",
    "                     skip_param_types = skip_param_types, noise_std = noise_std)\n",
    "        "
   ]
  },
  {
   "cell_type": "code",
   "execution_count": null,
   "id": "20ca0f72",
   "metadata": {},
   "outputs": [],
   "source": []
  }
 ],
 "metadata": {
  "kernelspec": {
   "display_name": "Python 3 (ipykernel)",
   "language": "python",
   "name": "python3"
  },
  "language_info": {
   "codemirror_mode": {
    "name": "ipython",
    "version": 3
   },
   "file_extension": ".py",
   "mimetype": "text/x-python",
   "name": "python",
   "nbconvert_exporter": "python",
   "pygments_lexer": "ipython3",
   "version": "3.9.12"
  }
 },
 "nbformat": 4,
 "nbformat_minor": 5
}
