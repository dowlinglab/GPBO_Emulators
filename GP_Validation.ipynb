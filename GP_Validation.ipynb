{
 "cells": [
  {
   "cell_type": "code",
   "execution_count": 1,
   "id": "12f23b1d",
   "metadata": {},
   "outputs": [
    {
     "name": "stderr",
     "output_type": "stream",
     "text": [
      "/afs/crc.nd.edu/user/m/mcarlozo/.conda/envs/Toy_Problem_env/lib/python3.9/site-packages/tqdm/auto.py:22: TqdmWarning: IProgress not found. Please update jupyter and ipywidgets. See https://ipywidgets.readthedocs.io/en/stable/user_install.html\n",
      "  from .autonotebook import tqdm as notebook_tqdm\n"
     ]
    }
   ],
   "source": [
    "import sys\n",
    "import gpytorch\n",
    "import numpy as np\n",
    "import pandas as pd\n",
    "import torch\n",
    "from datetime import datetime\n",
    "from scipy.stats import qmc\n",
    "\n",
    "from GP_Validation import LOO_Analysis\n",
    "# from CS2_create_data import calc_y_exp\n",
    "# from CS1_create_data import calc_y_exp\n",
    "from bo_functions_generic import gen_theta_set, find_train_doc_path, set_ep, clean_1D_arrays\n",
    "\n",
    "import matplotlib as mpl"
   ]
  },
  {
   "cell_type": "code",
   "execution_count": 2,
   "id": "2f673db7",
   "metadata": {},
   "outputs": [
    {
     "name": "stdout",
     "output_type": "stream",
     "text": [
      "Date and Time:  29-Nov-2022 (09:52:33)\n"
     ]
    }
   ],
   "source": [
    "#Set Date and Time\n",
    "dateTimeObj = datetime.now()\n",
    "timestampStr = dateTimeObj.strftime(\"%d-%b-%Y (%H:%M:%S)\")\n",
    "print(\"Date and Time: \", timestampStr)\n",
    "# DateTime = dateTimeObj.strftime(\"%Y/%m/%d/%H-%M-%S%p\")\n",
    "DateTime = dateTimeObj.strftime(\"%Y/%m/%d/%H-%M\")\n",
    "DateTime = \"2022/11/29/09-48\"\n",
    "# DateTime = None ##For Testing\n",
    "\n",
    "#Set Parameters\n",
    "#Need to run at a and b, need 2 arrays to test that this will work\n",
    "CS = 1\n",
    "\n",
    "Constants = np.array([[-200,-100,-170,15],\n",
    "                      [-1,-1,-6.5,0.7],\n",
    "                      [0,0,11,0.6],\n",
    "                      [-10,-10,-6.5,0.7],\n",
    "                      [1,0,-0.5,-1],\n",
    "                      [0,0.5,1.5,1]])\n",
    "if CS == 2.2:\n",
    "    skip_param_types = 1 #This is what changes for subpoint\n",
    "    true_p = Constants[skip_param_types:skip_param_types+2].flatten()\n",
    "    param_dict = {0 : 'a_1', 1 : 'a_2', 2 : 'a_3', 3 : 'a_4',\n",
    "                  4 : 'b_1', 5 : 'b_2', 6 : 'b_3', 7 : 'b_4'}\n",
    "    exp_d = 2\n",
    "    n = 15 #Number of experimental data points to use\n",
    "\n",
    "else:\n",
    "    Constants = true_p = np.array([1,-1])\n",
    "    skip_param_types = 0\n",
    "    param_dict = {0 : '\\\\theta_1', 1 : '\\\\theta_2'}\n",
    "    exp_d = 1\n",
    "    n = 5\n",
    "\n",
    "# print(Theta_True)\n",
    "t = 20\n",
    "d = len(true_p)\n",
    "train_iter = 300\n",
    "noise_std = 0.1\n",
    "sep_fact = np.linspace(1,1,1)\n",
    "set_lengthscale = None\n",
    "explore_bias = 1\n",
    "\n",
    "obj = np.array([\"obj\", \"LN_obj\"])\n",
    "# obj = np.array([\"obj\"])\n",
    "\n",
    "# emulator = np.array([True, False])\n",
    "emulator = np.array([True])\n",
    "# emulator =  np.array([False])\n",
    "save_figure = True\n",
    "# save_figure = False\n",
    "\n",
    "#Pull Experimental data from CSV\n",
    "exp_data_doc = 'Input_CSVs/Exp_Data/d='+str(exp_d)+'/n='+str(n)+'.csv'\n",
    "exp_data = np.array(pd.read_csv(exp_data_doc, header=0,sep=\",\"))\n",
    "Xexp = exp_data[:,1:exp_d+1]\n",
    "Yexp = exp_data[:,-1]\n",
    "\n",
    "Xexp = clean_1D_arrays(Xexp)"
   ]
  },
  {
   "cell_type": "code",
   "execution_count": 3,
   "id": "5aeadf87",
   "metadata": {},
   "outputs": [
    {
     "name": "stdout",
     "output_type": "stream",
     "text": [
      "Emulator = True\n",
      "Objective Function = obj\n",
      "Loop\n",
      "Loop\n",
      "SSE Total =  1.2275e+02\n",
      "Emulator = False\n",
      "Objective Function = obj\n",
      "Loop\n"
     ]
    },
    {
     "name": "stderr",
     "output_type": "stream",
     "text": [
      "/scratch365/mcarlozo/Toy_Problem/GP_Validation.py:405: RuntimeWarning: invalid value encountered in log\n",
      "  plt.scatter(iter_space,np.log(GP_mean), label = r'$\\mathbf{log(e(\\theta))_{model}}$', s=100 )\n",
      "/scratch365/mcarlozo/Toy_Problem/GP_Validation.py:436: RuntimeWarning: invalid value encountered in log\n",
      "  csv_item_list = [iter_space, np.log(GP_mean), np.log(sse_sim)]\n"
     ]
    },
    {
     "name": "stdout",
     "output_type": "stream",
     "text": [
      "Objective Function = LN_obj\n",
      "Loop\n",
      "CPU times: user 2min 8s, sys: 137 ms, total: 2min 8s\n",
      "Wall time: 2min 9s\n"
     ]
    }
   ],
   "source": [
    "%%time\n",
    "for emul in emulator:\n",
    "    print(\"Emulator =\", emul)\n",
    "    if emul == False:\n",
    "        t_use = t\n",
    "        obj_use = obj\n",
    "    else:\n",
    "        t_use = t*n\n",
    "        obj_use = np.array([\"obj\"])\n",
    "    for obj_func in obj_use:\n",
    "        print(\"Objective Function =\", obj_func)\n",
    "        all_data_doc = find_train_doc_path(emul, obj_func, d, t_use)\n",
    "        all_data = np.array(pd.read_csv(all_data_doc, header=0,sep=\",\"))\n",
    "#         print(all_data)\n",
    "        LOO_Analysis(all_data, Xexp, Yexp, Constants, true_p, emul, obj_func, CS,  \n",
    "                     skip_param_types = skip_param_types, noise_std = noise_std, DateTime = DateTime, \n",
    "                     save_figure= save_figure)        "
   ]
  },
  {
   "cell_type": "code",
   "execution_count": null,
   "id": "20ca0f72",
   "metadata": {},
   "outputs": [],
   "source": []
  }
 ],
 "metadata": {
  "kernelspec": {
   "display_name": "Python 3 (ipykernel)",
   "language": "python",
   "name": "python3"
  },
  "language_info": {
   "codemirror_mode": {
    "name": "ipython",
    "version": 3
   },
   "file_extension": ".py",
   "mimetype": "text/x-python",
   "name": "python",
   "nbconvert_exporter": "python",
   "pygments_lexer": "ipython3",
   "version": "3.9.12"
  }
 },
 "nbformat": 4,
 "nbformat_minor": 5
}
