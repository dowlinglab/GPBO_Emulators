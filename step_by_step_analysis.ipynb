{
 "cells": [
  {
   "cell_type": "code",
   "execution_count": null,
   "id": "5b627a4d",
   "metadata": {},
   "outputs": [],
   "source": [
    "import sys\n",
    "import gpytorch\n",
    "import numpy as np\n",
    "import pandas as pd\n",
    "import torch\n",
    "from datetime import datetime\n",
    "from scipy.stats import qmc\n",
    "import itertools\n",
    "from itertools import combinations_with_replacement, combinations, permutations\n",
    "\n",
    "import bo_methods_lib\n",
    "from bo_methods_lib.bo_methods_lib.GPBO_Classes_New import * #Fix this later\n",
    "from bo_methods_lib.bo_methods_lib.GPBO_Class_fxns import * #Fix this later\n",
    "from bo_methods_lib.bo_methods_lib.analyze_data import * #Fix this later\n",
    "from bo_methods_lib.bo_methods_lib.GPBO_Classes_plotters import * #Fix this later\n",
    "import pympler\n",
    "import pickle\n",
    "\n",
    "from pympler import asizeof\n",
    "\n",
    "from matplotlib import pyplot as plt\n",
    "\n",
    "import matplotlib as mpl\n",
    "mpl.rcParams['figure.dpi'] = 200"
   ]
  },
  {
   "cell_type": "code",
   "execution_count": null,
   "id": "028c54a6",
   "metadata": {},
   "outputs": [],
   "source": [
    "#Get Best Run of One Job\n",
    "\n",
    "#From signac\n",
    "import signac\n",
    "date_time_str = None\n",
    "meth_name_str_list = [1, 2, 3, 4, 5]\n",
    "meth_name_str_list = [\"A1\", \"B1\", \"A2\", \"B2\", \"C2\"]\n",
    "study_id = \"ep\"\n",
    "save_csv = False\n",
    "\n",
    "#Define Criteria\n",
    "criteria_dict = {\"cs_name_val\" : 2,\n",
    "                 \"param_name_str\" : \"y0\",\n",
    "                 \"retrain_GP\": 10,\n",
    "                 \"num_x_data\": 5,\n",
    "                 \"num_val_pts\": 0,\n",
    "                 \"sep_fact\": 1.0,\n",
    "                 \"meth_name_val\": 5,\n",
    "                 \"lenscl\": None}\n",
    "\n",
    "#Get Jobs that match that criteria\n",
    "project = signac.get_project()\n",
    "jobs = sorted(project.find_jobs(criteria_dict), key=lambda job: job._id)\n",
    "\n",
    "#Get the best information csv from those jobs\n",
    "for job in jobs:\n",
    "    path_name = job.fn(\"ep_study_best_all.csv\")\n",
    "    if os.path.exists(path_name):\n",
    "        file_path = job.fn(\"BO_Results.gz\")\n",
    "        meth_name = Method_name_enum(criteria_dict[\"meth_name_val\"]).name\n",
    "        df_all_best = pd.read_csv(path_name, index_col = 0, header = 0)\n",
    "        df_best = df_all_best[df_all_best[\"BO Method\"]==meth_name]         \n",
    "        break\n",
    "\n",
    "#Given the method name, Find the run that is the best and get that data\n",
    "run_num = int(df_best[\"Run Number\"].to_numpy())\n",
    "bo_iter = int(df_best[\"BO Iter\"].to_numpy())\n",
    "\n",
    "print(file_path)\n",
    "print(run_num, bo_iter)\n",
    "display(df_best)\n",
    "\n",
    "print(\"Min Obj Theta\", df_best[\"Theta Min Obj Cum.\"].iloc[0])\n",
    "print(\"Max EI Theta\", df_best[\"Theta Max EI\"].iloc[0])"
   ]
  },
  {
   "cell_type": "code",
   "execution_count": null,
   "id": "2a6dbcb0",
   "metadata": {},
   "outputs": [],
   "source": [
    "#Define the run number and bo iter in question and pull the max bo iters and runs\n",
    "loaded_results = open_file_helper(file_path)\n",
    "\n",
    "runs = loaded_results[run_num].configuration[\"Number of Workflow Restarts\"]\n",
    "num_sets = loaded_results[run_num].configuration[\"Max BO Iters\"]\n",
    "print(\"Last Min Obj Theta\", loaded_results[run_num].results_df[\"Theta Min Obj Cum.\"].iloc[-1])\n",
    "print(\"Last Max EI Theta\", loaded_results[run_num].results_df[\"Theta Max EI\"].iloc[-1])\n",
    "print(\"Theta True\", loaded_results[run_num].simulator_class.theta_true)\n",
    "print(\"Last Hyperparameters\", loaded_results[run_num].list_gp_emulator_class[bo_iter].trained_hyperparams)\n",
    "\n",
    "#Print Results\n",
    "print(loaded_results[run_num].configuration)"
   ]
  },
  {
   "cell_type": "code",
   "execution_count": null,
   "id": "cf227813",
   "metadata": {},
   "outputs": [],
   "source": [
    "from IPython.display import display\n",
    "display(loaded_results[run_num].results_df)"
   ]
  },
  {
   "cell_type": "code",
   "execution_count": null,
   "id": "40cf8aad",
   "metadata": {},
   "outputs": [],
   "source": [
    "bo_iter = 2\n",
    "\n",
    "print(len(loaded_results[run_num].list_gp_emulator_class))\n",
    "print(run_num, bo_iter)\n",
    "##Regeneate simulator, gp_emulator, exerimental data, best error, true theta, lowest obj theta, and highest ei theta\n",
    "gp_emulator = loaded_results[run_num].list_gp_emulator_class[bo_iter]\n",
    "\n",
    "exp_data = loaded_results[run_num].exp_data_class\n",
    "simulator = loaded_results[run_num].simulator_class\n",
    "\n",
    "enum_method = loaded_results[run_num].configuration[\"Method Name Enum Value\"]\n",
    "enum_ep = Ep_enum(loaded_results[run_num].configuration[\"Exploration Bias Method Value\"])\n",
    "ep_at_iter = loaded_results[run_num].results_df[\"Exploration Bias\"].iloc[bo_iter]\n",
    "ep_bias = Exploration_Bias(None, ep_at_iter, enum_ep, None, None, None, None, None, None, None)\n",
    "\n",
    "if loaded_results[run_num].heat_map_data_dict is not None:\n",
    "    heat_map_data_dict = loaded_results[run_num].heat_map_data_dict\n",
    "        \n",
    "#Remake Driver Class\n",
    "cs_params, method, gen_meth_theta = get_driver_dependencies_from_results(loaded_results, run_num)\n",
    "driver = GPBO_Driver(cs_params, method, simulator, exp_data, gp_emulator.gp_sim_data, gp_emulator.gp_sim_data, \n",
    "                     gp_emulator.gp_val_data, gp_emulator.gp_val_data, gp_emulator, ep_bias, gen_meth_theta)"
   ]
  },
  {
   "cell_type": "code",
   "execution_count": null,
   "id": "6b5d6cb5",
   "metadata": {},
   "outputs": [],
   "source": [
    "#Visualize training data\n",
    "title_fontsize = 24\n",
    "other_fontsize = 20\n",
    "xbins = 5\n",
    "ybins = 5\n",
    "zbins = 5\n",
    "save_path = None\n",
    "print(file_path)\n",
    "\n",
    "idcs_to_plot = [0, 1, 2]\n",
    "title = \"Run: \" + str(run_num + 1) + \", Iter: \" + str(bo_iter + 1)\n",
    "train_data, test_data, val_data, x_exp, data_names, data_true = analyze_train_test(file_path, run_num +1 , bo_iter+1)\n",
    "train_data = train_data[:-25]  #Remove last point\n",
    "max_ei_theta = loaded_results[run_num].results_df[\"Theta Max EI\"].iloc[bo_iter]\n",
    "max_ei_theta = driver.create_data_instance_from_theta(max_ei_theta)\n",
    "max_ei_theta = gp_emulator.featurize_data(max_ei_theta)\n",
    "\n",
    "print(\"Max EI Theta\", loaded_results[run_num].results_df[\"Theta Max EI\"].iloc[bo_iter])\n",
    "\n",
    "plot_train_test_val_data(train_data, test_data, max_ei_theta, data_names, idcs_to_plot, x_exp, xbins, ybins, zbins, \n",
    "                         title, title_fontsize, other_fontsize, save_path)"
   ]
  },
  {
   "cell_type": "code",
   "execution_count": null,
   "id": "b83b124a",
   "metadata": {},
   "outputs": [],
   "source": [
    "#Print all Max EI Thetas for that run \n",
    "train_start = loaded_results[run_num].list_gp_emulator_class[0].feature_train_data\n",
    "train_end = loaded_results[run_num].list_gp_emulator_class[-1].feature_train_data\n",
    "len_ei = len(train_end) - len(train_start)\n",
    "train_ei = train_end[-len_ei-1:-1]\n",
    "print(len(train_ei))"
   ]
  },
  {
   "cell_type": "code",
   "execution_count": null,
   "id": "58654e46",
   "metadata": {},
   "outputs": [],
   "source": [
    "unique_indexes = np.unique(train_ei[:,0:-2], axis = 0, return_index=True)[1]\n",
    "unique_vals = np.array([train_ei[index] for index in sorted(unique_indexes)])[:,0:-2]"
   ]
  },
  {
   "cell_type": "code",
   "execution_count": null,
   "id": "6d8e14b0",
   "metadata": {},
   "outputs": [],
   "source": [
    "print(unique_vals)"
   ]
  },
  {
   "cell_type": "code",
   "execution_count": null,
   "id": "54e54a36",
   "metadata": {},
   "outputs": [],
   "source": [
    "np.savetxt(\"trial.csv\", unique_vals, delimiter=\",\")"
   ]
  },
  {
   "cell_type": "code",
   "execution_count": null,
   "id": "97cb0201",
   "metadata": {},
   "outputs": [],
   "source": []
  }
 ],
 "metadata": {
  "kernelspec": {
   "display_name": "Python 3 (ipykernel)",
   "language": "python",
   "name": "python3"
  },
  "language_info": {
   "codemirror_mode": {
    "name": "ipython",
    "version": 3
   },
   "file_extension": ".py",
   "mimetype": "text/x-python",
   "name": "python",
   "nbconvert_exporter": "python",
   "pygments_lexer": "ipython3",
   "version": "3.9.12"
  }
 },
 "nbformat": 4,
 "nbformat_minor": 5
}
