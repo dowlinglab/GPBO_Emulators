{
 "cells": [
  {
   "cell_type": "code",
   "execution_count": 1,
   "id": "5b627a4d",
   "metadata": {},
   "outputs": [
    {
     "name": "stderr",
     "output_type": "stream",
     "text": [
      "/afs/crc.nd.edu/user/m/mcarlozo/.conda/envs/Toy_Problem_env/lib/python3.9/site-packages/tqdm/auto.py:21: TqdmWarning: IProgress not found. Please update jupyter and ipywidgets. See https://ipywidgets.readthedocs.io/en/stable/user_install.html\n",
      "  from .autonotebook import tqdm as notebook_tqdm\n"
     ]
    }
   ],
   "source": [
    "import sys\n",
    "import gpytorch\n",
    "import numpy as np\n",
    "import pandas as pd\n",
    "import torch\n",
    "from datetime import datetime\n",
    "from scipy.stats import qmc\n",
    "import itertools\n",
    "from itertools import combinations_with_replacement, combinations, permutations\n",
    "\n",
    "import bo_methods_lib\n",
    "from bo_methods_lib.bo_methods_lib.GPBO_Classes_New import * #Fix this later\n",
    "from bo_methods_lib.bo_methods_lib.GPBO_Class_fxns import * #Fix this later\n",
    "from bo_methods_lib.bo_methods_lib.analyze_data import * #Fix this later\n",
    "from bo_methods_lib.bo_methods_lib.GPBO_Classes_plotters import * #Fix this later\n",
    "import pympler\n",
    "import pickle\n",
    "\n",
    "from pympler import asizeof\n",
    "\n",
    "from matplotlib import pyplot as plt\n",
    "\n",
    "import matplotlib as mpl\n",
    "mpl.rcParams['figure.dpi'] = 200"
   ]
  },
  {
   "cell_type": "code",
   "execution_count": 2,
   "id": "028c54a6",
   "metadata": {},
   "outputs": [
    {
     "name": "stdout",
     "output_type": "stream",
     "text": [
      "/scratch365/mcarlozo/Toy_Problem/workspace/8adf6602de7e3e082e87da1066e992f2/BO_Results.gz\n",
      "14 0\n"
     ]
    },
    {
     "data": {
      "text/html": [
       "<div>\n",
       "<style scoped>\n",
       "    .dataframe tbody tr th:only-of-type {\n",
       "        vertical-align: middle;\n",
       "    }\n",
       "\n",
       "    .dataframe tbody tr th {\n",
       "        vertical-align: top;\n",
       "    }\n",
       "\n",
       "    .dataframe thead th {\n",
       "        text-align: right;\n",
       "    }\n",
       "</style>\n",
       "<table border=\"1\" class=\"dataframe\">\n",
       "  <thead>\n",
       "    <tr style=\"text-align: right;\">\n",
       "      <th></th>\n",
       "      <th>Run Number</th>\n",
       "      <th>BO Iter</th>\n",
       "      <th>Best Error</th>\n",
       "      <th>Exploration Bias</th>\n",
       "      <th>Max EI</th>\n",
       "      <th>Theta Max EI</th>\n",
       "      <th>Min Obj</th>\n",
       "      <th>Min Obj Act</th>\n",
       "      <th>Theta Min Obj</th>\n",
       "      <th>Min Obj Cum.</th>\n",
       "      <th>Theta Min Obj Cum.</th>\n",
       "      <th>Time/Iter</th>\n",
       "      <th>EP Method Val</th>\n",
       "      <th>BO Method</th>\n",
       "      <th>Max Evals</th>\n",
       "      <th>Total Run Time</th>\n",
       "      <th>L2 Norm Theta</th>\n",
       "    </tr>\n",
       "  </thead>\n",
       "  <tbody>\n",
       "    <tr>\n",
       "      <th>1260</th>\n",
       "      <td>14</td>\n",
       "      <td>0</td>\n",
       "      <td>112844.022531</td>\n",
       "      <td>1.0</td>\n",
       "      <td>0.0</td>\n",
       "      <td>[-0.53762385 -1.54209214  1.21675079  1.1544071 ]</td>\n",
       "      <td>64541.902012</td>\n",
       "      <td>68006.282644</td>\n",
       "      <td>[-1.19801902  0.47849716  1.96595292  0.97589103]</td>\n",
       "      <td>68006.282644</td>\n",
       "      <td>[-1.19801902  0.47849716  1.96595292  0.97589103]</td>\n",
       "      <td>42.811267</td>\n",
       "      <td>1</td>\n",
       "      <td>C2</td>\n",
       "      <td>4</td>\n",
       "      <td>171.245068</td>\n",
       "      <td>1.285848</td>\n",
       "    </tr>\n",
       "  </tbody>\n",
       "</table>\n",
       "</div>"
      ],
      "text/plain": [
       "      Run Number  BO Iter     Best Error  Exploration Bias  Max EI  \\\n",
       "1260          14        0  112844.022531               1.0     0.0   \n",
       "\n",
       "                                           Theta Max EI       Min Obj  \\\n",
       "1260  [-0.53762385 -1.54209214  1.21675079  1.1544071 ]  64541.902012   \n",
       "\n",
       "       Min Obj Act                                      Theta Min Obj  \\\n",
       "1260  68006.282644  [-1.19801902  0.47849716  1.96595292  0.97589103]   \n",
       "\n",
       "      Min Obj Cum.                                 Theta Min Obj Cum.  \\\n",
       "1260  68006.282644  [-1.19801902  0.47849716  1.96595292  0.97589103]   \n",
       "\n",
       "      Time/Iter  EP Method Val BO Method  Max Evals  Total Run Time  \\\n",
       "1260  42.811267              1        C2          4      171.245068   \n",
       "\n",
       "      L2 Norm Theta  \n",
       "1260       1.285848  "
      ]
     },
     "metadata": {},
     "output_type": "display_data"
    },
    {
     "name": "stdout",
     "output_type": "stream",
     "text": [
      "Min Obj Theta [-1.19801902  0.47849716  1.96595292  0.97589103]\n",
      "Max EI Theta [-0.53762385 -1.54209214  1.21675079  1.1544071 ]\n"
     ]
    }
   ],
   "source": [
    "#Get Best Run of One Job\n",
    "\n",
    "#From signac\n",
    "import signac\n",
    "date_time_str = None\n",
    "meth_name_str_list = [1, 2, 3, 4, 5]\n",
    "meth_name_str_list = [\"A1\", \"B1\", \"A2\", \"B2\", \"C2\"]\n",
    "study_id = \"ep\"\n",
    "save_csv = False\n",
    "\n",
    "#Define Criteria\n",
    "criteria_dict = {\"cs_name_val\" : 2,\n",
    "                 \"param_name_str\" : \"y0\",\n",
    "                 \"retrain_GP\": 10,\n",
    "                 \"num_x_data\": 5,\n",
    "                 \"num_val_pts\": 0,\n",
    "                 \"sep_fact\": 1.0,\n",
    "                 \"meth_name_val\": 5,\n",
    "                 \"lenscl\": None}\n",
    "\n",
    "#Get Jobs that match that criteria\n",
    "project = signac.get_project()\n",
    "jobs = sorted(project.find_jobs(criteria_dict), key=lambda job: job._id)\n",
    "\n",
    "#Get the best information csv from those jobs\n",
    "for job in jobs:\n",
    "    path_name = job.fn(\"ep_study_best_all.csv\")\n",
    "    if os.path.exists(path_name):\n",
    "        file_path = job.fn(\"BO_Results.gz\")\n",
    "        meth_name = Method_name_enum(criteria_dict[\"meth_name_val\"]).name\n",
    "        df_all_best = pd.read_csv(path_name, index_col = 0, header = 0)\n",
    "        df_best = df_all_best[df_all_best[\"BO Method\"]==meth_name]         \n",
    "        break\n",
    "\n",
    "#Given the method name, Find the run that is the best and get that data\n",
    "run_num = int(df_best[\"Run Number\"].to_numpy())\n",
    "bo_iter = int(df_best[\"BO Iter\"].to_numpy())\n",
    "\n",
    "print(file_path)\n",
    "print(run_num, bo_iter)\n",
    "display(df_best)\n",
    "\n",
    "print(\"Min Obj Theta\", df_best[\"Theta Min Obj Cum.\"].iloc[0])\n",
    "print(\"Max EI Theta\", df_best[\"Theta Max EI\"].iloc[0])"
   ]
  },
  {
   "cell_type": "code",
   "execution_count": 3,
   "id": "2a6dbcb0",
   "metadata": {},
   "outputs": [
    {
     "name": "stdout",
     "output_type": "stream",
     "text": [
      "Last Min Obj Theta [-1.19801902  0.47849716  1.96595292  0.97589103]\n",
      "Last Max EI Theta [ 0.9346134  -0.14312267  0.65663397 -1.46321351]\n",
      "Theta True [0.  0.5 1.5 1. ]\n",
      "Last Hyperparameters [array([3.04373658e+00, 1.42091875e+02, 1.37528322e+00, 1.72084569e-01,\n",
      "       4.73144539e-02, 8.63728834e-03]), 0.0001, 1]\n",
      "{'DateTime String': None, 'Method Name Enum Value': 5, 'Case Study Name': 'BO_Results', 'Number of Parameters': 4, 'Exploration Bias Method Value': 1, 'Separation Factor': 1.0, 'Normalize': False, 'Initial Kernel': <Kernel_enum.MAT_52: 1>, 'Initial Lengthscale': None, 'Initial Outputscale': 1, 'Retrain GP': 10, 'Reoptimize Obj': 5, 'Heat Map Points Generated': True, 'Max BO Iters': 100, 'Number of Workflow Restarts': 15, 'Seed': 29, 'EI Tolerance': 0.0001, 'Obj Improvement Tolerance': 1e-06, 'Theta Generation Enum Value': 1}\n"
     ]
    }
   ],
   "source": [
    "#Define the run number and bo iter in question and pull the max bo iters and runs\n",
    "loaded_results = open_file_helper(file_path)\n",
    "\n",
    "runs = loaded_results[run_num].configuration[\"Number of Workflow Restarts\"]\n",
    "num_sets = loaded_results[run_num].configuration[\"Max BO Iters\"]\n",
    "print(\"Last Min Obj Theta\", loaded_results[run_num].results_df[\"Theta Min Obj Cum.\"].iloc[-1])\n",
    "print(\"Last Max EI Theta\", loaded_results[run_num].results_df[\"Theta Max EI\"].iloc[-1])\n",
    "print(\"Theta True\", loaded_results[run_num].simulator_class.theta_true)\n",
    "print(\"Last Hyperparameters\", loaded_results[run_num].list_gp_emulator_class[bo_iter].trained_hyperparams)\n",
    "\n",
    "#Print Results\n",
    "print(loaded_results[run_num].configuration)"
   ]
  },
  {
   "cell_type": "code",
   "execution_count": 4,
   "id": "cf227813",
   "metadata": {},
   "outputs": [
    {
     "data": {
      "text/html": [
       "<div>\n",
       "<style scoped>\n",
       "    .dataframe tbody tr th:only-of-type {\n",
       "        vertical-align: middle;\n",
       "    }\n",
       "\n",
       "    .dataframe tbody tr th {\n",
       "        vertical-align: top;\n",
       "    }\n",
       "\n",
       "    .dataframe thead th {\n",
       "        text-align: right;\n",
       "    }\n",
       "</style>\n",
       "<table border=\"1\" class=\"dataframe\">\n",
       "  <thead>\n",
       "    <tr style=\"text-align: right;\">\n",
       "      <th></th>\n",
       "      <th>index</th>\n",
       "      <th>Best Error</th>\n",
       "      <th>Exploration Bias</th>\n",
       "      <th>Max EI</th>\n",
       "      <th>Theta Max EI</th>\n",
       "      <th>Min Obj</th>\n",
       "      <th>Min Obj Act</th>\n",
       "      <th>Theta Min Obj</th>\n",
       "      <th>Min Obj Cum.</th>\n",
       "      <th>Theta Min Obj Cum.</th>\n",
       "      <th>Time/Iter</th>\n",
       "    </tr>\n",
       "  </thead>\n",
       "  <tbody>\n",
       "    <tr>\n",
       "      <th>0</th>\n",
       "      <td>0</td>\n",
       "      <td>112844.022531</td>\n",
       "      <td>1.0</td>\n",
       "      <td>0.0</td>\n",
       "      <td>[-0.5376238501428094, -1.5420921394617464, 1.2...</td>\n",
       "      <td>64541.902012</td>\n",
       "      <td>68006.282644</td>\n",
       "      <td>[-1.1980190245432096, 0.47849715840638385, 1.9...</td>\n",
       "      <td>68006.282644</td>\n",
       "      <td>[-1.1980190245432096, 0.47849715840638385, 1.9...</td>\n",
       "      <td>42.811267</td>\n",
       "    </tr>\n",
       "    <tr>\n",
       "      <th>1</th>\n",
       "      <td>0</td>\n",
       "      <td>112844.022531</td>\n",
       "      <td>1.0</td>\n",
       "      <td>80772105424.21875</td>\n",
       "      <td>[1.6879848191934257, 1.6203273846649118, 0.933...</td>\n",
       "      <td>63539.989907</td>\n",
       "      <td>126191.165645</td>\n",
       "      <td>[1.687475526708497, -0.05979114240246589, 0.93...</td>\n",
       "      <td>68006.282644</td>\n",
       "      <td>[-1.1980190245432096, 0.47849715840638385, 1.9...</td>\n",
       "      <td>56.303124</td>\n",
       "    </tr>\n",
       "    <tr>\n",
       "      <th>2</th>\n",
       "      <td>0</td>\n",
       "      <td>112844.022531</td>\n",
       "      <td>1.0</td>\n",
       "      <td>0.0</td>\n",
       "      <td>[0.9346133988931604, -0.14312267487774055, 0.6...</td>\n",
       "      <td>56573.537417</td>\n",
       "      <td>130117.101973</td>\n",
       "      <td>[-2.0, 0.6779939080971373, 2.0, 0.948256547447...</td>\n",
       "      <td>68006.282644</td>\n",
       "      <td>[-1.1980190245432096, 0.47849715840638385, 1.9...</td>\n",
       "      <td>45.27991</td>\n",
       "    </tr>\n",
       "    <tr>\n",
       "      <th>3</th>\n",
       "      <td>0</td>\n",
       "      <td>112844.022531</td>\n",
       "      <td>1.0</td>\n",
       "      <td>0.0</td>\n",
       "      <td>[0.9346133988931604, -0.14312267487774055, 0.6...</td>\n",
       "      <td>56575.629672</td>\n",
       "      <td>139718.943693</td>\n",
       "      <td>[-2.0, -2.0, 2.0, 0.9482162778258708]</td>\n",
       "      <td>68006.282644</td>\n",
       "      <td>[-1.1980190245432096, 0.47849715840638385, 1.9...</td>\n",
       "      <td>55.654974</td>\n",
       "    </tr>\n",
       "  </tbody>\n",
       "</table>\n",
       "</div>"
      ],
      "text/plain": [
       "   index     Best Error Exploration Bias             Max EI  \\\n",
       "0      0  112844.022531              1.0                0.0   \n",
       "1      0  112844.022531              1.0  80772105424.21875   \n",
       "2      0  112844.022531              1.0                0.0   \n",
       "3      0  112844.022531              1.0                0.0   \n",
       "\n",
       "                                        Theta Max EI       Min Obj  \\\n",
       "0  [-0.5376238501428094, -1.5420921394617464, 1.2...  64541.902012   \n",
       "1  [1.6879848191934257, 1.6203273846649118, 0.933...  63539.989907   \n",
       "2  [0.9346133988931604, -0.14312267487774055, 0.6...  56573.537417   \n",
       "3  [0.9346133988931604, -0.14312267487774055, 0.6...  56575.629672   \n",
       "\n",
       "     Min Obj Act                                      Theta Min Obj  \\\n",
       "0   68006.282644  [-1.1980190245432096, 0.47849715840638385, 1.9...   \n",
       "1  126191.165645  [1.687475526708497, -0.05979114240246589, 0.93...   \n",
       "2  130117.101973  [-2.0, 0.6779939080971373, 2.0, 0.948256547447...   \n",
       "3  139718.943693              [-2.0, -2.0, 2.0, 0.9482162778258708]   \n",
       "\n",
       "   Min Obj Cum.                                 Theta Min Obj Cum.  Time/Iter  \n",
       "0  68006.282644  [-1.1980190245432096, 0.47849715840638385, 1.9...  42.811267  \n",
       "1  68006.282644  [-1.1980190245432096, 0.47849715840638385, 1.9...  56.303124  \n",
       "2  68006.282644  [-1.1980190245432096, 0.47849715840638385, 1.9...   45.27991  \n",
       "3  68006.282644  [-1.1980190245432096, 0.47849715840638385, 1.9...  55.654974  "
      ]
     },
     "metadata": {},
     "output_type": "display_data"
    }
   ],
   "source": [
    "from IPython.display import display\n",
    "display(loaded_results[run_num].results_df)"
   ]
  },
  {
   "cell_type": "code",
   "execution_count": 19,
   "id": "40cf8aad",
   "metadata": {},
   "outputs": [
    {
     "name": "stdout",
     "output_type": "stream",
     "text": [
      "4\n",
      "14 0\n",
      "1100 1025\n"
     ]
    }
   ],
   "source": [
    "bo_iter = 0\n",
    "\n",
    "print(len(loaded_results[run_num].list_gp_emulator_class))\n",
    "print(run_num, bo_iter)\n",
    "##Regeneate simulator, gp_emulator, exerimental data, best error, true theta, lowest obj theta, and highest ei theta\n",
    "gp_emulator = loaded_results[run_num].list_gp_emulator_class[bo_iter]\n",
    "print(len(gp_emulator.train_data.theta_vals), len(gp_emulator.feature_train_data))\n",
    "\n",
    "exp_data = loaded_results[run_num].exp_data_class\n",
    "simulator = loaded_results[run_num].simulator_class\n",
    "\n",
    "enum_method = loaded_results[run_num].configuration[\"Method Name Enum Value\"]\n",
    "enum_ep = Ep_enum(loaded_results[run_num].configuration[\"Exploration Bias Method Value\"])\n",
    "ep_at_iter = loaded_results[run_num].results_df[\"Exploration Bias\"].iloc[bo_iter]\n",
    "ep_bias = Exploration_Bias(None, ep_at_iter, enum_ep, None, None, None, None, None, None, None)\n",
    "\n",
    "if loaded_results[run_num].heat_map_data_dict is not None:\n",
    "    heat_map_data_dict = loaded_results[run_num].heat_map_data_dict\n",
    "        \n",
    "#Remake Driver Class\n",
    "cs_params, method, gen_meth_theta = get_driver_dependencies_from_results(loaded_results, run_num)\n",
    "driver = GPBO_Driver(cs_params, method, simulator, exp_data, gp_emulator.gp_sim_data, gp_emulator.gp_sim_data, \n",
    "                     gp_emulator.gp_val_data, gp_emulator.gp_val_data, gp_emulator, ep_bias, gen_meth_theta)"
   ]
  },
  {
   "cell_type": "code",
   "execution_count": 6,
   "id": "6b5d6cb5",
   "metadata": {},
   "outputs": [
    {
     "name": "stdout",
     "output_type": "stream",
     "text": [
      "/scratch365/mcarlozo/Toy_Problem/workspace/8adf6602de7e3e082e87da1066e992f2/BO_Results.gz\n"
     ]
    }
   ],
   "source": [
    "#Visualize training data\n",
    "title_fontsize = 24\n",
    "other_fontsize = 20\n",
    "xbins = 5\n",
    "ybins = 5\n",
    "zbins = 5\n",
    "save_path = None\n",
    "print(file_path)\n",
    "\n",
    "idcs_to_plot = [0, 1, 2]\n",
    "title = \"Run: \" + str(run_num + 1) + \", Iter: \" + str(bo_iter + 1)\n",
    "train_data, test_data, val_data, x_exp, data_names, data_true = analyze_train_test(file_path, run_num +1 , bo_iter+1)\n",
    "train_data = train_data[:-25]  #Remove last point\n",
    "max_ei_theta = loaded_results[run_num].results_df[\"Theta Max EI\"].iloc[bo_iter]\n",
    "max_ei_theta = driver.create_data_instance_from_theta(max_ei_theta)\n",
    "max_ei_theta = gp_emulator.featurize_data(max_ei_theta)\n",
    "\n",
    "# print(\"Max EI Theta\", loaded_results[run_num].results_df[\"Theta Max EI\"].iloc[bo_iter])\n",
    "\n",
    "# plot_train_test_val_data(train_data, test_data, max_ei_theta, data_names, idcs_to_plot, x_exp, xbins, ybins, zbins, \n",
    "#                          title, title_fontsize, other_fontsize, save_path)"
   ]
  },
  {
   "cell_type": "code",
   "execution_count": 7,
   "id": "b83b124a",
   "metadata": {},
   "outputs": [
    {
     "name": "stdout",
     "output_type": "stream",
     "text": [
      "75\n"
     ]
    }
   ],
   "source": [
    "#Print all Max EI Thetas for that run \n",
    "train_start = loaded_results[run_num].list_gp_emulator_class[0].feature_train_data\n",
    "train_end = loaded_results[run_num].list_gp_emulator_class[-1].feature_train_data\n",
    "len_ei = len(train_end) - len(train_start)\n",
    "train_ei = train_end[-len_ei-1:-1]\n",
    "print(len(train_ei))"
   ]
  },
  {
   "cell_type": "code",
   "execution_count": 8,
   "id": "58654e46",
   "metadata": {},
   "outputs": [],
   "source": [
    "unique_indexes = np.unique(train_ei[:,0:-2], axis = 0, return_index=True)[1]\n",
    "unique_vals = np.array([train_ei[index] for index in sorted(unique_indexes)])[:,0:-2]"
   ]
  },
  {
   "cell_type": "code",
   "execution_count": 9,
   "id": "6d8e14b0",
   "metadata": {},
   "outputs": [
    {
     "name": "stdout",
     "output_type": "stream",
     "text": [
      "[[-0.53762385 -1.54209214  1.21675079  1.1544071 ]\n",
      " [ 1.68798482  1.62032738  0.93303907  0.93170301]\n",
      " [ 0.9346134  -0.14312267  0.65663397 -1.46321351]]\n"
     ]
    }
   ],
   "source": [
    "print(unique_vals)"
   ]
  },
  {
   "cell_type": "code",
   "execution_count": 10,
   "id": "54e54a36",
   "metadata": {},
   "outputs": [],
   "source": [
    "np.savetxt(\"trial.csv\", unique_vals, delimiter=\",\")"
   ]
  },
  {
   "cell_type": "code",
   "execution_count": null,
   "id": "97cb0201",
   "metadata": {},
   "outputs": [],
   "source": []
  }
 ],
 "metadata": {
  "kernelspec": {
   "display_name": "Python 3 (ipykernel)",
   "language": "python",
   "name": "python3"
  },
  "language_info": {
   "codemirror_mode": {
    "name": "ipython",
    "version": 3
   },
   "file_extension": ".py",
   "mimetype": "text/x-python",
   "name": "python",
   "nbconvert_exporter": "python",
   "pygments_lexer": "ipython3",
   "version": "3.9.12"
  }
 },
 "nbformat": 4,
 "nbformat_minor": 5
}
