{
 "cells": [
  {
   "cell_type": "code",
   "execution_count": 1,
   "id": "77ad7c54",
   "metadata": {},
   "outputs": [],
   "source": [
    "import gpytorch\n",
    "\n",
    "from bo_functions import best_error_advanced\n",
    "from bo_functions import calc_ei_advanced\n",
    "from bo_functions import LHS_Design\n",
    "from bo_functions import create_y_data\n",
    "from bo_functions import test_train_split\n",
    "from bo_functions import ExactGPModel\n",
    "from bo_functions import train_GP_model\n",
    "from bo_functions import calc_GP_outputs\n",
    "from bo_functions import calc_y_expected\n",
    "from bo_functions import improvement_integral\n",
    "\n",
    "from bo_plotters import plotter_adv\n",
    "from bo_plotters import y_plotter_adv\n",
    "from bo_plotters import stdev_plotter_adv\n",
    "from bo_plotters import ei_plotter_adv"
   ]
  },
  {
   "cell_type": "code",
   "execution_count": 2,
   "id": "ff5e9cb7",
   "metadata": {},
   "outputs": [
    {
     "name": "stdout",
     "output_type": "stream",
     "text": [
      "Upper bound is 2.414213562373095\n",
      "Lower bound is -0.41421356237309515\n",
      "pdf upper is 0.021641292583382807\n",
      "cdf upper is 0.9921153917769587\n",
      "pdf lower is 0.36614532160079927\n",
      "cdf lower is 0.339358855094689\n",
      "EI: [-0.11799097]\n"
     ]
    }
   ],
   "source": [
    "#Test calc_ei_adv (to compare with hand calcs)\n",
    "import numpy as np\n",
    "import torch\n",
    "er_best = 2.0\n",
    "mu = torch.tensor([3])\n",
    "y_exp2 = np.array([4])\n",
    "pred_var = torch.tensor([1])\n",
    "print(\"EI:\",calc_ei_advanced(er_best,mu,pred_var,y_exp2))"
   ]
  },
  {
   "cell_type": "code",
   "execution_count": 3,
   "id": "e547bc3a",
   "metadata": {},
   "outputs": [
    {
     "name": "stdout",
     "output_type": "stream",
     "text": [
      "Integrand: [array([-5.05484635e-05]), array([-0.0045432]), array([-0.10334574]), array([-0.50843871]), array([-0.14351035]), array([0.61625031]), array([0.15474222]), array([-0.00977314]), array([-0.00131635]), array([-2.08140732e-05])]\n",
      "Integrand Lower: [-1.62601187e-16]\n",
      "Integrand Upper: [9.61066452e-18]\n"
     ]
    },
    {
     "data": {
      "text/plain": [
       "Text(0, 0.5, 'Improvement Integrand')"
      ]
     },
     "execution_count": 3,
     "metadata": {},
     "output_type": "execute_result"
    },
    {
     "data": {
      "image/png": "[encoded data removed]",
      "text/plain": [
       "<Figure size 432x288 with 1 Axes>"
      ]
     },
     "metadata": {
      "needs_background": "light"
     },
     "output_type": "display_data"
    }
   ],
   "source": [
    "EPS = np.linspace(-5,5,10)\n",
    "EPS_upper = ((y_exp2 - mu.numpy()) +np.sqrt(er_best))/np.sqrt(pred_var.numpy())\n",
    "integrand_upper = improvement_integral(er_best,mu,pred_var,y_exp2,EPS_upper)\n",
    "EPS_lower = ((y_exp2 - mu.numpy()) -np.sqrt(er_best))/np.sqrt(pred_var.numpy())\n",
    "integrand_lower = improvement_integral(er_best,mu,pred_var,y_exp2,EPS_lower)\n",
    "\n",
    "I_test = []\n",
    "for i in range(len(EPS)):\n",
    "    I_i = I = improvement_integral(er_best,mu,pred_var,y_exp2,EPS[i])\n",
    "    I_test.append(I_i)\n",
    "print(\"Integrand:\", I_test) \n",
    "print(\"Integrand Lower:\",integrand_lower )\n",
    "print(\"Integrand Upper:\",integrand_upper )\n",
    "\n",
    "from matplotlib import pyplot as plt    \n",
    "plt.plot(EPS,I_test)\n",
    "plt.scatter(EPS_upper,integrand_upper, label=\"upper\")\n",
    "plt.scatter(EPS_lower,integrand_lower, label =\"lower\")\n",
    "plt.legend()\n",
    "plt.xlabel(\"Epsilon\")\n",
    "plt.ylabel(\"Improvement Integrand\")"
   ]
  }
 ],
 "metadata": {
  "kernelspec": {
   "display_name": "Python 3 (ipykernel)",
   "language": "python",
   "name": "python3"
  },
  "language_info": {
   "codemirror_mode": {
    "name": "ipython",
    "version": 3
   },
   "file_extension": ".py",
   "mimetype": "text/x-python",
   "name": "python",
   "nbconvert_exporter": "python",
   "pygments_lexer": "ipython3",
   "version": "3.9.7"
  }
 },
 "nbformat": 4,
 "nbformat_minor": 5
}
