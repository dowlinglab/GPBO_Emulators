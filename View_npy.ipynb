{
 "cells": [
  {
   "cell_type": "code",
   "execution_count": 11,
   "id": "4ba9b6af",
   "metadata": {},
   "outputs": [],
   "source": [
    "import numpy as np\n",
    "import math\n",
    "from scipy.stats import norm\n",
    "from scipy import integrate\n",
    "import torch\n",
    "import csv\n",
    "import gpytorch\n",
    "import scipy.optimize as optimize\n",
    "import itertools\n",
    "from itertools import combinations_with_replacement\n",
    "from itertools import combinations\n",
    "from itertools import permutations\n",
    "from sklearn.preprocessing import MinMaxScaler\n",
    "import pandas as pd\n",
    "import os\n",
    "import time\n",
    "import Tasmanian\n",
    "from matplotlib import pyplot as plt\n",
    "\n",
    "from GP_Validation import path_name_gp_val"
   ]
  },
  {
   "cell_type": "code",
   "execution_count": 12,
   "id": "db84ef93",
   "metadata": {},
   "outputs": [],
   "source": [
    "DateTime = \"2022/11/29/11-15\"\n",
    "emulator = True\n",
    "set_lengthscale = None\n",
    "t = 300\n",
    "obj = \"obj\"\n",
    "Case_Study = 2.2\n",
    "fxn = \"LOO_Plots_2_Input\"\n",
    "log_sse_model = np.load(path_name_gp_val(emulator, fxn, set_lengthscale, t, obj, Case_Study, DateTime, \n",
    "                 is_figure = False, csv_end = \"/log_sse_model.npy\"))\n",
    "log_sse_sim = np.load(path_name_gp_val(emulator, fxn, set_lengthscale, t, obj, Case_Study, DateTime, \n",
    "                 is_figure = False, csv_end = \"/log_sse_sim.npy\"))\n",
    "iters = np.load(path_name_gp_val(emulator, fxn, set_lengthscale, t, obj, Case_Study, DateTime, \n",
    "                 is_figure = False, csv_end = \"/iter_space.npy\"))"
   ]
  },
  {
   "cell_type": "code",
   "execution_count": 14,
   "id": "238321ce",
   "metadata": {},
   "outputs": [
    {
     "data": {
      "text/plain": [
       "[<matplotlib.lines.Line2D at 0x7fb38d861400>]"
      ]
     },
     "execution_count": 14,
     "metadata": {},
     "output_type": "execute_result"
    },
    {
     "data": {
      "image/png": "[encoded data removed]",
      "text/plain": [
       "<Figure size 432x288 with 1 Axes>"
      ]
     },
     "metadata": {
      "needs_background": "light"
     },
     "output_type": "display_data"
    }
   ],
   "source": [
    "# print(log_sse_model)\n",
    "# print(log_sse_sim)\n",
    "\n",
    "plt.plot(iters, log_sse_model)\n",
    "plt.plot(iters, log_sse_sim)"
   ]
  },
  {
   "cell_type": "code",
   "execution_count": null,
   "id": "214e9df9",
   "metadata": {},
   "outputs": [],
   "source": []
  }
 ],
 "metadata": {
  "kernelspec": {
   "display_name": "Python 3 (ipykernel)",
   "language": "python",
   "name": "python3"
  },
  "language_info": {
   "codemirror_mode": {
    "name": "ipython",
    "version": 3
   },
   "file_extension": ".py",
   "mimetype": "text/x-python",
   "name": "python",
   "nbconvert_exporter": "python",
   "pygments_lexer": "ipython3",
   "version": "3.9.12"
  }
 },
 "nbformat": 4,
 "nbformat_minor": 5
}
