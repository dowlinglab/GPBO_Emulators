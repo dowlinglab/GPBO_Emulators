{
 "cells": [
  {
   "cell_type": "code",
   "execution_count": 1,
   "id": "73cebc30",
   "metadata": {},
   "outputs": [
    {
     "name": "stderr",
     "output_type": "stream",
     "text": [
      "/afs/crc.nd.edu/user/m/mcarlozo/.conda/envs/Toy_Problem_env/lib/python3.9/site-packages/tqdm/auto.py:22: TqdmWarning: IProgress not found. Please update jupyter and ipywidgets. See https://ipywidgets.readthedocs.io/en/stable/user_install.html\n",
      "  from .autonotebook import tqdm as notebook_tqdm\n"
     ]
    },
    {
     "name": "stdout",
     "output_type": "stream",
     "text": [
      "CPU times: user 2.21 s, sys: 274 ms, total: 2.48 s\n",
      "Wall time: 2.52 s\n"
     ]
    }
   ],
   "source": [
    "%%time\n",
    "\n",
    "import sys\n",
    "import gpytorch\n",
    "import numpy as np\n",
    "import pandas as pd\n",
    "import torch\n",
    "from datetime import datetime\n",
    "from scipy.stats import qmc\n",
    "import itertools\n",
    "from itertools import combinations_with_replacement, combinations, permutations\n",
    "\n",
    "import bo_methods_lib\n",
    "from bo_methods_lib.bo_functions_generic import gen_theta_set, clean_1D_arrays\n",
    "from bo_methods_lib.GPBO_Classes_New import * #Fix this later\n",
    "from bo_methods_lib.GPBO_Class_fxns import * #Fix this later"
   ]
  },
  {
   "cell_type": "markdown",
   "id": "037b3180",
   "metadata": {},
   "source": [
    "## Define Method and DateTime"
   ]
  },
  {
   "cell_type": "code",
   "execution_count": 2,
   "id": "0f1c1601",
   "metadata": {},
   "outputs": [
    {
     "name": "stdout",
     "output_type": "stream",
     "text": [
      "Method Name:  A1\n",
      "Emulator?:  False\n",
      "Obj Func:  OBJ\n",
      "Sparse Grid?:  False\n"
     ]
    }
   ],
   "source": [
    "#Generate Method (except last part)\n",
    "meth_name = Method_name_enum(1)\n",
    "method = GPBO_Methods(meth_name)\n",
    "\n",
    "print(\"Method Name: \", method.method_name.name)\n",
    "print(\"Emulator?: \", method.emulator)\n",
    "print(\"Obj Func: \", method.obj.name)\n",
    "print(\"Sparse Grid?: \", method.sparse_grid)\n",
    "\n",
    "#Set Date and Time\n",
    "dateTimeObj = datetime.now()\n",
    "timestampStr = dateTimeObj.strftime(\"%d-%b-%Y (%H:%M:%S)\")\n",
    "# print(\"Date and Time: \", timestampStr)\n",
    "# DateTime = dateTimeObj.strftime(\"%Y/%m/%d/%H-%M-%S%p\")\n",
    "DateTime = dateTimeObj.strftime(\"%Y/%m/%d/%H-%M\")\n",
    "DateTime = None ##For Testing"
   ]
  },
  {
   "cell_type": "markdown",
   "id": "782586e9",
   "metadata": {},
   "source": [
    "## Initialize Simulator"
   ]
  },
  {
   "cell_type": "code",
   "execution_count": 3,
   "id": "28ea5725",
   "metadata": {},
   "outputs": [],
   "source": [
    "def simulator_helper_test_fxns(cs_name, indecies_to_consider, noise_mean, noise_std, case_study_parameters):\n",
    "    \"\"\"\n",
    "    Sets the model for calculating y based off of the case study identifier.\n",
    "\n",
    "    Parameters\n",
    "    ----------\n",
    "    cs_name: Class, The name/enumerator associated with the case study being evaluated\n",
    "\n",
    "    Returns\n",
    "    -------\n",
    "    calc_y_fxn: function, the function used for calculation is case study cs_name.name\n",
    "    \"\"\"\n",
    "    #Note: Add your function name from GPBO_Class_fxns.py here\n",
    "    if cs_name.value == 1:      \n",
    "        theta_ref = np.array([1.0, -1.0])\n",
    "        theta_names = ['theta_1', 'theta_2']\n",
    "        bounds_x_l = [-2]\n",
    "        bounds_x_u = [2]\n",
    "        bounds_theta_l = [-2, -2]\n",
    "        bounds_theta_u = [ 2,  2]\n",
    "        calc_y_fxn = calc_cs1_polynomial\n",
    "        \n",
    "    elif cs_name.value == 2:     \n",
    "        theta_ref = np.array([-200,-100,-170,15,-1,-1,-6.5,0.7,0,0,11,0.6,-10,-10,-6.5,0.7,1,0,-0.5,-1,0,0.5,1.5,1])\n",
    "                             \n",
    "        theta_names = ['A_1', 'A_2', 'A_3', 'A_4', 'a_1', 'a_2', 'a_3', 'a_4', 'b_1', 'b_2', 'b_3', 'b_4', 'c_1', \n",
    "                       'c_2', 'c_3', 'c_4', 'x0_1', 'x0_2', 'x0_3', 'x0_4', 'x1_1', 'x1_2', 'x1_3', 'x1_4']\n",
    "        bounds_x_l = [-1.5, -0.5]\n",
    "        bounds_x_u = [1, 2]\n",
    "        bounds_theta_l = [-300,-200,-250, 5,-2,-2,-10, -2, -2,-2,5,-2,-20,-20, -10,-1 ,-2,-2,-2, -2,-2,-2,0,-2]\n",
    "        bounds_theta_u = [-100,  0, -150, 20,2, 2, 0,  2,  2,  2, 15,2, 0,0   , 0,  2, 2,  2, 2, 2 ,2 , 2, 2,2]\n",
    "        calc_y_fxn = calc_muller\n",
    "        \n",
    "    else:\n",
    "        raise ValueError(\"self.CaseStudyParameters.cs_name.value must exist!\")\n",
    "\n",
    "    return Simulator(indecies_to_consider, \n",
    "                     theta_ref,\n",
    "                     theta_names,\n",
    "                     bounds_theta_l, \n",
    "                     bounds_x_l, \n",
    "                     bounds_theta_u, \n",
    "                     bounds_x_u, \n",
    "                     noise_mean,\n",
    "                     noise_std,\n",
    "                     case_study_parameters,\n",
    "                     calc_y_fxn)"
   ]
  },
  {
   "cell_type": "markdown",
   "id": "1295b8e0",
   "metadata": {},
   "source": [
    "## Initialize Case Study and Simulator"
   ]
  },
  {
   "cell_type": "code",
   "execution_count": 4,
   "id": "5ba036fa",
   "metadata": {},
   "outputs": [
    {
     "name": "stdout",
     "output_type": "stream",
     "text": [
      "CS Name:  CS1\n"
     ]
    }
   ],
   "source": [
    "cs_name  = CS_name_enum(1)\n",
    "print(\"CS Name: \", cs_name.name)\n",
    "\n",
    "# indecies_to_consider = list(range(4, 12)) #This is what changes for different subproblems of CS2\n",
    "indecies_to_consider = list(range(0, 2)) #This is what changes for different subproblems of CS1\n",
    "\n",
    "ep0 = 1\n",
    "sep_fact = 0.8\n",
    "normalize = False\n",
    "lhs_gen_theta = True\n",
    "eval_all_pairs = False\n",
    "noise_mean = 0\n",
    "noise_std = 0.01\n",
    "noise_std = 0\n",
    "kernel = Kernel_enum(1)\n",
    "set_lenscl = 1\n",
    "outputscl = False\n",
    "retrain_GP = 2\n",
    "GP_train_iter = 300\n",
    "bo_iter_tot = 3\n",
    "bo_run_tot = 2\n",
    "save_fig = False\n",
    "save_data = False\n",
    "num_data = None\n",
    "seed = 1\n",
    "\n",
    "cs_params = CaseStudyParameters(cs_name, ep0, sep_fact, normalize, eval_all_pairs, bo_iter_tot, bo_run_tot, \n",
    "                         save_fig, save_data, DateTime, seed)\n",
    "\n",
    "simulator = simulator_helper_test_fxns(cs_name, indecies_to_consider, noise_mean, noise_std, cs_params)"
   ]
  },
  {
   "cell_type": "markdown",
   "id": "2e45010f",
   "metadata": {},
   "source": [
    "## Test Simulator"
   ]
  },
  {
   "cell_type": "code",
   "execution_count": 5,
   "id": "a8e1532e",
   "metadata": {},
   "outputs": [
    {
     "name": "stdout",
     "output_type": "stream",
     "text": [
      "True\n",
      "True\n"
     ]
    }
   ],
   "source": [
    "#Test get_sim_num_theta_data\n",
    "num_theta_data = 20\n",
    "gen_meth_theta = Gen_meth_enum(1)\n",
    "sim_num_theta = simulator.get_sim_num_theta_data(num_theta_data, gen_meth_theta)\n",
    "print(sim_num_theta == num_theta_data)\n",
    "\n",
    "gen_meth_theta = Gen_meth_enum(2)\n",
    "sim_num_theta = simulator.get_sim_num_theta_data(num_theta_data, gen_meth_theta)\n",
    "print(sim_num_theta == num_theta_data**simulator.dim_theta)"
   ]
  },
  {
   "cell_type": "code",
   "execution_count": 6,
   "id": "5c364781",
   "metadata": {},
   "outputs": [
    {
     "name": "stdout",
     "output_type": "stream",
     "text": [
      "[ 1. -1.] ['theta_1', 'theta_2']\n"
     ]
    }
   ],
   "source": [
    "#Test __set_true_params\n",
    "print(simulator.theta_true, simulator.theta_true_names)"
   ]
  },
  {
   "cell_type": "code",
   "execution_count": 7,
   "id": "71f85240",
   "metadata": {},
   "outputs": [
    {
     "name": "stdout",
     "output_type": "stream",
     "text": [
      "True\n",
      "True\n"
     ]
    }
   ],
   "source": [
    "#Test gen_exp_data\n",
    "num_x_data = 5\n",
    "\n",
    "gen_meth_x = Gen_meth_enum(1)\n",
    "exp_data = simulator.gen_exp_data(num_x_data, gen_meth_x)\n",
    "print(len(exp_data.theta_vals) == len(exp_data.x_vals) == len(exp_data.y_vals))\n",
    "\n",
    "gen_meth_x = Gen_meth_enum(2)\n",
    "exp_data = simulator.gen_exp_data(num_x_data, gen_meth_x)\n",
    "print(len(exp_data.theta_vals) == len(exp_data.x_vals) == len(exp_data.y_vals))"
   ]
  },
  {
   "cell_type": "code",
   "execution_count": 8,
   "id": "dc8050bf",
   "metadata": {},
   "outputs": [
    {
     "name": "stdout",
     "output_type": "stream",
     "text": [
      "100 100\n",
      "100 100\n",
      "2000 2000\n",
      "2000\n"
     ]
    }
   ],
   "source": [
    "#Test gen_sim_data\n",
    "gen_meth_x = Gen_meth_enum(1)\n",
    "gen_meth_theta = Gen_meth_enum(1)\n",
    "sim_data = simulator.gen_sim_data(method, num_theta_data, num_x_data, gen_meth_theta, gen_meth_x)\n",
    "print(len(sim_data.theta_vals), len(sim_data.y_vals))\n",
    "\n",
    "gen_meth_x = Gen_meth_enum(2)\n",
    "gen_meth_theta = Gen_meth_enum(1)\n",
    "sim_data = simulator.gen_sim_data(method, num_theta_data, num_x_data, gen_meth_theta, gen_meth_x)\n",
    "print(len(sim_data.theta_vals), len(sim_data.y_vals))\n",
    "\n",
    "gen_meth_x = Gen_meth_enum(1)\n",
    "gen_meth_theta = Gen_meth_enum(2)\n",
    "sim_data = simulator.gen_sim_data(method, num_theta_data, num_x_data, gen_meth_theta, gen_meth_x)\n",
    "print(len(sim_data.theta_vals), len(sim_data.y_vals))\n",
    "\n",
    "gen_meth_x = Gen_meth_enum(2)\n",
    "gen_meth_theta = Gen_meth_enum(2)\n",
    "sim_data = simulator.gen_sim_data(method, num_theta_data, num_x_data, gen_meth_theta, gen_meth_x)\n",
    "print(len(sim_data.y_vals))"
   ]
  },
  {
   "cell_type": "code",
   "execution_count": 9,
   "id": "e8fe62b5",
   "metadata": {},
   "outputs": [
    {
     "name": "stdout",
     "output_type": "stream",
     "text": [
      "(20,)\n",
      "(20,)\n",
      "(400,)\n",
      "(400,)\n",
      "[ 0.94736842 -0.94736842] 0.1218836565096953\n"
     ]
    }
   ],
   "source": [
    "#Test sim_data_to_sse_sim_data\n",
    "gen_meth_x = Gen_meth_enum(1)\n",
    "gen_meth_theta = Gen_meth_enum(1)\n",
    "sim_data = simulator.gen_sim_data(method, num_theta_data, num_x_data, gen_meth_theta, gen_meth_x)\n",
    "exp_data = simulator.gen_exp_data(num_x_data, gen_meth_x)\n",
    "sse_sim_data = simulator.sim_data_to_sse_sim_data(method, sim_data, exp_data)\n",
    "print(sse_sim_data.y_vals.shape)\n",
    "\n",
    "gen_meth_x = Gen_meth_enum(2)\n",
    "gen_meth_theta = Gen_meth_enum(1)\n",
    "sim_data = simulator.gen_sim_data(method, num_theta_data, num_x_data, gen_meth_theta, gen_meth_x)\n",
    "exp_data = simulator.gen_exp_data(num_x_data, gen_meth_x)\n",
    "sse_sim_data = simulator.sim_data_to_sse_sim_data(method, sim_data, exp_data)\n",
    "print(sse_sim_data.y_vals.shape)\n",
    "\n",
    "gen_meth_x = Gen_meth_enum(1)\n",
    "gen_meth_theta = Gen_meth_enum(2)\n",
    "sim_data = simulator.gen_sim_data(method, num_theta_data, num_x_data, gen_meth_theta, gen_meth_x)\n",
    "exp_data = simulator.gen_exp_data(num_x_data, gen_meth_x)\n",
    "sse_sim_data = simulator.sim_data_to_sse_sim_data(method, sim_data, exp_data)\n",
    "print(sse_sim_data.y_vals.shape)\n",
    "\n",
    "gen_meth_x = Gen_meth_enum(2)\n",
    "gen_meth_theta = Gen_meth_enum(2)\n",
    "sim_data = simulator.gen_sim_data(method, num_theta_data, num_x_data, gen_meth_theta, gen_meth_x)\n",
    "exp_data = simulator.gen_exp_data(num_x_data, gen_meth_x)\n",
    "sse_sim_data = simulator.sim_data_to_sse_sim_data(method, sim_data, exp_data)\n",
    "print(sse_sim_data.y_vals.shape)\n",
    "print(sse_sim_data.theta_vals[np.argmin(sse_sim_data.y_vals)], np.min(sse_sim_data.y_vals))"
   ]
  },
  {
   "cell_type": "code",
   "execution_count": 10,
   "id": "43044cca",
   "metadata": {},
   "outputs": [
    {
     "name": "stdout",
     "output_type": "stream",
     "text": [
      "2000\n",
      "2000\n"
     ]
    }
   ],
   "source": [
    "#Test gen_y_data\n",
    "data = simulator.gen_sim_data(method, num_theta_data, num_x_data, gen_meth_theta, gen_meth_x)\n",
    "y_data = simulator.gen_y_data(data, noise_mean, noise_std)\n",
    "print(len(y_data))\n",
    "\n",
    "data = simulator.gen_sim_data(method, num_theta_data, num_x_data, gen_meth_theta, gen_meth_x)\n",
    "y_data = simulator.gen_y_data(data, 0, 0)\n",
    "print(len(y_data))"
   ]
  },
  {
   "cell_type": "code",
   "execution_count": 11,
   "id": "9176d91d",
   "metadata": {},
   "outputs": [
    {
     "name": "stdout",
     "output_type": "stream",
     "text": [
      "[[0.29763568 0.80990726]\n",
      " [0.77116808 0.61027011]\n",
      " [0.13763371 0.31533471]\n",
      " [0.43445948 0.11816017]\n",
      " [0.89008126 0.59448818]]\n"
     ]
    }
   ],
   "source": [
    "#Test __lhs_sampling(self, num_points, bounds, seed)\n",
    "num_points = 5\n",
    "bounds = np.array([[0,0],[1,1]])\n",
    "seed = 1\n",
    "lhs = simulator._Simulator__lhs_sampling(num_points, bounds, seed)\n",
    "print(lhs)"
   ]
  },
  {
   "cell_type": "code",
   "execution_count": 12,
   "id": "a52607b0",
   "metadata": {},
   "outputs": [
    {
     "name": "stdout",
     "output_type": "stream",
     "text": [
      "[[0.   0.  ]\n",
      " [0.   0.25]\n",
      " [0.   0.5 ]\n",
      " [0.   0.75]\n",
      " [0.   1.  ]\n",
      " [0.25 0.  ]\n",
      " [0.25 0.25]\n",
      " [0.25 0.5 ]\n",
      " [0.25 0.75]\n",
      " [0.25 1.  ]\n",
      " [0.5  0.  ]\n",
      " [0.5  0.25]\n",
      " [0.5  0.5 ]\n",
      " [0.5  0.75]\n",
      " [0.5  1.  ]\n",
      " [0.75 0.  ]\n",
      " [0.75 0.25]\n",
      " [0.75 0.5 ]\n",
      " [0.75 0.75]\n",
      " [0.75 1.  ]\n",
      " [1.   0.  ]\n",
      " [1.   0.25]\n",
      " [1.   0.5 ]\n",
      " [1.   0.75]\n",
      " [1.   1.  ]]\n"
     ]
    }
   ],
   "source": [
    "#Test _grid_sampling(self, num_points, bounds)\n",
    "num_points = 5\n",
    "bounds = np.array([[0,0],[1,1]])\n",
    "lhs = simulator._Simulator__grid_sampling(num_points, bounds)\n",
    "print(lhs)"
   ]
  },
  {
   "cell_type": "code",
   "execution_count": 13,
   "id": "1d0283d9",
   "metadata": {},
   "outputs": [
    {
     "name": "stdout",
     "output_type": "stream",
     "text": [
      "[[0.29763568 0.80990726]\n",
      " [0.77116808 0.61027011]\n",
      " [0.13763371 0.31533471]\n",
      " [0.43445948 0.11816017]\n",
      " [0.89008126 0.59448818]]\n",
      "[[0.   0.  ]\n",
      " [0.   0.25]\n",
      " [0.   0.5 ]\n",
      " [0.   0.75]\n",
      " [0.   1.  ]\n",
      " [0.25 0.  ]\n",
      " [0.25 0.25]\n",
      " [0.25 0.5 ]\n",
      " [0.25 0.75]\n",
      " [0.25 1.  ]\n",
      " [0.5  0.  ]\n",
      " [0.5  0.25]\n",
      " [0.5  0.5 ]\n",
      " [0.5  0.75]\n",
      " [0.5  1.  ]\n",
      " [0.75 0.  ]\n",
      " [0.75 0.25]\n",
      " [0.75 0.5 ]\n",
      " [0.75 0.75]\n",
      " [0.75 1.  ]\n",
      " [1.   0.  ]\n",
      " [1.   0.25]\n",
      " [1.   0.5 ]\n",
      " [1.   0.75]\n",
      " [1.   1.  ]]\n"
     ]
    }
   ],
   "source": [
    "#Test __create_param_data(self, num_points, bounds, gen_meth)\n",
    "num_points, bounds, gen_meth = 5, np.array([[0,0],[1,1]]), Gen_meth_enum(1)\n",
    "data = simulator._Simulator__create_param_data(num_points, bounds, gen_meth)\n",
    "print(data)\n",
    "num_points, bounds, gen_meth = 5, np.array([[0,0],[1,1]]), Gen_meth_enum(2)\n",
    "data = simulator._Simulator__create_param_data(num_points, bounds, gen_meth)\n",
    "print(data)"
   ]
  },
  {
   "cell_type": "code",
   "execution_count": null,
   "id": "2bd2e3cf",
   "metadata": {},
   "outputs": [],
   "source": []
  }
 ],
 "metadata": {
  "kernelspec": {
   "display_name": "Python 3 (ipykernel)",
   "language": "python",
   "name": "python3"
  },
  "language_info": {
   "codemirror_mode": {
    "name": "ipython",
    "version": 3
   },
   "file_extension": ".py",
   "mimetype": "text/x-python",
   "name": "python",
   "nbconvert_exporter": "python",
   "pygments_lexer": "ipython3",
   "version": "3.9.12"
  }
 },
 "nbformat": 4,
 "nbformat_minor": 5
}
