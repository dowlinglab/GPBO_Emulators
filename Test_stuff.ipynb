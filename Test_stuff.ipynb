{
 "cells": [
  {
   "cell_type": "code",
   "execution_count": 8,
   "id": "2e3b690e",
   "metadata": {},
   "outputs": [],
   "source": [
    "import gpytorch\n",
    "import numpy as np\n",
    "import pandas as pd\n",
    "import torch\n",
    "from datetime import datetime\n",
    "import datetime\n",
    "from itertools import combinations_with_replacement\n",
    "from itertools import combinations\n",
    "from itertools import permutations\n",
    "from scipy.stats import qmc\n",
    "\n",
    "import matplotlib as mpl\n",
    "mpl.rcParams['figure.dpi'] = 300"
   ]
  },
  {
   "cell_type": "code",
   "execution_count": 13,
   "id": "4ecf3839",
   "metadata": {},
   "outputs": [
    {
     "name": "stdout",
     "output_type": "stream",
     "text": [
      "4\n",
      "[[ 6  7  3]\n",
      " [ 3 23 12]\n",
      " [ 3 12 17]] [[ 1 -6  2]]\n",
      "[[ 1 -6  2]\n",
      " [ 3 23 12]\n",
      " [ 3 12 17]] [[6 7 3]]\n",
      "[[ 1 -6  2]\n",
      " [ 6  7  3]\n",
      " [ 3 12 17]] [[ 3 23 12]]\n",
      "[[ 1 -6  2]\n",
      " [ 6  7  3]\n",
      " [ 3 23 12]] [[ 3 12 17]]\n"
     ]
    }
   ],
   "source": [
    "from sklearn.preprocessing import MinMaxScaler\n",
    "X = np.array([[1,-6,2],\n",
    "     [6,7,3],\n",
    "     [3, 23,12],\n",
    "     [3, 12,17]])\n",
    "\n",
    "from sklearn.model_selection import LeaveOneOut\n",
    "\n",
    "y_true  = []\n",
    "y_pred = []\n",
    "\n",
    "print(loo.get_n_splits(X))\n",
    "for train_index, test_index in loo.split(X):\n",
    "    df_test = X[test_index]\n",
    "    df_train = X[train_index]\n",
    "    print(df_train, df_test)\n",
    "    \n",
    "\n",
    "# scaler =  MinMaxScaler()\n",
    "# scaler.fit(X)\n",
    "# X = scaler.transform(X)\n",
    "# X = scaler.inverse_transform(X)\n",
    "# print(X)"
   ]
  },
  {
   "cell_type": "code",
   "execution_count": 51,
   "id": "2a211af5",
   "metadata": {},
   "outputs": [
    {
     "name": "stdout",
     "output_type": "stream",
     "text": [
      "42 days, 13:46:33\n",
      "0.016117095947265625\n"
     ]
    }
   ],
   "source": [
    "# https://realpython.com/python-timer/\n",
    "import time\n",
    "start = 3678393\n",
    "res = datetime.timedelta(seconds =start)\n",
    "print(res)\n",
    "\n",
    "time_tot = 0\n",
    "x = 0\n",
    "for i in range(89900):\n",
    "    start2 = time.time()\n",
    "    x += 1+2\n",
    "    end = time.time()\n",
    "\n",
    "    time_tot+= (end - start2)\n",
    "\n",
    "\n",
    "print(time_tot)"
   ]
  },
  {
   "cell_type": "code",
   "execution_count": 26,
   "id": "f742f05c",
   "metadata": {},
   "outputs": [
    {
     "name": "stdout",
     "output_type": "stream",
     "text": [
      "[4 3 4 3]\n"
     ]
    }
   ],
   "source": [
    "A = np.array([[4,3,0,0],\n",
    "              [4,0,0,3]])\n",
    "print(A[np.nonzero(A)])"
   ]
  },
  {
   "cell_type": "code",
   "execution_count": 16,
   "id": "a5e064a0",
   "metadata": {},
   "outputs": [
    {
     "data": {
      "text/plain": [
       "True"
      ]
     },
     "execution_count": 16,
     "metadata": {},
     "output_type": "execute_result"
    }
   ],
   "source": [
    "B = np.zeros((3,3))\n",
    "B = pd.DataFrame(B)\n",
    "type(B)\n",
    "isinstance(B, pd.DataFrame)"
   ]
  },
  {
   "cell_type": "code",
   "execution_count": 11,
   "id": "9b2c4e5d",
   "metadata": {},
   "outputs": [
    {
     "name": "stdout",
     "output_type": "stream",
     "text": [
      "[[0.01037415 0.50187459]\n",
      " [0.49577329 0.13382953]\n",
      " [0.14211109 0.21855868]]\n",
      "[[0.41850818 0.24810117]\n",
      " [0.08405965 0.34549864]\n",
      " [0.16677635 0.87855909]]\n"
     ]
    }
   ],
   "source": [
    "np.random.seed(9)\n",
    "Array_1 = np.random.rand(3,2)\n",
    "Array_2 = np.random.rand(3,2)\n",
    "\n",
    "print(Array_1)\n",
    "print(Array_2)\n",
    "\n",
    "ds = gdal.Open('image.tif')\n",
    "# loop through each band\n",
    "\n",
    "path = \n",
    "\n",
    "with open(\"converted.raw\", \"wb\") as outfile:\n",
    "    for bi in range(ds.RasterCount):\n",
    "        band = ds.GetRasterBand(bi + 1)\n",
    "        # Read this band into a 2D NumPy array\n",
    "        ar = band.ReadAsArray()\n",
    "        print('Band %d has type %s'%(bi + 1, ar.dtype))   \n",
    "        np.save(outfile, ar.astype('uint16'))"
   ]
  },
  {
   "cell_type": "code",
   "execution_count": null,
   "id": "b847f32f",
   "metadata": {},
   "outputs": [],
   "source": []
  },
  {
   "cell_type": "code",
   "execution_count": null,
   "id": "dba21891",
   "metadata": {},
   "outputs": [],
   "source": []
  }
 ],
 "metadata": {
  "kernelspec": {
   "display_name": "Python 3 (ipykernel)",
   "language": "python",
   "name": "python3"
  },
  "language_info": {
   "codemirror_mode": {
    "name": "ipython",
    "version": 3
   },
   "file_extension": ".py",
   "mimetype": "text/x-python",
   "name": "python",
   "nbconvert_exporter": "python",
   "pygments_lexer": "ipython3",
   "version": "3.9.12"
  }
 },
 "nbformat": 4,
 "nbformat_minor": 5
}
