{
 "cells": [
  {
   "cell_type": "code",
   "execution_count": 1,
   "id": "2e3b690e",
   "metadata": {},
   "outputs": [
    {
     "name": "stderr",
     "output_type": "stream",
     "text": [
      "/afs/crc.nd.edu/user/m/mcarlozo/.conda/envs/Toy_Problem_env/lib/python3.9/site-packages/tqdm/auto.py:22: TqdmWarning: IProgress not found. Please update jupyter and ipywidgets. See https://ipywidgets.readthedocs.io/en/stable/user_install.html\n",
      "  from .autonotebook import tqdm as notebook_tqdm\n"
     ]
    }
   ],
   "source": [
    "import gpytorch\n",
    "import numpy as np\n",
    "import pandas as pd\n",
    "import torch\n",
    "from datetime import datetime\n",
    "from itertools import combinations_with_replacement\n",
    "from itertools import combinations\n",
    "from itertools import permutations\n",
    "from scipy.stats import qmc\n",
    "\n",
    "from CS2_bo_functions import bo_iter_w_runs\n",
    "from CS2_bo_functions import find_train_doc_path\n",
    "from CS2_bo_functions import set_ep\n",
    "\n",
    "import matplotlib as mpl\n",
    "mpl.rcParams['figure.dpi'] = 300"
   ]
  },
  {
   "cell_type": "code",
   "execution_count": 2,
   "id": "d8581b75",
   "metadata": {},
   "outputs": [
    {
     "name": "stdout",
     "output_type": "stream",
     "text": [
      "[(-1.0, -1.0), (-1.0, 0.0), (-1.0, 1.0), (0.0, 0.0), (0.0, 1.0), (1.0, 1.0)]\n",
      "6\n"
     ]
    }
   ],
   "source": [
    "Theta = np.linspace(-1,1,3)\n",
    "Theta2 = np.linspace(-1,1,3)\n",
    "l = list(permutations(Theta,2))\n",
    "l = list((combinations_with_replacement(Theta, 2)))\n",
    "# l = list((combinations(Theta, 2)))\n",
    "print(l)\n",
    "print(len(l))"
   ]
  },
  {
   "cell_type": "code",
   "execution_count": 3,
   "id": "7dfbe90c",
   "metadata": {},
   "outputs": [
    {
     "name": "stdout",
     "output_type": "stream",
     "text": [
      "(2, 20, 20)\n"
     ]
    }
   ],
   "source": [
    "p=20\n",
    "Theta1 =  np.linspace(-2,2,p) #1x10\n",
    "Theta2 =  np.linspace(-2,2,p) #1x10\n",
    "theta_mesh = np.array(np.meshgrid(Theta1, Theta2)) #2 Uniform 5x5 arrays \n",
    "print(theta_mesh.shape)"
   ]
  },
  {
   "cell_type": "raw",
   "id": "c0c788a9",
   "metadata": {},
   "source": [
    "%%time\n",
    "import itertools\n",
    "Theta = np.linspace(0,1,10)\n",
    "df = pd.DataFrame(list(itertools.product(Theta, repeat=8)))\n",
    "df2 = df.drop_duplicates()\n",
    "theta_list = df2.to_numpy()"
   ]
  },
  {
   "cell_type": "raw",
   "id": "abb9a09f",
   "metadata": {},
   "source": [
    "# print(theta_list)\n",
    "print(len(theta_list)) #10^8 Combinations = len(Theta)^Dimensions Combinations"
   ]
  },
  {
   "cell_type": "raw",
   "id": "413e45f7",
   "metadata": {},
   "source": [
    "print(theta_list.shape)"
   ]
  },
  {
   "cell_type": "raw",
   "id": "1d08b744",
   "metadata": {},
   "source": [
    "theta_list2 = theta_list.reshape((10**4,-1,8))"
   ]
  },
  {
   "cell_type": "raw",
   "id": "a9224297",
   "metadata": {},
   "source": [
    "theta_list2.shape"
   ]
  },
  {
   "cell_type": "code",
   "execution_count": 4,
   "id": "557b099d",
   "metadata": {},
   "outputs": [
    {
     "name": "stdout",
     "output_type": "stream",
     "text": [
      "CPU times: user 2.28 ms, sys: 62 µs, total: 2.34 ms\n",
      "Wall time: 152 ms\n"
     ]
    }
   ],
   "source": [
    "%%time\n",
    "import itertools\n",
    "Theta = np.linspace(0,1,10)\n",
    "df = pd.DataFrame(list(itertools.product(Theta, repeat=2)))\n",
    "df2 = df.drop_duplicates()\n",
    "theta_list = df2.to_numpy()"
   ]
  },
  {
   "cell_type": "code",
   "execution_count": 5,
   "id": "452e2e75",
   "metadata": {},
   "outputs": [
    {
     "name": "stdout",
     "output_type": "stream",
     "text": [
      "(100, 2)\n"
     ]
    }
   ],
   "source": [
    "# print(theta_list)\n",
    "print(theta_list.shape)"
   ]
  },
  {
   "cell_type": "code",
   "execution_count": 6,
   "id": "da424315",
   "metadata": {},
   "outputs": [
    {
     "data": {
      "text/plain": [
       "(2, 10, 10)"
      ]
     },
     "execution_count": 6,
     "metadata": {},
     "output_type": "execute_result"
    }
   ],
   "source": [
    "theta_list2 = theta_list.reshape((10,-1,2)).T\n",
    "theta_list2.shape"
   ]
  },
  {
   "cell_type": "code",
   "execution_count": 7,
   "id": "ef1a5126",
   "metadata": {},
   "outputs": [
    {
     "data": {
      "text/plain": [
       "array([[0.        , 0.11111111, 0.22222222, 0.33333333, 0.44444444,\n",
       "        0.55555556, 0.66666667, 0.77777778, 0.88888889, 1.        ],\n",
       "       [0.        , 0.11111111, 0.22222222, 0.33333333, 0.44444444,\n",
       "        0.55555556, 0.66666667, 0.77777778, 0.88888889, 1.        ],\n",
       "       [0.        , 0.11111111, 0.22222222, 0.33333333, 0.44444444,\n",
       "        0.55555556, 0.66666667, 0.77777778, 0.88888889, 1.        ],\n",
       "       [0.        , 0.11111111, 0.22222222, 0.33333333, 0.44444444,\n",
       "        0.55555556, 0.66666667, 0.77777778, 0.88888889, 1.        ],\n",
       "       [0.        , 0.11111111, 0.22222222, 0.33333333, 0.44444444,\n",
       "        0.55555556, 0.66666667, 0.77777778, 0.88888889, 1.        ],\n",
       "       [0.        , 0.11111111, 0.22222222, 0.33333333, 0.44444444,\n",
       "        0.55555556, 0.66666667, 0.77777778, 0.88888889, 1.        ],\n",
       "       [0.        , 0.11111111, 0.22222222, 0.33333333, 0.44444444,\n",
       "        0.55555556, 0.66666667, 0.77777778, 0.88888889, 1.        ],\n",
       "       [0.        , 0.11111111, 0.22222222, 0.33333333, 0.44444444,\n",
       "        0.55555556, 0.66666667, 0.77777778, 0.88888889, 1.        ],\n",
       "       [0.        , 0.11111111, 0.22222222, 0.33333333, 0.44444444,\n",
       "        0.55555556, 0.66666667, 0.77777778, 0.88888889, 1.        ],\n",
       "       [0.        , 0.11111111, 0.22222222, 0.33333333, 0.44444444,\n",
       "        0.55555556, 0.66666667, 0.77777778, 0.88888889, 1.        ]])"
      ]
     },
     "execution_count": 7,
     "metadata": {},
     "output_type": "execute_result"
    }
   ],
   "source": [
    "theta_list2[0]"
   ]
  },
  {
   "cell_type": "code",
   "execution_count": 8,
   "id": "4ada3d38",
   "metadata": {},
   "outputs": [
    {
     "data": {
      "text/plain": [
       "array([[0, 1],\n",
       "       [0, 1],\n",
       "       [0, 1],\n",
       "       [0, 1],\n",
       "       [0, 1],\n",
       "       [0, 1],\n",
       "       [0, 1],\n",
       "       [0, 1]])"
      ]
     },
     "execution_count": 8,
     "metadata": {},
     "output_type": "execute_result"
    }
   ],
   "source": [
    "x = np.array([0,1])\n",
    "J = (np.repeat(x,8))\n",
    "J.reshape(-1,8).T"
   ]
  },
  {
   "cell_type": "code",
   "execution_count": 35,
   "id": "9f0a324b",
   "metadata": {},
   "outputs": [
    {
     "name": "stdout",
     "output_type": "stream",
     "text": [
      "[0. 0. 0. 0. 0. 0. 0. 0.]\n",
      "[0 1 2 3 4 5 6 7]\n",
      "7\n",
      "3\n"
     ]
    }
   ],
   "source": [
    "# sse = np.array([[1,2,3,4,5],[1,2,3,4,5],[1,2,3,4,5],[1,2,3,4,5]])\n",
    "sse = np.zeros((8))\n",
    "print(sse)\n",
    "argmin = np.array(np.where(np.isclose(sse, np.amin(sse),atol=np.amin(sse)*1e-6)==True))[0]\n",
    "print(argmin)\n",
    "rand_ind = np.random.randint(np.max(argmin))\n",
    "print(np.max(argmin))\n",
    "print(rand_ind)"
   ]
  },
  {
   "cell_type": "code",
   "execution_count": 32,
   "id": "36f65253",
   "metadata": {},
   "outputs": [
    {
     "name": "stdout",
     "output_type": "stream",
     "text": [
      "[3]\n"
     ]
    }
   ],
   "source": [
    "argmin2 = argmin[:,rand_ind]\n",
    "print(argmin2)"
   ]
  },
  {
   "cell_type": "code",
   "execution_count": 24,
   "id": "f2124102",
   "metadata": {},
   "outputs": [
    {
     "name": "stdout",
     "output_type": "stream",
     "text": [
      "[0]\n"
     ]
    }
   ],
   "source": [
    "if len(argmin[0]) > 1:\n",
    "#         rand_ind = np.random.randint(np.max(argmin[0]))\n",
    "#         argmin = np.array([[argmin[0,rand_ind]],[argmin[1,rand_ind]]])\n",
    "    #argmin.T[0].T\n",
    "    argmax = np.array(argmin2)\n",
    "print(argmax.T)"
   ]
  },
  {
   "cell_type": "code",
   "execution_count": 26,
   "id": "887365ab",
   "metadata": {},
   "outputs": [
    {
     "name": "stdout",
     "output_type": "stream",
     "text": [
      "[0]\n",
      "[1]\n"
     ]
    }
   ],
   "source": [
    "argmax_best = np.zeros(len(argmin[:,0]))\n",
    "\n",
    "for i in range(len(argmin[0])):\n",
    "    #Create the corresponding argmax point that maps to theta 1 and theta 2 values\n",
    "    point = np.array(argmin[:,i])\n",
    "    print(point)\n",
    "    \n",
    "    distance_sq = 1\n",
    "    max_distance_sq = 5\n",
    "    \n",
    "\n",
    "    #Set distance to max distance if it is applicable. At the end of the loop, argmax will be the point with the greatest distance.\n",
    "    if distance_sq > max_distance_sq:\n",
    "        max_distance_sq = distance_sq\n",
    "        argmax_best = point\n",
    "# print(argmax_best)"
   ]
  },
  {
   "cell_type": "code",
   "execution_count": 13,
   "id": "5e55420a",
   "metadata": {},
   "outputs": [],
   "source": [
    "# l_bounds =  [-2, -2, -10 ,-2]\n",
    "# u_bounds =  [0, 0 , 0, 2 ]\n",
    "# l_bounds =  [-2, -2]\n",
    "# u_bounds =  [2, 2]\n",
    "# bounds = np.array([[-2,-2],\n",
    "#                    [ 2, 2]])\n",
    "d = 2\n",
    "# d = 2\n",
    "seed = 9\n",
    "points = 5\n",
    "def LHS_Design(num_points, dimensions, seed = None, bounds = None):\n",
    "    \"\"\"\n",
    "    Design LHS Samples\n",
    "    \n",
    "    Parameters\n",
    "    ----------\n",
    "        num_points: int, number of points in LHS, should be greater than # of dimensions\n",
    "        dimensions: int, number of parameters to be regressed\n",
    "        bounds (optional): ndarray, array containing upper and lower bounds of elements in LHS sample. Defaults of 0 and 1\n",
    "        seed (optional): int, seed of random generation\n",
    "    Returns\n",
    "    -------\n",
    "        LHS: ndarray, Array of LHS sampling points\n",
    "    \"\"\"\n",
    "    sampler = qmc.LatinHypercube(d=dimensions, seed = seed)\n",
    "    LHS = sampler.random(n=num_points)\n",
    "    \n",
    "    if bounds is not None:\n",
    "        LHS = qmc.scale(LHS, bounds[0], bounds[1])\n",
    "\n",
    "    return LHS\n",
    "\n",
    "LHS = LHS_Design(points, d, seed)"
   ]
  },
  {
   "cell_type": "code",
   "execution_count": 14,
   "id": "8d5a0a29",
   "metadata": {},
   "outputs": [
    {
     "name": "stdout",
     "output_type": "stream",
     "text": [
      "[[ 1  2  2]\n",
      " [ 3  4  3]\n",
      " [ 5  6  5]\n",
      " [ 7  8  7]\n",
      " [ 9 10  9]]\n"
     ]
    }
   ],
   "source": [
    "\n",
    "LHS = np.array([[1,2,2],\n",
    "                [3,4,3],\n",
    "                [5,6,5],\n",
    "                [7,8,7],\n",
    "                [9,10,9]])\n",
    "print(LHS)\n",
    "# print(LHS.reshape(3,-1))"
   ]
  },
  {
   "cell_type": "code",
   "execution_count": 15,
   "id": "65421120",
   "metadata": {},
   "outputs": [
    {
     "name": "stdout",
     "output_type": "stream",
     "text": [
      "[[0. 1.]\n",
      " [0. 2.]\n",
      " [1. 2.]]\n"
     ]
    }
   ],
   "source": [
    "a = np.linspace(0,2,3)\n",
    "l = list(combinations(a, 2))\n",
    "l = np.array(l)\n",
    "print(l)"
   ]
  },
  {
   "cell_type": "code",
   "execution_count": 17,
   "id": "04dbc0a9",
   "metadata": {},
   "outputs": [],
   "source": [
    "# LHS_reshape = LHS.reshape(3,-1)\n",
    "LHS_reshape = LHS\n",
    "J = np.meshgrid(LHS_reshape[int(l[0,0])],LHS_reshape[int(l[0,1])])"
   ]
  },
  {
   "cell_type": "code",
   "execution_count": 18,
   "id": "e7e3fc42",
   "metadata": {},
   "outputs": [
    {
     "name": "stdout",
     "output_type": "stream",
     "text": [
      "[array([[1, 2, 2],\n",
      "       [1, 2, 2],\n",
      "       [1, 2, 2]]), array([[3, 3, 3],\n",
      "       [4, 4, 4],\n",
      "       [3, 3, 3]])]\n"
     ]
    }
   ],
   "source": [
    "print(J)"
   ]
  },
  {
   "cell_type": "code",
   "execution_count": null,
   "id": "192a4779",
   "metadata": {},
   "outputs": [],
   "source": [
    "x, y = J\n",
    "Z = x + y"
   ]
  },
  {
   "cell_type": "code",
   "execution_count": null,
   "id": "ecabd212",
   "metadata": {},
   "outputs": [],
   "source": [
    "print(Z)"
   ]
  },
  {
   "cell_type": "code",
   "execution_count": null,
   "id": "8e8d3705",
   "metadata": {},
   "outputs": [],
   "source": [
    "z = []\n",
    "for i in range(len(l)):\n",
    "    x, y = np.meshgrid(LHS_reshape[int(l[i,0])],LHS_reshape[int(l[i,1])])\n",
    "    z.append(x+y)\n",
    "z = np.array(z)\n",
    "print(z.shape)"
   ]
  },
  {
   "cell_type": "code",
   "execution_count": 21,
   "id": "37784486",
   "metadata": {},
   "outputs": [
    {
     "name": "stdout",
     "output_type": "stream",
     "text": [
      "(2, 3)\n",
      "[[1 2 3]\n",
      " [1 2 3]]\n"
     ]
    }
   ],
   "source": [
    "H = np.array([[1,2,3],[1,2,3]])\n",
    "print(H.shape)\n",
    "point = np.array([H[0],H[1]])\n",
    "print(point)"
   ]
  },
  {
   "cell_type": "code",
   "execution_count": null,
   "id": "0b25974e",
   "metadata": {},
   "outputs": [],
   "source": []
  }
 ],
 "metadata": {
  "kernelspec": {
   "display_name": "Python 3 (ipykernel)",
   "language": "python",
   "name": "python3"
  },
  "language_info": {
   "codemirror_mode": {
    "name": "ipython",
    "version": 3
   },
   "file_extension": ".py",
   "mimetype": "text/x-python",
   "name": "python",
   "nbconvert_exporter": "python",
   "pygments_lexer": "ipython3",
   "version": "3.9.12"
  }
 },
 "nbformat": 4,
 "nbformat_minor": 5
}
