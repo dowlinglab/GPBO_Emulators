{
 "cells": [
  {
   "cell_type": "code",
   "execution_count": 1,
   "id": "2e3b690e",
   "metadata": {},
   "outputs": [
    {
     "name": "stderr",
     "output_type": "stream",
     "text": [
      "/afs/crc.nd.edu/user/m/mcarlozo/.conda/envs/Toy_Problem_env/lib/python3.9/site-packages/tqdm/auto.py:22: TqdmWarning: IProgress not found. Please update jupyter and ipywidgets. See https://ipywidgets.readthedocs.io/en/stable/user_install.html\n",
      "  from .autonotebook import tqdm as notebook_tqdm\n"
     ]
    }
   ],
   "source": [
    "import gpytorch\n",
    "import numpy as np\n",
    "import pandas as pd\n",
    "import torch\n",
    "from datetime import datetime\n",
    "import datetime\n",
    "from itertools import combinations_with_replacement\n",
    "from itertools import combinations\n",
    "from itertools import permutations\n",
    "from scipy.stats import qmc\n",
    "\n",
    "import bo_methods_lib\n",
    "from bo_methods_lib.bo_functions_generic import eval_GP_sparse_grid, LHS_Design, normalize_bounds, gen_theta_set, find_train_doc_path, test_train_split, clean_1D_arrays, norm_unnorm, calc_ei_basic, calc_ei_emulator\n",
    "from bo_methods_lib.normalize import normalize_p_data, normalize_x, normalize_p_true, normalize_p_bounds\n",
    "from bo_methods_lib.CS2_create_data import *\n",
    "from bo_methods_lib.CS2_bo_functions_multi_dim import argmax_multiple\n",
    "# from bo_methods_lib.CS1_create_data import *\n",
    "# from bo_methods_lib.test_CS1_create_data import *\n",
    "import itertools\n",
    "from itertools import combinations_with_replacement\n",
    "from itertools import combinations\n",
    "from itertools import permutations\n",
    "from sklearn.preprocessing import MinMaxScaler\n",
    "import random\n",
    "\n",
    "# import matplotlib as mpl\n",
    "# mpl.rcParams['figure.dpi'] = 300"
   ]
  },
  {
   "cell_type": "code",
   "execution_count": null,
   "id": "b53f564a",
   "metadata": {},
   "outputs": [],
   "source": [
    "#Meshgrid to combinations\n",
    "p=3\n",
    "x_space = gen_theta_set(LHS = False, n_points = p, dimensions = 2, bounds = bounds_x)\n",
    "print(x_space.reshape(p,p,-1).T)\n",
    "\n",
    "X1 =  np.linspace(-1.5,1,p) #1x10\n",
    "X2 =  np.linspace(-0.5,2,p) #1x10\n",
    "X_mesh = np.array(np.meshgrid(X1, X2)) #2 Uniform 5x5 arrays\n",
    "# print(X_mesh)\n",
    "\n",
    "Test1 = np.zeros((X_mesh.shape[1:3]))\n",
    "for i in range(X_mesh.shape[1]):\n",
    "    #Loop over X2\n",
    "    for j in range(X_mesh.shape[2]):\n",
    "        Test1[i,j] = X_mesh[0,i,j] + X_mesh[1,i,j]\n",
    "\n",
    "print(Test1)\n",
    "\n",
    "Test2 = []\n",
    "for k in range(len(x_space)):\n",
    "    Test2.append(x_space[k,0] + x_space[k,1])\n",
    "Test2 = np.array(Test2).reshape((p, p))\n",
    "\n",
    "print(Test2)"
   ]
  },
  {
   "cell_type": "code",
   "execution_count": 8,
   "id": "459b7278",
   "metadata": {},
   "outputs": [
    {
     "name": "stdout",
     "output_type": "stream",
     "text": [
      "5.077154966394979e-05\n"
     ]
    }
   ],
   "source": [
    "EI_max = np.load(\"2022/10/21/13-18/CSV_Data/Convergence_Figs/GP_Emulator/Approx/TP_100/obj/ep_0.8/len_scl_varies/Sep_Fact_1.0/Total_Runs_15/Max_EI_Conv.npy\")\n",
    "EI_max = np.load(\"2022/10/21/13-18/CSV_Data/Convergence_Figs/GP_Error_Emulator/TP_20/obj/ep_0.3/len_scl_varies/Sep_Fact_1.0/Total_Runs_15/Max_EI_Conv.npy\")\n",
    "print(np.max(EI_max[:,99]))"
   ]
  },
  {
   "cell_type": "code",
   "execution_count": 30,
   "id": "ad50c497",
   "metadata": {},
   "outputs": [
    {
     "name": "stdout",
     "output_type": "stream",
     "text": [
      "(2,)\n",
      "(2,)\n",
      "(5, 1)\n",
      "(400, 2)\n",
      "(100, 3)\n",
      "(0, 3)\n"
     ]
    }
   ],
   "source": [
    "CS = 1\n",
    "\n",
    "Constants = np.array([[-200,-100,-170,15],\n",
    "                      [-1,-1,-6.5,0.7],\n",
    "                      [0,0,11,0.6],\n",
    "                      [-10,-10,-6.5,0.7],\n",
    "                      [1,0,-0.5,-1],\n",
    "                      [0,0.5,1.5,1]])\n",
    "if CS == 2.2:\n",
    "    skip_param_types = 1 #This is what changes for subpoint\n",
    "    Theta_True = Constants[skip_param_types:skip_param_types+2].flatten()\n",
    "    param_dict = {0 : 'a_1', 1 : 'a_2', 2 : 'a_3', 3 : 'a_4',\n",
    "                  4 : 'b_1', 5 : 'b_2', 6 : 'b_3', 7 : 'b_4'}\n",
    "    exp_d = 2\n",
    "    n = 15 #Number of experimental data points to use\n",
    "    bounds_p = np.array([[-2, -2, -10, -2, -2, -2,  5, -2],\n",
    "                       [ 2,  2,   0,  2,  2,  2, 15,  2]])\n",
    "    bounds_x = np.array([[-1.5,-0.5],[1,2]])\n",
    "    LHS = True\n",
    "\n",
    "else:\n",
    "    Constants = Theta_True = np.array([1,-1])\n",
    "    skip_param_types = 0\n",
    "    param_dict = {0 : '\\\\theta_1', 1 : '\\\\theta_2'}\n",
    "    exp_d = 1\n",
    "    bounds_x = np.array([[-2],[2]])\n",
    "    bounds_p = np.array([[-2,-2],\n",
    "                     [2 , 2]])\n",
    "    LHS = False\n",
    "    n = 5\n",
    "\n",
    "print(Constants.shape)\n",
    "print(Theta_True.shape)\n",
    "\n",
    "p = 20\n",
    "d = len(Theta_True)\n",
    "\n",
    "obj = np.array([\"obj, LN_obj\"])\n",
    "emulator = np.array([True, False])\n",
    "\n",
    "# if emulator == True:\n",
    "#     t = 20*n\n",
    "# else:\n",
    "#     t = 20\n",
    "\n",
    "# #Pull Experimental data from CSV\n",
    "exp_data_doc = 'Input_CSVs/Exp_Data/d='+str(exp_d)+'/n='+str(n)+'.csv'\n",
    "exp_data = np.array(pd.read_csv(exp_data_doc, header=0,sep=\",\"))\n",
    "Xexp = exp_data[:,1:exp_d+1]\n",
    "Yexp = exp_data[:,-1]\n",
    "Xexp = clean_1D_arrays(Xexp)\n",
    "\n",
    "m = Xexp.shape[1]\n",
    "print(Xexp.shape)\n",
    "\n",
    "theta_mesh = gen_theta_set(LHS = LHS, n_points = p, dimensions = d, bounds = bounds_p)\n",
    "print(theta_mesh.shape)\n",
    "theta_set = theta_mesh\n",
    "\n",
    "# all_data_doc = find_train_doc_path(emulator, obj, d, t)\n",
    "# all_data = np.array(pd.read_csv(all_data_doc, header=0,sep=\",\")) \n",
    "# print(all_data.shape)\n",
    "\n",
    "# train_data, test_data = test_train_split(all_data, sep_fact = 1.0, shuffle_seed=9)\n",
    "\n",
    "# if CS == 1 and emulator == False:\n",
    "#     train_p, test_p = train_data[:,1:-2], test_data[:,1:-2]\n",
    "# else:\n",
    "#     train_p, test_p = train_data[:,1:-1], test_data[:,1:-1]\n",
    "# print(train_p)\n",
    "print(train_p.shape)\n",
    "print(test_p.shape)"
   ]
  },
  {
   "cell_type": "code",
   "execution_count": 48,
   "id": "1f334fc6",
   "metadata": {},
   "outputs": [
    {
     "name": "stdout",
     "output_type": "stream",
     "text": [
      "          Theta 1     Theta 2        Xexp   Obj Value\n",
      "count  100.000000  100.000000  100.000000  100.000000\n",
      "mean    -0.002491   -0.024375    0.000000   -0.048750\n",
      "std      1.162189    1.156825    1.421338    6.166969\n",
      "min     -1.976573   -1.955507   -2.000000  -19.180768\n",
      "25%     -1.005618   -0.994930   -1.000000   -2.116313\n",
      "50%      0.055788   -0.057137    0.000000    0.000000\n",
      "75%      0.987064    0.944770    1.000000    1.583727\n",
      "max      1.815352    1.987549    2.000000   18.672163\n",
      "         Theta 1    Theta 2   Obj Value\n",
      "count  20.000000  20.000000   20.000000\n",
      "mean   -0.002491  -0.024375  100.932282\n",
      "std     1.186404   1.180928   91.766412\n",
      "min    -1.976573  -1.955507    2.822507\n",
      "25%    -1.005618  -0.994930   19.294443\n",
      "50%     0.055788  -0.057137   84.574353\n",
      "75%     0.987064   0.944770  151.704033\n",
      "max     1.815352   1.987549  305.491371\n",
      "         Theta 1    Theta 2  Obj Value\n",
      "count  20.000000  20.000000  20.000000\n",
      "mean   -0.002491  -0.024375   3.962640\n",
      "std     1.186404   1.180928   1.402007\n",
      "min    -1.976573  -1.955507   1.037626\n",
      "25%    -1.005618  -0.994930   2.914974\n",
      "50%     0.055788  -0.057137   4.436465\n",
      "75%     0.987064   0.944770   5.017316\n",
      "max     1.815352   1.987549   5.721922\n"
     ]
    }
   ],
   "source": [
    "DataFrame.to_csv("
   ]
  },
  {
   "cell_type": "code",
   "execution_count": 2,
   "id": "f38fcf4c",
   "metadata": {},
   "outputs": [
    {
     "name": "stdout",
     "output_type": "stream",
     "text": [
      "[3]\n"
     ]
    }
   ],
   "source": [
    "argmax= np.array([0,1,2,3])\n",
    "train_p = np.array([[-1.5, -1.5], [-1.6, -1.6], [-1.7, -1.7], [-1.8, -1.8]])\n",
    "theta_set = np.array([[1.5, 1.5], [1.6, 1.6], [1.7, 1.7], [1.8, 1.8]])\n",
    "print(argmax_multiple(argmax, train_p, theta_set))"
   ]
  },
  {
   "cell_type": "code",
   "execution_count": null,
   "id": "c5228515",
   "metadata": {},
   "outputs": [],
   "source": [
    "#Calculating actual SSE Values\n",
    "norm = True\n",
    "bounds_x_scl, scaler_x = normalize_x(bounds_x, None, norm, scaler = None)\n",
    "bounds_p_scl, scaler_theta = normalize_p_bounds(bounds_p, norm)\n",
    "Xexp_scl = normalize_x(Xexp, None, norm, scaler = scaler_x)[0]\n",
    "print(Xexp_scl)\n",
    "Xexxp = Xexp_scl[0]\n",
    "print(Xexp[0])\n",
    "print(normalize_x(clean_1D_arrays(Xexxp, param_clean = True), None, False, scaler_x))\n",
    "\n",
    "Guess_0 = np.array([0.61032438,0.43428296,0.72599213,0.66055616,0.52820981,0.95271155,0.94534902,0.87020441])\n",
    "Guess_0 = normalize_p_true(Guess_0, scaler_theta, norm = False)\n",
    "Guess_1 = np.array([0,1,0.370735521, 9.23236422E-04,0.166088842, 0.169900862,1,0.024381367])\n",
    "Guess_1 = normalize_p_true(Guess_1, scaler_theta, norm = False)\n",
    "Guess_2 = Theta_True\n",
    "\n",
    "\n",
    "\n",
    "SSE_guess_0 = create_sse_data(Guess_0, Xexp, Yexp, Constants, obj = \"obj\", skip_param_types = 1)\n",
    "# GP_guess_0 = 1236476096410.422\n",
    "GP_guess_0 = 74323.09891172957\n",
    "SSE_guess_1 = create_sse_data(Guess_1, Xexp, Yexp, Constants, obj = \"obj\", skip_param_types = 1)\n",
    "GP_guess_1 =-945327999181.6357\n",
    "SSE_guess_2 = create_sse_data(Guess_2, Xexp, Yexp, Constants, obj = \"obj\", skip_param_types = 1)\n",
    "print(Guess_0, Guess_1)\n",
    "print(\"True Params \\n\", Theta_True)\n",
    "print(\"True SSE \\n\", float(SSE_guess_2))\n",
    "print(\"Guess 1 \\n\", np.round(Guess_0,3))\n",
    "print(\"True SSE Guess 1 \\n\", float(SSE_guess_0), \"\\n GP Guess 1 \\n\", GP_guess_0, \"\\n difference %\", abs((GP_guess_0 - float(SSE_guess_0))/float(SSE_guess_0)))\n",
    "# print(\"Guess 2 \\n\", np.round(Guess_1,3))\n",
    "# print(\"True SSE Guess 2 \\n\", float(SSE_guess_1), \"\\n GP Guess 2 \\n\", GP_guess_1, \"\\n difference %\", abs((GP_guess_1 - float(SSE_guess_1))/float(SSE_guess_1)))\n",
    "# print(SSE_guess_2, GP_guess_2)"
   ]
  },
  {
   "cell_type": "code",
   "execution_count": null,
   "id": "2a211af5",
   "metadata": {},
   "outputs": [],
   "source": [
    "# https://realpython.com/python-timer/\n",
    "import time\n",
    "start = 3678393\n",
    "res = datetime.timedelta(seconds =start)\n",
    "print(res)\n",
    "\n",
    "time_tot = 0\n",
    "x = 0\n",
    "for i in range(89900):\n",
    "    start2 = time.time()\n",
    "    x += 1+2\n",
    "    end = time.time()\n",
    "\n",
    "    time_tot+= (end - start2)\n",
    "\n",
    "\n",
    "print(time_tot)"
   ]
  }
 ],
 "metadata": {
  "kernelspec": {
   "display_name": "Python 3 (ipykernel)",
   "language": "python",
   "name": "python3"
  },
  "language_info": {
   "codemirror_mode": {
    "name": "ipython",
    "version": 3
   },
   "file_extension": ".py",
   "mimetype": "text/x-python",
   "name": "python",
   "nbconvert_exporter": "python",
   "pygments_lexer": "ipython3",
   "version": "3.9.12"
  }
 },
 "nbformat": 4,
 "nbformat_minor": 5
}
