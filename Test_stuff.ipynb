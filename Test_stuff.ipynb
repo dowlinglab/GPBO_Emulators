{
 "cells": [
  {
   "cell_type": "code",
   "execution_count": 1,
   "id": "2e3b690e",
   "metadata": {},
   "outputs": [
    {
     "name": "stderr",
     "output_type": "stream",
     "text": [
      "/afs/crc.nd.edu/user/m/mcarlozo/.conda/envs/Toy_Problem_env/lib/python3.9/site-packages/tqdm/auto.py:22: TqdmWarning: IProgress not found. Please update jupyter and ipywidgets. See https://ipywidgets.readthedocs.io/en/stable/user_install.html\n",
      "  from .autonotebook import tqdm as notebook_tqdm\n"
     ]
    }
   ],
   "source": [
    "import gpytorch\n",
    "import numpy as np\n",
    "import pandas as pd\n",
    "import torch\n",
    "from datetime import datetime\n",
    "from itertools import combinations_with_replacement\n",
    "from itertools import permutations\n",
    "\n",
    "from CS2_bo_functions import bo_iter_w_runs\n",
    "from CS2_bo_functions import find_train_doc_path\n",
    "from CS2_bo_functions import set_ep\n",
    "\n",
    "import matplotlib as mpl\n",
    "mpl.rcParams['figure.dpi'] = 300"
   ]
  },
  {
   "cell_type": "code",
   "execution_count": 2,
   "id": "d8581b75",
   "metadata": {},
   "outputs": [
    {
     "name": "stdout",
     "output_type": "stream",
     "text": [
      "[(-1.0, -1.0), (-1.0, 0.0), (-1.0, 1.0), (0.0, 0.0), (0.0, 1.0), (1.0, 1.0)]\n",
      "6\n"
     ]
    }
   ],
   "source": [
    "Theta = np.linspace(-1,1,3)\n",
    "Theta2 = np.linspace(-1,1,3)\n",
    "l = list(permutations(Theta,2))\n",
    "l = list((combinations_with_replacement(Theta, 2)))\n",
    "# l = list((combinations(Theta, 2)))\n",
    "print(l)\n",
    "print(len(l))"
   ]
  },
  {
   "cell_type": "code",
   "execution_count": 48,
   "id": "7dfbe90c",
   "metadata": {},
   "outputs": [
    {
     "name": "stdout",
     "output_type": "stream",
     "text": [
      "(2, 20, 20)\n"
     ]
    }
   ],
   "source": [
    "p=20\n",
    "Theta1 =  np.linspace(-2,2,p) #1x10\n",
    "Theta2 =  np.linspace(-2,2,p) #1x10\n",
    "theta_mesh = np.array(np.meshgrid(Theta1, Theta2)) #2 Uniform 5x5 arrays \n",
    "print(theta_mesh.shape)"
   ]
  },
  {
   "cell_type": "code",
   "execution_count": 3,
   "id": "2441bf1e",
   "metadata": {},
   "outputs": [
    {
     "name": "stdout",
     "output_type": "stream",
     "text": [
      "CPU times: user 4min 2s, sys: 39.8 s, total: 4min 42s\n",
      "Wall time: 4min 43s\n"
     ]
    }
   ],
   "source": [
    "%%time\n",
    "import itertools\n",
    "Theta = np.linspace(0,1,10)\n",
    "df = pd.DataFrame(list(itertools.product(Theta, repeat=8)))\n",
    "df2 = df.drop_duplicates()\n",
    "theta_list = df2.to_numpy()"
   ]
  },
  {
   "cell_type": "code",
   "execution_count": 4,
   "id": "c19dcbf9",
   "metadata": {},
   "outputs": [
    {
     "name": "stdout",
     "output_type": "stream",
     "text": [
      "100000000\n"
     ]
    }
   ],
   "source": [
    "# print(theta_list)\n",
    "print(len(theta_list)) #10^8 Combinations = len(Theta)^Dimensions Combinations"
   ]
  },
  {
   "cell_type": "code",
   "execution_count": 5,
   "id": "de9371ee",
   "metadata": {},
   "outputs": [
    {
     "name": "stdout",
     "output_type": "stream",
     "text": [
      "(100000000, 8)\n"
     ]
    }
   ],
   "source": [
    "print(theta_list.shape)"
   ]
  },
  {
   "cell_type": "code",
   "execution_count": 23,
   "id": "be7dfce7",
   "metadata": {},
   "outputs": [],
   "source": [
    "theta_list2 = theta_list.reshape((10**4,-1,8))"
   ]
  },
  {
   "cell_type": "code",
   "execution_count": 24,
   "id": "6ff438a8",
   "metadata": {},
   "outputs": [
    {
     "data": {
      "text/plain": [
       "(10000, 10000, 8)"
      ]
     },
     "execution_count": 24,
     "metadata": {},
     "output_type": "execute_result"
    }
   ],
   "source": [
    "theta_list2.shape"
   ]
  },
  {
   "cell_type": "code",
   "execution_count": 25,
   "id": "557b099d",
   "metadata": {},
   "outputs": [
    {
     "name": "stdout",
     "output_type": "stream",
     "text": [
      "CPU times: user 932 µs, sys: 45.4 ms, total: 46.4 ms\n",
      "Wall time: 46.1 ms\n"
     ]
    }
   ],
   "source": [
    "%%time\n",
    "import itertools\n",
    "Theta = np.linspace(0,1,10)\n",
    "df = pd.DataFrame(list(itertools.product(Theta, repeat=2)))\n",
    "df2 = df.drop_duplicates()\n",
    "theta_list = df2.to_numpy()"
   ]
  },
  {
   "cell_type": "code",
   "execution_count": 38,
   "id": "452e2e75",
   "metadata": {},
   "outputs": [
    {
     "name": "stdout",
     "output_type": "stream",
     "text": [
      "[[0.         0.        ]\n",
      " [0.         0.11111111]\n",
      " [0.         0.22222222]\n",
      " [0.         0.33333333]\n",
      " [0.         0.44444444]\n",
      " [0.         0.55555556]\n",
      " [0.         0.66666667]\n",
      " [0.         0.77777778]\n",
      " [0.         0.88888889]\n",
      " [0.         1.        ]\n",
      " [0.11111111 0.        ]\n",
      " [0.11111111 0.11111111]\n",
      " [0.11111111 0.22222222]\n",
      " [0.11111111 0.33333333]\n",
      " [0.11111111 0.44444444]\n",
      " [0.11111111 0.55555556]\n",
      " [0.11111111 0.66666667]\n",
      " [0.11111111 0.77777778]\n",
      " [0.11111111 0.88888889]\n",
      " [0.11111111 1.        ]\n",
      " [0.22222222 0.        ]\n",
      " [0.22222222 0.11111111]\n",
      " [0.22222222 0.22222222]\n",
      " [0.22222222 0.33333333]\n",
      " [0.22222222 0.44444444]\n",
      " [0.22222222 0.55555556]\n",
      " [0.22222222 0.66666667]\n",
      " [0.22222222 0.77777778]\n",
      " [0.22222222 0.88888889]\n",
      " [0.22222222 1.        ]\n",
      " [0.33333333 0.        ]\n",
      " [0.33333333 0.11111111]\n",
      " [0.33333333 0.22222222]\n",
      " [0.33333333 0.33333333]\n",
      " [0.33333333 0.44444444]\n",
      " [0.33333333 0.55555556]\n",
      " [0.33333333 0.66666667]\n",
      " [0.33333333 0.77777778]\n",
      " [0.33333333 0.88888889]\n",
      " [0.33333333 1.        ]\n",
      " [0.44444444 0.        ]\n",
      " [0.44444444 0.11111111]\n",
      " [0.44444444 0.22222222]\n",
      " [0.44444444 0.33333333]\n",
      " [0.44444444 0.44444444]\n",
      " [0.44444444 0.55555556]\n",
      " [0.44444444 0.66666667]\n",
      " [0.44444444 0.77777778]\n",
      " [0.44444444 0.88888889]\n",
      " [0.44444444 1.        ]\n",
      " [0.55555556 0.        ]\n",
      " [0.55555556 0.11111111]\n",
      " [0.55555556 0.22222222]\n",
      " [0.55555556 0.33333333]\n",
      " [0.55555556 0.44444444]\n",
      " [0.55555556 0.55555556]\n",
      " [0.55555556 0.66666667]\n",
      " [0.55555556 0.77777778]\n",
      " [0.55555556 0.88888889]\n",
      " [0.55555556 1.        ]\n",
      " [0.66666667 0.        ]\n",
      " [0.66666667 0.11111111]\n",
      " [0.66666667 0.22222222]\n",
      " [0.66666667 0.33333333]\n",
      " [0.66666667 0.44444444]\n",
      " [0.66666667 0.55555556]\n",
      " [0.66666667 0.66666667]\n",
      " [0.66666667 0.77777778]\n",
      " [0.66666667 0.88888889]\n",
      " [0.66666667 1.        ]\n",
      " [0.77777778 0.        ]\n",
      " [0.77777778 0.11111111]\n",
      " [0.77777778 0.22222222]\n",
      " [0.77777778 0.33333333]\n",
      " [0.77777778 0.44444444]\n",
      " [0.77777778 0.55555556]\n",
      " [0.77777778 0.66666667]\n",
      " [0.77777778 0.77777778]\n",
      " [0.77777778 0.88888889]\n",
      " [0.77777778 1.        ]\n",
      " [0.88888889 0.        ]\n",
      " [0.88888889 0.11111111]\n",
      " [0.88888889 0.22222222]\n",
      " [0.88888889 0.33333333]\n",
      " [0.88888889 0.44444444]\n",
      " [0.88888889 0.55555556]\n",
      " [0.88888889 0.66666667]\n",
      " [0.88888889 0.77777778]\n",
      " [0.88888889 0.88888889]\n",
      " [0.88888889 1.        ]\n",
      " [1.         0.        ]\n",
      " [1.         0.11111111]\n",
      " [1.         0.22222222]\n",
      " [1.         0.33333333]\n",
      " [1.         0.44444444]\n",
      " [1.         0.55555556]\n",
      " [1.         0.66666667]\n",
      " [1.         0.77777778]\n",
      " [1.         0.88888889]\n",
      " [1.         1.        ]]\n",
      "(100, 2)\n"
     ]
    }
   ],
   "source": [
    "# print(theta_list)\n",
    "print(theta_list.shape)"
   ]
  },
  {
   "cell_type": "code",
   "execution_count": 49,
   "id": "da424315",
   "metadata": {},
   "outputs": [
    {
     "data": {
      "text/plain": [
       "(2, 10, 10)"
      ]
     },
     "execution_count": 49,
     "metadata": {},
     "output_type": "execute_result"
    }
   ],
   "source": [
    "theta_list2 = theta_list.reshape((10,-1,2)).T\n",
    "theta_list2.shape"
   ]
  },
  {
   "cell_type": "code",
   "execution_count": 46,
   "id": "ef1a5126",
   "metadata": {},
   "outputs": [
    {
     "data": {
      "text/plain": [
       "array([[0.        , 0.11111111, 0.22222222, 0.33333333, 0.44444444,\n",
       "        0.55555556, 0.66666667, 0.77777778, 0.88888889, 1.        ],\n",
       "       [0.        , 0.11111111, 0.22222222, 0.33333333, 0.44444444,\n",
       "        0.55555556, 0.66666667, 0.77777778, 0.88888889, 1.        ],\n",
       "       [0.        , 0.11111111, 0.22222222, 0.33333333, 0.44444444,\n",
       "        0.55555556, 0.66666667, 0.77777778, 0.88888889, 1.        ],\n",
       "       [0.        , 0.11111111, 0.22222222, 0.33333333, 0.44444444,\n",
       "        0.55555556, 0.66666667, 0.77777778, 0.88888889, 1.        ],\n",
       "       [0.        , 0.11111111, 0.22222222, 0.33333333, 0.44444444,\n",
       "        0.55555556, 0.66666667, 0.77777778, 0.88888889, 1.        ],\n",
       "       [0.        , 0.11111111, 0.22222222, 0.33333333, 0.44444444,\n",
       "        0.55555556, 0.66666667, 0.77777778, 0.88888889, 1.        ],\n",
       "       [0.        , 0.11111111, 0.22222222, 0.33333333, 0.44444444,\n",
       "        0.55555556, 0.66666667, 0.77777778, 0.88888889, 1.        ],\n",
       "       [0.        , 0.11111111, 0.22222222, 0.33333333, 0.44444444,\n",
       "        0.55555556, 0.66666667, 0.77777778, 0.88888889, 1.        ],\n",
       "       [0.        , 0.11111111, 0.22222222, 0.33333333, 0.44444444,\n",
       "        0.55555556, 0.66666667, 0.77777778, 0.88888889, 1.        ],\n",
       "       [0.        , 0.11111111, 0.22222222, 0.33333333, 0.44444444,\n",
       "        0.55555556, 0.66666667, 0.77777778, 0.88888889, 1.        ]])"
      ]
     },
     "execution_count": 46,
     "metadata": {},
     "output_type": "execute_result"
    }
   ],
   "source": [
    "theta_list2[0]"
   ]
  },
  {
   "cell_type": "code",
   "execution_count": 60,
   "id": "4ada3d38",
   "metadata": {},
   "outputs": [
    {
     "data": {
      "text/plain": [
       "array([[0, 1],\n",
       "       [0, 1],\n",
       "       [0, 1],\n",
       "       [0, 1],\n",
       "       [0, 1],\n",
       "       [0, 1],\n",
       "       [0, 1],\n",
       "       [0, 1]])"
      ]
     },
     "execution_count": 60,
     "metadata": {},
     "output_type": "execute_result"
    }
   ],
   "source": [
    "x = np.array([0,1])\n",
    "J = (np.repeat(x,8))\n",
    "J.reshape(-1,8).T"
   ]
  },
  {
   "cell_type": "code",
   "execution_count": null,
   "id": "f2124102",
   "metadata": {},
   "outputs": [],
   "source": []
  }
 ],
 "metadata": {
  "kernelspec": {
   "display_name": "Python 3 (ipykernel)",
   "language": "python",
   "name": "python3"
  },
  "language_info": {
   "codemirror_mode": {
    "name": "ipython",
    "version": 3
   },
   "file_extension": ".py",
   "mimetype": "text/x-python",
   "name": "python",
   "nbconvert_exporter": "python",
   "pygments_lexer": "ipython3",
   "version": "3.9.12"
  }
 },
 "nbformat": 4,
 "nbformat_minor": 5
}
