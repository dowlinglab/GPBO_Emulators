{
 "cells": [
  {
   "cell_type": "code",
   "execution_count": 2,
   "id": "2e3b690e",
   "metadata": {},
   "outputs": [
    {
     "name": "stderr",
     "output_type": "stream",
     "text": [
      "/afs/crc.nd.edu/user/m/mcarlozo/.conda/envs/Toy_Problem_env/lib/python3.9/site-packages/tqdm/auto.py:22: TqdmWarning: IProgress not found. Please update jupyter and ipywidgets. See https://ipywidgets.readthedocs.io/en/stable/user_install.html\n",
      "  from .autonotebook import tqdm as notebook_tqdm\n"
     ]
    }
   ],
   "source": [
    "import gpytorch\n",
    "import numpy as np\n",
    "import pandas as pd\n",
    "import torch\n",
    "from datetime import datetime\n",
    "from itertools import combinations_with_replacement\n",
    "from itertools import combinations\n",
    "from itertools import permutations\n",
    "from scipy.stats import qmc\n",
    "\n",
    "import matplotlib as mpl\n",
    "mpl.rcParams['figure.dpi'] = 300"
   ]
  },
  {
   "cell_type": "code",
   "execution_count": 3,
   "id": "f742f05c",
   "metadata": {},
   "outputs": [
    {
     "name": "stdout",
     "output_type": "stream",
     "text": [
      "[4 3]\n"
     ]
    }
   ],
   "source": [
    "A = np.array([[4,3,0],\n",
    "              [0,0,0]])\n",
    "print(A[np.nonzero(A)])"
   ]
  },
  {
   "cell_type": "code",
   "execution_count": 11,
   "id": "9b2c4e5d",
   "metadata": {},
   "outputs": [
    {
     "name": "stdout",
     "output_type": "stream",
     "text": [
      "[[0.01037415 0.50187459]\n",
      " [0.49577329 0.13382953]\n",
      " [0.14211109 0.21855868]]\n",
      "[[0.41850818 0.24810117]\n",
      " [0.08405965 0.34549864]\n",
      " [0.16677635 0.87855909]]\n"
     ]
    }
   ],
   "source": [
    "np.random.seed(9)\n",
    "Array_1 = np.random.rand(3,2)\n",
    "Array_2 = np.random.rand(3,2)\n",
    "\n",
    "print(Array_1)\n",
    "print(Array_2)\n",
    "\n",
    "ds = gdal.Open('image.tif')\n",
    "# loop through each band\n",
    "\n",
    "path = \n",
    "\n",
    "with open(\"converted.raw\", \"wb\") as outfile:\n",
    "    for bi in range(ds.RasterCount):\n",
    "        band = ds.GetRasterBand(bi + 1)\n",
    "        # Read this band into a 2D NumPy array\n",
    "        ar = band.ReadAsArray()\n",
    "        print('Band %d has type %s'%(bi + 1, ar.dtype))   \n",
    "        np.save(outfile, ar.astype('uint16'))"
   ]
  },
  {
   "cell_type": "code",
   "execution_count": null,
   "id": "b847f32f",
   "metadata": {},
   "outputs": [],
   "source": []
  },
  {
   "cell_type": "code",
   "execution_count": null,
   "id": "dba21891",
   "metadata": {},
   "outputs": [],
   "source": []
  }
 ],
 "metadata": {
  "kernelspec": {
   "display_name": "Python 3 (ipykernel)",
   "language": "python",
   "name": "python3"
  },
  "language_info": {
   "codemirror_mode": {
    "name": "ipython",
    "version": 3
   },
   "file_extension": ".py",
   "mimetype": "text/x-python",
   "name": "python",
   "nbconvert_exporter": "python",
   "pygments_lexer": "ipython3",
   "version": "3.9.12"
  }
 },
 "nbformat": 4,
 "nbformat_minor": 5
}
