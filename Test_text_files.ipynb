{
 "cells": [
  {
   "cell_type": "code",
   "execution_count": 5,
   "id": "9654c63a",
   "metadata": {
    "scrolled": false
   },
   "outputs": [
    {
     "name": "stdout",
     "output_type": "stream",
     "text": [
      "Date and Time:  06-Jul-2022 (13:56:18)\n",
      "Runs: 2\n",
      "BO Iterations: 2\n",
      "-------------------------\n",
      "Lengthscale Set As: None\n",
      "Explore Bias: 0.75\n",
      "The GP predicts the lowest SSE of 2.938e+01 occurs at θ = [ 1.77085217 -1.83199462] during Run 2 at BO iteration 1\n",
      "At this point, the highest EI occurs at θ = [-1.92652141  0.88196851]\n",
      " \n",
      "\n"
     ]
    }
   ],
   "source": [
    "import numpy as np\n",
    "import pandas as pd\n",
    "import torch\n",
    "from bo_functions import bo_iter_w_runs\n",
    "import matplotlib as mpl\n",
    "from datetime import datetime\n",
    "mpl.rcParams['figure.dpi'] = 200\n",
    "\n",
    "#Set Date and Time\n",
    "dateTimeObj = datetime.now()\n",
    "timestampStr = dateTimeObj.strftime(\"%d-%b-%Y (%H:%M:%S)\")\n",
    "print(\"Date and Time: \", timestampStr)\n",
    "# DateTime = dateTimeObj.strftime(\"%Y/%m/%d/%H-%M-%S%p\")\n",
    "DateTime = None ##For Testing\n",
    "\n",
    "#Set Parameters\n",
    "Theta_True = np.array([1,-1])\n",
    "BO_iters = 2\n",
    "runs = 2\n",
    "train_iter = 300\n",
    "noise_std = 0.1\n",
    "shuffle_seed = 6\n",
    "t=4\n",
    "explore_bias = torch.tensor([0.75])\n",
    "# set_lengthscale = np.array([None, 0.5, 1, 5])\n",
    "set_lengthscale = np.array([None])\n",
    "\n",
    "\n",
    "obj = \"obj\"\n",
    "emulator = True\n",
    "verbose = False\n",
    "save_fig=True\n",
    "# sparse_grid = True\n",
    "sparse_grid = False\n",
    "\n",
    "#Pull Experimental data from CSV\n",
    "exp_data_doc = 'Input_CSVs/Exp_Data/n=5.csv'\n",
    "exp_data = np.array(pd.read_csv(exp_data_doc, header=0,sep=\",\"))\n",
    "Xexp = exp_data[:,1]\n",
    "Yexp = exp_data[:,2]\n",
    "n = len(Xexp)\n",
    "\n",
    "#Define GP Testing space\n",
    "p=20\n",
    "Theta1 =  np.linspace(-2,2,p) #1x10\n",
    "Theta2 =  np.linspace(-2,2,p) #1x10\n",
    "theta_mesh = np.array(np.meshgrid(Theta1, Theta2)) #2 Uniform 5x5 arrays\n",
    "\n",
    "all_data_doc = \"Input_CSVs/Train_Data/all_3_data/t=25.csv\"\n",
    "all_data = np.array(pd.read_csv(all_data_doc, header=0,sep=\",\"))   \n",
    "\n",
    "print(\"Runs:\", runs)\n",
    "print(\"BO Iterations:\",BO_iters)\n",
    "print(\"-------------------------\")\n",
    "for i in range(len(set_lengthscale)):\n",
    "    for j in range(len(explore_bias)):\n",
    "        print(\"Lengthscale Set As:\", set_lengthscale[i])\n",
    "        print(\"Explore Bias:\", str(np.round(float(explore_bias[j]),3)))\n",
    "        results = bo_iter_w_runs(BO_iters,all_data_doc,t,theta_mesh,Theta_True,train_iter,explore_bias[j], Xexp, Yexp,\n",
    "                                     noise_std, obj, runs, sparse_grid, emulator, set_lengthscale[i], verbose, \n",
    "                                     save_fig, shuffle_seed, DateTime)\n",
    "        print(\"The GP predicts the lowest SSE of\", \"{:.3e}\".format(np.exp(results[3])), \"occurs at \\u03B8 =\", results[2][0], \n",
    "                  \"during Run\", results[1], \"at BO iteration\", results[0])\n",
    "        print(\"At this point, the highest EI occurs at \\u03B8 =\", results[4][0])\n",
    "        print(\" \\n\")"
   ]
  },
  {
   "cell_type": "code",
   "execution_count": null,
   "id": "4ede0502",
   "metadata": {},
   "outputs": [],
   "source": []
  }
 ],
 "metadata": {
  "kernelspec": {
   "display_name": "Python 3 (ipykernel)",
   "language": "python",
   "name": "python3"
  },
  "language_info": {
   "codemirror_mode": {
    "name": "ipython",
    "version": 3
   },
   "file_extension": ".py",
   "mimetype": "text/x-python",
   "name": "python",
   "nbconvert_exporter": "python",
   "pygments_lexer": "ipython3",
   "version": "3.9.12"
  }
 },
 "nbformat": 4,
 "nbformat_minor": 5
}
