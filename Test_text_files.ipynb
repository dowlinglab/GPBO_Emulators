{
 "cells": [
  {
   "cell_type": "code",
   "execution_count": 1,
   "id": "9654c63a",
   "metadata": {
    "scrolled": false
   },
   "outputs": [
    {
     "name": "stderr",
     "output_type": "stream",
     "text": [
      "/afs/crc.nd.edu/user/m/mcarlozo/.conda/envs/Toy_Problem_env/lib/python3.9/site-packages/tqdm/auto.py:22: TqdmWarning: IProgress not found. Please update jupyter and ipywidgets. See https://ipywidgets.readthedocs.io/en/stable/user_install.html\n",
      "  from .autonotebook import tqdm as notebook_tqdm\n"
     ]
    },
    {
     "name": "stdout",
     "output_type": "stream",
     "text": [
      "Date and Time:  26-Aug-2022 (13:57:47)\n",
      "Runs: 1\n",
      "BO Iterations: 100\n",
      "%%%%%%%%%%%%%%%%%%%%%%%%%%\n",
      "-------------------\n",
      "Emulator?: True\n",
      "______________________________\n",
      "Sparse Grid?: False\n",
      "Objective Function: LN_obj\n",
      "-  -  -  -  -  -  -  -  -  -  -\n",
      "Separation Factor Train/Test: 1\n",
      "Lengthscale Set To: None\n",
      "Explore Bias Multiplier: 0.1\n"
     ]
    },
    {
     "name": "stderr",
     "output_type": "stream",
     "text": [
      "/afs/crc.nd.edu/user/m/mcarlozo/.conda/envs/Toy_Problem_env/lib/python3.9/site-packages/gpytorch/lazy/triangular_lazy_tensor.py:130: UserWarning: torch.triangular_solve is deprecated in favor of torch.linalg.solve_triangularand will be removed in a future PyTorch release.\n",
      "torch.linalg.solve_triangular has its arguments reversed and does not return a copy of one of the inputs.\n",
      "X = torch.triangular_solve(B, A).solution\n",
      "should be replaced with\n",
      "X = torch.linalg.solve_triangular(A, B). (Triggered internally at  ../aten/src/ATen/native/BatchLinearAlgebra.cpp:1672.)\n",
      "  res = torch.triangular_solve(right_tensor, self.evaluate(), upper=self.upper).solution\n"
     ]
    },
    {
     "ename": "KeyboardInterrupt",
     "evalue": "",
     "output_type": "error",
     "traceback": [
      "\u001b[0;31m---------------------------------------------------------------------------\u001b[0m",
      "\u001b[0;31mKeyboardInterrupt\u001b[0m                         Traceback (most recent call last)",
      "Input \u001b[0;32mIn [1]\u001b[0m, in \u001b[0;36m<cell line: 73>\u001b[0;34m()\u001b[0m\n\u001b[1;32m     76\u001b[0m ep \u001b[38;5;241m=\u001b[39m torch\u001b[38;5;241m.\u001b[39mtensor([\u001b[38;5;28mfloat\u001b[39m(explore_bias[i])])\n\u001b[1;32m     77\u001b[0m \u001b[38;5;28mprint\u001b[39m(\u001b[38;5;124m\"\u001b[39m\u001b[38;5;124mExplore Bias Multiplier:\u001b[39m\u001b[38;5;124m\"\u001b[39m, \u001b[38;5;28mstr\u001b[39m(np\u001b[38;5;241m.\u001b[39mround(\u001b[38;5;28mfloat\u001b[39m(ep),\u001b[38;5;241m3\u001b[39m)))\n\u001b[0;32m---> 78\u001b[0m results \u001b[38;5;241m=\u001b[39m \u001b[43mbo_iter_w_runs\u001b[49m\u001b[43m(\u001b[49m\u001b[43mBO_iters\u001b[49m\u001b[43m,\u001b[49m\u001b[43mall_data_doc\u001b[49m\u001b[43m,\u001b[49m\u001b[43mt\u001b[49m\u001b[43m,\u001b[49m\u001b[43mtheta_mesh\u001b[49m\u001b[43m,\u001b[49m\u001b[43mTheta_True\u001b[49m\u001b[43m,\u001b[49m\u001b[43mtrain_iter\u001b[49m\u001b[43m,\u001b[49m\u001b[43mep\u001b[49m\u001b[43m,\u001b[49m\u001b[43m \u001b[49m\u001b[43mXexp\u001b[49m\u001b[43m,\u001b[49m\u001b[43m \u001b[49m\u001b[43mYexp\u001b[49m\u001b[43m,\u001b[49m\n\u001b[1;32m     79\u001b[0m \u001b[43m                             \u001b[49m\u001b[43mnoise_std\u001b[49m\u001b[43m,\u001b[49m\u001b[43m \u001b[49m\u001b[43mobj\u001b[49m\u001b[43m,\u001b[49m\u001b[43m \u001b[49m\u001b[43mruns\u001b[49m\u001b[43m,\u001b[49m\u001b[43m \u001b[49m\u001b[43msparse_grid\u001b[49m\u001b[43m,\u001b[49m\u001b[43m \u001b[49m\u001b[43memulator\u001b[49m\u001b[43m,\u001b[49m\u001b[43m \u001b[49m\u001b[43mset_lengthscale\u001b[49m\u001b[43m,\u001b[49m\u001b[43m \u001b[49m\u001b[43mverbose\u001b[49m\u001b[43m,\u001b[49m\u001b[43m \u001b[49m\n\u001b[1;32m     80\u001b[0m \u001b[43m                             \u001b[49m\u001b[43msave_fig\u001b[49m\u001b[43m,\u001b[49m\u001b[43m \u001b[49m\u001b[43mshuffle_seed\u001b[49m\u001b[43m,\u001b[49m\u001b[43m \u001b[49m\u001b[43mDateTime\u001b[49m\u001b[43m,\u001b[49m\u001b[43m \u001b[49m\u001b[43msep_fact\u001b[49m\u001b[43m \u001b[49m\u001b[38;5;241;43m=\u001b[39;49m\u001b[43m \u001b[49m\u001b[43msep_fact\u001b[49m\u001b[43m)\u001b[49m\n\u001b[1;32m     81\u001b[0m \u001b[38;5;28mprint\u001b[39m(\u001b[38;5;124m\"\u001b[39m\u001b[38;5;124mThe GP predicts the lowest SSE of\u001b[39m\u001b[38;5;124m\"\u001b[39m, \u001b[38;5;124m\"\u001b[39m\u001b[38;5;132;01m{:.3e}\u001b[39;00m\u001b[38;5;124m\"\u001b[39m\u001b[38;5;241m.\u001b[39mformat(np\u001b[38;5;241m.\u001b[39mexp(results[\u001b[38;5;241m3\u001b[39m])), \u001b[38;5;124m\"\u001b[39m\u001b[38;5;124moccurs at \u001b[39m\u001b[38;5;130;01m\\u03B8\u001b[39;00m\u001b[38;5;124m =\u001b[39m\u001b[38;5;124m\"\u001b[39m, results[\u001b[38;5;241m2\u001b[39m][\u001b[38;5;241m0\u001b[39m], \n\u001b[1;32m     82\u001b[0m           \u001b[38;5;124m\"\u001b[39m\u001b[38;5;124mduring run\u001b[39m\u001b[38;5;124m\"\u001b[39m, results[\u001b[38;5;241m1\u001b[39m], \u001b[38;5;124m\"\u001b[39m\u001b[38;5;124mat BO iteration\u001b[39m\u001b[38;5;124m\"\u001b[39m, results[\u001b[38;5;241m0\u001b[39m])\n\u001b[1;32m     83\u001b[0m \u001b[38;5;28mprint\u001b[39m(\u001b[38;5;124m\"\u001b[39m\u001b[38;5;124mAt this point, the highest EI occurs at \u001b[39m\u001b[38;5;130;01m\\u03B8\u001b[39;00m\u001b[38;5;124m =\u001b[39m\u001b[38;5;124m\"\u001b[39m, results[\u001b[38;5;241m4\u001b[39m][\u001b[38;5;241m0\u001b[39m])\n",
      "File \u001b[0;32m/scratch365/mcarlozo/Toy_Problem/bo_functions.py:1643\u001b[0m, in \u001b[0;36mbo_iter_w_runs\u001b[0;34m(BO_iters, all_data_doc, t, theta_mesh, Theta_True, train_iter, explore_bias, Xexp, Yexp, noise_std, obj, runs, sparse_grid, emulator, set_lengthscale, verbose, save_fig, shuffle_seed, DateTime, sep_fact)\u001b[0m\n\u001b[1;32m   1640\u001b[0m plot_org_train(theta_mesh,train_p, test_p, Theta_True, emulator, sparse_grid, obj, ep0, set_lengthscale, i, save_fig, BO_iters, runs, DateTime, verbose, sep_fact \u001b[38;5;241m=\u001b[39m sep_fact)\n\u001b[1;32m   1642\u001b[0m \u001b[38;5;66;03m#Run BO iteration\u001b[39;00m\n\u001b[0;32m-> 1643\u001b[0m BO_results \u001b[38;5;241m=\u001b[39m \u001b[43mbo_iter\u001b[49m\u001b[43m(\u001b[49m\u001b[43mBO_iters\u001b[49m\u001b[43m,\u001b[49m\u001b[43mtrain_p\u001b[49m\u001b[43m,\u001b[49m\u001b[43mtrain_y\u001b[49m\u001b[43m,\u001b[49m\u001b[43mtheta_mesh\u001b[49m\u001b[43m,\u001b[49m\u001b[43mTheta_True\u001b[49m\u001b[43m,\u001b[49m\u001b[43mtrain_iter\u001b[49m\u001b[43m,\u001b[49m\u001b[43mexplore_bias\u001b[49m\u001b[43m,\u001b[49m\u001b[43m \u001b[49m\u001b[43mXexp\u001b[49m\u001b[43m,\u001b[49m\u001b[43m \u001b[49m\u001b[43mYexp\u001b[49m\u001b[43m,\u001b[49m\u001b[43m \u001b[49m\u001b[43mnoise_std\u001b[49m\u001b[43m,\u001b[49m\u001b[43m \u001b[49m\u001b[43mobj\u001b[49m\u001b[43m,\u001b[49m\u001b[43m \u001b[49m\u001b[43mi\u001b[49m\u001b[43m,\u001b[49m\u001b[43m \u001b[49m\u001b[43msparse_grid\u001b[49m\u001b[43m,\u001b[49m\u001b[43m \u001b[49m\u001b[43memulator\u001b[49m\u001b[43m,\u001b[49m\u001b[43m \u001b[49m\u001b[43mset_lengthscale\u001b[49m\u001b[43m,\u001b[49m\u001b[43m \u001b[49m\u001b[43mverbose\u001b[49m\u001b[43m,\u001b[49m\u001b[43m \u001b[49m\u001b[43msave_fig\u001b[49m\u001b[43m,\u001b[49m\u001b[43m \u001b[49m\u001b[43mruns\u001b[49m\u001b[43m,\u001b[49m\u001b[43m \u001b[49m\u001b[43mDateTime\u001b[49m\u001b[43m,\u001b[49m\u001b[43m \u001b[49m\u001b[43mtest_p\u001b[49m\u001b[43m,\u001b[49m\u001b[43m \u001b[49m\u001b[43msep_fact\u001b[49m\u001b[43m \u001b[49m\u001b[38;5;241;43m=\u001b[39;49m\u001b[43m \u001b[49m\u001b[43msep_fact\u001b[49m\u001b[43m)\u001b[49m\n\u001b[1;32m   1645\u001b[0m \u001b[38;5;66;03m#Add all SSE/theta results at each BO iteration for that run\u001b[39;00m\n\u001b[1;32m   1646\u001b[0m Theta_Best_matrix[i,:,:] \u001b[38;5;241m=\u001b[39m BO_results[\u001b[38;5;241m0\u001b[39m]\n",
      "File \u001b[0;32m/scratch365/mcarlozo/Toy_Problem/bo_functions.py:1404\u001b[0m, in \u001b[0;36mbo_iter\u001b[0;34m(BO_iters, train_p, train_y, theta_mesh, Theta_True, train_iter, explore_bias, Xexp, Yexp, noise_std, obj, run, sparse_grid, emulator, set_lengthscale, verbose, save_fig, tot_runs, DateTime, test_p, sep_fact)\u001b[0m\n\u001b[1;32m   1397\u001b[0m         \u001b[38;5;66;03m#Evaluate GP\u001b[39;00m\n\u001b[1;32m   1398\u001b[0m \u001b[38;5;66;03m#         eval_components = eval_GP(theta_mesh, train_y, explore_bias,Xexp, Yexp, model, likelihood, verbose, emulator, sparse_grid, set_lengthscale)\u001b[39;00m\n\u001b[1;32m   1399\u001b[0m \n\u001b[1;32m   1400\u001b[0m         \u001b[38;5;66;03m#Set Exploration parameter\u001b[39;00m\n\u001b[1;32m   1401\u001b[0m \u001b[38;5;66;03m#         explore_bias = explore_parameter(i, explore_bias, mean_of_var, best_error_num, ep_o = ep_init, ep_method = \"Constant\") #Defaulting to exp method\u001b[39;00m\n\u001b[1;32m   1402\u001b[0m         explore_bias \u001b[38;5;241m=\u001b[39m ep_init \u001b[38;5;66;03m#Sets ep to the multiplicative scaler between 0.1 and 1 \u001b[39;00m\n\u001b[0;32m-> 1404\u001b[0m         eval_components \u001b[38;5;241m=\u001b[39m \u001b[43meval_GP\u001b[49m\u001b[43m(\u001b[49m\u001b[43mtheta_mesh\u001b[49m\u001b[43m,\u001b[49m\u001b[43m \u001b[49m\u001b[43mtrain_y\u001b[49m\u001b[43m,\u001b[49m\u001b[43m \u001b[49m\u001b[43mexplore_bias\u001b[49m\u001b[43m,\u001b[49m\u001b[43m \u001b[49m\u001b[43mXexp\u001b[49m\u001b[43m,\u001b[49m\u001b[43m \u001b[49m\u001b[43mYexp\u001b[49m\u001b[43m,\u001b[49m\u001b[43m \u001b[49m\u001b[43mmodel\u001b[49m\u001b[43m,\u001b[49m\u001b[43m \u001b[49m\u001b[43mlikelihood\u001b[49m\u001b[43m,\u001b[49m\u001b[43m \u001b[49m\u001b[43mverbose\u001b[49m\u001b[43m,\u001b[49m\u001b[43m \u001b[49m\u001b[43memulator\u001b[49m\u001b[43m,\u001b[49m\u001b[43m \u001b[49m\u001b[43msparse_grid\u001b[49m\u001b[43m,\u001b[49m\u001b[43m \u001b[49m\u001b[43mset_lengthscale\u001b[49m\u001b[43m,\u001b[49m\u001b[43m \u001b[49m\u001b[43mtrain_p\u001b[49m\u001b[43m,\u001b[49m\u001b[43m \u001b[49m\u001b[43mobj\u001b[49m\u001b[43m \u001b[49m\u001b[38;5;241;43m=\u001b[39;49m\u001b[43m \u001b[49m\u001b[43mobj\u001b[49m\u001b[43m)\u001b[49m\n\u001b[1;32m   1406\u001b[0m         \u001b[38;5;66;03m#Determines whether debugging parameters are saved for 2 Input GP       \u001b[39;00m\n\u001b[1;32m   1407\u001b[0m         \u001b[38;5;28;01mif\u001b[39;00m verbose \u001b[38;5;241m==\u001b[39m \u001b[38;5;28;01mTrue\u001b[39;00m \u001b[38;5;129;01mand\u001b[39;00m emulator \u001b[38;5;241m==\u001b[39m \u001b[38;5;28;01mFalse\u001b[39;00m:\n",
      "File \u001b[0;32m/scratch365/mcarlozo/Toy_Problem/bo_functions.py:1303\u001b[0m, in \u001b[0;36meval_GP\u001b[0;34m(theta_mesh, train_y, explore_bias, Xexp, Yexp, model, likelihood, verbose, emulator, sparse_grid, set_lengthscale, train_p, obj)\u001b[0m\n\u001b[1;32m   1300\u001b[0m         eval_components \u001b[38;5;241m=\u001b[39m eval_GP_basic_tot(theta_mesh, train_y, model, likelihood, explore_bias, verbose)\n\u001b[1;32m   1301\u001b[0m     \u001b[38;5;28;01melse\u001b[39;00m:\n\u001b[1;32m   1302\u001b[0m \u001b[38;5;66;03m#         eval_components = eval_GP_emulator_tot(Xexp,Yexp, theta_mesh, model, likelihood, sparse_grid, explore_bias, verbose)\u001b[39;00m\n\u001b[0;32m-> 1303\u001b[0m         eval_components \u001b[38;5;241m=\u001b[39m \u001b[43meval_GP_emulator_tot\u001b[49m\u001b[43m(\u001b[49m\u001b[43mXexp\u001b[49m\u001b[43m,\u001b[49m\u001b[43mYexp\u001b[49m\u001b[43m,\u001b[49m\u001b[43m \u001b[49m\u001b[43mtheta_mesh\u001b[49m\u001b[43m,\u001b[49m\u001b[43m \u001b[49m\u001b[43mmodel\u001b[49m\u001b[43m,\u001b[49m\u001b[43m \u001b[49m\u001b[43mlikelihood\u001b[49m\u001b[43m,\u001b[49m\u001b[43m \u001b[49m\u001b[43msparse_grid\u001b[49m\u001b[43m,\u001b[49m\u001b[43m \u001b[49m\u001b[43mexplore_bias\u001b[49m\u001b[43m,\u001b[49m\u001b[43m \u001b[49m\u001b[43mverbose\u001b[49m\u001b[43m,\u001b[49m\u001b[43m \u001b[49m\u001b[43mtrain_p\u001b[49m\u001b[43m,\u001b[49m\u001b[43m \u001b[49m\u001b[43mobj\u001b[49m\u001b[43m)\u001b[49m\n\u001b[1;32m   1305\u001b[0m     \u001b[38;5;28;01mreturn\u001b[39;00m eval_components\n",
      "File \u001b[0;32m/scratch365/mcarlozo/Toy_Problem/bo_functions.py:822\u001b[0m, in \u001b[0;36meval_GP_emulator_tot\u001b[0;34m(Xexp, Yexp, theta_mesh, model, likelihood, sparse_grid, explore_bias, verbose, train_p, obj)\u001b[0m\n\u001b[1;32m    818\u001b[0m                     SSE_stdev_GP[i,j] \u001b[38;5;241m=\u001b[39m np\u001b[38;5;241m.\u001b[39msqrt(np\u001b[38;5;241m.\u001b[39mabs(SSE_var_GP[i,j]))\n\u001b[1;32m    820\u001b[0m                 \u001b[38;5;28;01mif\u001b[39;00m sparse_grid \u001b[38;5;241m==\u001b[39m \u001b[38;5;28;01mFalse\u001b[39;00m:\n\u001b[1;32m    821\u001b[0m                     \u001b[38;5;66;03m#Compute EI w/ approximation\u001b[39;00m\n\u001b[0;32m--> 822\u001b[0m                     EI_temp \u001b[38;5;241m=\u001b[39m \u001b[43mcalc_ei_emulator\u001b[49m\u001b[43m(\u001b[49m\u001b[43mbest_error\u001b[49m\u001b[43m,\u001b[49m\u001b[43m \u001b[49m\u001b[43mmodel_mean\u001b[49m\u001b[43m,\u001b[49m\u001b[43m \u001b[49m\u001b[43mmodel_variance\u001b[49m\u001b[43m,\u001b[49m\u001b[43m \u001b[49m\u001b[43mYexp\u001b[49m\u001b[43m[\u001b[49m\u001b[43mk\u001b[49m\u001b[43m]\u001b[49m\u001b[43m,\u001b[49m\u001b[43m \u001b[49m\u001b[43mexplore_bias\u001b[49m\u001b[43m,\u001b[49m\u001b[43m \u001b[49m\u001b[43mobj\u001b[49m\u001b[43m)\u001b[49m\n\u001b[1;32m    823\u001b[0m \u001b[38;5;66;03m#                     print(EI_temp)\u001b[39;00m\n\u001b[1;32m    824\u001b[0m                     EI[i,j] \u001b[38;5;241m+\u001b[39m\u001b[38;5;241m=\u001b[39m EI_temp\n",
      "File \u001b[0;32m/scratch365/mcarlozo/Toy_Problem/bo_functions.py:629\u001b[0m, in \u001b[0;36mcalc_ei_emulator\u001b[0;34m(error_best, pred_mean, pred_var, y_target, explore_bias, obj)\u001b[0m\n\u001b[1;32m    623\u001b[0m \u001b[38;5;66;03m#             print(bound_lower,bound_upper)\u001b[39;00m\n\u001b[1;32m    624\u001b[0m \u001b[38;5;66;03m#             print(error_best, pred_mean, pred_stdev, y_target, explore_bias)\u001b[39;00m\n\u001b[1;32m    625\u001b[0m             \u001b[38;5;66;03m#This first way is very slow\u001b[39;00m\n\u001b[1;32m    626\u001b[0m \u001b[38;5;66;03m#             ei, abs_err = integrate.quad(ei_approx_ln_term, bound_lower, bound_upper, args = args) \u001b[39;00m\n\u001b[1;32m    627\u001b[0m             \u001b[38;5;66;03m#This 2nd way throws the error -> too many values to unpack (expected 3) even though 3 values are being unpacked unless you do it like this and not, EI, abs_err, infordict =\u001b[39;00m\n\u001b[1;32m    628\u001b[0m             ei_term_1 \u001b[38;5;241m=\u001b[39m (error_best\u001b[38;5;241m*\u001b[39mexplore_bias)\u001b[38;5;241m*\u001b[39m( norm\u001b[38;5;241m.\u001b[39mcdf(bound_upper)\u001b[38;5;241m-\u001b[39mnorm\u001b[38;5;241m.\u001b[39mcdf(bound_lower) )\n\u001b[0;32m--> 629\u001b[0m             ei_term_2_out \u001b[38;5;241m=\u001b[39m \u001b[43mintegrate\u001b[49m\u001b[38;5;241;43m.\u001b[39;49m\u001b[43mquad\u001b[49m\u001b[43m(\u001b[49m\u001b[43mei_approx_ln_term\u001b[49m\u001b[43m,\u001b[49m\u001b[43m \u001b[49m\u001b[43mbound_lower\u001b[49m\u001b[43m,\u001b[49m\u001b[43m \u001b[49m\u001b[43mbound_upper\u001b[49m\u001b[43m,\u001b[49m\u001b[43m \u001b[49m\u001b[43margs\u001b[49m\u001b[43m \u001b[49m\u001b[38;5;241;43m=\u001b[39;49m\u001b[43m \u001b[49m\u001b[43margs\u001b[49m\u001b[43m,\u001b[49m\u001b[43m \u001b[49m\u001b[43mfull_output\u001b[49m\u001b[43m \u001b[49m\u001b[38;5;241;43m=\u001b[39;49m\u001b[43m \u001b[49m\u001b[38;5;241;43m1\u001b[39;49m\u001b[43m)\u001b[49m\n\u001b[1;32m    630\u001b[0m             ei_term_2 \u001b[38;5;241m=\u001b[39m (\u001b[38;5;241m-\u001b[39m\u001b[38;5;241m2\u001b[39m)\u001b[38;5;241m*\u001b[39mei_term_2_out[\u001b[38;5;241m0\u001b[39m] \n\u001b[1;32m    631\u001b[0m \u001b[38;5;66;03m#             ei_term_2 = (-1)*ei_term_2_out[0] \u001b[39;00m\n",
      "File \u001b[0;32m~/.conda/envs/Toy_Problem_env/lib/python3.9/site-packages/scipy/integrate/_quadpack_py.py:351\u001b[0m, in \u001b[0;36mquad\u001b[0;34m(func, a, b, args, full_output, epsabs, epsrel, limit, points, weight, wvar, wopts, maxp1, limlst)\u001b[0m\n\u001b[1;32m    348\u001b[0m flip, a, b \u001b[38;5;241m=\u001b[39m b \u001b[38;5;241m<\u001b[39m a, \u001b[38;5;28mmin\u001b[39m(a, b), \u001b[38;5;28mmax\u001b[39m(a, b)\n\u001b[1;32m    350\u001b[0m \u001b[38;5;28;01mif\u001b[39;00m weight \u001b[38;5;129;01mis\u001b[39;00m \u001b[38;5;28;01mNone\u001b[39;00m:\n\u001b[0;32m--> 351\u001b[0m     retval \u001b[38;5;241m=\u001b[39m \u001b[43m_quad\u001b[49m\u001b[43m(\u001b[49m\u001b[43mfunc\u001b[49m\u001b[43m,\u001b[49m\u001b[43m \u001b[49m\u001b[43ma\u001b[49m\u001b[43m,\u001b[49m\u001b[43m \u001b[49m\u001b[43mb\u001b[49m\u001b[43m,\u001b[49m\u001b[43m \u001b[49m\u001b[43margs\u001b[49m\u001b[43m,\u001b[49m\u001b[43m \u001b[49m\u001b[43mfull_output\u001b[49m\u001b[43m,\u001b[49m\u001b[43m \u001b[49m\u001b[43mepsabs\u001b[49m\u001b[43m,\u001b[49m\u001b[43m \u001b[49m\u001b[43mepsrel\u001b[49m\u001b[43m,\u001b[49m\u001b[43m \u001b[49m\u001b[43mlimit\u001b[49m\u001b[43m,\u001b[49m\n\u001b[1;32m    352\u001b[0m \u001b[43m                   \u001b[49m\u001b[43mpoints\u001b[49m\u001b[43m)\u001b[49m\n\u001b[1;32m    353\u001b[0m \u001b[38;5;28;01melse\u001b[39;00m:\n\u001b[1;32m    354\u001b[0m     \u001b[38;5;28;01mif\u001b[39;00m points \u001b[38;5;129;01mis\u001b[39;00m \u001b[38;5;129;01mnot\u001b[39;00m \u001b[38;5;28;01mNone\u001b[39;00m:\n",
      "File \u001b[0;32m~/.conda/envs/Toy_Problem_env/lib/python3.9/site-packages/scipy/integrate/_quadpack_py.py:463\u001b[0m, in \u001b[0;36m_quad\u001b[0;34m(func, a, b, args, full_output, epsabs, epsrel, limit, points)\u001b[0m\n\u001b[1;32m    461\u001b[0m \u001b[38;5;28;01mif\u001b[39;00m points \u001b[38;5;129;01mis\u001b[39;00m \u001b[38;5;28;01mNone\u001b[39;00m:\n\u001b[1;32m    462\u001b[0m     \u001b[38;5;28;01mif\u001b[39;00m infbounds \u001b[38;5;241m==\u001b[39m \u001b[38;5;241m0\u001b[39m:\n\u001b[0;32m--> 463\u001b[0m         \u001b[38;5;28;01mreturn\u001b[39;00m \u001b[43m_quadpack\u001b[49m\u001b[38;5;241;43m.\u001b[39;49m\u001b[43m_qagse\u001b[49m\u001b[43m(\u001b[49m\u001b[43mfunc\u001b[49m\u001b[43m,\u001b[49m\u001b[43ma\u001b[49m\u001b[43m,\u001b[49m\u001b[43mb\u001b[49m\u001b[43m,\u001b[49m\u001b[43margs\u001b[49m\u001b[43m,\u001b[49m\u001b[43mfull_output\u001b[49m\u001b[43m,\u001b[49m\u001b[43mepsabs\u001b[49m\u001b[43m,\u001b[49m\u001b[43mepsrel\u001b[49m\u001b[43m,\u001b[49m\u001b[43mlimit\u001b[49m\u001b[43m)\u001b[49m\n\u001b[1;32m    464\u001b[0m     \u001b[38;5;28;01melse\u001b[39;00m:\n\u001b[1;32m    465\u001b[0m         \u001b[38;5;28;01mreturn\u001b[39;00m _quadpack\u001b[38;5;241m.\u001b[39m_qagie(func,bound,infbounds,args,full_output,epsabs,epsrel,limit)\n",
      "File \u001b[0;32m/scratch365/mcarlozo/Toy_Problem/bo_functions.py:541\u001b[0m, in \u001b[0;36mei_approx_ln_term\u001b[0;34m(epsilon, error_best, pred_mean, pred_stdev, y_target, ep)\u001b[0m\n\u001b[1;32m    524\u001b[0m     \u001b[38;5;124;03m\"\"\" \u001b[39;00m\n\u001b[1;32m    525\u001b[0m \u001b[38;5;124;03m    Calculates the integrand of expected improvement of the 3 input parameter GP using the log version\u001b[39;00m\n\u001b[1;32m    526\u001b[0m \u001b[38;5;124;03m    Parameters\u001b[39;00m\n\u001b[0;32m   (...)\u001b[0m\n\u001b[1;32m    537\u001b[0m \u001b[38;5;124;03m        ei: ndarray, the expected improvement for one term of the GP model\u001b[39;00m\n\u001b[1;32m    538\u001b[0m \u001b[38;5;124;03m    \"\"\"\u001b[39;00m\n\u001b[1;32m    539\u001b[0m \u001b[38;5;66;03m#     EI = ( (error_best - ep) - np.log( (y_target - pred_mean - pred_stdev*epsilon)**2 ) )*norm.pdf(epsilon)\u001b[39;00m\n\u001b[0;32m--> 541\u001b[0m     ei_term_2_integral \u001b[38;5;241m=\u001b[39m np\u001b[38;5;241m.\u001b[39mlog( \u001b[38;5;28mabs\u001b[39m((y_target \u001b[38;5;241m-\u001b[39m pred_mean \u001b[38;5;241m-\u001b[39m pred_stdev\u001b[38;5;241m*\u001b[39mepsilon)) )\u001b[38;5;241m*\u001b[39m\u001b[43mnorm\u001b[49m\u001b[38;5;241;43m.\u001b[39;49m\u001b[43mpdf\u001b[49m\u001b[43m(\u001b[49m\u001b[43mepsilon\u001b[49m\u001b[43m)\u001b[49m\n\u001b[1;32m    542\u001b[0m \u001b[38;5;66;03m#     ei_term_2_integral = np.log( (y_target - pred_mean - pred_stdev*epsilon)**2 )*norm.pdf(epsilon)\u001b[39;00m\n\u001b[1;32m    543\u001b[0m     \u001b[38;5;28;01mreturn\u001b[39;00m ei_term_2_integral\n",
      "File \u001b[0;32m~/.conda/envs/Toy_Problem_env/lib/python3.9/site-packages/scipy/stats/_distn_infrastructure.py:1907\u001b[0m, in \u001b[0;36mrv_continuous.pdf\u001b[0;34m(self, x, *args, **kwds)\u001b[0m\n\u001b[1;32m   1905\u001b[0m cond0 \u001b[38;5;241m=\u001b[39m \u001b[38;5;28mself\u001b[39m\u001b[38;5;241m.\u001b[39m_argcheck(\u001b[38;5;241m*\u001b[39margs) \u001b[38;5;241m&\u001b[39m (scale \u001b[38;5;241m>\u001b[39m \u001b[38;5;241m0\u001b[39m)\n\u001b[1;32m   1906\u001b[0m cond1 \u001b[38;5;241m=\u001b[39m \u001b[38;5;28mself\u001b[39m\u001b[38;5;241m.\u001b[39m_support_mask(x, \u001b[38;5;241m*\u001b[39margs) \u001b[38;5;241m&\u001b[39m (scale \u001b[38;5;241m>\u001b[39m \u001b[38;5;241m0\u001b[39m)\n\u001b[0;32m-> 1907\u001b[0m cond \u001b[38;5;241m=\u001b[39m \u001b[43mcond0\u001b[49m\u001b[43m \u001b[49m\u001b[38;5;241;43m&\u001b[39;49m\u001b[43m \u001b[49m\u001b[43mcond1\u001b[49m\n\u001b[1;32m   1908\u001b[0m output \u001b[38;5;241m=\u001b[39m zeros(shape(cond), dtyp)\n\u001b[1;32m   1909\u001b[0m putmask(output, (\u001b[38;5;241m1\u001b[39m\u001b[38;5;241m-\u001b[39mcond0)\u001b[38;5;241m+\u001b[39mnp\u001b[38;5;241m.\u001b[39misnan(x), \u001b[38;5;28mself\u001b[39m\u001b[38;5;241m.\u001b[39mbadvalue)\n",
      "\u001b[0;31mKeyboardInterrupt\u001b[0m: "
     ]
    }
   ],
   "source": [
    "import gpytorch\n",
    "import numpy as np\n",
    "import pandas as pd\n",
    "import torch\n",
    "from datetime import datetime\n",
    "\n",
    "# from bo_functions import ExactGPModel\n",
    "# from bo_functions import create_y_data\n",
    "# from bo_functions import bo_iter\n",
    "# from bo_functions import test_train_split\n",
    "from bo_functions import bo_iter_w_runs\n",
    "from bo_functions import find_train_doc_path\n",
    "\n",
    "import matplotlib as mpl\n",
    "mpl.rcParams['figure.dpi'] = 300\n",
    "#----------------------------------------------\n",
    "\n",
    "#Set Date and Time\n",
    "dateTimeObj = datetime.now()\n",
    "timestampStr = dateTimeObj.strftime(\"%d-%b-%Y (%H:%M:%S)\")\n",
    "print(\"Date and Time: \", timestampStr)\n",
    "DateTime = dateTimeObj.strftime(\"%Y/%m/%d/%H-%M-%S%p\")\n",
    "DateTime = None ##For Testing\n",
    "\n",
    "#Set Parameters\n",
    "Theta_True = np.array([1,-1])\n",
    "BO_iters = 100\n",
    "runs = 1\n",
    "train_iter = 300\n",
    "noise_std = 0.1\n",
    "shuffle_seed = 9\n",
    "sep_fact = 1\n",
    "explore_bias = np.linspace(0.1,1,10)\n",
    "set_lengthscale = None\n",
    "t = 100\n",
    "\n",
    "obj = \"LN_obj\"\n",
    "# obj = np.array([\"obj\",\"LN_obj\"])\n",
    "emulator = True\n",
    "# emulator = np.array([False,True])\n",
    "sparse_grid = False\n",
    "# sparse_grid = np.array([False,True])\n",
    "verbose = False\n",
    "save_fig = True\n",
    "\n",
    "#Pull Experimental data from CSV\n",
    "exp_data_doc = 'Input_CSVs/Exp_Data/n=5.csv'\n",
    "exp_data = np.array(pd.read_csv(exp_data_doc, header=0,sep=\",\"))\n",
    "Xexp = exp_data[:,1]\n",
    "Yexp = exp_data[:,2]\n",
    "n = len(Xexp)\n",
    "\n",
    "#Define GP Testing space\n",
    "p=20\n",
    "Theta1 =  np.linspace(-2,2,p) #1x10\n",
    "Theta2 =  np.linspace(-2,2,p) #1x10\n",
    "theta_mesh = np.array(np.meshgrid(Theta1, Theta2)) #2 Uniform 5x5 arrays  \n",
    "\n",
    "print(\"Runs:\", runs)\n",
    "print(\"BO Iterations:\",BO_iters)\n",
    "print(\"%%%%%%%%%%%%%%%%%%%%%%%%%%\")\n",
    "\n",
    "print(\"-------------------\")\n",
    "print(\"Emulator?:\", emulator)\n",
    "print(\"______________________________\")\n",
    "print(\"Sparse Grid?:\", sparse_grid)  \n",
    "\n",
    "\n",
    "all_data_doc = find_train_doc_path(emulator, obj, t)\n",
    "all_data = np.array(pd.read_csv(all_data_doc, header=0,sep=\",\")) \n",
    "print(\"Objective Function:\", obj)\n",
    "print(\"-  -  -  -  -  -  -  -  -  -  -\")\n",
    "for i in range(len(explore_bias)):\n",
    "    print(\"Separation Factor Train/Test:\", str(np.round(sep_fact,3)))\n",
    "    print(\"Lengthscale Set To:\", set_lengthscale)\n",
    "    ep = torch.tensor([float(explore_bias[i])])\n",
    "    print(\"Explore Bias Multiplier:\", str(np.round(float(ep),3)))\n",
    "    results = bo_iter_w_runs(BO_iters,all_data_doc,t,theta_mesh,Theta_True,train_iter,ep, Xexp, Yexp,\n",
    "                                 noise_std, obj, runs, sparse_grid, emulator, set_lengthscale, verbose, \n",
    "                                 save_fig, shuffle_seed, DateTime, sep_fact = sep_fact)\n",
    "    print(\"The GP predicts the lowest SSE of\", \"{:.3e}\".format(np.exp(results[3])), \"occurs at \\u03B8 =\", results[2][0], \n",
    "              \"during run\", results[1], \"at BO iteration\", results[0])\n",
    "    print(\"At this point, the highest EI occurs at \\u03B8 =\", results[4][0])\n",
    "    print(\"\\n\")"
   ]
  },
  {
   "cell_type": "code",
   "execution_count": null,
   "id": "4ede0502",
   "metadata": {},
   "outputs": [],
   "source": []
  }
 ],
 "metadata": {
  "kernelspec": {
   "display_name": "Python 3 (ipykernel)",
   "language": "python",
   "name": "python3"
  },
  "language_info": {
   "codemirror_mode": {
    "name": "ipython",
    "version": 3
   },
   "file_extension": ".py",
   "mimetype": "text/x-python",
   "name": "python",
   "nbconvert_exporter": "python",
   "pygments_lexer": "ipython3",
   "version": "3.9.12"
  }
 },
 "nbformat": 4,
 "nbformat_minor": 5
}
