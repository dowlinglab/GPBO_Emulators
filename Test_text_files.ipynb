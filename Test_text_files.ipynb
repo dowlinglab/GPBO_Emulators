{
 "cells": [
  {
   "cell_type": "code",
   "execution_count": 1,
   "id": "9654c63a",
   "metadata": {
    "scrolled": false
   },
   "outputs": [
    {
     "name": "stderr",
     "output_type": "stream",
     "text": [
      "/afs/crc.nd.edu/user/m/mcarlozo/.conda/envs/Toy_Problem_env/lib/python3.9/site-packages/tqdm/auto.py:22: TqdmWarning: IProgress not found. Please update jupyter and ipywidgets. See https://ipywidgets.readthedocs.io/en/stable/user_install.html\n",
      "  from .autonotebook import tqdm as notebook_tqdm\n"
     ]
    },
    {
     "name": "stdout",
     "output_type": "stream",
     "text": [
      "Date and Time:  12-Sep-2022 (15:09:55)\n",
      "Emulator?: True\n",
      "-------------------\n",
      "Objective Function: obj\n",
      "Lengthscale Set To: None\n",
      "Train/Test Separation Factor 0.95\n"
     ]
    },
    {
     "name": "stderr",
     "output_type": "stream",
     "text": [
      "/afs/crc.nd.edu/user/m/mcarlozo/.conda/envs/Toy_Problem_env/lib/python3.9/site-packages/gpytorch/lazy/triangular_lazy_tensor.py:130: UserWarning: torch.triangular_solve is deprecated in favor of torch.linalg.solve_triangularand will be removed in a future PyTorch release.\n",
      "torch.linalg.solve_triangular has its arguments reversed and does not return a copy of one of the inputs.\n",
      "X = torch.triangular_solve(B, A).solution\n",
      "should be replaced with\n",
      "X = torch.linalg.solve_triangular(A, B). (Triggered internally at  ../aten/src/ATen/native/BatchLinearAlgebra.cpp:1672.)\n",
      "  res = torch.triangular_solve(right_tensor, self.evaluate(), upper=self.upper).solution\n"
     ]
    },
    {
     "name": "stdout",
     "output_type": "stream",
     "text": [
      "Train/Test Separation Factor 0.5\n",
      "-  -  -  -  -  -  -  -  -  -  -\n",
      "Emulator?: False\n",
      "-------------------\n",
      "Objective Function: obj\n",
      "Lengthscale Set To: None\n",
      "Train/Test Separation Factor 0.95\n",
      "Train/Test Separation Factor 0.5\n"
     ]
    },
    {
     "name": "stderr",
     "output_type": "stream",
     "text": [
      "/afs/crc.nd.edu/user/m/mcarlozo/.conda/envs/Toy_Problem_env/lib/python3.9/site-packages/numpy/core/shape_base.py:65: FutureWarning: The input object of type 'Tensor' is an array-like implementing one of the corresponding protocols (`__array__`, `__array_interface__` or `__array_struct__`); but not a sequence (or 0-D). In the future, this object will be coerced as if it was first converted using `np.array(obj)`. To retain the old behaviour, you have to either modify the type 'Tensor', or assign to an empty array created with `np.empty(correct_shape, dtype=object)`.\n",
      "  ary = asanyarray(ary)\n",
      "/afs/crc.nd.edu/user/m/mcarlozo/.conda/envs/Toy_Problem_env/lib/python3.9/site-packages/numpy/core/shape_base.py:65: VisibleDeprecationWarning: Creating an ndarray from ragged nested sequences (which is a list-or-tuple of lists-or-tuples-or ndarrays with different lengths or shapes) is deprecated. If you meant to do this, you must specify 'dtype=object' when creating the ndarray.\n",
      "  ary = asanyarray(ary)\n"
     ]
    },
    {
     "name": "stdout",
     "output_type": "stream",
     "text": [
      "-  -  -  -  -  -  -  -  -  -  -\n",
      "Objective Function: LN_obj\n",
      "Lengthscale Set To: None\n",
      "Train/Test Separation Factor 0.95\n",
      "Train/Test Separation Factor 0.5\n"
     ]
    },
    {
     "name": "stderr",
     "output_type": "stream",
     "text": [
      "/afs/crc.nd.edu/user/m/mcarlozo/.conda/envs/Toy_Problem_env/lib/python3.9/site-packages/numpy/core/shape_base.py:65: FutureWarning: The input object of type 'Tensor' is an array-like implementing one of the corresponding protocols (`__array__`, `__array_interface__` or `__array_struct__`); but not a sequence (or 0-D). In the future, this object will be coerced as if it was first converted using `np.array(obj)`. To retain the old behaviour, you have to either modify the type 'Tensor', or assign to an empty array created with `np.empty(correct_shape, dtype=object)`.\n",
      "  ary = asanyarray(ary)\n",
      "/afs/crc.nd.edu/user/m/mcarlozo/.conda/envs/Toy_Problem_env/lib/python3.9/site-packages/numpy/core/shape_base.py:65: VisibleDeprecationWarning: Creating an ndarray from ragged nested sequences (which is a list-or-tuple of lists-or-tuples-or ndarrays with different lengths or shapes) is deprecated. If you meant to do this, you must specify 'dtype=object' when creating the ndarray.\n",
      "  ary = asanyarray(ary)\n"
     ]
    },
    {
     "name": "stdout",
     "output_type": "stream",
     "text": [
      "-  -  -  -  -  -  -  -  -  -  -\n"
     ]
    }
   ],
   "source": [
    "import gpytorch\n",
    "import numpy as np\n",
    "import pandas as pd\n",
    "import torch\n",
    "\n",
    "from bo_functions_GP_Analysis import LSO_LOO_Analysis\n",
    "from datetime import datetime\n",
    "\n",
    "import matplotlib as mpl\n",
    "mpl.rcParams['figure.dpi'] = 300\n",
    "#--------------------------------\n",
    "\n",
    "#Set Date and Time\n",
    "dateTimeObj = datetime.now()\n",
    "timestampStr = dateTimeObj.strftime(\"%d-%b-%Y (%H:%M:%S)\")\n",
    "print(\"Date and Time: \", timestampStr)\n",
    "# DateTime = dateTimeObj.strftime(\"%Y/%m/%d/%H-%M-%S%p\")\n",
    "DateTime = None ##For Testing\n",
    "\n",
    "#Set Parameters\n",
    "# emulator = True\n",
    "emulator = np.array([True, False])\n",
    "# obj = \"obj\"\n",
    "obj = np.array([\"obj\", \"LN_obj\"])\n",
    "save_fig = True\n",
    "verbose = True\n",
    "\n",
    "LOO = False\n",
    "LSO = True\n",
    "\n",
    "Theta_True = np.array([1,-1])\n",
    "train_iter = 300\n",
    "noise_std = 0.1\n",
    "shuffle_seed = 9\n",
    "set_lengthscale = None\n",
    "\n",
    "#Pull Experimental data from CSV\n",
    "exp_data_doc = 'Input_CSVs/Exp_Data/n=5.csv'\n",
    "exp_data = np.array(pd.read_csv(exp_data_doc, header=0,sep=\",\"))\n",
    "Xexp = exp_data[:,1]\n",
    "Yexp = exp_data[:,2]\n",
    "n = len(Xexp)\n",
    "\n",
    "#Define GP Testing space\n",
    "p=20\n",
    "Theta1 =  np.linspace(-2,2,p) #1x10\n",
    "Theta2 =  np.linspace(-2,2,p) #1x10\n",
    "theta_mesh = np.array(np.meshgrid(Theta1, Theta2)) #2 Uniform 5x5 arrays\n",
    "\n",
    "for emul in emulator:\n",
    "    \n",
    "    print(\"Emulator?:\", emul)\n",
    "    print(\"-------------------\")\n",
    "    if emul == True:\n",
    "        len_data = 100\n",
    "        obj_use = np.array([\"obj\"])\n",
    "    else:\n",
    "        obj_use = obj\n",
    "        len_data = 20\n",
    "    for obj_func in obj_use:\n",
    "        print(\"Objective Function:\", obj_func)\n",
    "        print(\"Lengthscale Set To:\", set_lengthscale)\n",
    "        results = LSO_LOO_Analysis(theta_mesh,Theta_True,train_iter, Xexp, Yexp,\n",
    "                                         noise_std, obj_func, emul, set_lengthscale, len_data, verbose, \n",
    "                                         save_fig, shuffle_seed, DateTime, LOO, LSO)\n",
    "        print(\"-  -  -  -  -  -  -  -  -  -  -\")"
   ]
  },
  {
   "cell_type": "code",
   "execution_count": null,
   "id": "4ede0502",
   "metadata": {},
   "outputs": [],
   "source": []
  },
  {
   "cell_type": "code",
   "execution_count": null,
   "id": "4f1d030f",
   "metadata": {},
   "outputs": [],
   "source": []
  }
 ],
 "metadata": {
  "kernelspec": {
   "display_name": "Python 3 (ipykernel)",
   "language": "python",
   "name": "python3"
  },
  "language_info": {
   "codemirror_mode": {
    "name": "ipython",
    "version": 3
   },
   "file_extension": ".py",
   "mimetype": "text/x-python",
   "name": "python",
   "nbconvert_exporter": "python",
   "pygments_lexer": "ipython3",
   "version": "3.9.12"
  }
 },
 "nbformat": 4,
 "nbformat_minor": 5
}
