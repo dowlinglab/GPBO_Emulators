{
 "cells": [
  {
   "cell_type": "code",
   "execution_count": null,
   "id": "9654c63a",
   "metadata": {
    "scrolled": false
   },
   "outputs": [
    {
     "name": "stderr",
     "output_type": "stream",
     "text": [
      "/afs/crc.nd.edu/user/m/mcarlozo/.conda/envs/Toy_Problem_env/lib/python3.9/site-packages/tqdm/auto.py:22: TqdmWarning: IProgress not found. Please update jupyter and ipywidgets. See https://ipywidgets.readthedocs.io/en/stable/user_install.html\n",
      "  from .autonotebook import tqdm as notebook_tqdm\n"
     ]
    },
    {
     "name": "stdout",
     "output_type": "stream",
     "text": [
      "Date and Time:  07-Jul-2022 (14:38:12)\n",
      "Runs: 2\n",
      "BO Iterations: 3\n",
      "-------------------------\n",
      "Emulator?: True\n",
      "Objective Function: obj\n",
      "Lengthscale Set As: None\n",
      "Explore Bias: 0.25\n"
     ]
    },
    {
     "name": "stderr",
     "output_type": "stream",
     "text": [
      "/afs/crc.nd.edu/user/m/mcarlozo/.conda/envs/Toy_Problem_env/lib/python3.9/site-packages/gpytorch/lazy/triangular_lazy_tensor.py:130: UserWarning: torch.triangular_solve is deprecated in favor of torch.linalg.solve_triangularand will be removed in a future PyTorch release.\n",
      "torch.linalg.solve_triangular has its arguments reversed and does not return a copy of one of the inputs.\n",
      "X = torch.triangular_solve(B, A).solution\n",
      "should be replaced with\n",
      "X = torch.linalg.solve_triangular(A, B). (Triggered internally at  ../aten/src/ATen/native/BatchLinearAlgebra.cpp:1672.)\n",
      "  res = torch.triangular_solve(right_tensor, self.evaluate(), upper=self.upper).solution\n"
     ]
    },
    {
     "name": "stdout",
     "output_type": "stream",
     "text": [
      "The GP predicts the lowest SSE of 2.929e+01 occurs at θ = [ 1.76885569 -1.83089659] during Run 2 at BO iteration 3\n",
      "At this point, the highest EI occurs at θ = [ 1.77013696 -1.83159763]\n",
      " \n",
      "\n",
      "Lengthscale Set As: 0.1\n",
      "Explore Bias: 0.25\n",
      "The GP predicts the lowest SSE of 2.502e+01 occurs at θ = [ 1.79966751 -1.74151959] during Run 2 at BO iteration 3\n",
      "At this point, the highest EI occurs at θ = [ 1.79950347 -1.74221914]\n",
      " \n",
      "\n",
      "Objective Function: obj\n",
      "Lengthscale Set As: None\n",
      "Explore Bias: 0.25\n",
      "The GP predicts the lowest SSE of 2.938e+01 occurs at θ = [ 1.77085217 -1.83199462] during Run 2 at BO iteration 1\n",
      "At this point, the highest EI occurs at θ = [-2.          0.94736842]\n",
      " \n",
      "\n",
      "Lengthscale Set As: 0.1\n",
      "Explore Bias: 0.25\n"
     ]
    }
   ],
   "source": [
    "import numpy as np\n",
    "import pandas as pd\n",
    "import torch\n",
    "from bo_functions import bo_iter_w_runs\n",
    "from bo_functions import find_train_doc_path\n",
    "import matplotlib as mpl\n",
    "from datetime import datetime\n",
    "mpl.rcParams['figure.dpi'] = 200\n",
    "\n",
    "#Set Date and Time\n",
    "dateTimeObj = datetime.now()\n",
    "timestampStr = dateTimeObj.strftime(\"%d-%b-%Y (%H:%M:%S)\")\n",
    "print(\"Date and Time: \", timestampStr)\n",
    "# DateTime = dateTimeObj.strftime(\"%Y/%m/%d/%H-%M-%S%p\")\n",
    "DateTime = None ##For Testing\n",
    "\n",
    "#Set Parameters\n",
    "Theta_True = np.array([1,-1])\n",
    "BO_iters = 3\n",
    "runs = 2\n",
    "train_iter = 300\n",
    "noise_std = 0.1\n",
    "shuffle_seed = 6\n",
    "t=4\n",
    "# explore_bias = torch.tensor([0.75])\n",
    "explore_bias = torch.tensor([0, 0.5])\n",
    "set_lengthscale = np.array([None, 0.1])\n",
    "# set_lengthscale = np.array([None, 0.5, 1, 5])\n",
    "\n",
    "# obj = \"obj\"\n",
    "obj = np.array([\"obj\",\"LN_obj\"])\n",
    "# emulator = False\n",
    "emulator = np.array([True,False])\n",
    "# sparse_grid = False\n",
    "sparse_grid = np.array([True,False])\n",
    "\n",
    "verbose = False\n",
    "save_fig = True\n",
    "\n",
    "#Pull Experimental data from CSV\n",
    "exp_data_doc = 'Input_CSVs/Exp_Data/n=5.csv'\n",
    "exp_data = np.array(pd.read_csv(exp_data_doc, header=0,sep=\",\"))\n",
    "Xexp = exp_data[:,1]\n",
    "Yexp = exp_data[:,2]\n",
    "n = len(Xexp)\n",
    "\n",
    "#Define GP Testing space\n",
    "p=20\n",
    "Theta1 =  np.linspace(-2,2,p) #1x10\n",
    "Theta2 =  np.linspace(-2,2,p) #1x10\n",
    "theta_mesh = np.array(np.meshgrid(Theta1, Theta2)) #2 Uniform 5x5 arrays\n",
    "\n",
    "# all_data_doc = find_train_doc_path(emulator, obj)\n",
    "# all_data = np.array(pd.read_csv(all_data_doc, header=0,sep=\",\"))   \n",
    "\n",
    "print(\"Runs:\", runs)\n",
    "print(\"BO Iterations:\",BO_iters)\n",
    "print(\"-------------------------\")\n",
    "for emul in emulator: \n",
    "    print(\"Emulator?:\", emul)\n",
    "    if emul == True:\n",
    "        obj = np.array([\"obj\"])    \n",
    "    else:\n",
    "        sparse_grid == np.array([False])   \n",
    "    \n",
    "    for sparse in sparse_grid:\n",
    "        if sparse == True:\n",
    "            explore_bias = torch.tensor([0.25]) \n",
    "            \n",
    "        for obj_func in obj:\n",
    "            all_data_doc = find_train_doc_path(emul, obj)\n",
    "            all_data = np.array(pd.read_csv(all_data_doc, header=0,sep=\",\"))\n",
    "            print(\"Objective Function:\", obj_func)\n",
    "            \n",
    "            for i in range(len(set_lengthscale)):\n",
    "                for j in range(len(explore_bias)):\n",
    "                    print(\"Lengthscale Set As:\", set_lengthscale[i])\n",
    "                    print(\"Explore Bias:\", str(np.round(float(explore_bias[j]),3)))\n",
    "                    results = bo_iter_w_runs(BO_iters,all_data_doc,t,theta_mesh,Theta_True,train_iter,explore_bias[j], Xexp, Yexp,\n",
    "                                                 noise_std, obj_func, runs, sparse, emul, set_lengthscale[i], verbose, \n",
    "                                                 save_fig, shuffle_seed, DateTime)\n",
    "                    print(\"The GP predicts the lowest SSE of\", \"{:.3e}\".format(np.exp(results[3])), \"occurs at \\u03B8 =\", results[2][0], \n",
    "                              \"during Run\", results[1], \"at BO iteration\", results[0])\n",
    "                    print(\"At this point, the highest EI occurs at \\u03B8 =\", results[4][0])\n",
    "                    print(\" \\n\")"
   ]
  },
  {
   "cell_type": "code",
   "execution_count": null,
   "id": "4ede0502",
   "metadata": {},
   "outputs": [],
   "source": []
  }
 ],
 "metadata": {
  "kernelspec": {
   "display_name": "Python 3 (ipykernel)",
   "language": "python",
   "name": "python3"
  },
  "language_info": {
   "codemirror_mode": {
    "name": "ipython",
    "version": 3
   },
   "file_extension": ".py",
   "mimetype": "text/x-python",
   "name": "python",
   "nbconvert_exporter": "python",
   "pygments_lexer": "ipython3",
   "version": "3.9.12"
  }
 },
 "nbformat": 4,
 "nbformat_minor": 5
}
