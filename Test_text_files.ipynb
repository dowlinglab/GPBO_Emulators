{
 "cells": [
  {
   "cell_type": "code",
   "execution_count": 2,
   "id": "9654c63a",
   "metadata": {},
   "outputs": [
    {
     "name": "stdout",
     "output_type": "stream",
     "text": [
      "Runs: 5\n",
      "BO Iterations: 5\n",
      "-------------------------\n",
      "Lengthscale Set As: None\n",
      "Explore Bias: 0.75\n",
      "The GP predicts the lowest SSE of 1.107e-03 occurs at θ = [ 1.00426117 -1.00241547] during Run 3 at BO iteration 5\n",
      " \n",
      "\n"
     ]
    }
   ],
   "source": [
    "import numpy as np\n",
    "import pandas as pd\n",
    "import torch\n",
    "from bo_functions import bo_iter_w_runs\n",
    "import matplotlib as mpl\n",
    "mpl.rcParams['figure.dpi'] = 200\n",
    "\n",
    "#Set Parameters\n",
    "Theta_True = np.array([1,-1])\n",
    "BO_iters = 5\n",
    "runs = 5\n",
    "train_iter = 300\n",
    "noise_std = 0.1\n",
    "shuffle_seed = 6\n",
    "t=4\n",
    "explore_bias = torch.tensor([0.75])\n",
    "set_lengthscale = np.array([None])\n",
    "\n",
    "obj = \"LN_obj\"\n",
    "emulator = False\n",
    "verbose = False\n",
    "save_fig=True\n",
    "# sparse_grid = True\n",
    "sparse_grid = False\n",
    "\n",
    "#Pull Experimental data from CSV\n",
    "exp_data_doc = 'Input_CSVs/Exp_Data/n=5.csv'\n",
    "exp_data = np.array(pd.read_csv(exp_data_doc, header=0,sep=\",\"))\n",
    "Xexp = exp_data[:,1]\n",
    "Yexp = exp_data[:,2]\n",
    "n = len(Xexp)\n",
    "\n",
    "#Define GP Testing space\n",
    "p=20\n",
    "Theta1 =  np.linspace(-2,2,p) #1x10\n",
    "Theta2 =  np.linspace(-2,2,p) #1x10\n",
    "theta_mesh = np.array(np.meshgrid(Theta1, Theta2)) #2 Uniform 5x5 arrays\n",
    "\n",
    "if obj == \"obj\":\n",
    "    all_data_doc = \"Input_CSVs/Train_Data/all_2_data/t=25.csv\"   \n",
    "else:\n",
    "    all_data_doc = \"Input_CSVs/Train_Data/all_2_ln_obj_data/t=25.csv\"\n",
    "    \n",
    "all_data = np.array(pd.read_csv(all_data_doc, header=0,sep=\",\"))   \n",
    "\n",
    "print(\"Runs:\", runs)\n",
    "print(\"BO Iterations:\",BO_iters)\n",
    "print(\"-------------------------\")\n",
    "for i in range(len(set_lengthscale)):\n",
    "    for j in range(len(explore_bias)):\n",
    "        print(\"Lengthscale Set As:\", set_lengthscale[i])\n",
    "        print(\"Explore Bias:\", str(np.round(float(explore_bias[j]),3)))\n",
    "        results = bo_iter_w_runs(BO_iters,all_data_doc,t,theta_mesh,Theta_True,train_iter,explore_bias[j], Xexp, Yexp,\n",
    "                                     noise_std, obj, runs, sparse_grid, emulator, set_lengthscale[i], verbose, \n",
    "                                     save_fig, shuffle_seed)\n",
    "        print(\"The GP predicts the lowest SSE of\", \"{:.3e}\".format(np.exp(results[3])), \"occurs at \\u03B8 =\", results[2][0], \n",
    "                  \"during Run\", results[1], \"at BO iteration\", results[0])\n",
    "        print(\" \\n\")"
   ]
  },
  {
   "cell_type": "code",
   "execution_count": null,
   "id": "4ede0502",
   "metadata": {},
   "outputs": [],
   "source": []
  }
 ],
 "metadata": {
  "kernelspec": {
   "display_name": "Python 3 (ipykernel)",
   "language": "python",
   "name": "python3"
  },
  "language_info": {
   "codemirror_mode": {
    "name": "ipython",
    "version": 3
   },
   "file_extension": ".py",
   "mimetype": "text/x-python",
   "name": "python",
   "nbconvert_exporter": "python",
   "pygments_lexer": "ipython3",
   "version": "3.9.12"
  }
 },
 "nbformat": 4,
 "nbformat_minor": 5
}
