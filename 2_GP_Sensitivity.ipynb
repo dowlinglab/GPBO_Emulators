{
 "cells": [
  {
   "cell_type": "code",
   "execution_count": 1,
   "id": "faa1bbe1",
   "metadata": {},
   "outputs": [],
   "source": [
    "import torch\n",
    "import gpytorch\n",
    "import numpy as np\n",
    "import pandas as pd\n",
    "import scipy.optimize as optimize\n",
    "\n",
    "\n",
    "from bo_functions import ExactGPModel\n",
    "from bo_functions import test_train_split\n",
    "from bo_functions import bo_iter\n",
    "from bo_functions import bo_iter_w_restarts"
   ]
  },
  {
   "cell_type": "code",
   "execution_count": 2,
   "id": "36cb54d6",
   "metadata": {},
   "outputs": [],
   "source": [
    "#Set Parameters\n",
    "Theta_True = np.array([1,-1])\n",
    "BO_iters = 15\n",
    "restarts = 10\n",
    "train_iter = 300\n",
    "\n",
    "emulator = False\n",
    "sparse_grid = False\n",
    "verbose = False\n",
    "\n",
    "shuffle_seed = 6\n",
    "t=4\n",
    "noise_std = 0.1\n",
    "# verbose= False\n",
    "\n",
    "train_iter = 300\n",
    "explore_bias = torch.tensor([0,0.1,0.5])\n",
    "\n",
    "#Pull Experimental data from CSV\n",
    "exp_data_doc = \"exp_data.csv\"\n",
    "exp_data = np.array(pd.read_csv(exp_data_doc, header=0,sep=\",\"))\n",
    "Xexp = exp_data[:,1]\n",
    "Yexp = exp_data[:,2]\n",
    "n = len(Xexp)\n",
    "\n",
    "#Define GP Testing space\n",
    "p=20\n",
    "Theta1 =  np.linspace(0.5,1.5,p) #1x10\n",
    "Theta2 =  np.linspace(-1.5,-0.5,p) #1x10\n",
    "Theta1 =  np.linspace(-2,2,p) #1x10\n",
    "Theta2 =  np.linspace(-2,2,p) #1x10\n",
    "theta_mesh = np.array(np.meshgrid(Theta1, Theta2)) #2 Uniform 5x5 arrays\n",
    "theta1_mesh = theta_mesh[0]\n",
    "theta2_mesh = theta_mesh[1]\n",
    "\n",
    "# shape = theta_mesh.shape\n",
    "# for i in range(len(shape)):\n",
    "#     print(theta_mesh.shape[i])"
   ]
  },
  {
   "cell_type": "code",
   "execution_count": null,
   "id": "659a0a59",
   "metadata": {},
   "outputs": [
    {
     "name": "stdout",
     "output_type": "stream",
     "text": [
      "Explore Bias: tensor(0.)\n",
      "Restart Number:  1\n"
     ]
    },
    {
     "data": {
      "image/png": "[encoded data removed]",
      "text/plain": [
       "<Figure size 432x288 with 1 Axes>"
      ]
     },
     "metadata": {
      "needs_background": "light"
     },
     "output_type": "display_data"
    },
    {
     "name": "stderr",
     "output_type": "stream",
     "text": [
      "/afs/crc.nd.edu/user/m/mcarlozo/.conda/envs/Toy_Problem_env/lib/python3.9/site-packages/gpytorch/lazy/triangular_lazy_tensor.py:130: UserWarning: torch.triangular_solve is deprecated in favor of torch.linalg.solve_triangularand will be removed in a future PyTorch release.\n",
      "torch.linalg.solve_triangular has its arguments reversed and does not return a copy of one of the inputs.\n",
      "X = torch.triangular_solve(B, A).solution\n",
      "should be replaced with\n",
      "X = torch.linalg.solve_triangular(A, B). (Triggered internally at  ../aten/src/ATen/native/BatchLinearAlgebra.cpp:1672.)\n",
      "  res = torch.triangular_solve(right_tensor, self.evaluate(), upper=self.upper).solution\n"
     ]
    }
   ],
   "source": [
    "save_fig=False\n",
    "obj = \"LN_obj\"\n",
    "\n",
    "all_data_doc = \"all_2_ln_obj_data.csv\"\n",
    "all_data = np.array(pd.read_csv(all_data_doc, header=0,sep=\",\"))   \n",
    "\n",
    "for i in range(len(explore_bias)):\n",
    "    print(\"Explore Bias:\", explore_bias[i])\n",
    "    results = bo_iter_w_restarts(BO_iters,all_data_doc,t,theta_mesh,Theta_True,train_iter,explore_bias[i], Xexp, Yexp,\n",
    "                                 noise_std, obj, restarts, sparse_grid, emulator, verbose,save_fig, shuffle_seed)\n",
    "    print(\"The GP predicts that the lowest SSE of\", \"{:.3e}\".format(results[2]), \"occurs at \\u03B8 =\", results[1], \"during restart\", results[0])"
   ]
  },
  {
   "cell_type": "code",
   "execution_count": null,
   "id": "c939eac0",
   "metadata": {},
   "outputs": [],
   "source": [
    "save_fig=False\n",
    "obj = \"obj\"\n",
    "\n",
    "all_data_doc = \"all_2_data.csv\"\n",
    "all_data = np.array(pd.read_csv(all_data_doc, header=0,sep=\",\"))   \n",
    "\n",
    "for i in range(len(explore_bias)):\n",
    "    print(\"Explore Bias:\", explore_bias[i])\n",
    "    results = bo_iter_w_restarts(BO_iters,all_data_doc,t,theta_mesh,Theta_True,train_iter,explore_bias[i], Xexp, Yexp,\n",
    "                                 noise_std, obj, restarts, sparse_grid, emulator, verbose,save_fig, shuffle_seed)\n",
    "    print(\"The GP predicts that the lowest SSE of\", \"{:.3e}\".format(results[2]), \"occurs at \\u03B8 =\", results[1], \"during restart\", results[0])"
   ]
  },
  {
   "cell_type": "code",
   "execution_count": null,
   "id": "bf69d4f5",
   "metadata": {},
   "outputs": [],
   "source": [
    "##Objective function = ln(SSE)\n",
    "##USING SCIPY METHOD\n",
    "##Uses 4 LHS points\n",
    "q = 2\n",
    "save_fig=False\n",
    "obj = \"LN_obj\"\n",
    "restarts = 0\n",
    "\n",
    "#Pull training data from CSV\n",
    "#Separate training and testing data, uses default of an 80%/20% split\n",
    "all_data_doc = \"all_2_ln_obj_data.csv\"\n",
    "all_data = np.array(pd.read_csv(all_data_doc, header=0,sep=\",\"))\n",
    "train_data, test_data = test_train_split(all_data, shuffle_seed=shuffle_seed)\n",
    "train_T = train_data[:,1:(q+1)]\n",
    "train_ln_sse = train_data[:,-1]\n",
    "t = 4 #Just use last 4 points\n",
    "train_T = train_T[0:t]\n",
    "train_ln_sse = train_ln_sse[0:t]\n",
    "\n",
    "likelihood = gpytorch.likelihoods.GaussianLikelihood()\n",
    "model = ExactGPModel(train_T, train_ln_sse, likelihood)\n",
    "\n",
    "\n",
    "for i in range(len(explore_bias)):\n",
    "    print(\"Explore Bias:\", explore_bias[i])\n",
    "    BO_Results = bo_iter(BO_iters,train_T,train_ln_sse,theta_mesh,Theta_True,train_iter,explore_bias[i], Xexp, Yexp, \n",
    "                         noise_std, obj, restarts, sparse_grid, emulator, verbose = verbose,save_fig=save_fig)\n",
    "    if verbose == True:\n",
    "        print(\"Exploration Parameter:\",explore_bias[i] )\n",
    "        print(\"Best_GP_Theta \\n\",BO_Results[0])\n",
    "        print(\"\\n Optimal_GP_Theta \\n\",BO_Results[1])\n",
    "        print(\"\\n Total SSE \\n\", BO_Results[2], \"\\n\")"
   ]
  },
  {
   "cell_type": "code",
   "execution_count": null,
   "id": "ced95995",
   "metadata": {},
   "outputs": [],
   "source": [
    "##Objective function = SSE\n",
    "##USING SCIPY METHOD\n",
    "##Uses 4 LHS Training points\n",
    "shuffle_seed = 6\n",
    "obj = \"obj\"\n",
    "save_fig=False\n",
    "restarts = 0\n",
    "\n",
    "#Set 4 Point Training data, Model, and Likelihood\n",
    "#Pull training data from CSV\n",
    "#Separate training and testing data, uses default of an 80%/20% split\n",
    "all_data_doc = \"all_2_data.csv\"\n",
    "all_data = np.array(pd.read_csv(all_data_doc, header=0,sep=\",\"))\n",
    "train_data, test_data = test_train_split(all_data, shuffle_seed=shuffle_seed)\n",
    "train_T = train_data[:,1:(q+1)]\n",
    "train_sse = train_data[:,-1]\n",
    "t = 4 #Just use last 4 points\n",
    "train_T = train_T[0:t]\n",
    "train_sse = train_sse[0:t]\n",
    "\n",
    "likelihood = gpytorch.likelihoods.GaussianLikelihood()\n",
    "model = ExactGPModel(train_T, train_sse, likelihood)\n",
    "\n",
    "for i in range(len(explore_bias)):\n",
    "    print(\"Explore Bias:\", explore_bias[i])\n",
    "    BO_Results = bo_iter(BO_iters,train_T,train_sse,theta_mesh,Theta_True,train_iter,explore_bias[i], Xexp, Yexp, \n",
    "                         noise_std, obj, restarts, sparse_grid, emulator, verbose = verbose,save_fig=save_fig)\n",
    "    if verbose == True:\n",
    "        print(\"Exploration Parameter:\",explore_bias[i] )\n",
    "        print(\"Best_GP_Theta \\n\",BO_Results[0])\n",
    "        print(\"\\n Optimal_GP_Theta \\n\",BO_Results[1])\n",
    "        print(\"\\n Total SSE \\n\", BO_Results[2], \"\\n\")"
   ]
  },
  {
   "cell_type": "code",
   "execution_count": null,
   "id": "f4bdff16",
   "metadata": {},
   "outputs": [],
   "source": [
    "##Objective function = ln(SSE)\n",
    "##USING SCIPY METHOD\n",
    "##Uses 20 LHS points\n",
    "\n",
    "save_fig=False\n",
    "obj = \"LN_obj\"\n",
    "restarts = 0\n",
    "\n",
    "#Pull training data from CSV\n",
    "#Separate training and testing data, uses default of an 80%/20% split\n",
    "all_data_doc = \"all_2_ln_obj_data.csv\"\n",
    "all_data = np.array(pd.read_csv(all_data_doc, header=0,sep=\",\"))\n",
    "train_data, test_data = test_train_split(all_data, shuffle_seed=shuffle_seed)\n",
    "train_T = train_data[:,1:(q+1)]\n",
    "train_ln_sse = train_data[:,-1]\n",
    "\n",
    "likelihood = gpytorch.likelihoods.GaussianLikelihood()\n",
    "model = ExactGPModel(train_T, train_ln_sse, likelihood)\n",
    "\n",
    "for i in range(len(explore_bias)):\n",
    "    print(\"Explore Bias:\", explore_bias[i])\n",
    "    BO_Results = bo_iter(BO_iters,train_T,train_ln_sse,theta_mesh,Theta_True,train_iter,explore_bias[i], Xexp, Yexp, \n",
    "                         noise_std, obj, restarts, sparse_grid, emulator, verbose = verbose,save_fig=save_fig)\n",
    "    if verbose == True:\n",
    "        print(\"Exploration Parameter:\",explore_bias[i] )\n",
    "        print(\"Best_GP_Theta \\n\",BO_Results[0])\n",
    "        print(\"\\n Optimal_GP_Theta \\n\",BO_Results[1])\n",
    "        print(\"\\n Total SSE \\n\", BO_Results[2], \"\\n\")"
   ]
  },
  {
   "cell_type": "code",
   "execution_count": null,
   "id": "2f8f0275",
   "metadata": {},
   "outputs": [],
   "source": [
    "##Objective function = SSE\n",
    "##USING SCIPY METHOD\n",
    "##Uses 20 LHS Training points\n",
    "save_fig=False\n",
    "obj = \"obj\"\n",
    "restarts = 0\n",
    "\n",
    "#Set 20 Point Training data, Model, and Likelihood\n",
    "#Pull training data from CSV\n",
    "#Separate training and testing data, uses default of an 80%/20% split\n",
    "all_data_doc = \"all_2_data.csv\"\n",
    "all_data = np.array(pd.read_csv(all_data_doc, header=0,sep=\",\"))\n",
    "train_data, test_data = test_train_split(all_data, shuffle_seed=shuffle_seed)\n",
    "train_T = train_data[:,1:(q+1)]\n",
    "train_sse = train_data[:,-1]\n",
    "\n",
    "likelihood = gpytorch.likelihoods.GaussianLikelihood()\n",
    "model = ExactGPModel(train_T, train_sse, likelihood)\n",
    "\n",
    "for i in range(len(explore_bias)):\n",
    "    print(\"Explore Bias:\", explore_bias[i])\n",
    "    BO_Results = bo_iter(BO_iters,train_T,train_sse,theta_mesh,Theta_True,train_iter,explore_bias[i], Xexp, Yexp, \n",
    "                         noise_std, obj, restarts, sparse_grid, emulator, verbose = verbose,save_fig=save_fig)\n",
    "    if verbose == True:\n",
    "        print(\"Exploration Parameter:\",explore_bias[i] )\n",
    "        print(\"Best_GP_Theta \\n\",BO_Results[0])\n",
    "        print(\"\\n Optimal_GP_Theta \\n\",BO_Results[1])\n",
    "        print(\"\\n Total SSE \\n\", BO_Results[2], \"\\n\")"
   ]
  },
  {
   "cell_type": "code",
   "execution_count": null,
   "id": "726dec64",
   "metadata": {},
   "outputs": [],
   "source": []
  }
 ],
 "metadata": {
  "kernelspec": {
   "display_name": "Python 3 (ipykernel)",
   "language": "python",
   "name": "python3"
  },
  "language_info": {
   "codemirror_mode": {
    "name": "ipython",
    "version": 3
   },
   "file_extension": ".py",
   "mimetype": "text/x-python",
   "name": "python",
   "nbconvert_exporter": "python",
   "pygments_lexer": "ipython3",
   "version": "3.9.12"
  }
 },
 "nbformat": 4,
 "nbformat_minor": 5
}
