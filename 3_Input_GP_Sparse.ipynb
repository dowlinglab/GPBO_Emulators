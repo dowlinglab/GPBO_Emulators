{
 "cells": [
  {
   "cell_type": "code",
   "execution_count": 1,
   "id": "faa1bbe1",
   "metadata": {},
   "outputs": [
    {
     "name": "stderr",
     "output_type": "stream",
     "text": [
      "/afs/crc.nd.edu/user/m/mcarlozo/.conda/envs/Toy_Problem_env/lib/python3.9/site-packages/tqdm/auto.py:22: TqdmWarning: IProgress not found. Please update jupyter and ipywidgets. See https://ipywidgets.readthedocs.io/en/stable/user_install.html\n",
      "  from .autonotebook import tqdm as notebook_tqdm\n"
     ]
    }
   ],
   "source": [
    "import gpytorch\n",
    "import numpy as np\n",
    "import pandas as pd\n",
    "import torch\n",
    "\n",
    "from bo_functions import ExactGPModel\n",
    "from bo_functions import create_y_data\n",
    "from bo_functions import bo_iter\n",
    "from bo_functions import test_train_split\n",
    "from bo_functions import bo_iter_w_runs\n",
    "from bo_functions import find_train_doc_path\n",
    "from datetime import datetime\n",
    "\n",
    "import matplotlib as mpl\n",
    "mpl.rcParams['figure.dpi'] = 200"
   ]
  },
  {
   "cell_type": "code",
   "execution_count": 2,
   "id": "2934c54a",
   "metadata": {},
   "outputs": [
    {
     "name": "stdout",
     "output_type": "stream",
     "text": [
      "Date and Time:  28-Jul-2022 (16:54:22)\n"
     ]
    }
   ],
   "source": [
    "#Set Date and Time\n",
    "dateTimeObj = datetime.now()\n",
    "timestampStr = dateTimeObj.strftime(\"%d-%b-%Y (%H:%M:%S)\")\n",
    "print(\"Date and Time: \", timestampStr)\n",
    "# DateTime = dateTimeObj.strftime(\"%Y/%m/%d/%H-%M-%S%p\")\n",
    "DateTime = None ##For Testing\n",
    "\n",
    "#Set Parameters\n",
    "Theta_True = np.array([1,-1])\n",
    "BO_iters = 3\n",
    "train_iter = 300\n",
    "noise_std = 0.1\n",
    "runs = 2\n",
    "explore_bias = torch.tensor([0.75])\n",
    "shuffle_seed = 9\n",
    "set_lengthscale = np.array([None])\n",
    "t= 100\n",
    "emulator = True\n",
    "sparse_grid = True\n",
    "verbose = False\n",
    "save_fig=True\n",
    "\n",
    "#Pull Experimental data from CSV\n",
    "exp_data_doc = 'Input_CSVs/Exp_Data/n=5.csv'\n",
    "exp_data = np.array(pd.read_csv(exp_data_doc, header=0,sep=\",\"))\n",
    "Xexp = exp_data[:,1]\n",
    "Yexp = exp_data[:,2]\n",
    "n = len(Xexp)\n",
    "\n",
    "#Define GP Testing space\n",
    "p=20\n",
    "Theta1 =  np.linspace(-2,2,p) #1x10\n",
    "Theta2 =  np.linspace(-2,2,p) #1x10\n",
    "theta_mesh = np.array(np.meshgrid(Theta1, Theta2)) #2 Uniform 5x5 arrays"
   ]
  },
  {
   "cell_type": "code",
   "execution_count": 3,
   "id": "c00c6a6a",
   "metadata": {
    "scrolled": false
   },
   "outputs": [
    {
     "name": "stdout",
     "output_type": "stream",
     "text": [
      "Runs: 2\n",
      "BO Iters: 3\n",
      "Number of Separation Factors Tested: 4\n",
      "----------------------------------------------------\n",
      "Separation Factor Train/Test: 0.5\n",
      "Lengthscale Set To: [None]\n",
      "Initial Explore Bias: 0.75\n"
     ]
    },
    {
     "name": "stderr",
     "output_type": "stream",
     "text": [
      "/afs/crc.nd.edu/user/m/mcarlozo/.conda/envs/Toy_Problem_env/lib/python3.9/site-packages/gpytorch/lazy/triangular_lazy_tensor.py:130: UserWarning: torch.triangular_solve is deprecated in favor of torch.linalg.solve_triangularand will be removed in a future PyTorch release.\n",
      "torch.linalg.solve_triangular has its arguments reversed and does not return a copy of one of the inputs.\n",
      "X = torch.triangular_solve(B, A).solution\n",
      "should be replaced with\n",
      "X = torch.linalg.solve_triangular(A, B). (Triggered internally at  ../aten/src/ATen/native/BatchLinearAlgebra.cpp:1672.)\n",
      "  res = torch.triangular_solve(right_tensor, self.evaluate(), upper=self.upper).solution\n"
     ]
    },
    {
     "name": "stdout",
     "output_type": "stream",
     "text": [
      "The GP predicts the lowest SSE of 6.285e-02 occurs at θ = [ 0.95206211 -1.03980998] during run 1 at BO iteration 3\n",
      "At this point, the highest EI occurs at θ = [ 0.91377328 -1.02229358]\n",
      "\n",
      "\n",
      "Separation Factor Train/Test: 0.6633333333333333\n",
      "Lengthscale Set To: [None]\n",
      "Initial Explore Bias: 0.75\n",
      "The GP predicts the lowest SSE of 1.030e-01 occurs at θ = [ 0.91202051 -0.97091138] during run 1 at BO iteration 3\n",
      "At this point, the highest EI occurs at θ = [ 0.9180631  -1.15780378]\n",
      "\n",
      "\n",
      "Separation Factor Train/Test: 0.8266666666666667\n",
      "Lengthscale Set To: [None]\n",
      "Initial Explore Bias: 0.75\n",
      "The GP predicts the lowest SSE of 1.034e-01 occurs at θ = [ 0.89252891 -1.00027806] during run 1 at BO iteration 3\n",
      "At this point, the highest EI occurs at θ = [-1.78947368 -2.        ]\n",
      "\n",
      "\n",
      "Separation Factor Train/Test: 0.99\n",
      "Lengthscale Set To: [None]\n",
      "Initial Explore Bias: 0.75\n",
      "The GP predicts the lowest SSE of 2.550e-02 occurs at θ = [ 0.95768277 -0.98435236] during run 2 at BO iteration 3\n",
      "At this point, the highest EI occurs at θ = [ 0.95645666 -0.98369596]\n",
      "\n",
      "\n",
      "CPU times: user 4min 29s, sys: 858 ms, total: 4min 30s\n",
      "Wall time: 4min 32s\n"
     ]
    }
   ],
   "source": [
    "%%time\n",
    "obj = \"obj\"\n",
    "\n",
    "all_data_doc = find_train_doc_path(emulator, obj, t)\n",
    "all_data = np.array(pd.read_csv(all_data_doc, header=0,sep=\",\")) \n",
    "\n",
    "sep_fact = np.linspace(0.5,0.99,4)\n",
    "# sep_fact = 0.8\n",
    "\n",
    "print(\"Runs:\", runs)\n",
    "print(\"BO Iters:\", BO_iters)\n",
    "print(\"Number of Separation Factors Tested:\", len(sep_fact))\n",
    "print(\"----------------------------------------------------\")\n",
    "for i in range(len(sep_fact)):\n",
    "    print(\"Separation Factor Train/Test:\", str(np.round(sep_fact[i],3))\n",
    "    print(\"Lengthscale Set To:\", set_lengthscale)\n",
    "    print(\"Initial Explore Bias:\", str(np.round(float(explore_bias[0]),3)))\n",
    "    results = bo_iter_w_runs(BO_iters,all_data_doc,t,theta_mesh,Theta_True,train_iter,explore_bias[0], Xexp, Yexp,\n",
    "                                 noise_std, obj, runs, sparse_grid, emulator, set_lengthscale[0], verbose, \n",
    "                                 save_fig, shuffle_seed, DateTime, sep_fact = sep_fact[i])\n",
    "    print(\"The GP predicts the lowest SSE of\", \"{:.3e}\".format(np.exp(results[3])), \"occurs at \\u03B8 =\", results[2][0], \n",
    "              \"during run\", results[1], \"at BO iteration\", results[0])\n",
    "    print(\"At this point, the highest EI occurs at \\u03B8 =\", results[4][0])\n",
    "    print(\"\\n\")"
   ]
  },
  {
   "cell_type": "raw",
   "id": "e8d5c2a8",
   "metadata": {},
   "source": [
    "#Create training and test data\n",
    "##Objective function = SSE\n",
    "##USING SCIPY METHOD\n",
    "##Uses 20 LHS Training points\n",
    "save_fig=False\n",
    "obj = \"obj\"\n",
    "restarts = 0\n",
    "\n",
    "#Set 20 Point Training data, Model, and Likelihood\n",
    "#Pull training data from CSV\n",
    "#Separate training and testing data, uses default of an 80%/20% split\n",
    "all_data_doc = \"CSVs/Train_Data/all_3_data/t=25.csv\"\n",
    "all_data = np.array(pd.read_csv(all_data_doc, header=0,sep=\",\"))\n",
    "train_data, test_data = test_train_split(all_data, shuffle_seed=shuffle_seed)\n",
    "train_p = train_data[:,1:(len(Theta_True)+Xexp[0].size+1)]\n",
    "train_y = train_data[:,-1]\n",
    "\n",
    "likelihood = gpytorch.likelihoods.GaussianLikelihood()\n",
    "model = ExactGPModel(train_p, train_y, likelihood)\n",
    "\n",
    "for i in range(len(explore_bias)):\n",
    "    print(\"Explore Bias:\", explore_bias[i])\n",
    "    BO_Results = bo_iter(BO_iters,train_p,train_y,theta_mesh,Theta_True,train_iter,explore_bias[i], Xexp, Yexp, noise_std, \n",
    "                         obj, restarts, sparse_grid, emulator, verbose = verbose,save_fig=save_fig)\n",
    "    if verbose == True:\n",
    "        print(\"Exploration Parameter:\",explore_bias[i] )\n",
    "        print(\"Best_GP_Theta \\n\",BO_Results[0])\n",
    "        print(\"\\n Optimal_GP_Theta \\n\",BO_Results[1])\n",
    "        print(\"\\n Total SSE \\n\", BO_Results[2], \"\\n\")"
   ]
  }
 ],
 "metadata": {
  "kernelspec": {
   "display_name": "Python 3 (ipykernel)",
   "language": "python",
   "name": "python3"
  },
  "language_info": {
   "codemirror_mode": {
    "name": "ipython",
    "version": 3
   },
   "file_extension": ".py",
   "mimetype": "text/x-python",
   "name": "python",
   "nbconvert_exporter": "python",
   "pygments_lexer": "ipython3",
   "version": "3.9.12"
  }
 },
 "nbformat": 4,
 "nbformat_minor": 5
}
