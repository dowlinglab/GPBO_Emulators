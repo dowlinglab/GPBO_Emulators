{
 "cells": [
  {
   "cell_type": "code",
   "execution_count": 1,
   "id": "6bff03ae",
   "metadata": {},
   "outputs": [
    {
     "name": "stderr",
     "output_type": "stream",
     "text": [
      "/afs/crc.nd.edu/user/m/mcarlozo/.conda/envs/Toy_Problem_env/lib/python3.9/site-packages/tqdm/auto.py:21: TqdmWarning: IProgress not found. Please update jupyter and ipywidgets. See https://ipywidgets.readthedocs.io/en/stable/user_install.html\n",
      "  from .autonotebook import tqdm as notebook_tqdm\n",
      "2024-08-07 17:19:22.649637: E external/local_xla/xla/stream_executor/cuda/cuda_dnn.cc:9261] Unable to register cuDNN factory: Attempting to register factory for plugin cuDNN when one has already been registered\n",
      "2024-08-07 17:19:22.649705: E external/local_xla/xla/stream_executor/cuda/cuda_fft.cc:607] Unable to register cuFFT factory: Attempting to register factory for plugin cuFFT when one has already been registered\n",
      "2024-08-07 17:19:22.651591: E external/local_xla/xla/stream_executor/cuda/cuda_blas.cc:1515] Unable to register cuBLAS factory: Attempting to register factory for plugin cuBLAS when one has already been registered\n",
      "2024-08-07 17:19:22.661070: I tensorflow/core/platform/cpu_feature_guard.cc:182] This TensorFlow binary is optimized to use available CPU instructions in performance-critical operations.\n",
      "To enable the following instructions: AVX2 FMA, in other operations, rebuild TensorFlow with the appropriate compiler flags.\n",
      "2024-08-07 17:19:23.782629: W tensorflow/compiler/tf2tensorrt/utils/py_utils.cc:38] TF-TRT Warning: Could not find TensorRT\n"
     ]
    }
   ],
   "source": [
    "import sys\n",
    "import gpytorch\n",
    "import numpy as np\n",
    "import pandas as pd\n",
    "import torch\n",
    "from datetime import datetime\n",
    "from scipy.stats import qmc\n",
    "import itertools\n",
    "from itertools import combinations_with_replacement, combinations, permutations\n",
    "import copy\n",
    "\n",
    "import bo_methods_lib\n",
    "# from bo_methods_lib.bo_methods_lib.bo_functions_generic import gen_theta_set, clean_1D_arrays\n",
    "from bo_methods_lib.bo_methods_lib.GPBO_Classes_New import * #Fix this later\n",
    "from bo_methods_lib.bo_methods_lib.GPBO_Class_fxns import * #Fix this later\n",
    "from bo_methods_lib.bo_methods_lib.analyze_data import * #Fix this later\n",
    "from bo_methods_lib.bo_methods_lib.GPBO_Classes_plotters import * #Fix this later\n",
    "import pympler\n",
    "import pickle\n",
    "\n",
    "from pympler import asizeof\n",
    "import gpflow\n",
    "import tensorflow_probability as tfp\n",
    "\n",
    "from matplotlib import pyplot as plt"
   ]
  },
  {
   "cell_type": "code",
   "execution_count": null,
   "id": "4262008b",
   "metadata": {},
   "outputs": [],
   "source": [
    "#Set Parameters\n",
    "cs_name_val = 1\n",
    "ep0 = 1 #Set initial ep as an even mix between exploration and exploitation\n",
    "ep_enum_val = 1\n",
    "meth_name_val = 8\n",
    "sep_fact = 1.0\n",
    "gen_heat_map_data = True\n",
    "normalize = True\n",
    "noise_mean = 0\n",
    "noise_std = None\n",
    "kernel_enum_val = 1\n",
    "lenscl = None #list([0.136113749, 221.573761, 830.968019, 1.67917241, 0.3, 0.2])\n",
    "outputscl = None\n",
    "retrain_GP = 1\n",
    "reoptimize_obj = 1\n",
    "bo_iter_tot = 1\n",
    "bo_run_total = 1\n",
    "runs_per_job_max = 5\n",
    "bo_runs_in_job = 5\n",
    "save_data = False\n",
    "ei_tol = 1e-7\n",
    "obj_tol = 1e-7\n",
    "num_x_data = 5\n",
    "gen_meth_theta = 1 \n",
    "gen_meth_x = 2\n",
    "gen_meth_theta_val = 2\n",
    "num_val_pts = 0\n",
    "num_theta_multiplier = 10#How many simulation data points to generate is equal to num_theta_multiplier*number of parameters\n",
    "seed = 1"
   ]
  },
  {
   "cell_type": "code",
   "execution_count": 3,
   "id": "2f03c1c7",
   "metadata": {},
   "outputs": [
    {
     "name": "stdout",
     "output_type": "stream",
     "text": [
      "(2000, 5) (5,)\n"
     ]
    },
    {
     "ename": "ValueError",
     "evalue": "operands could not be broadcast together with shapes (1,5) (5,2000) ",
     "output_type": "error",
     "traceback": [
      "\u001b[0;31m---------------------------------------------------------------------------\u001b[0m",
      "\u001b[0;31mValueError\u001b[0m                                Traceback (most recent call last)",
      "Input \u001b[0;32mIn [3]\u001b[0m, in \u001b[0;36m<cell line: 63>\u001b[0;34m()\u001b[0m\n\u001b[1;32m     61\u001b[0m driver \u001b[38;5;241m=\u001b[39m GPBO_Driver(cs_params, method, simulator, exp_data, sim_data, sim_sse_data, val_data, val_sse_data, \u001b[38;5;28;01mNone\u001b[39;00m, ep_bias, gen_meth_theta)\n\u001b[1;32m     62\u001b[0m \u001b[38;5;66;03m#Get results\u001b[39;00m\n\u001b[0;32m---> 63\u001b[0m restart_bo_results, gp_stuff \u001b[38;5;241m=\u001b[39m \u001b[43mdriver\u001b[49m\u001b[38;5;241;43m.\u001b[39;49m\u001b[43mrun_bo_restarts\u001b[49m\u001b[43m(\u001b[49m\u001b[43m)\u001b[49m\n",
      "File \u001b[0;32m/scratch365/mcarlozo/Toy_Problem/bo_methods_lib/bo_methods_lib/GPBO_Classes_New.py:4741\u001b[0m, in \u001b[0;36mGPBO_Driver.run_bo_restarts\u001b[0;34m(self)\u001b[0m\n\u001b[1;32m   4718\u001b[0m configuration \u001b[38;5;241m=\u001b[39m {\u001b[38;5;124m\"\u001b[39m\u001b[38;5;124mDateTime String\u001b[39m\u001b[38;5;124m\"\u001b[39m : \u001b[38;5;28mself\u001b[39m\u001b[38;5;241m.\u001b[39mcs_params\u001b[38;5;241m.\u001b[39mDateTime,\n\u001b[1;32m   4719\u001b[0m                  \u001b[38;5;124m\"\u001b[39m\u001b[38;5;124mMethod Name Enum Value\u001b[39m\u001b[38;5;124m\"\u001b[39m : \u001b[38;5;28mself\u001b[39m\u001b[38;5;241m.\u001b[39mmethod\u001b[38;5;241m.\u001b[39mmethod_name\u001b[38;5;241m.\u001b[39mvalue,\n\u001b[1;32m   4720\u001b[0m                  \u001b[38;5;124m\"\u001b[39m\u001b[38;5;124mCase Study Name\u001b[39m\u001b[38;5;124m\"\u001b[39m : \u001b[38;5;28mself\u001b[39m\u001b[38;5;241m.\u001b[39mcs_params\u001b[38;5;241m.\u001b[39mcs_name,\n\u001b[0;32m   (...)\u001b[0m\n\u001b[1;32m   4737\u001b[0m                  \u001b[38;5;124m\"\u001b[39m\u001b[38;5;124mObj Improvement Tolerance\u001b[39m\u001b[38;5;124m\"\u001b[39m : \u001b[38;5;28mself\u001b[39m\u001b[38;5;241m.\u001b[39mcs_params\u001b[38;5;241m.\u001b[39mobj_tol,\n\u001b[1;32m   4738\u001b[0m                  \u001b[38;5;124m\"\u001b[39m\u001b[38;5;124mTheta Generation Enum Value\u001b[39m\u001b[38;5;124m\"\u001b[39m: \u001b[38;5;28mself\u001b[39m\u001b[38;5;241m.\u001b[39mgen_meth_theta\u001b[38;5;241m.\u001b[39mvalue}\n\u001b[1;32m   4740\u001b[0m \u001b[38;5;28;01mfor\u001b[39;00m i \u001b[38;5;129;01min\u001b[39;00m \u001b[38;5;28mrange\u001b[39m(\u001b[38;5;28mself\u001b[39m\u001b[38;5;241m.\u001b[39mcs_params\u001b[38;5;241m.\u001b[39mbo_run_tot):\n\u001b[0;32m-> 4741\u001b[0m     bo_results_res, bo_results_GPs \u001b[38;5;241m=\u001b[39m \u001b[38;5;28;43mself\u001b[39;49m\u001b[38;5;241;43m.\u001b[39;49m\u001b[43m__run_bo_workflow\u001b[49m\u001b[43m(\u001b[49m\u001b[43m)\u001b[49m\n\u001b[1;32m   4742\u001b[0m     \u001b[38;5;66;03m#Update the seed in configuration\u001b[39;00m\n\u001b[1;32m   4743\u001b[0m     configuration[\u001b[38;5;124m\"\u001b[39m\u001b[38;5;124mSeed\u001b[39m\u001b[38;5;124m\"\u001b[39m] \u001b[38;5;241m=\u001b[39m \u001b[38;5;28mself\u001b[39m\u001b[38;5;241m.\u001b[39mcs_params\u001b[38;5;241m.\u001b[39mseed\n",
      "File \u001b[0;32m/scratch365/mcarlozo/Toy_Problem/bo_methods_lib/bo_methods_lib/GPBO_Classes_New.py:4695\u001b[0m, in \u001b[0;36mGPBO_Driver.__run_bo_workflow\u001b[0;34m(self)\u001b[0m\n\u001b[1;32m   4692\u001b[0m \u001b[38;5;28mself\u001b[39m\u001b[38;5;241m.\u001b[39mep_bias\u001b[38;5;241m.\u001b[39mep_curr \u001b[38;5;241m=\u001b[39m \u001b[38;5;28;01mNone\u001b[39;00m\n\u001b[1;32m   4694\u001b[0m \u001b[38;5;66;03m##Call bo_iter\u001b[39;00m\n\u001b[0;32m-> 4695\u001b[0m results_df, max_ei_details_df, list_gp_emulator_class, why_term \u001b[38;5;241m=\u001b[39m \u001b[38;5;28;43mself\u001b[39;49m\u001b[38;5;241;43m.\u001b[39;49m\u001b[43m__run_bo_to_term\u001b[49m\u001b[43m(\u001b[49m\u001b[43m)\u001b[49m\n\u001b[1;32m   4697\u001b[0m \u001b[38;5;66;03m#Set results\u001b[39;00m\n\u001b[1;32m   4698\u001b[0m bo_results_res \u001b[38;5;241m=\u001b[39m BO_Results(\u001b[38;5;28;01mNone\u001b[39;00m, \u001b[38;5;28;01mNone\u001b[39;00m, \u001b[38;5;28mself\u001b[39m\u001b[38;5;241m.\u001b[39mexp_data, \u001b[38;5;28;01mNone\u001b[39;00m, results_df, \n\u001b[1;32m   4699\u001b[0m                         max_ei_details_df, why_term, \u001b[38;5;28;01mNone\u001b[39;00m)\n",
      "File \u001b[0;32m/scratch365/mcarlozo/Toy_Problem/bo_methods_lib/bo_methods_lib/GPBO_Classes_New.py:4579\u001b[0m, in \u001b[0;36mGPBO_Driver.__run_bo_to_term\u001b[0;34m(self)\u001b[0m\n\u001b[1;32m   4575\u001b[0m \u001b[38;5;28;01mwhile\u001b[39;00m terminate \u001b[38;5;241m==\u001b[39m \u001b[38;5;28;01mFalse\u001b[39;00m: \n\u001b[1;32m   4576\u001b[0m     \u001b[38;5;66;03m#Loop over number of max bo iters\u001b[39;00m\n\u001b[1;32m   4577\u001b[0m     \u001b[38;5;28;01mfor\u001b[39;00m i \u001b[38;5;129;01min\u001b[39;00m \u001b[38;5;28mrange\u001b[39m(\u001b[38;5;28mself\u001b[39m\u001b[38;5;241m.\u001b[39mcs_params\u001b[38;5;241m.\u001b[39mbo_iter_tot):\n\u001b[1;32m   4578\u001b[0m         \u001b[38;5;66;03m#Output results of 1 bo iter and the emulator used to get the results\u001b[39;00m\n\u001b[0;32m-> 4579\u001b[0m         iter_df, iter_max_ei_terms, gp_emulator_class \u001b[38;5;241m=\u001b[39m \u001b[38;5;28;43mself\u001b[39;49m\u001b[38;5;241;43m.\u001b[39;49m\u001b[43m__run_bo_iter\u001b[49m\u001b[43m(\u001b[49m\u001b[43mi\u001b[49m\u001b[43m)\u001b[49m \u001b[38;5;66;03m#Change me later\u001b[39;00m\n\u001b[1;32m   4580\u001b[0m         \u001b[38;5;66;03m#Add results to dataframe\u001b[39;00m\n\u001b[1;32m   4581\u001b[0m         results_df \u001b[38;5;241m=\u001b[39m pd\u001b[38;5;241m.\u001b[39mconcat([results_df\u001b[38;5;241m.\u001b[39mastype(iter_df\u001b[38;5;241m.\u001b[39mdtypes), iter_df], ignore_index\u001b[38;5;241m=\u001b[39m\u001b[38;5;28;01mTrue\u001b[39;00m)\n",
      "File \u001b[0;32m/scratch365/mcarlozo/Toy_Problem/bo_methods_lib/bo_methods_lib/GPBO_Classes_New.py:4452\u001b[0m, in \u001b[0;36mGPBO_Driver.__run_bo_iter\u001b[0;34m(self, iteration)\u001b[0m\n\u001b[1;32m   4450\u001b[0m \u001b[38;5;66;03m#Call optimize EI acquistion fxn (If not using E[SSE])\u001b[39;00m\n\u001b[1;32m   4451\u001b[0m \u001b[38;5;28;01mif\u001b[39;00m \u001b[38;5;28mself\u001b[39m\u001b[38;5;241m.\u001b[39mmethod\u001b[38;5;241m.\u001b[39mmethod_name\u001b[38;5;241m.\u001b[39mvalue \u001b[38;5;241m!=\u001b[39m \u001b[38;5;241m7\u001b[39m:\n\u001b[0;32m-> 4452\u001b[0m     opt_acq, acq_theta_data \u001b[38;5;241m=\u001b[39m \u001b[38;5;28;43mself\u001b[39;49m\u001b[38;5;241;43m.\u001b[39;49m\u001b[43m__opt_with_scipy\u001b[49m\u001b[43m(\u001b[49m\u001b[38;5;124;43m\"\u001b[39;49m\u001b[38;5;124;43mneg_ei\u001b[39;49m\u001b[38;5;124;43m\"\u001b[39;49m\u001b[43m)\u001b[49m\n\u001b[1;32m   4453\u001b[0m     \u001b[38;5;28;01mif\u001b[39;00m \u001b[38;5;28mself\u001b[39m\u001b[38;5;241m.\u001b[39mmethod\u001b[38;5;241m.\u001b[39memulator \u001b[38;5;241m==\u001b[39m \u001b[38;5;28;01mTrue\u001b[39;00m:\n\u001b[1;32m   4454\u001b[0m         ei_args \u001b[38;5;241m=\u001b[39m (acq_theta_data, \u001b[38;5;28mself\u001b[39m\u001b[38;5;241m.\u001b[39mexp_data, \u001b[38;5;28mself\u001b[39m\u001b[38;5;241m.\u001b[39mep_bias, best_error_metrics, \n\u001b[1;32m   4455\u001b[0m                    \u001b[38;5;28mself\u001b[39m\u001b[38;5;241m.\u001b[39mmethod, \u001b[38;5;28mself\u001b[39m\u001b[38;5;241m.\u001b[39msg_mc_samples)\n",
      "File \u001b[0;32m/scratch365/mcarlozo/Toy_Problem/bo_methods_lib/bo_methods_lib/GPBO_Classes_New.py:4115\u001b[0m, in \u001b[0;36mGPBO_Driver.__opt_with_scipy\u001b[0;34m(self, opt_obj, beta)\u001b[0m\n\u001b[1;32m   4110\u001b[0m     obj_opt_method \u001b[38;5;241m=\u001b[39m \u001b[38;5;124m\"\u001b[39m\u001b[38;5;124mL-BFGS-B\u001b[39m\u001b[38;5;124m\"\u001b[39m\n\u001b[1;32m   4112\u001b[0m     \u001b[38;5;66;03m# try:\u001b[39;00m\n\u001b[1;32m   4113\u001b[0m     \u001b[38;5;66;03m#Call scipy method to optimize EI given theta\u001b[39;00m\n\u001b[1;32m   4114\u001b[0m     \u001b[38;5;66;03m#Using L-BFGS-B instead of BFGS because it allowd for bounds\u001b[39;00m\n\u001b[0;32m-> 4115\u001b[0m     best_result \u001b[38;5;241m=\u001b[39m \u001b[43moptimize\u001b[49m\u001b[38;5;241;43m.\u001b[39;49m\u001b[43mminimize\u001b[49m\u001b[43m(\u001b[49m\u001b[38;5;28;43mself\u001b[39;49m\u001b[38;5;241;43m.\u001b[39;49m\u001b[43m__scipy_fxn\u001b[49m\u001b[43m,\u001b[49m\u001b[43m \u001b[49m\u001b[43mtheta_guess\u001b[49m\u001b[43m,\u001b[49m\u001b[43m \u001b[49m\u001b[43mbounds\u001b[49m\u001b[38;5;241;43m=\u001b[39;49m\u001b[43mbnds\u001b[49m\u001b[43m,\u001b[49m\u001b[43m \u001b[49m\u001b[43mmethod\u001b[49m\u001b[43m \u001b[49m\u001b[38;5;241;43m=\u001b[39;49m\u001b[43m \u001b[49m\u001b[43mobj_opt_method\u001b[49m\u001b[43m,\u001b[49m\u001b[43m \u001b[49m\u001b[43margs\u001b[49m\u001b[38;5;241;43m=\u001b[39;49m\u001b[43m(\u001b[49m\u001b[43mopt_obj\u001b[49m\u001b[43m,\u001b[49m\u001b[43m \u001b[49m\n\u001b[1;32m   4116\u001b[0m \u001b[43m                                                                                                                \u001b[49m\u001b[43mbest_error_metrics\u001b[49m\u001b[43m,\u001b[49m\n\u001b[1;32m   4117\u001b[0m \u001b[43m                                                                                                                \u001b[49m\u001b[43mbeta\u001b[49m\u001b[43m)\u001b[49m\u001b[43m)\u001b[49m\n\u001b[1;32m   4118\u001b[0m     \u001b[38;5;66;03m# except ValueError: \u001b[39;00m\n\u001b[1;32m   4119\u001b[0m     \u001b[38;5;66;03m#     #If the intialized theta causes scipy.optimize to choose nan values, skip it\u001b[39;00m\n\u001b[1;32m   4120\u001b[0m     \u001b[38;5;66;03m#     pass\u001b[39;00m\n\u001b[1;32m   4122\u001b[0m best_val \u001b[38;5;241m=\u001b[39m \u001b[38;5;28mself\u001b[39m\u001b[38;5;241m.\u001b[39m__min_obj_class\u001b[38;5;241m.\u001b[39macq\n",
      "File \u001b[0;32m~/.conda/envs/Toy_Problem_env/lib/python3.9/site-packages/scipy/optimize/_minimize.py:681\u001b[0m, in \u001b[0;36mminimize\u001b[0;34m(fun, x0, args, method, jac, hess, hessp, bounds, constraints, tol, callback, options)\u001b[0m\n\u001b[1;32m    678\u001b[0m     res \u001b[38;5;241m=\u001b[39m _minimize_newtoncg(fun, x0, args, jac, hess, hessp, callback,\n\u001b[1;32m    679\u001b[0m                              \u001b[38;5;241m*\u001b[39m\u001b[38;5;241m*\u001b[39moptions)\n\u001b[1;32m    680\u001b[0m \u001b[38;5;28;01melif\u001b[39;00m meth \u001b[38;5;241m==\u001b[39m \u001b[38;5;124m'\u001b[39m\u001b[38;5;124ml-bfgs-b\u001b[39m\u001b[38;5;124m'\u001b[39m:\n\u001b[0;32m--> 681\u001b[0m     res \u001b[38;5;241m=\u001b[39m \u001b[43m_minimize_lbfgsb\u001b[49m\u001b[43m(\u001b[49m\u001b[43mfun\u001b[49m\u001b[43m,\u001b[49m\u001b[43m \u001b[49m\u001b[43mx0\u001b[49m\u001b[43m,\u001b[49m\u001b[43m \u001b[49m\u001b[43margs\u001b[49m\u001b[43m,\u001b[49m\u001b[43m \u001b[49m\u001b[43mjac\u001b[49m\u001b[43m,\u001b[49m\u001b[43m \u001b[49m\u001b[43mbounds\u001b[49m\u001b[43m,\u001b[49m\n\u001b[1;32m    682\u001b[0m \u001b[43m                           \u001b[49m\u001b[43mcallback\u001b[49m\u001b[38;5;241;43m=\u001b[39;49m\u001b[43mcallback\u001b[49m\u001b[43m,\u001b[49m\u001b[43m \u001b[49m\u001b[38;5;241;43m*\u001b[39;49m\u001b[38;5;241;43m*\u001b[39;49m\u001b[43moptions\u001b[49m\u001b[43m)\u001b[49m\n\u001b[1;32m    683\u001b[0m \u001b[38;5;28;01melif\u001b[39;00m meth \u001b[38;5;241m==\u001b[39m \u001b[38;5;124m'\u001b[39m\u001b[38;5;124mtnc\u001b[39m\u001b[38;5;124m'\u001b[39m:\n\u001b[1;32m    684\u001b[0m     res \u001b[38;5;241m=\u001b[39m _minimize_tnc(fun, x0, args, jac, bounds, callback\u001b[38;5;241m=\u001b[39mcallback,\n\u001b[1;32m    685\u001b[0m                         \u001b[38;5;241m*\u001b[39m\u001b[38;5;241m*\u001b[39moptions)\n",
      "File \u001b[0;32m~/.conda/envs/Toy_Problem_env/lib/python3.9/site-packages/scipy/optimize/_lbfgsb_py.py:308\u001b[0m, in \u001b[0;36m_minimize_lbfgsb\u001b[0;34m(fun, x0, args, jac, bounds, disp, maxcor, ftol, gtol, eps, maxfun, maxiter, iprint, callback, maxls, finite_diff_rel_step, **unknown_options)\u001b[0m\n\u001b[1;32m    305\u001b[0m     \u001b[38;5;28;01melse\u001b[39;00m:\n\u001b[1;32m    306\u001b[0m         iprint \u001b[38;5;241m=\u001b[39m disp\n\u001b[0;32m--> 308\u001b[0m sf \u001b[38;5;241m=\u001b[39m \u001b[43m_prepare_scalar_function\u001b[49m\u001b[43m(\u001b[49m\u001b[43mfun\u001b[49m\u001b[43m,\u001b[49m\u001b[43m \u001b[49m\u001b[43mx0\u001b[49m\u001b[43m,\u001b[49m\u001b[43m \u001b[49m\u001b[43mjac\u001b[49m\u001b[38;5;241;43m=\u001b[39;49m\u001b[43mjac\u001b[49m\u001b[43m,\u001b[49m\u001b[43m \u001b[49m\u001b[43margs\u001b[49m\u001b[38;5;241;43m=\u001b[39;49m\u001b[43margs\u001b[49m\u001b[43m,\u001b[49m\u001b[43m \u001b[49m\u001b[43mepsilon\u001b[49m\u001b[38;5;241;43m=\u001b[39;49m\u001b[43meps\u001b[49m\u001b[43m,\u001b[49m\n\u001b[1;32m    309\u001b[0m \u001b[43m                              \u001b[49m\u001b[43mbounds\u001b[49m\u001b[38;5;241;43m=\u001b[39;49m\u001b[43mnew_bounds\u001b[49m\u001b[43m,\u001b[49m\n\u001b[1;32m    310\u001b[0m \u001b[43m                              \u001b[49m\u001b[43mfinite_diff_rel_step\u001b[49m\u001b[38;5;241;43m=\u001b[39;49m\u001b[43mfinite_diff_rel_step\u001b[49m\u001b[43m)\u001b[49m\n\u001b[1;32m    312\u001b[0m func_and_grad \u001b[38;5;241m=\u001b[39m sf\u001b[38;5;241m.\u001b[39mfun_and_grad\n\u001b[1;32m    314\u001b[0m fortran_int \u001b[38;5;241m=\u001b[39m _lbfgsb\u001b[38;5;241m.\u001b[39mtypes\u001b[38;5;241m.\u001b[39mintvar\u001b[38;5;241m.\u001b[39mdtype\n",
      "File \u001b[0;32m~/.conda/envs/Toy_Problem_env/lib/python3.9/site-packages/scipy/optimize/_optimize.py:263\u001b[0m, in \u001b[0;36m_prepare_scalar_function\u001b[0;34m(fun, x0, jac, args, bounds, epsilon, finite_diff_rel_step, hess)\u001b[0m\n\u001b[1;32m    259\u001b[0m     bounds \u001b[38;5;241m=\u001b[39m (\u001b[38;5;241m-\u001b[39mnp\u001b[38;5;241m.\u001b[39minf, np\u001b[38;5;241m.\u001b[39minf)\n\u001b[1;32m    261\u001b[0m \u001b[38;5;66;03m# ScalarFunction caches. Reuse of fun(x) during grad\u001b[39;00m\n\u001b[1;32m    262\u001b[0m \u001b[38;5;66;03m# calculation reduces overall function evaluations.\u001b[39;00m\n\u001b[0;32m--> 263\u001b[0m sf \u001b[38;5;241m=\u001b[39m \u001b[43mScalarFunction\u001b[49m\u001b[43m(\u001b[49m\u001b[43mfun\u001b[49m\u001b[43m,\u001b[49m\u001b[43m \u001b[49m\u001b[43mx0\u001b[49m\u001b[43m,\u001b[49m\u001b[43m \u001b[49m\u001b[43margs\u001b[49m\u001b[43m,\u001b[49m\u001b[43m \u001b[49m\u001b[43mgrad\u001b[49m\u001b[43m,\u001b[49m\u001b[43m \u001b[49m\u001b[43mhess\u001b[49m\u001b[43m,\u001b[49m\n\u001b[1;32m    264\u001b[0m \u001b[43m                    \u001b[49m\u001b[43mfinite_diff_rel_step\u001b[49m\u001b[43m,\u001b[49m\u001b[43m \u001b[49m\u001b[43mbounds\u001b[49m\u001b[43m,\u001b[49m\u001b[43m \u001b[49m\u001b[43mepsilon\u001b[49m\u001b[38;5;241;43m=\u001b[39;49m\u001b[43mepsilon\u001b[49m\u001b[43m)\u001b[49m\n\u001b[1;32m    266\u001b[0m \u001b[38;5;28;01mreturn\u001b[39;00m sf\n",
      "File \u001b[0;32m~/.conda/envs/Toy_Problem_env/lib/python3.9/site-packages/scipy/optimize/_differentiable_functions.py:158\u001b[0m, in \u001b[0;36mScalarFunction.__init__\u001b[0;34m(self, fun, x0, args, grad, hess, finite_diff_rel_step, finite_diff_bounds, epsilon)\u001b[0m\n\u001b[1;32m    155\u001b[0m     \u001b[38;5;28mself\u001b[39m\u001b[38;5;241m.\u001b[39mf \u001b[38;5;241m=\u001b[39m fun_wrapped(\u001b[38;5;28mself\u001b[39m\u001b[38;5;241m.\u001b[39mx)\n\u001b[1;32m    157\u001b[0m \u001b[38;5;28mself\u001b[39m\u001b[38;5;241m.\u001b[39m_update_fun_impl \u001b[38;5;241m=\u001b[39m update_fun\n\u001b[0;32m--> 158\u001b[0m \u001b[38;5;28;43mself\u001b[39;49m\u001b[38;5;241;43m.\u001b[39;49m\u001b[43m_update_fun\u001b[49m\u001b[43m(\u001b[49m\u001b[43m)\u001b[49m\n\u001b[1;32m    160\u001b[0m \u001b[38;5;66;03m# Gradient evaluation\u001b[39;00m\n\u001b[1;32m    161\u001b[0m \u001b[38;5;28;01mif\u001b[39;00m callable(grad):\n",
      "File \u001b[0;32m~/.conda/envs/Toy_Problem_env/lib/python3.9/site-packages/scipy/optimize/_differentiable_functions.py:251\u001b[0m, in \u001b[0;36mScalarFunction._update_fun\u001b[0;34m(self)\u001b[0m\n\u001b[1;32m    249\u001b[0m \u001b[38;5;28;01mdef\u001b[39;00m \u001b[38;5;21m_update_fun\u001b[39m(\u001b[38;5;28mself\u001b[39m):\n\u001b[1;32m    250\u001b[0m     \u001b[38;5;28;01mif\u001b[39;00m \u001b[38;5;129;01mnot\u001b[39;00m \u001b[38;5;28mself\u001b[39m\u001b[38;5;241m.\u001b[39mf_updated:\n\u001b[0;32m--> 251\u001b[0m         \u001b[38;5;28;43mself\u001b[39;49m\u001b[38;5;241;43m.\u001b[39;49m\u001b[43m_update_fun_impl\u001b[49m\u001b[43m(\u001b[49m\u001b[43m)\u001b[49m\n\u001b[1;32m    252\u001b[0m         \u001b[38;5;28mself\u001b[39m\u001b[38;5;241m.\u001b[39mf_updated \u001b[38;5;241m=\u001b[39m \u001b[38;5;28;01mTrue\u001b[39;00m\n",
      "File \u001b[0;32m~/.conda/envs/Toy_Problem_env/lib/python3.9/site-packages/scipy/optimize/_differentiable_functions.py:155\u001b[0m, in \u001b[0;36mScalarFunction.__init__.<locals>.update_fun\u001b[0;34m()\u001b[0m\n\u001b[1;32m    154\u001b[0m \u001b[38;5;28;01mdef\u001b[39;00m \u001b[38;5;21mupdate_fun\u001b[39m():\n\u001b[0;32m--> 155\u001b[0m     \u001b[38;5;28mself\u001b[39m\u001b[38;5;241m.\u001b[39mf \u001b[38;5;241m=\u001b[39m \u001b[43mfun_wrapped\u001b[49m\u001b[43m(\u001b[49m\u001b[38;5;28;43mself\u001b[39;49m\u001b[38;5;241;43m.\u001b[39;49m\u001b[43mx\u001b[49m\u001b[43m)\u001b[49m\n",
      "File \u001b[0;32m~/.conda/envs/Toy_Problem_env/lib/python3.9/site-packages/scipy/optimize/_differentiable_functions.py:137\u001b[0m, in \u001b[0;36mScalarFunction.__init__.<locals>.fun_wrapped\u001b[0;34m(x)\u001b[0m\n\u001b[1;32m    133\u001b[0m \u001b[38;5;28mself\u001b[39m\u001b[38;5;241m.\u001b[39mnfev \u001b[38;5;241m+\u001b[39m\u001b[38;5;241m=\u001b[39m \u001b[38;5;241m1\u001b[39m\n\u001b[1;32m    134\u001b[0m \u001b[38;5;66;03m# Send a copy because the user may overwrite it.\u001b[39;00m\n\u001b[1;32m    135\u001b[0m \u001b[38;5;66;03m# Overwriting results in undefined behaviour because\u001b[39;00m\n\u001b[1;32m    136\u001b[0m \u001b[38;5;66;03m# fun(self.x) will change self.x, with the two no longer linked.\u001b[39;00m\n\u001b[0;32m--> 137\u001b[0m fx \u001b[38;5;241m=\u001b[39m \u001b[43mfun\u001b[49m\u001b[43m(\u001b[49m\u001b[43mnp\u001b[49m\u001b[38;5;241;43m.\u001b[39;49m\u001b[43mcopy\u001b[49m\u001b[43m(\u001b[49m\u001b[43mx\u001b[49m\u001b[43m)\u001b[49m\u001b[43m,\u001b[49m\u001b[43m \u001b[49m\u001b[38;5;241;43m*\u001b[39;49m\u001b[43margs\u001b[49m\u001b[43m)\u001b[49m\n\u001b[1;32m    138\u001b[0m \u001b[38;5;66;03m# Make sure the function returns a true scalar\u001b[39;00m\n\u001b[1;32m    139\u001b[0m \u001b[38;5;28;01mif\u001b[39;00m \u001b[38;5;129;01mnot\u001b[39;00m np\u001b[38;5;241m.\u001b[39misscalar(fx):\n",
      "File \u001b[0;32m/scratch365/mcarlozo/Toy_Problem/bo_methods_lib/bo_methods_lib/GPBO_Classes_New.py:4208\u001b[0m, in \u001b[0;36mGPBO_Driver.__scipy_fxn\u001b[0;34m(self, theta, opt_obj, best_error_metrics, beta)\u001b[0m\n\u001b[1;32m   4206\u001b[0m         ei_output \u001b[38;5;241m=\u001b[39m \u001b[38;5;28mself\u001b[39m\u001b[38;5;241m.\u001b[39mgp_emulator\u001b[38;5;241m.\u001b[39meval_ei_cand(\u001b[38;5;28mself\u001b[39m\u001b[38;5;241m.\u001b[39mexp_data, \u001b[38;5;28mself\u001b[39m\u001b[38;5;241m.\u001b[39mep_bias, best_error_metrics)\n\u001b[1;32m   4207\u001b[0m     \u001b[38;5;28;01melse\u001b[39;00m:\n\u001b[0;32m-> 4208\u001b[0m         ei_output \u001b[38;5;241m=\u001b[39m \u001b[38;5;28;43mself\u001b[39;49m\u001b[38;5;241;43m.\u001b[39;49m\u001b[43mgp_emulator\u001b[49m\u001b[38;5;241;43m.\u001b[39;49m\u001b[43meval_ei_cand\u001b[49m\u001b[43m(\u001b[49m\u001b[38;5;28;43mself\u001b[39;49m\u001b[38;5;241;43m.\u001b[39;49m\u001b[43mexp_data\u001b[49m\u001b[43m,\u001b[49m\u001b[43m \u001b[49m\u001b[38;5;28;43mself\u001b[39;49m\u001b[38;5;241;43m.\u001b[39;49m\u001b[43mep_bias\u001b[49m\u001b[43m,\u001b[49m\u001b[43m \u001b[49m\u001b[43mbest_error_metrics\u001b[49m\u001b[43m,\u001b[49m\u001b[43m \u001b[49m\u001b[38;5;28;43mself\u001b[39;49m\u001b[38;5;241;43m.\u001b[39;49m\u001b[43mmethod\u001b[49m\u001b[43m,\u001b[49m\u001b[43m \u001b[49m\u001b[38;5;28;43mself\u001b[39;49m\u001b[38;5;241;43m.\u001b[39;49m\u001b[43msg_mc_samples\u001b[49m\u001b[43m)\u001b[49m\n\u001b[1;32m   4209\u001b[0m     obj \u001b[38;5;241m=\u001b[39m \u001b[38;5;241m-\u001b[39m\u001b[38;5;241m1\u001b[39m\u001b[38;5;241m*\u001b[39mei_output[\u001b[38;5;241m0\u001b[39m]\n\u001b[1;32m   4211\u001b[0m set_acq_val \u001b[38;5;241m=\u001b[39m \u001b[38;5;28;01mTrue\u001b[39;00m\n",
      "File \u001b[0;32m/scratch365/mcarlozo/Toy_Problem/bo_methods_lib/bo_methods_lib/GPBO_Classes_New.py:2976\u001b[0m, in \u001b[0;36mType_2_GP_Emulator.eval_ei_cand\u001b[0;34m(self, exp_data, ep_bias, best_error_metrics, method, sg_mc_samples)\u001b[0m\n\u001b[1;32m   2974\u001b[0m \u001b[38;5;28;01massert\u001b[39;00m \u001b[38;5;28misinstance\u001b[39m(method, GPBO_Methods), \u001b[38;5;124m\"\u001b[39m\u001b[38;5;124mmethod must be instance of GPBO_Methods\u001b[39m\u001b[38;5;124m\"\u001b[39m\n\u001b[1;32m   2975\u001b[0m \u001b[38;5;28;01massert\u001b[39;00m \u001b[38;5;241m6\u001b[39m \u001b[38;5;241m>\u001b[39m\u001b[38;5;241m=\u001b[39m method\u001b[38;5;241m.\u001b[39mmethod_name\u001b[38;5;241m.\u001b[39mvalue \u001b[38;5;241m>\u001b[39m \u001b[38;5;241m2\u001b[39m, \u001b[38;5;124m\"\u001b[39m\u001b[38;5;124mmethod must be Type 2. Hint: Must have method.method_name.value > 2\u001b[39m\u001b[38;5;124m\"\u001b[39m\n\u001b[0;32m-> 2976\u001b[0m ei, ei_terms_df \u001b[38;5;241m=\u001b[39m \u001b[38;5;28;43mself\u001b[39;49m\u001b[38;5;241;43m.\u001b[39;49m\u001b[43m__eval_gp_ei\u001b[49m\u001b[43m(\u001b[49m\u001b[38;5;28;43mself\u001b[39;49m\u001b[38;5;241;43m.\u001b[39;49m\u001b[43mcand_data\u001b[49m\u001b[43m,\u001b[49m\u001b[43m \u001b[49m\u001b[43mexp_data\u001b[49m\u001b[43m,\u001b[49m\u001b[43m \u001b[49m\u001b[43mep_bias\u001b[49m\u001b[43m,\u001b[49m\u001b[43m \u001b[49m\u001b[43mbest_error_metrics\u001b[49m\u001b[43m,\u001b[49m\u001b[43m \u001b[49m\u001b[43mmethod\u001b[49m\u001b[43m,\u001b[49m\u001b[43m \u001b[49m\u001b[43msg_mc_samples\u001b[49m\u001b[43m)\u001b[49m\n\u001b[1;32m   2978\u001b[0m \u001b[38;5;28;01mreturn\u001b[39;00m ei, ei_terms_df\n",
      "File \u001b[0;32m/scratch365/mcarlozo/Toy_Problem/bo_methods_lib/bo_methods_lib/GPBO_Classes_New.py:2862\u001b[0m, in \u001b[0;36mType_2_GP_Emulator.__eval_gp_ei\u001b[0;34m(self, sim_data, exp_data, ep_bias, best_error_metrics, method, sg_mc_samples)\u001b[0m\n\u001b[1;32m   2860\u001b[0m ei_class \u001b[38;5;241m=\u001b[39m Expected_Improvement(ep_bias, sim_data\u001b[38;5;241m.\u001b[39mgp_mean, sim_data\u001b[38;5;241m.\u001b[39mgp_covar, exp_data, best_error_metrics, \u001b[38;5;28mself\u001b[39m\u001b[38;5;241m.\u001b[39mseed, sg_mc_samples)\n\u001b[1;32m   2861\u001b[0m \u001b[38;5;66;03m#Call correct method of ei calculation\u001b[39;00m\n\u001b[0;32m-> 2862\u001b[0m ei, ei_terms_df \u001b[38;5;241m=\u001b[39m \u001b[43mei_class\u001b[49m\u001b[38;5;241;43m.\u001b[39;49m\u001b[43mtype_2\u001b[49m\u001b[43m(\u001b[49m\u001b[43mmethod\u001b[49m\u001b[43m)\u001b[49m\n\u001b[1;32m   2863\u001b[0m \u001b[38;5;66;03m#Add ei data to validation data class\u001b[39;00m\n\u001b[1;32m   2864\u001b[0m sim_data\u001b[38;5;241m.\u001b[39macq \u001b[38;5;241m=\u001b[39m ei\n",
      "File \u001b[0;32m/scratch365/mcarlozo/Toy_Problem/bo_methods_lib/bo_methods_lib/GPBO_Classes_New.py:3194\u001b[0m, in \u001b[0;36mExpected_Improvement.type_2\u001b[0;34m(self, method)\u001b[0m\n\u001b[1;32m   3191\u001b[0m     ei[i], row_data \u001b[38;5;241m=\u001b[39m \u001b[38;5;28mself\u001b[39m\u001b[38;5;241m.\u001b[39m__calc_ei_sparse(gp_mean_i, gp_var_i, \u001b[38;5;28mself\u001b[39m\u001b[38;5;241m.\u001b[39mexp_data\u001b[38;5;241m.\u001b[39my_vals)\n\u001b[1;32m   3193\u001b[0m \u001b[38;5;28;01melif\u001b[39;00m method\u001b[38;5;241m.\u001b[39mmethod_name\u001b[38;5;241m.\u001b[39mvalue \u001b[38;5;241m==\u001b[39m \u001b[38;5;241m6\u001b[39m: \u001b[38;5;66;03m#2D\u001b[39;00m\n\u001b[0;32m-> 3194\u001b[0m     ei[i], row_data \u001b[38;5;241m=\u001b[39m \u001b[38;5;28;43mself\u001b[39;49m\u001b[38;5;241;43m.\u001b[39;49m\u001b[43m__calc_ei_mc\u001b[49m\u001b[43m(\u001b[49m\u001b[43mgp_mean_i\u001b[49m\u001b[43m,\u001b[49m\u001b[43m \u001b[49m\u001b[43mgp_var_i\u001b[49m\u001b[43m,\u001b[49m\u001b[43m \u001b[49m\u001b[38;5;28;43mself\u001b[39;49m\u001b[38;5;241;43m.\u001b[39;49m\u001b[43mexp_data\u001b[49m\u001b[38;5;241;43m.\u001b[39;49m\u001b[43my_vals\u001b[49m\u001b[43m)\u001b[49m\n\u001b[1;32m   3196\u001b[0m \u001b[38;5;28;01melse\u001b[39;00m:\n\u001b[1;32m   3197\u001b[0m     \u001b[38;5;28;01mraise\u001b[39;00m \u001b[38;5;167;01mValueError\u001b[39;00m(\u001b[38;5;124m\"\u001b[39m\u001b[38;5;124mmethod.method_name.value must be 3 (2A), 4 (2B), 5 (2C), or 6 (2D)\u001b[39m\u001b[38;5;124m\"\u001b[39m)\n",
      "File \u001b[0;32m/scratch365/mcarlozo/Toy_Problem/bo_methods_lib/bo_methods_lib/GPBO_Classes_New.py:3524\u001b[0m, in \u001b[0;36mExpected_Improvement.__calc_ei_mc\u001b[0;34m(self, gp_mean, gp_var, y_target)\u001b[0m\n\u001b[1;32m   3508\u001b[0m \u001b[38;5;28;01mif\u001b[39;00m np\u001b[38;5;241m.\u001b[39many(pos_stdev_mask):\n\u001b[1;32m   3509\u001b[0m     \u001b[38;5;66;03m# valid_indices = np.where(pos_stdev_mask)[0]\u001b[39;00m\n\u001b[1;32m   3510\u001b[0m     \u001b[38;5;66;03m# gp_stdev_val = np.sqrt(gp_var[valid_indices])\u001b[39;00m\n\u001b[0;32m   (...)\u001b[0m\n\u001b[1;32m   3521\u001b[0m     \u001b[38;5;66;03m# # Apply max operator (equivalent to max[(best_error*ep) - SSE_Temp,0])\u001b[39;00m\n\u001b[1;32m   3522\u001b[0m     \u001b[38;5;66;03m#Set random variables for MC integration\u001b[39;00m\n\u001b[1;32m   3523\u001b[0m     \u001b[38;5;28mself\u001b[39m\u001b[38;5;241m.\u001b[39mrandom_vars \u001b[38;5;241m=\u001b[39m \u001b[38;5;28mself\u001b[39m\u001b[38;5;241m.\u001b[39m__set_rand_vars(\u001b[38;5;28mself\u001b[39m\u001b[38;5;241m.\u001b[39mgp_mean, \u001b[38;5;28mself\u001b[39m\u001b[38;5;241m.\u001b[39mgp_covar)\n\u001b[0;32m-> 3524\u001b[0m     sse_temp \u001b[38;5;241m=\u001b[39m np\u001b[38;5;241m.\u001b[39msum((\u001b[43my_target\u001b[49m\u001b[43m[\u001b[49m\u001b[43m:\u001b[49m\u001b[43m,\u001b[49m\u001b[43m \u001b[49m\u001b[43mnp\u001b[49m\u001b[38;5;241;43m.\u001b[39;49m\u001b[43mnewaxis\u001b[49m\u001b[43m]\u001b[49m\u001b[38;5;241;43m.\u001b[39;49m\u001b[43mT\u001b[49m\u001b[43m \u001b[49m\u001b[38;5;241;43m-\u001b[39;49m\u001b[43m \u001b[49m\u001b[38;5;28;43mself\u001b[39;49m\u001b[38;5;241;43m.\u001b[39;49m\u001b[43mrandom_vars\u001b[49m)\u001b[38;5;241m*\u001b[39m\u001b[38;5;241m*\u001b[39m\u001b[38;5;241m2\u001b[39m, axis\u001b[38;5;241m=\u001b[39m\u001b[38;5;241m1\u001b[39m)\n\u001b[1;32m   3525\u001b[0m     error_diff \u001b[38;5;241m=\u001b[39m \u001b[38;5;28mself\u001b[39m\u001b[38;5;241m.\u001b[39mbest_error\u001b[38;5;241m*\u001b[39m\u001b[38;5;28mself\u001b[39m\u001b[38;5;241m.\u001b[39mep_bias\u001b[38;5;241m.\u001b[39mep_curr \u001b[38;5;241m-\u001b[39m sse_temp \n\u001b[1;32m   3526\u001b[0m     \u001b[38;5;66;03m## improvement = np.maximum(error_diff, 0).reshape(-1,1)\u001b[39;00m\n\u001b[1;32m   3527\u001b[0m     \u001b[38;5;66;03m#Smooth max improvement function\u001b[39;00m\n",
      "\u001b[0;31mValueError\u001b[0m: operands could not be broadcast together with shapes (1,5) (5,2000) "
     ]
    }
   ],
   "source": [
    "#Define method, ep_enum classes, indecies to consider, and kernel\n",
    "meth_name = Method_name_enum(meth_name_val)\n",
    "method = GPBO_Methods(meth_name)\n",
    "ep_enum = Ep_enum(ep_enum_val)\n",
    "kernel = Kernel_enum(kernel_enum_val)\n",
    "\n",
    "#Define Simulator Class (Export your Simulator Object Here)\n",
    "simulator = simulator_helper_test_fxns(cs_name_val, noise_mean, noise_std, seed)\n",
    "\n",
    "#Generate Exp Data (OR Add your own experimental data as a Data class object)\n",
    "set_seed = 1 #Set set_seed to 1 for data generation\n",
    "gen_meth_x = Gen_meth_enum(gen_meth_x)\n",
    "exp_data = simulator.gen_exp_data(num_x_data, gen_meth_x, set_seed)\n",
    "\n",
    "#Set simulator noise_std artifically as 5% of y_exp mean (So that noise will be set rather than trained)\n",
    "simulator.noise_std = np.abs(np.mean(exp_data.y_vals))*0.05\n",
    "\n",
    "#Create Exploration Bias Class\n",
    "if ep_enum.value == 1:\n",
    "    #Constant value stays constant\n",
    "    ep_bias = Exploration_Bias(ep0, None, ep_enum, None, None, None, None, None, None, None)\n",
    "elif ep_enum.value == 2:\n",
    "    #For decay method, decay from mixed to full exploitation (alpha of 0.5) for this example\n",
    "    ep_bias = Exploration_Bias(ep0, None, ep_enum, None, bo_iter_tot, None, 0.5, None, None, None)\n",
    "elif ep_enum.value == 3:\n",
    "    #Set ep multiplier to 1.5 as recommended in Boyle\n",
    "    ep_bias = Exploration_Bias(ep0, None, ep_enum, None, None, 1.5, None, None, None, None)\n",
    "elif ep_enum.value == 4:\n",
    "    #Jasrasaria method will take care of itself\n",
    "    ep_bias = Exploration_Bias(None, None, ep_enum, None, None, None, None, None, None, None)\n",
    "else:\n",
    "    raise Warning(\"Ep_enum value must be between 1 and 4!\")\n",
    "    \n",
    "#Generate Sim (Training) Data (OR Add your own training data here as a Data class object)\n",
    "num_theta_data = len(simulator.indeces_to_consider)*num_theta_multiplier\n",
    "gen_meth_theta = Gen_meth_enum(gen_meth_theta)\n",
    "#Note at present, training data is always the same between jobs since we set the data generation seed to 1\n",
    "sim_data = simulator.gen_sim_data(num_theta_data, num_x_data, gen_meth_theta, gen_meth_x, sep_fact, set_seed, False)\n",
    "\n",
    "#Gen sse_sim_data and sse_sim_val_data\n",
    "sim_sse_data = simulator.sim_data_to_sse_sim_data(method, sim_data, exp_data, sep_fact, False)\n",
    "\n",
    "#Generate validation data if applicable. This is only useful for small (<5 Params + State Points). Otherwise this takes up too much memory\n",
    "if num_val_pts > 0:\n",
    "    gen_meth_theta_val = Gen_meth_enum(gen_meth_theta_val) #input is an integer (1 or 2)\n",
    "    val_data = simulator.gen_sim_data(num_val_pts, num_x_data, gen_meth_theta_val, gen_meth_x, sep_fact, set_seed, True)\n",
    "    val_sse_data = simulator.sim_data_to_sse_sim_data(method, val_data, exp_data, sep_fact, True)        \n",
    "#Set validation data to None if not generating it\n",
    "else:\n",
    "    val_data = None\n",
    "    val_sse_data = None\n",
    "    gen_meth_theta_val = gen_meth_theta_val #Value is None\n",
    "                    \n",
    "#Define cs_name and cs_params class\n",
    "#Signac saves all BO_Results in different folders, so they can have the same name\n",
    "cs_name = \"BO_Results\"\n",
    "cs_params = CaseStudyParameters(cs_name, ep0, sep_fact, normalize, kernel, lenscl, outputscl,\n",
    "                                retrain_GP, reoptimize_obj, gen_heat_map_data, bo_iter_tot,\n",
    "                                bo_runs_in_job, True, None, seed, ei_tol, obj_tol)\n",
    "#Initialize driver class\n",
    "driver = GPBO_Driver(cs_params, method, simulator, exp_data, sim_data, sim_sse_data, val_data, val_sse_data, None, ep_bias, gen_meth_theta)\n",
    "#Get results\n",
    "restart_bo_results, gp_stuff = driver.run_bo_restarts()"
   ]
  },
  {
   "cell_type": "code",
   "execution_count": null,
   "id": "3cd25d8e",
   "metadata": {},
   "outputs": [],
   "source": [
    "restart_bo_results[0].results_df.iloc[:,0:13]\n",
    "#['Theta Min Obj', 'Theta Obj Act Cum', 'Min Obj Act', \"Min Obj Act Cum\"]"
   ]
  },
  {
   "cell_type": "code",
   "execution_count": null,
   "id": "03fe9673",
   "metadata": {},
   "outputs": [],
   "source": [
    "restart_bo_results[0].results_df.iloc[:,:13]"
   ]
  },
  {
   "cell_type": "code",
   "execution_count": null,
   "id": "b95fee19",
   "metadata": {},
   "outputs": [],
   "source": []
  }
 ],
 "metadata": {
  "kernelspec": {
   "display_name": "Python 3 (ipykernel)",
   "language": "python",
   "name": "python3"
  },
  "language_info": {
   "codemirror_mode": {
    "name": "ipython",
    "version": 3
   },
   "file_extension": ".py",
   "mimetype": "text/x-python",
   "name": "python",
   "nbconvert_exporter": "python",
   "pygments_lexer": "ipython3",
   "version": "3.9.12"
  }
 },
 "nbformat": 4,
 "nbformat_minor": 5
}
