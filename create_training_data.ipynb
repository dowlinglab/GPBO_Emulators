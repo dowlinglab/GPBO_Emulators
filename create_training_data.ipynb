{
 "cells": [
  {
   "cell_type": "code",
   "execution_count": null,
   "id": "fb95b690",
   "metadata": {},
   "outputs": [],
   "source": [
    "from bo_functions import LHS_Design\n",
    "from bo_functions import create_y_data\n",
    "from bo_functions import test_train_split\n",
    "\n",
    "#Set noise parameters and load csv file to generate training data\n",
    "noise_std = 0.1**2\n",
    "all_p = LHS_Design(\"LHS_Toy_3_Input.csv\")\n",
    "all_y = create_y_data(all_p)\n",
    "\n",
    "#Separate training and testing data, uses default of an 80%/20% split\n",
    "train_test_data = test_train_split(all_p,all_y)\n",
    "\n",
    "train_p = train_test_data[0] #1x19\n",
    "train_y = train_test_data[1] #1x19\n",
    "test_p = train_test_data[2] #1x19\n",
    "test_y = train_test_data[3] #1x19\n",
    "print(train_p)\n",
    "print(train_y)"
   ]
  }
 ],
 "metadata": {
  "kernelspec": {
   "display_name": "Python 3 (ipykernel)",
   "language": "python",
   "name": "python3"
  },
  "language_info": {
   "codemirror_mode": {
    "name": "ipython",
    "version": 3
   },
   "file_extension": ".py",
   "mimetype": "text/x-python",
   "name": "python",
   "nbconvert_exporter": "python",
   "pygments_lexer": "ipython3",
   "version": "3.9.7"
  }
 },
 "nbformat": 4,
 "nbformat_minor": 5
}
