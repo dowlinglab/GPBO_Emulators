{
 "cells": [
  {
   "cell_type": "markdown",
   "id": "172cb7dc",
   "metadata": {},
   "source": [
    "## Import Dependencies"
   ]
  },
  {
   "cell_type": "code",
   "execution_count": 1,
   "id": "5738fd89",
   "metadata": {},
   "outputs": [
    {
     "name": "stderr",
     "output_type": "stream",
     "text": [
      "/afs/crc.nd.edu/user/m/mcarlozo/.conda/envs/Toy_Problem_env/lib/python3.9/site-packages/tqdm/auto.py:21: TqdmWarning: IProgress not found. Please update jupyter and ipywidgets. See https://ipywidgets.readthedocs.io/en/stable/user_install.html\n",
      "  from .autonotebook import tqdm as notebook_tqdm\n"
     ]
    },
    {
     "name": "stdout",
     "output_type": "stream",
     "text": [
      "CPU times: user 2.2 s, sys: 272 ms, total: 2.48 s\n",
      "Wall time: 2.49 s\n"
     ]
    }
   ],
   "source": [
    "%%time\n",
    "\n",
    "import sys\n",
    "import gpytorch\n",
    "import numpy as np\n",
    "import pandas as pd\n",
    "import torch\n",
    "from datetime import datetime\n",
    "from scipy.stats import qmc\n",
    "import itertools\n",
    "from itertools import combinations_with_replacement, combinations, permutations\n",
    "import copy\n",
    "\n",
    "import bo_methods_lib\n",
    "from bo_methods_lib.bo_methods_lib.GPBO_Classes_New import * #Fix this later\n",
    "from bo_methods_lib.bo_methods_lib.GPBO_Class_fxns import * #Fix this later\n",
    "from bo_methods_lib.bo_methods_lib.GPBO_Classes_plotters import * #Fix this later\n",
    "import pickle\n",
    "import gzip\n",
    "\n",
    "warnings.simplefilter(\"ignore\", category=RuntimeWarning)"
   ]
  },
  {
   "cell_type": "markdown",
   "id": "e005c837",
   "metadata": {},
   "source": [
    "## Define Method and DateTime"
   ]
  },
  {
   "cell_type": "code",
   "execution_count": 2,
   "id": "2387d98a",
   "metadata": {},
   "outputs": [
    {
     "name": "stdout",
     "output_type": "stream",
     "text": [
      "Method Name:  B2\n",
      "Emulator?:  True\n",
      "Obj Func:  LN_OBJ\n",
      "Sparse Grid?:  False\n"
     ]
    }
   ],
   "source": [
    "#Generate Method (except last part)\n",
    "meth_name = Method_name_enum(2)\n",
    "method = GPBO_Methods(meth_name)\n",
    "\n",
    "print(\"Method Name: \", method.method_name.name)\n",
    "print(\"Emulator?: \", method.emulator)\n",
    "print(\"Obj Func: \", method.obj.name)\n",
    "print(\"Sparse Grid?: \", method.sparse_grid)\n",
    "\n",
    "#Set Date and Time\n",
    "dateTimeObj = datetime.now()\n",
    "timestampStr = dateTimeObj.strftime(\"%d-%b-%Y (%H:%M:%S)\")\n",
    "# print(\"Date and Time: \", timestampStr)\n",
    "# DateTime = dateTimeObj.strftime(\"%Y/%m/%d/%H-%M-%S%p\")\n",
    "DateTime = dateTimeObj.strftime(\"%Y/%m/%d/%H-%M\")\n",
    "DateTime = None ##For Testing"
   ]
  },
  {
   "cell_type": "markdown",
   "id": "06e36759",
   "metadata": {},
   "source": [
    "# Case Study GPBO Driver Test"
   ]
  },
  {
   "cell_type": "code",
   "execution_count": 3,
   "id": "5ec1b524",
   "metadata": {},
   "outputs": [
    {
     "name": "stdout",
     "output_type": "stream",
     "text": [
      "CS Name:  CS1\n",
      "t1t2\n",
      "2\n"
     ]
    }
   ],
   "source": [
    "cs_name_val = 1\n",
    "CS_name  = CS_name_enum(cs_name_val)\n",
    "print(\"CS Name: \", CS_name.name)\n",
    "\n",
    "param_name_str = set_param_str(cs_name_val)\n",
    "print(param_name_str)\n",
    "indecies_to_consider = set_idcs_to_consider(cs_name_val, param_name_str)\n",
    "print(len(indecies_to_consider))\n",
    "\n",
    "ep0 = 1\n",
    "ep_enum = Ep_enum(4)\n",
    "sep_fact = 0.9\n",
    "normalize = False\n",
    "noise_mean = 0\n",
    "noise_std = 0.01\n",
    "# noise_std = 0.0\n",
    "kernel = Kernel_enum(1)\n",
    "lenscl = None\n",
    "outputscl = 1\n",
    "retrain_GP = 1\n",
    "reoptimize_obj = 1\n",
    "bo_iter_tot = 10\n",
    "bo_run_tot = 2\n",
    "save_data = True\n",
    "seed = 1\n",
    "ei_tol = 1e-6\n",
    "obj_tol = 1e-4\n",
    "\n",
    "num_x_data = 5\n",
    "gen_meth_x = Gen_meth_enum(2) #Note: Has to be the same for validation and sim data\n",
    "num_theta_data = 20\n",
    "gen_meth_theta = Gen_meth_enum(1)"
   ]
  },
  {
   "cell_type": "code",
   "execution_count": 4,
   "id": "8caf2f1d",
   "metadata": {},
   "outputs": [],
   "source": [
    "simulator = simulator_helper_test_fxns(CS_name, indecies_to_consider, noise_mean, noise_std, normalize, seed)\n",
    "\n",
    "#Generate Exp Data\n",
    "exp_data = simulator.gen_exp_data(num_x_data, gen_meth_x)\n",
    "\n",
    "#Generate Sim Data\n",
    "sim_data = simulator.gen_sim_data(num_theta_data, num_x_data, gen_meth_theta, gen_meth_x, sep_fact, False)\n",
    "sim_sse_data = simulator.sim_data_to_sse_sim_data(method, sim_data, exp_data, sep_fact, False)\n",
    "\n",
    "#Generate Validation Data (for small case studies only)\n",
    "if cs_name_val <= 2:\n",
    "    gen_heat_map_data = True\n",
    "    num_theta_data_val = 20\n",
    "    gen_meth_theta_val = Gen_meth_enum(2)\n",
    "    val_data = simulator.gen_sim_data(num_theta_data_val, num_x_data, gen_meth_theta_val, gen_meth_x, sep_fact, True)\n",
    "    val_sse_data = simulator.sim_data_to_sse_sim_data(method, val_data, exp_data, sep_fact, True)\n",
    "    \n",
    "else:\n",
    "    num_theta_data_val = 0\n",
    "    gen_meth_theta_val = None\n",
    "    val_data = None\n",
    "    val_sse_data = None\n",
    "    gen_heat_map_data = False\n",
    "\n",
    "#Set Ep_Bias\n",
    "if ep_enum.value == 1:\n",
    "    ep_bias = Exploration_Bias(ep0, None, ep_enum, None, None, None, None, None, None, None)\n",
    "elif ep_enum.value == 2:\n",
    "    ep_bias = Exploration_Bias(ep0, None, ep_enum, None, bo_iter_tot, None, 0, None, None, None)\n",
    "elif ep_enum.value == 3:\n",
    "    ep_bias = Exploration_Bias(ep0, None, ep_enum, None, None, 1.5, None, None, None, None)\n",
    "else:\n",
    "    ep_bias = Exploration_Bias(None, None, ep_enum, None, None, None, None, None, None, None)\n",
    "    \n",
    "#Set Cs_params and Simulator\n",
    "cs_name = CS_name.name + \"_BO_method_\" + meth_name.name + \"_sep_fact_\" + str(round(sep_fact,2))\n",
    "cs_params = CaseStudyParameters(cs_name, ep0, sep_fact, normalize, kernel, lenscl, outputscl, retrain_GP, \n",
    "                                reoptimize_obj, gen_heat_map_data, bo_iter_tot, bo_run_tot, save_data, DateTime, \n",
    "                                seed, ei_tol, obj_tol)\n",
    "\n",
    "#Initialize Driver\n",
    "driver = GPBO_Driver(cs_params, method, simulator, exp_data, sim_data, sim_sse_data, val_data, val_sse_data, None, \n",
    "                     ep_bias, gen_meth_theta)"
   ]
  },
  {
   "cell_type": "code",
   "execution_count": 5,
   "id": "4c54cd42",
   "metadata": {},
   "outputs": [],
   "source": [
    "#Run Bo iterations/restarts\n",
    "restart_bo_results = driver.run_bo_restarts()"
   ]
  },
  {
   "cell_type": "code",
   "execution_count": 6,
   "id": "5a990e3b",
   "metadata": {},
   "outputs": [
    {
     "name": "stdout",
     "output_type": "stream",
     "text": [
      "[<bo_methods_lib.bo_methods_lib.GPBO_Classes_New.BO_Results object at 0x7f8711a65e80>, <bo_methods_lib.bo_methods_lib.GPBO_Classes_New.BO_Results object at 0x7f87108b3d30>]\n",
      "{'DateTime String': None, 'Method Name Enum Value': 4, 'Case Study Name': 'CS1_BO_method_B2_sep_fact_0.9', 'Number of Parameters': 2, 'Exploration Bias Method Value': 2, 'Separation Factor': 0.9, 'Normalize': False, 'Initial Kernel': <Kernel_enum.MAT_52: 1>, 'Initial Lengthscale': None, 'Initial Outputscale': 1, 'Retrain GP': 1, 'Reoptimize Obj': 1, 'Heat Map Points Generated': True, 'Max BO Iters': 10, 'Number of Workflow Restarts': 2, 'Seed': 3, 'EI Tolerance': 0.0001, 'Obj Improvement Tolerance': 1e-06, 'Theta Generation Enum Value': 1}\n",
      "   index Best Error Exploration Bias     Max EI  \\\n",
      "0      0   2.267023              1.0  40.672805   \n",
      "1      0  -4.883963              0.9   9.636708   \n",
      "2      0  -4.883963              0.8  11.667721   \n",
      "3      0  -4.883963              0.7  13.058383   \n",
      "4      0  -4.883963              0.6   6.508668   \n",
      "5      0  -4.883963              0.0  20.126372   \n",
      "6      0  -4.883963              0.0  19.340135   \n",
      "7      0  -4.883963              0.0  20.273715   \n",
      "8      0  -4.883963              0.0  20.375814   \n",
      "9      0  -4.883963              0.0   46.55219   \n",
      "\n",
      "                                  Theta Max EI    Min Obj Min Obj Act  \\\n",
      "0    [0.9797049407019048, -0.9899295511703976]   -7.27226   -5.259156   \n",
      "1    [-1.0255560506984243, 1.0189313168180134] -11.887334   -9.033531   \n",
      "2    [-1.0237250837283356, 1.0205730259560732] -11.924176   -9.072624   \n",
      "3      [-1.023080440510914, 1.020983964246462] -11.931048   -9.080604   \n",
      "4   [-0.324421621190194, -0.21079959683560814] -11.933759   -9.083916   \n",
      "5    [-1.0229956052393294, 1.0214510387879854] -11.940748   -9.090516   \n",
      "6  [-0.3304297969314564, -0.33464077607611054] -11.942086   -9.092255   \n",
      "7     [-1.0229487927747616, 1.021690315915748] -11.979768   -9.127429   \n",
      "8    [-1.0228180762637993, 1.0217644664651482] -11.980604   -9.128525   \n",
      "9      [1.002856991752626, -1.000243515080511] -11.981158   -9.129257   \n",
      "\n",
      "                               Theta Min Obj Min Obj Cum.  \\\n",
      "0   [0.984067152756847, -0.9911530393055908]    -5.259156   \n",
      "1  [1.0033715603478213, -1.0004082318827243]    -9.033531   \n",
      "2   [1.003306903590039, -1.0003988550008869]    -9.072624   \n",
      "3  [1.0032937732373164, -1.0003971727896777]    -9.080604   \n",
      "4  [1.0032883224011684, -1.0003965205029426]    -9.083916   \n",
      "5   [1.0032731952561698, -1.000405543974643]    -9.090516   \n",
      "6  [1.0032703696192165, -1.0004051432969459]    -9.092255   \n",
      "7  [1.0032149322889523, -1.0003943220169838]    -9.127429   \n",
      "8  [1.0032131777972086, -1.0003940890085314]    -9.128525   \n",
      "9   [1.003212005002883, -1.0003939399995445]    -9.129257   \n",
      "\n",
      "                          Theta Min Obj Cum.  Time/Iter  \n",
      "0   [0.984067152756847, -0.9911530393055908]  49.072124  \n",
      "1  [1.0033715603478213, -1.0004082318827243]   9.290214  \n",
      "2   [1.003306903590039, -1.0003988550008869]   8.582771  \n",
      "3  [1.0032937732373164, -1.0003971727896777]   8.421791  \n",
      "4  [1.0032883224011684, -1.0003965205029426]    8.59839  \n",
      "5   [1.0032731952561698, -1.000405543974643]  23.031773  \n",
      "6  [1.0032703696192165, -1.0004051432969459]  23.952608  \n",
      "7  [1.0032149322889523, -1.0003943220169838]  19.517585  \n",
      "8  [1.0032131777972086, -1.0003940890085314]  14.615364  \n",
      "9   [1.003212005002883, -1.0003939399995445]  38.542149  \n",
      "[ 1.00321201 -1.00039394]\n",
      "[ 1. -1.]\n"
     ]
    }
   ],
   "source": [
    "#Open Data File\n",
    "cs_name = CS_name.name + \"_BO_method_\" + meth_name.name + \"_sep_fact_\" + str(round(sep_fact,2))\n",
    "fileObj = gzip.open(\"No_Date/Data_Files/\" + cs_name + \".gz\", 'rb')\n",
    "loaded_results = pickle.load(fileObj)\n",
    "fileObj.close()\n",
    "\n",
    "print(loaded_results)sign\n",
    "\n",
    "#Define the run number and bo iter in question and pull the max bo iters and runs\n",
    "run_num = -1\n",
    "bo_iter = -1\n",
    "runs = loaded_results[run_num].configuration[\"Number of Workflow Restarts\"]\n",
    "num_sets = loaded_results[run_num].configuration[\"Max BO Iters\"]\n",
    "\n",
    "#Print Results\n",
    "print(loaded_results[run_num].configuration)\n",
    "# print(loaded_results[run_num].list_gp_emulator_class[bo_iter])\n",
    "# print(len(loaded_results[run_num].list_heat_map_data))\n",
    "print(loaded_results[run_num].results_df)\n",
    "print(loaded_results[run_num].results_df[\"Theta Min Obj Cum.\"].iloc[-1])\n",
    "print(loaded_results[run_num].simulator_class.theta_true)\n",
    "# print(loaded_results[run_num].heat_map_data_dict)\n",
    "# print(loaded_results[run_num].simulator_class.theta_true_norm)"
   ]
  },
  {
   "cell_type": "code",
   "execution_count": 7,
   "id": "5832a14f",
   "metadata": {},
   "outputs": [
    {
     "name": "stdout",
     "output_type": "stream",
     "text": [
      "2000\n"
     ]
    }
   ],
   "source": [
    "# file_path = \"workspace/0e0d7128d606a40af6ddb567875754cc/BO_Results.gz\"\n",
    "\n",
    "# fileObj = gzip.open(file_path, 'rb')\n",
    "cs_name = CS_name.name + \"_BO_method_\" + meth_name.name + \"_sep_fact_\" + str(round(sep_fact,2))\n",
    "fileObj = gzip.open(\"No_Date/Data_Files/\" + cs_name + \".gz\", 'rb')\n",
    "loaded_results = pickle.load(fileObj)\n",
    "fileObj.close()\n",
    "\n",
    "print(len(loaded_results[0].heat_map_data_dict[('theta_1', 'theta_2')].theta_vals))"
   ]
  },
  {
   "cell_type": "code",
   "execution_count": null,
   "id": "73474f44",
   "metadata": {},
   "outputs": [],
   "source": []
  }
 ],
 "metadata": {
  "kernelspec": {
   "display_name": "Python 3 (ipykernel)",
   "language": "python",
   "name": "python3"
  },
  "language_info": {
   "codemirror_mode": {
    "name": "ipython",
    "version": 3
   },
   "file_extension": ".py",
   "mimetype": "text/x-python",
   "name": "python",
   "nbconvert_exporter": "python",
   "pygments_lexer": "ipython3",
   "version": "3.9.12"
  }
 },
 "nbformat": 4,
 "nbformat_minor": 5
}
