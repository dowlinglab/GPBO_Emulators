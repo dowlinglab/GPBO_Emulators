{
 "cells": [
  {
   "cell_type": "markdown",
   "id": "172cb7dc",
   "metadata": {},
   "source": [
    "## Import Dependencies"
   ]
  },
  {
   "cell_type": "code",
   "execution_count": 1,
   "id": "5738fd89",
   "metadata": {},
   "outputs": [
    {
     "name": "stderr",
     "output_type": "stream",
     "text": [
      "/afs/crc.nd.edu/user/m/mcarlozo/.conda/envs/Toy_Problem_env/lib/python3.9/site-packages/tqdm/auto.py:21: TqdmWarning: IProgress not found. Please update jupyter and ipywidgets. See https://ipywidgets.readthedocs.io/en/stable/user_install.html\n",
      "  from .autonotebook import tqdm as notebook_tqdm\n"
     ]
    },
    {
     "name": "stdout",
     "output_type": "stream",
     "text": [
      "CPU times: user 2.37 s, sys: 262 ms, total: 2.63 s\n",
      "Wall time: 2.65 s\n"
     ]
    }
   ],
   "source": [
    "%%time\n",
    "\n",
    "import sys\n",
    "import gpytorch\n",
    "import numpy as np\n",
    "import pandas as pd\n",
    "import torch\n",
    "from datetime import datetime\n",
    "from scipy.stats import qmc\n",
    "import itertools\n",
    "from itertools import combinations_with_replacement, combinations, permutations\n",
    "import copy\n",
    "\n",
    "import bo_methods_lib\n",
    "from bo_methods_lib.bo_methods_lib.bo_functions_generic import gen_theta_set, clean_1D_arrays\n",
    "from bo_methods_lib.bo_methods_lib.GPBO_Classes_New import * #Fix this later\n",
    "from bo_methods_lib.bo_methods_lib.GPBO_Class_fxns import * #Fix this later\n",
    "from bo_methods_lib.bo_methods_lib.GPBO_Classes_plotters import * #Fix this later\n",
    "import pickle\n",
    "\n",
    "warnings.simplefilter(\"ignore\", category=RuntimeWarning)"
   ]
  },
  {
   "cell_type": "markdown",
   "id": "27207621",
   "metadata": {},
   "source": [
    "## Define Case Study Simulator & Functions"
   ]
  },
  {
   "cell_type": "code",
   "execution_count": 2,
   "id": "03a611c0",
   "metadata": {},
   "outputs": [],
   "source": [
    "def simulator_helper_test_fxns(cs_name, indecies_to_consider, noise_mean, noise_std, normalize, seed):\n",
    "    \"\"\"\n",
    "    Sets the model for calculating y based off of the case study identifier.\n",
    "\n",
    "    Parameters\n",
    "    ----------\n",
    "    cs_name: Class, The name/enumerator associated with the case study being evaluated\n",
    "\n",
    "    Returns\n",
    "    -------\n",
    "    calc_y_fxn: function, the function used for calculation is case study cs_name.name\n",
    "    \"\"\"\n",
    "    #Note: Add your function name from GPBO_Class_fxns.py here\n",
    "    if cs_name.value == 1:      \n",
    "        theta_names = ['theta_1', 'theta_2']\n",
    "        bounds_x_l = [-2]\n",
    "        bounds_x_u = [2]\n",
    "        bounds_theta_l = [-2, -2]\n",
    "        bounds_theta_u = [ 2,  2]\n",
    "        theta_ref = np.array([1.0, -1.0])     \n",
    "        calc_y_fxn = calc_cs1_polynomial\n",
    "        \n",
    "    elif cs_name.value == 2:                          \n",
    "        theta_names = ['A_1', 'A_2', 'A_3', 'A_4', 'a_1', 'a_2', 'a_3', 'a_4', 'b_1', 'b_2', 'b_3', 'b_4', 'c_1', \n",
    "                       'c_2', 'c_3', 'c_4', 'x0_1', 'x0_2', 'x0_3', 'x0_4', 'x1_1', 'x1_2', 'x1_3', 'x1_4']\n",
    "        bounds_x_l = [-1.5, -0.5]\n",
    "        bounds_x_u = [1, 2]\n",
    "        bounds_theta_l = [-300,-200,-250, 5,-2,-2,-10, -2, -2,-2,5,-2,-20,-20, -10,-1 ,-2,-2,-2, -2,-2,-2,0,-2]\n",
    "        bounds_theta_u = [-100,  0, -150, 20,2, 2, 0,  2,  2,  2, 15,2, 0,0   , 0,  2, 2,  2, 2, 2 ,2 , 2, 2,2]\n",
    "        theta_ref = np.array([-200,-100,-170,15,-1,-1,-6.5,0.7,0,0,11,0.6,-10,-10,-6.5,0.7,1,0,-0.5,-1,0,0.5,1.5,1])      \n",
    "#         theta_ref = np.array([0.5, 0.5, 0.8, 2/3, 0.25, 0.25, 0.35, 0.675, 0.5, 0.5, 0.6, 0.65, 0.5, 0.5, 0.35, 28333/50000, 0.75, 0.5,\n",
    "#     0.375, 0.25, 0.5, 0.625, 0.75, 0.75])\n",
    "        calc_y_fxn = calc_muller\n",
    "        \n",
    "    else:\n",
    "        raise ValueError(\"self.CaseStudyParameters.cs_name.value must exist!\")\n",
    "\n",
    "    return Simulator(indecies_to_consider, \n",
    "                     theta_ref,\n",
    "                     theta_names,\n",
    "                     bounds_theta_l, \n",
    "                     bounds_x_l, \n",
    "                     bounds_theta_u, \n",
    "                     bounds_x_u, \n",
    "                     noise_mean,\n",
    "                     noise_std,\n",
    "                     normalize,\n",
    "                     seed,\n",
    "                     calc_y_fxn)"
   ]
  },
  {
   "cell_type": "markdown",
   "id": "e005c837",
   "metadata": {},
   "source": [
    "## Define Method and DateTime"
   ]
  },
  {
   "cell_type": "code",
   "execution_count": 3,
   "id": "2387d98a",
   "metadata": {},
   "outputs": [
    {
     "name": "stdout",
     "output_type": "stream",
     "text": [
      "Method Name:  C2\n",
      "Emulator?:  True\n",
      "Obj Func:  OBJ\n",
      "Sparse Grid?:  True\n"
     ]
    }
   ],
   "source": [
    "#Generate Method (except last part)\n",
    "meth_name = Method_name_enum(5)\n",
    "method = GPBO_Methods(meth_name)\n",
    "\n",
    "print(\"Method Name: \", method.method_name.name)\n",
    "print(\"Emulator?: \", method.emulator)\n",
    "print(\"Obj Func: \", method.obj.name)\n",
    "print(\"Sparse Grid?: \", method.sparse_grid)\n",
    "\n",
    "#Set Date and Time\n",
    "dateTimeObj = datetime.now()\n",
    "timestampStr = dateTimeObj.strftime(\"%d-%b-%Y (%H:%M:%S)\")\n",
    "# print(\"Date and Time: \", timestampStr)\n",
    "# DateTime = dateTimeObj.strftime(\"%Y/%m/%d/%H-%M-%S%p\")\n",
    "DateTime = dateTimeObj.strftime(\"%Y/%m/%d/%H-%M\")\n",
    "DateTime = None ##For Testing"
   ]
  },
  {
   "cell_type": "markdown",
   "id": "06e36759",
   "metadata": {},
   "source": [
    "# Case Study GPBO Driver Test"
   ]
  },
  {
   "cell_type": "code",
   "execution_count": 4,
   "id": "5ec1b524",
   "metadata": {},
   "outputs": [
    {
     "name": "stdout",
     "output_type": "stream",
     "text": [
      "CS Name:  CS1\n"
     ]
    }
   ],
   "source": [
    "CS_name  = CS_name_enum(1)\n",
    "print(\"CS Name: \", CS_name.name)\n",
    "\n",
    "# indecies_to_consider = list(range(2, 6)) #This is what changes for different subproblems of CS2\n",
    "indecies_to_consider = list(range(0, 2)) #This is what changes for different subproblems of CS1\n",
    "\n",
    "ep0 = 1\n",
    "ep_enum = Ep_enum(1)\n",
    "sep_fact = 0.8\n",
    "normalize = False\n",
    "gen_heat_map_data = True\n",
    "noise_mean = 0\n",
    "noise_std = 0.01\n",
    "# noise_std = 0.0\n",
    "kernel = Kernel_enum(1)\n",
    "lenscl = None\n",
    "outputscl = 1\n",
    "retrain_GP = 5\n",
    "reoptimize_obj = 5\n",
    "bo_iter_tot = 5\n",
    "bo_run_tot = 3\n",
    "save_data = True\n",
    "seed = 1\n",
    "ei_tol = 1e-6\n",
    "obj_tol = 1e-4\n",
    "\n",
    "num_x_data = 5\n",
    "gen_meth_x = Gen_meth_enum(2) #Note: Has to be the same for validation and sim data\n",
    "num_theta_data = 20\n",
    "gen_meth_theta = Gen_meth_enum(1)\n",
    "num_theta_data_val = 10\n",
    "gen_meth_theta_val = Gen_meth_enum(1)"
   ]
  },
  {
   "cell_type": "code",
   "execution_count": 5,
   "id": "8caf2f1d",
   "metadata": {},
   "outputs": [],
   "source": [
    "#Set Cs_params and Simulator\n",
    "cs_name = CS_name.name + \"_BO_method_\" + meth_name.name + \"_sep_fact_\" + str(round(sep_fact,2))\n",
    "cs_params = CaseStudyParameters(cs_name, ep0, sep_fact, normalize, kernel, lenscl, outputscl, retrain_GP, \n",
    "                                reoptimize_obj, gen_heat_map_data, bo_iter_tot, bo_run_tot, save_data, DateTime, \n",
    "                                seed, ei_tol, obj_tol)\n",
    "\n",
    "simulator = simulator_helper_test_fxns(CS_name, indecies_to_consider, noise_mean, noise_std, normalize, seed)\n",
    "\n",
    "#Generate Exp Data\n",
    "exp_data = simulator.gen_exp_data(num_x_data, gen_meth_x)\n",
    "\n",
    "#Generate Sim Data\n",
    "sim_data = simulator.gen_sim_data(num_theta_data, num_x_data, gen_meth_theta, gen_meth_x, sep_fact, False)\n",
    "sim_sse_data = simulator.sim_data_to_sse_sim_data(method, sim_data, exp_data, sep_fact, False)\n",
    "\n",
    "#Generate Validation Data\n",
    "val_data = simulator.gen_sim_data(num_theta_data_val, num_x_data, gen_meth_theta_val, gen_meth_x, sep_fact, True)\n",
    "val_sse_data = simulator.sim_data_to_sse_sim_data(method, val_data, exp_data, sep_fact, True)\n",
    "\n",
    "#Set Ep_Bias\n",
    "if ep_enum.value == 1:\n",
    "    ep_bias = Exploration_Bias(ep0, None, ep_enum, None, None, None, None, None, None, None)\n",
    "elif ep_enum.value == 2:\n",
    "    ep_bias = Exploration_Bias(ep0, None, ep_enum, None, bo_iter_tot, None, 0, None, None, None)\n",
    "elif ep_enum.value == 3:\n",
    "    ep_bias = Exploration_Bias(ep0, None, ep_enum, None, None, 1.5, None, None, None, None)\n",
    "else:\n",
    "    ep_bias = Exploration_Bias(None, None, ep_enum, None, None, None, None, None, None, None)\n",
    "\n",
    "#Initialize Driver\n",
    "driver = GPBO_Driver(cs_params, method, simulator, exp_data, sim_data, sim_sse_data, val_data, val_sse_data, None, \n",
    "                     ep_bias, gen_meth_theta_val)"
   ]
  },
  {
   "cell_type": "code",
   "execution_count": 6,
   "id": "4c54cd42",
   "metadata": {},
   "outputs": [],
   "source": [
    "#Run Bo iterations/restarts\n",
    "restart_bo_results = driver.run_bo_restarts()"
   ]
  },
  {
   "cell_type": "code",
   "execution_count": 7,
   "id": "5a990e3b",
   "metadata": {},
   "outputs": [
    {
     "name": "stdout",
     "output_type": "stream",
     "text": [
      "{'DateTime String': None, 'Method Name Enum Value': 5, 'Case Study Name': 'CS1_BO_method_C2_sep_fact_0.8', 'Number of Parameters': 2, 'Exploration Bias Method Value': 1, 'Separation Factor': 0.8, 'Normalize': False, 'Initial Kernel': <Kernel_enum.MAT_52: 1>, 'Initial Lengthscale': None, 'Initial Outputscale': 1, 'Retrain GP': 5, 'Reoptimize Obj': 5, 'Heat Map Points Generated': True, 'Max BO Iters': 5, 'Number of Workflow Restarts': 3, 'Seed': 1, 'EI Tolerance': 0.0001, 'Obj Improvement Tolerance': 1e-06}\n",
      "   index Best Error Exploration Bias      Max EI  \\\n",
      "0      0   9.650632                1         0.0   \n",
      "1      0   9.650632                1  168.808581   \n",
      "\n",
      "                                Theta Max EI   Min Obj Min Obj Act  \\\n",
      "0  [-1.424906265112171, 0.33997509467786546]   0.00039    0.001695   \n",
      "1  [0.9885104186344819, -0.9920875149759358]  0.000482    0.003426   \n",
      "\n",
      "                               Theta Min Obj Min Obj Cum.  \\\n",
      "0  [0.9946435883603465, -0.9935656927586796]     0.001695   \n",
      "1  [0.9885696369848752, -0.9921040969519849]     0.001695   \n",
      "\n",
      "                          Theta Min Obj Cum. Time/Iter  \n",
      "0  [0.9946435883603465, -0.9935656927586796]  0.689208  \n",
      "1  [0.9946435883603465, -0.9935656927586796]  0.873451  \n",
      "[ 0.99464359 -0.99356569]\n",
      "[ 1. -1.]\n"
     ]
    }
   ],
   "source": [
    "#Open Data File\n",
    "name_cs_str = \"CS1\"\n",
    "fileObj = open(\"No_Date/Data_Files/\" + cs_name + \".pickle\", 'rb')\n",
    "loaded_results = pickle.load(fileObj)\n",
    "fileObj.close()\n",
    "\n",
    "#Define the run number and bo iter in question and pull the max bo iters and runs\n",
    "run_num = 0\n",
    "bo_iter = 0\n",
    "runs = loaded_results[run_num].configuration[\"Number of Workflow Restarts\"]\n",
    "num_sets = loaded_results[run_num].configuration[\"Max BO Iters\"]\n",
    "\n",
    "#Print Results\n",
    "print(loaded_results[run_num].configuration)\n",
    "# print(loaded_results[run_num].list_gp_emulator_class[bo_iter])\n",
    "# print(len(loaded_results[run_num].list_heat_map_data))\n",
    "print(loaded_results[run_num].results_df)\n",
    "print(loaded_results[run_num].results_df[\"Theta Min Obj Cum.\"].iloc[-1])\n",
    "print(loaded_results[run_num].simulator_class.theta_true)\n",
    "# print(loaded_results[run_num].heat_map_data_dict)\n",
    "# print(loaded_results[run_num].simulator_class.theta_true_norm)"
   ]
  },
  {
   "cell_type": "code",
   "execution_count": null,
   "id": "08ab7c4f",
   "metadata": {},
   "outputs": [],
   "source": []
  }
 ],
 "metadata": {
  "kernelspec": {
   "display_name": "Python 3 (ipykernel)",
   "language": "python",
   "name": "python3"
  },
  "language_info": {
   "codemirror_mode": {
    "name": "ipython",
    "version": 3
   },
   "file_extension": ".py",
   "mimetype": "text/x-python",
   "name": "python",
   "nbconvert_exporter": "python",
   "pygments_lexer": "ipython3",
   "version": "3.9.12"
  }
 },
 "nbformat": 4,
 "nbformat_minor": 5
}
