{
 "cells": [
  {
   "cell_type": "markdown",
   "id": "172cb7dc",
   "metadata": {},
   "source": [
    "## Import Dependencies"
   ]
  },
  {
   "cell_type": "code",
   "execution_count": 1,
   "id": "5738fd89",
   "metadata": {},
   "outputs": [
    {
     "name": "stderr",
     "output_type": "stream",
     "text": [
      "/afs/crc.nd.edu/user/m/mcarlozo/.conda/envs/Toy_Problem_env/lib/python3.9/site-packages/tqdm/auto.py:22: TqdmWarning: IProgress not found. Please update jupyter and ipywidgets. See https://ipywidgets.readthedocs.io/en/stable/user_install.html\n",
      "  from .autonotebook import tqdm as notebook_tqdm\n"
     ]
    },
    {
     "name": "stdout",
     "output_type": "stream",
     "text": [
      "CPU times: user 2.35 s, sys: 317 ms, total: 2.67 s\n",
      "Wall time: 2.7 s\n"
     ]
    }
   ],
   "source": [
    "%%time\n",
    "\n",
    "import sys\n",
    "import gpytorch\n",
    "import numpy as np\n",
    "import pandas as pd\n",
    "import torch\n",
    "from datetime import datetime\n",
    "from scipy.stats import qmc\n",
    "import itertools\n",
    "from itertools import combinations_with_replacement, combinations, permutations\n",
    "\n",
    "import bo_methods_lib\n",
    "from bo_methods_lib.bo_functions_generic import gen_theta_set, clean_1D_arrays\n",
    "from bo_methods_lib.GPBO_Classes_New import * #Fix this later\n",
    "from bo_methods_lib.GPBO_Class_fxns import * #Fix this later"
   ]
  },
  {
   "cell_type": "markdown",
   "id": "e005c837",
   "metadata": {},
   "source": [
    "## Define Method and DateTime"
   ]
  },
  {
   "cell_type": "code",
   "execution_count": 2,
   "id": "516ae29e",
   "metadata": {},
   "outputs": [
    {
     "name": "stdout",
     "output_type": "stream",
     "text": [
      "Method Name:  B1\n",
      "Emulator?:  False\n",
      "Obj Func:  LN_OBJ\n",
      "Sparse Grid?:  False\n"
     ]
    }
   ],
   "source": [
    "#Set Date and Time\n",
    "dateTimeObj = datetime.now()\n",
    "timestampStr = dateTimeObj.strftime(\"%d-%b-%Y (%H:%M:%S)\")\n",
    "# print(\"Date and Time: \", timestampStr)\n",
    "# DateTime = dateTimeObj.strftime(\"%Y/%m/%d/%H-%M-%S%p\")\n",
    "DateTime = dateTimeObj.strftime(\"%Y/%m/%d/%H-%M\")\n",
    "DateTime = None ##For Testing\n",
    "\n",
    "#Generate Method (except last part)\n",
    "meth_name = Method_name_enum(2)\n",
    "method = GPBO_Methods(meth_name)\n",
    "\n",
    "print(\"Method Name: \", method.method_name.name)\n",
    "print(\"Emulator?: \", method.emulator)\n",
    "print(\"Obj Func: \", method.obj.name)\n",
    "print(\"Sparse Grid?: \", method.sparse_grid)"
   ]
  },
  {
   "cell_type": "markdown",
   "id": "27207621",
   "metadata": {},
   "source": [
    "## Define Case Study Simulator & Functions"
   ]
  },
  {
   "cell_type": "code",
   "execution_count": 3,
   "id": "03a611c0",
   "metadata": {},
   "outputs": [],
   "source": [
    "def simulator_helper_test_fxns(cs_name, indecies_to_consider):\n",
    "    \"\"\"\n",
    "    Sets the model for calculating y based off of the case study identifier.\n",
    "\n",
    "    Parameters\n",
    "    ----------\n",
    "    cs_name: Class, The name/enumerator associated with the case study being evaluated\n",
    "\n",
    "    Returns\n",
    "    -------\n",
    "    calc_y_fxn: function, the function used for calculation is case study cs_name.name\n",
    "    \"\"\"\n",
    "    #Note: Add your function name from GPBO_Class_fxns.py here\n",
    "    if cs_name.value == 1:\n",
    "        dim_x = 1       \n",
    "        theta_ref = np.array([1, -1])\n",
    "        theta_names = ['theta_1', 'theta_2']\n",
    "        calc_y_fxn = calc_cs1_polynomial\n",
    "        \n",
    "    elif cs_name.value == 2:\n",
    "        dim_x = 2       \n",
    "        theta_ref = np.array([-200,-100,-170,15,-1,-1,-6.5,0.7,0,0,11,0.6,-10,-10,-6.5,0.7,1,0,-0.5,-1,0,0.5,1.5,1])\n",
    "        theta_names = ['A_1', 'A_2', 'A_3', 'A_4', 'a_1', 'a_2', 'a_3', 'a_4', 'b_1', 'b_2', 'b_3', 'b_4', 'c_1', \n",
    "                       'c_2', 'c_3', 'c_4', 'x0_1', 'x0_2', 'x0_3', 'x0_4', 'x1_1', 'x1_2', 'x1_3', 'x1_4']\n",
    "        calc_y_fxn = calc_muller\n",
    "        \n",
    "    else:\n",
    "        raise ValueError(\"self.CaseStudyParameters.cs_name.value must exist!\")\n",
    "\n",
    "    return Simulator(dim_x, \n",
    "                     indecies_to_consider, \n",
    "                     theta_ref,\n",
    "                     theta_names,\n",
    "                     calc_y_fxn)\n",
    "\n",
    "#Note for a general case also have the function (ex:)\n",
    "# def calc_muller(model_coefficients, x):\n",
    "#     \"\"\"\n",
    "#     Caclulates the Muller Potential\n",
    "    \n",
    "#     Parameters\n",
    "#     ----------\n",
    "#         model_coefficients: ndarray, The array containing the values of Muller constants\n",
    "#         x: ndarray, Values of X\n",
    "#         noise: ndarray, Any noise associated with the model calculation\n",
    "    \n",
    "#     Returns:\n",
    "#     --------\n",
    "#         y_mul: float, value of Muller potential\n",
    "#     \"\"\"\n",
    "#     #Reshape x to matrix form\n",
    "#     x = vector_to_1D_array(x) \n",
    "#     assert x.shape[0] == 2, \"Muller Potential x_data must be 2 dimensional\"\n",
    "#     X1, X2 = x #Split x into 2 parts by splitting the rows\n",
    "    \n",
    "#     #Separate all model parameters into their appropriate pieces\n",
    "#     model_coefficients_reshape = model_coefficients.reshape(6, 4)\n",
    "        \n",
    "#     #Calculate Muller Potential\n",
    "#     A, a, b, c, x0, y0 = model_coefficients_reshape\n",
    "#     term1 = a*(X1 - x0)**2\n",
    "#     term2 = b*(X1 - x0)*(X2 - y0)\n",
    "#     term3 = c*(X2 - y0)**2\n",
    "#     y_mul = np.sum(A*np.exp(term1 + term2 + term3) )\n",
    "    \n",
    "#     return y_mul"
   ]
  },
  {
   "cell_type": "markdown",
   "id": "feebcda8",
   "metadata": {},
   "source": [
    "## Define Case Study"
   ]
  },
  {
   "cell_type": "code",
   "execution_count": 4,
   "id": "1d19cd9d",
   "metadata": {},
   "outputs": [
    {
     "name": "stdout",
     "output_type": "stream",
     "text": [
      "CS Name:  CS2\n"
     ]
    }
   ],
   "source": [
    "cs_name  = CS_name_enum(2)\n",
    "print(\"CS Name: \", cs_name.name)\n",
    "\n",
    "indecies_to_consider = list(range(4, 12)) #This is what changes for different subproblems of CS2\n",
    "\n",
    "ep0 = 1\n",
    "sep_fact = 1.0\n",
    "normalize = False\n",
    "num_x_data = 27\n",
    "num_theta_data = 20\n",
    "lhs_gen_theta = True\n",
    "eval_all_pairs = False\n",
    "package = \"scikit_learn\"\n",
    "noise_mean = 0\n",
    "noise_std = 0.01\n",
    "kernel = \"Mat_52\"\n",
    "set_lenscl = 1\n",
    "outputscl = False\n",
    "retrain_GP = 2\n",
    "GP_train_iter = 300\n",
    "bo_iter_tot = 3\n",
    "bo_run_tot = 2\n",
    "save_fig = False\n",
    "save_data = False\n",
    "num_data = None\n",
    "seed = 1\n",
    "\n",
    "CS = CaseStudyParameters(cs_name, ep0, sep_fact, normalize, eval_all_pairs, package, noise_mean, noise_std, kernel, \n",
    "                         set_lenscl, outputscl, retrain_GP, GP_train_iter, bo_iter_tot, bo_run_tot, save_fig, \n",
    "                         save_data, DateTime, seed)\n",
    "\n",
    "simulator = simulator_helper_test_fxns(cs_name, indecies_to_consider)"
   ]
  },
  {
   "cell_type": "markdown",
   "id": "97e7e2c4",
   "metadata": {},
   "source": [
    "## Generate Experimental X and Y Data (If not given)"
   ]
  },
  {
   "cell_type": "code",
   "execution_count": 5,
   "id": "836b2823",
   "metadata": {},
   "outputs": [],
   "source": [
    "bounds_x_l = [-1.5, -0.5]\n",
    "bounds_x_u = [1, 2]\n",
    "bounds_p_l = [-2, -2, -10, -2, -2, -2,  5, -2]\n",
    "bounds_p_u = [ 2,  2,   0,  2,  2,  2, 15,  2]\n",
    "gen_meth_x = Gen_meth_enum(1)\n",
    "\n",
    "# exp_data = Data(true_params, x_data, None, None, None, None, None, None)\n",
    "driver = GPBO_Driver(CS, simulator, None, None)\n",
    "exp_data = driver.gen_exp_data(bounds_p_l, bounds_x_l, bounds_p_u, bounds_x_u, num_x_data, gen_meth_x)\n",
    "\n",
    "# print(exp_data.y_vals)"
   ]
  },
  {
   "cell_type": "markdown",
   "id": "56c55153",
   "metadata": {},
   "source": [
    "## Normalize Experimental X Data (optional)"
   ]
  },
  {
   "cell_type": "code",
   "execution_count": 6,
   "id": "e4165218",
   "metadata": {},
   "outputs": [],
   "source": [
    "scaled_exp_data = exp_data\n",
    "bounds_p = scaled_exp_data.bounds_theta\n",
    "bounds_x = scaled_exp_data.bounds_x\n",
    "\n",
    "scaled_exp_data.theta_vals = scaled_exp_data.normalize(simulator.theta_true, bounds_p)\n",
    "scaled_exp_data.x_vals = scaled_exp_data.normalize(scaled_exp_data.x_vals, bounds_x)\n",
    "\n",
    "# print(scaled_exp_data.theta_true)\n",
    "# print(scaled_exp_data.x_vals)"
   ]
  },
  {
   "cell_type": "markdown",
   "id": "d1052130",
   "metadata": {},
   "source": [
    "## Generate Simulation Theta Data"
   ]
  },
  {
   "cell_type": "code",
   "execution_count": 10,
   "id": "8a9c8ac4",
   "metadata": {},
   "outputs": [
    {
     "name": "stdout",
     "output_type": "stream",
     "text": [
      "[ -84.74179267 -103.08066863 -102.44899132  -43.42396972   -5.78770289\n",
      " -114.39984015  -77.68534664  -51.11304856  -94.58183093  -36.61857691\n",
      " -110.82270192  -81.67258385 -152.38176931  -88.81419054 -109.4200563\n",
      "  -13.41055178 -183.57957448 -115.32985953  -86.18090791 -160.16603728\n",
      " -108.69360077 -121.58699512 -142.6053061   -10.29621668  -71.1341678\n",
      " -103.0576797   -31.72490656]\n",
      "20 8 20\n"
     ]
    }
   ],
   "source": [
    "#Generate and store data as a method in the driver class which creates an instances of the data class and adds data to it)\n",
    "# Define the lower and upper bounds (define seperately)\n",
    "# bounds_p = np.array([[-2, -2, -10, -2, -2, -2,  5, -2],\n",
    "#                     [ 2,  2,   0,  2,  2,  2, 15,  2]])\n",
    "\n",
    "# sim_data = Data(None, true_params, x_data, None, None, None, None, None, None)\n",
    "# sim_data.theta_vals = clean_1D_arrays(driver.create_param_data(num_theta_data, bounds_p, gen_meth))\n",
    "share_x_from_exp = True\n",
    "gen_meth_x = Gen_meth_enum(1)\n",
    "gen_meth_theta = Gen_meth_enum(1)\n",
    "sim_data = driver.gen_sim_data(num_theta_data, gen_meth_theta, num_x_data, gen_meth_x, share_x_from_exp)\n",
    "\n",
    "#Set number and dimension of training data\n",
    "num_gp_data = sim_data.get_num_gp_data(method)\n",
    "dim_gp_data = sim_data.get_dim_gp_data(method)\n",
    "num_theta_calc = sim_data.get_num_theta()\n",
    "\n",
    "# print(sim_data.y_vals)\n",
    "print(num_gp_data, dim_gp_data, num_theta_calc)"
   ]
  },
  {
   "cell_type": "markdown",
   "id": "0993198a",
   "metadata": {},
   "source": [
    "## Generate y_sim, sse, or log(sse) data (Run Simulations)"
   ]
  },
  {
   "cell_type": "code",
   "execution_count": 8,
   "id": "a9c2fd26",
   "metadata": {},
   "outputs": [],
   "source": [
    "#Create y_sim data based on method, data, and case study\n",
    "y_sim = simulator.create_sim_data(method, CS, sim_data, exp_data)\n",
    "sim_data.y_vals = y_sim\n",
    "# print(y_sim)"
   ]
  },
  {
   "cell_type": "markdown",
   "id": "f57d5f05",
   "metadata": {},
   "source": [
    "## Augmenting Training Data (Skipped Steps)"
   ]
  },
  {
   "cell_type": "code",
   "execution_count": 14,
   "id": "6a021211",
   "metadata": {},
   "outputs": [
    {
     "name": "stdout",
     "output_type": "stream",
     "text": [
      "20 27\n",
      "21 54\n"
     ]
    }
   ],
   "source": [
    "best_theta = Data(simulator.theta_true.reshape(1,-1), sim_data.x_vals, bounds_p_l, bounds_x_l, bounds_p_u, bounds_x_u, None, None, None, None, None)\n",
    "best_theta.y_vals = driver.create_y_exp_data(best_theta)\n",
    "\n",
    "print(len(sim_data.theta_vals), len(sim_data.y_vals))\n",
    "\n",
    "sim_data = driver.augment_train_data(sim_data, best_theta) #Best error in driver class\n",
    "\n",
    "print(len(sim_data.theta_vals), len(sim_data.y_vals))"
   ]
  },
  {
   "cell_type": "markdown",
   "id": "06e36759",
   "metadata": {},
   "source": [
    "# Case Study 1 Test"
   ]
  },
  {
   "cell_type": "code",
   "execution_count": null,
   "id": "cb27fd2d",
   "metadata": {},
   "outputs": [],
   "source": [
    "cs_name  = CS_name_enum(1)\n",
    "\n",
    "#Want to make this all one array. I think that makes more sense\n",
    "indecies_to_consider = list(range(0, 3)) #This is what changes for different subproblems of CS2\n",
    "ep0 = 1\n",
    "sep_fact = 1.0\n",
    "normalize = False\n",
    "num_x_data = 5\n",
    "dim_x = 1\n",
    "num_theta_data = 20\n",
    "lhs_gen_theta = True\n",
    "eval_all_pairs = False\n",
    "package = \"scikit_learn\"\n",
    "noise_mean = 0\n",
    "noise_std = 0.01\n",
    "kernel = \"Mat_52\"\n",
    "set_lenscl = 1\n",
    "outputscl = False\n",
    "retrain_GP = 2\n",
    "GP_train_iter = 300\n",
    "bo_iter_tot = 3\n",
    "bo_run_tot = 2\n",
    "save_fig = False\n",
    "save_data = False\n",
    "x_data_vals = np.linspace(-2,2,num_x_data)\n",
    "num_data = None\n",
    "calc_y_fxn = None\n",
    "#For a general case, use calc_y_fxn = calc_cs1_polynomial\n",
    "seed = 1\n",
    "\n",
    "CS = CaseStudyParameters(cs_name, true_params, true_model_coefficients, param_dict, ep0, sep_fact, normalize, \n",
    "                         eval_all_pairs, package, noise_mean, noise_std, kernel, set_lenscl, outputscl, \n",
    "                         retrain_GP, GP_train_iter, bo_iter_tot, bo_run_tot, save_fig, save_data, DateTime, seed)\n",
    "\n",
    "simulator = Simulator(dim_x, indecies_to_consider, lhs_gen_theta, calc_y_fxn)\n",
    "\n",
    "#Generate Method (except last part)\n",
    "method = GPBO_Methods(meth_name, None, None, None)\n",
    "method.emulator = method.get_emulator()\n",
    "method.obj = method.get_obj()\n",
    "method.sparse_grid = method.get_sparse_grid()\n",
    "\n",
    "print(\"CS Name: \", cs_name.name)\n",
    "print(\"Method Name: \", method.method_name.name)\n",
    "print(\"Emulator?: \", method.emulator)\n",
    "print(\"Obj Func: \", method.obj.name)\n",
    "print(\"Sparse Grid?: \", method.sparse_grid)"
   ]
  },
  {
   "cell_type": "code",
   "execution_count": null,
   "id": "f7f38efc",
   "metadata": {},
   "outputs": [],
   "source": [
    "#Set true parameters\n",
    "true_params, true_param_names = simulator.set_true_params(CS)\n",
    "CS.true_params = true_params\n",
    "\n",
    "#Set calc model\n",
    "calc_model_fxn = simulator_helper_test_fxns(cs_name)\n",
    "simulator.calc_y_fxn = calc_model_fxn\n",
    "\n",
    "#For a general use:\n",
    "# calc_model_fxn = calc_muller\n",
    "# simulator.calc_y_fxn = calc_model_fxn"
   ]
  },
  {
   "cell_type": "code",
   "execution_count": null,
   "id": "32708c99",
   "metadata": {},
   "outputs": [],
   "source": [
    "driver = GPBO_Driver(CS, simulator)\n",
    "bounds_x = np.array([[-2], [2]])\n",
    "gen_meth = Gen_meth_enum(2)\n",
    "x_data = x_data_vals\n",
    "exp_data = Data(None, true_params, x_data, None, None, None, None, None, None)\n",
    "# print(x_data, x_data.shape)"
   ]
  },
  {
   "cell_type": "code",
   "execution_count": null,
   "id": "7ccfe0f2",
   "metadata": {},
   "outputs": [],
   "source": [
    "#CS1\n",
    "bounds_p = np.array([[-2, -2],\n",
    "                    [ 2,  2]])\n",
    "scaled_exp_data = Data(None, true_params, x_data, None, None, None, None, None, None)\n",
    "scaled_exp_data.theta_true = scaled_exp_data.normalize(true_params, bounds_p)\n",
    "scaled_exp_data.x_data = scaled_exp_data.normalize(x_data, bounds_x)\n",
    "\n",
    "# print(scaled_exp_data.theta_true)\n",
    "# print(scaled_exp_data.x_data)"
   ]
  },
  {
   "cell_type": "code",
   "execution_count": null,
   "id": "42403f8c",
   "metadata": {},
   "outputs": [],
   "source": [
    "#Best way to differentiate between case studies? Name? How to name appropriately?\n",
    "#Note this is a new way of defining the function for CS2 which I think will be better suited to our needs.\n",
    "y_exp = driver.create_y_exp_data(exp_data)\n",
    "exp_data.y_vals = y_exp\n",
    "# print(exp_data.y_vals)"
   ]
  },
  {
   "cell_type": "code",
   "execution_count": null,
   "id": "f641910e",
   "metadata": {},
   "outputs": [],
   "source": [
    "# Define the lower and upper bounds\n",
    "sim_data = Data(None, true_params, x_data, None, None, None, None, None, None)\n",
    "sim_data.theta_vals = clean_1D_arrays(driver.create_param_data(num_theta_data, bounds_p, gen_meth))\n",
    "\n",
    "#Set number and dimensions of training data\n",
    "num_gp_data = sim_data.get_num_gp_data(method)\n",
    "dim_gp_data = sim_data.get_dim_gp_data(method)\n",
    "num_theta_calc = sim_data.get_num_theta()\n",
    "\n",
    "print(num_gp_data, dim_gp_data, num_theta_calc)"
   ]
  },
  {
   "cell_type": "code",
   "execution_count": null,
   "id": "13e75283",
   "metadata": {},
   "outputs": [],
   "source": [
    "#Create y_sim data based on method, data, and case study\n",
    "y_sim = simulator.create_sim_data(method, CS, sim_data, exp_data)\n",
    "sim_data.y_vals = y_sim\n",
    "# print(y_sim)"
   ]
  },
  {
   "cell_type": "code",
   "execution_count": null,
   "id": "e7565b7f",
   "metadata": {},
   "outputs": [],
   "source": [
    "best_theta = Data(true_params.reshape(1,-1), true_params, x_data, None, None, None, None, None, None)\n",
    "best_theta.y_vals = simulator.create_sim_data(method, CS, best_theta, exp_data)\n",
    "\n",
    "print(len(sim_data.theta_vals), len(sim_data.y_vals))\n",
    "\n",
    "sim_data = driver.augment_train_data(sim_data, best_theta)\n",
    "\n",
    "print(len(sim_data.theta_vals), len(sim_data.y_vals))"
   ]
  },
  {
   "cell_type": "code",
   "execution_count": null,
   "id": "59340b26",
   "metadata": {},
   "outputs": [],
   "source": []
  }
 ],
 "metadata": {
  "kernelspec": {
   "display_name": "Python 3 (ipykernel)",
   "language": "python",
   "name": "python3"
  },
  "language_info": {
   "codemirror_mode": {
    "name": "ipython",
    "version": 3
   },
   "file_extension": ".py",
   "mimetype": "text/x-python",
   "name": "python",
   "nbconvert_exporter": "python",
   "pygments_lexer": "ipython3",
   "version": "3.9.12"
  }
 },
 "nbformat": 4,
 "nbformat_minor": 5
}
