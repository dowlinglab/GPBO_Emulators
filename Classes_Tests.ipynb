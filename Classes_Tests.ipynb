{
 "cells": [
  {
   "cell_type": "markdown",
   "id": "172cb7dc",
   "metadata": {},
   "source": [
    "## Import Dependencies"
   ]
  },
  {
   "cell_type": "code",
   "execution_count": 1,
   "id": "5738fd89",
   "metadata": {},
   "outputs": [
    {
     "name": "stderr",
     "output_type": "stream",
     "text": [
      "/afs/crc.nd.edu/user/m/mcarlozo/.conda/envs/Toy_Problem_env/lib/python3.9/site-packages/tqdm/auto.py:22: TqdmWarning: IProgress not found. Please update jupyter and ipywidgets. See https://ipywidgets.readthedocs.io/en/stable/user_install.html\n",
      "  from .autonotebook import tqdm as notebook_tqdm\n"
     ]
    },
    {
     "name": "stdout",
     "output_type": "stream",
     "text": [
      "CPU times: user 2.49 s, sys: 588 ms, total: 3.08 s\n",
      "Wall time: 4.34 s\n"
     ]
    }
   ],
   "source": [
    "%%time\n",
    "\n",
    "import sys\n",
    "import gpytorch\n",
    "import numpy as np\n",
    "import pandas as pd\n",
    "import torch\n",
    "from datetime import datetime\n",
    "from scipy.stats import qmc\n",
    "import itertools\n",
    "from itertools import combinations_with_replacement, combinations, permutations\n",
    "\n",
    "import bo_methods_lib\n",
    "from bo_methods_lib.bo_functions_generic import gen_theta_set, clean_1D_arrays\n",
    "from bo_methods_lib.GPBO_Classes_New import * #Fix this later\n",
    "from bo_methods_lib.GPBO_Class_fxns import * #Fix this later"
   ]
  },
  {
   "cell_type": "markdown",
   "id": "e005c837",
   "metadata": {},
   "source": [
    "## Define Method and DateTime"
   ]
  },
  {
   "cell_type": "code",
   "execution_count": 2,
   "id": "516ae29e",
   "metadata": {},
   "outputs": [
    {
     "name": "stdout",
     "output_type": "stream",
     "text": [
      "Method Name:  C2\n",
      "Emulator?:  True\n",
      "Obj Func:  OBJ\n",
      "Sparse Grid?:  True\n"
     ]
    }
   ],
   "source": [
    "#Generate Method (except last part)\n",
    "meth_name = Method_name_enum(1)\n",
    "method = GPBO_Methods(meth_name)\n",
    "\n",
    "print(\"Method Name: \", method.method_name.name)\n",
    "print(\"Emulator?: \", method.emulator)\n",
    "print(\"Obj Func: \", method.obj.name)\n",
    "print(\"Sparse Grid?: \", method.sparse_grid)\n",
    "\n",
    "#Set Date and Time\n",
    "dateTimeObj = datetime.now()\n",
    "timestampStr = dateTimeObj.strftime(\"%d-%b-%Y (%H:%M:%S)\")\n",
    "# print(\"Date and Time: \", timestampStr)\n",
    "# DateTime = dateTimeObj.strftime(\"%Y/%m/%d/%H-%M-%S%p\")\n",
    "DateTime = dateTimeObj.strftime(\"%Y/%m/%d/%H-%M\")\n",
    "DateTime = None ##For Testing"
   ]
  },
  {
   "cell_type": "markdown",
   "id": "27207621",
   "metadata": {},
   "source": [
    "## Define Case Study Simulator & Functions"
   ]
  },
  {
   "cell_type": "code",
   "execution_count": 3,
   "id": "03a611c0",
   "metadata": {},
   "outputs": [],
   "source": [
    "def simulator_helper_test_fxns(cs_name, indecies_to_consider, noise_mean, noise_std, case_study_parameters):\n",
    "    \"\"\"\n",
    "    Sets the model for calculating y based off of the case study identifier.\n",
    "\n",
    "    Parameters\n",
    "    ----------\n",
    "    cs_name: Class, The name/enumerator associated with the case study being evaluated\n",
    "\n",
    "    Returns\n",
    "    -------\n",
    "    calc_y_fxn: function, the function used for calculation is case study cs_name.name\n",
    "    \"\"\"\n",
    "    #Note: Add your function name from GPBO_Class_fxns.py here\n",
    "    if cs_name.value == 1:      \n",
    "        theta_ref = np.array([1.0, -1.0])\n",
    "        theta_names = ['theta_1', 'theta_2']\n",
    "        bounds_x_l = [-2]\n",
    "        bounds_x_u = [2]\n",
    "        bounds_theta_l = [-2, -2]\n",
    "        bounds_theta_u = [ 2,  2]\n",
    "        calc_y_fxn = calc_cs1_polynomial\n",
    "        \n",
    "    elif cs_name.value == 2:     \n",
    "        theta_ref = np.array([-200,-100,-170,15,-1,-1,-6.5,0.7,0,0,11,0.6,-10,-10,-6.5,0.7,1,0,-0.5,-1,0,0.5,1.5,1])\n",
    "                             \n",
    "        theta_names = ['A_1', 'A_2', 'A_3', 'A_4', 'a_1', 'a_2', 'a_3', 'a_4', 'b_1', 'b_2', 'b_3', 'b_4', 'c_1', \n",
    "                       'c_2', 'c_3', 'c_4', 'x0_1', 'x0_2', 'x0_3', 'x0_4', 'x1_1', 'x1_2', 'x1_3', 'x1_4']\n",
    "        bounds_x_l = [-1.5, -0.5]\n",
    "        bounds_x_u = [1, 2]\n",
    "        bounds_theta_l = [-300,-200,-250, 5,-2,-2,-10, -2, -2,-2,5,-2,-20,-20, -10,-1 ,-2,-2,-2, -2,-2,-2,0,-2]\n",
    "        bounds_theta_u = [-100,  0, -150, 20,2, 2, 0,  2,  2,  2, 15,2, 0,0   , 0,  2, 2,  2, 2, 2 ,2 , 2, 2,2]\n",
    "        calc_y_fxn = calc_muller\n",
    "        \n",
    "    else:\n",
    "        raise ValueError(\"self.CaseStudyParameters.cs_name.value must exist!\")\n",
    "\n",
    "    return Simulator(indecies_to_consider, \n",
    "                     theta_ref,\n",
    "                     theta_names,\n",
    "                     bounds_theta_l, \n",
    "                     bounds_x_l, \n",
    "                     bounds_theta_u, \n",
    "                     bounds_x_u, \n",
    "                     noise_mean,\n",
    "                     noise_std,\n",
    "                     case_study_parameters,\n",
    "                     calc_y_fxn)"
   ]
  },
  {
   "cell_type": "markdown",
   "id": "feebcda8",
   "metadata": {},
   "source": [
    "## Define Case Study"
   ]
  },
  {
   "cell_type": "code",
   "execution_count": 4,
   "id": "1d19cd9d",
   "metadata": {},
   "outputs": [
    {
     "name": "stdout",
     "output_type": "stream",
     "text": [
      "CS Name:  CS2\n"
     ]
    }
   ],
   "source": [
    "cs_name  = CS_name_enum(2)\n",
    "print(\"CS Name: \", cs_name.name)\n",
    "\n",
    "indecies_to_consider = list(range(4, 6)) #This is what changes for different subproblems of CS2\n",
    "# indecies_to_consider = list(range(0, 2)) #This is what changes for different subproblems of CS1\n",
    "\n",
    "ep0 = 1\n",
    "sep_fact = 0.8\n",
    "normalize = False\n",
    "lhs_gen_theta = True\n",
    "eval_all_pairs = False\n",
    "noise_mean = 0\n",
    "noise_std = 0.01\n",
    "kernel = Kernel_enum(1)\n",
    "lenscl = None\n",
    "outputscl = 1\n",
    "retrain_GP = 0\n",
    "GP_train_iter = 300\n",
    "bo_iter_tot = 3\n",
    "bo_run_tot = 2\n",
    "save_fig = False\n",
    "save_data = False\n",
    "num_data = None\n",
    "seed = 1\n",
    "\n",
    "cs_params = CaseStudyParameters(cs_name, ep0, sep_fact, normalize, eval_all_pairs, bo_iter_tot, bo_run_tot, \n",
    "                         save_fig, save_data, DateTime, seed)\n",
    "\n",
    "simulator = simulator_helper_test_fxns(cs_name, indecies_to_consider, noise_mean, noise_std, cs_params)"
   ]
  },
  {
   "cell_type": "markdown",
   "id": "97e7e2c4",
   "metadata": {},
   "source": [
    "## Generate Experimental X and Y Data (If not given)"
   ]
  },
  {
   "cell_type": "code",
   "execution_count": 5,
   "id": "836b2823",
   "metadata": {},
   "outputs": [],
   "source": [
    "#Test gen_exp_data\n",
    "num_x_data = 5\n",
    "gen_meth_x = Gen_meth_enum(2) #Note: Has to be the same for validation and sim data\n",
    "exp_data = simulator.gen_exp_data(num_x_data, gen_meth_x)"
   ]
  },
  {
   "cell_type": "markdown",
   "id": "d1052130",
   "metadata": {},
   "source": [
    "## Generate Simulation Training/Testing Theta and y Data"
   ]
  },
  {
   "cell_type": "code",
   "execution_count": 6,
   "id": "8a9c8ac4",
   "metadata": {},
   "outputs": [
    {
     "name": "stdout",
     "output_type": "stream",
     "text": [
      "12500\n",
      "500\n"
     ]
    }
   ],
   "source": [
    "num_theta_data = 500\n",
    "gen_meth_theta = Gen_meth_enum(1)\n",
    "sim_data = simulator.gen_sim_data(num_theta_data, num_x_data, gen_meth_theta, gen_meth_x)\n",
    "print(len(sim_data.theta_vals))\n",
    "sim_sse_data = simulator.sim_data_to_sse_sim_data(method, sim_data, exp_data)\n",
    "print(len(sim_sse_data.theta_vals))"
   ]
  },
  {
   "cell_type": "markdown",
   "id": "fc2d4d8a",
   "metadata": {},
   "source": [
    "## Generate Validation Data"
   ]
  },
  {
   "cell_type": "code",
   "execution_count": 7,
   "id": "328a91d4",
   "metadata": {},
   "outputs": [
    {
     "name": "stdout",
     "output_type": "stream",
     "text": [
      "[[-1.5   -0.5  ]\n",
      " [-1.5    0.125]\n",
      " [-1.5    0.75 ]\n",
      " [-1.5    1.375]\n",
      " [-1.5    2.   ]\n",
      " [-0.875 -0.5  ]\n",
      " [-0.875  0.125]\n",
      " [-0.875  0.75 ]\n",
      " [-0.875  1.375]\n",
      " [-0.875  2.   ]]\n"
     ]
    }
   ],
   "source": [
    "num_theta_data_val = 50 #How to make the seed different for generating validation data?\n",
    "gen_meth_theta_val = Gen_meth_enum(1)\n",
    "val_data = simulator.gen_sim_data(num_theta_data_val, num_x_data, gen_meth_theta_val, gen_meth_x, True)\n",
    "val_sse_data = simulator.sim_data_to_sse_sim_data(method, val_data, exp_data, True)\n",
    "\n",
    "print(val_sse_data.x_vals[0:10])"
   ]
  },
  {
   "cell_type": "markdown",
   "id": "56c55153",
   "metadata": {},
   "source": [
    "## Create Normalized Data (optional)"
   ]
  },
  {
   "cell_type": "code",
   "execution_count": 8,
   "id": "e4165218",
   "metadata": {},
   "outputs": [],
   "source": [
    "#What is the best way to be building normalized data? Is it ok to write a method in a class that calls itself?\n",
    "scaled_exp_data = exp_data.norm_feature_data()\n",
    "scaled_sim_data = sim_data.norm_feature_data()\n",
    "scaled_val_data = val_data.norm_feature_data()\n",
    "\n",
    "#Q: How do I best automate which one of these to use? Where would I automate this?\n",
    "#A: GPBO_Driver"
   ]
  },
  {
   "cell_type": "markdown",
   "id": "5e6a9b23",
   "metadata": {},
   "source": [
    "## Initialize Driver"
   ]
  },
  {
   "cell_type": "code",
   "execution_count": 9,
   "id": "2182d77d",
   "metadata": {},
   "outputs": [],
   "source": [
    "driver = GPBO_Driver(cs_params, method, simulator, exp_data, sim_data, sim_sse_data, val_data, val_sse_data)"
   ]
  },
  {
   "cell_type": "markdown",
   "id": "0a43e97d",
   "metadata": {},
   "source": [
    "## Build GP Emulator Class"
   ]
  },
  {
   "cell_type": "code",
   "execution_count": 10,
   "id": "22439f9d",
   "metadata": {},
   "outputs": [
    {
     "name": "stdout",
     "output_type": "stream",
     "text": [
      "12500\n"
     ]
    }
   ],
   "source": [
    "gp_emulator = driver.gen_emulator(kernel, lenscl, outputscl, retrain_GP)\n",
    "print(gp_emulator.get_num_gp_data())"
   ]
  },
  {
   "cell_type": "markdown",
   "id": "1b981946",
   "metadata": {},
   "source": [
    "## Generate, Shuffle, and Split Training Data"
   ]
  },
  {
   "cell_type": "code",
   "execution_count": 11,
   "id": "67e778d2",
   "metadata": {},
   "outputs": [],
   "source": [
    "#Q: Need this to get training indecies based on emulator status\n",
    "#A: Call train test split in driver\n",
    "train_data, test_data = gp_emulator.set_train_test_data(cs_params)\n",
    "\n",
    "# print(train_data.theta_vals)"
   ]
  },
  {
   "cell_type": "markdown",
   "id": "8cc0aec4",
   "metadata": {},
   "source": [
    "## Set GP Model"
   ]
  },
  {
   "cell_type": "code",
   "execution_count": 12,
   "id": "4b0c25bb",
   "metadata": {},
   "outputs": [
    {
     "name": "stdout",
     "output_type": "stream",
     "text": [
      "Kernel_enum.MAT_52\n"
     ]
    }
   ],
   "source": [
    "gp_model = gp_emulator.set_gp_model()\n",
    "print(gp_emulator.kernel)"
   ]
  },
  {
   "cell_type": "markdown",
   "id": "6b340be8",
   "metadata": {},
   "source": [
    "## Train GP Model"
   ]
  },
  {
   "cell_type": "code",
   "execution_count": 13,
   "id": "fc92218d",
   "metadata": {},
   "outputs": [
    {
     "name": "stderr",
     "output_type": "stream",
     "text": [
      "/afs/crc.nd.edu/user/m/mcarlozo/.conda/envs/Toy_Problem_env/lib/python3.9/site-packages/sklearn/gaussian_process/kernels.py:420: ConvergenceWarning: The optimal value found for dimension 0 of parameter k1__k2__length_scale is close to the specified lower bound 1e-05. Decreasing the bound and calling fit again may find a better value.\n",
      "  warnings.warn(\n",
      "/afs/crc.nd.edu/user/m/mcarlozo/.conda/envs/Toy_Problem_env/lib/python3.9/site-packages/sklearn/gaussian_process/kernels.py:420: ConvergenceWarning: The optimal value found for dimension 1 of parameter k1__k2__length_scale is close to the specified lower bound 1e-05. Decreasing the bound and calling fit again may find a better value.\n",
      "  warnings.warn(\n",
      "/afs/crc.nd.edu/user/m/mcarlozo/.conda/envs/Toy_Problem_env/lib/python3.9/site-packages/sklearn/gaussian_process/kernels.py:420: ConvergenceWarning: The optimal value found for dimension 2 of parameter k1__k2__length_scale is close to the specified lower bound 1e-05. Decreasing the bound and calling fit again may find a better value.\n",
      "  warnings.warn(\n",
      "/afs/crc.nd.edu/user/m/mcarlozo/.conda/envs/Toy_Problem_env/lib/python3.9/site-packages/sklearn/gaussian_process/kernels.py:420: ConvergenceWarning: The optimal value found for dimension 3 of parameter k1__k2__length_scale is close to the specified lower bound 1e-05. Decreasing the bound and calling fit again may find a better value.\n",
      "  warnings.warn(\n"
     ]
    }
   ],
   "source": [
    "gp_emulator.train_gp(gp_model)"
   ]
  },
  {
   "cell_type": "code",
   "execution_count": 14,
   "id": "ce4c6438",
   "metadata": {},
   "outputs": [
    {
     "name": "stdout",
     "output_type": "stream",
     "text": [
      "[array([1.e-05, 1.e-05, 1.e-05, 1.e-05]), 0.0001, 1]\n"
     ]
    }
   ],
   "source": [
    "print(gp_emulator.trained_hyperparams)\n",
    "# print(gp_emulator.train_data.theta_vals[0:20])"
   ]
  },
  {
   "cell_type": "markdown",
   "id": "cea43e71",
   "metadata": {},
   "source": [
    "## Evaluate GP Model Mean and Variance"
   ]
  },
  {
   "cell_type": "code",
   "execution_count": 15,
   "id": "d3e20928",
   "metadata": {},
   "outputs": [],
   "source": [
    "gp_mean, gp_var = gp_emulator.eval_gp_mean_var()"
   ]
  },
  {
   "cell_type": "markdown",
   "id": "e12e6637",
   "metadata": {},
   "source": [
    "## Evaluate GP SSE and SSE_var"
   ]
  },
  {
   "cell_type": "code",
   "execution_count": 16,
   "id": "11d9692f",
   "metadata": {},
   "outputs": [],
   "source": [
    "# sse, sse_var = gp_emulator.eval_gp_sse_var() # For Type 1\n",
    "sse, sse_var = gp_emulator.eval_gp_sse_var(exp_data) #Make private method?"
   ]
  },
  {
   "cell_type": "code",
   "execution_count": 17,
   "id": "abcc0293",
   "metadata": {},
   "outputs": [],
   "source": [
    "# print(val_data_true.sse)"
   ]
  },
  {
   "cell_type": "markdown",
   "id": "f0d703a1",
   "metadata": {},
   "source": [
    "## Calculate Best Error"
   ]
  },
  {
   "cell_type": "code",
   "execution_count": 18,
   "id": "6605b24b",
   "metadata": {},
   "outputs": [],
   "source": [
    "# best_error = gp_emulator.calc_best_error() #For Type 1\n",
    "best_error = gp_emulator.calc_best_error(exp_data) #Make private method?"
   ]
  },
  {
   "cell_type": "code",
   "execution_count": 19,
   "id": "61f72c2e",
   "metadata": {},
   "outputs": [
    {
     "name": "stdout",
     "output_type": "stream",
     "text": [
      "24.354357310875123\n"
     ]
    }
   ],
   "source": [
    "print(best_error)"
   ]
  },
  {
   "cell_type": "markdown",
   "id": "f57d5f05",
   "metadata": {},
   "source": [
    "## Augmenting Training Data (Skipped Steps)"
   ]
  },
  {
   "cell_type": "raw",
   "id": "82237ba7",
   "metadata": {},
   "source": [
    "best_theta = Data(None, exp_data.x_vals, None, None, None, None, None)\n",
    "\n",
    "#Note: Will generate this using a method in driver that doesn't exist yet but generates experimental data instead of sim data\n",
    "if \"2\" in method.method_name.name:\n",
    "    best_theta.theta_vals = np.repeat(simulator.theta_true.reshape(1,-1), exp_data.get_num_x_vals(), axis = 0)\n",
    "    best_theta.y_vals = simulator.create_sim_data(CS, best_theta)\n",
    "else:\n",
    "    best_theta.theta_vals = simulator.theta_true.reshape(1,-1)\n",
    "    best_theta.y_vals = simulator.create_sse_sim_data(method, CS, best_theta, exp_data)\n",
    "\n",
    "print(len(sim_data.theta_vals), len(sim_data.y_vals))\n",
    "sim_data = driver.augment_train_data(sim_data, best_theta) #Best error in driver class\n",
    "print(len(sim_data.theta_vals), len(sim_data.y_vals))"
   ]
  },
  {
   "cell_type": "markdown",
   "id": "06e36759",
   "metadata": {},
   "source": [
    "# Case Study 1 Test"
   ]
  },
  {
   "cell_type": "code",
   "execution_count": 20,
   "id": "4c54461d",
   "metadata": {},
   "outputs": [],
   "source": [
    "#Write Later"
   ]
  },
  {
   "cell_type": "code",
   "execution_count": null,
   "id": "53ffcc7d",
   "metadata": {},
   "outputs": [],
   "source": []
  }
 ],
 "metadata": {
  "kernelspec": {
   "display_name": "Python 3 (ipykernel)",
   "language": "python",
   "name": "python3"
  },
  "language_info": {
   "codemirror_mode": {
    "name": "ipython",
    "version": 3
   },
   "file_extension": ".py",
   "mimetype": "text/x-python",
   "name": "python",
   "nbconvert_exporter": "python",
   "pygments_lexer": "ipython3",
   "version": "3.9.12"
  }
 },
 "nbformat": 4,
 "nbformat_minor": 5
}
