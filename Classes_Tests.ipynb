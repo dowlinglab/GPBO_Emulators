{
 "cells": [
  {
   "cell_type": "markdown",
   "id": "172cb7dc",
   "metadata": {},
   "source": [
    "## Import Dependencies"
   ]
  },
  {
   "cell_type": "code",
   "execution_count": 20,
   "id": "5738fd89",
   "metadata": {},
   "outputs": [
    {
     "name": "stdout",
     "output_type": "stream",
     "text": [
      "CPU times: user 28 µs, sys: 4 µs, total: 32 µs\n",
      "Wall time: 34.8 µs\n"
     ]
    }
   ],
   "source": [
    "%%time\n",
    "\n",
    "import sys\n",
    "import gpytorch\n",
    "import numpy as np\n",
    "import pandas as pd\n",
    "import torch\n",
    "from datetime import datetime\n",
    "from scipy.stats import qmc\n",
    "import itertools\n",
    "from itertools import combinations_with_replacement, combinations, permutations\n",
    "\n",
    "import bo_methods_lib\n",
    "from bo_methods_lib.bo_functions_generic import gen_theta_set, clean_1D_arrays\n",
    "from bo_methods_lib.GPBO_Classes_New import * #Fix this later\n",
    "from bo_methods_lib.GPBO_Class_fxns import * #Fix this later"
   ]
  },
  {
   "cell_type": "markdown",
   "id": "feebcda8",
   "metadata": {},
   "source": [
    "## Define Case Study"
   ]
  },
  {
   "cell_type": "code",
   "execution_count": 21,
   "id": "fee925de",
   "metadata": {},
   "outputs": [],
   "source": [
    "#Set Date and Time\n",
    "dateTimeObj = datetime.now()\n",
    "timestampStr = dateTimeObj.strftime(\"%d-%b-%Y (%H:%M:%S)\")\n",
    "# print(\"Date and Time: \", timestampStr)\n",
    "# DateTime = dateTimeObj.strftime(\"%Y/%m/%d/%H-%M-%S%p\")\n",
    "DateTime = dateTimeObj.strftime(\"%Y/%m/%d/%H-%M\")\n",
    "DateTime = None ##For Testing\n",
    "\n",
    "cs_name  = \"CS2\"\n",
    "\n",
    "#Want to make this all one array. I think that makes more sense\n",
    "true_model_coefficients = np.array([-200,-100,-170,15,-1,-1,-6.5,0.7,0,0,11,0.6,-10,-10,-6.5,0.7,1,0,-0.5,-1,0,0.5,1.5,1])\n",
    "true_params = np.array([-1,-1,-6.5,0.7, 0,0,11,0.6])\n",
    "param_dict = {0 : 'A_1', 1 : 'A_2', 2 : 'A_3', 3 : 'A_4', 4 : 'a_1', 5 : 'a_2', 6 : 'a_3', 7 : 'a_4', \n",
    "             8 : 'b_1', 9 : 'b_2', 10 : 'b_3', 11 : 'b_4', 12 : 'c_1', 13 : 'c_2', 14 : 'c_3', 15 : 'c_4',\n",
    "             16 : 'x0_1', 17 : 'x0_2', 18 : 'x0_3', 19 : 'x0_4', 20 : 'x1_1', 21 : 'x1_2', 22 : 'x1_3', 23 : 'x1_4'}\n",
    "\n",
    "indecies_to_consider = list(param_dict.keys())[4:12] #This is what changes for different subproblems of CS2\n",
    "# print([param_dict[key] if key in indecies_to_consider else f\"No value found for key {key}\" for key in indecies_to_consider])\n",
    "ep0 = 1\n",
    "sep_fact = 1.0\n",
    "normalize = False\n",
    "num_x_data = 27\n",
    "num_theta_data = 20\n",
    "LHS_gen_theta = True\n",
    "eval_all_pairs = False\n",
    "package = \"scikit_learn\"\n",
    "noise_mean = 0\n",
    "noise_std = 0.01\n",
    "kernel = \"Mat_52\"\n",
    "set_lenscl = 1\n",
    "outputscl = False\n",
    "retrain_GP = 2\n",
    "GP_train_iter = 300\n",
    "bo_iter_tot = 3\n",
    "bo_run_tot = 2\n",
    "save_fig = False\n",
    "save_data = False\n",
    "x_data_vals = None\n",
    "num_data = None\n",
    "seed = 1\n",
    "CS = CaseStudyParameters(cs_name, true_params, true_model_coefficients, param_dict, \n",
    "                         indecies_to_consider, ep0, sep_fact, normalize, num_x_data, num_theta_data, \n",
    "                         num_data, LHS_gen_theta, x_data_vals, eval_all_pairs, package, noise_mean, noise_std, kernel, \n",
    "                         set_lenscl, outputscl, retrain_GP, GP_train_iter, bo_iter_tot, bo_run_tot, save_fig, save_data, \n",
    "                         DateTime, seed)"
   ]
  },
  {
   "cell_type": "markdown",
   "id": "97e7e2c4",
   "metadata": {},
   "source": [
    "## Find Experimental X Data (If not given)"
   ]
  },
  {
   "cell_type": "code",
   "execution_count": 22,
   "id": "8031127d",
   "metadata": {},
   "outputs": [],
   "source": [
    "driver = GPBO_Driver(CS)\n",
    "bounds_x = np.array([[-1.5, -0.5], [1, 2]])\n",
    "gen_meth = \"LHS\"\n",
    "seed = 1\n",
    "x_data = clean_1D_arrays(driver.create_xtrain_data(bounds_x, gen_meth))\n",
    "exp_data = Data(None, true_params, x_data, None, None, None, None, None, None)\n",
    "CS.x_data_vals = exp_data.x_vals\n",
    "# print(x_data)"
   ]
  },
  {
   "cell_type": "markdown",
   "id": "b03ccb9c",
   "metadata": {},
   "source": [
    "## Generate Experimental y Data"
   ]
  },
  {
   "cell_type": "code",
   "execution_count": 23,
   "id": "2827dc00",
   "metadata": {},
   "outputs": [],
   "source": [
    "#Best way to differentiate between case studies? Name? How to name appropriately?\n",
    "#Note this is a new way of defining the function for CS2 which I think will be better suited to our needs.\n",
    "#Rather than using a skip param_type, I will be using indecies and dictionaries.\n",
    "y_exp = driver.create_y_data()\n",
    "exp_data.y_vals = y_exp"
   ]
  },
  {
   "cell_type": "markdown",
   "id": "d1052130",
   "metadata": {},
   "source": [
    "## Generate Simulation Data"
   ]
  },
  {
   "cell_type": "code",
   "execution_count": 24,
   "id": "be685ea3",
   "metadata": {},
   "outputs": [
    {
     "ename": "NameError",
     "evalue": "name 'normalize_bounds' is not defined",
     "output_type": "error",
     "traceback": [
      "\u001b[0;31m---------------------------------------------------------------------------\u001b[0m",
      "\u001b[0;31mNameError\u001b[0m                                 Traceback (most recent call last)",
      "Input \u001b[0;32mIn [24]\u001b[0m, in \u001b[0;36m<cell line: 39>\u001b[0;34m()\u001b[0m\n\u001b[1;32m     36\u001b[0m         theta_set \u001b[38;5;241m=\u001b[39m LHS_Design(n_points\u001b[38;5;241m*\u001b[39m\u001b[38;5;241m*\u001b[39m\u001b[38;5;241m2\u001b[39m, dimensions, seed, bounds \u001b[38;5;241m=\u001b[39m bounds)\n\u001b[1;32m     37\u001b[0m     \u001b[38;5;28;01mreturn\u001b[39;00m theta_set\n\u001b[0;32m---> 39\u001b[0m \u001b[38;5;28mprint\u001b[39m(\u001b[43mgen_theta_set\u001b[49m\u001b[43m(\u001b[49m\u001b[43mLHS\u001b[49m\u001b[43m \u001b[49m\u001b[38;5;241;43m=\u001b[39;49m\u001b[43m \u001b[49m\u001b[38;5;28;43;01mFalse\u001b[39;49;00m\u001b[43m,\u001b[49m\u001b[43m \u001b[49m\u001b[43mn_points\u001b[49m\u001b[43m \u001b[49m\u001b[38;5;241;43m=\u001b[39;49m\u001b[43m \u001b[49m\u001b[38;5;241;43m27\u001b[39;49m\u001b[43m,\u001b[49m\u001b[43m \u001b[49m\u001b[43mdimensions\u001b[49m\u001b[43m \u001b[49m\u001b[38;5;241;43m=\u001b[39;49m\u001b[43m \u001b[49m\u001b[38;5;241;43m2\u001b[39;49m\u001b[43m,\u001b[49m\u001b[43m \u001b[49m\u001b[43mbounds\u001b[49m\u001b[43m \u001b[49m\u001b[38;5;241;43m=\u001b[39;49m\u001b[43m \u001b[49m\u001b[43mbounds_x\u001b[49m\u001b[43m,\u001b[49m\u001b[43m \u001b[49m\u001b[43mseed\u001b[49m\u001b[43m \u001b[49m\u001b[38;5;241;43m=\u001b[39;49m\u001b[43m \u001b[49m\u001b[38;5;241;43m9\u001b[39;49m\u001b[43m)\u001b[49m)\n",
      "Input \u001b[0;32mIn [24]\u001b[0m, in \u001b[0;36mgen_theta_set\u001b[0;34m(LHS, n_points, dimensions, bounds, seed)\u001b[0m\n\u001b[1;32m     31\u001b[0m     \u001b[38;5;28;01mif\u001b[39;00m bounds \u001b[38;5;129;01mis\u001b[39;00m \u001b[38;5;129;01mnot\u001b[39;00m \u001b[38;5;28;01mNone\u001b[39;00m:\n\u001b[1;32m     32\u001b[0m         \u001b[38;5;28;01mfor\u001b[39;00m i \u001b[38;5;129;01min\u001b[39;00m \u001b[38;5;28mrange\u001b[39m(theta_set\u001b[38;5;241m.\u001b[39mshape[\u001b[38;5;241m1\u001b[39m]):\n\u001b[0;32m---> 33\u001b[0m             theta_set[:,i] \u001b[38;5;241m=\u001b[39m \u001b[43mnormalize_bounds\u001b[49m(theta_set[:,i], newRange \u001b[38;5;241m=\u001b[39m (bounds[:,i]))       \n\u001b[1;32m     34\u001b[0m \u001b[38;5;28;01melse\u001b[39;00m:\n\u001b[1;32m     35\u001b[0m     \u001b[38;5;66;03m#Generate LHS sample\u001b[39;00m\n\u001b[1;32m     36\u001b[0m     theta_set \u001b[38;5;241m=\u001b[39m LHS_Design(n_points\u001b[38;5;241m*\u001b[39m\u001b[38;5;241m*\u001b[39m\u001b[38;5;241m2\u001b[39m, dimensions, seed, bounds \u001b[38;5;241m=\u001b[39m bounds)\n",
      "\u001b[0;31mNameError\u001b[0m: name 'normalize_bounds' is not defined"
     ]
    }
   ],
   "source": [
    "#Need new functions for CS2\n",
    "sim_data = Data(None, true_params, x_data, None, None, None, None, None, None)\n",
    "bounds_p = np.array([[-2, -2, -10, -2, -2, -2,  5, -2],\n",
    "                    [ 2,  2,   0,  2,  2,  2, 15,  2]])\n",
    "\n",
    "##Just generate some data for now and fix the simulation data creators."
   ]
  },
  {
   "cell_type": "code",
   "execution_count": null,
   "id": "55893042",
   "metadata": {},
   "outputs": [],
   "source": []
  }
 ],
 "metadata": {
  "kernelspec": {
   "display_name": "Python 3 (ipykernel)",
   "language": "python",
   "name": "python3"
  },
  "language_info": {
   "codemirror_mode": {
    "name": "ipython",
    "version": 3
   },
   "file_extension": ".py",
   "mimetype": "text/x-python",
   "name": "python",
   "nbconvert_exporter": "python",
   "pygments_lexer": "ipython3",
   "version": "3.9.12"
  }
 },
 "nbformat": 4,
 "nbformat_minor": 5
}
