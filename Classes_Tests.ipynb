{
 "cells": [
  {
   "cell_type": "markdown",
   "id": "172cb7dc",
   "metadata": {},
   "source": [
    "## Import Dependencies"
   ]
  },
  {
   "cell_type": "code",
   "execution_count": 1,
   "id": "5738fd89",
   "metadata": {},
   "outputs": [
    {
     "name": "stderr",
     "output_type": "stream",
     "text": [
      "/afs/crc.nd.edu/user/m/mcarlozo/.conda/envs/Toy_Problem_env/lib/python3.9/site-packages/tqdm/auto.py:22: TqdmWarning: IProgress not found. Please update jupyter and ipywidgets. See https://ipywidgets.readthedocs.io/en/stable/user_install.html\n",
      "  from .autonotebook import tqdm as notebook_tqdm\n"
     ]
    },
    {
     "name": "stdout",
     "output_type": "stream",
     "text": [
      "CPU times: user 2.38 s, sys: 294 ms, total: 2.67 s\n",
      "Wall time: 2.8 s\n"
     ]
    }
   ],
   "source": [
    "%%time\n",
    "\n",
    "import sys\n",
    "import gpytorch\n",
    "import numpy as np\n",
    "import pandas as pd\n",
    "import torch\n",
    "from datetime import datetime\n",
    "from scipy.stats import qmc\n",
    "import itertools\n",
    "from itertools import combinations_with_replacement, combinations, permutations\n",
    "\n",
    "import bo_methods_lib\n",
    "from bo_methods_lib.bo_functions_generic import gen_theta_set, clean_1D_arrays\n",
    "from bo_methods_lib.GPBO_Classes_New import * #Fix this later\n",
    "from bo_methods_lib.GPBO_Class_fxns import * #Fix this later"
   ]
  },
  {
   "cell_type": "markdown",
   "id": "feebcda8",
   "metadata": {},
   "source": [
    "## Define Case Study & Most of Method"
   ]
  },
  {
   "cell_type": "code",
   "execution_count": 2,
   "id": "1d19cd9d",
   "metadata": {},
   "outputs": [
    {
     "name": "stdout",
     "output_type": "stream",
     "text": [
      "CS Name:  CS2\n",
      "Method Name:  C2\n",
      "Emulator?:  True\n",
      "Obj Func:  OBJ\n",
      "Sparse Grid?:  True\n"
     ]
    }
   ],
   "source": [
    "#Set Date and Time\n",
    "dateTimeObj = datetime.now()\n",
    "timestampStr = dateTimeObj.strftime(\"%d-%b-%Y (%H:%M:%S)\")\n",
    "# print(\"Date and Time: \", timestampStr)\n",
    "# DateTime = dateTimeObj.strftime(\"%Y/%m/%d/%H-%M-%S%p\")\n",
    "DateTime = dateTimeObj.strftime(\"%Y/%m/%d/%H-%M\")\n",
    "DateTime = None ##For Testing\n",
    "\n",
    "cs_name  = CS_name_enum(2)\n",
    "\n",
    "#Want to make this all one array. I think that makes more sense\n",
    "true_model_coefficients = np.array([-200,-100,-170,15,-1,-1,-6.5,0.7,0,0,11,0.6,-10,-10,-6.5,0.7,1,0,-0.5,-1,0,0.5,1.5,1])\n",
    "param_dict = {0 : 'A_1', 1 : 'A_2', 2 : 'A_3', 3 : 'A_4', 4 : 'a_1', 5 : 'a_2', 6 : 'a_3', 7 : 'a_4', \n",
    "             8 : 'b_1', 9 : 'b_2', 10 : 'b_3', 11 : 'b_4', 12 : 'c_1', 13 : 'c_2', 14 : 'c_3', 15 : 'c_4',\n",
    "             16 : 'x0_1', 17 : 'x0_2', 18 : 'x0_3', 19 : 'x0_4', 20 : 'x1_1', 21 : 'x1_2', 22 : 'x1_3', 23 : 'x1_4'}\n",
    "\n",
    "indecies_to_consider = list(param_dict.keys())[4:12] #This is what changes for different subproblems of CS2\n",
    "true_params = None\n",
    "# true_params = true_model_coefficients[indecies_to_consider]\n",
    "# print([param_dict[key] if key in indecies_to_consider else f\"No value found for key {key}\" for key in indecies_to_consider])\n",
    "ep0 = 1\n",
    "sep_fact = 1.0\n",
    "normalize = False\n",
    "num_x_data = 27\n",
    "dim_x = 2\n",
    "num_theta_data = 20\n",
    "lhs_gen_theta = True\n",
    "eval_all_pairs = False\n",
    "package = \"scikit_learn\"\n",
    "noise_mean = 0\n",
    "noise_std = 0.01\n",
    "kernel = \"Mat_52\"\n",
    "set_lenscl = 1\n",
    "outputscl = False\n",
    "retrain_GP = 2\n",
    "GP_train_iter = 300\n",
    "bo_iter_tot = 3\n",
    "bo_run_tot = 2\n",
    "save_fig = False\n",
    "save_data = False\n",
    "num_data = None\n",
    "calc_y_fxn = None\n",
    "seed = 1\n",
    "\n",
    "CS = CaseStudyParameters(cs_name, true_params, true_model_coefficients, param_dict, ep0, sep_fact, normalize, \n",
    "                         eval_all_pairs, package, noise_mean, noise_std, kernel, set_lenscl, outputscl, \n",
    "                         retrain_GP, GP_train_iter, bo_iter_tot, bo_run_tot, save_fig, save_data, DateTime, seed)\n",
    "\n",
    "simulator = Simulator(dim_x, indecies_to_consider, lhs_gen_theta, calc_y_fxn)\n",
    "\n",
    "#Generate Method (except last part)\n",
    "meth_name = Method_name_enum(5)\n",
    "method = GPBO_Methods(meth_name, None, None, None)\n",
    "method.emulator = method.get_emulator()\n",
    "method.obj = method.get_obj()\n",
    "method.sparse_grid = method.get_sparse_grid()\n",
    "\n",
    "print(\"CS Name: \", cs_name.name)\n",
    "print(\"Method Name: \", method.method_name.name)\n",
    "print(\"Emulator?: \", method.emulator)\n",
    "print(\"Obj Func: \", method.obj.name)\n",
    "print(\"Sparse Grid?: \", method.sparse_grid)"
   ]
  },
  {
   "cell_type": "markdown",
   "id": "b9ea2297",
   "metadata": {},
   "source": [
    "## Set Theta True, number of data, and Calc Model (based on CS)"
   ]
  },
  {
   "cell_type": "code",
   "execution_count": 3,
   "id": "85d23c43",
   "metadata": {},
   "outputs": [],
   "source": [
    "#Set true parameters\n",
    "true_params, true_param_names = simulator.set_true_params(CS)\n",
    "CS.true_params = true_params\n",
    "\n",
    "#Set calc model\n",
    "calc_model_fxn = simulator.set_calc_model(cs_name)\n",
    "simulator.calc_y_fxn = calc_model_fxn"
   ]
  },
  {
   "cell_type": "markdown",
   "id": "97e7e2c4",
   "metadata": {},
   "source": [
    "## Find Experimental X Data (If not given)"
   ]
  },
  {
   "cell_type": "code",
   "execution_count": 4,
   "id": "836b2823",
   "metadata": {},
   "outputs": [],
   "source": [
    "driver = GPBO_Driver(CS, simulator)\n",
    "bounds_x = np.array([[-1.5, -0.5], [1, 2]])\n",
    "gen_meth = Gen_meth_enum(1)\n",
    "seed = 1\n",
    "x_data = clean_1D_arrays(driver.create_param_data(num_x_data, bounds_x, gen_meth))\n",
    "exp_data = Data(None, true_params, x_data, None, None, None, None, None, None)\n",
    "# print(x_data, x_data.shape)"
   ]
  },
  {
   "cell_type": "markdown",
   "id": "56c55153",
   "metadata": {},
   "source": [
    "## Normalize Experimental X Data (optional)"
   ]
  },
  {
   "cell_type": "code",
   "execution_count": 5,
   "id": "4a514539",
   "metadata": {},
   "outputs": [],
   "source": [
    "bounds_p = np.array([[-2, -2, -10, -2, -2, -2,  5, -2],\n",
    "                    [ 2,  2,   0,  2,  2,  2, 15,  2]])\n",
    "scaled_exp_data = Data(None, true_params, x_data, None, None, None, None, None, None)\n",
    "scaled_exp_data.theta_true = scaled_exp_data.normalize(true_params, bounds_p)\n",
    "scaled_exp_data.x_data = scaled_exp_data.normalize(x_data, bounds_x)\n",
    "\n",
    "# print(scaled_exp_data.theta_true)\n",
    "# print(scaled_exp_data.x_data)"
   ]
  },
  {
   "cell_type": "markdown",
   "id": "b03ccb9c",
   "metadata": {},
   "source": [
    "## Generate Experimental y Data"
   ]
  },
  {
   "cell_type": "code",
   "execution_count": 6,
   "id": "93591776",
   "metadata": {},
   "outputs": [],
   "source": [
    "#Best way to differentiate between case studies? Name? How to name appropriately?\n",
    "#Note this is a new way of defining the function for CS2 which I think will be better suited to our needs.\n",
    "y_exp = driver.create_y_exp_data(exp_data)\n",
    "exp_data.y_vals = y_exp\n",
    "# print(exp_data.y_vals)"
   ]
  },
  {
   "cell_type": "markdown",
   "id": "d1052130",
   "metadata": {},
   "source": [
    "## Generate Simulation Theta Data"
   ]
  },
  {
   "cell_type": "code",
   "execution_count": 7,
   "id": "8a9c8ac4",
   "metadata": {},
   "outputs": [
    {
     "name": "stdout",
     "output_type": "stream",
     "text": [
      "540 10 20\n"
     ]
    }
   ],
   "source": [
    "#Rather than using a skip param_type, I will be using indecies and dictionaries.\n",
    "# Define the lower and upper bounds\n",
    "bounds_p = np.array([[-2, -2, -10, -2, -2, -2,  5, -2],\n",
    "                    [ 2,  2,   0,  2,  2,  2, 15,  2]])\n",
    "\n",
    "sim_data = Data(None, true_params, x_data, None, None, None, None, None, None)\n",
    "sim_data.theta_vals = clean_1D_arrays(driver.create_param_data(num_theta_data, bounds_p, gen_meth))\n",
    "\n",
    "#Set number and dimension of training data\n",
    "num_gp_data = sim_data.get_num_gp_data(method)\n",
    "dim_gp_data = sim_data.get_dim_gp_data(method)\n",
    "num_theta_calc = sim_data.get_num_theta()\n",
    "\n",
    "print(num_gp_data, dim_gp_data, num_theta_calc)"
   ]
  },
  {
   "cell_type": "markdown",
   "id": "0993198a",
   "metadata": {},
   "source": [
    "## Generate y_sim, sse, or log(sse) data (Run Simulations)"
   ]
  },
  {
   "cell_type": "code",
   "execution_count": 8,
   "id": "a9c2fd26",
   "metadata": {},
   "outputs": [],
   "source": [
    "#Create y_sim data based on method, data, and case study\n",
    "y_sim = simulator.create_sim_data(method, CS, sim_data, exp_data)\n",
    "sim_data.y_vals = y_sim\n",
    "# print(y_sim)"
   ]
  },
  {
   "cell_type": "markdown",
   "id": "f57d5f05",
   "metadata": {},
   "source": [
    "## Augmenting Training Data (Skipped Steps)"
   ]
  },
  {
   "cell_type": "code",
   "execution_count": 9,
   "id": "6a021211",
   "metadata": {},
   "outputs": [
    {
     "name": "stdout",
     "output_type": "stream",
     "text": [
      "20 540\n",
      "21 567\n"
     ]
    }
   ],
   "source": [
    "best_theta = Data(true_params.reshape(1,-1), true_params, x_data, None, None, None, None, None, None)\n",
    "best_theta.y_vals = simulator.create_sim_data(method, CS, best_theta, exp_data)\n",
    "\n",
    "print(len(sim_data.theta_vals), len(sim_data.y_vals))\n",
    "\n",
    "sim_data = driver.augment_train_data(sim_data, best_theta)\n",
    "\n",
    "print(len(sim_data.theta_vals), len(sim_data.y_vals))"
   ]
  },
  {
   "cell_type": "markdown",
   "id": "06e36759",
   "metadata": {},
   "source": [
    "# Case Study 1 Test"
   ]
  },
  {
   "cell_type": "code",
   "execution_count": 10,
   "id": "cb27fd2d",
   "metadata": {},
   "outputs": [
    {
     "name": "stdout",
     "output_type": "stream",
     "text": [
      "CS Name:  CS1\n",
      "Method Name:  C2\n",
      "Emulator?:  True\n",
      "Obj Func:  OBJ\n",
      "Sparse Grid?:  True\n"
     ]
    }
   ],
   "source": [
    "#Set Date and Time\n",
    "dateTimeObj = datetime.now()\n",
    "timestampStr = dateTimeObj.strftime(\"%d-%b-%Y (%H:%M:%S)\")\n",
    "# print(\"Date and Time: \", timestampStr)\n",
    "# DateTime = dateTimeObj.strftime(\"%Y/%m/%d/%H-%M-%S%p\")\n",
    "DateTime = dateTimeObj.strftime(\"%Y/%m/%d/%H-%M\")\n",
    "DateTime = None ##For Testing\n",
    "\n",
    "cs_name  = CS_name_enum(1)\n",
    "\n",
    "#Want to make this all one array. I think that makes more sense\n",
    "true_model_coefficients = np.array([1, -1])\n",
    "true_params = None\n",
    "param_dict = {0 : 'theta_1', 1 : 'theta_2'}\n",
    "indecies_to_consider = list(param_dict.keys()) #This is what changes for different subproblems of CS2\n",
    "\n",
    "# true_params = true_model_coefficients[indecies_to_consider]\n",
    "# print([param_dict[key] if key in indecies_to_consider else f\"No value found for key {key}\" for key in indecies_to_consider])\n",
    "ep0 = 1\n",
    "sep_fact = 1.0\n",
    "normalize = False\n",
    "num_x_data = 5\n",
    "dim_x = 2\n",
    "num_theta_data = 20\n",
    "lhs_gen_theta = True\n",
    "eval_all_pairs = False\n",
    "package = \"scikit_learn\"\n",
    "noise_mean = 0\n",
    "noise_std = 0.01\n",
    "kernel = \"Mat_52\"\n",
    "set_lenscl = 1\n",
    "outputscl = False\n",
    "retrain_GP = 2\n",
    "GP_train_iter = 300\n",
    "bo_iter_tot = 3\n",
    "bo_run_tot = 2\n",
    "save_fig = False\n",
    "save_data = False\n",
    "x_data_vals = np.linspace(-2,2,num_x_data)\n",
    "num_data = None\n",
    "calc_y_fxn = None\n",
    "seed = 1\n",
    "\n",
    "CS = CaseStudyParameters(cs_name, true_params, true_model_coefficients, param_dict, ep0, sep_fact, normalize, \n",
    "                         eval_all_pairs, package, noise_mean, noise_std, kernel, set_lenscl, outputscl, \n",
    "                         retrain_GP, GP_train_iter, bo_iter_tot, bo_run_tot, save_fig, save_data, DateTime, seed)\n",
    "\n",
    "simulator = Simulator(dim_x, indecies_to_consider, lhs_gen_theta, calc_y_fxn)\n",
    "\n",
    "#Generate Method (except last part)\n",
    "method = GPBO_Methods(meth_name, None, None, None)\n",
    "method.emulator = method.get_emulator()\n",
    "method.obj = method.get_obj()\n",
    "method.sparse_grid = method.get_sparse_grid()\n",
    "\n",
    "print(\"CS Name: \", cs_name.name)\n",
    "print(\"Method Name: \", method.method_name.name)\n",
    "print(\"Emulator?: \", method.emulator)\n",
    "print(\"Obj Func: \", method.obj.name)\n",
    "print(\"Sparse Grid?: \", method.sparse_grid)"
   ]
  },
  {
   "cell_type": "code",
   "execution_count": 11,
   "id": "f7f38efc",
   "metadata": {},
   "outputs": [],
   "source": [
    "#Set true parameters\n",
    "true_params, true_param_names = simulator.set_true_params(CS)\n",
    "CS.true_params = true_params\n",
    "\n",
    "#Set calc model\n",
    "calc_model_fxn = simulator.set_calc_model(cs_name)\n",
    "simulator.calc_y_fxn = calc_model_fxn"
   ]
  },
  {
   "cell_type": "code",
   "execution_count": 12,
   "id": "32708c99",
   "metadata": {},
   "outputs": [],
   "source": [
    "driver = GPBO_Driver(CS, simulator)\n",
    "bounds_x = np.array([[-2], [2]])\n",
    "gen_meth = Gen_meth_enum(2)\n",
    "x_data = x_data_vals\n",
    "exp_data = Data(None, true_params, x_data, None, None, None, None, None, None)\n",
    "# print(x_data, x_data.shape)"
   ]
  },
  {
   "cell_type": "code",
   "execution_count": 13,
   "id": "7ccfe0f2",
   "metadata": {},
   "outputs": [],
   "source": [
    "#CS1\n",
    "bounds_p = np.array([[-2, -2],\n",
    "                    [ 2,  2]])\n",
    "scaled_exp_data = Data(None, true_params, x_data, None, None, None, None, None, None)\n",
    "scaled_exp_data.theta_true = scaled_exp_data.normalize(true_params, bounds_p)\n",
    "scaled_exp_data.x_data = scaled_exp_data.normalize(x_data, bounds_x)\n",
    "\n",
    "# print(scaled_exp_data.theta_true)\n",
    "# print(scaled_exp_data.x_data)"
   ]
  },
  {
   "cell_type": "code",
   "execution_count": 14,
   "id": "42403f8c",
   "metadata": {},
   "outputs": [],
   "source": [
    "#Best way to differentiate between case studies? Name? How to name appropriately?\n",
    "#Note this is a new way of defining the function for CS2 which I think will be better suited to our needs.\n",
    "y_exp = driver.create_y_exp_data(exp_data)\n",
    "exp_data.y_vals = y_exp\n",
    "# print(exp_data.y_vals)"
   ]
  },
  {
   "cell_type": "code",
   "execution_count": 15,
   "id": "f641910e",
   "metadata": {},
   "outputs": [
    {
     "name": "stdout",
     "output_type": "stream",
     "text": [
      "2000 3 400\n"
     ]
    }
   ],
   "source": [
    "# Define the lower and upper bounds\n",
    "sim_data = Data(None, true_params, x_data, None, None, None, None, None, None)\n",
    "sim_data.theta_vals = clean_1D_arrays(driver.create_param_data(num_theta_data, bounds_p, gen_meth))\n",
    "\n",
    "#Set number and dimensions of training data\n",
    "num_gp_data = sim_data.get_num_gp_data(method)\n",
    "dim_gp_data = sim_data.get_dim_gp_data(method)\n",
    "num_theta_calc = sim_data.get_num_theta()\n",
    "\n",
    "print(num_gp_data, dim_gp_data, num_theta_calc)"
   ]
  },
  {
   "cell_type": "code",
   "execution_count": 16,
   "id": "13e75283",
   "metadata": {},
   "outputs": [],
   "source": [
    "#Create y_sim data based on method, data, and case study\n",
    "y_sim = simulator.create_sim_data(method, CS, sim_data, exp_data)\n",
    "sim_data.y_vals = y_sim\n",
    "# print(y_sim)"
   ]
  },
  {
   "cell_type": "code",
   "execution_count": 17,
   "id": "e7565b7f",
   "metadata": {},
   "outputs": [
    {
     "name": "stdout",
     "output_type": "stream",
     "text": [
      "400 2000\n",
      "401 2005\n"
     ]
    }
   ],
   "source": [
    "best_theta = Data(true_params.reshape(1,-1), true_params, x_data, None, None, None, None, None, None)\n",
    "best_theta.y_vals = simulator.create_sim_data(method, CS, best_theta, exp_data)\n",
    "\n",
    "print(len(sim_data.theta_vals), len(sim_data.y_vals))\n",
    "\n",
    "sim_data = driver.augment_train_data(sim_data, best_theta)\n",
    "\n",
    "print(len(sim_data.theta_vals), len(sim_data.y_vals))"
   ]
  },
  {
   "cell_type": "code",
   "execution_count": null,
   "id": "59340b26",
   "metadata": {},
   "outputs": [],
   "source": []
  }
 ],
 "metadata": {
  "kernelspec": {
   "display_name": "Python 3 (ipykernel)",
   "language": "python",
   "name": "python3"
  },
  "language_info": {
   "codemirror_mode": {
    "name": "ipython",
    "version": 3
   },
   "file_extension": ".py",
   "mimetype": "text/x-python",
   "name": "python",
   "nbconvert_exporter": "python",
   "pygments_lexer": "ipython3",
   "version": "3.9.12"
  }
 },
 "nbformat": 4,
 "nbformat_minor": 5
}
