{
 "cells": [
  {
   "cell_type": "markdown",
   "id": "172cb7dc",
   "metadata": {},
   "source": [
    "## Import Dependencies"
   ]
  },
  {
   "cell_type": "code",
   "execution_count": 1,
   "id": "5738fd89",
   "metadata": {},
   "outputs": [
    {
     "name": "stderr",
     "output_type": "stream",
     "text": [
      "/afs/crc.nd.edu/user/m/mcarlozo/.conda/envs/Toy_Problem_env/lib/python3.9/site-packages/tqdm/auto.py:22: TqdmWarning: IProgress not found. Please update jupyter and ipywidgets. See https://ipywidgets.readthedocs.io/en/stable/user_install.html\n",
      "  from .autonotebook import tqdm as notebook_tqdm\n"
     ]
    },
    {
     "name": "stdout",
     "output_type": "stream",
     "text": [
      "CPU times: user 2.2 s, sys: 268 ms, total: 2.47 s\n",
      "Wall time: 2.5 s\n"
     ]
    }
   ],
   "source": [
    "%%time\n",
    "\n",
    "import sys\n",
    "import gpytorch\n",
    "import numpy as np\n",
    "import pandas as pd\n",
    "import torch\n",
    "from datetime import datetime\n",
    "from scipy.stats import qmc\n",
    "import itertools\n",
    "from itertools import combinations_with_replacement, combinations, permutations\n",
    "\n",
    "import bo_methods_lib\n",
    "from bo_methods_lib.bo_functions_generic import gen_theta_set, clean_1D_arrays\n",
    "from bo_methods_lib.GPBO_Classes_New import * #Fix this later\n",
    "from bo_methods_lib.GPBO_Class_fxns import * #Fix this later"
   ]
  },
  {
   "cell_type": "markdown",
   "id": "feebcda8",
   "metadata": {},
   "source": [
    "## Define Case Study & Most of Method"
   ]
  },
  {
   "cell_type": "code",
   "execution_count": 2,
   "id": "726b3f00",
   "metadata": {},
   "outputs": [],
   "source": [
    "#Set Date and Time\n",
    "dateTimeObj = datetime.now()\n",
    "timestampStr = dateTimeObj.strftime(\"%d-%b-%Y (%H:%M:%S)\")\n",
    "# print(\"Date and Time: \", timestampStr)\n",
    "# DateTime = dateTimeObj.strftime(\"%Y/%m/%d/%H-%M-%S%p\")\n",
    "DateTime = dateTimeObj.strftime(\"%Y/%m/%d/%H-%M\")\n",
    "DateTime = None ##For Testing\n",
    "\n",
    "cs_name  = \"CS2\"\n",
    "\n",
    "#Want to make this all one array. I think that makes more sense\n",
    "true_model_coefficients = np.array([-200,-100,-170,15,-1,-1,-6.5,0.7,0,0,11,0.6,-10,-10,-6.5,0.7,1,0,-0.5,-1,0,0.5,1.5,1])\n",
    "param_dict = {0 : 'A_1', 1 : 'A_2', 2 : 'A_3', 3 : 'A_4', 4 : 'a_1', 5 : 'a_2', 6 : 'a_3', 7 : 'a_4', \n",
    "             8 : 'b_1', 9 : 'b_2', 10 : 'b_3', 11 : 'b_4', 12 : 'c_1', 13 : 'c_2', 14 : 'c_3', 15 : 'c_4',\n",
    "             16 : 'x0_1', 17 : 'x0_2', 18 : 'x0_3', 19 : 'x0_4', 20 : 'x1_1', 21 : 'x1_2', 22 : 'x1_3', 23 : 'x1_4'}\n",
    "\n",
    "indecies_to_consider = list(param_dict.keys())[4:12] #This is what changes for different subproblems of CS2\n",
    "true_params = true_model_coefficients[indecies_to_consider]\n",
    "# print([param_dict[key] if key in indecies_to_consider else f\"No value found for key {key}\" for key in indecies_to_consider])\n",
    "ep0 = 1\n",
    "sep_fact = 1.0\n",
    "normalize = False\n",
    "num_x_data = 27\n",
    "num_theta_data = 20\n",
    "lhs_gen_theta = True\n",
    "eval_all_pairs = False\n",
    "package = \"scikit_learn\"\n",
    "noise_mean = 0\n",
    "noise_std = 0.01\n",
    "kernel = \"Mat_52\"\n",
    "set_lenscl = 1\n",
    "outputscl = False\n",
    "retrain_GP = 2\n",
    "GP_train_iter = 300\n",
    "bo_iter_tot = 3\n",
    "bo_run_tot = 2\n",
    "save_fig = False\n",
    "save_data = False\n",
    "x_data_vals = None\n",
    "num_data = None\n",
    "seed = 1\n",
    "CS = CaseStudyParameters(cs_name, true_params, true_model_coefficients, param_dict, \n",
    "                         indecies_to_consider, ep0, sep_fact, normalize, num_x_data, num_theta_data, \n",
    "                         num_data, lhs_gen_theta, x_data_vals, eval_all_pairs, package, noise_mean, noise_std, kernel, \n",
    "                         set_lenscl, outputscl, retrain_GP, GP_train_iter, bo_iter_tot, bo_run_tot, save_fig, save_data, \n",
    "                         DateTime, seed)\n",
    "\n",
    "#Generate Method (except last part)\n",
    "meth_name = \"1A\"\n",
    "emulator = False\n",
    "obj = \"obj\"\n",
    "sparse_grid = False\n",
    "\n",
    "method = GPBO_Methods(meth_name, emulator, obj, sparse_grid, None)"
   ]
  },
  {
   "cell_type": "raw",
   "id": "58d5e7d6",
   "metadata": {},
   "source": [
    "#CS1\n",
    "#Set Date and Time\n",
    "dateTimeObj = datetime.now()\n",
    "timestampStr = dateTimeObj.strftime(\"%d-%b-%Y (%H:%M:%S)\")\n",
    "# print(\"Date and Time: \", timestampStr)\n",
    "# DateTime = dateTimeObj.strftime(\"%Y/%m/%d/%H-%M-%S%p\")\n",
    "DateTime = dateTimeObj.strftime(\"%Y/%m/%d/%H-%M\")\n",
    "DateTime = None ##For Testing\n",
    "\n",
    "cs_name  = \"CS1\"\n",
    "\n",
    "#Want to make this all one array. I think that makes more sense\n",
    "true_model_coefficients = np.array([1, -1])\n",
    "true_params = np.array([1, -1])\n",
    "param_dict = {0 : 'theta_1', 1 : 'theta_2'}\n",
    "\n",
    "indecies_to_consider = list(param_dict.keys()) #This is what changes for different subproblems of CS2\n",
    "# print([param_dict[key] if key in indecies_to_consider else f\"No value found for key {key}\" for key in indecies_to_consider])\n",
    "ep0 = 1\n",
    "sep_fact = 1.0\n",
    "normalize = False\n",
    "num_x_data = 5\n",
    "num_theta_data = 21\n",
    "LHS_gen_theta = True\n",
    "eval_all_pairs = False\n",
    "package = \"scikit_learn\"\n",
    "noise_mean = 0\n",
    "noise_std = 0.01\n",
    "kernel = \"Mat_52\"\n",
    "set_lenscl = 1\n",
    "outputscl = False\n",
    "retrain_GP = 2\n",
    "GP_train_iter = 300\n",
    "bo_iter_tot = 3\n",
    "bo_run_tot = 2\n",
    "save_fig = False\n",
    "save_data = False\n",
    "x_data_vals = np.linspace(-2,2,5)\n",
    "num_data = None\n",
    "seed = 1\n",
    "CS = CaseStudyParameters(cs_name, true_params, true_model_coefficients, param_dict, \n",
    "                         indecies_to_consider, ep0, sep_fact, normalize, num_x_data, num_theta_data, \n",
    "                         num_data, LHS_gen_theta, x_data_vals, eval_all_pairs, package, noise_mean, noise_std, kernel, \n",
    "                         set_lenscl, outputscl, retrain_GP, GP_train_iter, bo_iter_tot, bo_run_tot, save_fig, save_data, \n",
    "                         DateTime, seed)\n",
    "\n",
    "#Generate Method (except last part)\n",
    "meth_name = \"1A\"\n",
    "emulator = False\n",
    "obj = \"obj\"\n",
    "sparse_grid = False\n",
    "\n",
    "method = GPBO_Methods(meth_name, emulator, obj, sparse_grid, None)"
   ]
  },
  {
   "cell_type": "markdown",
   "id": "97e7e2c4",
   "metadata": {},
   "source": [
    "## Find Experimental X Data (If not given)"
   ]
  },
  {
   "cell_type": "code",
   "execution_count": 3,
   "id": "029554f4",
   "metadata": {},
   "outputs": [],
   "source": [
    "driver = GPBO_Driver(CS)\n",
    "bounds_x = np.array([[-1.5, -0.5], [1, 2]])\n",
    "gen_meth = \"LHS\"\n",
    "seed = 1\n",
    "x_data = clean_1D_arrays(driver.create_param_data(num_x_data, bounds_x, gen_meth))\n",
    "exp_data = Data(None, true_params, x_data, None, None, None, None, None, None)\n",
    "CS.x_data_vals = exp_data.x_vals\n",
    "# print(x_data)"
   ]
  },
  {
   "cell_type": "raw",
   "id": "caac7fdb",
   "metadata": {},
   "source": [
    "#CS1\n",
    "driver = GPBO_Driver(CS)\n",
    "bounds_x = np.array([[-2], [2]])\n",
    "x_data = CS.x_data_vals\n",
    "exp_data = Data(None, true_params, x_data, None, None, None, None, None, None)\n",
    "print(x_data)"
   ]
  },
  {
   "cell_type": "markdown",
   "id": "56c55153",
   "metadata": {},
   "source": [
    "## Normalize Experimental X Data (optional)"
   ]
  },
  {
   "cell_type": "code",
   "execution_count": 4,
   "id": "f8d7c784",
   "metadata": {},
   "outputs": [],
   "source": [
    "bounds_p = np.array([[-2, -2, -10, -2, -2, -2,  5, -2],\n",
    "                    [ 2,  2,   0,  2,  2,  2, 15,  2]])\n",
    "scaled_exp_data = Data(None, true_params, x_data, None, None, None, None, None, None)\n",
    "scaled_exp_data.theta_true = scaled_exp_data.normalize(true_params, bounds_p)\n",
    "scaled_exp_data.x_data = scaled_exp_data.normalize(x_data, bounds_x)\n",
    "\n",
    "# print(scaled_exp_data.theta_true)\n",
    "# print(scaled_exp_data.x_data)"
   ]
  },
  {
   "cell_type": "raw",
   "id": "a0dd5470",
   "metadata": {},
   "source": [
    "#CS1\n",
    "bounds_p = np.array([[-2, -2],\n",
    "                    [ 2,  2]])\n",
    "scaled_exp_data = Data(None, true_params, x_data, None, None, None, None, None, None)\n",
    "scaled_exp_data.theta_true = scaled_exp_data.normalize(true_params, bounds_p)\n",
    "scaled_exp_data.x_data = scaled_exp_data.normalize(x_data, bounds_x)\n",
    "\n",
    "print(scaled_exp_data.theta_true)\n",
    "print(scaled_exp_data.x_data)"
   ]
  },
  {
   "cell_type": "markdown",
   "id": "b03ccb9c",
   "metadata": {},
   "source": [
    "## Generate Experimental y Data"
   ]
  },
  {
   "cell_type": "code",
   "execution_count": 5,
   "id": "2827dc00",
   "metadata": {},
   "outputs": [],
   "source": [
    "#Best way to differentiate between case studies? Name? How to name appropriately?\n",
    "#Note this is a new way of defining the function for CS2 which I think will be better suited to our needs.\n",
    "y_exp = driver.create_y_exp_data()\n",
    "exp_data.y_vals = y_exp\n",
    "# print(exp_data.y_vals)"
   ]
  },
  {
   "cell_type": "markdown",
   "id": "d1052130",
   "metadata": {},
   "source": [
    "## Generate Simulation Theta Data"
   ]
  },
  {
   "cell_type": "code",
   "execution_count": 6,
   "id": "014124a7",
   "metadata": {},
   "outputs": [],
   "source": [
    "#Rather than using a skip param_type, I will be using indecies and dictionaries.\n",
    "sim_data = Data(None, true_params, x_data, None, None, None, None, None, None)\n",
    "bounds_p = np.array([[-2, -2, -10, -2, -2, -2,  5, -2],\n",
    "                    [ 2,  2,   0,  2,  2,  2, 15,  2]])\n",
    "\n",
    "##Just generate some data for now and fix the simulation data creators.\n",
    "# Define the lower and upper bounds\n",
    "sim_data = Data(None, true_params, x_data, None, None, None, None, None, None)\n",
    "sim_data.theta_vals = clean_1D_arrays(driver.create_param_data(num_theta_data, bounds_p, gen_meth))\n",
    "# print(sim_data.x_vals)"
   ]
  },
  {
   "cell_type": "raw",
   "id": "b7290d36",
   "metadata": {},
   "source": [
    "sim_data = Data(None, true_params, x_data, None, None, None, None, None, None)\n",
    "gen_meth = \"Meshgrid\"\n",
    "##Just generate some data for now and fix the simulation data creators.\n",
    "# Define the lower and upper bounds\n",
    "sim_data = Data(None, true_params, x_data, None, None, None, None, None, None)\n",
    "sim_data.theta_vals = clean_1D_arrays(driver.create_param_data(num_theta_data, bounds_p, gen_meth))\n",
    "# print(sim_data.theta_vals)"
   ]
  },
  {
   "cell_type": "markdown",
   "id": "0993198a",
   "metadata": {},
   "source": [
    "## Generate y_sim, sse, or log(sse) data (Run Simulations)"
   ]
  },
  {
   "cell_type": "code",
   "execution_count": 7,
   "id": "1efb0d65",
   "metadata": {},
   "outputs": [
    {
     "ename": "AttributeError",
     "evalue": "'str' object has no attribute 'obj'",
     "output_type": "error",
     "traceback": [
      "\u001b[0;31m---------------------------------------------------------------------------\u001b[0m",
      "\u001b[0;31mAttributeError\u001b[0m                            Traceback (most recent call last)",
      "Input \u001b[0;32mIn [7]\u001b[0m, in \u001b[0;36m<cell line: 6>\u001b[0;34m()\u001b[0m\n\u001b[1;32m      2\u001b[0m method\u001b[38;5;241m.\u001b[39mGP_training_dims \u001b[38;5;241m=\u001b[39m method\u001b[38;5;241m.\u001b[39mset_GP_training_dims(sim_data\u001b[38;5;241m.\u001b[39mx_vals, sim_data\u001b[38;5;241m.\u001b[39mtheta_vals)\n\u001b[1;32m      3\u001b[0m \u001b[38;5;66;03m# print(method.GP_training_dims)\u001b[39;00m\n\u001b[1;32m      4\u001b[0m \n\u001b[1;32m      5\u001b[0m \u001b[38;5;66;03m#Create y_sim data based on method, data, and case study\u001b[39;00m\n\u001b[0;32m----> 6\u001b[0m y_sim \u001b[38;5;241m=\u001b[39m \u001b[43mdriver\u001b[49m\u001b[38;5;241;43m.\u001b[39;49m\u001b[43mcreate_sim_data\u001b[49m\u001b[43m(\u001b[49m\u001b[43mmethod\u001b[49m\u001b[43m,\u001b[49m\u001b[43m \u001b[49m\u001b[43msim_data\u001b[49m\u001b[43m,\u001b[49m\u001b[43m \u001b[49m\u001b[43mexp_data\u001b[49m\u001b[43m)\u001b[49m\n\u001b[1;32m      7\u001b[0m sim_data\u001b[38;5;241m.\u001b[39my_vals \u001b[38;5;241m=\u001b[39m y_sim\n",
      "File \u001b[0;32m/scratch365/mcarlozo/Toy_Problem/bo_methods_lib/GPBO_Classes_New.py:512\u001b[0m, in \u001b[0;36mGPBO_Driver.create_sim_data\u001b[0;34m(self, method, sim_data, exp_data)\u001b[0m\n\u001b[1;32m    510\u001b[0m cs_name \u001b[38;5;241m=\u001b[39m \u001b[38;5;28mself\u001b[39m\u001b[38;5;241m.\u001b[39mCaseStudyParameters\u001b[38;5;241m.\u001b[39mcs_name\n\u001b[1;32m    511\u001b[0m method \u001b[38;5;241m=\u001b[39m method\u001b[38;5;241m.\u001b[39mmethod_name\n\u001b[0;32m--> 512\u001b[0m obj \u001b[38;5;241m=\u001b[39m \u001b[43mmethod\u001b[49m\u001b[38;5;241;43m.\u001b[39;49m\u001b[43mobj\u001b[49m\n\u001b[1;32m    513\u001b[0m indecies \u001b[38;5;241m=\u001b[39m \u001b[38;5;28mself\u001b[39m\u001b[38;5;241m.\u001b[39mCaseStudyParameters\u001b[38;5;241m.\u001b[39mindecies_to_consider\n\u001b[1;32m    514\u001b[0m noise_mean \u001b[38;5;241m=\u001b[39m \u001b[38;5;28mself\u001b[39m\u001b[38;5;241m.\u001b[39mCaseStudyParameters\u001b[38;5;241m.\u001b[39mnoise_mean\n",
      "\u001b[0;31mAttributeError\u001b[0m: 'str' object has no attribute 'obj'"
     ]
    }
   ],
   "source": [
    "#Set number of training dimensions for the method\n",
    "method.GP_training_dims = method.set_GP_training_dims(sim_data.x_vals, sim_data.theta_vals)\n",
    "# print(method.GP_training_dims)\n",
    "\n",
    "#Create y_sim data based on method, data, and case study\n",
    "y_sim = driver.create_sim_data(method, sim_data, exp_data)\n",
    "sim_data.y_vals = y_sim\n",
    "# print(y_sim)"
   ]
  },
  {
   "cell_type": "markdown",
   "id": "f57d5f05",
   "metadata": {},
   "source": [
    "## Augmenting Training Data (Skipped Steps)"
   ]
  },
  {
   "cell_type": "code",
   "execution_count": null,
   "id": "4280f751",
   "metadata": {},
   "outputs": [],
   "source": [
    "best_theta = Data(true_params.reshape(1,-1), true_params, x_data, None, None, None, None, None, None)\n",
    "best_theta.y_vals = driver.create_sim_data(method, best_theta, exp_data)\n",
    "\n",
    "print(len(sim_data.theta_vals), len(sim_data.y_vals))\n",
    "\n",
    "sim_data = driver.augment_train_data(sim_data, best_theta)\n",
    "\n",
    "print(len(sim_data.theta_vals), len(sim_data.y_vals))"
   ]
  },
  {
   "cell_type": "code",
   "execution_count": null,
   "id": "d46ef735",
   "metadata": {},
   "outputs": [],
   "source": []
  }
 ],
 "metadata": {
  "kernelspec": {
   "display_name": "Python 3 (ipykernel)",
   "language": "python",
   "name": "python3"
  },
  "language_info": {
   "codemirror_mode": {
    "name": "ipython",
    "version": 3
   },
   "file_extension": ".py",
   "mimetype": "text/x-python",
   "name": "python",
   "nbconvert_exporter": "python",
   "pygments_lexer": "ipython3",
   "version": "3.9.12"
  }
 },
 "nbformat": 4,
 "nbformat_minor": 5
}
