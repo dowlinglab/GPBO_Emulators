{
 "cells": [
  {
   "cell_type": "markdown",
   "id": "172cb7dc",
   "metadata": {},
   "source": [
    "## Import Dependencies"
   ]
  },
  {
   "cell_type": "code",
   "execution_count": 1,
   "id": "5738fd89",
   "metadata": {},
   "outputs": [
    {
     "name": "stderr",
     "output_type": "stream",
     "text": [
      "/afs/crc.nd.edu/user/m/mcarlozo/.conda/envs/Toy_Problem_env/lib/python3.9/site-packages/tqdm/auto.py:22: TqdmWarning: IProgress not found. Please update jupyter and ipywidgets. See https://ipywidgets.readthedocs.io/en/stable/user_install.html\n",
      "  from .autonotebook import tqdm as notebook_tqdm\n"
     ]
    },
    {
     "name": "stdout",
     "output_type": "stream",
     "text": [
      "CPU times: user 2.39 s, sys: 306 ms, total: 2.69 s\n",
      "Wall time: 4.38 s\n"
     ]
    }
   ],
   "source": [
    "%%time\n",
    "\n",
    "import sys\n",
    "import gpytorch\n",
    "import numpy as np\n",
    "import pandas as pd\n",
    "import torch\n",
    "from datetime import datetime\n",
    "from scipy.stats import qmc\n",
    "import itertools\n",
    "from itertools import combinations_with_replacement, combinations, permutations\n",
    "\n",
    "import bo_methods_lib\n",
    "from bo_methods_lib.bo_functions_generic import gen_theta_set, clean_1D_arrays\n",
    "from bo_methods_lib.GPBO_Classes_New import * #Fix this later\n",
    "from bo_methods_lib.GPBO_Class_fxns import * #Fix this later"
   ]
  },
  {
   "cell_type": "markdown",
   "id": "e005c837",
   "metadata": {},
   "source": [
    "## Define Method and DateTime"
   ]
  },
  {
   "cell_type": "code",
   "execution_count": 2,
   "id": "516ae29e",
   "metadata": {},
   "outputs": [
    {
     "name": "stdout",
     "output_type": "stream",
     "text": [
      "Method Name:  A1\n",
      "Emulator?:  False\n",
      "Obj Func:  OBJ\n",
      "Sparse Grid?:  False\n"
     ]
    }
   ],
   "source": [
    "#Generate Method (except last part)\n",
    "meth_name = Method_name_enum(1)\n",
    "method = GPBO_Methods(meth_name)\n",
    "\n",
    "print(\"Method Name: \", method.method_name.name)\n",
    "print(\"Emulator?: \", method.emulator)\n",
    "print(\"Obj Func: \", method.obj.name)\n",
    "print(\"Sparse Grid?: \", method.sparse_grid)\n",
    "\n",
    "#Set Date and Time\n",
    "dateTimeObj = datetime.now()\n",
    "timestampStr = dateTimeObj.strftime(\"%d-%b-%Y (%H:%M:%S)\")\n",
    "# print(\"Date and Time: \", timestampStr)\n",
    "# DateTime = dateTimeObj.strftime(\"%Y/%m/%d/%H-%M-%S%p\")\n",
    "DateTime = dateTimeObj.strftime(\"%Y/%m/%d/%H-%M\")\n",
    "DateTime = None ##For Testing"
   ]
  },
  {
   "cell_type": "markdown",
   "id": "27207621",
   "metadata": {},
   "source": [
    "## Define Case Study Simulator & Functions"
   ]
  },
  {
   "cell_type": "code",
   "execution_count": 3,
   "id": "03a611c0",
   "metadata": {},
   "outputs": [],
   "source": [
    "def simulator_helper_test_fxns(cs_name, indecies_to_consider):\n",
    "    \"\"\"\n",
    "    Sets the model for calculating y based off of the case study identifier.\n",
    "\n",
    "    Parameters\n",
    "    ----------\n",
    "    cs_name: Class, The name/enumerator associated with the case study being evaluated\n",
    "\n",
    "    Returns\n",
    "    -------\n",
    "    calc_y_fxn: function, the function used for calculation is case study cs_name.name\n",
    "    \"\"\"\n",
    "    #Note: Add your function name from GPBO_Class_fxns.py here\n",
    "    if cs_name.value == 1:\n",
    "        dim_x = 1       \n",
    "        theta_ref = np.array([1, -1])\n",
    "        theta_names = ['theta_1', 'theta_2']\n",
    "        bounds_x_l = [-2]\n",
    "        bounds_x_u = [2]\n",
    "        bounds_theta_l = [-2, -2]\n",
    "        bounds_theta_u = [ 2,  2]\n",
    "        calc_y_fxn = calc_cs1_polynomial\n",
    "        \n",
    "    elif cs_name.value == 2:\n",
    "        dim_x = 2       \n",
    "        theta_ref = np.array([-200,-100,-170,15,-1,-1,-6.5,0.7,0,0,11,0.6,-10,-10,-6.5,0.7,1,0,-0.5,-1,0,0.5,1.5,1])\n",
    "                             \n",
    "        theta_names = ['A_1', 'A_2', 'A_3', 'A_4', 'a_1', 'a_2', 'a_3', 'a_4', 'b_1', 'b_2', 'b_3', 'b_4', 'c_1', \n",
    "                       'c_2', 'c_3', 'c_4', 'x0_1', 'x0_2', 'x0_3', 'x0_4', 'x1_1', 'x1_2', 'x1_3', 'x1_4']\n",
    "        bounds_x_l = [-1.5, -0.5]\n",
    "        bounds_x_u = [1, 2]\n",
    "        bounds_theta_l = [-300,-200,-250, 5,-2,-2,-10, -2, -2,-2,5,-2,-20,-20, -10,-1 ,-2,-2,-2, -2,-2,-2,0,-2]\n",
    "        bounds_theta_u = [-100,  0, -150, 20,2, 2, 0,  2,  2,  2, 15,2, 0,0   , 0,  2, 2,  2, 2, 2 ,2 , 2, 2,2]\n",
    "        calc_y_fxn = calc_muller\n",
    "        \n",
    "    else:\n",
    "        raise ValueError(\"self.CaseStudyParameters.cs_name.value must exist!\")\n",
    "\n",
    "    return Simulator(dim_x, \n",
    "                     indecies_to_consider, \n",
    "                     theta_ref,\n",
    "                     theta_names,\n",
    "                     bounds_theta_l, \n",
    "                     bounds_x_l, \n",
    "                     bounds_theta_u, \n",
    "                     bounds_x_u,\n",
    "                     calc_y_fxn)"
   ]
  },
  {
   "cell_type": "markdown",
   "id": "feebcda8",
   "metadata": {},
   "source": [
    "## Define Case Study"
   ]
  },
  {
   "cell_type": "code",
   "execution_count": 4,
   "id": "1d19cd9d",
   "metadata": {},
   "outputs": [
    {
     "name": "stdout",
     "output_type": "stream",
     "text": [
      "CS Name:  CS2\n"
     ]
    }
   ],
   "source": [
    "cs_name  = CS_name_enum(2)\n",
    "print(\"CS Name: \", cs_name.name)\n",
    "\n",
    "indecies_to_consider = list(range(4, 12)) #This is what changes for different subproblems of CS2\n",
    "\n",
    "ep0 = 1\n",
    "sep_fact = 0.8\n",
    "normalize = False\n",
    "num_x_data = 27\n",
    "num_theta_data = 20\n",
    "lhs_gen_theta = True\n",
    "eval_all_pairs = False\n",
    "noise_mean = 0\n",
    "noise_std = 0.01\n",
    "kernel = Kernel_enum(1)\n",
    "set_lenscl = 1\n",
    "outputscl = False\n",
    "retrain_GP = 2\n",
    "GP_train_iter = 300\n",
    "bo_iter_tot = 3\n",
    "bo_run_tot = 2\n",
    "save_fig = False\n",
    "save_data = False\n",
    "num_data = None\n",
    "seed = 1\n",
    "\n",
    "CS = CaseStudyParameters(cs_name, ep0, sep_fact, normalize, eval_all_pairs, noise_mean, noise_std, bo_iter_tot, \n",
    "                         bo_run_tot, save_fig, save_data, DateTime, seed)\n",
    "\n",
    "simulator = simulator_helper_test_fxns(cs_name, indecies_to_consider)"
   ]
  },
  {
   "cell_type": "markdown",
   "id": "97e7e2c4",
   "metadata": {},
   "source": [
    "## Generate Experimental X and Y Data (If not given)"
   ]
  },
  {
   "cell_type": "code",
   "execution_count": 5,
   "id": "836b2823",
   "metadata": {},
   "outputs": [],
   "source": [
    "gen_meth_x = Gen_meth_enum(1)\n",
    "\n",
    "# exp_data = Data(true_params, x_data, None, None, None, None, None, None)\n",
    "driver = GPBO_Driver(CS, simulator, None, None, None)\n",
    "exp_data = driver.gen_exp_data(num_x_data, gen_meth_x)\n",
    "\n",
    "# print(len(exp_data.x_vals))"
   ]
  },
  {
   "cell_type": "markdown",
   "id": "56c55153",
   "metadata": {},
   "source": [
    "## Normalize Experimental X Data (optional)"
   ]
  },
  {
   "cell_type": "code",
   "execution_count": 6,
   "id": "e4165218",
   "metadata": {},
   "outputs": [],
   "source": [
    "scaled_exp_data = exp_data\n",
    "\n",
    "bounds_p = simulator.bounds_theta[:,indecies_to_consider]\n",
    "bounds_x = simulator.bounds_x\n",
    "\n",
    "scaled_exp_data.theta_vals = scaled_exp_data.normalize(simulator.theta_true, bounds_p)\n",
    "scaled_exp_data.x_vals = scaled_exp_data.normalize(scaled_exp_data.x_vals, bounds_x)\n",
    "\n",
    "# print(scaled_exp_data.theta_vals)\n",
    "# print(scaled_exp_data.x_vals)"
   ]
  },
  {
   "cell_type": "markdown",
   "id": "d1052130",
   "metadata": {},
   "source": [
    "## Generate Simulation Theta and y Data"
   ]
  },
  {
   "cell_type": "code",
   "execution_count": 7,
   "id": "8a9c8ac4",
   "metadata": {},
   "outputs": [
    {
     "name": "stdout",
     "output_type": "stream",
     "text": [
      "20 27 20\n"
     ]
    }
   ],
   "source": [
    "#Generate and store data as a method in the driver class which creates an instances of the data class and adds data to it)\n",
    "share_x_from_exp = True\n",
    "gen_meth_x = Gen_meth_enum(1)\n",
    "gen_meth_theta = Gen_meth_enum(1)\n",
    "sim_data = driver.gen_sim_data(method, num_theta_data, gen_meth_theta, num_x_data, gen_meth_x, share_x_from_exp)\n",
    "\n",
    "#Set number and dimension of training data\n",
    "num_gp_data = sim_data.get_num_gp_data(method)\n",
    "dim_gp_data = sim_data.get_dim_gp_data(method)\n",
    "num_theta_calc = sim_data.get_num_theta()\n",
    "\n",
    "print(sim_data.get_num_theta(), sim_data.get_num_x_vals(), num_gp_data)\n",
    "# print(sim_data.y_vals)\n",
    "# print(num_gp_data, dim_gp_data, num_theta_calc)"
   ]
  },
  {
   "cell_type": "markdown",
   "id": "1b981946",
   "metadata": {},
   "source": [
    "## Generate, Shuffle, and Split Type 1 Training Data"
   ]
  },
  {
   "cell_type": "code",
   "execution_count": 8,
   "id": "0ae30c4f",
   "metadata": {},
   "outputs": [],
   "source": [
    "train_idx, test_idx = sim_data.train_test_idx_split(CS)\n",
    "train_data, test_data = driver.get_train_test_data(sim_data, train_idx, test_idx)\n",
    "# print(train_data.y_vals, len(train_data.y_vals))"
   ]
  },
  {
   "cell_type": "markdown",
   "id": "0a43e97d",
   "metadata": {},
   "source": [
    "## Build GP Model"
   ]
  },
  {
   "cell_type": "code",
   "execution_count": 9,
   "id": "22439f9d",
   "metadata": {},
   "outputs": [],
   "source": [
    "gp_emulator = GP_Emulator(CS, kernel, set_lenscl, outputscl, retrain_GP, GP_train_iter)"
   ]
  },
  {
   "cell_type": "markdown",
   "id": "f57d5f05",
   "metadata": {},
   "source": [
    "## Augmenting Training Data (Skipped Steps)"
   ]
  },
  {
   "cell_type": "code",
   "execution_count": 10,
   "id": "6a021211",
   "metadata": {},
   "outputs": [
    {
     "name": "stdout",
     "output_type": "stream",
     "text": [
      "20 20\n",
      "21 21\n"
     ]
    }
   ],
   "source": [
    "best_theta = Data(None, exp_data.x_vals, None, None, None, None, None)\n",
    "\n",
    "#Note: Will generate this using a method in driver that doesn't exist yet but generates experimental data instead of sim data\n",
    "if \"2\" in method.method_name.name:\n",
    "    best_theta.theta_vals = np.repeat(simulator.theta_true.reshape(1,-1), exp_data.get_num_x_vals(), axis = 0)\n",
    "    best_theta.y_vals = simulator.create_sim_data(CS, best_theta)\n",
    "else:\n",
    "    best_theta.theta_vals = simulator.theta_true.reshape(1,-1)\n",
    "    best_theta.y_vals = simulator.create_sse_sim_data(method, CS, best_theta, exp_data)\n",
    "\n",
    "print(len(sim_data.theta_vals), len(sim_data.y_vals))\n",
    "sim_data = driver.augment_train_data(sim_data, best_theta) #Best error in driver class\n",
    "print(len(sim_data.theta_vals), len(sim_data.y_vals))"
   ]
  },
  {
   "cell_type": "markdown",
   "id": "06e36759",
   "metadata": {},
   "source": [
    "# Case Study 1 Test"
   ]
  },
  {
   "cell_type": "code",
   "execution_count": 11,
   "id": "4c54461d",
   "metadata": {},
   "outputs": [
    {
     "name": "stdout",
     "output_type": "stream",
     "text": [
      "400 5 400\n"
     ]
    },
    {
     "ename": "IndexError",
     "evalue": "index 160 is out of bounds for axis 0 with size 5",
     "output_type": "error",
     "traceback": [
      "\u001b[0;31m---------------------------------------------------------------------------\u001b[0m",
      "\u001b[0;31mIndexError\u001b[0m                                Traceback (most recent call last)",
      "Input \u001b[0;32mIn [11]\u001b[0m, in \u001b[0;36m<cell line: 56>\u001b[0;34m()\u001b[0m\n\u001b[1;32m     53\u001b[0m \u001b[38;5;28mprint\u001b[39m(sim_data\u001b[38;5;241m.\u001b[39mget_num_theta(), sim_data\u001b[38;5;241m.\u001b[39mget_num_x_vals(), num_gp_data)\n\u001b[1;32m     55\u001b[0m train_idx, test_idx \u001b[38;5;241m=\u001b[39m sim_data\u001b[38;5;241m.\u001b[39mtrain_test_idx_split(CS)\n\u001b[0;32m---> 56\u001b[0m train_data, test_data \u001b[38;5;241m=\u001b[39m \u001b[43mdriver\u001b[49m\u001b[38;5;241;43m.\u001b[39;49m\u001b[43mget_train_test_data\u001b[49m\u001b[43m(\u001b[49m\u001b[43msim_data\u001b[49m\u001b[43m,\u001b[49m\u001b[43m \u001b[49m\u001b[43mtrain_idx\u001b[49m\u001b[43m,\u001b[49m\u001b[43m \u001b[49m\u001b[43mtest_idx\u001b[49m\u001b[43m)\u001b[49m\n\u001b[1;32m     57\u001b[0m \u001b[38;5;66;03m# print(train_data.y_vals, len(train_data.y_vals))\u001b[39;00m\n\u001b[1;32m     59\u001b[0m gp_emulator \u001b[38;5;241m=\u001b[39m GP_Emulator(CS, kernel, set_lenscl, outputscl, retrain_GP, GP_train_iter)\n",
      "File \u001b[0;32m/scratch365/mcarlozo/Toy_Problem/bo_methods_lib/GPBO_Classes_New.py:947\u001b[0m, in \u001b[0;36mGPBO_Driver.get_train_test_data\u001b[0;34m(self, data_to_split, train_idx, test_idx)\u001b[0m\n\u001b[1;32m    944\u001b[0m all_x \u001b[38;5;241m=\u001b[39m data_to_split\u001b[38;5;241m.\u001b[39mx_vals\n\u001b[1;32m    945\u001b[0m all_y \u001b[38;5;241m=\u001b[39m data_to_split\u001b[38;5;241m.\u001b[39my_vals\n\u001b[0;32m--> 947\u001b[0m train_data \u001b[38;5;241m=\u001b[39m Data(all_theta[train_idx], \u001b[43mall_x\u001b[49m\u001b[43m[\u001b[49m\u001b[43mtrain_idx\u001b[49m\u001b[43m]\u001b[49m, all_y[train_idx], \u001b[38;5;28;01mNone\u001b[39;00m, \u001b[38;5;28;01mNone\u001b[39;00m, \u001b[38;5;28;01mNone\u001b[39;00m, \u001b[38;5;28;01mNone\u001b[39;00m)\n\u001b[1;32m    948\u001b[0m test_data \u001b[38;5;241m=\u001b[39m Data(all_theta[test_idx], all_x[test_idx], all_y[test_idx], \u001b[38;5;28;01mNone\u001b[39;00m, \u001b[38;5;28;01mNone\u001b[39;00m, \u001b[38;5;28;01mNone\u001b[39;00m, \u001b[38;5;28;01mNone\u001b[39;00m)\n\u001b[1;32m    950\u001b[0m \u001b[38;5;28;01mreturn\u001b[39;00m train_data, test_data\n",
      "\u001b[0;31mIndexError\u001b[0m: index 160 is out of bounds for axis 0 with size 5"
     ]
    }
   ],
   "source": [
    "cs_name  = CS_name_enum(1)\n",
    "\n",
    "#Want to make this all one array. I think that makes more sense\n",
    "indecies_to_consider = list(range(0, 2)) #This is what changes for different subproblems of CS2\n",
    "ep0 = 1\n",
    "sep_fact = 1.0\n",
    "normalize = False\n",
    "num_x_data = 5\n",
    "dim_x = 1\n",
    "num_theta_data = 20\n",
    "lhs_gen_theta = True\n",
    "eval_all_pairs = False\n",
    "noise_mean = 0\n",
    "noise_std = 0.01\n",
    "kernel = Kernel_enum(1)\n",
    "set_lenscl = 1\n",
    "outputscl = 1\n",
    "retrain_GP = 2\n",
    "GP_train_iter = 300\n",
    "bo_iter_tot = 3\n",
    "bo_run_tot = 2\n",
    "save_fig = False\n",
    "save_data = False\n",
    "x_data_vals = np.linspace(-2,2,num_x_data)\n",
    "num_data = None\n",
    "seed = 1\n",
    "\n",
    "CS = CaseStudyParameters(cs_name, ep0, sep_fact, normalize, eval_all_pairs, noise_mean, noise_std, bo_iter_tot, \n",
    "                         bo_run_tot, save_fig, save_data, DateTime, seed)\n",
    "\n",
    "simulator = simulator_helper_test_fxns(cs_name, indecies_to_consider)\n",
    "gp_emulator = GP_Emulator(CS, kernel, set_lenscl, outputscl, retrain_GP, GP_train_iter)\n",
    "\n",
    "gen_meth_x = Gen_meth_enum(2)\n",
    "\n",
    "# exp_data = Data(true_params, x_data, None, None, None, None, None, None)\n",
    "driver = GPBO_Driver(CS, simulator, None, None, None)\n",
    "exp_data = driver.gen_exp_data(num_x_data, gen_meth_x)\n",
    "\n",
    "# print(exp_data.x_vals)\n",
    "\n",
    "#Generate and store data as a method in the driver class which creates an instances of the data class and adds data to it)\n",
    "share_x_from_exp = True\n",
    "gen_meth_x = Gen_meth_enum(2)\n",
    "gen_meth_theta = Gen_meth_enum(2)\n",
    "sim_data = driver.gen_sim_data(method, num_theta_data, gen_meth_theta, num_x_data, gen_meth_x, share_x_from_exp)\n",
    "\n",
    "#Set number and dimension of training data\n",
    "num_gp_data = sim_data.get_num_gp_data(method)\n",
    "dim_gp_data = sim_data.get_dim_gp_data(method)\n",
    "num_theta_calc = sim_data.get_num_theta()\n",
    "\n",
    "print(sim_data.get_num_theta(), sim_data.get_num_x_vals(), num_gp_data)\n",
    "\n",
    "train_idx, test_idx = sim_data.train_test_idx_split(CS)\n",
    "train_data, test_data = driver.get_train_test_data(sim_data, train_idx, test_idx)\n",
    "# print(train_data.y_vals, len(train_data.y_vals))\n",
    "\n",
    "gp_emulator = GP_Emulator(CS, kernel, set_lenscl, outputscl, retrain_GP, GP_train_iter)\n",
    "\n",
    "best_theta = Data(None, exp_data.x_vals, None, None, None, None, None)\n",
    "\n",
    "# #Note: Will generate this using a method in driver that doesn't exist yet but generates experimental data instead of sim data\n",
    "if \"2\" in method.method_name.name:\n",
    "    best_theta.theta_vals = np.repeat(simulator.theta_true.reshape(1,-1), exp_data.get_num_x_vals(), axis = 0)\n",
    "    best_theta.y_vals = simulator.create_sim_data(CS, best_theta)\n",
    "else:\n",
    "    best_theta.theta_vals = simulator.theta_true.reshape(1,-1)\n",
    "    best_theta.y_vals = simulator.create_sse_sim_data(method, CS, best_theta, exp_data)\n",
    "\n",
    "print(len(sim_data.theta_vals), len(sim_data.y_vals))\n",
    "sim_data = driver.augment_train_data(sim_data, best_theta) #Best error in driver class\n",
    "print(len(sim_data.theta_vals), len(sim_data.y_vals))"
   ]
  },
  {
   "cell_type": "code",
   "execution_count": null,
   "id": "53ffcc7d",
   "metadata": {},
   "outputs": [],
   "source": []
  }
 ],
 "metadata": {
  "kernelspec": {
   "display_name": "Python 3 (ipykernel)",
   "language": "python",
   "name": "python3"
  },
  "language_info": {
   "codemirror_mode": {
    "name": "ipython",
    "version": 3
   },
   "file_extension": ".py",
   "mimetype": "text/x-python",
   "name": "python",
   "nbconvert_exporter": "python",
   "pygments_lexer": "ipython3",
   "version": "3.9.12"
  }
 },
 "nbformat": 4,
 "nbformat_minor": 5
}
