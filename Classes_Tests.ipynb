{
 "cells": [
  {
   "cell_type": "markdown",
   "id": "172cb7dc",
   "metadata": {},
   "source": [
    "## Import Dependencies"
   ]
  },
  {
   "cell_type": "code",
   "execution_count": 1,
   "id": "5738fd89",
   "metadata": {},
   "outputs": [
    {
     "name": "stderr",
     "output_type": "stream",
     "text": [
      "/afs/crc.nd.edu/user/m/mcarlozo/.conda/envs/Toy_Problem_env/lib/python3.9/site-packages/tqdm/auto.py:22: TqdmWarning: IProgress not found. Please update jupyter and ipywidgets. See https://ipywidgets.readthedocs.io/en/stable/user_install.html\n",
      "  from .autonotebook import tqdm as notebook_tqdm\n"
     ]
    },
    {
     "name": "stdout",
     "output_type": "stream",
     "text": [
      "CPU times: user 2.31 s, sys: 303 ms, total: 2.62 s\n",
      "Wall time: 2.67 s\n"
     ]
    }
   ],
   "source": [
    "%%time\n",
    "\n",
    "import sys\n",
    "import gpytorch\n",
    "import numpy as np\n",
    "import pandas as pd\n",
    "import torch\n",
    "from datetime import datetime\n",
    "from scipy.stats import qmc\n",
    "import itertools\n",
    "from itertools import combinations_with_replacement, combinations, permutations\n",
    "\n",
    "import bo_methods_lib\n",
    "from bo_methods_lib.bo_functions_generic import gen_theta_set, clean_1D_arrays\n",
    "from bo_methods_lib.GPBO_Classes_New import * #Fix this later\n",
    "from bo_methods_lib.GPBO_Class_fxns import * #Fix this later\n",
    "import pickle"
   ]
  },
  {
   "cell_type": "markdown",
   "id": "e005c837",
   "metadata": {},
   "source": [
    "## Define Method and DateTime"
   ]
  },
  {
   "cell_type": "code",
   "execution_count": 2,
   "id": "eea4b717",
   "metadata": {},
   "outputs": [
    {
     "name": "stdout",
     "output_type": "stream",
     "text": [
      "Method Name:  C2\n",
      "Emulator?:  True\n",
      "Obj Func:  OBJ\n",
      "Sparse Grid?:  True\n",
      "5\n"
     ]
    }
   ],
   "source": [
    "#Generate Method (except last part)\n",
    "meth_name = Method_name_enum(5)\n",
    "method = GPBO_Methods(meth_name)\n",
    "\n",
    "print(\"Method Name: \", method.method_name.name)\n",
    "print(\"Emulator?: \", method.emulator)\n",
    "print(\"Obj Func: \", method.obj.name)\n",
    "print(\"Sparse Grid?: \", method.sparse_grid)\n",
    "\n",
    "#Set Date and Time\n",
    "dateTimeObj = datetime.now()\n",
    "timestampStr = dateTimeObj.strftime(\"%d-%b-%Y (%H:%M:%S)\")\n",
    "# print(\"Date and Time: \", timestampStr)\n",
    "# DateTime = dateTimeObj.strftime(\"%Y/%m/%d/%H-%M-%S%p\")\n",
    "DateTime = dateTimeObj.strftime(\"%Y/%m/%d/%H-%M\")\n",
    "DateTime = None ##For Testing\n",
    "\n",
    "print(method.method_name.value)"
   ]
  },
  {
   "cell_type": "markdown",
   "id": "27207621",
   "metadata": {},
   "source": [
    "## Define Case Study Simulator & Functions"
   ]
  },
  {
   "cell_type": "code",
   "execution_count": 3,
   "id": "03a611c0",
   "metadata": {},
   "outputs": [],
   "source": [
    "def simulator_helper_test_fxns(cs_name, indecies_to_consider, noise_mean, noise_std, case_study_parameters):\n",
    "    \"\"\"\n",
    "    Sets the model for calculating y based off of the case study identifier.\n",
    "\n",
    "    Parameters\n",
    "    ----------\n",
    "    cs_name: Class, The name/enumerator associated with the case study being evaluated\n",
    "\n",
    "    Returns\n",
    "    -------\n",
    "    calc_y_fxn: function, the function used for calculation is case study cs_name.name\n",
    "    \"\"\"\n",
    "    #Note: Add your function name from GPBO_Class_fxns.py here\n",
    "    if cs_name.value == 1:      \n",
    "        theta_names = ['theta_1', 'theta_2']\n",
    "        bounds_x_l = [-2]\n",
    "        bounds_x_u = [2]\n",
    "        bounds_theta_l = [-2, -2]\n",
    "        bounds_theta_u = [ 2,  2]\n",
    "        theta_ref = np.array([1.0, -1.0])     \n",
    "        calc_y_fxn = calc_cs1_polynomial\n",
    "        \n",
    "    elif cs_name.value == 2:                          \n",
    "        theta_names = ['A_1', 'A_2', 'A_3', 'A_4', 'a_1', 'a_2', 'a_3', 'a_4', 'b_1', 'b_2', 'b_3', 'b_4', 'c_1', \n",
    "                       'c_2', 'c_3', 'c_4', 'x0_1', 'x0_2', 'x0_3', 'x0_4', 'x1_1', 'x1_2', 'x1_3', 'x1_4']\n",
    "        bounds_x_l = [-1.5, -0.5]\n",
    "        bounds_x_u = [1, 2]\n",
    "        bounds_theta_l = [-300,-200,-250, 5,-2,-2,-10, -2, -2,-2,5,-2,-20,-20, -10,-1 ,-2,-2,-2, -2,-2,-2,0,-2]\n",
    "        bounds_theta_u = [-100,  0, -150, 20,2, 2, 0,  2,  2,  2, 15,2, 0,0   , 0,  2, 2,  2, 2, 2 ,2 , 2, 2,2]\n",
    "        theta_ref = np.array([-200,-100,-170,15,-1,-1,-6.5,0.7,0,0,11,0.6,-10,-10,-6.5,0.7,1,0,-0.5,-1,0,0.5,1.5,1])      \n",
    "#         theta_ref = np.array([0.5, 0.5, 0.8, 2/3, 0.25, 0.25, 0.35, 0.675, 0.5, 0.5, 0.6, 0.65, 0.5, 0.5, 0.35, 28333/50000, 0.75, 0.5,\n",
    "#     0.375, 0.25, 0.5, 0.625, 0.75, 0.75])\n",
    "        calc_y_fxn = calc_muller\n",
    "        \n",
    "    else:\n",
    "        raise ValueError(\"self.CaseStudyParameters.cs_name.value must exist!\")\n",
    "\n",
    "    return Simulator(indecies_to_consider, \n",
    "                     theta_ref,\n",
    "                     theta_names,\n",
    "                     bounds_theta_l, \n",
    "                     bounds_x_l, \n",
    "                     bounds_theta_u, \n",
    "                     bounds_x_u, \n",
    "                     noise_mean,\n",
    "                     noise_std,\n",
    "                     case_study_parameters,\n",
    "                     calc_y_fxn)"
   ]
  },
  {
   "cell_type": "markdown",
   "id": "feebcda8",
   "metadata": {},
   "source": [
    "## Define Case Study"
   ]
  },
  {
   "cell_type": "code",
   "execution_count": 4,
   "id": "f61f7893",
   "metadata": {},
   "outputs": [
    {
     "name": "stdout",
     "output_type": "stream",
     "text": [
      "CS Name:  CS1\n"
     ]
    }
   ],
   "source": [
    "cs_name  = CS_name_enum(1)\n",
    "print(\"CS Name: \", cs_name.name)\n",
    "\n",
    "# indecies_to_consider = list(range(4, 12)) #This is what changes for different subproblems of CS2\n",
    "indecies_to_consider = list(range(0, 2)) #This is what changes for different subproblems of CS1\n",
    "\n",
    "ep0 = 1\n",
    "ep_enum = Ep_enum(1)\n",
    "sep_fact = 0.8\n",
    "normalize = False\n",
    "eval_all_pairs = False\n",
    "noise_mean = 0\n",
    "noise_std = 0.01\n",
    "# noise_std = 0.0\n",
    "kernel = Kernel_enum(1)\n",
    "lenscl = None\n",
    "outputscl = 1\n",
    "retrain_GP = 0\n",
    "GP_train_iter = 300\n",
    "bo_iter_tot = 3\n",
    "bo_run_tot = 2\n",
    "save_data = False\n",
    "num_data = None\n",
    "seed = 1\n",
    "ei_tol = 1e-6\n",
    "obj_tol = 1e-4\n",
    "\n",
    "cs_params = CaseStudyParameters(cs_name, ep0, sep_fact, normalize, eval_all_pairs, bo_iter_tot, bo_run_tot, \n",
    "                                save_data, DateTime, seed, ei_tol, obj_tol)\n",
    "\n",
    "simulator = simulator_helper_test_fxns(cs_name, indecies_to_consider, noise_mean, noise_std, cs_params)"
   ]
  },
  {
   "cell_type": "markdown",
   "id": "97e7e2c4",
   "metadata": {},
   "source": [
    "## Generate Experimental X and Y Data (If not given)"
   ]
  },
  {
   "cell_type": "code",
   "execution_count": 5,
   "id": "dcdce448",
   "metadata": {},
   "outputs": [],
   "source": [
    "#Test gen_exp_data\n",
    "num_x_data = 5\n",
    "gen_meth_x = Gen_meth_enum(2) #Note: Has to be the same for validation and sim data\n",
    "exp_data = simulator.gen_exp_data(num_x_data, gen_meth_x)\n",
    "# print(exp_data.theta_vals, exp_data.x_vals)\n",
    "# print(exp_data.y_vals)"
   ]
  },
  {
   "cell_type": "markdown",
   "id": "d1052130",
   "metadata": {},
   "source": [
    "## Generate Simulation Training/Testing Theta and y Data"
   ]
  },
  {
   "cell_type": "code",
   "execution_count": 6,
   "id": "b07bdfc3",
   "metadata": {},
   "outputs": [
    {
     "name": "stdout",
     "output_type": "stream",
     "text": [
      "125\n",
      "5\n"
     ]
    }
   ],
   "source": [
    "num_theta_data = 5\n",
    "gen_meth_theta = Gen_meth_enum(2)\n",
    "sim_data = simulator.gen_sim_data(num_theta_data, num_x_data, gen_meth_theta, gen_meth_x)\n",
    "print(len(sim_data.theta_vals))\n",
    "sim_sse_data = simulator.sim_data_to_sse_sim_data(method, sim_data, exp_data)\n",
    "print(len(sim_sse_data.x_vals))"
   ]
  },
  {
   "cell_type": "markdown",
   "id": "fc2d4d8a",
   "metadata": {},
   "source": [
    "## Generate Validation Data"
   ]
  },
  {
   "cell_type": "code",
   "execution_count": 7,
   "id": "77b155e6",
   "metadata": {},
   "outputs": [
    {
     "name": "stdout",
     "output_type": "stream",
     "text": [
      "[[-2.]\n",
      " [-1.]\n",
      " [ 0.]\n",
      " [ 1.]\n",
      " [ 2.]]\n"
     ]
    }
   ],
   "source": [
    "num_theta_data_val = 11 #How to make the seed different for generating validation data?\n",
    "gen_meth_theta_val = Gen_meth_enum(1)\n",
    "val_data = simulator.gen_sim_data(num_theta_data_val, num_x_data, gen_meth_theta_val, gen_meth_x, True)\n",
    "val_sse_data = simulator.sim_data_to_sse_sim_data(method, val_data, exp_data, True)\n",
    "    \n",
    "print(val_sse_data.x_vals[0:10])"
   ]
  },
  {
   "cell_type": "markdown",
   "id": "56c55153",
   "metadata": {},
   "source": [
    "## Create Normalized Data (optional)"
   ]
  },
  {
   "cell_type": "code",
   "execution_count": 8,
   "id": "e4165218",
   "metadata": {},
   "outputs": [],
   "source": [
    "#What is the best way to be building normalized data? Is it ok to write a method in a class that calls itself?\n",
    "# scaled_exp_data = exp_data.norm_feature_data()\n",
    "# scaled_sim_data = sim_data.norm_feature_data()\n",
    "# scaled_val_data = val_data.norm_feature_data()\n",
    "    \n",
    "# #Q: How do I best automate which one of these to use? Where would I automate this?\n",
    "# #A: GPBO_Driver\n",
    "# print(scaled_exp_data.x_vals)"
   ]
  },
  {
   "cell_type": "markdown",
   "id": "2fe5d4b7",
   "metadata": {},
   "source": [
    "## Calculate Current Exploration Bias"
   ]
  },
  {
   "cell_type": "code",
   "execution_count": 9,
   "id": "460c75f5",
   "metadata": {},
   "outputs": [],
   "source": [
    "ep_bias = Exploration_Bias(ep0, None, ep_enum, None, None, None, None, None, None, None)\n",
    "ep_bias.set_ep()"
   ]
  },
  {
   "cell_type": "markdown",
   "id": "5e6a9b23",
   "metadata": {},
   "source": [
    "## Initialize Driver"
   ]
  },
  {
   "cell_type": "code",
   "execution_count": 10,
   "id": "b7641109",
   "metadata": {},
   "outputs": [],
   "source": [
    "ep_bias = Exploration_Bias(ep0, None, ep_enum, None, None, None, None, None, None, None)\n",
    "driver = GPBO_Driver(cs_params, method, simulator, exp_data, sim_data, sim_sse_data, val_data, val_sse_data, None, ep_bias)\n",
    "driver.ep_bias.set_ep()"
   ]
  },
  {
   "cell_type": "markdown",
   "id": "0a43e97d",
   "metadata": {},
   "source": [
    "## Build GP Emulator Class"
   ]
  },
  {
   "cell_type": "code",
   "execution_count": 11,
   "id": "e6958fcc",
   "metadata": {},
   "outputs": [
    {
     "name": "stdout",
     "output_type": "stream",
     "text": [
      "125\n"
     ]
    }
   ],
   "source": [
    "gp_emulator = driver.gen_emulator(kernel, lenscl, outputscl, retrain_GP)\n",
    "print(gp_emulator.get_num_gp_data())"
   ]
  },
  {
   "cell_type": "markdown",
   "id": "1b981946",
   "metadata": {},
   "source": [
    "## Generate, Shuffle, and Split Training Data"
   ]
  },
  {
   "cell_type": "code",
   "execution_count": 12,
   "id": "2565da8e",
   "metadata": {},
   "outputs": [],
   "source": [
    "#Q: Need this to get training indecies based on emulator status\n",
    "#A: Call train test split in driver\n",
    "train_data, test_data = gp_emulator.set_train_test_data(cs_params)\n",
    "# print(gp_emulator.__feature_train_data)\n",
    "# print(train_data.theta_vals)"
   ]
  },
  {
   "cell_type": "markdown",
   "id": "8cc0aec4",
   "metadata": {},
   "source": [
    "## Set GP Model"
   ]
  },
  {
   "cell_type": "code",
   "execution_count": 13,
   "id": "3ded39aa",
   "metadata": {},
   "outputs": [],
   "source": [
    "# print(gp_emulator.feature_train_data)\n",
    "gp_model = gp_emulator.set_gp_model()"
   ]
  },
  {
   "cell_type": "markdown",
   "id": "6b340be8",
   "metadata": {},
   "source": [
    "## Train GP Model"
   ]
  },
  {
   "cell_type": "code",
   "execution_count": 14,
   "id": "a9a20055",
   "metadata": {},
   "outputs": [],
   "source": [
    "gp_emulator.train_gp(gp_model)"
   ]
  },
  {
   "cell_type": "code",
   "execution_count": 15,
   "id": "ca28c686",
   "metadata": {},
   "outputs": [
    {
     "name": "stdout",
     "output_type": "stream",
     "text": [
      "[array([4.07832136, 2.1882075 , 0.65211112]), 0.0001, 1]\n"
     ]
    }
   ],
   "source": [
    "print(gp_emulator.trained_hyperparams)"
   ]
  },
  {
   "cell_type": "markdown",
   "id": "cea43e71",
   "metadata": {},
   "source": [
    "## Evaluate GP Model Mean and Variance"
   ]
  },
  {
   "cell_type": "raw",
   "id": "d7e9a29f",
   "metadata": {},
   "source": [
    "gp_mean, gp_var = gp_emulator.eval_gp_mean_var_val()\n",
    "# print(gp_emulator.gp_val_data.theta_vals[91])\n",
    "# print(gp_emulator.gp_val_data.gp_mean[91])\n",
    "# print(gp_emulator.gp_val_data.gp_var[91])"
   ]
  },
  {
   "cell_type": "markdown",
   "id": "e12e6637",
   "metadata": {},
   "source": [
    "## Evaluate GP SSE and SSE_var"
   ]
  },
  {
   "cell_type": "raw",
   "id": "e657f1fd",
   "metadata": {},
   "source": [
    "if method.emulator == False:\n",
    "    sse, sse_var = gp_emulator.eval_gp_sse_var_val() # For Type 1\n",
    "else:\n",
    "    sse, sse_var = gp_emulator.eval_gp_sse_var_val(exp_data)"
   ]
  },
  {
   "cell_type": "raw",
   "id": "259fd956",
   "metadata": {},
   "source": [
    "# print(val_data_true.sse)\n",
    "print(gp_emulator.gp_val_data.sse[2])\n",
    "# print(gp_emulator.gp_val_data.sse_var[91])"
   ]
  },
  {
   "cell_type": "markdown",
   "id": "f0d703a1",
   "metadata": {},
   "source": [
    "## Calculate Best Error"
   ]
  },
  {
   "cell_type": "raw",
   "id": "e2f44dc4",
   "metadata": {},
   "source": [
    "if method.emulator == False:\n",
    "    best_error = gp_emulator.calc_best_error() #For Type 1\n",
    "else:\n",
    "    best_error = gp_emulator.calc_best_error(exp_data) #Make private method?"
   ]
  },
  {
   "cell_type": "raw",
   "id": "94f0117f",
   "metadata": {},
   "source": [
    "print(best_error)"
   ]
  },
  {
   "cell_type": "markdown",
   "id": "a54f0a94",
   "metadata": {},
   "source": [
    "## Calculate EI"
   ]
  },
  {
   "cell_type": "raw",
   "id": "3eb637e4",
   "metadata": {},
   "source": [
    "if method.emulator == False:\n",
    "    val_ei = gp_emulator.eval_ei_val(exp_data, ep_bias, best_error) #Type 1\n",
    "else:\n",
    "    val_ei = gp_emulator.eval_ei_val(exp_data, ep_bias, best_error, method)"
   ]
  },
  {
   "cell_type": "raw",
   "id": "34665109",
   "metadata": {},
   "source": [
    "ei_max =np.nanmax(gp_emulator.gp_val_data.ei)\n",
    "print(len(gp_emulator.gp_val_data.ei))\n",
    "ei_argmax = np.argmax(gp_emulator.gp_val_data.ei)\n",
    "theta_argmax = gp_emulator.gp_val_data.theta_vals[ei_argmax]\n",
    "print(ei_max, theta_argmax)"
   ]
  },
  {
   "cell_type": "markdown",
   "id": "cec8b012",
   "metadata": {},
   "source": [
    "## Optimize EI over theta"
   ]
  },
  {
   "cell_type": "raw",
   "id": "cae4e373",
   "metadata": {},
   "source": [
    "driver.gp_emulator = gp_emulator\n",
    "driver.ep_bias = ep_bias"
   ]
  },
  {
   "cell_type": "raw",
   "id": "a936531b",
   "metadata": {},
   "source": [
    "neg_ei = False\n",
    "reoptimize = 10\n",
    "max_ei, max_ei_theta = driver.opt_with_scipy(neg_ei, reoptimize)\n",
    "print(max_ei, max_ei_theta)"
   ]
  },
  {
   "cell_type": "markdown",
   "id": "f57d5f05",
   "metadata": {},
   "source": [
    "## Augmenting Training Data (Skipped Steps)"
   ]
  },
  {
   "cell_type": "raw",
   "id": "82237ba7",
   "metadata": {},
   "source": [
    "best_theta = Data(None, exp_data.x_vals, None, None, None, None, None)\n",
    "\n",
    "#Note: Will generate this using a method in driver that doesn't exist yet but generates experimental data instead of sim data\n",
    "if \"2\" in method.method_name.name:\n",
    "    best_theta.theta_vals = np.repeat(simulator.theta_true.reshape(1,-1), exp_data.get_num_x_vals(), axis = 0)\n",
    "    best_theta.y_vals = simulator.create_sim_data(CS, best_theta)\n",
    "else:\n",
    "    best_theta.theta_vals = simulator.theta_true.reshape(1,-1)\n",
    "    best_theta.y_vals = simulator.create_sse_sim_data(method, CS, best_theta, exp_data)\n",
    "\n",
    "print(len(sim_data.theta_vals), len(sim_data.y_vals))\n",
    "sim_data = driver.augment_train_data(sim_data, best_theta) #Best error in driver class\n",
    "print(len(sim_data.theta_vals), len(sim_data.y_vals))"
   ]
  },
  {
   "cell_type": "markdown",
   "id": "06e36759",
   "metadata": {},
   "source": [
    "# Case Study GPBO Driver Test"
   ]
  },
  {
   "cell_type": "code",
   "execution_count": 16,
   "id": "4c54461d",
   "metadata": {},
   "outputs": [
    {
     "name": "stdout",
     "output_type": "stream",
     "text": [
      "CS Name:  CS2\n"
     ]
    }
   ],
   "source": [
    "cs_name  = CS_name_enum(2)\n",
    "name_cs_str = cs_name.name\n",
    "print(\"CS Name: \", name_cs_str)\n",
    "\n",
    "indecies_to_consider = list(range(0, 8)) #This is what changes for different subproblems of CS2\n",
    "# indecies_to_consider = list(range(0, 2)) #This is what changes for different subproblems of CS1\n",
    "\n",
    "ep0 = 1\n",
    "ep_enum = Ep_enum(1)\n",
    "sep_fact = 0.8\n",
    "normalize = False\n",
    "gen_heat_map_data = True\n",
    "noise_mean = 0\n",
    "noise_std = 0.01\n",
    "# noise_std = 0.0\n",
    "kernel = Kernel_enum(1)\n",
    "lenscl = None\n",
    "outputscl = 1\n",
    "retrain_GP = 0\n",
    "GP_train_iter = 300\n",
    "bo_iter_tot = 5\n",
    "bo_run_tot = 2\n",
    "save_data = False\n",
    "num_data = None\n",
    "seed = 1\n",
    "ei_tol = 1e-6\n",
    "obj_tol = 1e-4\n",
    "\n",
    "#Set Date and Time\n",
    "dateTimeObj = datetime.now()\n",
    "timestampStr = dateTimeObj.strftime(\"%d-%b-%Y (%H:%M:%S)\")\n",
    "DateTime = dateTimeObj.strftime(\"%Y/%m/%d/%H-%M\")\n",
    "DateTime = None ##For Testing\n",
    "\n",
    "#Set Cs_params and Simulator\n",
    "cs_params = CaseStudyParameters(cs_name, ep0, sep_fact, normalize, gen_heat_map_data, bo_iter_tot, bo_run_tot, \n",
    "                                save_data, DateTime, seed, ei_tol, obj_tol)\n",
    "\n",
    "simulator = simulator_helper_test_fxns(cs_name, indecies_to_consider, noise_mean, noise_std, cs_params)"
   ]
  },
  {
   "cell_type": "code",
   "execution_count": 17,
   "id": "53ffcc7d",
   "metadata": {},
   "outputs": [
    {
     "name": "stdout",
     "output_type": "stream",
     "text": [
      "A1\n"
     ]
    }
   ],
   "source": [
    "#Set Method\n",
    "meth_name = Method_name_enum(1)\n",
    "method = GPBO_Methods(meth_name)\n",
    "print(method.method_name.name)\n",
    "\n",
    "#Generate Exp Data\n",
    "num_x_data = 5\n",
    "gen_meth_x = Gen_meth_enum(2) #Note: Has to be the same for validation and sim data\n",
    "exp_data = simulator.gen_exp_data(num_x_data, gen_meth_x)\n",
    "\n",
    "#Generate Sim Data\n",
    "num_theta_data = 100\n",
    "gen_meth_theta = Gen_meth_enum(1)\n",
    "sim_data = simulator.gen_sim_data(num_theta_data, num_x_data, gen_meth_theta, gen_meth_x)\n",
    "sim_sse_data = simulator.sim_data_to_sse_sim_data(method, sim_data, exp_data)\n",
    "\n",
    "#Generate Validation Data\n",
    "num_theta_data_val = 10\n",
    "gen_meth_theta_val = Gen_meth_enum(1)\n",
    "val_data = simulator.gen_sim_data(num_theta_data_val, num_x_data, gen_meth_theta_val, gen_meth_x, True)\n",
    "val_sse_data = simulator.sim_data_to_sse_sim_data(method, val_data, exp_data, True)\n",
    "\n",
    "#Initialize Driver\n",
    "ep_bias = Exploration_Bias(ep0, None, ep_enum, None, None, None, None, None, None, None)\n",
    "driver = GPBO_Driver(cs_params, method, simulator, exp_data, sim_data, sim_sse_data, val_data, val_sse_data, None, ep_bias)"
   ]
  },
  {
   "cell_type": "code",
   "execution_count": 18,
   "id": "9f1a30a0",
   "metadata": {},
   "outputs": [],
   "source": [
    "#Run Bo iterations/restarts\n",
    "reoptimize = 10\n",
    "restart_bo_results = driver.run_bo_restarts(kernel, lenscl, outputscl, retrain_GP, reoptimize)"
   ]
  },
  {
   "cell_type": "code",
   "execution_count": 19,
   "id": "5945b2c4",
   "metadata": {},
   "outputs": [],
   "source": [
    "driver.save_data(restart_bo_results)"
   ]
  },
  {
   "cell_type": "code",
   "execution_count": 20,
   "id": "6bc99942",
   "metadata": {},
   "outputs": [
    {
     "name": "stdout",
     "output_type": "stream",
     "text": [
      "{'DateTime String': None, 'Method Name Enum Value': 1, 'Case Study Name': 'CS2', 'Exploration Bias Method Value': 1, 'Separation Factor': 0.8, 'Normalize': False, 'Heat Map Points Generated': True, 'Max BO Iters': 5, 'Number of Workflow Restarts': 2, 'Seed': 3, 'EI Tolerance': 0.0001, 'Obj Improvement Tolerance': 1e-06}\n",
      "<bo_methods_lib.GPBO_Classes_New.Type_1_GP_Emulator object at 0x7fccd2397880>\n",
      "   index    Best Error Exploration Bias        Max EI  \\\n",
      "0      0  93882.945784                1  93882.945784   \n",
      "1      0  93882.945784                1  93882.945784   \n",
      "\n",
      "                                        Theta Max EI Min Obj  \\\n",
      "0  [-220.39821497674842, -96.65993928376841, -150...     0.0   \n",
      "1  [-117.84480219933286, -172.27433876805173, -24...     0.0   \n",
      "\n",
      "                                       Theta Min Obj Min Obj Cum.  \\\n",
      "0  [-220.39821497674842, -96.65993928376841, -150...          0.0   \n",
      "1  [-285.2322426849863, -105.96982286828248, -178...          0.0   \n",
      "\n",
      "                                  Theta Min Obj Cum. Time/Iter  \n",
      "0  [-220.39821497674842, -96.65993928376841, -150...    0.1752  \n",
      "1  [-220.39821497674842, -96.65993928376841, -150...  0.135791  \n",
      "[-220.39821498  -96.65993928 -150.99411118   17.8241232    -1.39539943\n",
      "    1.35189104   -8.50401448   -1.17493726]\n",
      "[-200.  -100.  -170.    15.    -1.    -1.    -6.5    0.7]\n"
     ]
    }
   ],
   "source": [
    "fileObj = open(\"No_Date/Data_Files/\" + name_cs_str + \".pickle\", 'rb')\n",
    "loaded_results = pickle.load(fileObj)\n",
    "fileObj.close()\n",
    "\n",
    "print(loaded_results[0].configuration)\n",
    "print(loaded_results[0].list_gp_emulator_class[0])\n",
    "# print(len(loaded_results[0].list_heat_map_data))\n",
    "print(loaded_results[0].results_df)\n",
    "print(loaded_results[0].results_df[\"Theta Min Obj Cum.\"].iloc[-1])\n",
    "print(loaded_results[0].simulator_class.theta_true)\n",
    "# print(loaded_results[0].simulator_class.theta_true_norm)"
   ]
  },
  {
   "cell_type": "markdown",
   "id": "86900a23",
   "metadata": {},
   "source": [
    "## Plot Data and Make Heat Maps"
   ]
  },
  {
   "cell_type": "code",
   "execution_count": 21,
   "id": "fb021486",
   "metadata": {},
   "outputs": [
    {
     "name": "stdout",
     "output_type": "stream",
     "text": [
      "[[[1.e+00 1.e+00 1.e+00 1.e+00 1.e+00 1.e+00 1.e+00 1.e+00 1.e-04 1.e+00]\n",
      "  [1.e+00 1.e+00 1.e+00 1.e+00 1.e+00 1.e+00 1.e+00 1.e+00 1.e-04 1.e+00]]\n",
      "\n",
      " [[1.e+00 1.e+00 1.e+00 1.e+00 1.e+00 1.e+00 1.e+00 1.e+00 1.e-04 1.e+00]\n",
      "  [1.e+00 1.e+00 1.e+00 1.e+00 1.e+00 1.e+00 1.e+00 1.e+00 1.e-04 1.e+00]]]\n"
     ]
    }
   ],
   "source": [
    "from bo_methods_lib.GPBO_Classes_plotters import *\n",
    "runs = len(loaded_results)\n",
    "dim_hps = len(loaded_results[0].list_gp_emulator_class[0].trained_hyperparams[0]) + 2\n",
    "num_hp_sets = len(loaded_results[0].list_gp_emulator_class)\n",
    "hps = np.zeros((runs, num_hp_sets, dim_hps))\n",
    "hp_names = [f\"\\\\ell_{i}\" for i in range(1, dim_hps+1)]\n",
    "hp_names[-2] = \"\\sigma\"\n",
    "hp_names[-1] = \"\\\\tau\"\n",
    "\n",
    "for j in range(runs):\n",
    "    run = loaded_results[j]\n",
    "    for i in range(len(run.list_gp_emulator_class)):\n",
    "       # Extract the array and convert other elements to float\n",
    "        array_part = run.list_gp_emulator_class[i].trained_hyperparams[0]\n",
    "        rest_part = np.array(run.list_gp_emulator_class[i].trained_hyperparams[1:], dtype=float)\n",
    "\n",
    "        # Create the resulting array of shape (1, 10)\n",
    "        hps[j,i] = np.concatenate([array_part, rest_part])\n",
    "    \n",
    "print(hps)"
   ]
  },
  {
   "cell_type": "code",
   "execution_count": 22,
   "id": "57d62d57",
   "metadata": {},
   "outputs": [
    {
     "data": {
      "image/png": "[encoded data removed]",
      "text/plain": [
       "<Figure size 1728x1296 with 12 Axes>"
      ]
     },
     "metadata": {
      "needs_background": "light"
     },
     "output_type": "display_data"
    }
   ],
   "source": [
    "xbins = 5\n",
    "ybins = 5\n",
    "title_fontsize = 20\n",
    "other_fontsize = 16\n",
    "plot_hypers(hps, hp_names, xbins, ybins, title_fontsize, other_fontsize)"
   ]
  },
  {
   "cell_type": "code",
   "execution_count": null,
   "id": "bcc70d07",
   "metadata": {},
   "outputs": [],
   "source": []
  },
  {
   "cell_type": "code",
   "execution_count": null,
   "id": "bb66320c",
   "metadata": {},
   "outputs": [],
   "source": []
  }
 ],
 "metadata": {
  "kernelspec": {
   "display_name": "Python 3 (ipykernel)",
   "language": "python",
   "name": "python3"
  },
  "language_info": {
   "codemirror_mode": {
    "name": "ipython",
    "version": 3
   },
   "file_extension": ".py",
   "mimetype": "text/x-python",
   "name": "python",
   "nbconvert_exporter": "python",
   "pygments_lexer": "ipython3",
   "version": "3.9.12"
  }
 },
 "nbformat": 4,
 "nbformat_minor": 5
}
