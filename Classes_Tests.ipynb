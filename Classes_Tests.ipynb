{
 "cells": [
  {
   "cell_type": "markdown",
   "id": "172cb7dc",
   "metadata": {},
   "source": [
    "## Import Dependencies"
   ]
  },
  {
   "cell_type": "code",
   "execution_count": 1,
   "id": "5738fd89",
   "metadata": {},
   "outputs": [
    {
     "name": "stderr",
     "output_type": "stream",
     "text": [
      "/afs/crc.nd.edu/user/m/mcarlozo/.conda/envs/Toy_Problem_env/lib/python3.9/site-packages/tqdm/auto.py:22: TqdmWarning: IProgress not found. Please update jupyter and ipywidgets. See https://ipywidgets.readthedocs.io/en/stable/user_install.html\n",
      "  from .autonotebook import tqdm as notebook_tqdm\n"
     ]
    },
    {
     "name": "stdout",
     "output_type": "stream",
     "text": [
      "CPU times: user 2.34 s, sys: 301 ms, total: 2.64 s\n",
      "Wall time: 2.68 s\n"
     ]
    }
   ],
   "source": [
    "%%time\n",
    "\n",
    "import sys\n",
    "import gpytorch\n",
    "import numpy as np\n",
    "import pandas as pd\n",
    "import torch\n",
    "from datetime import datetime\n",
    "from scipy.stats import qmc\n",
    "\n",
    "import bo_methods_lib\n",
    "from bo_methods_lib.bo_functions_generic import gen_theta_set, clean_1D_arrays\n",
    "from bo_methods_lib.GPBO_Classes_New import * #Fix this later"
   ]
  },
  {
   "cell_type": "markdown",
   "id": "feebcda8",
   "metadata": {},
   "source": [
    "## Define Case Study"
   ]
  },
  {
   "cell_type": "code",
   "execution_count": 2,
   "id": "fee925de",
   "metadata": {},
   "outputs": [],
   "source": [
    "#Set Date and Time\n",
    "dateTimeObj = datetime.now()\n",
    "timestampStr = dateTimeObj.strftime(\"%d-%b-%Y (%H:%M:%S)\")\n",
    "# print(\"Date and Time: \", timestampStr)\n",
    "# DateTime = dateTimeObj.strftime(\"%Y/%m/%d/%H-%M-%S%p\")\n",
    "DateTime = dateTimeObj.strftime(\"%Y/%m/%d/%H-%M\")\n",
    "DateTime = None ##For Testing\n",
    "\n",
    "cs_name  = \"CS2_2\"\n",
    "true_model_coefficients = np.array([[-200,-100,-170,15],\n",
    "                      [-1,-1,-6.5,0.7],\n",
    "                      [0,0,11,0.6],\n",
    "                      [-10,-10,-6.5,0.7],\n",
    "                      [1,0,-0.5,-1],\n",
    "                      [0,0.5,1.5,1]])\n",
    "true_params = np.array([-1,-1,-6.5,0.7, 0,0,11,0.6])\n",
    "param_dict = {0 : 'a_1', 1 : 'a_2', 2 : 'a_3', 3 : 'a_4',\n",
    "              4 : 'b_1', 5 : 'b_2', 6 : 'b_3', 7 : 'b_4'}\n",
    "skip_param_types = 1 #This is what changes for subpoint\n",
    "ep0 = 1\n",
    "sep_fact = 1.0\n",
    "normalize = False\n",
    "num_x_data = 27\n",
    "num_theta_data = 20\n",
    "LHS_gen_theta = True\n",
    "eval_all_pairs = False\n",
    "package = \"scikit_learn\"\n",
    "noise_std = 0.01\n",
    "kernel = \"Mat_52\"\n",
    "set_lenscl = 1\n",
    "outputscl = False\n",
    "retrain_GP = 2\n",
    "GP_train_iter = 300\n",
    "bo_iter_tot = 3\n",
    "bo_run_tot = 2\n",
    "save_fig = False\n",
    "save_data = False\n",
    "x_data_vals = None\n",
    "num_data = None\n",
    "CS = CaseStudyParameters(cs_name, true_params, true_model_coefficients, param_dict, \n",
    "                         skip_param_types, ep0, sep_fact, normalize, num_x_data, num_theta_data, \n",
    "                         num_data, LHS_gen_theta, x_data_vals, eval_all_pairs, package, noise_std, kernel, set_lenscl, \n",
    "                         outputscl, retrain_GP, GP_train_iter, bo_iter_tot, bo_run_tot, save_fig, save_data, \n",
    "                         DateTime)"
   ]
  },
  {
   "cell_type": "markdown",
   "id": "97e7e2c4",
   "metadata": {},
   "source": [
    "## Find Experimental X Data (If not given)"
   ]
  },
  {
   "cell_type": "code",
   "execution_count": 3,
   "id": "8031127d",
   "metadata": {},
   "outputs": [
    {
     "name": "stdout",
     "output_type": "stream",
     "text": [
      "[[-0.80665015 -0.21763553]\n",
      " [-0.68001478  0.61586579]\n",
      " [-0.0473918   0.94228459]\n",
      " [ 0.73817569  1.59174082]\n",
      " [-0.90274016  1.99744823]\n",
      " [ 0.09689693  0.28350525]\n",
      " [ 0.59909892  1.27884919]\n",
      " [-0.97251804  1.4024539 ]\n",
      " [-0.58648534 -0.07436231]\n",
      " [-1.33365326  1.51274876]\n",
      " [-0.55095969 -0.43337118]\n",
      " [-0.34122139  1.16845026]\n",
      " [ 0.81836507  0.08103797]\n",
      " [-1.17974323  0.40028785]\n",
      " [ 0.05919889  0.79908098]\n",
      " [-1.27000635  1.80408652]\n",
      " [ 0.38671391 -0.38672992]\n",
      " [ 0.29509229  0.52617614]\n",
      " [-0.3925549   1.11772322]\n",
      " [ 0.21672816 -0.22799533]\n",
      " [-0.17049335  0.71734881]\n",
      " [ 0.66732028  0.49443542]\n",
      " [ 0.92223319  0.1935652 ]\n",
      " [-1.45471193  1.83768239]\n",
      " [-1.05073352 -0.02033581]\n",
      " [ 0.47376973  1.00119473]\n",
      " [-0.22144595  1.64792924]]\n"
     ]
    }
   ],
   "source": [
    "driver = GPBO_Driver(CS)\n",
    "bounds_x = np.array([[-1.5, -0.5], [1, 2]])\n",
    "gen_meth = \"LHS\"\n",
    "seed = 1\n",
    "x_data = driver.create_xtrain_data(bounds_x, gen_meth, seed)\n",
    "print(x_data)"
   ]
  },
  {
   "cell_type": "markdown",
   "id": "b03ccb9c",
   "metadata": {},
   "source": [
    "## Generate Experimental y Data"
   ]
  },
  {
   "cell_type": "code",
   "execution_count": 4,
   "id": "2827dc00",
   "metadata": {},
   "outputs": [],
   "source": [
    "#Best way to differentiate between case studies? Name? How to name appropriately?"
   ]
  }
 ],
 "metadata": {
  "kernelspec": {
   "display_name": "Python 3 (ipykernel)",
   "language": "python",
   "name": "python3"
  },
  "language_info": {
   "codemirror_mode": {
    "name": "ipython",
    "version": 3
   },
   "file_extension": ".py",
   "mimetype": "text/x-python",
   "name": "python",
   "nbconvert_exporter": "python",
   "pygments_lexer": "ipython3",
   "version": "3.9.12"
  }
 },
 "nbformat": 4,
 "nbformat_minor": 5
}
