{
 "cells": [
  {
   "cell_type": "markdown",
   "id": "172cb7dc",
   "metadata": {},
   "source": [
    "## Import Dependencies"
   ]
  },
  {
   "cell_type": "code",
   "execution_count": 1,
   "id": "5738fd89",
   "metadata": {},
   "outputs": [
    {
     "name": "stderr",
     "output_type": "stream",
     "text": [
      "/afs/crc.nd.edu/user/m/mcarlozo/.conda/envs/Toy_Problem_env/lib/python3.9/site-packages/tqdm/auto.py:22: TqdmWarning: IProgress not found. Please update jupyter and ipywidgets. See https://ipywidgets.readthedocs.io/en/stable/user_install.html\n",
      "  from .autonotebook import tqdm as notebook_tqdm\n"
     ]
    },
    {
     "name": "stdout",
     "output_type": "stream",
     "text": [
      "CPU times: user 2.25 s, sys: 443 ms, total: 2.7 s\n",
      "Wall time: 3.19 s\n"
     ]
    }
   ],
   "source": [
    "%%time\n",
    "\n",
    "import sys\n",
    "import gpytorch\n",
    "import numpy as np\n",
    "import pandas as pd\n",
    "import torch\n",
    "from datetime import datetime\n",
    "from scipy.stats import qmc\n",
    "import itertools\n",
    "from itertools import combinations_with_replacement, combinations, permutations\n",
    "\n",
    "import bo_methods_lib\n",
    "from bo_methods_lib.bo_methods_lib.bo_functions_generic import gen_theta_set, clean_1D_arrays\n",
    "from bo_methods_lib.bo_methods_lib.GPBO_Classes_New import * #Fix this later\n",
    "from bo_methods_lib.bo_methods_lib.GPBO_Class_fxns import * #Fix this later\n",
    "import pickle"
   ]
  },
  {
   "cell_type": "markdown",
   "id": "27207621",
   "metadata": {},
   "source": [
    "## Define Case Study Simulator & Functions"
   ]
  },
  {
   "cell_type": "code",
   "execution_count": 3,
   "id": "03a611c0",
   "metadata": {},
   "outputs": [],
   "source": [
    "def simulator_helper_test_fxns(cs_name, indecies_to_consider, noise_mean, noise_std, normalize, seed):\n",
    "    \"\"\"\n",
    "    Sets the model for calculating y based off of the case study identifier.\n",
    "\n",
    "    Parameters\n",
    "    ----------\n",
    "    cs_name: Class, The name/enumerator associated with the case study being evaluated\n",
    "\n",
    "    Returns\n",
    "    -------\n",
    "    calc_y_fxn: function, the function used for calculation is case study cs_name.name\n",
    "    \"\"\"\n",
    "    #Note: Add your function name from GPBO_Class_fxns.py here\n",
    "    if cs_name.value == 1:      \n",
    "        theta_names = ['theta_1', 'theta_2']\n",
    "        bounds_x_l = [-2]\n",
    "        bounds_x_u = [2]\n",
    "        bounds_theta_l = [-2, -2]\n",
    "        bounds_theta_u = [ 2,  2]\n",
    "        theta_ref = np.array([1.0, -1.0])     \n",
    "        calc_y_fxn = calc_cs1_polynomial\n",
    "        \n",
    "    elif cs_name.value == 2:                          \n",
    "        theta_names = ['A_1', 'A_2', 'A_3', 'A_4', 'a_1', 'a_2', 'a_3', 'a_4', 'b_1', 'b_2', 'b_3', 'b_4', 'c_1', \n",
    "                       'c_2', 'c_3', 'c_4', 'x0_1', 'x0_2', 'x0_3', 'x0_4', 'x1_1', 'x1_2', 'x1_3', 'x1_4']\n",
    "        bounds_x_l = [-1.5, -0.5]\n",
    "        bounds_x_u = [1, 2]\n",
    "        bounds_theta_l = [-300,-200,-250, 5,-2,-2,-10, -2, -2,-2,5,-2,-20,-20, -10,-1 ,-2,-2,-2, -2,-2,-2,0,-2]\n",
    "        bounds_theta_u = [-100,  0, -150, 20,2, 2, 0,  2,  2,  2, 15,2, 0,0   , 0,  2, 2,  2, 2, 2 ,2 , 2, 2,2]\n",
    "        theta_ref = np.array([-200,-100,-170,15,-1,-1,-6.5,0.7,0,0,11,0.6,-10,-10,-6.5,0.7,1,0,-0.5,-1,0,0.5,1.5,1])      \n",
    "#         theta_ref = np.array([0.5, 0.5, 0.8, 2/3, 0.25, 0.25, 0.35, 0.675, 0.5, 0.5, 0.6, 0.65, 0.5, 0.5, 0.35, 28333/50000, 0.75, 0.5,\n",
    "#     0.375, 0.25, 0.5, 0.625, 0.75, 0.75])\n",
    "        calc_y_fxn = calc_muller\n",
    "        \n",
    "    else:\n",
    "        raise ValueError(\"self.CaseStudyParameters.cs_name.value must exist!\")\n",
    "\n",
    "    return Simulator(indecies_to_consider, \n",
    "                     theta_ref,\n",
    "                     theta_names,\n",
    "                     bounds_theta_l, \n",
    "                     bounds_x_l, \n",
    "                     bounds_theta_u, \n",
    "                     bounds_x_u, \n",
    "                     noise_mean,\n",
    "                     noise_std,\n",
    "                     normalize,\n",
    "                     seed,\n",
    "                     calc_y_fxn)"
   ]
  },
  {
   "cell_type": "markdown",
   "id": "e005c837",
   "metadata": {},
   "source": [
    "## Define Method and DateTime"
   ]
  },
  {
   "cell_type": "code",
   "execution_count": null,
   "id": "2387d98a",
   "metadata": {},
   "outputs": [],
   "source": [
    "#Generate Method (except last part)\n",
    "meth_name = Method_name_enum(5)\n",
    "method = GPBO_Methods(meth_name)\n",
    "\n",
    "print(\"Method Name: \", method.method_name.name)\n",
    "print(\"Emulator?: \", method.emulator)\n",
    "print(\"Obj Func: \", method.obj.name)\n",
    "print(\"Sparse Grid?: \", method.sparse_grid)\n",
    "\n",
    "#Set Date and Time\n",
    "dateTimeObj = datetime.now()\n",
    "timestampStr = dateTimeObj.strftime(\"%d-%b-%Y (%H:%M:%S)\")\n",
    "# print(\"Date and Time: \", timestampStr)\n",
    "# DateTime = dateTimeObj.strftime(\"%Y/%m/%d/%H-%M-%S%p\")\n",
    "DateTime = dateTimeObj.strftime(\"%Y/%m/%d/%H-%M\")\n",
    "DateTime = None ##For Testing"
   ]
  },
  {
   "cell_type": "markdown",
   "id": "06e36759",
   "metadata": {},
   "source": [
    "# Case Study GPBO Driver Test"
   ]
  },
  {
   "cell_type": "code",
   "execution_count": null,
   "id": "5ec1b524",
   "metadata": {},
   "outputs": [],
   "source": [
    "cs_name  = CS_name_enum(2)\n",
    "print(\"CS Name: \", cs_name.name)\n",
    "\n",
    "indecies_to_consider = list(range(2, 6)) #This is what changes for different subproblems of CS2\n",
    "# indecies_to_consider = list(range(0, 2)) #This is what changes for different subproblems of CS1\n",
    "\n",
    "ep0 = 1\n",
    "ep_enum = Ep_enum(1)\n",
    "sep_fact = 0.8\n",
    "normalize = False\n",
    "gen_heat_map_data = True\n",
    "noise_mean = 0\n",
    "noise_std = 0.01\n",
    "# noise_std = 0.0\n",
    "kernel = Kernel_enum(1)\n",
    "lenscl = None\n",
    "outputscl = 1\n",
    "retrain_GP = 1\n",
    "reoptimize_obj = 1\n",
    "bo_iter_tot = 3\n",
    "bo_run_tot = 2\n",
    "save_data = True\n",
    "seed = 1\n",
    "ei_tol = 1e-6\n",
    "obj_tol = 1e-4\n",
    "\n",
    "num_x_data = 5\n",
    "gen_meth_x = Gen_meth_enum(2) #Note: Has to be the same for validation and sim data\n",
    "num_theta_data = 20\n",
    "gen_meth_theta = Gen_meth_enum(1)\n",
    "num_theta_data_val = 10\n",
    "gen_meth_theta_val = Gen_meth_enum(1)"
   ]
  },
  {
   "cell_type": "code",
   "execution_count": null,
   "id": "8caf2f1d",
   "metadata": {},
   "outputs": [],
   "source": [
    "#Set Cs_params and Simulator\n",
    "cs_params = CaseStudyParameters(cs_name, ep0, sep_fact, normalize, kernel, lenscl, outputscl, retrain_GP, \n",
    "                                reoptimize_obj, gen_heat_map_data, bo_iter_tot, bo_run_tot, save_data, DateTime, \n",
    "                                seed, ei_tol, obj_tol)\n",
    "simulator = simulator_helper_test_fxns(cs_name, indecies_to_consider, noise_mean, noise_std, normalize, seed)\n",
    "\n",
    "#Generate Exp Data\n",
    "exp_data = simulator.gen_exp_data(num_x_data, gen_meth_x)\n",
    "\n",
    "#Generate Sim Data\n",
    "sim_data = simulator.gen_sim_data(num_theta_data, num_x_data, gen_meth_theta, gen_meth_x, sep_fact, False)\n",
    "sim_sse_data = simulator.sim_data_to_sse_sim_data(method, sim_data, exp_data, sep_fact, False)\n",
    "\n",
    "#Generate Validation Data\n",
    "val_data = simulator.gen_sim_data(num_theta_data_val, num_x_data, gen_meth_theta_val, gen_meth_x, sep_fact, True)\n",
    "val_sse_data = simulator.sim_data_to_sse_sim_data(method, val_data, exp_data, sep_fact, True)\n",
    "\n",
    "#Set Ep_Bias\n",
    "if ep_enum.value == 1:\n",
    "    ep_bias = Exploration_Bias(ep0, None, ep_enum, None, None, None, None, None, None, None)\n",
    "elif ep_enum.value == 2:\n",
    "    ep_bias = Exploration_Bias(ep0, None, ep_enum, None, bo_iter_tot, None, 0, None, None, None)\n",
    "elif ep_enum.value == 3:\n",
    "    ep_bias = Exploration_Bias(ep0, None, ep_enum, None, None, 1.5, None, None, None, None)\n",
    "else:\n",
    "    ep_bias = Exploration_Bias(None, None, ep_enum, None, None, None, None, None, None, None)\n",
    "\n",
    "#Initialize Driver\n",
    "driver = GPBO_Driver(cs_params, method, simulator, exp_data, sim_data, sim_sse_data, val_data, val_sse_data, None, \n",
    "                     ep_bias, gen_meth_theta_val)"
   ]
  },
  {
   "cell_type": "raw",
   "id": "3d75a18f",
   "metadata": {},
   "source": [
    "#Run Bo iterations/restarts\n",
    "restart_bo_results = driver.run_bo_restarts()"
   ]
  },
  {
   "cell_type": "code",
   "execution_count": null,
   "id": "5a990e3b",
   "metadata": {},
   "outputs": [],
   "source": [
    "#Open Data File\n",
    "name_cs_str = \"CS1\"\n",
    "fileObj = open(\"No_Date/Data_Files/\" + name_cs_str + \".pickle\", 'rb')\n",
    "loaded_results = pickle.load(fileObj)\n",
    "fileObj.close()\n",
    "\n",
    "#Define the run number and bo iter in question and pull the max bo iters and runs\n",
    "run_num = 0\n",
    "bo_iter = 0\n",
    "runs = loaded_results[run_num].configuration[\"Number of Workflow Restarts\"]\n",
    "num_sets = loaded_results[run_num].configuration[\"Max BO Iters\"]\n",
    "\n",
    "#Print Results\n",
    "print(loaded_results[run_num].configuration)\n",
    "# print(loaded_results[run_num].list_gp_emulator_class[bo_iter])\n",
    "# print(len(loaded_results[run_num].list_heat_map_data))\n",
    "print(loaded_results[run_num].results_df)\n",
    "print(loaded_results[run_num].results_df[\"Theta Min Obj Cum.\"].iloc[-1])\n",
    "print(loaded_results[run_num].simulator_class.theta_true)\n",
    "# print(loaded_results[run_num].heat_map_data_dict)\n",
    "# print(loaded_results[run_num].simulator_class.theta_true_norm)"
   ]
  },
  {
   "cell_type": "code",
   "execution_count": null,
   "id": "6879d5b9",
   "metadata": {},
   "outputs": [],
   "source": []
  },
  {
   "cell_type": "markdown",
   "id": "86900a23",
   "metadata": {},
   "source": [
    "## Plot BO Result Data"
   ]
  },
  {
   "cell_type": "code",
   "execution_count": null,
   "id": "fb021486",
   "metadata": {},
   "outputs": [],
   "source": [
    "from bo_methods_lib.bo_methods_lib.GPBO_Classes_plotters import *\n",
    "title_fontsize = 24\n",
    "other_fontsize = 20\n",
    "save_path = None\n",
    "\n",
    "dim_hps = len(loaded_results[run_num].list_gp_emulator_class[run_num].trained_hyperparams[run_num]) + 2\n",
    "hps = np.zeros((runs, num_sets, dim_hps))\n",
    "hp_names = [f\"\\\\ell_{i}\" for i in range(1, dim_hps+1)]\n",
    "hp_names[-2] = \"\\sigma\"\n",
    "hp_names[-1] = \"\\\\tau\"\n",
    "data_true = None\n",
    "\n",
    "for j in range(runs):\n",
    "    run = loaded_results[j]\n",
    "    for i in range(len(run.list_gp_emulator_class)):\n",
    "       # Extract the array and convert other elements to float\n",
    "        array_part = run.list_gp_emulator_class[i].trained_hyperparams[0]\n",
    "        rest_part = np.array(run.list_gp_emulator_class[i].trained_hyperparams[1:], dtype=float)\n",
    "        hp = np.concatenate([array_part, rest_part])\n",
    "        # Create the resulting array of shape (1, 10)\n",
    "        hps[j,i,:] = hp"
   ]
  },
  {
   "cell_type": "code",
   "execution_count": null,
   "id": "57d62d57",
   "metadata": {},
   "outputs": [],
   "source": [
    "xbins = 5\n",
    "ybins = 7\n",
    "\n",
    "x_label = \"BO Iterations\"\n",
    "y_label = \"Hyperparameters\"\n",
    "title = \"Hyperparameter Values\"\n",
    "# plot_2D_Data(hps, hp_names, data_true, xbins, ybins, title, x_label, y_label, title_fontsize, other_fontsize, save_path)"
   ]
  },
  {
   "cell_type": "code",
   "execution_count": null,
   "id": "bcc70d07",
   "metadata": {},
   "outputs": [],
   "source": [
    "dim_data = 3 #obj, min obj, and ei\n",
    "data = np.zeros((runs, num_sets, dim_data))\n",
    "data_names = [\"log(sse)\", \"min(log(sse))\", \"EI\"]\n",
    "data_true = None\n",
    "\n",
    "for j in range(runs):\n",
    "    run = loaded_results[j]\n",
    "    # Extract the array and convert other elements to float\n",
    "    for i in range(len(run.results_df[\"Min Obj\"])):\n",
    "        log_sse = np.log(run.results_df[\"Min Obj\"].to_numpy().astype(float)[i])\n",
    "        log_min_sse = np.log(run.results_df[\"Min Obj Cum.\"].to_numpy().astype(float)[i])\n",
    "        max_ei = run.results_df[\"Max EI\"].to_numpy().astype(float)[i]\n",
    "        # Create the resulting array of shape (1, 10)\n",
    "        data[j,i,0] = log_sse\n",
    "        data[j,i,1] = log_min_sse\n",
    "        data[j,i,2] = max_ei"
   ]
  },
  {
   "cell_type": "code",
   "execution_count": null,
   "id": "bb66320c",
   "metadata": {},
   "outputs": [],
   "source": [
    "xbins = 5\n",
    "ybins = 7\n",
    "\n",
    "x_label = \"BO Iterations\"\n",
    "y_label = \"Data\"\n",
    "title = \"Data Values\"\n",
    "# plot_2D_Data(data, data_names, data_true, xbins, ybins, title, x_label, y_label, title_fontsize, other_fontsize, save_path)"
   ]
  },
  {
   "cell_type": "code",
   "execution_count": null,
   "id": "2c8b84e0",
   "metadata": {},
   "outputs": [],
   "source": [
    "dim_data = len(loaded_results[run_num].results_df[\"Theta Min Obj\"].to_numpy()[0]) #len theta best\n",
    "\n",
    "data = np.zeros((runs, num_sets, dim_data))\n",
    "data_names = [f\"\\\\theta_{i}\" for i in range(1, dim_data+1)]\n",
    "data_true = loaded_results[run_num].simulator_class.theta_true\n",
    "for j in range(runs):\n",
    "    run = loaded_results[j]\n",
    "    num_iters = len(run.results_df[\"Theta Min Obj\"])\n",
    "    for i in range(num_iters):\n",
    "        # Extract the array and convert other elements to float\n",
    "        theta_min_obj = run.results_df[\"Theta Min Obj\"].to_numpy()[i]\n",
    "        # Create the resulting array of shape (1, 10)\n",
    "        data[j,i,:] = theta_min_obj"
   ]
  },
  {
   "cell_type": "code",
   "execution_count": null,
   "id": "699c8987",
   "metadata": {},
   "outputs": [],
   "source": [
    "xbins = 5\n",
    "ybins = 5\n",
    "\n",
    "x_label = \"BO Iterations\"\n",
    "y_label = \"Theta Values\"\n",
    "title = \"Min Obj Parameter Values\"\n",
    "# plot_2D_Data(data, data_names, data_true, xbins, ybins, title, x_label, y_label, title_fontsize, other_fontsize, save_path)"
   ]
  },
  {
   "cell_type": "code",
   "execution_count": null,
   "id": "b0165f03",
   "metadata": {},
   "outputs": [],
   "source": [
    "dim_data = len(loaded_results[0].results_df[\"Theta Min Obj Cum.\"].to_numpy()[0]) #len theta best\n",
    "data = np.zeros((runs, num_sets, dim_data))\n",
    "data_names = [f\"\\\\theta_{i}\" for i in range(1, dim_data+1)]\n",
    "data_true = loaded_results[run_num].simulator_class.theta_true\n",
    "\n",
    "for j in range(runs):\n",
    "    run = loaded_results[j]\n",
    "    num_iters = len(run.results_df[\"Theta Min Obj Cum.\"])\n",
    "    for i in range(num_iters):\n",
    "        # Extract the array and convert other elements to float\n",
    "        theta_min_obj = run.results_df[\"Theta Min Obj Cum.\"].to_numpy()[i]\n",
    "        # Create the resulting array of shape (1, 10)\n",
    "        data[j,i,:] = theta_min_obj"
   ]
  },
  {
   "cell_type": "code",
   "execution_count": null,
   "id": "32a11702",
   "metadata": {
    "scrolled": false
   },
   "outputs": [],
   "source": [
    "xbins = 5\n",
    "ybins = 5\n",
    "\n",
    "x_label = \"BO Iterations\"\n",
    "y_label = \"Theta Values\"\n",
    "title = \"Min Obj Parameter Values Overall\"\n",
    "# plot_2D_Data(data, data_names, data_true, xbins, ybins, title, x_label, y_label, title_fontsize, other_fontsize, save_path)"
   ]
  },
  {
   "cell_type": "code",
   "execution_count": null,
   "id": "0e20053a",
   "metadata": {},
   "outputs": [],
   "source": [
    "dim_data = len(loaded_results[run_num].results_df[\"Theta Max EI\"].to_numpy()[0]) #len theta best\n",
    "data = np.zeros((runs, num_sets, dim_data))\n",
    "data_names = [f\"\\\\theta_{i}\" for i in range(1, dim_data+1)]\n",
    "data_true = loaded_results[run_num].simulator_class.theta_true\n",
    "\n",
    "for j in range(runs):\n",
    "    run = loaded_results[j]\n",
    "    num_iters = len(run.results_df[\"Theta Max EI\"])\n",
    "    for i in range(num_iters):\n",
    "        # Extract the array and convert other elements to float\n",
    "        theta_min_obj = run.results_df[\"Theta Max EI\"].to_numpy()[i]\n",
    "        # Create the resulting array of shape (1, 10)\n",
    "        data[j,i,:] = theta_min_obj"
   ]
  },
  {
   "cell_type": "code",
   "execution_count": null,
   "id": "a3761c09",
   "metadata": {},
   "outputs": [],
   "source": [
    "xbins = 5\n",
    "ybins = 5\n",
    "\n",
    "x_label = \"BO Iterations\"\n",
    "y_label = \"Theta Values\"\n",
    "title = \"Max EI Parameter Values\"\n",
    "# plot_2D_Data(data, data_names, data_true, xbins, ybins, title, x_label, y_label, title_fontsize, other_fontsize, save_path)"
   ]
  },
  {
   "cell_type": "code",
   "execution_count": null,
   "id": "5c3156d9",
   "metadata": {},
   "outputs": [],
   "source": [
    "x_exp = loaded_results[run_num].exp_data_class.x_vals\n",
    "dim_data = loaded_results[run_num].list_gp_emulator_class[run_num].get_dim_gp_data() #dim training data\n",
    "data_true = loaded_results[run_num].simulator_class.theta_true\n",
    "\n",
    "param_names = [f\"\\\\theta_{i}\" for i in range(1, len(data_true)+1)]\n",
    "x_names = [f\"Xexp_{i}\" for i in range(1, x_exp.shape[1]+1)]\n",
    "data_names = param_names+x_names\n",
    "\n",
    "train_data = loaded_results[run_num].list_gp_emulator_class[bo_iter].feature_train_data\n",
    "test_data = loaded_results[run_num].list_gp_emulator_class[bo_iter].feature_test_data\n",
    "val_data = loaded_results[run_num].list_gp_emulator_class[bo_iter].feature_val_data"
   ]
  },
  {
   "cell_type": "code",
   "execution_count": null,
   "id": "b544556f",
   "metadata": {},
   "outputs": [],
   "source": [
    "xbins = 5\n",
    "ybins = 5\n",
    "zbins = 5\n",
    "\n",
    "idcs_to_plot = [0,1,2]\n",
    "\n",
    "title = \"Data Run 1 BO Iter 1\"\n",
    "\n",
    "data_true = loaded_results[0].simulator_class.theta_true\n",
    "plot_train_test_val_data(train_data, test_data, val_data, data_names, idcs_to_plot, x_exp, xbins, ybins, zbins, \n",
    "                         title, title_fontsize, other_fontsize, save_path)"
   ]
  },
  {
   "cell_type": "markdown",
   "id": "2bdcf159",
   "metadata": {},
   "source": [
    "## Plot Heat Maps"
   ]
  },
  {
   "cell_type": "code",
   "execution_count": null,
   "id": "36d9fd7c",
   "metadata": {},
   "outputs": [],
   "source": [
    "fileObj = open(\"No_Date/Data_Files/\"+ name_cs_str + \".pickle\", 'rb')\n",
    "# fileObj = open(\"No_Date/Data_Files/\"+ \"CS1\" + \".pickle\", 'rb')\n",
    "loaded_results = pickle.load(fileObj)\n",
    "fileObj.close()\n",
    "\n",
    "print(loaded_results[run_num].configuration)\n",
    "print(loaded_results[run_num].results_df)"
   ]
  },
  {
   "cell_type": "code",
   "execution_count": null,
   "id": "ece32bff",
   "metadata": {},
   "outputs": [],
   "source": [
    "#Create Heat Map Data for a run and iter\n",
    "# pair = \"a_1-a_2\"\n",
    "#Just choose the 1st key for example purposes\n",
    "pair = list(loaded_results[run_num].heat_map_data_dict.keys())[0]\n",
    "\n",
    "#Regeneate simulator, gp_emulator, exerimental data, best error, true theta, lowest obj theta, and highest ei theta\n",
    "gp_emulator = loaded_results[run_num].list_gp_emulator_class[bo_iter]\n",
    "heat_map_data_dict = loaded_results[run_num].heat_map_data_dict\n",
    "heat_map_data = heat_map_data_dict[pair]\n",
    "featurized_hm_data = gp_emulator.featurize_data(heat_map_data)\n",
    "simulator = loaded_results[run_num].simulator_class\n",
    "param_names = pair\n",
    "#Get index of param set\n",
    "idcs_to_plot = [loaded_results[run_num].simulator_class.theta_true_names.index(name) for name in param_names]\n",
    "exp_data = loaded_results[run_num].exp_data_class\n",
    "best_error =  loaded_results[run_num].results_df[\"Best Error\"].iloc[bo_iter]\n",
    "theta_true = loaded_results[run_num].simulator_class.theta_true\n",
    "theta_opt =  loaded_results[run_num].results_df[\"Theta Min Obj Cum.\"].iloc[bo_iter]\n",
    "theta_next = loaded_results[run_num].results_df[\"Theta Max EI\"].iloc[bo_iter]\n",
    "train_theta = loaded_results[run_num].list_gp_emulator_class[bo_iter].train_data.theta_vals\n",
    "enum_method = loaded_results[run_num].configuration[\"Method Name Enum Value\"]\n",
    "enum_ep = Ep_enum(loaded_results[run_num].configuration[\"Exploration Bias Method Value\"])\n",
    "sep_fact = loaded_results[run_num].configuration[\"Separation Factor\"]\n",
    "seed = loaded_results[run_num].configuration[\"Seed\"]\n",
    "ep_at_iter = loaded_results[run_num].results_df[\"Exploration Bias\"].iloc[bo_iter]\n",
    "meth_name = Method_name_enum(enum_method)\n",
    "method = GPBO_Methods(meth_name)\n",
    "ep_bias = Exploration_Bias(None, ep_at_iter, enum_ep, None, None, None, None, None, None, None)"
   ]
  },
  {
   "cell_type": "code",
   "execution_count": null,
   "id": "9822236c",
   "metadata": {},
   "outputs": [],
   "source": [
    "#Calculate GP mean and var for heat map data\n",
    "heat_map_data.gp_mean, heat_map_data.gp_var = gp_emulator.eval_gp_mean_var_misc(heat_map_data, featurized_hm_data)\n",
    "heat_map_data.y_vals = simulator.gen_y_data(heat_map_data, 0 , 0)\n",
    "heat_map_sse_data = simulator.sim_data_to_sse_sim_data(method, heat_map_data, exp_data, sep_fact, gen_val_data = False)\n",
    "\n",
    "#Calculate SSE, SSE var, and EI\n",
    "if method.emulator == False:\n",
    "    heat_map_data.sse_mean, heat_map_data.sse_var = gp_emulator.eval_gp_sse_var_misc(heat_map_data)\n",
    "else:\n",
    "    heat_map_data.sse_mean, heat_map_data.sse_var = gp_emulator.eval_gp_sse_var_misc(heat_map_data, exp_data)\n",
    "    \n",
    "if method.emulator == False:\n",
    "    heat_map_data.ei = gp_emulator.eval_ei_misc(heat_map_data, exp_data, ep_bias, best_error)\n",
    "else:\n",
    "    heat_map_data.ei = gp_emulator.eval_ei_misc(heat_map_data, exp_data, ep_bias, best_error, method)"
   ]
  },
  {
   "cell_type": "code",
   "execution_count": null,
   "id": "9e648ac8",
   "metadata": {},
   "outputs": [],
   "source": [
    "xbins = 4\n",
    "ybins = 5\n",
    "zbins = 900\n",
    "\n",
    "#Create test mesh\n",
    "#Define original theta_vals (for restoration later)\n",
    "org_theta = heat_map_data.theta_vals\n",
    "#Redefine the theta_vals in the given Data class to be only the 2D (varying) parts you want to plot\n",
    "heat_map_data.theta_vals = heat_map_data.theta_vals[:,idcs_to_plot]\n",
    "#Create a meshgrid with x and y values fron the uniwue theta values of that array\n",
    "unique_theta = heat_map_data.get_unique_theta()\n",
    "theta_pts = int(np.sqrt(len(unique_theta)))\n",
    "test_mesh = unique_theta.reshape(theta_pts,theta_pts,-1).T\n",
    "heat_map_data.theta_vals = org_theta\n",
    "\n",
    "sse_sim = heat_map_sse_data.y_vals.reshape(theta_pts,theta_pts).T\n",
    "sse_mean = heat_map_data.sse_mean.reshape(theta_pts,theta_pts).T\n",
    "sse_var = heat_map_data.sse_var.reshape(theta_pts,theta_pts).T\n",
    "ei = sse_var = heat_map_data.ei.reshape(theta_pts,theta_pts).T\n",
    "\n",
    "z = [sse_sim, sse_mean, sse_var, ei]\n",
    "z_titles = [\"sse_sim\", \"sse\", \"sse_var\", \"ei\"]\n",
    "cmap = \"autumn\"\n",
    "levels = [100,100,100, 100]\n",
    "plot_axis_names = param_names\n",
    "title = \"Heat Map Pair \" + \"-\".join(map(str, plot_axis_names))\n",
    "plot_heat_maps(test_mesh, theta_true, theta_opt, theta_next, train_theta, plot_axis_names, levels, idcs_to_plot, \n",
    "               z, z_titles, xbins, ybins, zbins, title, title_fontsize, other_fontsize, cmap, save_path)"
   ]
  },
  {
   "cell_type": "code",
   "execution_count": null,
   "id": "414e446b",
   "metadata": {},
   "outputs": [],
   "source": [
    "#Make a Data class instance with just the values you want to plot\n",
    "\n",
    "#Generate exp_data that is pretty\n",
    "num_x_data_lin = 50\n",
    "gen_meth_x = Gen_meth_enum(2)\n",
    "exp_data_lin = simulator.gen_exp_data(num_x_data_lin, gen_meth_x)\n",
    "\n",
    "#Repeat the theta best array once for each x value\n",
    "#Need to repeat theta_best such that it can be evaluated at every x value in exp_data using simulator.gen_y_data\n",
    "theta_opt_repeated = np.repeat(theta_opt.reshape(1,-1), exp_data_lin.get_num_x_vals() , axis =0)\n",
    "#Add instance of Data class to theta_best\n",
    "theta_opt_data = Data(theta_opt_repeated, exp_data_lin.x_vals, None, None, None, None, None, None, \n",
    "                      simulator.bounds_theta_reg, simulator.bounds_x, sep_fact, seed)\n",
    "#Calculate y values and sse for theta_best with noise\n",
    "theta_opt_data.y_vals = simulator.gen_y_data(theta_opt_data, simulator.noise_mean, simulator.noise_std)  \n",
    "#Calculate GP mean and var for heat map data\n",
    "featurized_to_data = gp_emulator.featurize_data(theta_opt_data)\n",
    "theta_opt_data.gp_mean, theta_opt_data.gp_var = gp_emulator.eval_gp_mean_var_misc(theta_opt_data, featurized_to_data)\n",
    "train_data = loaded_results[run_num].list_gp_emulator_class[bo_iter].train_data\n",
    "test_data = loaded_results[run_num].list_gp_emulator_class[bo_iter].test_data"
   ]
  },
  {
   "cell_type": "code",
   "execution_count": null,
   "id": "272d3dc5",
   "metadata": {},
   "outputs": [],
   "source": [
    "xbins = 5\n",
    "ybins = 5\n",
    "title = \"CS1 Data Comparison\"\n",
    "x_label = \"X Value\"\n",
    "y_label = \"y Value\"\n",
    "\n",
    "plot_x_vs_y_given_theta(theta_opt_data, exp_data, train_data, test_data, xbins, ybins, title, x_label, y_label, \n",
    "                        title_fontsize, other_fontsize, save_path)"
   ]
  },
  {
   "cell_type": "code",
   "execution_count": null,
   "id": "6faea60d",
   "metadata": {},
   "outputs": [],
   "source": [
    "#Generate simulation data for x given 1 theta\n",
    "simulator.seed = 4\n",
    "x_val_num = 10\n",
    "sim_data_x = simulator.gen_sim_data(1, x_val_num, Gen_meth_enum(1), Gen_meth_enum(2), sep_fact, False)\n",
    "featurized_sim_x_data = gp_emulator.featurize_data(sim_data_x)\n",
    "sim_data_x.gp_mean, sim_data_x.gp_var = gp_emulator.eval_gp_mean_var_misc(sim_data_x, featurized_sim_x_data)"
   ]
  },
  {
   "cell_type": "code",
   "execution_count": null,
   "id": "44f5e348",
   "metadata": {},
   "outputs": [],
   "source": [
    "xbins = 5\n",
    "ybins = 5\n",
    "zbins = 900\n",
    "\n",
    "if name_cs_str == \"CS2\":\n",
    "    #Create a meshgrid with x and y values fron the uniwue theta values of that array\n",
    "    test_mesh = sim_data_x.x_vals.reshape(x_val_num, x_val_num,-1).T\n",
    "\n",
    "    y_sim = sim_data_x.y_vals.reshape(x_val_num, x_val_num).T\n",
    "    gp_mean = sim_data_x.gp_mean.reshape(x_val_num, x_val_num).T\n",
    "    gp_var = sim_data_x.gp_var.reshape(x_val_num, x_val_num).T\n",
    "    z = [y_sim, gp_mean, gp_var]\n",
    "    z_titles = [\"y_sim\", \"gp_mean\", \"gp_var\"]\n",
    "    cmap = \"jet\"\n",
    "    levels = [100,100,100]\n",
    "    plot_axis_names = [\"X1\", \"X2\"]\n",
    "    title = \"Heat Map For Theta = \" + str(np.round(sim_data_x.theta_vals[0],0))\n",
    "    # plot_heat_maps(test_mesh, None, None, None, exp_data.x_vals, plot_axis_names, levels, idcs_to_plot, \n",
    "    #                z, z_titles, xbins, ybins, zbins, title, title_fontsize, other_fontsize, cmap, save_path)"
   ]
  },
  {
   "cell_type": "code",
   "execution_count": null,
   "id": "a117d00f",
   "metadata": {},
   "outputs": [],
   "source": [
    "test_data.gp_mean, test_data.gp_var = gp_emulator.eval_gp_mean_var_test()\n",
    "\n",
    "if method.emulator == False:\n",
    "    sse_data = test_data\n",
    "    test_data_sse_data = None\n",
    "else:\n",
    "    test_data.sse_mean, test_data.sse_var = gp_emulator.eval_gp_sse_var_test(exp_data)\n",
    "    test_data_sse_data = simulator.sim_data_to_sse_sim_data(method, test_data, exp_data, sep_fact, False)\n",
    "    sse_data = None"
   ]
  },
  {
   "cell_type": "code",
   "execution_count": null,
   "id": "0e824d3e",
   "metadata": {},
   "outputs": [],
   "source": [
    "print(test_data_sse_data.y_vals)\n",
    "print(test_data.sse_mean)"
   ]
  },
  {
   "cell_type": "code",
   "execution_count": null,
   "id": "17a65f88",
   "metadata": {},
   "outputs": [],
   "source": [
    "xbins = 5\n",
    "ybins = 5\n",
    "\n",
    "title = \"Parity Plots\"\n",
    "x_label = \"Sim Value\"\n",
    "y_label = \"Data Value\"\n",
    "\n",
    "parity_plot(test_data, test_data_sse_data, sse_data, method, xbins, ybins, x_label, y_label, \n",
    "            title, title_fontsize, other_fontsize, save_path)"
   ]
  },
  {
   "cell_type": "code",
   "execution_count": null,
   "id": "834826b4",
   "metadata": {},
   "outputs": [],
   "source": [
    "#Param vs y data for any value of x\n",
    "#Choose a value to vary\n",
    "print(simulator.theta_true_names)\n",
    "vary_var = \"theta_1\"\n",
    "#Find this paramete's index in theta_true\n",
    "param_idx = simulator.theta_true_names.index(vary_var)\n",
    "bounds_param = simulator.bounds_theta_reg[:,param_idx]\n",
    "#Create number of points to vary\n",
    "n_points = 101\n",
    "#Create new theta true array of n_points\n",
    "array_of_vals = np.tile(np.array(simulator.theta_true), (n_points, 1))\n",
    "#Change the value of the parameter you want to vary to a linspace of n_points between the parameter bounds\n",
    "varying_theta = np.linspace(bounds_param[0], bounds_param[1], n_points)\n",
    "array_of_vals[:,param_idx] = varying_theta\n",
    "#Give an x_value to evaluate at\n",
    "x_val = exp_data.x_vals[0] \n",
    "x_data = np.vstack([x_val]*n_points)\n",
    "bounds_x = simulator.bounds_x\n",
    "#Create instance of Data Class\n",
    "param_data = Data(array_of_vals, x_data, None, None, None, None, None, None, bounds_param, bounds_x, sep_fact, seed)\n",
    "feat_param_data = gp_emulator.featurize_data(param_data)\n",
    "param_data.y_vals = simulator.gen_y_data(param_data, simulator.noise_mean, simulator.noise_std)  \n",
    "param_data.gp_mean, param_data.gp_var = gp_emulator.eval_gp_mean_var_misc(param_data, feat_param_data)"
   ]
  },
  {
   "cell_type": "code",
   "execution_count": null,
   "id": "a42a318b",
   "metadata": {},
   "outputs": [],
   "source": [
    "xbins = 5\n",
    "ybins = 5\n",
    "\n",
    "title = \"Param Sensitivity Analysis\"\n",
    "x_label = vary_var\n",
    "y_label = \"Y Value\"\n",
    "data_names = [\"TP 20\"]\n",
    "data = [param_data]\n",
    "\n",
    "train_data = loaded_results[run_num].list_gp_emulator_class[bo_iter].train_data\n",
    "test_data = loaded_results[run_num].list_gp_emulator_class[bo_iter].test_data\n",
    "\n",
    "plot_theta_vs_y_given_x(data, param_idx, data_names, exp_data, train_data, test_data, xbins, ybins, title, x_label, \n",
    "                        y_label, title_fontsize, other_fontsize, save_path)"
   ]
  },
  {
   "cell_type": "code",
   "execution_count": null,
   "id": "e0f58d55",
   "metadata": {},
   "outputs": [],
   "source": []
  }
 ],
 "metadata": {
  "kernelspec": {
   "display_name": "Python 3 (ipykernel)",
   "language": "python",
   "name": "python3"
  },
  "language_info": {
   "codemirror_mode": {
    "name": "ipython",
    "version": 3
   },
   "file_extension": ".py",
   "mimetype": "text/x-python",
   "name": "python",
   "nbconvert_exporter": "python",
   "pygments_lexer": "ipython3",
   "version": "3.9.12"
  }
 },
 "nbformat": 4,
 "nbformat_minor": 5
}
