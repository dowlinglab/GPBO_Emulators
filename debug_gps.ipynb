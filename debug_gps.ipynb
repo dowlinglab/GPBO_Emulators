{
 "cells": [
  {
   "cell_type": "code",
   "execution_count": null,
   "metadata": {},
   "outputs": [],
   "source": [
    "import sys\n",
    "import gpytorch\n",
    "import numpy as np\n",
    "import pandas as pd\n",
    "import torch\n",
    "from datetime import datetime\n",
    "from scipy.stats import qmc\n",
    "import itertools\n",
    "from itertools import combinations_with_replacement, combinations, permutations\n",
    "\n",
    "import bo_methods_lib\n",
    "from bo_methods_lib.bo_methods_lib.GPBO_Classes_New import * #Fix this later\n",
    "from bo_methods_lib.bo_methods_lib.GPBO_Class_fxns import * #Fix this later\n",
    "from bo_methods_lib.bo_methods_lib.analyze_data import * #Fix this later\n",
    "from bo_methods_lib.bo_methods_lib.GPBO_Classes_plotters import * #Fix this later\n",
    "import pympler\n",
    "import pickle\n",
    "import signac\n",
    "\n",
    "from pympler import asizeof\n",
    "\n",
    "from matplotlib import pyplot as plt\n",
    "\n",
    "import matplotlib as mpl\n",
    "mpl.rcParams['figure.dpi'] = 200\n",
    "\n",
    "#Ignore inconcistent version warning\n",
    "import warnings\n",
    "# from sklearn.exceptions import InconsistentVersionWarning\n",
    "# warnings.filterwarnings(action='ignore', category=InconsistentVersionWarning)"
   ]
  },
  {
   "cell_type": "code",
   "execution_count": null,
   "metadata": {},
   "outputs": [],
   "source": [
    "# #Make GP and Simulator class\n",
    "results = open_file_helper(\"workspace/88a517c667d8e4b605165f253f780ad7/BO_Results.gz\")"
   ]
  },
  {
   "cell_type": "code",
   "execution_count": null,
   "metadata": {},
   "outputs": [],
   "source": [
    "run = 2\n",
    "biter = 33\n",
    "gp_object = copy.copy(results[run-1].list_gp_emulator_class[biter-1])\n",
    "simulator = copy.copy(results[run-1].simulator_class)\n",
    "exp_data = copy.copy(results[run-1].exp_data_class)\n",
    "meth_name = Method_name_enum(results[0].configuration[\"Method Name Enum Value\"])\n",
    "method = GPBO_Methods(meth_name)\n",
    "# print(gp_object.noise_std)\n",
    "# print(simulator.noise_std)\n",
    "# print(float(scipy.special.polygamma(1, (4*simulator.noise_std**2)/2)))\n",
    "# print(gp_object.scalerY.lambdas_)"
   ]
  },
  {
   "cell_type": "code",
   "execution_count": null,
   "metadata": {},
   "outputs": [],
   "source": [
    "#Scale training data if necessary\n",
    "feature_train_data_scaled = gp_object.scalerX.transform(gp_object.feature_train_data)\n",
    "y_train_data_scaled = gp_object.scalerY.transform(gp_object.train_data.y_vals.reshape(-1,1))\n",
    "y = y_train_data_scaled\n",
    "# y = gp_object.train_data.y_vals.reshape(-1,1)"
   ]
  },
  {
   "cell_type": "code",
   "execution_count": null,
   "metadata": {},
   "outputs": [],
   "source": [
    "plt.hist(y, bins=int(len(y)/10), density=True, edgecolor='black')  # Adjust the number of bins as needed\n",
    "xmin, xmax = plt.xlim() \n",
    "mu, std = norm.fit(y[~np.isnan(y)])\n",
    "x = np.linspace(xmin, xmax, 100) \n",
    "p = norm.pdf(x, mu, std) \n",
    "plt.plot(x, p, 'r', linewidth=2) \n",
    "\n",
    "\n",
    "# Add labels and title\n",
    "plt.xlabel('Value')\n",
    "plt.ylabel('Probability Density')\n",
    "plt.title('Histogram of ln(V(Ax0y0) - V_min(Ax0y0) + jitter)')"
   ]
  },
  {
   "cell_type": "code",
   "execution_count": null,
   "metadata": {},
   "outputs": [],
   "source": [
    "#Evaluate gp_mean over x values\n",
    "#Generate validation data\n",
    "val_data = simulator.gen_sim_data(3, exp_data.get_num_x_vals(), Gen_meth_enum(1), Gen_meth_enum(2), 1.0, simulator.seed, False)\n",
    "if method.emulator == False:\n",
    "    val_data = simulator.sim_data_to_sse_sim_data(method, val_data, exp_data, 1.0, False)\n",
    "feat_val = gp_object.featurize_data(val_data)\n",
    "\n",
    "# gp_object.retrain_GP = 25\n",
    "\n",
    "\n",
    "#Get gp mean\n",
    "#Change hps of fit gp model or retrain GP\n",
    "# simulator.noise_std = np.sqrt(float(scipy.special.polygamma(1, (4*simulator.noise_std**2)/2)))\n",
    "# gp_object.noise_std = None\n",
    "# new_gp_model = gp_object.set_gp_model()\n",
    "# gp_object.train_gp(new_gp_model)\n",
    "# gp_object.fit_gp_model.kernel_.k1.k2.length_scale = np.array([5.23, 1.59, 0.86, 0.893, 0.276])\n",
    "# gp_object.fit_gp_model.kernel_.k2.noise_level = 0.0577\n",
    "# gp_object.fit_gp_model.kernel_.k1.k1.constant_value = 1.72**2\n",
    "\n",
    "misc_gp_mean, misc_var_return = gp_object.eval_gp_mean_var_misc(val_data, feat_val, covar = False)\n"
   ]
  },
  {
   "cell_type": "code",
   "execution_count": null,
   "metadata": {},
   "outputs": [],
   "source": [
    "print(gp_object.fit_gp_model.kernel_)\n",
    "#1.3**2 * Matern(length_scale=[1.26, 2.06, 6.04, 0.335, 0.276], nu=2.5) + WhiteKernel(noise_level=0.000111)\n",
    "#1.72**2 * Matern(length_scale=[5.23, 1.59, 0.86, 0.893, 0.276], nu=2.5) + WhiteKernel(noise_level=0.000111)"
   ]
  },
  {
   "cell_type": "code",
   "execution_count": null,
   "metadata": {},
   "outputs": [],
   "source": [
    "mse= np.sum((val_data.y_vals - misc_gp_mean)**2)/len(val_data.y_vals)\n",
    "print(\"MSE:\", mse)\n",
    "plt.figure()\n",
    "plt.plot(val_data.y_vals, val_data.y_vals, color='red', alpha=0.7)\n",
    "plt.scatter(val_data.y_vals, misc_gp_mean, color='blue', alpha=0.7)\n",
    "plt.errorbar(val_data.y_vals, misc_gp_mean, yerr = 1.96*np.sqrt(abs(misc_var_return)), alpha=0.3, fmt = 'o', color = \"blue\")\n",
    "plt.xlabel('True Values')\n",
    "plt.ylabel('Predicted Values')\n",
    "plt.title('Parity Plot')\n",
    "plt.grid(True)\n",
    "plt.show()"
   ]
  },
  {
   "cell_type": "code",
   "execution_count": null,
   "metadata": {},
   "outputs": [],
   "source": []
  }
 ],
 "metadata": {
  "kernelspec": {
   "display_name": "Python 3 (ipykernel)",
   "language": "python",
   "name": "python3"
  },
  "language_info": {
   "codemirror_mode": {
    "name": "ipython",
    "version": 3
   },
   "file_extension": ".py",
   "mimetype": "text/x-python",
   "name": "python",
   "nbconvert_exporter": "python",
   "pygments_lexer": "ipython3",
   "version": "3.9.12"
  }
 },
 "nbformat": 4,
 "nbformat_minor": 2
}
