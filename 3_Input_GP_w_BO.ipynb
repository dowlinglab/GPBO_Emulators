{
 "cells": [
  {
   "cell_type": "code",
   "execution_count": null,
   "id": "faa1bbe1",
   "metadata": {},
   "outputs": [],
   "source": [
    "import gpytorch\n",
    "import numpy as np\n",
    "import pandas as pd\n",
    "import torch\n",
    "\n",
    "from bo_functions import ExactGPModel\n",
    "from bo_functions import create_y_data\n",
    "from bo_functions import bo_iter\n",
    "from bo_functions import test_train_split\n",
    "from bo_functions import bo_iter_w_restarts\n",
    "\n",
    "import matplotlib as mpl\n",
    "mpl.rcParams['figure.dpi'] = 300"
   ]
  },
  {
   "cell_type": "code",
   "execution_count": null,
   "id": "2934c54a",
   "metadata": {},
   "outputs": [],
   "source": [
    "#Set Parameters\n",
    "Theta_True = np.array([1,-1])\n",
    "BO_iters = 15\n",
    "train_iter = 300\n",
    "noise_std = 0.1\n",
    "restarts = 15\n",
    "\n",
    "emulator = True\n",
    "sparse_grid = False\n",
    "verbose = False\n",
    "\n",
    "shuffle_seed = 6\n",
    "t=4\n",
    "\n",
    "# explore_bias = torch.tensor([0,0.1,0.5])\n",
    "explore_bias = torch.tensor([0.5])\n",
    "\n",
    "#Pull Experimental data from CSV\n",
    "exp_data_doc = \"exp_data.csv\"\n",
    "exp_data = np.array(pd.read_csv(exp_data_doc, header=0,sep=\",\"))\n",
    "Xexp = exp_data[:,1]\n",
    "Yexp = exp_data[:,2]\n",
    "n = len(Xexp)\n",
    "\n",
    "#Define GP Testing space\n",
    "p=20\n",
    "Theta1 =  np.linspace(0.5,1.5,p) #1x10\n",
    "Theta2 =  np.linspace(-1.5,-0.5,p) #1x10\n",
    "Theta1 =  np.linspace(-2,2,p) #1x10\n",
    "Theta2 =  np.linspace(-2,2,p) #1x10\n",
    "theta_mesh = np.array(np.meshgrid(Theta1, Theta2)) #2 Uniform 5x5 arrays\n",
    "theta1_mesh = theta_mesh[0]\n",
    "theta2_mesh = theta_mesh[1]"
   ]
  },
  {
   "cell_type": "code",
   "execution_count": null,
   "id": "bd45878a",
   "metadata": {},
   "outputs": [],
   "source": [
    "save_fig=True\n",
    "obj = \"LN_obj\"\n",
    "\n",
    "all_data_doc = \"all_3_data.csv\"\n",
    "all_data = np.array(pd.read_csv(all_data_doc, header=0,sep=\",\"))   \n",
    "\n",
    "for i in range(len(explore_bias)):\n",
    "    print(\"Explore Bias:\", explore_bias[i])\n",
    "    results = bo_iter_w_restarts(BO_iters,all_data_doc,t,theta_mesh,Theta_True,train_iter,explore_bias[i], Xexp, Yexp,\n",
    "                                 noise_std, obj, restarts, sparse_grid, emulator, verbose,save_fig, shuffle_seed)\n",
    "    print(\"The GP predicts that the lowest SSE of\", \"{:.3e}\".format(results[2]), \"occurs at \\u03B8 =\", results[1][0], \"during restart\", results[0])"
   ]
  },
  {
   "cell_type": "raw",
   "id": "52420f17",
   "metadata": {},
   "source": [
    "#Create training and test data\n",
    "##Objective function = SSE\n",
    "##USING SCIPY METHOD\n",
    "##Uses 20 LHS Training points\n",
    "save_fig=False\n",
    "obj = \"obj\"\n",
    "restarts = 0\n",
    "\n",
    "#Set 20 Point Training data, Model, and Likelihood\n",
    "#Pull training data from CSV\n",
    "#Separate training and testing data, uses default of an 80%/20% split\n",
    "all_data_doc = \"all_3_data.csv\"\n",
    "all_data = np.array(pd.read_csv(all_data_doc, header=0,sep=\",\"))\n",
    "train_data, test_data = test_train_split(all_data, shuffle_seed=shuffle_seed)\n",
    "train_p = train_data[:,1:(len(Theta_True)+Xexp[0].size+1)]\n",
    "train_y = train_data[:,-1]\n",
    "\n",
    "likelihood = gpytorch.likelihoods.GaussianLikelihood()\n",
    "model = ExactGPModel(train_p, train_y, likelihood)\n",
    "\n",
    "for i in range(len(explore_bias)):\n",
    "    print(\"Explore Bias:\", explore_bias[i])\n",
    "    BO_Results = bo_iter(BO_iters,train_p,train_y,theta_mesh,Theta_True,train_iter,explore_bias[i], Xexp, Yexp, noise_std, \n",
    "                         obj, restarts, sparse_grid, emulator, verbose = verbose,save_fig=save_fig)\n",
    "    if verbose == True:\n",
    "        print(\"Exploration Parameter:\",explore_bias[i] )\n",
    "        print(\"Best_GP_Theta \\n\",BO_Results[0])\n",
    "        print(\"\\n Optimal_GP_Theta \\n\",BO_Results[1])\n",
    "        print(\"\\n Total SSE \\n\", BO_Results[2], \"\\n\")"
   ]
  }
 ],
 "metadata": {
  "kernelspec": {
   "display_name": "Python 3 (ipykernel)",
   "language": "python",
   "name": "python3"
  },
  "language_info": {
   "codemirror_mode": {
    "name": "ipython",
    "version": 3
   },
   "file_extension": ".py",
   "mimetype": "text/x-python",
   "name": "python",
   "nbconvert_exporter": "python",
   "pygments_lexer": "ipython3",
   "version": "3.9.12"
  }
 },
 "nbformat": 4,
 "nbformat_minor": 5
}
