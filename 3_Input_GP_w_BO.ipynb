{
 "cells": [
  {
   "cell_type": "code",
   "execution_count": 1,
   "id": "faa1bbe1",
   "metadata": {},
   "outputs": [],
   "source": [
    "import gpytorch\n",
    "import numpy as np\n",
    "import pandas as pd\n",
    "import torch\n",
    "\n",
    "from bo_functions import ExactGPModel\n",
    "from bo_functions import train_GP_model\n",
    "from bo_functions import calc_ei_and_error\n",
    "from bo_functions import calc_ei_total_test\n",
    "from bo_functions import create_y_data\n",
    "\n",
    "from bo_plotters import plot_hyperparams\n",
    "from bo_plotters import error_plotter\n",
    "from bo_plotters import ei_plotter_adv_test\n",
    "from bo_plotters import ei_plotter"
   ]
  },
  {
   "cell_type": "code",
   "execution_count": 2,
   "id": "2934c54a",
   "metadata": {},
   "outputs": [],
   "source": [
    "#Pull x and Y data from CSV\n",
    "#Pull x data from CSV\n",
    "exp_data_doc = \"exp_data.csv\"\n",
    "exp_data = np.array(pd.read_csv(exp_data_doc, header=0,sep=\",\"))\n",
    "Xexp = exp_data[:,1]\n",
    "Yexp = exp_data[:,2]\n",
    "\n",
    "n = len(Xexp)\n",
    "q = 3\n",
    "# print(n)\n",
    "Theta_True = np.array([1,-1])"
   ]
  },
  {
   "cell_type": "code",
   "execution_count": 3,
   "id": "36cb54d6",
   "metadata": {},
   "outputs": [],
   "source": [
    "#Create training and test data\n",
    "train_data_doc = \"train_3_in_data.csv\"\n",
    "train_data = np.array(pd.read_csv(train_data_doc, header=0,sep=\",\"))\n",
    "# print(train_data)\n",
    "train_theta = train_data[:,1:3]\n",
    "train_p = torch.tensor(train_data[:,1:4])\n",
    "train_y = torch.tensor(train_data[:,4])\n",
    "# print(train_p)\n",
    "# print(train_y)"
   ]
  },
  {
   "cell_type": "code",
   "execution_count": 4,
   "id": "71daa68c",
   "metadata": {},
   "outputs": [],
   "source": [
    "#Create Meshgrid\n",
    "p = 10\n",
    "Theta1 = np.linspace(-2,2,p)\n",
    "Theta2 = np.linspace(-2,2,p)\n",
    "\n",
    "theta_mesh = np.array(np.meshgrid(Theta1,Theta2))\n",
    "theta1_mesh = theta_mesh[0]\n",
    "theta2_mesh = theta_mesh[1]"
   ]
  },
  {
   "cell_type": "code",
   "execution_count": null,
   "id": "9b4bbb50",
   "metadata": {},
   "outputs": [],
   "source": [
    "#Set number of training iterations and train GP\n",
    "iterations = 300\n",
    "BO_iters = 25\n",
    "for i in range(BO_iters):\n",
    "    if torch.is_tensor(train_p) != True:\n",
    "        train_p = torch.from_numpy(train_p)\n",
    "    if torch.is_tensor(train_y) != True:\n",
    "        train_y = torch.from_numpy(train_y)\n",
    "    \n",
    "    likelihood = gpytorch.likelihoods.GaussianLikelihood()\n",
    "    # We will use the simplest form of GP model, exact inference\n",
    "    #Defines our model in terms of the class parameters in bo_functions\n",
    "    model = ExactGPModel(train_p, train_y, likelihood)\n",
    "    \n",
    "    train_GP = train_GP_model(model,likelihood, train_p, train_y, iterations, verbose=False)\n",
    "    noise_list = train_GP[0]\n",
    "    lengthscale_list = train_GP[1]\n",
    "    outputscale_list = train_GP[2]\n",
    "    \n",
    "    #Plot hyperparameters vs iteration\n",
    "    noise_title = \"Noise Hyperparameter\"\n",
    "    lengthscale_title = \"Lengthscale Hyperparameter\"\n",
    "    outputscale_title = \"Outputscale Hyperparameter\"\n",
    "#     plot_hyperparams(iterations, noise_list,noise_title)\n",
    "#     plot_hyperparams(iterations, lengthscale_list,lengthscale_title)\n",
    "#     plot_hyperparams(iterations, outputscale_list,outputscale_title)\n",
    "    \n",
    "    outputscale = torch.tensor([1])\n",
    "    lengthscale = torch.tensor([1])\n",
    "    noise = torch.tensor([1])\n",
    "\n",
    "    model.likelihood.noise = noise\n",
    "    model.covar_module.base_kernel.lengthscale =lengthscale\n",
    "    model.covar_module.outputscale = outputscale\n",
    "    \n",
    "#     print(\"Noise Hyperparameter: \", float(model.likelihood.noise))\n",
    "#     print(\"Lengthscale Hyperparameter: \", float(model.covar_module.base_kernel.lengthscale))\n",
    "#     print(\"Outputscale Hyperparameter: \", float(model.covar_module.outputscale))\n",
    "    \n",
    "    # Get into evaluation (predictive posterior) mode\n",
    "    model.eval()\n",
    "    likelihood.eval();\n",
    "    \n",
    "    #Will compare the rigorous solution and approximation later (multidimensional integral over each experiment using a sparse grid)\n",
    "    #Calculate EI\n",
    "    EI_Components = calc_ei_and_error(p,n,Xexp,Yexp, theta_mesh, model, likelihood)\n",
    "    EI = EI_Components[0]\n",
    "    Error =EI_Components[1]\n",
    "#     print(Error)\n",
    "\n",
    "    #Finds the index where sse is the smallest and finds which Theta combination corresponds to that value\n",
    "    argmin = np.array(np.where(np.isclose(Error, np.amin(Error),atol=1e-10)==True))\n",
    "    Theta_1_Opt = float(theta1_mesh[argmin[0],argmin[1]])\n",
    "    Theta_2_Opt = float(theta2_mesh[argmin[0],argmin[1]])\n",
    "    Theta_Opt_GP = np.array((Theta_1_Opt,Theta_2_Opt))\n",
    "\n",
    "\n",
    "    #calculates best theta value\n",
    "    argmax = np.array(np.where(np.isclose(EI, np.amax(EI),atol=1e-10)==True))\n",
    "    #     print(argmax)\n",
    "    Theta1_Best = float(theta1_mesh[argmax[0],argmax[1]])\n",
    "    Theta2_Best = float(theta2_mesh[argmax[0],argmax[1]])\n",
    "    Theta_Best = np.array((Theta1_Best,Theta2_Best))\n",
    "    \n",
    "    \n",
    "    ##If statement to show convergence\n",
    "    Converge = np.allclose(Theta_Best, train_p[-1,0:2],atol=1e-10)\n",
    "    if Converge == True:\n",
    "        print(\"Number of iterations: \", i)\n",
    "        error_plotter(theta_mesh, Error, Theta_True, Theta_Opt_GP,train_p,plot_train=True)\n",
    "        ei_plotter(theta_mesh, EI, Theta_True, Theta_Opt_GP,train_p,plot_train=True)\n",
    "        print(\"The GP predicts that Theta =\",Theta_Opt_GP)\n",
    "        print(\"The GP estimates the highest EI is at Theta = \",Theta_Best)\n",
    "        break\n",
    "    \n",
    "#     ei_plotter(theta_mesh, EI, Theta_True, Theta_Opt_GP,train_p,plot_train=True)\n",
    "#     print(\"The GP predicts that Theta =\",Theta_Opt_GP)\n",
    "#     print(\"The GP estimates the highest EI is at Theta = \",Theta_Best)\n",
    "\n",
    "    ##Append best values to training data \n",
    "    #Convert training data to numpy arrays to allow concatenation to work\n",
    "    train_p = train_p.numpy() #(q x t)\n",
    "    train_y = train_y.numpy() #(1 x t)\n",
    "    \n",
    "    #Loops over Xexp values\n",
    "    for i in range(n):\n",
    "#         print(train_y)\n",
    "        ##Calculate y_Best and formal p_Best\n",
    "        #Add 5 test points, same Theta1 and Theta2, but use all values of Xexp\n",
    "        p_Best = np.array([Theta_Best[0],Theta_Best[1],Xexp[i]]) #(q x 1)\n",
    "#         print(p_Best)\n",
    "        y_Best = create_y_data(q,p_Best) #(1 x 1)\n",
    "        \n",
    "        #Add Theta_Best to train_p and y_best to train_y\n",
    "        train_p = np.concatenate((train_p, [p_Best]), axis=0) #(q x t)\n",
    "        train_y = np.concatenate((train_y, [y_Best]),axis=0) #(1 x t)\n",
    "\n",
    "\n"
   ]
  },
  {
   "cell_type": "code",
   "execution_count": null,
   "id": "8f659c27",
   "metadata": {},
   "outputs": [],
   "source": []
  },
  {
   "cell_type": "code",
   "execution_count": null,
   "id": "57cebf0b",
   "metadata": {},
   "outputs": [],
   "source": [
    "# EI_sing = calc_ei_total_test(p,n,Xexp,Yexp, theta_mesh, model, likelihood)[0]\n",
    "# Error =calc_ei_total_test(p,n,Xexp,Yexp, theta_mesh, model, likelihood)[1]\n",
    "# for i in range(n):    \n",
    "#     ei_plotter_adv_test(theta_mesh, EI_sing[i], Theta_True, train_p,Xexp[i],Theta_Opt_GP,plot_train=True)"
   ]
  },
  {
   "cell_type": "raw",
   "id": "c98657d1",
   "metadata": {},
   "source": [
    "print(stdev_plotter_adv_4D(test_p_mesh, model_stdev, point_num))"
   ]
  },
  {
   "cell_type": "markdown",
   "id": "b8f16656",
   "metadata": {},
   "source": [
    "## Analysis of Standard Deviation\n",
    " - The GP estimates that the standard deviation is lowest at points that were directly tested\n",
    "  - This can be rationalized by the way that the contour plot is drawn\n",
    " - Standard deviation is smallest away from the edges and larger towards them\n",
    "  - This is rationalized by the fact that there are less neighbors that the GP is tested and trained with at the boundaries\n",
    " - The more points that get tested, the more the standard deviations will decrease"
   ]
  },
  {
   "cell_type": "raw",
   "id": "f6491294",
   "metadata": {},
   "source": [
    "print(error_plotter_adv_4D(test_p_mesh, model_y, y_exp, point_num))"
   ]
  },
  {
   "cell_type": "markdown",
   "id": "9aa4a585",
   "metadata": {},
   "source": [
    "## Analysis of Error Magnitude\n",
    " - The GP emulator is most inaccurate when all values of $\\bar{p}$ are at their maximum. \n",
    "  - In general, the GP is less accurate at extreme points, this is rationalized by the fact that there are less neighbors that the GP is tested and trained with at the boundaries\n",
    " - The GP emulator is most accurate when x is at it's maximum, but $\\bar{\\Theta}= 0$\n",
    "  - This is rationalized by the fact that multiple terms become zero if any of the values of $\\bar{p}$ are zero \n",
    " - GP error is mostly very high, as more iterations are added, these will decrease"
   ]
  },
  {
   "cell_type": "raw",
   "id": "b856d936",
   "metadata": {},
   "source": [
    "y_title = \"Model Y Values\"\n",
    "print(y_plotter_adv_4D(test_p_mesh, model_y, point_num,y_title,yval=False))"
   ]
  },
  {
   "cell_type": "markdown",
   "id": "e901d487",
   "metadata": {},
   "source": [
    "## Analysis of GP Emulator (Model y)\n",
    " - The GP emulator correctly captures that y increases as $\\bar{p}$ increases. This tells us that this GP emulator model could be viable\n",
    "  - The GP emulator correctly estimates where the lowest y is achieved, but not the actual value of y\n",
    "  - The GP emulator slightly mistakes where the most positive value of y is, and does not predict the actual value of y\n",
    " - The model as it is is inaccurate, BO should increase the accuracy of the emulator"
   ]
  },
  {
   "cell_type": "raw",
   "id": "a246c18a",
   "metadata": {},
   "source": [
    "print(ei_plotter_adv(test_p_mesh_plot, ei))"
   ]
  },
  {
   "cell_type": "raw",
   "id": "69c62ab2",
   "metadata": {},
   "source": [
    "fig, ax = plt.subplots(subplot_kw={'projection': '3d'},figsize=(11,8))\n",
    "\n",
    "X, Y, Z = np.array(np.meshgrid(test_p1,test_p2,test_p3))\n",
    "X = X.reshape(-1,point_num)\n",
    "Y = Y.reshape(-1,point_num)\n",
    "Z = Z.reshape(-1,point_num)\n",
    "print(X.shape)\n",
    "C = ei.T.reshape(-1,point_num)\n",
    "print(C.shape)\n",
    "scamap = plt.cm.ScalarMappable(cmap='viridis')\n",
    "fcolors = scamap.to_rgba(C)\n",
    "ax.plot_surface(X, Y, Z, facecolors=fcolors, cmap='viridis')\n",
    "fig.colorbar(scamap, label = \"Yelling\")\n",
    "ax.set_xlabel('$\\Theta_1$')\n",
    "ax.set_ylabel('$\\Theta_2$')\n",
    "ax.set_zlabel('X Coordinate')\n",
    "ax.view_init(40, -30)\n",
    "plt.show()"
   ]
  },
  {
   "cell_type": "raw",
   "id": "c4da7bae",
   "metadata": {},
   "source": [
    "y_title = \"Model y Value\"\n",
    "print(y_plotter_adv(test_p, model_y, y_title,yval = True))"
   ]
  },
  {
   "cell_type": "raw",
   "id": "067d6ce9",
   "metadata": {},
   "source": [
    "print(stdev_plotter_adv(test_p, model_stdev))"
   ]
  },
  {
   "cell_type": "raw",
   "id": "8fd7ecc1",
   "metadata": {},
   "source": [
    "print(error_plotter_adv(test_p, model_y, y_exp))"
   ]
  }
 ],
 "metadata": {
  "kernelspec": {
   "display_name": "Python 3 (ipykernel)",
   "language": "python",
   "name": "python3"
  },
  "language_info": {
   "codemirror_mode": {
    "name": "ipython",
    "version": 3
   },
   "file_extension": ".py",
   "mimetype": "text/x-python",
   "name": "python",
   "nbconvert_exporter": "python",
   "pygments_lexer": "ipython3",
   "version": "3.9.7"
  }
 },
 "nbformat": 4,
 "nbformat_minor": 5
}
