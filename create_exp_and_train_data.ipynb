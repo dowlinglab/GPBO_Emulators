{
 "cells": [
  {
   "cell_type": "code",
   "execution_count": 4,
   "id": "bc88a957",
   "metadata": {},
   "outputs": [],
   "source": [
    "from bo_functions import LHS_Design\n",
    "from bo_functions import create_y_data\n",
    "from bo_functions import calc_y_exp\n",
    "from bo_functions import test_train_split\n",
    "from bo_functions import create_sse_data\n",
    "import numpy as np\n",
    "import pandas as pd"
   ]
  },
  {
   "cell_type": "code",
   "execution_count": 5,
   "id": "fb95b690",
   "metadata": {},
   "outputs": [],
   "source": [
    "#Creates Experimental data and saves to a csv\n",
    "Theta_True = np.array([1,-1])\n",
    "Xexp = np.array([-2,-1,0,1,2])\n",
    "noise_std = 0.1**2\n",
    "\n",
    "Yexp = calc_y_exp(Theta_True, Xexp, noise_std)\n",
    "\n",
    "Exp_data = np.column_stack((Xexp,Yexp))\n",
    "df = pd.DataFrame(Exp_data, columns = [\"Xexp\",\"Yexp\"])\n",
    "df.to_csv('exp_data.csv')"
   ]
  },
  {
   "cell_type": "code",
   "execution_count": 6,
   "id": "37454c00",
   "metadata": {},
   "outputs": [],
   "source": [
    "#Create Training Data and Testing Data\n",
    "#Set noise parameters and load csv file to generate training data\n",
    "all_p = LHS_Design(\"LHS_Toy_3_Input.csv\")\n",
    "all_2_in_y = create_sse_data(all_p,Xexp,Yexp)\n",
    "all_3_in_y = create_y_data(all_p)\n",
    "\n",
    "#Separate training and testing data, uses default of an 80%/20% split\n",
    "train_test_data_3_in = test_train_split(all_p,all_3_in_y)\n",
    "train_test_data_2_in = test_train_split(all_p,all_2_in_y)\n",
    "\n",
    "train_p = train_test_data_3_in[0] #1x19\n",
    "test_p = train_test_data_3_in[2] #1x6\n",
    "\n",
    "\n",
    "train_y_3_in = train_test_data_3_in[1] #1x19\n",
    "test_y_3_in = train_test_data_3_in[3] #1x6\n",
    "\n",
    "train_y_2_in = train_test_data_2_in[1] #1x19\n",
    "test_y_2_in = train_test_data_2_in[3] #1x6\n",
    "\n",
    "\n",
    "#Save Train Data\n",
    "train_3_input = np.column_stack((train_p, train_y_3_in))\n",
    "\n",
    "df = pd.DataFrame(train_3_input, columns = [\"Theta_1\",\"Theta_2\",\"X Coord\",\"y-value\"])\n",
    "df.to_csv('train_3_in_data.csv')\n",
    "\n",
    "train_2_input = np.column_stack((train_p[:,0], train_p[:,1], train_y_2_in))\n",
    "\n",
    "df = pd.DataFrame(train_2_input, columns = [\"Theta_1\",\"Theta_2\",\"y-value\"])\n",
    "df.to_csv('train_2_in_data.csv')\n",
    "\n",
    "\n",
    "#Save Test Data\n",
    "test_3_input = np.column_stack((test_p, test_y_3_in))\n",
    "\n",
    "df = pd.DataFrame(test_3_input, columns = [\"Theta_1\",\"Theta_2\",\"X Coord\",\"y-value\"])\n",
    "df.to_csv('test_3_in_data.csv')\n",
    "\n",
    "test_2_input = np.column_stack((test_p[:,0], test_p[:,1], test_y_2_in))\n",
    "\n",
    "df = pd.DataFrame(test_2_input, columns = [\"Theta_1\",\"Theta_2\",\"y-value\"])\n",
    "df.to_csv('test_2_in_data.csv')"
   ]
  },
  {
   "cell_type": "code",
   "execution_count": 9,
   "id": "3de894a0",
   "metadata": {},
   "outputs": [
    {
     "name": "stdout",
     "output_type": "stream",
     "text": [
      "[[ 0.36780794 -1.97603283 -0.63791734]\n",
      " [-1.94103156  1.07115317  1.80496556]\n",
      " [-0.83394824  1.28323581  0.52924173]\n",
      " [-0.06116551 -1.10218735  1.09632691]\n",
      " [-0.6530426  -1.73193345 -0.55416903]\n",
      " [-0.18411185  0.6022007  -1.97466435]\n",
      " [ 1.15823989  0.75672061  1.49186482]\n",
      " [-1.6844904  -1.62919952  1.02718984]\n",
      " [ 0.12598931 -1.38682054 -1.31591621]\n",
      " [ 1.98935871  1.02636501  0.78937174]\n",
      " [ 0.6988896  -1.31575487 -0.12463738]\n",
      " [ 1.03409591 -1.00033086 -0.25533279]\n",
      " [ 1.24258742 -0.31854658 -0.06978577]\n",
      " [ 0.86130015 -0.53732335 -1.10414572]\n",
      " [ 1.59822191  0.0373301  -1.39832877]\n",
      " [-1.5254236  -0.12196108 -1.57237667]\n",
      " [ 1.73590032  1.79395895 -0.85258861]\n",
      " [-1.48478821  1.42890661  0.17278001]\n",
      " [ 0.47952104  0.51224027  1.97013897]\n",
      " [-1.17432194  1.84685228  0.66597354]\n",
      " [-0.96687099 -0.73577179  0.33655868]\n",
      " [-0.46345667  0.31205539 -0.96541172]\n",
      " [-0.29589459  1.5220118   1.34462906]\n",
      " [ 1.4410053  -0.70019077 -1.75453581]\n",
      " [-1.35786289  0.17357954  1.6144547 ]]\n"
     ]
    }
   ],
   "source": [
    "#LHS Design in python - May switch code to use this instead for conciseness\n",
    "from scipy.stats import qmc\n",
    "sampler = qmc.LatinHypercube(d=3)\n",
    "sample = sampler.random(n=25)\n",
    "l_bounds =  [-2, -2,-2]\n",
    "u_bounds =  [2, 2,2]\n",
    "x = qmc.scale(sample, l_bounds, u_bounds)\n",
    "print(x)"
   ]
  },
  {
   "cell_type": "code",
   "execution_count": null,
   "id": "1623ad93",
   "metadata": {},
   "outputs": [],
   "source": []
  }
 ],
 "metadata": {
  "kernelspec": {
   "display_name": "Python 3 (ipykernel)",
   "language": "python",
   "name": "python3"
  },
  "language_info": {
   "codemirror_mode": {
    "name": "ipython",
    "version": 3
   },
   "file_extension": ".py",
   "mimetype": "text/x-python",
   "name": "python",
   "nbconvert_exporter": "python",
   "pygments_lexer": "ipython3",
   "version": "3.9.7"
  }
 },
 "nbformat": 4,
 "nbformat_minor": 5
}
